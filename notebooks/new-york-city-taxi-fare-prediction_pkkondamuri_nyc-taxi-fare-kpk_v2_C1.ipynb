{
 "cells": [
  {
   "cell_type": "code",
   "execution_count": null,
   "id": "ba8a9026",
   "metadata": {},
   "outputs": [],
   "source": [
    "import pandas as pd\n",
    "from pathlib import Path"
   ]
  },
  {
   "cell_type": "code",
   "execution_count": null,
   "id": "207d73d3",
   "metadata": {},
   "outputs": [],
   "source": [
    "# This Python 3 environment comes with many helpful analytics libraries installed\n",
    "# It is defined by the kaggle/python docker image: https://github.com/kaggle/docker-python\n",
    "# For example, here's several helpful packages to load in \n",
    "\n",
    "import numpy as np # linear algebra\n",
    "import pandas as pd # data processing, CSV file I/O (e.g. pd.read_csv)\n",
    "\n",
    "# Input data files are available in the \"../input/\" directory.\n",
    "# For example, running this (by clicking run or pressing Shift+Enter) will list the files in the input directory\n",
    "\n",
    "import os\n",
    "print(os.listdir(\"../input\"))\n",
    "\n",
    "# Any results you write to the current directory are saved as output.\n"
   ]
  },
  {
   "cell_type": "code",
   "execution_count": null,
   "id": "da73eda9",
   "metadata": {},
   "outputs": [],
   "source": [
    "taxidata = pd.read_csv(\"../input/train.csv\",nrows = 20_000_000)\n"
   ]
  },
  {
   "cell_type": "code",
   "execution_count": null,
   "id": "ce7cb996",
   "metadata": {},
   "outputs": [],
   "source": [
    "import matplotlib.pyplot as plt\n",
    "import seaborn as sns\n",
    "%matplotlib inline\n"
   ]
  },
  {
   "cell_type": "code",
   "execution_count": null,
   "id": "a97d899f",
   "metadata": {},
   "outputs": [],
   "source": [
    "taxidata.head()\n"
   ]
  },
  {
   "cell_type": "code",
   "execution_count": null,
   "id": "246f6dea",
   "metadata": {},
   "outputs": [],
   "source": [
    "taxidata.info()\n"
   ]
  },
  {
   "cell_type": "code",
   "execution_count": null,
   "id": "2f1f2cbf",
   "metadata": {},
   "outputs": [],
   "source": [
    "taxidata.describe()\n"
   ]
  },
  {
   "cell_type": "code",
   "execution_count": null,
   "id": "fa63a60a",
   "metadata": {},
   "outputs": [],
   "source": [
    "print(taxidata.isnull().sum())\n"
   ]
  },
  {
   "cell_type": "code",
   "execution_count": null,
   "id": "0431b7a5",
   "metadata": {},
   "outputs": [],
   "source": [
    "taxidata = taxidata.dropna()\n"
   ]
  },
  {
   "cell_type": "code",
   "execution_count": null,
   "id": "36e9cf85",
   "metadata": {},
   "outputs": [],
   "source": [
    "len(taxidata)\n"
   ]
  },
  {
   "cell_type": "code",
   "execution_count": null,
   "id": "3e163108",
   "metadata": {},
   "outputs": [],
   "source": [
    "taxidata['lat_diff'] = (taxidata['dropoff_latitude']-taxidata['pickup_latitude']).abs()\n",
    "taxidata['lon_diff'] = (taxidata['dropoff_longitude']-taxidata['pickup_longitude']).abs()\n"
   ]
  },
  {
   "cell_type": "code",
   "execution_count": null,
   "id": "130f76af",
   "metadata": {},
   "outputs": [],
   "source": [
    "#sum((taxidata['lon_diff']>5) & (taxidata['lat_diff']>5))\n",
    "plt.scatter(taxidata['lat_diff'][10000:20000],taxidata['lon_diff'][10000:20000])\n"
   ]
  },
  {
   "cell_type": "code",
   "execution_count": null,
   "id": "15a71ac6",
   "metadata": {},
   "outputs": [],
   "source": [
    "taxidata = taxidata[(taxidata['lat_diff'] < 5.0) & (taxidata['lon_diff'] < 5.0)]\n"
   ]
  },
  {
   "cell_type": "code",
   "execution_count": null,
   "id": "e13a10c6",
   "metadata": {},
   "outputs": [],
   "source": [
    "plt.hist(taxidata['passenger_count'][100000:200000],bins=20)\n"
   ]
  },
  {
   "cell_type": "code",
   "execution_count": null,
   "id": "eaf4232f",
   "metadata": {},
   "outputs": [],
   "source": [
    "sum(taxidata['passenger_count']>9)\n"
   ]
  },
  {
   "cell_type": "code",
   "execution_count": null,
   "id": "0e64a339",
   "metadata": {},
   "outputs": [],
   "source": [
    "print(len(taxidata))\n",
    "taxidata = taxidata[taxidata['passenger_count']<10]\n",
    "print(len(taxidata))\n"
   ]
  },
  {
   "cell_type": "code",
   "execution_count": null,
   "id": "024c7604",
   "metadata": {},
   "outputs": [],
   "source": [
    "sum(taxidata['fare_amount']>3000)\n"
   ]
  },
  {
   "cell_type": "code",
   "execution_count": null,
   "id": "83edc4c1",
   "metadata": {},
   "outputs": [],
   "source": [
    "taxidata = taxidata[taxidata['fare_amount']<1000]\n"
   ]
  },
  {
   "cell_type": "code",
   "execution_count": null,
   "id": "6aeabdde",
   "metadata": {},
   "outputs": [],
   "source": [
    "taxidata_X = taxidata[['lat_diff','lon_diff','passenger_count']]\n",
    "taxidata_y = taxidata['fare_amount']\n"
   ]
  },
  {
   "cell_type": "code",
   "execution_count": null,
   "id": "3fe9238c",
   "metadata": {},
   "outputs": [],
   "source": [
    "from sklearn.model_selection import train_test_split\n"
   ]
  },
  {
   "cell_type": "code",
   "execution_count": null,
   "id": "11d57188",
   "metadata": {},
   "outputs": [],
   "source": [
    "X_train, X_test, y_train, y_test = train_test_split(taxidata_X, taxidata_y, test_size=0.4)\n"
   ]
  },
  {
   "cell_type": "code",
   "execution_count": null,
   "id": "c21040f1",
   "metadata": {},
   "outputs": [],
   "source": [
    "from sklearn.linear_model import LinearRegression\n"
   ]
  },
  {
   "cell_type": "code",
   "execution_count": null,
   "id": "4732b4f0",
   "metadata": {},
   "outputs": [],
   "source": [
    "lm = LinearRegression()\n"
   ]
  },
  {
   "cell_type": "code",
   "execution_count": null,
   "id": "581b0dcf",
   "metadata": {},
   "outputs": [],
   "source": [
    "lm.fit(X_train,y_train)\n"
   ]
  },
  {
   "cell_type": "code",
   "execution_count": null,
   "id": "9174e728",
   "metadata": {},
   "outputs": [],
   "source": [
    "lm.intercept_\n"
   ]
  },
  {
   "cell_type": "code",
   "execution_count": null,
   "id": "eeb35b80",
   "metadata": {},
   "outputs": [],
   "source": [
    "lm.coef_\n"
   ]
  },
  {
   "cell_type": "code",
   "execution_count": null,
   "id": "93eb3273",
   "metadata": {},
   "outputs": [],
   "source": [
    "test_pred = lm.predict(X_test)\n"
   ]
  },
  {
   "cell_type": "code",
   "execution_count": null,
   "id": "2816744f",
   "metadata": {},
   "outputs": [],
   "source": [
    "sns.distplot(y_test-test_pred)\n"
   ]
  },
  {
   "cell_type": "code",
   "execution_count": null,
   "id": "21e5ac97",
   "metadata": {},
   "outputs": [],
   "source": [
    "plt.scatter(y_test,test_pred)\n"
   ]
  },
  {
   "cell_type": "code",
   "execution_count": null,
   "id": "5b65ca71",
   "metadata": {},
   "outputs": [],
   "source": [
    "from sklearn import metrics\n"
   ]
  },
  {
   "cell_type": "code",
   "execution_count": null,
   "id": "a271b151",
   "metadata": {},
   "outputs": [],
   "source": [
    "np.sqrt(metrics.mean_squared_error(y_test,test_pred))\n"
   ]
  },
  {
   "cell_type": "code",
   "execution_count": null,
   "id": "2e9e43d5",
   "metadata": {},
   "outputs": [],
   "source": [
    "taxifare_test = pd.read_csv(\"../input/test.csv\")\n"
   ]
  },
  {
   "cell_type": "code",
   "execution_count": null,
   "id": "2df4605d",
   "metadata": {},
   "outputs": [],
   "source": [
    "taxifare_test['lat_diff'] = (taxifare_test['dropoff_latitude']-taxifare_test['pickup_latitude']).abs()\n",
    "taxifare_test['lon_diff'] = (taxifare_test['dropoff_longitude']-taxifare_test['pickup_longitude']).abs()\n"
   ]
  },
  {
   "cell_type": "code",
   "execution_count": null,
   "id": "033dee98",
   "metadata": {},
   "outputs": [],
   "source": [
    "test_X = taxifare_test[['lat_diff','lon_diff','passenger_count']]\n"
   ]
  },
  {
   "cell_type": "code",
   "execution_count": null,
   "id": "b746496d",
   "metadata": {},
   "outputs": [],
   "source": [
    "predictions = lm.predict(test_X)\n"
   ]
  },
  {
   "cell_type": "code",
   "execution_count": null,
   "id": "a7ba92ea",
   "metadata": {},
   "outputs": [],
   "source": [
    "predictions.max()\n"
   ]
  },
  {
   "cell_type": "code",
   "execution_count": null,
   "id": "1d69e596",
   "metadata": {},
   "outputs": [],
   "source": [
    "submission = pd.DataFrame(\n",
    "    {'key': taxifare_test.key, 'fare_amount': predictions},\n",
    "    columns = ['key', 'fare_amount'])\n",
    "submission.to_csv('submission.csv', index = False)\n",
    "\n",
    "print(os.listdir('.'))\n"
   ]
  }
 ],
 "metadata": {},
 "nbformat": 4,
 "nbformat_minor": 5
}
