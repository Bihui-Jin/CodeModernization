{
  "cells": [
    {
      "cell_type": "code",
      "execution_count": null,
      "id": "05cbd037",
      "metadata": {},
      "outputs": [],
      "source": [
        "import pandas as pd\n",
        "from pathlib import Path"
      ]
    },
    {
      "cell_type": "code",
      "execution_count": null,
      "id": "5ccb07bf",
      "metadata": {},
      "outputs": [],
      "source": [
        "# This Python 3 environment comes with many helpful analytics libraries installed\n",
        "# It is defined by the kaggle/python docker image: https://github.com/kaggle/docker-python\n",
        "# For example, here's several helpful packages to load in \n",
        "\n",
        "import numpy as np # linear algebra\n",
        "import pandas as pd # data processing, CSV file I/O (e.g. pd.read_csv)\n",
        "from sklearn.feature_extraction.text import CountVectorizer\n",
        "from sklearn.naive_bayes import MultinomialNB\n",
        "from sklearn.preprocessing import LabelEncoder\n",
        "import string\n",
        "# Input data files are available in the \"../input/\" directory.\n",
        "# For example, running this (by clicking run or pressing Shift+Enter) will list the files in the input directory\n",
        "\n",
        "import os\n",
        "print(os.listdir(\"../input\"))\n",
        "\n",
        "# Any results you write to the current directory are saved as output.\n"
      ]
    },
    {
      "cell_type": "code",
      "execution_count": null,
      "id": "48563a1e",
      "metadata": {},
      "outputs": [],
      "source": [
        "#1. Load the data\n",
        "train = pd.read_csv('../input/train.csv')\n",
        "test = pd.read_csv('../input/test.csv')\n"
      ]
    },
    {
      "cell_type": "code",
      "execution_count": null,
      "id": "9635e989",
      "metadata": {},
      "outputs": [],
      "source": [
        "# 2. Remove punctiation & convert to lowercase:\n",
        "train['text_processed'] = train.text.str.replace('[{}]'.format(string.punctuation), '').str.lower()\n",
        "test['text_processed'] = test.text.str.replace('[{}]'.format(string.punctuation), '').str.lower()\n"
      ]
    },
    {
      "cell_type": "code",
      "execution_count": null,
      "id": "bc4a5337",
      "metadata": {},
      "outputs": [],
      "source": [
        "# 3. Words count vector:\n",
        "counter = CountVectorizer()\n",
        "counter.fit(train.text_processed)\n",
        "train_counts = counter.transform(train.text_processed)\n",
        "test_counts = counter.transform(test.text_processed)\n"
      ]
    },
    {
      "cell_type": "code",
      "execution_count": null,
      "id": "1d50ee09",
      "metadata": {},
      "outputs": [],
      "source": [
        "# 3. Change authors names' to numerical labels\n",
        "le = LabelEncoder()\n",
        "train_labels = le.fit_transform(train.author)\n",
        "list(le.classes_)\n"
      ]
    },
    {
      "cell_type": "code",
      "execution_count": null,
      "id": "1860ebc8",
      "metadata": {},
      "outputs": [],
      "source": [
        "# 4. Classify!\n",
        "classifier = MultinomialNB()\n",
        "classifier.fit(train_counts, train_labels)\n",
        "predictions = classifier.predict_proba(test_counts)\n"
      ]
    },
    {
      "cell_type": "code",
      "execution_count": null,
      "id": "4757f33a",
      "metadata": {},
      "outputs": [],
      "source": [
        "submission = pd.DataFrame(np.hstack((test.id.values.reshape(-1, 1), predictions)), columns=['id', 'EAP', 'HPL', 'MWS'])\n",
        "submission.to_csv('submission.csv',index=False)\n"
      ]
    }
  ],
  "metadata": {},
  "nbformat": 4,
  "nbformat_minor": 5
}