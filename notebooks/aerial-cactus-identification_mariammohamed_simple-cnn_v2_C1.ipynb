{
 "cells": [
  {
   "cell_type": "code",
   "execution_count": null,
   "id": "f7eacf4d",
   "metadata": {},
   "outputs": [],
   "source": [
    "import pandas as pd\n",
    "from pathlib import Path"
   ]
  },
  {
   "cell_type": "code",
   "execution_count": null,
   "id": "ce332af2",
   "metadata": {},
   "outputs": [],
   "source": [
    "# This Python 3 environment comes with many helpful analytics libraries installed\n",
    "# It is defined by the kaggle/python docker image: https://github.com/kaggle/docker-python\n",
    "# For example, here's several helpful packages to load in \n",
    "\n",
    "import numpy as np # linear algebra\n",
    "import pandas as pd # data processing, CSV file I/O (e.g. pd.read_csv)\n",
    "\n",
    "# Input data files are available in the \"../input/\" directory.\n",
    "# For example, running this (by clicking run or pressing Shift+Enter) will list the files in the input directory\n",
    "\n",
    "import os\n",
    "print(os.listdir(\"../input\"))\n",
    "\n",
    "# Any results you write to the current directory are saved as output.\n"
   ]
  },
  {
   "cell_type": "code",
   "execution_count": null,
   "id": "b3ef2647",
   "metadata": {},
   "outputs": [],
   "source": [
    "import numpy as np\n",
    "import pandas as pd\n",
    "import matplotlib.pyplot as plt\n",
    "import matplotlib.image as mpimg\n",
    "import glob\n",
    "\n",
    "import keras\n"
   ]
  },
  {
   "cell_type": "code",
   "execution_count": null,
   "id": "66b5e842",
   "metadata": {},
   "outputs": [],
   "source": [
    "train_data = pd.read_csv('../input/train.csv')\n"
   ]
  },
  {
   "cell_type": "code",
   "execution_count": null,
   "id": "46202929",
   "metadata": {},
   "outputs": [],
   "source": [
    "train_data.shape\n"
   ]
  },
  {
   "cell_type": "code",
   "execution_count": null,
   "id": "7d9d771c",
   "metadata": {},
   "outputs": [],
   "source": [
    "train_data.head()\n"
   ]
  },
  {
   "cell_type": "code",
   "execution_count": null,
   "id": "6478011f",
   "metadata": {},
   "outputs": [],
   "source": [
    "train_data.has_cactus.unique()\n"
   ]
  },
  {
   "cell_type": "code",
   "execution_count": null,
   "id": "a71a97f2",
   "metadata": {},
   "outputs": [],
   "source": [
    "train_data.has_cactus.hist()\n"
   ]
  },
  {
   "cell_type": "code",
   "execution_count": null,
   "id": "9113d29f",
   "metadata": {},
   "outputs": [],
   "source": [
    "train_data.has_cactus.value_counts()\n"
   ]
  },
  {
   "cell_type": "code",
   "execution_count": null,
   "id": "ce29b3bc",
   "metadata": {},
   "outputs": [],
   "source": [
    "train_data.has_cactus.plot()\n"
   ]
  },
  {
   "cell_type": "code",
   "execution_count": null,
   "id": "c6790594",
   "metadata": {},
   "outputs": [],
   "source": [
    "positive_examples = train_data[train_data.has_cactus==1]\n",
    "negative_examples = train_data[train_data.has_cactus==0]\n"
   ]
  },
  {
   "cell_type": "code",
   "execution_count": null,
   "id": "b56a63ee",
   "metadata": {},
   "outputs": [],
   "source": [
    "img = mpimg.imread('../input/train/train/' + positive_examples.id.tolist()[2])\n",
    "plt.imshow(img)\n"
   ]
  },
  {
   "cell_type": "code",
   "execution_count": null,
   "id": "5b6ffec2",
   "metadata": {},
   "outputs": [],
   "source": [
    "img = mpimg.imread('../input/train/train/' + negative_examples.id.tolist()[2])\n",
    "plt.imshow(img)\n"
   ]
  },
  {
   "cell_type": "code",
   "execution_count": null,
   "id": "ec4bd85b",
   "metadata": {},
   "outputs": [],
   "source": [
    "model = keras.models.Sequential()\n",
    "model.add(keras.layers.Conv2D(32, (5, 5), activation='relu', input_shape=(32, 32, 3)))\n",
    "model.add(keras.layers.Conv2D(32, (5, 5), activation='relu'))\n",
    "model.add(keras.layers.Conv2D(64, (5, 5), activation='relu'))\n",
    "model.add(keras.layers.Conv2D(64, (5, 5), activation='relu'))\n",
    "model.add(keras.layers.Conv2D(128, (3, 3), activation='relu'))\n",
    "model.add(keras.layers.Conv2D(128, (3, 3), activation='relu'))\n",
    "model.add(keras.layers.Conv2D(256, (3, 3), activation='relu'))\n",
    "model.add(keras.layers.Conv2D(256, (3, 3), activation='relu'))\n",
    "model.add(keras.layers.Flatten())\n",
    "model.add(keras.layers.Dense(100, activation='relu'))\n",
    "model.add(keras.layers.Dense(1, activation='sigmoid'))\n"
   ]
  },
  {
   "cell_type": "code",
   "execution_count": null,
   "id": "3ffe1147",
   "metadata": {},
   "outputs": [],
   "source": [
    "model.summary()\n"
   ]
  },
  {
   "cell_type": "code",
   "execution_count": null,
   "id": "7caace6d",
   "metadata": {},
   "outputs": [],
   "source": [
    "opt = keras.optimizers.Adam(0.0001)\n",
    "model.compile(optimizer=opt, loss='binary_crossentropy', metrics=['accuracy'])\n"
   ]
  },
  {
   "cell_type": "code",
   "execution_count": null,
   "id": "d221e176",
   "metadata": {},
   "outputs": [],
   "source": [
    "train_data.shape[0]\n"
   ]
  },
  {
   "cell_type": "code",
   "execution_count": null,
   "id": "2110a790",
   "metadata": {},
   "outputs": [],
   "source": [
    "# dataaug = keras.preprocessing.image.ImageDataGenerator()\n"
   ]
  },
  {
   "cell_type": "code",
   "execution_count": null,
   "id": "3bf78eed",
   "metadata": {},
   "outputs": [],
   "source": [
    "def image_generator(batch_size = 64, train=True):\n",
    "    while True:\n",
    "        if train:\n",
    "            indexes = np.arange(train_data[:15000].shape[0])\n",
    "        else:\n",
    "            indexes = np.arange(train_data[15000:].shape[0])\n",
    "        np.random.shuffle(indexes)\n",
    "        N = int(len(indexes) / batch_size)\n",
    "       \n",
    "\n",
    "        # Read in each input, perform preprocessing and get labels\n",
    "        for i in range(N):\n",
    "            current_indexes = indexes[i*batch_size: (i+1)*batch_size]\n",
    "            batch_input = []\n",
    "            batch_output = [] \n",
    "            for index in current_indexes:\n",
    "                img = mpimg.imread('../input/train/train/' + train_data.id[index])\n",
    "                batch_input += [(img-127)/127]\n",
    "                batch_output += [train_data.has_cactus[index]]\n",
    "            \n",
    "            batch_input = np.array( batch_input )\n",
    "            batch_output = np.array( batch_output )\n",
    "        \n",
    "            yield( batch_input, batch_output.reshape(-1, 1) )\n"
   ]
  },
  {
   "cell_type": "code",
   "execution_count": null,
   "id": "db86c15c",
   "metadata": {},
   "outputs": [],
   "source": [
    "model.fit_generator(image_generator(), steps_per_epoch= train_data.shape[0] / 64, epochs=20)\n"
   ]
  },
  {
   "cell_type": "code",
   "execution_count": null,
   "id": "31a76a6f",
   "metadata": {},
   "outputs": [],
   "source": [
    "model.evaluate_generator(image_generator(train=False), steps=train_data[15000:].shape[0] / 64)\n"
   ]
  },
  {
   "cell_type": "code",
   "execution_count": null,
   "id": "5931c32d",
   "metadata": {},
   "outputs": [],
   "source": [
    "!ls ../input/test/test/* | wc -l\n"
   ]
  },
  {
   "cell_type": "code",
   "execution_count": null,
   "id": "9a9c3283",
   "metadata": {},
   "outputs": [],
   "source": [
    "test_files = os.listdir('../input/test/test/')\n"
   ]
  },
  {
   "cell_type": "code",
   "execution_count": null,
   "id": "c8f909bc",
   "metadata": {},
   "outputs": [],
   "source": [
    "len(test_files)\n"
   ]
  },
  {
   "cell_type": "code",
   "execution_count": null,
   "id": "60c1640a",
   "metadata": {},
   "outputs": [],
   "source": [
    "batch = 40\n",
    "all_out = []\n",
    "for i in range(int(4000/batch)):\n",
    "    images = []\n",
    "    for j in range(batch):\n",
    "        img = mpimg.imread('../input/test/test/'+test_files[i*batch + j])\n",
    "        images += [img]\n",
    "    out = model.predict(np.array(images))\n",
    "    all_out += [out]\n"
   ]
  },
  {
   "cell_type": "code",
   "execution_count": null,
   "id": "e12aabd1",
   "metadata": {},
   "outputs": [],
   "source": [
    "all_out = np.array(all_out).reshape(-1, 1)\n"
   ]
  },
  {
   "cell_type": "code",
   "execution_count": null,
   "id": "67d95b3e",
   "metadata": {},
   "outputs": [],
   "source": [
    "all_out.shape\n"
   ]
  },
  {
   "cell_type": "code",
   "execution_count": null,
   "id": "74c5c878",
   "metadata": {},
   "outputs": [],
   "source": [
    "sub_file = pd.DataFrame(data = {'id': test_files, 'has_cactus': all_out.reshape(-1).tolist()})\n"
   ]
  },
  {
   "cell_type": "code",
   "execution_count": null,
   "id": "15041e70",
   "metadata": {},
   "outputs": [],
   "source": [
    "sub_file.head()\n"
   ]
  },
  {
   "cell_type": "code",
   "execution_count": null,
   "id": "16cf5fba",
   "metadata": {},
   "outputs": [],
   "source": [
    "sub_file.to_csv('sample_submission.csv', index=False)\n"
   ]
  }
 ],
 "metadata": {},
 "nbformat": 4,
 "nbformat_minor": 5
}
