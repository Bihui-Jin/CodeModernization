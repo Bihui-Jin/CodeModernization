{
  "cells": [
    {
      "cell_type": "code",
      "execution_count": null,
      "id": "52de2d13",
      "metadata": {},
      "outputs": [],
      "source": [
        "import pandas as pd\n",
        "from pathlib import Path"
      ]
    },
    {
      "cell_type": "code",
      "execution_count": null,
      "id": "3162e7cc",
      "metadata": {},
      "outputs": [],
      "source": [
        "from fastai.vision.all import *\n"
      ]
    },
    {
      "cell_type": "code",
      "execution_count": null,
      "id": "2f217a21",
      "metadata": {},
      "outputs": [],
      "source": [
        "labels = pd.read_csv(\"../input/dog-breed-identification/labels.csv\")\n",
        "labels\n"
      ]
    },
    {
      "cell_type": "code",
      "execution_count": null,
      "id": "39e6f574",
      "metadata": {},
      "outputs": [],
      "source": [
        "labels[\"fname\"] = labels[\"id\"].apply(lambda x: x + \".jpg\")\n",
        "path = \"../input/dog-breed-identification/train\"\n",
        "\n",
        "dls = ImageDataLoaders.from_df(labels, path, fn_col=2,\n",
        "                               item_tfms=Resize(224),\n",
        "                               batch_tfms=Normalize)\n"
      ]
    },
    {
      "cell_type": "code",
      "execution_count": null,
      "id": "3ae0df01",
      "metadata": {},
      "outputs": [],
      "source": [
        "dls.show_batch()\n"
      ]
    },
    {
      "cell_type": "code",
      "execution_count": null,
      "id": "95af19cc",
      "metadata": {},
      "outputs": [],
      "source": [
        "def log_loss(inputs, targ):\n",
        "    preds = torch.softmax(inputs, dim=1)\n",
        "    return -1.0 * preds.gather(1, targ.view(-1, 1)).log().mean()\n"
      ]
    },
    {
      "cell_type": "code",
      "execution_count": null,
      "id": "5b22c2a4",
      "metadata": {},
      "outputs": [],
      "source": [
        "learn = cnn_learner(dls, resnet50, loss_func=log_loss, path=\".\").to_fp16()\n"
      ]
    },
    {
      "cell_type": "code",
      "execution_count": null,
      "id": "3eda2e44",
      "metadata": {},
      "outputs": [],
      "source": [
        "learn.lr_find()\n"
      ]
    },
    {
      "cell_type": "code",
      "execution_count": null,
      "id": "6e2c9a61",
      "metadata": {},
      "outputs": [],
      "source": [
        "learn.fine_tune(5, 3e-3)\n"
      ]
    },
    {
      "cell_type": "code",
      "execution_count": null,
      "id": "062de85d",
      "metadata": {},
      "outputs": [],
      "source": [
        "dls2 = ImageDataLoaders.from_df(labels, path, fn_col=2,\n",
        "                               item_tfms=Resize(320),\n",
        "                               batch_tfms=[*aug_transforms(), Normalize])\n",
        "learn.dls = dls2\n"
      ]
    },
    {
      "cell_type": "code",
      "execution_count": null,
      "id": "c990226d",
      "metadata": {},
      "outputs": [],
      "source": [
        "learn.freeze()\n",
        "learn.lr_find()\n"
      ]
    },
    {
      "cell_type": "code",
      "execution_count": null,
      "id": "a69364d2",
      "metadata": {},
      "outputs": [],
      "source": [
        "learn.fine_tune(5, 1e-4)\n"
      ]
    },
    {
      "cell_type": "code",
      "execution_count": null,
      "id": "19c0efc4",
      "metadata": {},
      "outputs": [],
      "source": [
        "test_files = get_image_files(\"../input/dog-breed-identification/test\")\n",
        "test_dl = dls2.test_dl(test_files)\n"
      ]
    },
    {
      "cell_type": "code",
      "execution_count": null,
      "id": "8f572276",
      "metadata": {},
      "outputs": [],
      "source": [
        "preds, targs = learn.get_preds(dl=test_dl)\n"
      ]
    },
    {
      "cell_type": "code",
      "execution_count": null,
      "id": "5a4b1aa3",
      "metadata": {},
      "outputs": [],
      "source": [
        "preds = torch.softmax(preds, dim=1)\n",
        "sub = pd.DataFrame({\"id\":test_files.map(lambda x:x.stem)})\n",
        "sub[list(dls.vocab)] = preds\n",
        "sub.to_csv(\"submission.csv\", index=False)\n"
      ]
    },
    {
      "cell_type": "code",
      "execution_count": null,
      "id": "084c81cd",
      "metadata": {},
      "outputs": [],
      "source": [
        "sub\n"
      ]
    },
    {
      "cell_type": "code",
      "execution_count": null,
      "id": "50752a5b",
      "metadata": {},
      "outputs": [],
      "source": [
        " \n"
      ]
    }
  ],
  "metadata": {},
  "nbformat": 4,
  "nbformat_minor": 5
}