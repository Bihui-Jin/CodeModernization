{
 "cells": [
  {
   "cell_type": "code",
   "execution_count": null,
   "id": "23b0d0d1",
   "metadata": {},
   "outputs": [],
   "source": [
    "import pandas as pd\n",
    "from pathlib import Path"
   ]
  },
  {
   "cell_type": "code",
   "execution_count": null,
   "id": "7d30fc76",
   "metadata": {},
   "outputs": [],
   "source": [
    "import numpy as np \n",
    "import pandas as pd \n",
    "\n",
    "# PLOT\n",
    "import matplotlib.pyplot as plt\n",
    "import seaborn as sns\n",
    "%matplotlib inline\n",
    "\n",
    "from collections import OrderedDict\n",
    "\n",
    "# sklearn\n",
    "from sklearn.model_selection import train_test_split\n",
    "from sklearn.model_selection import StratifiedKFold\n",
    "from sklearn.preprocessing import LabelEncoder\n",
    "from sklearn.tree import DecisionTreeClassifier, plot_tree\n",
    "from sklearn.ensemble import GradientBoostingClassifier\n",
    "from sklearn.ensemble import HistGradientBoostingClassifier\n",
    "from sklearn.ensemble import ExtraTreesClassifier\n",
    "from sklearn.ensemble import RandomForestClassifier\n",
    "from sklearn.metrics import roc_auc_score, roc_curve, auc\n",
    "\n",
    "from xgboost import XGBClassifier\n",
    "import xgboost as xgb\n",
    "\n",
    "# Read file\n",
    "import os\n",
    "for dirname, _, filenames in os.walk('/kaggle/input'):\n",
    "    for filename in filenames:\n",
    "        print(os.path.join(dirname, filename))\n"
   ]
  },
  {
   "cell_type": "code",
   "execution_count": null,
   "id": "3924e85d",
   "metadata": {},
   "outputs": [],
   "source": [
    "train = pd.read_csv('/kaggle/input/tabular-playground-series-may-2022/train.csv')\n",
    "test = pd.read_csv('/kaggle/input/tabular-playground-series-may-2022/test.csv')\n"
   ]
  },
  {
   "cell_type": "code",
   "execution_count": null,
   "id": "f9dddbf2",
   "metadata": {},
   "outputs": [],
   "source": [
    "train.head().T\n"
   ]
  },
  {
   "cell_type": "code",
   "execution_count": null,
   "id": "933ff9cf",
   "metadata": {},
   "outputs": [],
   "source": [
    "def check(df):\n",
    "    col_list = df.columns.values\n",
    "    rows = []\n",
    "    for col in col_list:\n",
    "        tmp = (col,\n",
    "              df[col].dtype,\n",
    "              df[col].isnull().sum(),\n",
    "              df[col].count(),\n",
    "              df[col].nunique(),\n",
    "              df[col].unique())\n",
    "        rows.append(tmp)\n",
    "    df = pd.DataFrame(rows) \n",
    "    df.columns = ['feature','dtype','nan','count','nunique','unique']\n",
    "    return df\n"
   ]
  },
  {
   "cell_type": "code",
   "execution_count": null,
   "id": "9a095738",
   "metadata": {},
   "outputs": [],
   "source": [
    "check(train)\n"
   ]
  },
  {
   "cell_type": "code",
   "execution_count": null,
   "id": "4c9c5e67",
   "metadata": {},
   "outputs": [],
   "source": [
    "def color_negative_red(val):\n",
    "    color = 'red' if val < 0 else 'black'\n",
    "    return 'color: %s' % color\n"
   ]
  },
  {
   "cell_type": "code",
   "execution_count": null,
   "id": "b90af398",
   "metadata": {},
   "outputs": [],
   "source": [
    "cm = sns.light_palette('green', as_cmap = True)\n",
    "train.drop('id', axis = 1).describe().T.style.background_gradient(cmap = cm).applymap(color_negative_red)\n"
   ]
  },
  {
   "cell_type": "code",
   "execution_count": null,
   "id": "1c2ceedd",
   "metadata": {},
   "outputs": [],
   "source": [
    "test.head().T\n"
   ]
  },
  {
   "cell_type": "code",
   "execution_count": null,
   "id": "1774e41a",
   "metadata": {},
   "outputs": [],
   "source": [
    "check(test)\n"
   ]
  },
  {
   "cell_type": "code",
   "execution_count": null,
   "id": "b81ca46a",
   "metadata": {},
   "outputs": [],
   "source": [
    "test.drop('id', axis = 1).describe().T.style.background_gradient(cmap = cm).applymap(color_negative_red)\n"
   ]
  },
  {
   "cell_type": "code",
   "execution_count": null,
   "id": "1600f928",
   "metadata": {},
   "outputs": [],
   "source": [
    "target_count = train['target'].value_counts()\n",
    "target_count\n"
   ]
  },
  {
   "cell_type": "code",
   "execution_count": null,
   "id": "3148b40b",
   "metadata": {},
   "outputs": [],
   "source": [
    "train['target'].describe()\n"
   ]
  },
  {
   "cell_type": "code",
   "execution_count": null,
   "id": "e227a015",
   "metadata": {},
   "outputs": [],
   "source": [
    "sns.set('talk', 'dark','spring_r')\n",
    "\n",
    "fig,axs = plt.subplots(ncols = 2, )\n",
    "\n",
    "sns.countplot(x=train['target'], data=train, ax = axs[0])\n",
    "\n",
    "labels = ['1','0']\n",
    "plt.pie(target_count, labels = labels, autopct = '%.0f%%')\n",
    "\n",
    "plt.show()\n"
   ]
  },
  {
   "cell_type": "code",
   "execution_count": null,
   "id": "ea01ab0e",
   "metadata": {},
   "outputs": [],
   "source": [
    "train['f_27'].value_counts()\n"
   ]
  },
  {
   "cell_type": "code",
   "execution_count": null,
   "id": "e223aab4",
   "metadata": {},
   "outputs": [],
   "source": [
    "test['f_27'].value_counts()\n"
   ]
  },
  {
   "cell_type": "code",
   "execution_count": null,
   "id": "918b4cc8",
   "metadata": {},
   "outputs": [],
   "source": [
    "from collections import OrderedDict\n",
    "\n",
    "def encord(input):\n",
    "    dict = OrderedDict.fromkeys(input,0)\n",
    "        \n",
    "    for ch in input:\n",
    "        dict[ch] += 1\n",
    "        \n",
    "    output = ''\n",
    "    for k, v in dict.items():\n",
    "        output = output + k + str(v)\n",
    "    return output\n",
    "        \n"
   ]
  },
  {
   "cell_type": "code",
   "execution_count": null,
   "id": "7cb0cf59",
   "metadata": {},
   "outputs": [],
   "source": [
    "f_27_en=[]\n",
    "for i in range(len(train['f_27'])):\n",
    "    a = train['f_27'][i]\n",
    "    st = encord(a)\n",
    "    f_27_en.append(st)\n",
    "    \n",
    "train['f_27_en'] = f_27_en\n",
    "train['f_27_en'].value_counts() \n"
   ]
  },
  {
   "cell_type": "code",
   "execution_count": null,
   "id": "8d1ceb0a",
   "metadata": {},
   "outputs": [],
   "source": [
    "f_27_ent=[]\n",
    "for i in range(len(test['f_27'])):\n",
    "    a = test['f_27'][i]\n",
    "    st = encord(a)\n",
    "    f_27_ent.append(st)\n",
    "    \n",
    "test['f_27_ent'] = f_27_ent\n",
    "test['f_27_ent'].value_counts() \n"
   ]
  },
  {
   "cell_type": "code",
   "execution_count": null,
   "id": "e357c9e3",
   "metadata": {},
   "outputs": [],
   "source": [
    "label = LabelEncoder()\n",
    "\n",
    "en_27 = pd.DataFrame(label.fit_transform(train['f_27']))\n",
    "train['en_27'] = en_27\n",
    "\n",
    "enc_27 = pd.DataFrame(label.fit_transform(train['f_27_en']))\n",
    "train['f_27_enc'] = enc_27\n",
    "\n",
    "enct_27 = pd.DataFrame(label.fit_transform(test['f_27_ent']))\n",
    "test['f_27_enc'] = enct_27\n",
    "\n",
    "display(train['en_27'].head(10))\n",
    "display(train['f_27_enc'].head(10))\n",
    "display(test['f_27_enc'].head(10))\n"
   ]
  },
  {
   "cell_type": "code",
   "execution_count": null,
   "id": "0727d6f9",
   "metadata": {},
   "outputs": [],
   "source": [
    "train.head().T\n"
   ]
  },
  {
   "cell_type": "code",
   "execution_count": null,
   "id": "95425a51",
   "metadata": {},
   "outputs": [],
   "source": [
    "test.head().T\n"
   ]
  },
  {
   "cell_type": "code",
   "execution_count": null,
   "id": "15690123",
   "metadata": {},
   "outputs": [],
   "source": [
    "clf = DecisionTreeClassifier(max_depth=2)\n",
    "clf.fit( train[[\"f_26\"]], train[\"target\"])\n",
    "_, ax = plt.subplots(figsize=(20, 10))\n",
    "\n",
    "plot_tree(\n",
    "    clf,\n",
    "    feature_names=[\"f_26\"],\n",
    "    class_names=train[\"target\"].unique().astype(str),\n",
    "    filled=True,\n",
    "    ax=ax,\n",
    "    fontsize=15,\n",
    "    rounded =  True,\n",
    ")\n",
    "\n",
    "plt.show()\n"
   ]
  },
  {
   "cell_type": "code",
   "execution_count": null,
   "id": "289ee5d3",
   "metadata": {},
   "outputs": [],
   "source": [
    "lf = DecisionTreeClassifier(max_depth=5)\n",
    "clf.fit( train[[\"f_28\"]], train[\"target\"])\n",
    "_, ax = plt.subplots(figsize=(20, 10))\n",
    "\n",
    "plot_tree(\n",
    "    clf,\n",
    "    feature_names=[\"f_28\"],\n",
    "    class_names=train[\"target\"].unique().astype(str),\n",
    "    filled=True,\n",
    "    ax=ax,\n",
    "    fontsize=15,\n",
    "    rounded = True\n",
    ")\n",
    "\n",
    "plt.show()\n"
   ]
  },
  {
   "cell_type": "code",
   "execution_count": null,
   "id": "ea7bb433",
   "metadata": {},
   "outputs": [],
   "source": [
    "lf = DecisionTreeClassifier(max_depth=3)\n",
    "clf.fit( train[[\"f_29\"]], train[\"target\"])\n",
    "_, ax = plt.subplots(figsize=(20, 10))\n",
    "\n",
    "plot_tree(\n",
    "    clf,\n",
    "    feature_names=[\"f_29\"],\n",
    "    class_names=train[\"target\"].unique().astype(str),\n",
    "    filled=True,\n",
    "    ax=ax,\n",
    "    fontsize=15,\n",
    "    rounded = True\n",
    ")\n",
    "\n",
    "plt.show()\n"
   ]
  },
  {
   "cell_type": "code",
   "execution_count": null,
   "id": "a2d75cfa",
   "metadata": {},
   "outputs": [],
   "source": [
    "lf = DecisionTreeClassifier(max_depth=3)\n",
    "clf.fit( train[[\"f_30\"]], train[\"target\"])\n",
    "_, ax = plt.subplots(figsize=(20, 10))\n",
    "\n",
    "plot_tree(\n",
    "    clf,\n",
    "    feature_names=[\"f_30\"],\n",
    "    class_names=train[\"target\"].unique().astype(str),\n",
    "    filled=True,\n",
    "    ax=ax,\n",
    "    fontsize=15,\n",
    "    rounded = True\n",
    ")\n",
    "\n",
    "plt.show()\n"
   ]
  },
  {
   "cell_type": "code",
   "execution_count": null,
   "id": "6d347f0d",
   "metadata": {},
   "outputs": [],
   "source": [
    "#Memory reduce\n",
    "for col in train.columns:\n",
    "    if train[col].dtype == \"float64\":\n",
    "        train[col]=pd.to_numeric(train[col], downcast=\"float\")\n",
    "    if train[col].dtype == \"int64\":\n",
    "        train[col]=pd.to_numeric(train[col], downcast=\"integer\")\n",
    "        \n",
    "for col in test.columns:\n",
    "    if test[col].dtype == \"float64\":\n",
    "        test[col]=pd.to_numeric(test[col], downcast=\"float\")\n",
    "    if test[col].dtype == \"int64\":\n",
    "        test[col]=pd.to_numeric(test[col], downcast=\"integer\")\n"
   ]
  },
  {
   "cell_type": "code",
   "execution_count": null,
   "id": "55e7f095",
   "metadata": {},
   "outputs": [],
   "source": [
    "train.info(),test.info()\n"
   ]
  },
  {
   "cell_type": "code",
   "execution_count": null,
   "id": "8d6cbce3",
   "metadata": {},
   "outputs": [],
   "source": [
    "X = train.drop(['id','target','f_27','en_27','f_27_en'], axis = 1).copy()\n",
    "\n",
    "y = train['target'].copy()\n",
    "X_test = test.drop(['id','f_27','f_27_ent' ], axis = 1).copy()\n",
    "\n",
    "del train\n",
    "del test\n"
   ]
  },
  {
   "cell_type": "code",
   "execution_count": null,
   "id": "1d882adc",
   "metadata": {},
   "outputs": [],
   "source": [
    "params = {'tree_method':'gpu_hist',\n",
    "          'n_estimators': 10000,\n",
    "          'colsample_bytree': 0.5, \n",
    "          'subsample': 0.5, \n",
    "          'learning_rate': 0.02, \n",
    "          'max_depth': 6, \n",
    "         }\n"
   ]
  },
  {
   "cell_type": "code",
   "execution_count": null,
   "id": "979c696c",
   "metadata": {},
   "outputs": [],
   "source": [
    "splits = 5\n",
    "seed = 42\n",
    "skf = StratifiedKFold(n_splits = splits, shuffle=True, random_state=seed)\n",
    "\n",
    "preds = []\n",
    "scores = []\n",
    "\n",
    "for fold, (idx_train, idx_valid) in enumerate(skf.split(X, y)):\n",
    "    X_train, y_train = X.iloc[idx_train], y.iloc[idx_train]\n",
    "    X_valid, y_valid = X.iloc[idx_valid], y.iloc[idx_valid]\n",
    "\n",
    "    model = XGBClassifier(**params,\n",
    "                            booster= 'gbtree',\n",
    "                            eval_metric = 'auc',\n",
    "                            gpu_id=0,\n",
    "                            predictor=\"gpu_predictor\",\n",
    "                            use_label_encoder=False)\n",
    "    \n",
    "    model.fit(X_train,y_train,\n",
    "              eval_set=[(X_valid,y_valid)],\n",
    "              early_stopping_rounds=100,\n",
    "              verbose=False)\n",
    "    \n",
    "    pred_valid = model.predict_proba(X_valid)[:,1]\n",
    "    fpr, tpr, _ = roc_curve(y_valid, pred_valid)\n",
    "    score = auc(fpr, tpr)\n",
    "    scores.append(score)\n",
    "\n",
    "    test_preds = model.predict_proba(X_test)[:,1]\n",
    "    preds.append(test_preds)\n",
    "    \n",
    "    print(\"fold : \", fold , \"score : \", score)\n"
   ]
  },
  {
   "cell_type": "code",
   "execution_count": null,
   "id": "010488c9",
   "metadata": {},
   "outputs": [],
   "source": [
    "print(scores)\n"
   ]
  },
  {
   "cell_type": "code",
   "execution_count": null,
   "id": "899f14bf",
   "metadata": {},
   "outputs": [],
   "source": [
    "#seed = 42\n",
    "\n",
    "#X_train, X_valid, y_train, y_valid = train_test_split(X,y)\n",
    "    \n",
    "#model = RandomForestClassifier(random_state = seed)\n",
    "    \n",
    "#model.fit(X_train,y_train)\n",
    "            \n",
    "#pred_valid = model.predict_proba(X_valid)[:,1]\n",
    "#fpr, tpr, _ = roc_curve(y_valid, pred_valid)\n",
    "#score = auc(fpr, tpr) \n",
    "\n",
    "#test_preds = model.predict_proba(X_test)[:,1]\n",
    "\n",
    "#print(score)\n"
   ]
  },
  {
   "cell_type": "code",
   "execution_count": null,
   "id": "cb54d51a",
   "metadata": {},
   "outputs": [],
   "source": [
    "sub = pd.read_csv('/kaggle/input/tabular-playground-series-may-2022/sample_submission.csv')\n"
   ]
  },
  {
   "cell_type": "code",
   "execution_count": null,
   "id": "e71840e0",
   "metadata": {},
   "outputs": [],
   "source": [
    "sub['target'] = test_preds\n",
    "sub.to_csv('submission.csv', index = False)\n",
    "sub.head()  \n"
   ]
  }
 ],
 "metadata": {},
 "nbformat": 4,
 "nbformat_minor": 5
}
