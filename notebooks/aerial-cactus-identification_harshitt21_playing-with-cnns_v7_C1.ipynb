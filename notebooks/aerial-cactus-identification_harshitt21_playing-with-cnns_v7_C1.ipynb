{
 "cells": [
  {
   "cell_type": "code",
   "execution_count": null,
   "id": "fca7e32b",
   "metadata": {},
   "outputs": [],
   "source": [
    "import pandas as pd\n",
    "from pathlib import Path"
   ]
  },
  {
   "cell_type": "code",
   "execution_count": null,
   "id": "b7717abf",
   "metadata": {},
   "outputs": [],
   "source": [
    "import numpy as np # linear algebra\n",
    "import pandas as pd # data processing, CSV file I/O (e.g. pd.read_csv)\n",
    "import matplotlib.pyplot as plt\n",
    "import os\n",
    "import random\n",
    "import json\n",
    "import cv2\n",
    "import warnings\n",
    "warnings.filterwarnings('ignore')\n",
    "\n",
    "from PIL import Image\n",
    "from keras.applications.vgg16 import VGG16 \n",
    "from keras.preprocessing import image\n",
    "from keras.models import Sequential,Model\n",
    "from keras.optimizers import Adam,SGD\n",
    "from keras.layers import Dense, Flatten, GlobalAveragePooling2D, Conv2D, Input, Dropout\n",
    "from keras.utils import np_utils\n",
    "from keras import backend as K\n"
   ]
  },
  {
   "cell_type": "code",
   "execution_count": null,
   "id": "cd823d3f",
   "metadata": {},
   "outputs": [],
   "source": [
    "path = '../input/aerial-cactus-identification/'\n",
    "train = pd.read_csv(path + 'train.csv')\n",
    "sample_sub = pd.read_csv(path + 'sample_submission.csv')\n"
   ]
  },
  {
   "cell_type": "code",
   "execution_count": null,
   "id": "e859f418",
   "metadata": {},
   "outputs": [],
   "source": [
    "train.head()\n"
   ]
  },
  {
   "cell_type": "code",
   "execution_count": null,
   "id": "80052330",
   "metadata": {},
   "outputs": [],
   "source": [
    "train['has_cactus'].value_counts().plot(kind='bar')\n"
   ]
  },
  {
   "cell_type": "code",
   "execution_count": null,
   "id": "ca182b6a",
   "metadata": {},
   "outputs": [],
   "source": [
    "plt.subplots(figsize=(10,10))\n",
    "for i in range(5):\n",
    "    img_name = train['id'][i]\n",
    "    img = Image.open(path + 'train/train/' + img_name)\n",
    "    plt.imshow(np.asarray(img))\n",
    "    plt.show()\n"
   ]
  },
  {
   "cell_type": "code",
   "execution_count": null,
   "id": "cca3f303",
   "metadata": {},
   "outputs": [],
   "source": [
    "images = []\n",
    "labels = []\n",
    "for i in os.listdir(path + 'train/train/'):\n",
    "    img = image.load_img(path + 'train/train/' + i, target_size=(32,32))\n",
    "    img = image.img_to_array(img)\n",
    "    labels.append(train[train['id'] == i]['has_cactus'].values[0])\n",
    "    images.append(img)\n"
   ]
  },
  {
   "cell_type": "code",
   "execution_count": null,
   "id": "55f5a341",
   "metadata": {},
   "outputs": [],
   "source": [
    "combined = list(zip(images,labels))\n",
    "random.shuffle(combined)\n",
    "images[:],labels[:] = zip(*combined) \n"
   ]
  },
  {
   "cell_type": "code",
   "execution_count": null,
   "id": "eea5172f",
   "metadata": {},
   "outputs": [],
   "source": [
    "X_train = np.asarray(images)\n",
    "X_train = X_train.astype('float32')\n",
    "X_train /= 255\n",
    "y_train = np.array(labels)\n"
   ]
  },
  {
   "cell_type": "code",
   "execution_count": null,
   "id": "34edeec2",
   "metadata": {},
   "outputs": [],
   "source": [
    "vgg16 = VGG16(include_top=False, weights='imagenet', input_shape=(32,32,3))\n"
   ]
  },
  {
   "cell_type": "code",
   "execution_count": null,
   "id": "505bb089",
   "metadata": {},
   "outputs": [],
   "source": [
    "vgg16.summary()\n"
   ]
  },
  {
   "cell_type": "code",
   "execution_count": null,
   "id": "64282b09",
   "metadata": {},
   "outputs": [],
   "source": [
    "avg = Flatten()(vgg16.output)\n",
    "fc1 = Dense(256, activation='relu')(avg)\n",
    "fc = Dropout(0.5)(fc1)\n",
    "fc2 = Dense(1, activation='sigmoid')(fc)\n",
    "\n",
    "model = Model(inputs=vgg16.inputs, outputs=fc2)\n",
    "model.summary()\n"
   ]
  },
  {
   "cell_type": "code",
   "execution_count": null,
   "id": "59198215",
   "metadata": {},
   "outputs": [],
   "source": [
    "for i in model.layers:\n",
    "    print(i)\n"
   ]
  },
  {
   "cell_type": "code",
   "execution_count": null,
   "id": "85718d31",
   "metadata": {},
   "outputs": [],
   "source": [
    "for i in range(15):\n",
    "    model.layers[i].trainable = False\n"
   ]
  },
  {
   "cell_type": "code",
   "execution_count": null,
   "id": "27dbfbe2",
   "metadata": {},
   "outputs": [],
   "source": [
    "model.compile(loss='binary_crossentropy', optimizer=Adam(lr=1e-5), metrics=['accuracy'])\n"
   ]
  },
  {
   "cell_type": "code",
   "execution_count": null,
   "id": "3a43b585",
   "metadata": {},
   "outputs": [],
   "source": [
    "hist = model.fit(X_train,y_train,shuffle=True, validation_split=0.1, batch_size=32, epochs=25,verbose=1)\n"
   ]
  },
  {
   "cell_type": "code",
   "execution_count": null,
   "id": "a9a2e674",
   "metadata": {},
   "outputs": [],
   "source": [
    "plt.figure(0)\n",
    "plt.plot(hist.history['acc'],'r')\n",
    "plt.plot(hist.history['val_acc'],'b')\n",
    "\n",
    "plt.figure(1)\n",
    "plt.plot(hist.history['loss'],'r')\n",
    "plt.plot(hist.history['val_loss'],'b')\n",
    "\n",
    "plt.show()\n"
   ]
  },
  {
   "cell_type": "code",
   "execution_count": null,
   "id": "2044636b",
   "metadata": {},
   "outputs": [],
   "source": [
    "test_images_ids = []\n",
    "test_images = []\n",
    "for i in os.listdir(path + 'test/test/'):\n",
    "    img = image.load_img(path + 'test/test/' + i)\n",
    "    img = image.img_to_array(img)\n",
    "    test_images.append(img)\n",
    "    test_images_ids.append(i)\n"
   ]
  },
  {
   "cell_type": "code",
   "execution_count": null,
   "id": "c5a2eea8",
   "metadata": {},
   "outputs": [],
   "source": [
    "X_test = np.asarray(test_images)\n",
    "X_test = X_test.astype('float32')\n",
    "X_test /= 255\n"
   ]
  },
  {
   "cell_type": "code",
   "execution_count": null,
   "id": "a141773a",
   "metadata": {},
   "outputs": [],
   "source": [
    "predictions = model.predict(X_test)\n"
   ]
  },
  {
   "cell_type": "code",
   "execution_count": null,
   "id": "4f7147db",
   "metadata": {},
   "outputs": [],
   "source": [
    "predictions[:5]\n"
   ]
  },
  {
   "cell_type": "code",
   "execution_count": null,
   "id": "42f92d24",
   "metadata": {},
   "outputs": [],
   "source": [
    "submit = pd.DataFrame(predictions, columns=['has_cactus'])\n"
   ]
  },
  {
   "cell_type": "code",
   "execution_count": null,
   "id": "21410121",
   "metadata": {},
   "outputs": [],
   "source": [
    "submit['id'] = test_images_ids\n",
    "submit['has_cactus'] = submit['has_cactus'].apply(lambda x: 1 if x > 0.75 else 0)\n",
    "submit.to_csv('submission.csv', index=False)\n"
   ]
  }
 ],
 "metadata": {},
 "nbformat": 4,
 "nbformat_minor": 5
}
