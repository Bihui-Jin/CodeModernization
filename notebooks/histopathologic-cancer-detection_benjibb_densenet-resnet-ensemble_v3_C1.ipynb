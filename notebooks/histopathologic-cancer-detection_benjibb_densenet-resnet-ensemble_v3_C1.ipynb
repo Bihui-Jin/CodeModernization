{
 "cells": [
  {
   "cell_type": "code",
   "execution_count": null,
   "id": "3a0641ff",
   "metadata": {},
   "outputs": [],
   "source": [
    "import pandas as pd\n",
    "from pathlib import Path"
   ]
  },
  {
   "cell_type": "code",
   "execution_count": null,
   "id": "c0698dba",
   "metadata": {},
   "outputs": [],
   "source": [
    "from fastai.tabular import *\n",
    "from fastai.callbacks import ReduceLROnPlateauCallback, EarlyStoppingCallback, SaveModelCallback\n",
    "from sklearn.metrics import roc_auc_score\n",
    "import gc\n"
   ]
  },
  {
   "cell_type": "code",
   "execution_count": null,
   "id": "01fa3fc6",
   "metadata": {},
   "outputs": [],
   "source": [
    "dense161 = pd.read_csv(\"../input/cancer-densenet161-v2-for-ensemble/validation_0.976066529750824.csv\")\n",
    "dense161_test = pd.read_csv(\"../input/cancer-densenet161-v2-for-ensemble/submission_0.976066529750824.csv\")\n"
   ]
  },
  {
   "cell_type": "code",
   "execution_count": null,
   "id": "8bc78c84",
   "metadata": {},
   "outputs": [],
   "source": [
    "dense201 = pd.read_csv(\"../input/cancer-densenet201-v2-for-ensemble/validation_0.9749373197555542.csv\")\n",
    "dense201_test = pd.read_csv(\"../input/cancer-densenet201-v2-for-ensemble/submission_0.9749373197555542.csv\")\n"
   ]
  },
  {
   "cell_type": "code",
   "execution_count": null,
   "id": "a96458c4",
   "metadata": {},
   "outputs": [],
   "source": [
    "res50 = pd.read_csv(\"../input/cancer-resnet50-v2-for-ensemble/validation_0.9727705717086792.csv\")\n",
    "res50_test = pd.read_csv(\"../input/cancer-resnet50-v2-for-ensemble/submission_0.9727705717086792.csv\")\n"
   ]
  },
  {
   "cell_type": "code",
   "execution_count": null,
   "id": "8300bbf6",
   "metadata": {},
   "outputs": [],
   "source": [
    "#trydf = pd.DataFrame({'dense161':dense161.ground_truth_label, \n",
    "#                      'dense201':dense201.ground_truth_label, \n",
    "#                      'res50':res50.ground_truth_label})\n",
    "#trydf['1and2'] = trydf.dense161==trydf.dense201\n",
    "#trydf['2and3'] = trydf.res50==trydf.dense201\n",
    "#trydf['1and2'].nunique() == 1\n",
    "#trydf['2and3'].nunique() == 1\n"
   ]
  },
  {
   "cell_type": "code",
   "execution_count": null,
   "id": "a326fa5f",
   "metadata": {},
   "outputs": [],
   "source": [
    "def softmax_df(df, model_name, test=False):\n",
    "    if test:\n",
    "            df[model_name+'_0'] = np.exp(df['pred_0'])\n",
    "            df[model_name+'_1'] = np.exp(df['pred_1'])\n",
    "    else:\n",
    "        df[model_name+'_0'] = np.exp(df['val_0'])\n",
    "        df[model_name+'_1'] = np.exp(df['val_1'])\n",
    "    df[model_name+'sum'] = df[model_name+'_0'] + df[model_name+'_1']\n",
    "    df[model_name+'softmax'] = df[model_name+'_1'] / df[model_name+'sum']\n",
    "    return df[model_name+'softmax']\n"
   ]
  },
  {
   "cell_type": "code",
   "execution_count": null,
   "id": "dfd1e894",
   "metadata": {},
   "outputs": [],
   "source": [
    "#dense161_sm = softmax_df(dense161, 'dense161')\n",
    "#dense201_sm = softmax_df(dense201, 'dense201')\n",
    "#res50_sm = softmax_df(res50, 'res50')\n",
    "#dense161_sm_test = softmax_df(dense161_test, 'dense161_test', True)\n",
    "#dense201_sm_test = softmax_df(dense201_test, 'dense201_test', True)\n",
    "#res50_sm_test = softmax_df(res50_test, 'res50_test', True)\n",
    "#train = pd.DataFrame({'dense161_sm':dense161_sm, \"dense201_sm\":dense201_sm, \"res50_sm\":res50_sm, \"y\":dense161.ground_truth_label})\n",
    "#test = pd.DataFrame({'dense161_sm':dense161_sm_test, \"dense201_sm\":dense201_sm_test, \"res50_sm\":res50_sm_test})\n",
    "#test.y=0\n"
   ]
  },
  {
   "cell_type": "code",
   "execution_count": null,
   "id": "da9e29bc",
   "metadata": {},
   "outputs": [],
   "source": [
    "dense161.head()\n"
   ]
  },
  {
   "cell_type": "code",
   "execution_count": null,
   "id": "753bee3c",
   "metadata": {},
   "outputs": [],
   "source": [
    "train = pd.DataFrame({'dense161_0':dense161.val_0, 'dense161_1':dense161.val_1, \n",
    "                      'dense201_0':dense201.val_0, 'dense201_1':dense201.val_1,\n",
    "                      'res50_0':res50.val_0, 'res50_1':res50.val_1,\n",
    "                      \"y\":dense161.ground_truth_label})\n",
    "test = pd.DataFrame({'dense161_0':dense161_test.pred_0, 'dense161_1':dense161_test.pred_1, \n",
    "                      'dense201_0':dense201_test.pred_0, 'dense201_1':dense201_test.pred_1,\n",
    "                      'res50_0':res50_test.pred_0, 'res50_1':res50_test.pred_1})\n",
    "test.y=0\n"
   ]
  },
  {
   "cell_type": "code",
   "execution_count": null,
   "id": "d93bf86b",
   "metadata": {},
   "outputs": [],
   "source": [
    "dep_var = 'y'\n",
    "#cont_names = ['dense161_sm','dense201_sm', 'res50_sm']\n",
    "cont_names = ['dense161_0', 'dense161_1', 'dense201_0', 'dense201_1', 'res50_0','res50_1']\n",
    "\n",
    "data = (TabularList.from_df(train, cont_names=cont_names)\n",
    "            .split_by_rand_pct(seed=47)\n",
    "            .label_from_df(cols=dep_var)\n",
    "            .add_test(TabularList.from_df(test, cont_names=cont_names))\n",
    "            .databunch())\n"
   ]
  },
  {
   "cell_type": "code",
   "execution_count": null,
   "id": "621f40a9",
   "metadata": {},
   "outputs": [],
   "source": [
    "def roc_score(inp, target):\n",
    "    _, indices = inp.max(1)\n",
    "    return torch.Tensor([roc_auc_score(target, indices)])[0]\n"
   ]
  },
  {
   "cell_type": "code",
   "execution_count": null,
   "id": "9433b8a4",
   "metadata": {},
   "outputs": [],
   "source": [
    "learn = tabular_learner(data, layers=[10, 10, 10], metrics=[accuracy, roc_score],  ps=0.5, wd=1e-1, model_dir='./').to_fp16()\n"
   ]
  },
  {
   "cell_type": "code",
   "execution_count": null,
   "id": "1ad4097f",
   "metadata": {},
   "outputs": [],
   "source": [
    "#learn.lr_find()\n"
   ]
  },
  {
   "cell_type": "code",
   "execution_count": null,
   "id": "b6c8b90a",
   "metadata": {},
   "outputs": [],
   "source": [
    "#learn.recorder.plot()\n"
   ]
  },
  {
   "cell_type": "code",
   "execution_count": null,
   "id": "733e4fd2",
   "metadata": {},
   "outputs": [],
   "source": [
    "from fastai.callbacks import ReduceLROnPlateauCallback, EarlyStoppingCallback, SaveModelCallback\n",
    "ES = EarlyStoppingCallback(learn, monitor='roc_score',patience = 5)\n",
    "RLR = ReduceLROnPlateauCallback(learn, monitor='roc_score',patience = 2)\n",
    "SAVEML = SaveModelCallback(learn, every='improvement', monitor='roc_score', name='best')\n",
    "learn.fit_one_cycle(20, 1e-3, callbacks = [ES, RLR, SAVEML])\n"
   ]
  },
  {
   "cell_type": "code",
   "execution_count": null,
   "id": "58342d51",
   "metadata": {},
   "outputs": [],
   "source": [
    "learn.load('best')\n"
   ]
  },
  {
   "cell_type": "code",
   "execution_count": null,
   "id": "15307bd7",
   "metadata": {},
   "outputs": [],
   "source": [
    "preds, _ = learn.get_preds(DatasetType.Test)\n",
    "preds = torch.softmax(preds, dim=1)[:, 1].numpy()\n"
   ]
  },
  {
   "cell_type": "code",
   "execution_count": null,
   "id": "1622569a",
   "metadata": {},
   "outputs": [],
   "source": [
    "auc_val = learn.validate()[2].item()\n",
    "auc_val\n"
   ]
  },
  {
   "cell_type": "code",
   "execution_count": null,
   "id": "c88c8d9c",
   "metadata": {},
   "outputs": [],
   "source": [
    "sub = pd.read_csv(\"../input/histopathologic-cancer-detection/sample_submission.csv\")\n",
    "sub.head()\n"
   ]
  },
  {
   "cell_type": "code",
   "execution_count": null,
   "id": "3748af24",
   "metadata": {},
   "outputs": [],
   "source": [
    "sub['label'] = preds\n"
   ]
  },
  {
   "cell_type": "code",
   "execution_count": null,
   "id": "45ee229b",
   "metadata": {},
   "outputs": [],
   "source": [
    "sub.to_csv(f'submission_{auc_val}.csv', header=True, index=False)\n"
   ]
  },
  {
   "cell_type": "code",
   "execution_count": null,
   "id": "7ca8d426",
   "metadata": {},
   "outputs": [],
   "source": [
    "sub.head()\n"
   ]
  }
 ],
 "metadata": {},
 "nbformat": 4,
 "nbformat_minor": 5
}
