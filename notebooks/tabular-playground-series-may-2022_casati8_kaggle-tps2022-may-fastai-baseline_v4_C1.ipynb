{
 "cells": [
  {
   "cell_type": "code",
   "execution_count": null,
   "id": "b174e03e",
   "metadata": {},
   "outputs": [],
   "source": [
    "import pandas as pd\n",
    "from pathlib import Path"
   ]
  },
  {
   "cell_type": "code",
   "execution_count": null,
   "id": "47619b85",
   "metadata": {},
   "outputs": [],
   "source": [
    "from fastai.tabular.all import * \n",
    "from fastai.test_utils import show_install\n",
    "from IPython.display import display, clear_output\n",
    "import holidays\n",
    "import seaborn as sns\n",
    "\n",
    "show_install()\n"
   ]
  },
  {
   "cell_type": "code",
   "execution_count": null,
   "id": "0f6cb190",
   "metadata": {},
   "outputs": [],
   "source": [
    "device = torch.device(\"cuda\" if torch.cuda.is_available() else \"cpu\")\n",
    "device\n"
   ]
  },
  {
   "cell_type": "code",
   "execution_count": null,
   "id": "6b474dbb",
   "metadata": {},
   "outputs": [],
   "source": [
    "def set_seed_value(seed=718):\n",
    "    np.random.seed(seed)\n",
    "    torch.manual_seed(seed)\n",
    "    torch.cuda.manual_seed(seed)\n",
    "    torch.backends.cudnn.deterministic = True\n",
    "\n",
    "set_seed_value()\n"
   ]
  },
  {
   "cell_type": "code",
   "execution_count": null,
   "id": "0dc6deb1",
   "metadata": {},
   "outputs": [],
   "source": [
    "path = Path('../input/tabular-playground-series-may-2022/')\n",
    "Path.BASE_PATH = path\n",
    "path.ls()\n"
   ]
  },
  {
   "cell_type": "code",
   "execution_count": null,
   "id": "faaa92c6",
   "metadata": {},
   "outputs": [],
   "source": [
    "train_df = pd.read_csv(os.path.join(path, 'train.csv')).set_index('id')\n",
    "test_df = pd.read_csv(os.path.join(path, 'test.csv')).set_index('id')\n",
    "sample_submission = pd.read_csv(os.path.join(path, 'sample_submission.csv'))\n",
    "\n",
    "string_var = 'f_27'\n",
    "dep_var = 'target'\n"
   ]
  },
  {
   "cell_type": "code",
   "execution_count": null,
   "id": "59858cfd",
   "metadata": {},
   "outputs": [],
   "source": [
    "train_df.isna().sum().sum(), test_df.isna().sum().sum(), train_df.isnull().sum().sum(), test_df.isnull().sum().sum()\n"
   ]
  },
  {
   "cell_type": "code",
   "execution_count": null,
   "id": "221cdde3",
   "metadata": {},
   "outputs": [],
   "source": [
    "train_df.head()\n"
   ]
  },
  {
   "cell_type": "code",
   "execution_count": null,
   "id": "e0fa96a4",
   "metadata": {},
   "outputs": [],
   "source": [
    "train_df.hist(column=dep_var)\n"
   ]
  },
  {
   "cell_type": "code",
   "execution_count": null,
   "id": "4792aba5",
   "metadata": {},
   "outputs": [],
   "source": [
    "corr = train_df.corr()\n",
    "\n",
    "fig, axes = plt.subplots(figsize=(30, 15))\n",
    "mask = np.zeros_like(corr)\n",
    "mask[np.triu_indices_from(mask)] = True\n",
    "sns.heatmap(corr, mask=mask, linewidths=.5, annot=True, cmap='rainbow')\n",
    "\n",
    "plt.show()\n"
   ]
  },
  {
   "cell_type": "code",
   "execution_count": null,
   "id": "8650f6c8",
   "metadata": {},
   "outputs": [],
   "source": [
    "train_df.info()\n"
   ]
  },
  {
   "cell_type": "code",
   "execution_count": null,
   "id": "53eea19f",
   "metadata": {},
   "outputs": [],
   "source": [
    "cat_columns = train_df.columns[(train_df.dtypes.values != np.dtype('float64'))]\n",
    "cat_columns\n"
   ]
  },
  {
   "cell_type": "code",
   "execution_count": null,
   "id": "3ec0a7d2",
   "metadata": {},
   "outputs": [],
   "source": [
    "for col in cat_columns:\n",
    "    print('column ', col, ' number of unique values ', train_df[col].nunique())\n"
   ]
  },
  {
   "cell_type": "code",
   "execution_count": null,
   "id": "ea764512",
   "metadata": {},
   "outputs": [],
   "source": [
    "train_df[string_var].str.len().min(), train_df[string_var].str.len().max(), test_df[string_var].str.len().min(), test_df[string_var].str.len().max()\n"
   ]
  },
  {
   "cell_type": "code",
   "execution_count": null,
   "id": "60e43413",
   "metadata": {},
   "outputs": [],
   "source": [
    "def convert_feature_27(df, do_convert = True):\n",
    "    if do_convert:\n",
    "        for i in range(10):\n",
    "            df[f'f_27_{i}'] = df[string_var].str.get(i)\n",
    "    df.drop([string_var], axis=1, inplace=True)\n",
    "    return df\n"
   ]
  },
  {
   "cell_type": "code",
   "execution_count": null,
   "id": "1c435013",
   "metadata": {},
   "outputs": [],
   "source": [
    "train_df = convert_feature_27(train_df, do_convert=False)\n",
    "test_df = convert_feature_27(test_df, do_convert=False)\n"
   ]
  },
  {
   "cell_type": "code",
   "execution_count": null,
   "id": "4acd5dfa",
   "metadata": {},
   "outputs": [],
   "source": [
    "train_df.shape, test_df.shape\n"
   ]
  },
  {
   "cell_type": "code",
   "execution_count": null,
   "id": "ea71dc27",
   "metadata": {},
   "outputs": [],
   "source": [
    "train_df.head()\n"
   ]
  },
  {
   "cell_type": "code",
   "execution_count": null,
   "id": "2777a9b6",
   "metadata": {},
   "outputs": [],
   "source": [
    "cont_vars, cat_vars = cont_cat_split(train_df, dep_var=dep_var, max_card=25)\n",
    "len(cont_vars), len(cat_vars),cont_vars,cat_vars\n"
   ]
  },
  {
   "cell_type": "code",
   "execution_count": null,
   "id": "c40c24eb",
   "metadata": {},
   "outputs": [],
   "source": [
    "def getData(df, batchSize=1024):\n",
    "    \n",
    "    to_train = TabularPandas(df, \n",
    "                           [Normalize, Categorify, FillMissing],\n",
    "                           cat_names=cat_vars,\n",
    "                           cont_names=cont_vars, \n",
    "                           splits=RandomSplitter(valid_pct=0.2)(df),  \n",
    "                           device = device,\n",
    "                           y_block=CategoryBlock(),\n",
    "                           y_names=dep_var) \n",
    "\n",
    "    return to_train.dataloaders(bs=batchSize)\n"
   ]
  },
  {
   "cell_type": "code",
   "execution_count": null,
   "id": "be4a4bce",
   "metadata": {},
   "outputs": [],
   "source": [
    "dls = getData(train_df, batchSize=2048)\n",
    "len(dls.train), len(dls.valid)\n"
   ]
  },
  {
   "cell_type": "code",
   "execution_count": null,
   "id": "8f10dc18",
   "metadata": {},
   "outputs": [],
   "source": [
    "dls.show_batch()\n"
   ]
  },
  {
   "cell_type": "code",
   "execution_count": null,
   "id": "994b1d3f",
   "metadata": {},
   "outputs": [],
   "source": [
    "my_config = tabular_config(y_range=(0,1) )\n",
    "learn = tabular_learner(dls,\n",
    "                       config = my_config,\n",
    "                       metrics=[accuracy])\n",
    "\n",
    "learn.summary()\n"
   ]
  },
  {
   "cell_type": "code",
   "execution_count": null,
   "id": "828bb881",
   "metadata": {},
   "outputs": [],
   "source": [
    "learn.lr_find()\n"
   ]
  },
  {
   "cell_type": "code",
   "execution_count": null,
   "id": "e1debb50",
   "metadata": {},
   "outputs": [],
   "source": [
    "learn.fit_one_cycle(50, 3e-3, cbs=SaveModelCallback(fname='kaggle_tps2022_may', with_opt=True))\n"
   ]
  },
  {
   "cell_type": "code",
   "execution_count": null,
   "id": "e93d0abd",
   "metadata": {},
   "outputs": [],
   "source": [
    "learn.show_results()\n"
   ]
  },
  {
   "cell_type": "code",
   "execution_count": null,
   "id": "3eb31bbf",
   "metadata": {},
   "outputs": [],
   "source": [
    "interp = ClassificationInterpretation.from_learner(learn)\n",
    "interp.plot_confusion_matrix(normalize=True, norm_dec=3)\n"
   ]
  },
  {
   "cell_type": "code",
   "execution_count": null,
   "id": "5ca0133d",
   "metadata": {},
   "outputs": [],
   "source": [
    "learn.load('kaggle_tps2022_may')\n"
   ]
  },
  {
   "cell_type": "code",
   "execution_count": null,
   "id": "ae7eb55f",
   "metadata": {},
   "outputs": [],
   "source": [
    "dlt = learn.dls.test_dl(test_df, bs=1024) \n",
    "nn_preds,_ ,preds = learn.get_preds(dl=dlt , with_decoded=True) \n",
    "\n",
    "nn_preds, preds\n"
   ]
  },
  {
   "cell_type": "code",
   "execution_count": null,
   "id": "8726b331",
   "metadata": {},
   "outputs": [],
   "source": [
    "sample_submission[dep_var] = np.argmax(nn_preds, axis=-1)\n",
    "sample_submission.to_csv(\"submission.csv\", index=False)\n",
    "sample_submission.head(10)\n"
   ]
  },
  {
   "cell_type": "code",
   "execution_count": null,
   "id": "5f0c07de",
   "metadata": {},
   "outputs": [],
   "source": [
    "sample_submission.hist(column=dep_var)\n"
   ]
  },
  {
   "cell_type": "code",
   "execution_count": null,
   "id": "c7011807",
   "metadata": {},
   "outputs": [],
   "source": [
    "!ls -al\n"
   ]
  }
 ],
 "metadata": {},
 "nbformat": 4,
 "nbformat_minor": 5
}
