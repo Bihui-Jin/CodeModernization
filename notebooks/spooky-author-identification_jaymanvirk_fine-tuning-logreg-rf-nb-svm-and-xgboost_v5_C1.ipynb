{
 "cells": [
  {
   "cell_type": "code",
   "execution_count": null,
   "id": "cd90d796",
   "metadata": {},
   "outputs": [],
   "source": [
    "import pandas as pd\n",
    "from pathlib import Path"
   ]
  },
  {
   "cell_type": "code",
   "execution_count": null,
   "id": "1b120826",
   "metadata": {},
   "outputs": [],
   "source": [
    "# basics\n",
    "import os\n",
    "import time\n",
    "import numpy as np\n",
    "\n",
    "# EDA\n",
    "import pandas as pd\n",
    "import matplotlib.pyplot as plt\n",
    "import seaborn as sns\n",
    "\n",
    "# Data preprocessing\n",
    "import re\n",
    "import spacy\n",
    "from nltk.corpus import stopwords\n",
    "from sklearn.feature_extraction.text import TfidfVectorizer\n",
    "from sklearn.preprocessing import StandardScaler, LabelEncoder\n",
    "from concurrent.futures import ProcessPoolExecutor\n",
    "from sklearn.decomposition import TruncatedSVD\n",
    "\n",
    "# Model architecture\n",
    "from sklearn.linear_model import LogisticRegression\n",
    "from sklearn.ensemble import RandomForestClassifier\n",
    "from sklearn.svm import SVC\n",
    "from sklearn.naive_bayes import MultinomialNB\n",
    "import xgboost as xgb\n",
    "\n",
    "# Hyperparameter tuning\n",
    "from sklearn.model_selection import GridSearchCV\n"
   ]
  },
  {
   "cell_type": "code",
   "execution_count": null,
   "id": "c3b44b75",
   "metadata": {},
   "outputs": [],
   "source": [
    "# Print list of files and directories in folder\n",
    "list_l = []\n",
    "for dirname, _, filenames in os.walk('/kaggle/input'):\n",
    "    for filename in filenames:\n",
    "        list_l.append(os.path.join(dirname, filename))\n",
    "list_l\n"
   ]
  },
  {
   "cell_type": "code",
   "execution_count": null,
   "id": "7ff31bf8",
   "metadata": {},
   "outputs": [],
   "source": [
    "# Set datasets\n",
    "train_data = pd.read_csv(list_l[0])\n",
    "test_data = pd.read_csv(list_l[1])\n",
    "sample_data = pd.read_csv(list_l[2])\n"
   ]
  },
  {
   "cell_type": "code",
   "execution_count": null,
   "id": "ff22f0a8",
   "metadata": {},
   "outputs": [],
   "source": [
    "# Cleaning\n",
    "del list_l\n"
   ]
  },
  {
   "cell_type": "code",
   "execution_count": null,
   "id": "bb0e766c",
   "metadata": {},
   "outputs": [],
   "source": [
    "def print_short_summary(name, data):\n",
    "    \"\"\"\n",
    "    Print data head, shape and info.\n",
    "    Args:\n",
    "        name (str): name of dataset\n",
    "        data (dataframe): dataset in a pd.DataFrame format\n",
    "    \"\"\"\n",
    "    print(name)\n",
    "    print('\\n1. Data head:')\n",
    "    print(data.head())\n",
    "    print('\\n2 Data shape: {}'.format(data.shape))\n",
    "    print('\\n3. Data info:')\n",
    "    data.info()\n",
    "    if 'text' in data.columns:\n",
    "        avg = np.mean(np.vectorize(len)(data['text']))\n",
    "        print('\\n4. Average number of characters per text: {:.0f}'.format(avg))\n"
   ]
  },
  {
   "cell_type": "code",
   "execution_count": null,
   "id": "d1314e2e",
   "metadata": {},
   "outputs": [],
   "source": [
    "print_short_summary('Train data', train_data)\n"
   ]
  },
  {
   "cell_type": "code",
   "execution_count": null,
   "id": "b44e92f4",
   "metadata": {},
   "outputs": [],
   "source": [
    "print_short_summary('Test data', test_data)\n"
   ]
  },
  {
   "cell_type": "code",
   "execution_count": null,
   "id": "1842fe9f",
   "metadata": {},
   "outputs": [],
   "source": [
    "print_short_summary('Sample data', sample_data)\n"
   ]
  },
  {
   "cell_type": "code",
   "execution_count": null,
   "id": "6e563d72",
   "metadata": {},
   "outputs": [],
   "source": [
    "# Cleaning\n",
    "del print_short_summary\n"
   ]
  },
  {
   "cell_type": "code",
   "execution_count": null,
   "id": "4f4b6382",
   "metadata": {},
   "outputs": [],
   "source": [
    "# Plot horizontal barplot of number of records per label\n",
    "plt.figure(figsize=(16, 9))\n",
    "tmp = train_data['author'].value_counts()\n",
    "sns.barplot(y=tmp.index.values, x=tmp.values, orient='h')\n",
    "plt.xlabel('Number of records')\n",
    "plt.ylabel('Author')\n",
    "plt.title('Number of records per author')\n",
    "plt.show()\n"
   ]
  },
  {
   "cell_type": "code",
   "execution_count": null,
   "id": "2036c71c",
   "metadata": {},
   "outputs": [],
   "source": [
    "# Cleaning\n",
    "del tmp\n"
   ]
  },
  {
   "cell_type": "code",
   "execution_count": null,
   "id": "971287b3",
   "metadata": {},
   "outputs": [],
   "source": [
    "def plot_word_dist_author(labels, top_n_words = 10):\n",
    "    \"\"\"\n",
    "    Plot charts with word frequencies per author\n",
    "    Args:\n",
    "        labels: list of authors\n",
    "        top_n_words (opt): how many top words to plot in one chart\n",
    "    \"\"\"\n",
    "    n = len(labels)\n",
    "    \n",
    "    # Get default seaborn's palette to match colours with the previous chart\n",
    "    default_palette = sns.color_palette(\"deep\")\n",
    "    \n",
    "    # Initialize subplots with 1 row and n columns\n",
    "    fig, axes = plt.subplots(nrows=1, ncols=n, figsize=(16, 9))\n",
    "    \n",
    "    # Plot word count per author in the respective rows\n",
    "    for i in range(n):\n",
    "        col = i % n\n",
    "        indexes = train_data['author'] == labels[i]\n",
    "        w = train_data['text'][indexes].str.split(expand=True).unstack().value_counts()\n",
    "        l = w[:top_n_words]/np.sum(w)*100\n",
    "        axes[col].bar(l.index, l.values, color=default_palette[i])\n",
    "        axes[col].set_title(labels[i])\n",
    "        axes[col].set_xlabel('Words')\n",
    "        axes[col].set_ylabel('Percentage of total word count (%)')\n",
    "\n",
    "    plt.tight_layout()\n",
    "    plt.show()\n"
   ]
  },
  {
   "cell_type": "code",
   "execution_count": null,
   "id": "b0fe2f77",
   "metadata": {},
   "outputs": [],
   "source": [
    "# Plot word frequencies by author\n",
    "plot_word_dist_author(['EAP', 'MWS', 'HPL'])\n"
   ]
  },
  {
   "cell_type": "code",
   "execution_count": null,
   "id": "52e18a89",
   "metadata": {},
   "outputs": [],
   "source": [
    "# Cleaning\n",
    "del plot_word_dist_author\n"
   ]
  },
  {
   "cell_type": "code",
   "execution_count": null,
   "id": "3595ba27",
   "metadata": {},
   "outputs": [],
   "source": [
    "# Load english lemmas\n",
    "spacy_process = spacy.load('en_core_web_sm', disable=['parser', 'ner'])\n",
    "\n",
    "# Compile regex pattern\n",
    "pattern = re.compile(r'\\b([a-zA-Z])\\b|\\d+|[.,!?()-:;]')\n",
    "\n",
    "# Set english stopwords such as \"the\", \"of\", \"and\", \"to\" etc.\n",
    "stop_words = set(stopwords.words('english'))\n"
   ]
  },
  {
   "cell_type": "code",
   "execution_count": null,
   "id": "2f2a212d",
   "metadata": {},
   "outputs": [],
   "source": [
    "def get_processed_text(text):\n",
    "    \"\"\"\n",
    "    Return lemmatized text without single letters and digits.\n",
    "    Everything is in the lower case register.\n",
    "    Args:\n",
    "        text (str): text of an article\n",
    "    Returns:\n",
    "        text (str): cleand text\n",
    "    \"\"\"\n",
    "    # Convert to lowercase and remove digits, single letters\n",
    "    text = pattern.sub('', text.lower())\n",
    "    \n",
    "    # Get lemma tokens\n",
    "    lemmas = spacy_process(text)\n",
    "    lemmas = [token.lemma_ for token in lemmas if token.text not in stop_words]\n",
    "\n",
    "    # Join the words back into a string\n",
    "    text = ' '.join(lemmas)\n",
    "    \n",
    "    return text\n",
    "\n",
    "def get_clean_text(texts):\n",
    "    \"\"\"\n",
    "    Return cleaned text.\n",
    "    Execution in parallel.\n",
    "    \n",
    "    Args:\n",
    "        texts: numpy array of string elements\n",
    "    Returns:\n",
    "        clean_texts: numpy array of cleaned string elements\n",
    "    \"\"\"\n",
    "    # Set up parallel tasks processing \n",
    "    with ProcessPoolExecutor() as executor:\n",
    "        clean_texts = list(executor.map(get_processed_text, texts))\n",
    "        \n",
    "    return np.array(clean_texts)\n"
   ]
  },
  {
   "cell_type": "code",
   "execution_count": null,
   "id": "662becbf",
   "metadata": {},
   "outputs": [],
   "source": [
    "# Get cleaned train and test texts\n",
    "train_clean_data = get_clean_text(train_data['text'].values)\n",
    "test_clean_data = get_clean_text(test_data['text'].values)\n"
   ]
  },
  {
   "cell_type": "code",
   "execution_count": null,
   "id": "c302d9a1",
   "metadata": {},
   "outputs": [],
   "source": [
    "# Print an example of the cleaned text\n",
    "train_clean_data[0]\n"
   ]
  },
  {
   "cell_type": "code",
   "execution_count": null,
   "id": "2fc8258d",
   "metadata": {},
   "outputs": [],
   "source": [
    "# Cleaning\n",
    "del spacy_process, pattern, stop_words\n",
    "del get_clean_text, get_processed_text\n"
   ]
  },
  {
   "cell_type": "code",
   "execution_count": null,
   "id": "7d6c9c9d",
   "metadata": {},
   "outputs": [],
   "source": [
    "# Create vectorizer to convert plain text into feature matrix\n",
    "vectorizer = TfidfVectorizer(sublinear_tf = True\n",
    "                             , ngram_range = (1,2)\n",
    "                             )\n",
    "tfidf_vect = vectorizer.fit(train_clean_data)\n"
   ]
  },
  {
   "cell_type": "code",
   "execution_count": null,
   "id": "29b543b1",
   "metadata": {},
   "outputs": [],
   "source": [
    "# Set training and testing data for the upcoming models\n",
    "X_train_tfidf = tfidf_vect.transform(train_clean_data)\n",
    "X_test_tfidf = tfidf_vect.transform(test_clean_data)\n"
   ]
  },
  {
   "cell_type": "code",
   "execution_count": null,
   "id": "840d0458",
   "metadata": {},
   "outputs": [],
   "source": [
    "del vectorizer, test_data, train_clean_data, test_clean_data\n"
   ]
  },
  {
   "cell_type": "code",
   "execution_count": null,
   "id": "b139d77e",
   "metadata": {},
   "outputs": [],
   "source": [
    "# Reduce dimensionality of TF-IDF matrices\n",
    "svd = TruncatedSVD(n_components=100)\n",
    "X_train_svd = svd.fit_transform(X_train_tfidf)\n",
    "X_test_svd = svd.transform(X_test_tfidf)\n"
   ]
  },
  {
   "cell_type": "code",
   "execution_count": null,
   "id": "35882a0e",
   "metadata": {},
   "outputs": [],
   "source": [
    "# Standardize features without centering\n",
    "scaler = StandardScaler(with_mean = False)\n",
    "X_train_stand = scaler.fit_transform(X_train_tfidf)\n",
    "X_test_stand = scaler.fit_transform(X_test_tfidf)\n",
    "\n",
    "X_train_stand_svd = scaler.fit_transform(X_train_svd)\n",
    "X_test_stand_svd = scaler.fit_transform(X_test_svd)\n"
   ]
  },
  {
   "cell_type": "code",
   "execution_count": null,
   "id": "2ab24150",
   "metadata": {},
   "outputs": [],
   "source": [
    "# Cleaning\n",
    "del scaler\n"
   ]
  },
  {
   "cell_type": "code",
   "execution_count": null,
   "id": "3ff4fe48",
   "metadata": {},
   "outputs": [],
   "source": [
    "# Encode labels using OneHotEncoder\n",
    "dict_map = {'EAP':0, 'MWS':1, 'HPL':2,}\n",
    "y_train = train_data['author'].map(dict_map).values\n"
   ]
  },
  {
   "cell_type": "code",
   "execution_count": null,
   "id": "38e4f878",
   "metadata": {},
   "outputs": [],
   "source": [
    "# Cleaning\n",
    "del label_encoder, train_data\n"
   ]
  },
  {
   "cell_type": "code",
   "execution_count": null,
   "id": "c4ceab8b",
   "metadata": {},
   "outputs": [],
   "source": [
    "# Set config for GridSearchCV\n",
    "config_logreg = {\n",
    "    'model': LogisticRegression()\n",
    "    , 'name': 'Log Reg'\n",
    "    , 'param_grid':\n",
    "    {\n",
    "        'class_weight': ['balanced']\n",
    "        , 'C': [0.5, 1.0, 1.5]\n",
    "        , 'solver': ['saga', 'lbfgs']\n",
    "    }\n",
    "}\n"
   ]
  },
  {
   "cell_type": "code",
   "execution_count": null,
   "id": "94ff65eb",
   "metadata": {},
   "outputs": [],
   "source": [
    "# Set config for GridSearchCV\n",
    "config_rf = {\n",
    "    'model': RandomForestClassifier()\n",
    "    , 'name': 'Random Forest'\n",
    "    , 'param_grid':\n",
    "    {\n",
    "        'n_estimators': [50, 75, 100]\n",
    "        , 'max_depth': [10, 20]\n",
    "    }\n",
    "}\n"
   ]
  },
  {
   "cell_type": "code",
   "execution_count": null,
   "id": "e3e54d91",
   "metadata": {},
   "outputs": [],
   "source": [
    "# Set config for GridSearchCV\n",
    "config_nb = {\n",
    "    'model': MultinomialNB()\n",
    "    , 'name': 'Mult NB'\n",
    "    , 'param_grid':\n",
    "    {\n",
    "        'alpha': [0.001, 0.01, 0.1, 0.2, 0.4]\n",
    "    }\n",
    "}\n"
   ]
  },
  {
   "cell_type": "code",
   "execution_count": null,
   "id": "1b580aa1",
   "metadata": {},
   "outputs": [],
   "source": [
    "# Set config for GridSearchCV\n",
    "config_svm = {\n",
    "    'model': SVC()\n",
    "    , 'name': 'SVM'\n",
    "    , 'param_grid':\n",
    "    {\n",
    "        'class_weight': ['balanced']\n",
    "        , 'probability': [True]\n",
    "        , 'max_iter': [100]\n",
    "        , 'C': [0.5, 1.0, 1.5]\n",
    "        , 'kernel': ['rbf', 'sigmoid']\n",
    "    }\n",
    "}\n"
   ]
  },
  {
   "cell_type": "code",
   "execution_count": null,
   "id": "d9efcbb5",
   "metadata": {},
   "outputs": [],
   "source": [
    "# Set config for GridSearchCV\n",
    "config_xgb = {\n",
    "    'model': xgb.XGBClassifier()\n",
    "    , 'name': 'XGBoost'\n",
    "    , 'param_grid':\n",
    "    {\n",
    "        'objective': ['multi:softmax']\n",
    "        , 'num_class': [3]\n",
    "        , 'eval_metric': ['mlogloss']\n",
    "        , 'n_estimators': [100]\n",
    "        , 'eta': [0.2, 0.3, 0.4]\n",
    "        , 'max_depth': [5, 7]\n",
    "    }\n",
    "}\n"
   ]
  },
  {
   "cell_type": "code",
   "execution_count": null,
   "id": "c1fa36b3",
   "metadata": {},
   "outputs": [],
   "source": [
    "def get_grid(config_model, X_train, y_train):\n",
    "    \"\"\"\n",
    "    Return grid of GridSearchCV results from selected models and their parameters.\n",
    "    Execution in parallel.\n",
    "    \n",
    "    Args:\n",
    "        config_model (dict): dictionary of model's parameters\n",
    "        X_train (ndarray): data to train\n",
    "        y_train (ndarray): data labels\n",
    "    Returns:\n",
    "        dict: a dictionary with the results from training via GridSeachCV\n",
    "    \"\"\"\n",
    "    # GridSearchCV utilizes all available CPU cores with n_jobs = -1.\n",
    "    grid = GridSearchCV(config_model['model']\n",
    "                        , config_model['param_grid']\n",
    "                        , return_train_score = True\n",
    "                        , scoring = 'neg_log_loss'\n",
    "                        , cv = 5\n",
    "                        , n_jobs = -1)\n",
    "\n",
    "    # Fit object to training data\n",
    "    grid = grid.fit(X_train, y_train)\n",
    "        \n",
    "\n",
    "    return grid\n",
    "\n",
    "\n",
    "def get_model_results(model_name, grid_results, data_standardized):\n",
    "    \"\"\"\n",
    "    Return a dictionary of model results.\n",
    "    \n",
    "    Args:\n",
    "        model_name (str): name of a model\n",
    "        grid_results (dict): GridSearchCV dictionary of model results\n",
    "        data_standardized (1 or 0): data is stadardized\n",
    "    Returns:\n",
    "        dict: dictionary with updated columns\n",
    "    \"\"\"\n",
    "    runtime = grid_results['mean_fit_time'] + grid_results['mean_score_time']\n",
    "    model_results = {\n",
    "        'model': model_name\n",
    "        , 'params': grid_results['params']\n",
    "        , 'data_std': data_standardized\n",
    "        , 'mean_runtime (sec)': runtime\n",
    "        , 'mean_train_score (logloss)': -grid_results['mean_train_score']\n",
    "        , 'mean_test_score (logloss)': -grid_results['mean_test_score']\n",
    "    }\n",
    "    \n",
    "    return model_results\n",
    "\n",
    "def get_table_results_sorted(list_dict):\n",
    "    \"\"\"\n",
    "    Convert list of dictionaries and sort by mean_test_score and mean_runtime.\n",
    "    \n",
    "    Args:\n",
    "        list_dict (list): list of dictionaries from GridSearchCV\n",
    "    Returns:\n",
    "        DataFrame: sorted dataframe by mean_test_score and mean_runtime\n",
    "    \"\"\"\n",
    "    table = [pd.DataFrame(results) for results in list_dict]   \n",
    "    table = pd.concat(table)\n",
    "    table = table.sort_values(by = ['mean_test_score (logloss)'\n",
    "                                  ,'mean_runtime (sec)']\n",
    "                        , ascending = [True, True])\n",
    "    \n",
    "    return table\n",
    "\n",
    "def get_final_table_results(config_models, config_data):\n",
    "    \"\"\"\n",
    "    Return table with every trained model and its results from GridSearchCV.\n",
    "    \n",
    "    Args:\n",
    "        config_models (list): list of model configurations\n",
    "        confg_data (list): list of data configurations\n",
    "    Returns:\n",
    "        DataFrame: sorted dataframe by mean_test_score and mean_runtime\n",
    "    \"\"\"\n",
    "    n = len(config_models)\n",
    "    m = len(config_data)\n",
    "    table = []\n",
    "    for i in range(n):\n",
    "        for j in range(m):\n",
    "            print('model: {} of {} | data: {} of {}'.format(i+1,n,j+1,m))\n",
    "            grid = get_grid(config_models[i], config_data[j], y_train)\n",
    "            model_results = get_model_results(config_models[i]['name']\n",
    "                                              , grid.cv_results_\n",
    "                                             , j)\n",
    "            table.append(model_results)\n",
    "    \n",
    "    table = get_table_results_sorted(table)\n",
    "\n",
    "    return table\n"
   ]
  },
  {
   "cell_type": "code",
   "execution_count": null,
   "id": "47beaaf0",
   "metadata": {},
   "outputs": [],
   "source": [
    "# Create table of Multinomial Naive Bayes results\n",
    "table_nb = get_final_table_results([config_nb], [X_train_tfidf, X_train_stand])\n"
   ]
  },
  {
   "cell_type": "code",
   "execution_count": null,
   "id": "a2000166",
   "metadata": {},
   "outputs": [],
   "source": [
    "# Set list of models except Mult NB and non/standardized X_train\n",
    "config_models = [config_logreg, config_rf, config_svm, config_xgb]\n",
    "config_data = [X_train_svd, X_train_stand_svd]\n"
   ]
  },
  {
   "cell_type": "code",
   "execution_count": null,
   "id": "6332b4a9",
   "metadata": {},
   "outputs": [],
   "source": [
    "# Get table of every model except Mult NB\n",
    "table_results = get_final_table_results(config_models, config_data)\n"
   ]
  },
  {
   "cell_type": "code",
   "execution_count": null,
   "id": "b886b189",
   "metadata": {},
   "outputs": [],
   "source": [
    "# Concatenate tables and print final rankings\n",
    "table_results = get_table_results_sorted([table_results, table_nb])\n",
    "table_results\n"
   ]
  },
  {
   "cell_type": "code",
   "execution_count": null,
   "id": "e4f460d2",
   "metadata": {},
   "outputs": [],
   "source": [
    "# Cleaning\n",
    "del config_models, config_data, table_results\n",
    "del get_results_table, get_grid, get_final_table_results\n"
   ]
  },
  {
   "cell_type": "code",
   "execution_count": null,
   "id": "7bc2e13d",
   "metadata": {},
   "outputs": [],
   "source": [
    "# Fit top performance model\n",
    "model = MultinomialNB(alpha = 0.01).fit(X_train_tfidf, y_train)\n"
   ]
  },
  {
   "cell_type": "code",
   "execution_count": null,
   "id": "0f4a79f6",
   "metadata": {},
   "outputs": [],
   "source": [
    "# Get predicted probabilities of classes\n",
    "results = model.predict_proba(X_test_tfidf)\n"
   ]
  },
  {
   "cell_type": "code",
   "execution_count": null,
   "id": "5b36fe3c",
   "metadata": {},
   "outputs": [],
   "source": [
    "# Create submission talbe\n",
    "table_submis = pd.DataFrame(results, columns=['EAP', 'MWS', 'HPL'])\n",
    "table_submis['id'] = sample_data['id']\n"
   ]
  },
  {
   "cell_type": "code",
   "execution_count": null,
   "id": "873b7bc9",
   "metadata": {},
   "outputs": [],
   "source": [
    "# Print submission table\n",
    "table_submis\n"
   ]
  },
  {
   "cell_type": "code",
   "execution_count": null,
   "id": "04dad6b5",
   "metadata": {},
   "outputs": [],
   "source": [
    "# Make submission\n",
    "table_submis.to_csv('submission.csv', index=False)\n"
   ]
  },
  {
   "cell_type": "code",
   "execution_count": null,
   "id": "66fb040c",
   "metadata": {},
   "outputs": [],
   "source": [
    "# Cleaning\n",
    "del sample_data\n"
   ]
  },
  {
   "cell_type": "code",
   "execution_count": null,
   "id": "98e4fc77",
   "metadata": {},
   "outputs": [],
   "source": [
    " \n"
   ]
  }
 ],
 "metadata": {},
 "nbformat": 4,
 "nbformat_minor": 5
}
