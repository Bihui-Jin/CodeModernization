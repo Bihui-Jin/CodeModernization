{
 "cells": [
  {
   "cell_type": "code",
   "execution_count": null,
   "id": "90376b28",
   "metadata": {},
   "outputs": [],
   "source": [
    "import pandas as pd\n",
    "from pathlib import Path"
   ]
  },
  {
   "cell_type": "code",
   "execution_count": null,
   "id": "bbd509f2",
   "metadata": {},
   "outputs": [],
   "source": [
    "# Initial Python environment setup...\n",
    "import numpy as np # linear algebra\n",
    "import pandas as pd # CSV file I/O (e.g. pd.read_csv)\n",
    "import os # reading the input files we have access to\n",
    "\n",
    "print(os.listdir('../input'))\n"
   ]
  },
  {
   "cell_type": "code",
   "execution_count": null,
   "id": "fcf24620",
   "metadata": {},
   "outputs": [],
   "source": [
    "train_df =  pd.read_csv('../input/train.csv', nrows = 10_000_000)\n",
    "train_df.dtypes\n"
   ]
  },
  {
   "cell_type": "code",
   "execution_count": null,
   "id": "6cba5d23",
   "metadata": {},
   "outputs": [],
   "source": [
    "test_df = pd.read_csv(\"../input/test.csv\")\n"
   ]
  },
  {
   "cell_type": "code",
   "execution_count": null,
   "id": "5d2af6cf",
   "metadata": {},
   "outputs": [],
   "source": [
    "test_df.dtypes\n"
   ]
  },
  {
   "cell_type": "code",
   "execution_count": null,
   "id": "62937c35",
   "metadata": {},
   "outputs": [],
   "source": [
    "# Given a dataframe, add two new features 'abs_diff_longitude' and\n",
    "# 'abs_diff_latitude' reprensenting the \"Manhattan vector\" from\n",
    "# the pickup location to the dropoff location.\n",
    "\n",
    "\n",
    "def add_travel_vector_features(df):\n",
    "    df['abs_diff_longitude'] = (df.dropoff_longitude - df.pickup_longitude).abs()\n",
    "    df['abs_diff_latitude'] = (df.dropoff_latitude - df.pickup_latitude).abs()\n",
    "    \n",
    "    \n",
    "\n",
    "add_travel_vector_features(train_df)\n"
   ]
  },
  {
   "cell_type": "code",
   "execution_count": null,
   "id": "886e0788",
   "metadata": {},
   "outputs": [],
   "source": [
    "add_travel_vector_features(test_df)\n"
   ]
  },
  {
   "cell_type": "code",
   "execution_count": null,
   "id": "af274e1d",
   "metadata": {},
   "outputs": [],
   "source": [
    "train_df.columns\n"
   ]
  },
  {
   "cell_type": "code",
   "execution_count": null,
   "id": "ff2ef589",
   "metadata": {},
   "outputs": [],
   "source": [
    "print(train_df.isnull().sum())\n"
   ]
  },
  {
   "cell_type": "code",
   "execution_count": null,
   "id": "a62e9da8",
   "metadata": {},
   "outputs": [],
   "source": [
    "print('Old size: %d' % len(train_df))\n",
    "train_df = train_df.dropna(how = 'any', axis = 0)\n",
    "print('New size: %d' % len(train_df))\n"
   ]
  },
  {
   "cell_type": "code",
   "execution_count": null,
   "id": "512cf0fc",
   "metadata": {},
   "outputs": [],
   "source": [
    "plot = train_df.iloc[:2000].plot.scatter('abs_diff_longitude', 'abs_diff_latitude')\n"
   ]
  },
  {
   "cell_type": "code",
   "execution_count": null,
   "id": "bd6f8b1a",
   "metadata": {},
   "outputs": [],
   "source": [
    "print('Old size: %d' % len(train_df))\n",
    "train_df = train_df[(train_df.abs_diff_longitude < 5.0) & (train_df.abs_diff_latitude < 5.0)]\n",
    "print('New size: %d' % len(train_df))\n"
   ]
  },
  {
   "cell_type": "code",
   "execution_count": null,
   "id": "6c9b9345",
   "metadata": {},
   "outputs": [],
   "source": [
    "train_df = train_df[(train_df.abs_diff_longitude < 5.0) & (train_df.abs_diff_latitude < 5.0)]\n"
   ]
  },
  {
   "cell_type": "code",
   "execution_count": null,
   "id": "d61be67c",
   "metadata": {},
   "outputs": [],
   "source": [
    "train_df.head()\n"
   ]
  },
  {
   "cell_type": "code",
   "execution_count": null,
   "id": "fc53c3af",
   "metadata": {},
   "outputs": [],
   "source": [
    "train_df['pickup_datetime'][0][11:19]\n"
   ]
  },
  {
   "cell_type": "code",
   "execution_count": null,
   "id": "744291ba",
   "metadata": {},
   "outputs": [],
   "source": [
    "list1 = list(train_df['pickup_datetime'])               # Creating an extra col of pickup time,extracting from pickup_datetime\n",
    "\n",
    "for i in range(len(list1)):\n",
    "    list1[i] = list1[i][11:19]\n",
    "\n",
    "train_df['pickup_time'] = list1\n",
    "\n",
    "\n",
    "\n",
    "list2 = list(test_df['pickup_datetime'])\n",
    "\n",
    "for i in range(len(list2)):\n",
    "    list2[i] = list2[i][11:19]\n",
    "\n",
    "test_df['pickup_time'] = list2\n",
    "    \n"
   ]
  },
  {
   "cell_type": "code",
   "execution_count": null,
   "id": "5aef4edb",
   "metadata": {},
   "outputs": [],
   "source": [
    "train_df.head()\n"
   ]
  },
  {
   "cell_type": "code",
   "execution_count": null,
   "id": "8614d0dc",
   "metadata": {},
   "outputs": [],
   "source": [
    "test_df.head()\n"
   ]
  },
  {
   "cell_type": "code",
   "execution_count": null,
   "id": "87ec261d",
   "metadata": {},
   "outputs": [],
   "source": [
    "x=pd.Timestamp(train_df['pickup_datetime'][0][:-4]).dayofweek\n",
    "x\n"
   ]
  },
  {
   "cell_type": "code",
   "execution_count": null,
   "id": "cc41d679",
   "metadata": {},
   "outputs": [],
   "source": [
    "# Creating an extra col for day of the week\n",
    "\n",
    "list1 = list(train_df['pickup_datetime'])\n",
    "\n",
    "for i in range(len(list1)):\n",
    "    list1[i] = pd.Timestamp(list1[i][:-4]).dayofweek\n",
    "\n",
    "train_df['weekday'] = list1\n",
    "\n",
    "\n",
    "list2 = list(test_df['pickup_datetime'])\n",
    "\n",
    "for i in range(len(list2)):\n",
    "    list2[i] = pd.Timestamp(list2[i][:-4]).dayofweek\n",
    "\n",
    "test_df['weekday'] = list2\n"
   ]
  },
  {
   "cell_type": "code",
   "execution_count": null,
   "id": "b532ceec",
   "metadata": {},
   "outputs": [],
   "source": [
    "test_df.head()\n"
   ]
  },
  {
   "cell_type": "code",
   "execution_count": null,
   "id": "4b63c961",
   "metadata": {},
   "outputs": [],
   "source": [
    "# Dropping \"pickup_datetime\" col\n",
    "\n",
    "train_df.drop(\"pickup_datetime\",axis=1,inplace=True)\n",
    "test_df.drop(\"pickup_datetime\",axis=1,inplace=True)\n"
   ]
  },
  {
   "cell_type": "code",
   "execution_count": null,
   "id": "c64b78e3",
   "metadata": {},
   "outputs": [],
   "source": [
    "test_df.head()\n"
   ]
  },
  {
   "cell_type": "code",
   "execution_count": null,
   "id": "1251f973",
   "metadata": {},
   "outputs": [],
   "source": [
    "train_df.head()\n"
   ]
  },
  {
   "cell_type": "code",
   "execution_count": null,
   "id": "a3cf24ca",
   "metadata": {},
   "outputs": [],
   "source": [
    "col = test_df.columns.tolist()\n",
    "col = col[:6] + col[8:] +col[6:8]\n",
    "col\n",
    "\n",
    "test_df = test_df[col]\n",
    "test_df.head()\n"
   ]
  },
  {
   "cell_type": "code",
   "execution_count": null,
   "id": "94aa8b6a",
   "metadata": {},
   "outputs": [],
   "source": [
    " \n"
   ]
  },
  {
   "cell_type": "code",
   "execution_count": null,
   "id": "abb3521d",
   "metadata": {},
   "outputs": [],
   "source": [
    "train_df.shape\n"
   ]
  },
  {
   "cell_type": "code",
   "execution_count": null,
   "id": "bc725769",
   "metadata": {},
   "outputs": [],
   "source": [
    "train_df['weekday'].replace(to_replace=[i for i in range(0,7)],\n",
    "                           value=[\"monday\",\"tuesday\",'wednesday','thursday','friday','saturday','sunday'],\n",
    "                           inplace=True)\n",
    "\n",
    "test_df['weekday'].replace(to_replace=[i for i in range(0,7)],\n",
    "                           value=[\"monday\",\"tuesday\",'wednesday','thursday','friday','saturday','sunday'],\n",
    "                           inplace=True)\n"
   ]
  },
  {
   "cell_type": "code",
   "execution_count": null,
   "id": "37a7b565",
   "metadata": {},
   "outputs": [],
   "source": [
    "train_df.head()\n"
   ]
  },
  {
   "cell_type": "code",
   "execution_count": null,
   "id": "4f2d74be",
   "metadata": {},
   "outputs": [],
   "source": [
    "test_df.head()\n"
   ]
  },
  {
   "cell_type": "code",
   "execution_count": null,
   "id": "c8cb28b0",
   "metadata": {},
   "outputs": [],
   "source": [
    "train_one_hot = pd.get_dummies(train_df['weekday'])\n",
    "train_df = pd.concat([train_df,train_one_hot],axis=1)\n",
    "\n",
    "test_one_hot = pd.get_dummies(test_df['weekday'])\n",
    "test_df = pd.concat([test_df,test_one_hot],axis=1)\n"
   ]
  },
  {
   "cell_type": "code",
   "execution_count": null,
   "id": "34913e98",
   "metadata": {},
   "outputs": [],
   "source": [
    "test_df.head()\n"
   ]
  },
  {
   "cell_type": "code",
   "execution_count": null,
   "id": "043307a2",
   "metadata": {},
   "outputs": [],
   "source": [
    "train_df.head()\n"
   ]
  },
  {
   "cell_type": "code",
   "execution_count": null,
   "id": "54b215be",
   "metadata": {},
   "outputs": [],
   "source": [
    "train_df.drop(\"weekday\",axis=1,inplace=True)\n",
    "test_df.drop(\"weekday\",axis=1,inplace=True)\n"
   ]
  },
  {
   "cell_type": "code",
   "execution_count": null,
   "id": "a447d8a5",
   "metadata": {},
   "outputs": [],
   "source": [
    "a = train_df['pickup_time'][0].split(\":\")\n",
    "(int(a[0])*100) + int(a[1]) + float(a[2])/100\n"
   ]
  },
  {
   "cell_type": "code",
   "execution_count": null,
   "id": "6055ac77",
   "metadata": {},
   "outputs": [],
   "source": [
    "# Converting pickup_time to float\n",
    "\n",
    "list1 = list(train_df['pickup_time'])\n",
    "for i in range(len(list1)):\n",
    "    a = list1[i].split(\":\")\n",
    "    list1[i] = (int(a[0])*100) + int(a[1]) + float(a[2])/100\n",
    "\n",
    "train_df['pickup_time'] = list1\n",
    "\n",
    "list2 = list(test_df['pickup_time'])\n",
    "for i in range(len(list2)):\n",
    "    a = list2[i].split(\":\")\n",
    "    list2[i] = (int(a[0])*100) + int(a[1]) + float(a[2])/100\n",
    "\n",
    "test_df['pickup_time'] = list2\n"
   ]
  },
  {
   "cell_type": "code",
   "execution_count": null,
   "id": "5059ba3e",
   "metadata": {},
   "outputs": [],
   "source": [
    "train_df.head()\n"
   ]
  },
  {
   "cell_type": "code",
   "execution_count": null,
   "id": "a334b19b",
   "metadata": {},
   "outputs": [],
   "source": [
    "test_df.head()\n"
   ]
  },
  {
   "cell_type": "code",
   "execution_count": null,
   "id": "9fed5620",
   "metadata": {},
   "outputs": [],
   "source": [
    "# rearranging cols\n",
    "test_df = test_df[train_df.drop('fare_amount',axis=1).columns]\n"
   ]
  },
  {
   "cell_type": "code",
   "execution_count": null,
   "id": "4822bd00",
   "metadata": {},
   "outputs": [],
   "source": [
    "test_df.head()\n"
   ]
  },
  {
   "cell_type": "code",
   "execution_count": null,
   "id": "18d3ceb3",
   "metadata": {},
   "outputs": [],
   "source": [
    "train_df.head()\n"
   ]
  },
  {
   "cell_type": "code",
   "execution_count": null,
   "id": "8e55a54d",
   "metadata": {},
   "outputs": [],
   "source": [
    "# Calculating distance in kms\n",
    "\n",
    "R = 6373.0\n",
    "lat1 =np.asarray(np.radians(train_df['pickup_latitude']))\n",
    "lon1 = np.asarray(np.radians(train_df['pickup_longitude']))\n",
    "lat2 = np.asarray(np.radians(train_df['dropoff_latitude']))\n",
    "lon2 = np.asarray(np.radians(train_df['dropoff_longitude']))\n",
    "\n",
    "dlon = lon2 - lon1\n",
    "dlat = lat2 - lat1\n",
    "ls1=[] \n",
    "a = np.sin(dlat/2)**2 + np.cos(lat1) * np.cos(lat2) * np.sin(dlon/ 2)**2\n",
    "c = 2 * np.arctan2(np.sqrt(a), np.sqrt(1 - a))\n",
    "distance = R * c\n",
    "\n",
    "    \n",
    "train_df['Distance']=np.asarray(distance)*0.621\n",
    "\n",
    "\n",
    "\n",
    "lat1 =np.asarray(np.radians(test_df['pickup_latitude']))\n",
    "lon1 = np.asarray(np.radians(test_df['pickup_longitude']))\n",
    "lat2 = np.asarray(np.radians(test_df['dropoff_latitude']))\n",
    "lon2 = np.asarray(np.radians(test_df['dropoff_longitude']))\n",
    "\n",
    "dlon = lon2 - lon1\n",
    "dlat = lat2 - lat1\n",
    " \n",
    "a = np.sin(dlat / 2)**2 + np.cos(lat1) * np.cos(lat2) * np.sin(dlon/ 2)**2\n",
    "c = 2 * np.arctan2(np.sqrt(a), np.sqrt(1 - a))\n",
    "distance = R * c\n",
    "test_df['Distance']=np.asarray(distance)*0.621\n"
   ]
  },
  {
   "cell_type": "code",
   "execution_count": null,
   "id": "48e1f4aa",
   "metadata": {},
   "outputs": [],
   "source": [
    "train_df.head()\n"
   ]
  },
  {
   "cell_type": "code",
   "execution_count": null,
   "id": "52fbd135",
   "metadata": {},
   "outputs": [],
   "source": [
    "test_df.head()\n"
   ]
  },
  {
   "cell_type": "code",
   "execution_count": null,
   "id": "cd1fb4b1",
   "metadata": {},
   "outputs": [],
   "source": [
    " \n"
   ]
  },
  {
   "cell_type": "code",
   "execution_count": null,
   "id": "c711d205",
   "metadata": {},
   "outputs": [],
   "source": [
    " \n"
   ]
  },
  {
   "cell_type": "code",
   "execution_count": null,
   "id": "d1f51fff",
   "metadata": {},
   "outputs": [],
   "source": [
    "# Calculated distances in ref to the airport\n",
    "\n",
    "R = 6373.0\n",
    "lat1 =np.asarray(np.radians(train_df['pickup_latitude']))\n",
    "lon1 = np.asarray(np.radians(train_df['pickup_longitude']))\n",
    "lat2 = np.asarray(np.radians(train_df['dropoff_latitude']))\n",
    "lon2 = np.asarray(np.radians(train_df['dropoff_longitude']))\n",
    "\n",
    "lat3=np.zeros(len(train_df))+np.radians(40.6413111)\n",
    "lon3=np.zeros(len(train_df))+np.radians(-73.7781391)\n",
    "dlon_pickup = lon3 - lon1\n",
    "dlat_pickup = lat3 - lat1\n",
    "d_lon_dropoff=lon3 -lon2\n",
    "d_lat_dropoff=lat3-lat2\n",
    "a1 = np.sin(dlat_pickup/2)**2 + np.cos(lat1) * np.cos(lat3) * np.sin(dlon_pickup/ 2)**2\n",
    "c1 = 2 * np.arctan2(np.sqrt(a1), np.sqrt(1 - a1))\n",
    "distance1 = R * c1\n",
    "train_df['Pickup_Distance_airport']=np.asarray(distance1)*0.621\n",
    "\n",
    "a2=np.sin(d_lat_dropoff/2)**2 + np.cos(lat2) * np.cos(lat3) * np.sin(d_lon_dropoff/ 2)**2\n",
    "c2 = 2 * np.arctan2(np.sqrt(a2), np.sqrt(1 - a2))\n",
    "distance2 = R * c2\n",
    "\n",
    "    \n",
    "train_df['Dropoff_Distance_airport']=np.asarray(distance2)*0.621\n",
    "\n",
    "\n",
    "\n",
    "lat1 =np.asarray(np.radians(test_df['pickup_latitude']))\n",
    "lon1 = np.asarray(np.radians(test_df['pickup_longitude']))\n",
    "lat2 = np.asarray(np.radians(test_df['dropoff_latitude']))\n",
    "lon2 = np.asarray(np.radians(test_df['dropoff_longitude']))\n",
    "\n",
    "lat3=np.zeros(len(test_df))+np.radians(40.6413111)\n",
    "lon3=np.zeros(len(test_df))+np.radians(-73.7781391)\n",
    "dlon_pickup = lon3 - lon1\n",
    "dlat_pickup = lat3 - lat1\n",
    "d_lon_dropoff=lon3 -lon2\n",
    "d_lat_dropoff=lat3-lat2\n",
    "a1 = np.sin(dlat_pickup/2)**2 + np.cos(lat1) * np.cos(lat3) * np.sin(dlon_pickup/ 2)**2\n",
    "c1 = 2 * np.arctan2(np.sqrt(a1), np.sqrt(1 - a1))\n",
    "distance1 = R * c1\n",
    "test_df['Pickup_Distance_airport']=np.asarray(distance1)*0.621\n",
    "\n",
    "a2=np.sin(d_lat_dropoff/2)**2 + np.cos(lat2) * np.cos(lat3) * np.sin(d_lon_dropoff/ 2)**2\n",
    "c2 = 2 * np.arctan2(np.sqrt(a2), np.sqrt(1 - a2))\n",
    "distance2 = R * c2\n",
    "\n",
    "test_df['Dropoff_Distance_airport']=np.asarray(distance2)*0.621\n"
   ]
  },
  {
   "cell_type": "code",
   "execution_count": null,
   "id": "15e2b439",
   "metadata": {},
   "outputs": [],
   "source": [
    "# Rounding off data to two decimal places\n",
    "\n",
    "train_df['Distance']=np.round(train_df['Distance'],2)\n",
    "train_df['Pickup_Distance_airport']=np.round(train_df['Pickup_Distance_airport'],2)\n",
    "train_df['Dropoff_Distance_airport']=np.round(train_df['Dropoff_Distance_airport'],2)\n",
    "\n",
    "test_df['Distance']=np.round(test_df['Distance'],2)\n",
    "test_df['Pickup_Distance_airport']=np.round(test_df['Pickup_Distance_airport'],2)\n",
    "test_df['Dropoff_Distance_airport']=np.round(test_df['Dropoff_Distance_airport'],2)\n"
   ]
  },
  {
   "cell_type": "code",
   "execution_count": null,
   "id": "9d99c834",
   "metadata": {},
   "outputs": [],
   "source": [
    "train_df.drop(['pickup_longitude','pickup_latitude','dropoff_longitude','dropoff_latitude'],axis=1,inplace=True)\n",
    "test_df.drop(['pickup_longitude','pickup_latitude','dropoff_longitude','dropoff_latitude'],axis=1,inplace=True)\n"
   ]
  },
  {
   "cell_type": "code",
   "execution_count": null,
   "id": "51ac8039",
   "metadata": {},
   "outputs": [],
   "source": [
    "train_df.head()\n"
   ]
  },
  {
   "cell_type": "code",
   "execution_count": null,
   "id": "67ae63f8",
   "metadata": {},
   "outputs": [],
   "source": [
    "test_df.head()\n"
   ]
  },
  {
   "cell_type": "code",
   "execution_count": null,
   "id": "eac342a7",
   "metadata": {},
   "outputs": [],
   "source": [
    "print(train_df.shape , test_df.shape)\n"
   ]
  },
  {
   "cell_type": "code",
   "execution_count": null,
   "id": "b94d73fd",
   "metadata": {},
   "outputs": [],
   "source": [
    " \n"
   ]
  },
  {
   "cell_type": "code",
   "execution_count": null,
   "id": "abf96ed6",
   "metadata": {},
   "outputs": [],
   "source": [
    "from sklearn.model_selection import train_test_split\n",
    "\n",
    "X=train_df.drop(['key','fare_amount'],axis=1)\n",
    "y=train_df['fare_amount']\n",
    "\n",
    "X_train,X_test,y_train,y_test=train_test_split(X,y,test_size=0.01,random_state=80)\n"
   ]
  },
  {
   "cell_type": "code",
   "execution_count": null,
   "id": "d211fa9c",
   "metadata": {},
   "outputs": [],
   "source": [
    "print(X_train.shape, y_train.shape)\n",
    "print(X_test.shape, y_test.shape)\n"
   ]
  },
  {
   "cell_type": "code",
   "execution_count": null,
   "id": "587f3ae0",
   "metadata": {},
   "outputs": [],
   "source": [
    "from sklearn.linear_model import LinearRegression\n",
    "reg=LinearRegression()\n",
    "reg.fit(X_train,y_train)\n",
    "reg.score(X_test,y_test)\n"
   ]
  },
  {
   "cell_type": "code",
   "execution_count": null,
   "id": "1f3b6842",
   "metadata": {},
   "outputs": [],
   "source": [
    " \n"
   ]
  },
  {
   "cell_type": "code",
   "execution_count": null,
   "id": "ad879eb6",
   "metadata": {},
   "outputs": [],
   "source": [
    "predictions = reg.predict(test_df.drop(\"key\",axis=1))\n",
    "predictions = np.round(predictions,2)\n",
    "predictions\n"
   ]
  },
  {
   "cell_type": "code",
   "execution_count": null,
   "id": "614e55bc",
   "metadata": {},
   "outputs": [],
   "source": [
    "Submission=pd.DataFrame(data=predictions,columns=['fare_amount'])\n",
    "\n",
    "Submission['key']=test_df['key']\n",
    "\n",
    "Submission=Submission[['key','fare_amount']]\n"
   ]
  },
  {
   "cell_type": "code",
   "execution_count": null,
   "id": "8f71a359",
   "metadata": {},
   "outputs": [],
   "source": [
    "Submission.set_index('key',inplace=True)\n"
   ]
  },
  {
   "cell_type": "code",
   "execution_count": null,
   "id": "af0deacb",
   "metadata": {},
   "outputs": [],
   "source": [
    "Submission.reset_index().head()\n"
   ]
  },
  {
   "cell_type": "code",
   "execution_count": null,
   "id": "cde44e79",
   "metadata": {},
   "outputs": [],
   "source": [
    "Submission.to_csv('Submission.csv')\n"
   ]
  },
  {
   "cell_type": "code",
   "execution_count": null,
   "id": "b8e1eb7b",
   "metadata": {},
   "outputs": [],
   "source": [
    " \n"
   ]
  }
 ],
 "metadata": {},
 "nbformat": 4,
 "nbformat_minor": 5
}
