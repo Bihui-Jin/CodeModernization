{
 "cells": [
  {
   "cell_type": "code",
   "execution_count": null,
   "id": "5f3b9f89",
   "metadata": {},
   "outputs": [],
   "source": [
    "import pandas as pd\n",
    "from pathlib import Path"
   ]
  },
  {
   "cell_type": "code",
   "execution_count": null,
   "id": "db0db719",
   "metadata": {},
   "outputs": [],
   "source": [
    "# This Python 3 environment comes with many helpful analytics libraries installed\n",
    "# It is defined by the kaggle/python Docker image: https://github.com/kaggle/docker-python\n",
    "# For example, here's several helpful packages to load\n",
    "\n",
    "import numpy as np # linear algebra\n",
    "import pandas as pd # data processing, CSV file I/O (e.g. pd.read_csv)\n",
    "\n",
    "# Input data files are available in the read-only \"../input/\" directory\n",
    "# For example, running this (by clicking run or pressing Shift+Enter) will list all files under the input directory\n",
    "\n",
    "import os\n",
    "for dirname, _, filenames in os.walk('/kaggle/input'):\n",
    "    for filename in filenames:\n",
    "        print(os.path.join(dirname, filename))\n",
    "\n",
    "# You can write up to 5GB to the current directory (/kaggle/working/) that gets preserved as output when you create a version using \"Save & Run All\" \n",
    "# You can also write temporary files to /kaggle/temp/, but they won't be saved outside of the current session\n"
   ]
  },
  {
   "cell_type": "code",
   "execution_count": null,
   "id": "6bb409c0",
   "metadata": {},
   "outputs": [],
   "source": [
    "data = pd.read_csv('../input/leaf-classification/train.csv.zip')\n",
    "ID = data.pop('id')\n",
    "data\n"
   ]
  },
  {
   "cell_type": "code",
   "execution_count": null,
   "id": "1b722417",
   "metadata": {},
   "outputs": [],
   "source": [
    "from sklearn.preprocessing import LabelEncoder\n",
    "y = data['species']\n",
    "y = LabelEncoder().fit(y).transform(y)\n",
    "print(y.shape)\n",
    "y[0:5]\n"
   ]
  },
  {
   "cell_type": "code",
   "execution_count": null,
   "id": "9f45160a",
   "metadata": {},
   "outputs": [],
   "source": [
    "from sklearn.preprocessing import StandardScaler\n",
    "data.drop(columns='species',axis=1,inplace=True)\n",
    "X = StandardScaler().fit(data).transform(data)\n",
    "print(X.shape)\n"
   ]
  },
  {
   "cell_type": "code",
   "execution_count": null,
   "id": "2899c2c4",
   "metadata": {},
   "outputs": [],
   "source": [
    "y_cat = to_categorical(y)\n",
    "print(y_cat.shape)\n"
   ]
  },
  {
   "cell_type": "code",
   "execution_count": null,
   "id": "4a273bb6",
   "metadata": {},
   "outputs": [],
   "source": [
    "y_cat\n"
   ]
  },
  {
   "cell_type": "code",
   "execution_count": null,
   "id": "6f738625",
   "metadata": {},
   "outputs": [],
   "source": [
    "from keras.models import Sequential\n",
    "from keras.layers import Dense,Dropout,Activation\n",
    "from keras.utils.np_utils import to_categorical\n",
    "from keras.callbacks import EarlyStopping\n"
   ]
  },
  {
   "cell_type": "code",
   "execution_count": null,
   "id": "eb9ec3f4",
   "metadata": {},
   "outputs": [],
   "source": [
    "model = Sequential()\n",
    "model.add(Dense(1500, activation='relu'))\n",
    "model.add(Dropout(0.1))\n",
    "model.add(Dense(1300, activation='sigmoid'))\n",
    "model.add(Dropout(0.1))\n",
    "model.add(Dense(99, activation='softmax'))\n"
   ]
  },
  {
   "cell_type": "code",
   "execution_count": null,
   "id": "85c7c7eb",
   "metadata": {},
   "outputs": [],
   "source": [
    "model.compile(loss='categorical_crossentropy',optimizer='rmsprop', metrics = [\"accuracy\"])\n",
    "\n",
    "early_stopping = EarlyStopping(monitor='val_loss', patience=280)\n",
    "history = model.fit(X,y_cat,batch_size=192,\n",
    "                    epochs=500 ,verbose=1, validation_split=0.1, callbacks=[early_stopping])\n"
   ]
  },
  {
   "cell_type": "code",
   "execution_count": null,
   "id": "af8937fd",
   "metadata": {},
   "outputs": [],
   "source": [
    "test = pd.read_csv('../input/leaf-classification/test.csv.zip')\n",
    "index = test.pop('id')\n",
    "test\n"
   ]
  },
  {
   "cell_type": "code",
   "execution_count": null,
   "id": "16618a33",
   "metadata": {},
   "outputs": [],
   "source": [
    "#test_data = test\n",
    "test = StandardScaler().fit(test).transform(test)\n",
    "yPred = model.predict_proba(test)\n",
    "yPred\n"
   ]
  },
  {
   "cell_type": "code",
   "execution_count": null,
   "id": "f718b642",
   "metadata": {},
   "outputs": [],
   "source": [
    "#data_train = pd.read_csv('../input/leaf-classification/train.csv.zip',index_col='id')\n",
    "#data_test = pd.read_csv('../input/leaf-classification/test.csv.zip')\n",
    "\n",
    "#yPred = pd.DataFrame(yPred,index=data_test['id'],columns=sorted(data_train.species.unique()))\n"
   ]
  },
  {
   "cell_type": "code",
   "execution_count": null,
   "id": "6480219e",
   "metadata": {},
   "outputs": [],
   "source": [
    "data_train = pd.read_csv('../input/leaf-classification/train.csv.zip')\n",
    "#test = pd.read_csv('../input/leaf-classification/test.csv.zip')\n",
    "#test = StandardScaler().fit(test).transform(test)\n",
    "#yPred = model.predict_proba(test)\n",
    "\n",
    "yPred = pd.DataFrame(yPred,index=index,columns=sorted(data_train.species.unique()))\n",
    "\n",
    "fp = open('submission_file.csv','w')\n",
    "fp.write(yPred.to_csv())\n",
    "print('Done')\n"
   ]
  },
  {
   "cell_type": "code",
   "execution_count": null,
   "id": "9df97756",
   "metadata": {},
   "outputs": [],
   "source": [
    "#yPred.to_csv('sub.csv', index=False)\n",
    "#print('Done')\n"
   ]
  }
 ],
 "metadata": {},
 "nbformat": 4,
 "nbformat_minor": 5
}
