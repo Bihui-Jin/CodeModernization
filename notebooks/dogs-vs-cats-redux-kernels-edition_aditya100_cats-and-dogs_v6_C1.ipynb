{
 "cells": [
  {
   "cell_type": "code",
   "execution_count": null,
   "id": "e21b1511",
   "metadata": {},
   "outputs": [],
   "source": [
    "import pandas as pd\n",
    "from pathlib import Path"
   ]
  },
  {
   "cell_type": "code",
   "execution_count": null,
   "id": "a8bf5622",
   "metadata": {},
   "outputs": [],
   "source": [
    "# Importing the required libraries\n",
    "\n",
    "import numpy as np\n",
    "import pandas as pd\n",
    "import matplotlib.pyplot as plt\n",
    "\n",
    "import os\n",
    "import cv2\n",
    "from tqdm import tqdm\n",
    "\n",
    "from sklearn.model_selection import train_test_split\n",
    "\n",
    "import keras\n",
    "from keras import layers\n",
    "from keras.layers import Conv2D, Conv2DTranspose, MaxPooling2D, Dense, Dropout, Flatten\n",
    "from keras.models import Sequential\n"
   ]
  },
  {
   "cell_type": "code",
   "execution_count": null,
   "id": "653be310",
   "metadata": {},
   "outputs": [],
   "source": [
    "# Importing and Processing the dataset\n",
    "\n",
    "train_dir = '../input/train/'\n",
    "\n",
    "train_images = []\n",
    "train_labels = []\n",
    "\n",
    "for img in tqdm(os.listdir(train_dir)):\n",
    "    try:\n",
    "        img_r = cv2.imread(os.path.join(train_dir, img), cv2.IMREAD_GRAYSCALE)\n",
    "        train_images.append(np.array(cv2.resize(img_r, (50, 50), interpolation=cv2.INTER_CUBIC)))\n",
    "        if 'dog' in img:\n",
    "            train_labels.append(1)\n",
    "        else:\n",
    "            train_labels.append(0)\n",
    "    except Exception as e:\n",
    "        print('broken image')\n"
   ]
  },
  {
   "cell_type": "code",
   "execution_count": null,
   "id": "bc6c299c",
   "metadata": {},
   "outputs": [],
   "source": [
    "# Visualising the image\n",
    "\n",
    "plt.title(train_labels[0])\n",
    "_ = plt.imshow(train_images[0])\n"
   ]
  },
  {
   "cell_type": "code",
   "execution_count": null,
   "id": "07b79686",
   "metadata": {},
   "outputs": [],
   "source": [
    "x_train, x_test, y_train, y_test = train_test_split(train_images, train_labels, test_size=0.2, random_state=42)\n"
   ]
  },
  {
   "cell_type": "code",
   "execution_count": null,
   "id": "359bd68f",
   "metadata": {},
   "outputs": [],
   "source": [
    "x_train = np.array(x_train)\n",
    "x_test = np.array(x_test)\n"
   ]
  },
  {
   "cell_type": "code",
   "execution_count": null,
   "id": "37b71a6d",
   "metadata": {},
   "outputs": [],
   "source": [
    "print(\"Train Shape:\" + str(x_train.shape))\n",
    "print(\"Test Shape:\" + str(x_test.shape))\n"
   ]
  },
  {
   "cell_type": "code",
   "execution_count": null,
   "id": "c0b9cde8",
   "metadata": {},
   "outputs": [],
   "source": [
    "plt.title(y_train[0])\n",
    "_ = plt.imshow(x_train[0])\n"
   ]
  },
  {
   "cell_type": "code",
   "execution_count": null,
   "id": "f0921de6",
   "metadata": {},
   "outputs": [],
   "source": [
    "def baseline_model():\n",
    "    model = Sequential()\n",
    "    \n",
    "    model.add(Conv2D(32, (3, 3), input_shape=(50, 50, 1), activation='relu'))\n",
    "    model.add(Conv2D(32, (3, 3), activation='relu'))\n",
    "    model.add(MaxPooling2D((2, 2)))\n",
    "    \n",
    "    model.add(Conv2D(64, (3, 3), activation='relu'))\n",
    "    model.add(Conv2D(64, (3, 3), activation='relu'))\n",
    "    model.add(MaxPooling2D((2, 2)))\n",
    "    \n",
    "    model.add(Conv2D(128, (3, 3), activation='relu'))\n",
    "    model.add(Conv2D(128, (3, 3), activation='relu'))\n",
    "    model.add(MaxPooling2D((2, 2)))\n",
    "    \n",
    "    model.add(Dropout(0.2))\n",
    "\n",
    "    model.add(Flatten())\n",
    "    model.add(Dense(128, activation='relu'))\n",
    "    \n",
    "    #model.add(Dropout(0.2))\n",
    "    \n",
    "    model.add(Dense(1, activation='sigmoid'))\n",
    "    \n",
    "    return model\n"
   ]
  },
  {
   "cell_type": "code",
   "execution_count": null,
   "id": "992a14e5",
   "metadata": {},
   "outputs": [],
   "source": [
    "model = baseline_model()\n"
   ]
  },
  {
   "cell_type": "code",
   "execution_count": null,
   "id": "d3a71dee",
   "metadata": {},
   "outputs": [],
   "source": [
    "model.compile(optimizer='adam', loss='binary_crossentropy', metrics=['accuracy'])\n"
   ]
  },
  {
   "cell_type": "code",
   "execution_count": null,
   "id": "b2f1bdfb",
   "metadata": {},
   "outputs": [],
   "source": [
    "x_train = x_train.reshape(-1, 50, 50, 1)\n",
    "x_test = x_test.reshape(-1, 50, 50, 1)\n"
   ]
  },
  {
   "cell_type": "code",
   "execution_count": null,
   "id": "ec605cf4",
   "metadata": {},
   "outputs": [],
   "source": [
    "history = model.fit(np.array(x_train), y_train, validation_data=(np.array(x_test), y_test), epochs=20, verbose=1)\n"
   ]
  },
  {
   "cell_type": "code",
   "execution_count": null,
   "id": "68fe4c02",
   "metadata": {},
   "outputs": [],
   "source": [
    "hist = history.history\n"
   ]
  },
  {
   "cell_type": "code",
   "execution_count": null,
   "id": "da700f61",
   "metadata": {},
   "outputs": [],
   "source": [
    "plt.plot(hist['loss'], 'green', label='Training Loss')\n",
    "plt.plot(hist['val_loss'], 'blue', label='Validation Loss')\n",
    "_ = plt.legend()\n"
   ]
  },
  {
   "cell_type": "code",
   "execution_count": null,
   "id": "c38fcc2b",
   "metadata": {},
   "outputs": [],
   "source": [
    "plt.plot(hist['acc'], 'green', label='Training Accuracy')\n",
    "plt.plot(hist['val_acc'], 'blue', label='Validation Accuracy')\n",
    "_ = plt.legend()\n"
   ]
  },
  {
   "cell_type": "code",
   "execution_count": null,
   "id": "39df121a",
   "metadata": {},
   "outputs": [],
   "source": [
    "test_dir = '../input/test/'\n",
    "test_images = []\n",
    "\n",
    "for img in tqdm(os.listdir(test_dir)):\n",
    "    try:\n",
    "        img_r = cv2.imread(os.path.join(test_dir, img), cv2.IMREAD_GRAYSCALE)\n",
    "        test_images.append(np.array(cv2.resize(img_r, (50, 50), interpolation=cv2.INTER_CUBIC)))\n",
    "    except Exception as e:\n",
    "        print('broken image')\n"
   ]
  },
  {
   "cell_type": "code",
   "execution_count": null,
   "id": "4403d3f4",
   "metadata": {},
   "outputs": [],
   "source": [
    "_ = plt.imshow(test_images[0])\n"
   ]
  },
  {
   "cell_type": "code",
   "execution_count": null,
   "id": "76c6a0c5",
   "metadata": {},
   "outputs": [],
   "source": [
    "test_images = np.array(test_images)\n",
    "test_images = test_images.reshape(-1, 50, 50, 1)\n",
    "predictions = model.predict(test_images)\n"
   ]
  },
  {
   "cell_type": "code",
   "execution_count": null,
   "id": "e2c921b4",
   "metadata": {},
   "outputs": [],
   "source": [
    "predictions.shape\n"
   ]
  },
  {
   "cell_type": "code",
   "execution_count": null,
   "id": "14ee395e",
   "metadata": {},
   "outputs": [],
   "source": [
    "counter = range(1, len(test_images) + 1)\n",
    "solution = pd.DataFrame({\"id\": counter, \"label\":list(predictions)})\n",
    "cols = ['label']\n",
    "\n",
    "for col in cols:\n",
    "    solution[col] = solution[col].map(lambda x: str(x).lstrip('[').rstrip(']')).astype(float)\n",
    "\n",
    "solution.to_csv(\"dogsVScats.csv\", index = False)\n"
   ]
  },
  {
   "cell_type": "code",
   "execution_count": null,
   "id": "d2aea618",
   "metadata": {},
   "outputs": [],
   "source": [
    " \n"
   ]
  }
 ],
 "metadata": {},
 "nbformat": 4,
 "nbformat_minor": 5
}
