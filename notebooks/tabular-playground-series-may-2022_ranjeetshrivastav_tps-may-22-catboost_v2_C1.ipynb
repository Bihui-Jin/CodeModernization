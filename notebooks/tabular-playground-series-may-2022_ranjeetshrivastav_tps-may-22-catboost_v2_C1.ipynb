{
 "cells": [
  {
   "cell_type": "code",
   "execution_count": null,
   "id": "ec70c1be",
   "metadata": {},
   "outputs": [],
   "source": [
    "import pandas as pd\n",
    "from pathlib import Path"
   ]
  },
  {
   "cell_type": "code",
   "execution_count": null,
   "id": "394bdc03",
   "metadata": {},
   "outputs": [],
   "source": [
    "import pandas as pd\n",
    "import numpy as np\n",
    "import matplotlib.pyplot as plt\n",
    "import seaborn as sns\n",
    "import warnings\n",
    "warnings.filterwarnings('ignore')\n",
    "    \n"
   ]
  },
  {
   "cell_type": "code",
   "execution_count": null,
   "id": "0edf51dd",
   "metadata": {},
   "outputs": [],
   "source": [
    "train = pd.read_csv(r'../input/tabular-playground-series-may-2022/train.csv')\n",
    "train.head()\n"
   ]
  },
  {
   "cell_type": "code",
   "execution_count": null,
   "id": "53e73f4d",
   "metadata": {},
   "outputs": [],
   "source": [
    "test = pd.read_csv(r'../input/tabular-playground-series-may-2022/test.csv')\n",
    "test.head()\n"
   ]
  },
  {
   "cell_type": "code",
   "execution_count": null,
   "id": "3bf76cd6",
   "metadata": {},
   "outputs": [],
   "source": [
    "sub = pd.read_csv(r'../input/tabular-playground-series-may-2022/sample_submission.csv')\n",
    "sub.head()\n"
   ]
  },
  {
   "cell_type": "code",
   "execution_count": null,
   "id": "123a8091",
   "metadata": {},
   "outputs": [],
   "source": [
    "train.drop('id',axis=1,inplace=True)\n",
    "test.drop('id',axis=1,inplace=True)\n"
   ]
  },
  {
   "cell_type": "code",
   "execution_count": null,
   "id": "321b04c7",
   "metadata": {},
   "outputs": [],
   "source": [
    "print(f'train set have {train.shape[0]} rows and {train.shape[1]} columns.')\n",
    "print(f'test set have {test.shape[0]} rows and {test.shape[1]} columns.') \n",
    "print(f'sample_submission set have {sub.shape[0]} rows and {sub.shape[1]} columns.')\n"
   ]
  },
  {
   "cell_type": "code",
   "execution_count": null,
   "id": "79a92f0e",
   "metadata": {},
   "outputs": [],
   "source": [
    "train.isnull().sum()\n"
   ]
  },
  {
   "cell_type": "code",
   "execution_count": null,
   "id": "a3ffe04f",
   "metadata": {},
   "outputs": [],
   "source": [
    "train.describe().T\n"
   ]
  },
  {
   "cell_type": "code",
   "execution_count": null,
   "id": "8bb64963",
   "metadata": {},
   "outputs": [],
   "source": [
    "plt.figure(figsize=(24,20))\n",
    "sns.heatmap(train.corr(),annot=True,cmap=\"YlGnBu\")\n",
    "plt.show()\n"
   ]
  },
  {
   "cell_type": "code",
   "execution_count": null,
   "id": "6cab0d3c",
   "metadata": {},
   "outputs": [],
   "source": [
    "cat = ['f_27']\n",
    "X = train.drop('target',axis=1)\n",
    "y = train['target']\n"
   ]
  },
  {
   "cell_type": "code",
   "execution_count": null,
   "id": "9da6a91a",
   "metadata": {},
   "outputs": [],
   "source": [
    "from sklearn.model_selection import KFold\n",
    "from catboost import CatBoostClassifier\n",
    "from sklearn.metrics import roc_auc_score\n",
    "\n",
    "folds = KFold(n_splits=5, shuffle=True)\n",
    "\n",
    "for fold, (trn_idx, val_idx) in enumerate(folds.split(X)):\n",
    "    print(f\"Fold: {fold}\")\n",
    "    X_train, X_test = X.iloc[trn_idx], X.iloc[val_idx]\n",
    "    y_train, y_test = y.iloc[trn_idx], y.iloc[val_idx]\n",
    "\n",
    "    model = CatBoostClassifier(n_estimators = 1500, \n",
    "                               cat_features = cat,\n",
    "                               task_type=\"GPU\",\n",
    "                               bootstrap_type='Poisson')\n",
    "   \n",
    "    model.fit(X_train, y_train,\n",
    "              eval_set=[(X_test, y_test)],\n",
    "                early_stopping_rounds=400,\n",
    "                verbose=False)\n",
    "    y_pred = model.predict_proba(X_test)[:,1]\n",
    "    roc = roc_auc_score(y_test, y_pred)\n",
    "    \n",
    "    print(f\" roc_auc_score: {roc}\")\n",
    "    print(\"-\"*50)\n"
   ]
  },
  {
   "cell_type": "code",
   "execution_count": null,
   "id": "82fc19f7",
   "metadata": {},
   "outputs": [],
   "source": [
    "pred = model.predict_proba(test)[:,1]\n"
   ]
  },
  {
   "cell_type": "code",
   "execution_count": null,
   "id": "c6a7f81f",
   "metadata": {},
   "outputs": [],
   "source": [
    "sub['target'] = pred\n",
    "sub.to_csv(f'cat.csv',index = False)\n"
   ]
  },
  {
   "cell_type": "code",
   "execution_count": null,
   "id": "fefec2cf",
   "metadata": {},
   "outputs": [],
   "source": [
    "sub.head()\n"
   ]
  },
  {
   "cell_type": "code",
   "execution_count": null,
   "id": "2f4d7d7e",
   "metadata": {},
   "outputs": [],
   "source": [
    " \n"
   ]
  }
 ],
 "metadata": {},
 "nbformat": 4,
 "nbformat_minor": 5
}
