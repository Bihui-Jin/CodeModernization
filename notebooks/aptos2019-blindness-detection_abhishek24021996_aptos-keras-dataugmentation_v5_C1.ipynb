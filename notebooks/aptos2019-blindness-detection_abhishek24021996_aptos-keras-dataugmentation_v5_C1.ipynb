{
 "cells": [
  {
   "cell_type": "code",
   "execution_count": null,
   "id": "cc6f187f",
   "metadata": {},
   "outputs": [],
   "source": [
    "import pandas as pd\n",
    "from pathlib import Path"
   ]
  },
  {
   "cell_type": "code",
   "execution_count": null,
   "id": "5de63828",
   "metadata": {},
   "outputs": [],
   "source": [
    "# This Python 3 environment comes with many helpful analytics libraries installed\n",
    "# It is defined by the kaggle/python docker image: https://github.com/kaggle/docker-python\n",
    "# For example, here's several helpful packages to load in \n",
    "\n",
    "import numpy as np # linear algebra\n",
    "import pandas as pd # data processing, CSV file I/O (e.g. pd.read_csv)\n",
    "\n",
    "# Input data files are available in the \"../input/\" directory.\n",
    "# For example, running this (by clicking run or pressing Shift+Enter) will list all files under the input directory\n",
    "\n",
    "import os\n",
    "# for dirname, _, filenames in os.walk('/kaggle/input'):\n",
    "#     for filename in filenames:\n",
    "#         print(os.path.join(dirname, filename))\n",
    "\n",
    "# Any results you write to the current directory are saved as output.\n"
   ]
  },
  {
   "cell_type": "code",
   "execution_count": null,
   "id": "5c250aaf",
   "metadata": {},
   "outputs": [],
   "source": [
    "import os\n",
    "import sys\n",
    "import numpy as np\n",
    "import pandas as pd\n",
    "import cv2\n",
    "import seaborn as sns\n",
    "\n",
    "from math import ceil\n",
    "from tqdm import tqdm\n",
    "\n",
    "from PIL import Image\n",
    "from matplotlib import pyplot as plt\n",
    "\n",
    "from sklearn.model_selection import train_test_split\n",
    "\n",
    "from keras.applications.inception_v3 import InceptionV3, preprocess_input\n",
    "from keras.preprocessing.image import ImageDataGenerator\n",
    "from keras.models import Sequential, Model\n",
    "from keras.layers import Input, Dense, GlobalAveragePooling2D, Dropout\n",
    "from keras.optimizers import RMSprop, Adam, SGD\n",
    "from keras.callbacks import ModelCheckpoint, ReduceLROnPlateau, EarlyStopping\n"
   ]
  },
  {
   "cell_type": "code",
   "execution_count": null,
   "id": "f476f86c",
   "metadata": {},
   "outputs": [],
   "source": [
    "data_path = \"/kaggle/input/\"\n",
    "train_img_path = os.path.join(data_path,'train_images')\n",
    "test_img_path = os.path.join(data_path,'test_images')\n",
    "train_label_path = os.path.join(data_path,'train.csv')\n",
    "test_label_path = os.path.join(data_path,'test.csv')\n",
    "\n",
    "df_train = pd.read_csv(train_label_path)\n",
    "df_test = pd.read_csv(test_label_path)\n",
    "\n",
    "print(\"num of train images \", len(os.listdir(train_img_path)))\n",
    "print(\"num of test images \",len(os.listdir(test_img_path)))\n"
   ]
  },
  {
   "cell_type": "code",
   "execution_count": null,
   "id": "3aa9278d",
   "metadata": {},
   "outputs": [],
   "source": [
    " \n"
   ]
  },
  {
   "cell_type": "code",
   "execution_count": null,
   "id": "7fbbfc3a",
   "metadata": {},
   "outputs": [],
   "source": [
    "import matplotlib.pyplot as plt\n",
    "df_train['diagnosis'].value_counts().plot(kind = 'bar')\n",
    "plt.title(\"Level of diagnosis\")\n"
   ]
  },
  {
   "cell_type": "code",
   "execution_count": null,
   "id": "3f43705b",
   "metadata": {},
   "outputs": [],
   "source": [
    "import random\n",
    "samp = random.sample(df_train['id_code'].tolist(),3)\n",
    "sub=130\n",
    "for i in range(len(samp)):\n",
    "    sub+=1\n",
    "    plt.figure(figsize=(15,15))\n",
    "    plt.subplot(sub)\n",
    "    file_path = \"../input/train_images/\"+samp[i]+\".png\"\n",
    "    img = cv2.imread(file_path)\n",
    "    img = cv2.cvtColor(img, cv2.COLOR_BGR2RGB)\n",
    "    plt.imshow(img)\n"
   ]
  },
  {
   "cell_type": "code",
   "execution_count": null,
   "id": "eea64cbc",
   "metadata": {},
   "outputs": [],
   "source": [
    "import random\n",
    "samp = random.sample(df_train['id_code'].tolist(),3)\n",
    "sub=130\n",
    "for i in range(len(samp)):\n",
    "    sub+=1\n",
    "    plt.figure(figsize=(15,15))\n",
    "    plt.subplot(sub)\n",
    "    file_path = \"../input/train_images/\"+samp[i]+\".png\"\n",
    "    img = cv2.imread(file_path)\n",
    "    img = cv2.cvtColor(img, cv2.COLOR_BGR2RGB)\n",
    "    plt.imshow(img)\n"
   ]
  },
  {
   "cell_type": "code",
   "execution_count": null,
   "id": "6bb25f16",
   "metadata": {},
   "outputs": [],
   "source": [
    "df_train_img=[]\n",
    "train_list = df_train[\"id_code\"].tolist()\n",
    "for item in train_list:\n",
    "    file_path = \"../input/train_images/\"+str(item)+\".png\"\n",
    "    img = cv2.imread(file_path)\n",
    "    img = cv2.resize(img,(150,150))\n",
    "    #print(img)\n",
    "    df_train_img.append(img)\n",
    "df_train_img = np.array(df_train_img, np.float32)/255\n"
   ]
  },
  {
   "cell_type": "code",
   "execution_count": null,
   "id": "7091c152",
   "metadata": {},
   "outputs": [],
   "source": [
    "df_test_img=[]\n",
    "for item in df_test[\"id_code\"].tolist():\n",
    "    file_path = \"../input/test_images/\"+str(item)+\".png\"\n",
    "    img = cv2.imread(file_path)\n",
    "    img = cv2.resize(img,(150,150))\n",
    "    df_test_img.append(img)\n",
    "df_test_img = np.array(df_test_img, np.float32)\n"
   ]
  },
  {
   "cell_type": "code",
   "execution_count": null,
   "id": "ae5e2d29",
   "metadata": {},
   "outputs": [],
   "source": [
    " y_train = (df_train.iloc[:,1].values).astype('int32')\n",
    "# from keras.utils.np_utils import to_categorical\n",
    "# y_train = to_categorical(y_train)\n"
   ]
  },
  {
   "cell_type": "code",
   "execution_count": null,
   "id": "be2c84a3",
   "metadata": {},
   "outputs": [],
   "source": [
    "y_train\n"
   ]
  },
  {
   "cell_type": "code",
   "execution_count": null,
   "id": "31cf45f6",
   "metadata": {},
   "outputs": [],
   "source": [
    "from sklearn.model_selection import train_test_split\n",
    "X = df_train_img\n",
    "Y = y_train\n",
    "x_train, x_val, y_train, y_val = train_test_split(df_train_img, y_train, test_size = 0.15, random_state = 42)\n"
   ]
  },
  {
   "cell_type": "code",
   "execution_count": null,
   "id": "69d543b1",
   "metadata": {},
   "outputs": [],
   "source": [
    "# df_train_img.reshape(df_train_img.shape[0],150,150,1)\n"
   ]
  },
  {
   "cell_type": "code",
   "execution_count": null,
   "id": "cae4d154",
   "metadata": {},
   "outputs": [],
   "source": [
    "# train_datagen = ImageDataGenerator(rescale = 1./255,\n",
    "#                                   shear_range = 0.2,\n",
    "#                                   zoom_range = 0.2,\n",
    "#                                   horizontal_flip = True)\n",
    "# test_datagen = ImageDataGenerator(rescale = 1./255)\n"
   ]
  },
  {
   "cell_type": "code",
   "execution_count": null,
   "id": "66c5aab5",
   "metadata": {},
   "outputs": [],
   "source": [
    "from keras.preprocessing import image\n",
    "gen = image.ImageDataGenerator()\n"
   ]
  },
  {
   "cell_type": "code",
   "execution_count": null,
   "id": "83da5cb3",
   "metadata": {},
   "outputs": [],
   "source": [
    "batches = gen.flow(x_train, y_train, batch_size = 64)\n",
    "val_batches = gen.flow(x_val, y_val, batch_size = 64)\n"
   ]
  },
  {
   "cell_type": "code",
   "execution_count": null,
   "id": "cc76ac58",
   "metadata": {},
   "outputs": [],
   "source": [
    " \n"
   ]
  },
  {
   "cell_type": "code",
   "execution_count": null,
   "id": "26a4b3fd",
   "metadata": {},
   "outputs": [],
   "source": [
    "from keras.models import Sequential\n",
    "from keras.layers import Convolution2D\n",
    "from keras.layers import MaxPooling2D\n",
    "from keras.layers import Flatten\n",
    "from keras.layers import Dense\n"
   ]
  },
  {
   "cell_type": "code",
   "execution_count": null,
   "id": "88f788ee",
   "metadata": {},
   "outputs": [],
   "source": [
    "classifier = Sequential()\n",
    "classifier.add(Convolution2D(32, 3 ,3, input_shape = (150,150,3), activation  = 'relu'))\n",
    "classifier.add(MaxPooling2D(pool_size = (2,2)))\n",
    "classifier.add(Convolution2D(32,3,3, activation = 'relu'))\n",
    "classifier.add(MaxPooling2D(pool_size = (2,2)))\n",
    "classifier.add(Flatten())\n",
    "classifier.add(Dense(output_dim = 75, activation = 'relu'))\n",
    "classifier.add(Dense(output_dim = 5, activation = 'softmax'))\n",
    "\n",
    "classifier.compile(optimizer = 'nadam', loss = 'sparse_categorical_crossentropy', metrics = ['accuracy'])\n"
   ]
  },
  {
   "cell_type": "code",
   "execution_count": null,
   "id": "d50880e1",
   "metadata": {},
   "outputs": [],
   "source": [
    "hist = classifier.fit_generator(generator=batches, steps_per_epoch = batches.n,\n",
    "                             epochs=3, validation_data=val_batches,\n",
    "                             validation_steps=val_batches.n)\n"
   ]
  },
  {
   "cell_type": "code",
   "execution_count": null,
   "id": "1e3a8b1d",
   "metadata": {},
   "outputs": [],
   "source": [
    "# predictions.count_values()\n"
   ]
  },
  {
   "cell_type": "code",
   "execution_count": null,
   "id": "2791709e",
   "metadata": {},
   "outputs": [],
   "source": [
    "predictions = classifier.predict_classes(df_test_img,verbose=0)\n",
    "sudmissions = pd.DataFrame({'id_code':df_test.iloc[:,0].tolist(),\n",
    "                           'diagnosis': predictions})\n",
    "sudmissions.to_csv(\"submission.csv\", index = False, header = True)\n"
   ]
  },
  {
   "cell_type": "code",
   "execution_count": null,
   "id": "b4915c9a",
   "metadata": {},
   "outputs": [],
   "source": [
    " \n"
   ]
  },
  {
   "cell_type": "code",
   "execution_count": null,
   "id": "6a3123b9",
   "metadata": {},
   "outputs": [],
   "source": [
    " \n"
   ]
  }
 ],
 "metadata": {},
 "nbformat": 4,
 "nbformat_minor": 5
}
