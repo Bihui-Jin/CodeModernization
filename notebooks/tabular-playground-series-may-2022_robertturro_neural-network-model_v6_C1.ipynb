{
  "cells": [
    {
      "cell_type": "code",
      "execution_count": null,
      "id": "b042be29",
      "metadata": {},
      "outputs": [],
      "source": [
        "import pandas as pd\n",
        "from pathlib import Path"
      ]
    },
    {
      "cell_type": "code",
      "execution_count": null,
      "id": "b97118e7",
      "metadata": {},
      "outputs": [],
      "source": [
        "import pandas as pd\n",
        "import numpy as np\n",
        "import tensorflow as tf\n",
        "import keras \n",
        "from keras.models import Sequential\n",
        "from keras import layers\n",
        "from tensorflow.keras.utils import to_categorical\n",
        "from keras import models\n",
        "from sklearn.preprocessing import StandardScaler\n",
        "from sklearn import preprocessing\n",
        "from tensorflow.keras import regularizers\n"
      ]
    },
    {
      "cell_type": "code",
      "execution_count": null,
      "id": "8173bc46",
      "metadata": {},
      "outputs": [],
      "source": [
        "train = pd.read_csv('../input/tabular-playground-series-may-2022/train.csv')\n",
        "test = pd.read_csv('../input/tabular-playground-series-may-2022/test.csv')\n",
        "sample_sub = pd.read_csv('../input/tabular-playground-series-may-2022/sample_submission.csv')\n"
      ]
    },
    {
      "cell_type": "code",
      "execution_count": null,
      "id": "fa21b37b",
      "metadata": {},
      "outputs": [],
      "source": [
        "#'f_12','f_18','f_13','f_16','f_27'\n"
      ]
    },
    {
      "cell_type": "code",
      "execution_count": null,
      "id": "fb8c58e3",
      "metadata": {},
      "outputs": [],
      "source": [
        "y_train = train['target']\n",
        "train = train.drop(['target'],axis=1)\n",
        "#test = test.drop(['f_12','f_18','f_13','f_16','f_27'],axis=1)\n"
      ]
    },
    {
      "cell_type": "code",
      "execution_count": null,
      "id": "0d8742a7",
      "metadata": {},
      "outputs": [],
      "source": [
        "train.head()\n"
      ]
    },
    {
      "cell_type": "code",
      "execution_count": null,
      "id": "b460bcab",
      "metadata": {},
      "outputs": [],
      "source": [
        "train = train.set_index('id')\n",
        "test = test.set_index('id')\n",
        "\n",
        "train_columns = train.columns\n",
        "test_columns = test.columns\n"
      ]
    },
    {
      "cell_type": "code",
      "execution_count": null,
      "id": "a51ec27f",
      "metadata": {},
      "outputs": [],
      "source": [
        "scaler = StandardScaler()\n",
        "le = preprocessing.LabelEncoder()\n",
        "\n",
        "f_27 = le.fit_transform(train['f_27'])\n",
        "f_27_test = le.fit_transform(test['f_27'])\n",
        "\n",
        "train['f_27'] = f_27\n",
        "test['f_27'] = f_27_test\n",
        "\n",
        "train = scaler.fit_transform(train)\n",
        "test = scaler.fit_transform(test)\n"
      ]
    },
    {
      "cell_type": "code",
      "execution_count": null,
      "id": "02f49531",
      "metadata": {},
      "outputs": [],
      "source": [
        "train = pd.DataFrame(data=train,columns=train_columns)\n",
        "test = pd.DataFrame(data=test,columns=test_columns)\n"
      ]
    },
    {
      "cell_type": "code",
      "execution_count": null,
      "id": "bf31e386",
      "metadata": {},
      "outputs": [],
      "source": [
        "train.head()\n"
      ]
    },
    {
      "cell_type": "code",
      "execution_count": null,
      "id": "a2f35b14",
      "metadata": {},
      "outputs": [],
      "source": [
        "train.shape\n"
      ]
    },
    {
      "cell_type": "code",
      "execution_count": null,
      "id": "0f18e32a",
      "metadata": {},
      "outputs": [],
      "source": [
        "model2 = models.Sequential()\n",
        "model2.add(layers.Dense(1000, kernel_regularizer=regularizers.L1L2(l1=1e-5, l2=1e-4), activation=\"relu\",input_shape=(31,)))\n",
        "model2.add(layers.BatchNormalization())\n",
        "model2.add(layers.Dense(600, kernel_regularizer=regularizers.L1L2(l1=1e-5, l2=1e-4), activation=\"relu\"))\n",
        "model2.add(layers.Dropout(0.1))\n",
        "model2.add(layers.Dense(200,kernel_regularizer=regularizers.L1L2(l1=1e-5, l2=1e-4), activation=\"relu\"))\n",
        "model2.add(layers.Dropout(0.2))\n",
        "model2.add(layers.Dense(50,kernel_regularizer=regularizers.L1L2(l1=1e-5, l2=1e-4), activation=\"relu\"))\n",
        "model2.add(layers.Dropout(0.3))\n",
        "model2.add(layers.Dense(16,kernel_regularizer=regularizers.L1L2(l1=1e-5, l2=1e-4), activation=\"relu\"))\n",
        "model2.add(layers.Dense(1,activation='sigmoid'))\n",
        "\n",
        "model2.summary()\n"
      ]
    },
    {
      "cell_type": "code",
      "execution_count": null,
      "id": "c136e9e2",
      "metadata": {},
      "outputs": [],
      "source": [
        "model2.compile(optimizer='adam',loss='binary_crossentropy',metrics=['AUC'])\n"
      ]
    },
    {
      "cell_type": "code",
      "execution_count": null,
      "id": "5ded22b9",
      "metadata": {},
      "outputs": [],
      "source": [
        "callback = tf.keras.callbacks.EarlyStopping(monitor='loss', patience=10)\n",
        "model2.fit(train, y_train, validation_split=0.3, shuffle=True, epochs=200,batch_size=2048,callbacks=[callback])\n"
      ]
    },
    {
      "cell_type": "code",
      "execution_count": null,
      "id": "30f10715",
      "metadata": {},
      "outputs": [],
      "source": [
        "#model1 = models.Sequential() \n",
        "#model1.add(layers.Dense(5000, activation='relu', input_shape=(31,)))\n",
        "#model1.add(layers.Dropout(0.3))\n",
        "#model1.add(layers.Dense(600, activation='relu'))\n",
        "#model1.add(layers.Dense(350, activation='relu'))\n",
        "#model1.add(layers.Dense(200, activation='relu'))\n",
        "#model1.add(layers.Dropout(0.3))\n",
        "#model1.add(layers.Dense(50, activation='relu'))\n",
        "#model1.add(layers.Dense(15, activation='relu'))\n",
        "#model1.add(layers.Dense(1, activation='sigmoid')) \n",
        "\n",
        "#model1.summary()\n"
      ]
    },
    {
      "cell_type": "code",
      "execution_count": null,
      "id": "655521c2",
      "metadata": {},
      "outputs": [],
      "source": [
        "#model1.compile(optimizer='adam',loss='binary_crossentropy',metrics=['AUC'])\n"
      ]
    },
    {
      "cell_type": "code",
      "execution_count": null,
      "id": "d210ee51",
      "metadata": {},
      "outputs": [],
      "source": [
        "#model1.fit(train, y_train, validation_split=0.3, shuffle=True, epochs=10)\n"
      ]
    },
    {
      "cell_type": "code",
      "execution_count": null,
      "id": "8acc0321",
      "metadata": {},
      "outputs": [],
      "source": [
        "preds = model2.predict(test)\n"
      ]
    },
    {
      "cell_type": "code",
      "execution_count": null,
      "id": "4815ddc2",
      "metadata": {},
      "outputs": [],
      "source": [
        "sample_sub['target'] = preds\n"
      ]
    },
    {
      "cell_type": "code",
      "execution_count": null,
      "id": "b59bdf8e",
      "metadata": {},
      "outputs": [],
      "source": [
        "sample_sub.to_csv('submission.csv', index=False)\n"
      ]
    }
  ],
  "metadata": {},
  "nbformat": 4,
  "nbformat_minor": 5
}