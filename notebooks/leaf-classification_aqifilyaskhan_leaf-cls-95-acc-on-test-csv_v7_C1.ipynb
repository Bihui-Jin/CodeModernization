{
 "cells": [
  {
   "cell_type": "code",
   "execution_count": null,
   "id": "2088ae72",
   "metadata": {},
   "outputs": [],
   "source": [
    "import pandas as pd\n",
    "from pathlib import Path"
   ]
  },
  {
   "cell_type": "code",
   "execution_count": null,
   "id": "ad61b41e",
   "metadata": {},
   "outputs": [],
   "source": [
    "# This Python 3 environment comes with many helpful analytics libraries installed\n",
    "# It is defined by the kaggle/python Docker image: https://github.com/kaggle/docker-python\n",
    "# For example, here's several helpful packages to load\n",
    "\n",
    "import numpy as np # linear algebra\n",
    "import pandas as pd # data processing, CSV file I/O (e.g. pd.read_csv)\n",
    "\n",
    "# Input data files are available in the read-only \"../input/\" directory\n",
    "# For example, running this (by clicking run or pressing Shift+Enter) will list all files under the input directory\n",
    "\n",
    "import os\n",
    "for dirname, _, filenames in os.walk('/kaggle/input'):\n",
    "    for filename in filenames:\n",
    "        print(os.path.join(dirname, filename))\n",
    "\n",
    "# You can write up to 5GB to the current directory (/kaggle/working/) that gets preserved as output when you create a version using \"Save & Run All\" \n",
    "# You can also write temporary files to /kaggle/temp/, but they won't be saved outside of the current session\n"
   ]
  },
  {
   "cell_type": "code",
   "execution_count": null,
   "id": "9db16829",
   "metadata": {},
   "outputs": [],
   "source": [
    "data= pd.read_csv(\"../input/leaf-classification/train.csv.zip\",index_col=False)\n",
    "test_data= pd.read_csv(\"../input/leaf-classification/test.csv.zip\", index_col=False)\n",
    "data.head(2)\n"
   ]
  },
  {
   "cell_type": "code",
   "execution_count": null,
   "id": "6156da24",
   "metadata": {},
   "outputs": [],
   "source": [
    "# #Checking Null values\n",
    "# obj = data.isnull().sum()\n",
    "# for key, value in obj.iteritems():\n",
    "# #     print(key,\":\",value)\n",
    "\n",
    "# obj_2 = test_data.isnull().sum()\n",
    "# for key, value in obj_2.iteritems():\n",
    "# #     print(key,\":\",value)\n"
   ]
  },
  {
   "cell_type": "code",
   "execution_count": null,
   "id": "82200487",
   "metadata": {},
   "outputs": [],
   "source": [
    "# obj2 = data['species'].value_counts()\n",
    "# for key, value in obj2.iteritems():\n",
    "# #     print(key,\":\",value)\n"
   ]
  },
  {
   "cell_type": "code",
   "execution_count": null,
   "id": "918b9658",
   "metadata": {},
   "outputs": [],
   "source": [
    "from sklearn.preprocessing import LabelEncoder\n",
    "encoder=LabelEncoder()\n",
    "le=encoder.fit(data.species)\n",
    "labels=le.transform(data.species)\n",
    "classes=list(le.classes_)\n",
    "# classes\n"
   ]
  },
  {
   "cell_type": "code",
   "execution_count": null,
   "id": "d2c3119a",
   "metadata": {},
   "outputs": [],
   "source": [
    "data=data.drop(['id','species'],axis=1)\n",
    "test_id=test_data.id\n",
    "test_data=test_data.drop(['id'],axis=1)\n"
   ]
  },
  {
   "cell_type": "code",
   "execution_count": null,
   "id": "801f5ab0",
   "metadata": {},
   "outputs": [],
   "source": [
    "from sklearn.model_selection import train_test_split\n",
    "x_train,x_test,y_train,y_test=train_test_split(data,labels,test_size=.2,shuffle=True,stratify=labels)\n"
   ]
  },
  {
   "cell_type": "code",
   "execution_count": null,
   "id": "0920d176",
   "metadata": {},
   "outputs": [],
   "source": [
    "from sklearn.ensemble import ExtraTreesClassifier\n",
    "lda = ExtraTreesClassifier(bootstrap=False,\n",
    "                           ccp_alpha=0.0,\n",
    "                           class_weight=None,\n",
    "                           criterion='gini',\n",
    "                           max_depth=60,\n",
    "                           max_features='sqrt',\n",
    "                           max_leaf_nodes=None,\n",
    "                           max_samples=None,\n",
    "                           min_impurity_decrease=0.0,\n",
    "                           min_impurity_split=None,\n",
    "                           min_samples_leaf=2,\n",
    "                           min_samples_split=10,\n",
    "                           min_weight_fraction_leaf=0.0,\n",
    "                           n_estimators=195,\n",
    "                           n_jobs=None, oob_score=False,\n",
    "                           random_state=6713, verbose=0,\n",
    "                           warm_start=False)\n",
    "\n",
    "lda.fit(x_train,y_train)\n"
   ]
  },
  {
   "cell_type": "code",
   "execution_count": null,
   "id": "5be11281",
   "metadata": {},
   "outputs": [],
   "source": [
    "lda.score(x_train,y_train), lda.score(x_test,y_test)\n"
   ]
  },
  {
   "cell_type": "code",
   "execution_count": null,
   "id": "204f82be",
   "metadata": {},
   "outputs": [],
   "source": [
    "predicted=lda.predict_proba(test_data)\n",
    "\n",
    "sample_df=pd.read_csv('../input/leaf-classification/sample_submission.csv.zip',index_col=False)\n",
    "sample_df.head(2)\n"
   ]
  },
  {
   "cell_type": "code",
   "execution_count": null,
   "id": "a8174aa6",
   "metadata": {},
   "outputs": [],
   "source": [
    "df_sub=pd.DataFrame(predicted,columns=sample_df.columns[1:])\n",
    "df_sub.head(2)\n"
   ]
  },
  {
   "cell_type": "code",
   "execution_count": null,
   "id": "a7563b8a",
   "metadata": {},
   "outputs": [],
   "source": [
    "df_sub1=pd.DataFrame(test_id)\n",
    "df_sub1.head(2)\n"
   ]
  },
  {
   "cell_type": "code",
   "execution_count": null,
   "id": "0089e2e4",
   "metadata": {},
   "outputs": [],
   "source": [
    "final_sub=pd.concat([df_sub1,df_sub],axis=1)\n",
    "final_sub.to_csv('sample_submission.csv',index=False)\n"
   ]
  }
 ],
 "metadata": {},
 "nbformat": 4,
 "nbformat_minor": 5
}
