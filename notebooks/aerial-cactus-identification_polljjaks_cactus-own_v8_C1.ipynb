{
 "cells": [
  {
   "cell_type": "code",
   "execution_count": null,
   "id": "15c94fc1",
   "metadata": {},
   "outputs": [],
   "source": [
    "import pandas as pd\n",
    "from pathlib import Path"
   ]
  },
  {
   "cell_type": "code",
   "execution_count": null,
   "id": "9a69cf40",
   "metadata": {},
   "outputs": [],
   "source": [
    "# This Python 3 environment comes with many helpful analytics libraries installed\n",
    "# It is defined by the kaggle/python Docker image: https://github.com/kaggle/docker-python\n",
    "# For example, here's several helpful packages to load\n",
    "\n",
    "import numpy as np # linear algebra\n",
    "import pandas as pd # data processing, CSV file I/O (e.g. pd.read_csv)\n",
    "\n",
    "# Input data files are available in the read-only \"../input/\" directory\n",
    "# For example, running this (by clicking run or pressing Shift+Enter) will list all files under the input directory\n",
    "\n",
    "import os\n",
    "for dirname, _, filenames in os.walk('/kaggle/input'):\n",
    "    for filename in filenames:\n",
    "        print(os.path.join(dirname, filename))\n",
    "\n",
    "# You can write up to 20GB to the current directory (/kaggle/working/) that gets preserved as output when you create a version using \"Save & Run All\" \n",
    "# You can also write temporary files to /kaggle/temp/, but they won't be saved outside of the current session\n"
   ]
  },
  {
   "cell_type": "code",
   "execution_count": null,
   "id": "ca87089e",
   "metadata": {},
   "outputs": [],
   "source": [
    "import os\n",
    "import zipfile\n",
    "from fastai.vision.all import *\n",
    "from PIL import Image\n",
    "import pandas as pd\n",
    "import random\n",
    "import shutil\n",
    "from torchvision.transforms import ToTensor\n"
   ]
  },
  {
   "cell_type": "code",
   "execution_count": null,
   "id": "e678fdad",
   "metadata": {},
   "outputs": [],
   "source": [
    "train_file_path = '/kaggle/input/aerial-cactus-identification/train.zip'\n",
    "image_dir = '/kaggle/working/'\n",
    "\n",
    "with zipfile.ZipFile(train_file_path, 'r') as zip_ref:\n",
    "    zip_ref.extractall(image_dir)\n",
    "    \n",
    "train_list = os.listdir('/kaggle/working/train')\n"
   ]
  },
  {
   "cell_type": "code",
   "execution_count": null,
   "id": "fec15ea4",
   "metadata": {},
   "outputs": [],
   "source": [
    "len(train_list)\n"
   ]
  },
  {
   "cell_type": "code",
   "execution_count": null,
   "id": "e0f7a388",
   "metadata": {},
   "outputs": [],
   "source": [
    "for i, file_name in enumerate(train_list[:10]):\n",
    "    print(f\"{i+1}: {file_name}\")\n"
   ]
  },
  {
   "cell_type": "code",
   "execution_count": null,
   "id": "21c1b719",
   "metadata": {},
   "outputs": [],
   "source": [
    "test_file_path = '/kaggle/input/aerial-cactus-identification/test.zip'\n",
    "\n",
    "with zipfile.ZipFile(test_file_path, 'r') as zip_ref:\n",
    "    zip_ref.extractall(image_dir)\n",
    "    \n",
    "test_list = os.listdir('/kaggle/working/test')\n"
   ]
  },
  {
   "cell_type": "code",
   "execution_count": null,
   "id": "b5b93062",
   "metadata": {},
   "outputs": [],
   "source": [
    "len(test_list)\n"
   ]
  },
  {
   "cell_type": "code",
   "execution_count": null,
   "id": "4841a8b3",
   "metadata": {},
   "outputs": [],
   "source": [
    "for i, file_name in enumerate(test_list[:10]):\n",
    "    print(f\"{i+1}: {file_name}\")\n"
   ]
  },
  {
   "cell_type": "code",
   "execution_count": null,
   "id": "87f6dde8",
   "metadata": {},
   "outputs": [],
   "source": [
    "train_image_file_path = get_image_files('/kaggle/working/train')\n",
    "train_image_file_path[0]\n"
   ]
  },
  {
   "cell_type": "code",
   "execution_count": null,
   "id": "58c890e6",
   "metadata": {},
   "outputs": [],
   "source": [
    "im = Image.open(train_image_file_path[0])\n",
    "im\n"
   ]
  },
  {
   "cell_type": "code",
   "execution_count": null,
   "id": "1cdee008",
   "metadata": {},
   "outputs": [],
   "source": [
    "test_image_file_path = get_image_files('/kaggle/working/test')\n",
    "test_image_file_path[0]\n"
   ]
  },
  {
   "cell_type": "code",
   "execution_count": null,
   "id": "9f9d4c76",
   "metadata": {},
   "outputs": [],
   "source": [
    "im2 = Image.open(test_image_file_path[0])\n",
    "im2\n"
   ]
  },
  {
   "cell_type": "code",
   "execution_count": null,
   "id": "c24178a0",
   "metadata": {},
   "outputs": [],
   "source": [
    "train_csv = pd.read_csv('/kaggle/input/aerial-cactus-identification/train.csv')\n",
    "test_csv = pd.read_csv('/kaggle/input/aerial-cactus-identification/sample_submission.csv')\n"
   ]
  },
  {
   "cell_type": "code",
   "execution_count": null,
   "id": "8fa30ff2",
   "metadata": {},
   "outputs": [],
   "source": [
    "train_csv.head()\n"
   ]
  },
  {
   "cell_type": "code",
   "execution_count": null,
   "id": "6ecfb463",
   "metadata": {},
   "outputs": [],
   "source": [
    "test_csv.head()\n"
   ]
  },
  {
   "cell_type": "code",
   "execution_count": null,
   "id": "acfaacff",
   "metadata": {},
   "outputs": [],
   "source": [
    "train_csv[train_csv['has_cactus']==1]\n"
   ]
  },
  {
   "cell_type": "code",
   "execution_count": null,
   "id": "a7f50d6d",
   "metadata": {},
   "outputs": [],
   "source": [
    "train_csv[train_csv['has_cactus']==0]\n"
   ]
  },
  {
   "cell_type": "code",
   "execution_count": null,
   "id": "67b912c9",
   "metadata": {},
   "outputs": [],
   "source": [
    "train_csv[train_csv['id']=='f11eab7bc9859cc7b77821261dcd2a0a.jpg']['has_cactus']\n"
   ]
  },
  {
   "cell_type": "code",
   "execution_count": null,
   "id": "d0ceb439",
   "metadata": {},
   "outputs": [],
   "source": [
    "#데이터셋 클래스 커스텀하기 \n",
    "from torch.utils.data import Dataset\n",
    "\n",
    "class CustomDataset(Dataset):\n",
    "    def __init__(self, path, csv_file, transform=None):  \n",
    "        self.path = path\n",
    "        self.csv_file = csv_file\n",
    "        self.transform = transform      \n",
    "        \n",
    "    def __len__(self):\n",
    "        return len(self.path)\n",
    "    \n",
    "    def __getitem__(self, i):\n",
    "        img = Image.open(self.path[i]).convert('RGB')\n",
    "        label = self.csv_file[self.csv_file['id']==self.path[i][22:]]['has_cactus']\n",
    "        \n",
    "        label = label.values\n",
    "        \n",
    "        if self.transform:\n",
    "            img = self.transform(img)\n",
    "            \n",
    "        return img, label\n"
   ]
  },
  {
   "cell_type": "code",
   "execution_count": null,
   "id": "250f4f6a",
   "metadata": {},
   "outputs": [],
   "source": [
    "# train 데이터셋 이미지를 train과 valid로 나누기\n",
    "train_list = os.listdir('/kaggle/working/train')\n",
    "random.shuffle(train_list)\n",
    "\n",
    "num_valid = int(len(train_list)* 0.25)\n",
    "num_train = len(train_list) - num_valid\n"
   ]
  },
  {
   "cell_type": "code",
   "execution_count": null,
   "id": "757dc43f",
   "metadata": {},
   "outputs": [],
   "source": [
    "test_list = os.listdir('/kaggle/working/test')\n"
   ]
  },
  {
   "cell_type": "code",
   "execution_count": null,
   "id": "ee686ca1",
   "metadata": {},
   "outputs": [],
   "source": [
    "train, valid = train_list[num_valid:], train_list[:num_valid]\n"
   ]
  },
  {
   "cell_type": "code",
   "execution_count": null,
   "id": "d89870b7",
   "metadata": {},
   "outputs": [],
   "source": [
    "len(train), len(valid)\n"
   ]
  },
  {
   "cell_type": "code",
   "execution_count": null,
   "id": "6f5ed7ea",
   "metadata": {},
   "outputs": [],
   "source": [
    "train_path = [os.path.join('/kaggle/working/train', file_name) for file_name in train]\n",
    "valid_path = [os.path.join('/kaggle/working/train', file_name) for file_name in valid]\n"
   ]
  },
  {
   "cell_type": "code",
   "execution_count": null,
   "id": "344a1431",
   "metadata": {},
   "outputs": [],
   "source": [
    "train_path[0], valid_path[0]\n"
   ]
  },
  {
   "cell_type": "code",
   "execution_count": null,
   "id": "24bf5cd3",
   "metadata": {},
   "outputs": [],
   "source": [
    "train_path[0][22:], valid_path[0][22:]\n"
   ]
  },
  {
   "cell_type": "code",
   "execution_count": null,
   "id": "7137c14c",
   "metadata": {},
   "outputs": [],
   "source": [
    "test_path = [os.path.join('/kaggle/working/test', file_name) for file_name in test_list]\n",
    "test_path[0]\n"
   ]
  },
  {
   "cell_type": "code",
   "execution_count": null,
   "id": "08428d4f",
   "metadata": {},
   "outputs": [],
   "source": [
    "#train, valid 데이터셋 만들기\n",
    "train_ds, valid_ds = CustomDataset(train_path, train_csv, transform=ToTensor()), CustomDataset(valid_path, train_csv, transform=ToTensor())\n"
   ]
  },
  {
   "cell_type": "code",
   "execution_count": null,
   "id": "4ffb3c36",
   "metadata": {},
   "outputs": [],
   "source": [
    "#데이터셋 확인하기\n",
    "x, y = train_ds[0]\n"
   ]
  },
  {
   "cell_type": "code",
   "execution_count": null,
   "id": "ab012da9",
   "metadata": {},
   "outputs": [],
   "source": [
    "x.shape, y\n"
   ]
  },
  {
   "cell_type": "code",
   "execution_count": null,
   "id": "df636bf4",
   "metadata": {},
   "outputs": [],
   "source": [
    "test_ds = CustomDataset(test_path, test_csv, transform=ToTensor())\n"
   ]
  },
  {
   "cell_type": "code",
   "execution_count": null,
   "id": "0f55445c",
   "metadata": {},
   "outputs": [],
   "source": [
    "z, k = test_ds[0]\n",
    "z.shape, k\n"
   ]
  },
  {
   "cell_type": "code",
   "execution_count": null,
   "id": "975bc642",
   "metadata": {},
   "outputs": [],
   "source": [
    "def collate(idxs, ds):\n",
    "    xb, yb = zip(*[ds[i] for i in idxs])\n",
    "    return torch.stack(xb), torch.tensor([y for y in yb], dtype=torch.int64)\n"
   ]
  },
  {
   "cell_type": "code",
   "execution_count": null,
   "id": "610652f7",
   "metadata": {},
   "outputs": [],
   "source": [
    "x, y = collate([1, 2], train_ds)\n",
    "x.shape, y\n"
   ]
  },
  {
   "cell_type": "code",
   "execution_count": null,
   "id": "e6c79840",
   "metadata": {},
   "outputs": [],
   "source": [
    "class DataLoader:\n",
    "    def __init__(self, ds, bs=64, shuffle=False, n_workers=1):\n",
    "        self.ds, self.bs, self.shuffle, self.n_workers = ds, bs, shuffle, n_workers\n",
    "        \n",
    "    def __len__(self): return (len(self.ds)-1)//self.bs+1\n",
    "    \n",
    "    def __iter__(self):\n",
    "        idxs = L.range(self.ds)\n",
    "        if self.shuffle: idxs = idxs.shuffle()\n",
    "        chunks = [idxs[n: n+self.bs] for n in range(0, len(self.ds), self.bs)]\n",
    "        with ProcessPoolExecutor(self.n_workers) as ex:\n",
    "            yield from ex.map(collate, chunks, ds=self.ds)\n"
   ]
  },
  {
   "cell_type": "code",
   "execution_count": null,
   "id": "d58dc45d",
   "metadata": {},
   "outputs": [],
   "source": [
    "n_workers = min(16, defaults.cpus)\n",
    "train_dl = DataLoader(train_ds, bs=64, shuffle=True, n_workers = n_workers)\n",
    "valid_dl = DataLoader(valid_ds, bs=64, shuffle=False, n_workers = n_workers)\n",
    "\n",
    "xb, yb = first(train_dl)\n"
   ]
  },
  {
   "cell_type": "code",
   "execution_count": null,
   "id": "a25f1c67",
   "metadata": {},
   "outputs": [],
   "source": [
    "test_dl = DataLoader(test_ds, bs=64, shuffle=False, n_workers=n_workers)\n"
   ]
  },
  {
   "cell_type": "code",
   "execution_count": null,
   "id": "1d0fbba5",
   "metadata": {},
   "outputs": [],
   "source": [
    "zb, kb = first(test_dl)\n",
    "zb, kb\n"
   ]
  },
  {
   "cell_type": "code",
   "execution_count": null,
   "id": "e6d55f6c",
   "metadata": {},
   "outputs": [],
   "source": [
    "xb, yb\n"
   ]
  },
  {
   "cell_type": "code",
   "execution_count": null,
   "id": "87df00ce",
   "metadata": {},
   "outputs": [],
   "source": [
    "xb.shape, yb.shape\n"
   ]
  },
  {
   "cell_type": "code",
   "execution_count": null,
   "id": "07d42e04",
   "metadata": {},
   "outputs": [],
   "source": [
    "import torch.nn as nn #신경망 모듈\n",
    "import torch.nn.functional as F #신경망 모듈에서 자주 사용되는 함수 \n"
   ]
  },
  {
   "cell_type": "code",
   "execution_count": null,
   "id": "fc4a4e53",
   "metadata": {},
   "outputs": [],
   "source": [
    "class Model(nn.Module):\n",
    "    def __init__(self):\n",
    "        super().__init__()\n",
    "        \n",
    "        self.layer1 = nn.Sequential(nn.Conv2d(in_channels=3, out_channels=16, kernel_size=3, padding=2),\n",
    "                                   nn.ReLU(), \n",
    "                                   nn.MaxPool2d(kernel_size=2))\n",
    "        self.layer2 = nn.Sequential(nn.Conv2d(in_channels=16, out_channels=32, kernel_size=3, padding=2),\n",
    "                                   nn.ReLU(),\n",
    "                                   nn.MaxPool2d(kernel_size=2))\n",
    "        #평균 풀링 계층\n",
    "        self.avg_pool = nn.AvgPool2d(kernel_size=2)\n",
    "        #전결합 계층\n",
    "        self.fc = nn.Linear(in_features=32*4*4, out_features=2)\n",
    "        \n",
    "    #순전파 출력 정의\n",
    "    def forward(self, x):\n",
    "        x = self.layer1(x)\n",
    "        x = self.layer2(x)\n",
    "        x = self.avg_pool(x)\n",
    "        x = x.view(-1, 32*4*4) #평탄화\n",
    "        x = self.fc(x)\n",
    "        \n",
    "        return x\n"
   ]
  },
  {
   "cell_type": "code",
   "execution_count": null,
   "id": "a7bea82d",
   "metadata": {},
   "outputs": [],
   "source": [
    "device = torch.device('cuda' if torch.cuda.is_available else 'cpu')\n"
   ]
  },
  {
   "cell_type": "code",
   "execution_count": null,
   "id": "64092399",
   "metadata": {},
   "outputs": [],
   "source": [
    "device\n"
   ]
  },
  {
   "cell_type": "code",
   "execution_count": null,
   "id": "f2f1cfdc",
   "metadata": {},
   "outputs": [],
   "source": [
    "model = Model().to(device)\n"
   ]
  },
  {
   "cell_type": "code",
   "execution_count": null,
   "id": "5a59ca71",
   "metadata": {},
   "outputs": [],
   "source": [
    "# 손실 함수 설정\n",
    "loss_fn = nn.CrossEntropyLoss()\n"
   ]
  },
  {
   "cell_type": "code",
   "execution_count": null,
   "id": "a03a2e19",
   "metadata": {},
   "outputs": [],
   "source": [
    "#옵티마이저 설정\n",
    "import torch.optim as optim\n",
    "\n",
    "optimizer = optim.Adam(model.parameters(), lr=1e-3)\n"
   ]
  },
  {
   "cell_type": "code",
   "execution_count": null,
   "id": "0ce70d2e",
   "metadata": {},
   "outputs": [],
   "source": [
    "len(train_dl)\n"
   ]
  },
  {
   "cell_type": "code",
   "execution_count": null,
   "id": "95497830",
   "metadata": {},
   "outputs": [],
   "source": [
    "epochs = 10\n",
    "\n",
    "for epoch in range(epochs):\n",
    "    epoch_loss = 0\n",
    "    \n",
    "    for images, labels in train_dl:\n",
    "        images = images.to(device)\n",
    "        labels = labels.to(device)\n",
    "        \n",
    "        #옵티마이저 내 기울기 초기화\n",
    "        optimizer.zero_grad()\n",
    "        \n",
    "        #순전파\n",
    "        pred = model(images)\n",
    "        labels = labels.squeeze(1)\n",
    "        \n",
    "        #손실함수를 이용하여 손실값 계산\n",
    "        loss = loss_fn(pred, labels)\n",
    "        \n",
    "        epoch_loss += loss.item() #역전파 수행\n",
    "        loss.backward()\n",
    "        \n",
    "        #가중치 갱신\n",
    "        optimizer.step()\n",
    "        \n",
    "    print(f'에폭 [{epoch+1}/{epochs}] - 손실값: {epoch_loss/len(train_dl):.4f}') \n"
   ]
  },
  {
   "cell_type": "code",
   "execution_count": null,
   "id": "aaafa288",
   "metadata": {},
   "outputs": [],
   "source": [
    "#평가지표는 ROC AUC\n",
    "from sklearn.metrics import roc_auc_score\n",
    "\n",
    "# 실제값과 예측 확률값을 담을 리스트 초기화\n",
    "true_list = []\n",
    "preds_list = []\n"
   ]
  },
  {
   "cell_type": "code",
   "execution_count": null,
   "id": "4a697515",
   "metadata": {},
   "outputs": [],
   "source": [
    "#모델을 평가 상태로 설정\n",
    "model.eval()\n",
    "\n",
    "with torch.no_grad(): #성능 검증 시에는 기울기 계산을 비활성화\n",
    "    for images, labels in valid_dl:\n",
    "        images = images.to(device)\n",
    "        labels = labels.to(device)\n",
    "        \n",
    "        #순전파\n",
    "        output = model(images)\n",
    "        preds = torch.softmax(output.cpu(), dim=1)[:, 1] #예측 확률\n",
    "        true = labels.squeeze(1).cpu() #실젯값\n",
    "        \n",
    "        #예측확률과 실젯값을 리스트에 추가\n",
    "        preds_list.extend(preds)\n",
    "        true_list.extend(true)\n",
    "\n",
    "        \n",
    "#검증 데이터 ROC AUC 점수 계산\n",
    "true_np = np.array([tensor.item() for tensor in true_list])\n",
    "preds_np = np.array([tensor.item() for tensor in preds_list])\n",
    "\n",
    "# Calculate ROC AUC\n",
    "roc_auc = roc_auc_score(true_np, preds_np)\n",
    "print(f'검증 데이터 ROC AUC: {roc_auc:.4f}')\n"
   ]
  },
  {
   "cell_type": "code",
   "execution_count": null,
   "id": "44b74c51",
   "metadata": {},
   "outputs": [],
   "source": [
    "model.eval()\n",
    "preds = []\n",
    "\n",
    "with torch.no_grad():\n",
    "    for images, _ in test_dl:\n",
    "        images = images.to(device)\n",
    "        \n",
    "        outputs = model(images)\n",
    "        \n",
    "        preds_part = torch.softmax(outputs.cpu(), dim=1)[:, 1].tolist()\n",
    "        \n",
    "        preds.extend(preds_part)\n"
   ]
  },
  {
   "cell_type": "code",
   "execution_count": null,
   "id": "81db7ee7",
   "metadata": {},
   "outputs": [],
   "source": [
    "test_csv['has_cactus'] = preds\n",
    "test_csv.to_csv('submission.csv', index=False)\n"
   ]
  },
  {
   "cell_type": "code",
   "execution_count": null,
   "id": "95ce3044",
   "metadata": {},
   "outputs": [],
   "source": [
    " \n"
   ]
  }
 ],
 "metadata": {},
 "nbformat": 4,
 "nbformat_minor": 5
}
