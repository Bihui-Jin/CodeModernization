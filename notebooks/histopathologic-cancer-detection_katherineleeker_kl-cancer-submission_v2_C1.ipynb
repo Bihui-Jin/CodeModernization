{
 "cells": [
  {
   "cell_type": "code",
   "execution_count": null,
   "id": "314e7322",
   "metadata": {},
   "outputs": [],
   "source": [
    "import pandas as pd\n",
    "from pathlib import Path"
   ]
  },
  {
   "cell_type": "code",
   "execution_count": null,
   "id": "9bbbea59",
   "metadata": {},
   "outputs": [],
   "source": [
    "import os\n",
    "import numpy as np\n",
    "import pandas as pd\n",
    "import matplotlib.pyplot as plt\n",
    "from tensorflow import keras\n",
    "from tensorflow.keras.preprocessing.image import ImageDataGenerator\n"
   ]
  },
  {
   "cell_type": "code",
   "execution_count": null,
   "id": "821c99d6",
   "metadata": {},
   "outputs": [],
   "source": [
    "test = pd.read_csv('../input/histopathologic-cancer-detection/sample_submission.csv')\n",
    "test.shape\n"
   ]
  },
  {
   "cell_type": "code",
   "execution_count": null,
   "id": "bc16acc5",
   "metadata": {},
   "outputs": [],
   "source": [
    "test.head()\n"
   ]
  },
  {
   "cell_type": "code",
   "execution_count": null,
   "id": "45831a63",
   "metadata": {},
   "outputs": [],
   "source": [
    "def append_ext(fn):\n",
    "    return fn+\".tif\"\n",
    "\n",
    "\n",
    "test['id'] = test['id'].apply(append_ext)\n",
    "test.head()\n"
   ]
  },
  {
   "cell_type": "code",
   "execution_count": null,
   "id": "7a37c0f7",
   "metadata": {},
   "outputs": [],
   "source": [
    "BATCH_SIZE = 128\n",
    "\n",
    "test_datagen = ImageDataGenerator(rescale=1/255)\n",
    "\n",
    "test_loader = test_datagen.flow_from_dataframe(\n",
    "    dataframe = test,\n",
    "    directory ='../input/histopathologic-cancer-detection/test',\n",
    "    x_col = 'id',\n",
    "    batch_size = BATCH_SIZE,\n",
    "    seed = 1,\n",
    "    shuffle = False,\n",
    "    class_mode = None,\n",
    "    target_size = (32,32)\n",
    ")\n"
   ]
  },
  {
   "cell_type": "code",
   "execution_count": null,
   "id": "0aa776e0",
   "metadata": {},
   "outputs": [],
   "source": [
    "cnn = keras.models.load_model('../input/kl-cancer/cancer_model_v02 (1).h5')\n",
    "cnn.summary()\n"
   ]
  },
  {
   "cell_type": "code",
   "execution_count": null,
   "id": "2268da1f",
   "metadata": {},
   "outputs": [],
   "source": [
    "test_probs = cnn.predict(test_loader) \n",
    "print(test_probs.shape)\n"
   ]
  },
  {
   "cell_type": "code",
   "execution_count": null,
   "id": "2649e314",
   "metadata": {},
   "outputs": [],
   "source": [
    "print(test_probs[:10,].round(2))\n"
   ]
  },
  {
   "cell_type": "code",
   "execution_count": null,
   "id": "f6bd6c8c",
   "metadata": {},
   "outputs": [],
   "source": [
    "submission = pd.read_csv('../input/histopathologic-cancer-detection/sample_submission.csv')\n",
    "submission.head()\n"
   ]
  },
  {
   "cell_type": "code",
   "execution_count": null,
   "id": "10e176ad",
   "metadata": {},
   "outputs": [],
   "source": [
    "submission.label = test_probs[:,1]\n",
    "submission.head()\n"
   ]
  },
  {
   "cell_type": "code",
   "execution_count": null,
   "id": "8b8cad74",
   "metadata": {},
   "outputs": [],
   "source": [
    "submission.to_csv('submission.csv', header=True, index=False)\n"
   ]
  }
 ],
 "metadata": {},
 "nbformat": 4,
 "nbformat_minor": 5
}
