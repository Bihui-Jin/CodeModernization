{
 "cells": [
  {
   "cell_type": "code",
   "execution_count": null,
   "id": "8c04a010",
   "metadata": {},
   "outputs": [],
   "source": [
    "import pandas as pd\n",
    "from pathlib import Path"
   ]
  },
  {
   "cell_type": "code",
   "execution_count": null,
   "id": "6d0fdef9",
   "metadata": {},
   "outputs": [],
   "source": [
    "# This Python 3 environment comes with many helpful analytics libraries installed\n",
    "# It is defined by the kaggle/python Docker image: https://github.com/kaggle/docker-python\n",
    "# For example, here's several helpful packages to load\n",
    "\n",
    "import numpy as np # linear algebra\n",
    "import pandas as pd # data processing, CSV file I/O (e.g. pd.read_csv)\n",
    "\n",
    "# Input data files are available in the read-only \"../input/\" directory\n",
    "# For example, running this (by clicking run or pressing Shift+Enter) will list all files under the input directory\n",
    "\n",
    "import os\n",
    "for dirname, _, filenames in os.walk('/kaggle/input'):\n",
    "    for filename in filenames:\n",
    "        print(os.path.join(dirname, filename))\n",
    "\n",
    "# You can write up to 20GB to the current directory (/kaggle/working/) that gets preserved as output when you create a version using \"Save & Run All\" \n",
    "# You can also write temporary files to /kaggle/temp/, but they won't be saved outside of the current session\n"
   ]
  },
  {
   "cell_type": "code",
   "execution_count": null,
   "id": "f8df1750",
   "metadata": {},
   "outputs": [],
   "source": [
    "import numpy as np \n",
    "import pandas as pd \n",
    "import os \n",
    "\n",
    "print(os.listdir('../input'))\n"
   ]
  },
  {
   "cell_type": "code",
   "execution_count": null,
   "id": "df0703fe",
   "metadata": {},
   "outputs": [],
   "source": [
    "train_df =  pd.read_csv('/kaggle/input/new-york-city-taxi-fare-prediction/train.csv', nrows = 10_000_000)\n",
    "test_df =  pd.read_csv('/kaggle/input/new-york-city-taxi-fare-prediction/test.csv')\n",
    "print('Training data size: %d' % len(train_df))\n",
    "print('Test data size: %d' % len(test_df))\n"
   ]
  },
  {
   "cell_type": "code",
   "execution_count": null,
   "id": "c1c5461d",
   "metadata": {},
   "outputs": [],
   "source": [
    "train_df.head()\n"
   ]
  },
  {
   "cell_type": "code",
   "execution_count": null,
   "id": "0f6941cc",
   "metadata": {},
   "outputs": [],
   "source": [
    "train_df.dtypes\n"
   ]
  },
  {
   "cell_type": "code",
   "execution_count": null,
   "id": "46b1d00d",
   "metadata": {},
   "outputs": [],
   "source": [
    "# import seaborn as sns\n",
    "# # გამოვთვალოთ რა დამოკიდებულება აქვს fair_amount-თან სხვადასხვა features\n",
    "# correlation_matrix = train_df.corr()\n",
    "\n",
    "# # ავაგოთ შესაბამისი გრაფი\n",
    "# plt.figure(figsize=(12, 8))\n",
    "# sns.heatmap(correlation_matrix[['fare_amount']], annot=True, cmap='coolwarm', linewidths=0.5)\n",
    "# plt.title('Correlation between Features and Fare Amount')\n",
    "# plt.show()\n"
   ]
  },
  {
   "cell_type": "code",
   "execution_count": null,
   "id": "d9fa0ade",
   "metadata": {},
   "outputs": [],
   "source": [
    "print(train_df.isnull().sum())\n"
   ]
  },
  {
   "cell_type": "code",
   "execution_count": null,
   "id": "64256b16",
   "metadata": {},
   "outputs": [],
   "source": [
    "print(test_df.isnull().sum())\n"
   ]
  },
  {
   "cell_type": "code",
   "execution_count": null,
   "id": "ac121254",
   "metadata": {},
   "outputs": [],
   "source": [
    "train_df = train_df.dropna(how = 'any', axis = 'rows')\n",
    "print(train_df.isnull().sum())\n"
   ]
  },
  {
   "cell_type": "code",
   "execution_count": null,
   "id": "c2266083",
   "metadata": {},
   "outputs": [],
   "source": [
    "train_df.describe()\n"
   ]
  },
  {
   "cell_type": "code",
   "execution_count": null,
   "id": "8e0305ab",
   "metadata": {},
   "outputs": [],
   "source": [
    "import matplotlib.pyplot as plt\n",
    "\n",
    "plt.figure(figsize=(10, 6))\n",
    "plt.hist(train_df['fare_amount'], bins=50, color='skyblue', edgecolor='black')\n",
    "plt.xlabel('Fare Amount')\n",
    "plt.ylabel('Frequency')\n",
    "plt.title('Distribution of Fare Amount (0 to 200)')\n",
    "plt.grid(True)\n",
    "plt.show()\n"
   ]
  },
  {
   "cell_type": "code",
   "execution_count": null,
   "id": "81b27dfc",
   "metadata": {},
   "outputs": [],
   "source": [
    "train_df = train_df[train_df.fare_amount > 2.5]\n"
   ]
  },
  {
   "cell_type": "code",
   "execution_count": null,
   "id": "e1943622",
   "metadata": {},
   "outputs": [],
   "source": [
    "plt.figure(figsize=(10, 6))\n",
    "plt.hist(train_df['fare_amount'], bins=50, range=(0, 200), color='skyblue', edgecolor='black')\n",
    "plt.xlabel('Fare Amount')\n",
    "plt.ylabel('Frequency')\n",
    "plt.title('Distribution of Fare Amount (0 to 200)')\n",
    "plt.grid(True)\n",
    "plt.show()\n"
   ]
  },
  {
   "cell_type": "code",
   "execution_count": null,
   "id": "d6967284",
   "metadata": {},
   "outputs": [],
   "source": [
    "train_df['fare_amount'].max()  # მაქსიმალური და საშუალო რომ ვნახოთ შევაფასოთ საშუალოდ რა არის ხოლმე გადასახადი\n",
    "train_df['fare_amount'].mean() \n"
   ]
  },
  {
   "cell_type": "code",
   "execution_count": null,
   "id": "905a996a",
   "metadata": {},
   "outputs": [],
   "source": [
    "passenger_counts = train_df['fare_amount'].value_counts()\n",
    "fair_amount_mean = train_df['fare_amount'].mean()*30\n"
   ]
  },
  {
   "cell_type": "code",
   "execution_count": null,
   "id": "36211bd7",
   "metadata": {},
   "outputs": [],
   "source": [
    "plt.figure(figsize=(10, 6))\n",
    "passenger_counts.plot(kind='bar', color='skyblue', edgecolor='black')\n",
    "plt.xlabel('Fare Amount')\n",
    "plt.ylabel('Frequency')\n",
    "plt.title('Distribution of Fare Amount (0 to 200)')\n",
    "plt.xticks(rotation=0)  \n",
    "plt.grid(axis='y')  \n",
    "plt.xlim(2.5, fair_amount_mean)\n",
    "plt.show()\n"
   ]
  },
  {
   "cell_type": "code",
   "execution_count": null,
   "id": "69d04ddc",
   "metadata": {},
   "outputs": [],
   "source": [
    "train_df = train_df[train_df.fare_amount < fair_amount_mean]\n"
   ]
  },
  {
   "cell_type": "code",
   "execution_count": null,
   "id": "afb529ff",
   "metadata": {},
   "outputs": [],
   "source": [
    "pd.set_option('float_format', '{:f}'.format)\n",
    "train_df.describe()\n"
   ]
  },
  {
   "cell_type": "code",
   "execution_count": null,
   "id": "d64050ce",
   "metadata": {},
   "outputs": [],
   "source": [
    "min(test_df.pickup_longitude.min(), test_df.dropoff_longitude.min()), \\\n",
    "max(test_df.pickup_longitude.max(), test_df.dropoff_longitude.max())\n"
   ]
  },
  {
   "cell_type": "code",
   "execution_count": null,
   "id": "6d715743",
   "metadata": {},
   "outputs": [],
   "source": [
    "min(test_df.pickup_latitude.min(), test_df.dropoff_latitude.min()), \\\n",
    "max(test_df.pickup_latitude.max(), test_df.dropoff_latitude.max())\n"
   ]
  },
  {
   "cell_type": "code",
   "execution_count": null,
   "id": "2c4c76bd",
   "metadata": {},
   "outputs": [],
   "source": [
    "train_df = train_df.loc[train_df.pickup_latitude > 40.2]\n",
    "train_df = train_df.loc[train_df.pickup_latitude < 41.8]\n"
   ]
  },
  {
   "cell_type": "code",
   "execution_count": null,
   "id": "31f462f5",
   "metadata": {},
   "outputs": [],
   "source": [
    "train_df = train_df.loc[train_df.dropoff_latitude > 40.2]\n",
    "train_df = train_df.loc[train_df.dropoff_latitude < 41.8]\n"
   ]
  },
  {
   "cell_type": "code",
   "execution_count": null,
   "id": "450e4152",
   "metadata": {},
   "outputs": [],
   "source": [
    "train_df = train_df.loc[train_df.dropoff_longitude < -72]\n",
    "train_df = train_df.loc[train_df.dropoff_longitude > -74.5]\n"
   ]
  },
  {
   "cell_type": "code",
   "execution_count": null,
   "id": "cf7a834f",
   "metadata": {},
   "outputs": [],
   "source": [
    "train_df = train_df.loc[train_df.pickup_longitude < -72]\n",
    "train_df = train_df.loc[train_df.pickup_longitude > -74.5]\n"
   ]
  },
  {
   "cell_type": "code",
   "execution_count": null,
   "id": "c3d6418b",
   "metadata": {},
   "outputs": [],
   "source": [
    "train_df.shape\n"
   ]
  },
  {
   "cell_type": "code",
   "execution_count": null,
   "id": "b8cb29d8",
   "metadata": {},
   "outputs": [],
   "source": [
    "train_df.describe()\n"
   ]
  },
  {
   "cell_type": "code",
   "execution_count": null,
   "id": "0c32c1b1",
   "metadata": {},
   "outputs": [],
   "source": [
    "passenger_counts = train_df['passenger_count'].value_counts()\n",
    "\n",
    "# Plot bar plot\n",
    "plt.figure(figsize=(10, 6))\n",
    "passenger_counts.plot(kind='bar', color='skyblue', edgecolor='black')\n",
    "plt.xlabel('Number of Passengers')\n",
    "plt.ylabel('Number of Rides')\n",
    "plt.title('Number of Rides by Number of Passengers')\n",
    "plt.xticks(rotation=0)  # Rotate x-axis labels\n",
    "plt.grid(axis='y')  # Add gridlines to y-axis\n",
    "plt.show()\n"
   ]
  },
  {
   "cell_type": "code",
   "execution_count": null,
   "id": "946149c7",
   "metadata": {},
   "outputs": [],
   "source": [
    "train_df = train_df.loc[train_df.passenger_count > 0]\n",
    "train_df = train_df.loc[train_df.passenger_count < 7]\n"
   ]
  },
  {
   "cell_type": "code",
   "execution_count": null,
   "id": "14f0ef6f",
   "metadata": {},
   "outputs": [],
   "source": [
    "train_df.shape\n"
   ]
  },
  {
   "cell_type": "code",
   "execution_count": null,
   "id": "4532d858",
   "metadata": {},
   "outputs": [],
   "source": [
    "merged_df = pd.concat([train_df,test_df], axis = 0, sort=False)\n",
    "merged_df\n"
   ]
  },
  {
   "cell_type": "code",
   "execution_count": null,
   "id": "72269d8c",
   "metadata": {},
   "outputs": [],
   "source": [
    "merged_df.shape\n"
   ]
  },
  {
   "cell_type": "code",
   "execution_count": null,
   "id": "fb8d279c",
   "metadata": {},
   "outputs": [],
   "source": [
    "merged_df.isna().sum()\n",
    "# test_df.isna().sum()\n",
    "# test_df.shape\n"
   ]
  },
  {
   "cell_type": "code",
   "execution_count": null,
   "id": "5341edec",
   "metadata": {},
   "outputs": [],
   "source": [
    "from haversine import haversine\n",
    "def haversine_distance(row):\n",
    "    pickup_coord = (row['pickup_latitude'], row['pickup_longitude'])\n",
    "    dropoff_coord = (row['dropoff_latitude'], row['dropoff_longitude'])\n",
    "    return haversine(pickup_coord, dropoff_coord)\n",
    "\n",
    "merged_df['haversine_distance'] = merged_df.apply(haversine_distance, axis=1)\n"
   ]
  },
  {
   "cell_type": "code",
   "execution_count": null,
   "id": "3954c5a3",
   "metadata": {},
   "outputs": [],
   "source": [
    "from pandas.tseries.holiday import USFederalHolidayCalendar\n",
    "cal = USFederalHolidayCalendar()\n",
    "holidays = cal.holidays(start='2009-01-01', end='2015-12-31').to_pydatetime()\n",
    "\n",
    "\n",
    "merged_df['pickup_datetime'] = pd.to_datetime(merged_df['pickup_datetime']).dt.tz_localize(None)\n",
    "holidays = [holiday.replace(tzinfo=None) for holiday in holidays]  \n",
    "holidays = pd.to_datetime(holidays, utc=True).tz_convert(merged_df['pickup_datetime'].dt.tz) \n",
    "\n",
    "# train_df['pickup_datetime'] = pd.to_datetime( train_df['pickup_datetime'])\n",
    "merged_df['is_holiday'] = merged_df['pickup_datetime'].isin(holidays).astype(int)\n",
    "num_holidays = (merged_df['is_holiday'] == 1).sum()\n",
    "print(\"Number of holiday rows:\", num_holidays)\n"
   ]
  },
  {
   "cell_type": "code",
   "execution_count": null,
   "id": "7e0ef72e",
   "metadata": {},
   "outputs": [],
   "source": [
    "date_feature = merged_df['pickup_datetime']\n",
    "year = date_feature.dt.year\n",
    "month = date_feature.dt.month\n",
    "day = date_feature.dt.day\n",
    "hour = date_feature.dt.hour\n",
    "minute = date_feature.dt.minute\n",
    "second = date_feature.dt.second\n",
    "merged_df['year'] = year\n",
    "merged_df['month'] = month\n",
    "merged_df['day'] = day\n",
    "merged_df['hour'] = hour\n",
    "merged_df['minute'] = minute\n",
    "merged_df['second'] = second\n"
   ]
  },
  {
   "cell_type": "code",
   "execution_count": null,
   "id": "971219aa",
   "metadata": {},
   "outputs": [],
   "source": [
    "merged_df.drop(['pickup_datetime'], axis = 1, inplace = True)\n"
   ]
  },
  {
   "cell_type": "code",
   "execution_count": null,
   "id": "2f8ca4aa",
   "metadata": {},
   "outputs": [],
   "source": [
    "until = train_df.shape[0]\n",
    "train = merged_df.iloc[0:until, :]\n",
    "test = merged_df.iloc[until:, :] \n",
    "test.drop('fare_amount', axis = 1, inplace = True) \n"
   ]
  },
  {
   "cell_type": "code",
   "execution_count": null,
   "id": "a46db1d4",
   "metadata": {},
   "outputs": [],
   "source": [
    "train.head()\n"
   ]
  },
  {
   "cell_type": "code",
   "execution_count": null,
   "id": "519acb9b",
   "metadata": {},
   "outputs": [],
   "source": [
    "test.head()\n"
   ]
  },
  {
   "cell_type": "code",
   "execution_count": null,
   "id": "6514b0c5",
   "metadata": {},
   "outputs": [],
   "source": [
    "from sklearn.preprocessing import StandardScaler\n",
    "from sklearn.metrics import mean_squared_error, mean_absolute_error, r2_score\n",
    "from sklearn.model_selection import train_test_split\n",
    "from sklearn.ensemble import RandomForestRegressor\n",
    "from sklearn.linear_model import LinearRegression\n",
    "import xgboost\n"
   ]
  },
  {
   "cell_type": "code",
   "execution_count": null,
   "id": "54bd3e93",
   "metadata": {},
   "outputs": [],
   "source": [
    "# import seaborn as sns\n",
    "# # გამოვთვალოთ რა დამოკიდებულება აქვს fair_amount-თან სხვადასხვა features\n",
    "# correlation_matrix = train.corr()\n",
    "\n",
    "# # ავაგოთ შესაბამისი გრაფი\n",
    "# plt.figure(figsize=(12, 8))\n",
    "# sns.heatmap(correlation_matrix[['fare_amount']], annot=True, cmap='coolwarm', linewidths=0.5)\n",
    "# plt.title('Correlation between Features and Fare Amount')\n",
    "# plt.show()\n"
   ]
  },
  {
   "cell_type": "code",
   "execution_count": null,
   "id": "3ca16c31",
   "metadata": {},
   "outputs": [],
   "source": [
    " \n"
   ]
  },
  {
   "cell_type": "code",
   "execution_count": null,
   "id": "ff29988c",
   "metadata": {},
   "outputs": [],
   "source": [
    "target=train['fare_amount']\n"
   ]
  },
  {
   "cell_type": "code",
   "execution_count": null,
   "id": "dccac9f5",
   "metadata": {},
   "outputs": [],
   "source": [
    "x_train, x_valid , y_train, y_valid = train_test_split(train, target, test_size=.2, random_state=0)\n",
    "\n",
    "x_train.shape, y_train.shape, x_valid.shape, y_valid.shape\n"
   ]
  },
  {
   "cell_type": "code",
   "execution_count": null,
   "id": "88cf191b",
   "metadata": {},
   "outputs": [],
   "source": [
    "train.isna().sum()\n"
   ]
  },
  {
   "cell_type": "code",
   "execution_count": null,
   "id": "a92601e7",
   "metadata": {},
   "outputs": [],
   "source": [
    "# target.shape\n",
    "# x_train.shape\n"
   ]
  },
  {
   "cell_type": "code",
   "execution_count": null,
   "id": "04d292fc",
   "metadata": {},
   "outputs": [],
   "source": [
    "target = x_train['fare_amount']\n",
    "x_train = x_train.drop(['fare_amount'], axis = 1)\n"
   ]
  },
  {
   "cell_type": "code",
   "execution_count": null,
   "id": "d4098278",
   "metadata": {},
   "outputs": [],
   "source": [
    "# target = target.dropna(how = 'any', axis = 'rows')\n",
    "# target.isnull().sum()\n",
    "# x_train.isna().sum()\n"
   ]
  },
  {
   "cell_type": "code",
   "execution_count": null,
   "id": "703df383",
   "metadata": {},
   "outputs": [],
   "source": [
    "test_keys = test['key']\n",
    "x_train.drop(['key'], axis = 1, inplace=True)\n"
   ]
  },
  {
   "cell_type": "code",
   "execution_count": null,
   "id": "0998decb",
   "metadata": {},
   "outputs": [],
   "source": [
    "test_keys.head()\n"
   ]
  },
  {
   "cell_type": "code",
   "execution_count": null,
   "id": "3231cb60",
   "metadata": {},
   "outputs": [],
   "source": [
    "test_x = test\n",
    "test_x.drop(['key'], axis= 1, inplace=True)\n"
   ]
  },
  {
   "cell_type": "code",
   "execution_count": null,
   "id": "134f8e0f",
   "metadata": {},
   "outputs": [],
   "source": [
    "# train_y = train.fare_amount\n",
    "# x_train = x_train.drop(['fare_amount'], axis = 1)\n",
    "\n",
    "model = LinearRegression()\n",
    "model.fit(x_train, target)\n",
    "\n",
    "# # Make prediction\n",
    "y_pred = model.predict(test_x)\n"
   ]
  },
  {
   "cell_type": "code",
   "execution_count": null,
   "id": "a18ba2b3",
   "metadata": {},
   "outputs": [],
   "source": [
    "submission = pd.DataFrame(\n",
    "    {'key': test_keys, 'fare_amount': y_pred},\n",
    "    columns = ['key', 'fare_amount'])\n",
    "submission.to_csv('submission.csv', index = False)\n",
    "\n",
    "print(os.listdir('.'))\n"
   ]
  },
  {
   "cell_type": "code",
   "execution_count": null,
   "id": "04524ec9",
   "metadata": {},
   "outputs": [],
   "source": [
    "model.coef_\n"
   ]
  },
  {
   "cell_type": "code",
   "execution_count": null,
   "id": "c7d66110",
   "metadata": {},
   "outputs": [],
   "source": [
    "expected_valid = x_valid['fare_amount']\n",
    "expected_valid\n"
   ]
  },
  {
   "cell_type": "code",
   "execution_count": null,
   "id": "d5a0bb91",
   "metadata": {},
   "outputs": [],
   "source": [
    "x_valid.drop(['fare_amount'], axis=1, inplace=True)\n",
    "x_valid.head()\n"
   ]
  },
  {
   "cell_type": "code",
   "execution_count": null,
   "id": "dff32b2e",
   "metadata": {},
   "outputs": [],
   "source": [
    "# valid_pred = model.predict(x_valid)\n"
   ]
  },
  {
   "cell_type": "code",
   "execution_count": null,
   "id": "22802940",
   "metadata": {},
   "outputs": [],
   "source": [
    "# mse = mean_squared_error(expected_valid, valid_pred)\n",
    "# print(\"MSE  --> \", mse)\n"
   ]
  },
  {
   "cell_type": "code",
   "execution_count": null,
   "id": "7fb5faa1",
   "metadata": {},
   "outputs": [],
   "source": [
    "# import math\n",
    "# rmse = math.sqrt(mse)\n",
    "# print(\"RMSE  --> \", rmse)\n"
   ]
  },
  {
   "cell_type": "code",
   "execution_count": null,
   "id": "abf861e2",
   "metadata": {},
   "outputs": [],
   "source": [
    "# plt.scatter(expected_valid, valid_pred)\n",
    "# plt.xlabel(\"Actual\")\n",
    "# plt.ylabel(\"Predicted\")\n"
   ]
  },
  {
   "cell_type": "code",
   "execution_count": null,
   "id": "395313b2",
   "metadata": {},
   "outputs": [],
   "source": [
    "# import seaborn as sns\n",
    "# sns.regplot(x=expected_valid, y=valid_pred, ci=None, color='purple')\n"
   ]
  },
  {
   "cell_type": "code",
   "execution_count": null,
   "id": "7f01ad94",
   "metadata": {},
   "outputs": [],
   "source": [
    "# new_train = x_train\n",
    "# new_train.drop(['passenger_count', 'second', 'minute', 'day', 'hour', 'month', 'year'], axis=1, inplace=True)\n"
   ]
  },
  {
   "cell_type": "code",
   "execution_count": null,
   "id": "0d2dfef5",
   "metadata": {},
   "outputs": [],
   "source": [
    "# new_train.drop(['dropoff_latitude', 'dropoff_longitude'], axis=1, inplace=True)\n"
   ]
  },
  {
   "cell_type": "code",
   "execution_count": null,
   "id": "c8b80b7b",
   "metadata": {},
   "outputs": [],
   "source": [
    "# new_valid = x_valid\n",
    "# new_valid.drop(['passenger_count', 'second', 'minute', 'day', 'hour', 'month', 'year'], axis=1, inplace=True)\n"
   ]
  },
  {
   "cell_type": "code",
   "execution_count": null,
   "id": "85558aff",
   "metadata": {},
   "outputs": [],
   "source": [
    "# new_valid.drop(['dropoff_latitude', 'dropoff_longitude'], axis=1, inplace=True)\n"
   ]
  },
  {
   "cell_type": "code",
   "execution_count": null,
   "id": "cba68cc0",
   "metadata": {},
   "outputs": [],
   "source": [
    "# new_model = LinearRegression()\n",
    "# model.fit(new_train, target)\n",
    "\n",
    "# # # Make prediction\n",
    "# new_pred = model.predict(new_valid)\n",
    "# display(new_pred)\n"
   ]
  },
  {
   "cell_type": "code",
   "execution_count": null,
   "id": "b134b38a",
   "metadata": {},
   "outputs": [],
   "source": [
    "# mse = mean_squared_error(expected_valid, valid_pred)\n",
    "# print(\"MSE  --> \", mse)\n",
    "# rmse = math.sqrt(mse)\n",
    "# print(\"RMSE  --> \", rmse)\n",
    "# plt.scatter(expected_valid, new_pred)\n",
    "# plt.xlabel(\"Actual\")\n",
    "# plt.ylabel(\"Predicted\")\n"
   ]
  },
  {
   "cell_type": "code",
   "execution_count": null,
   "id": "994d890c",
   "metadata": {},
   "outputs": [],
   "source": [
    "# new_pred.mean()\n",
    "# train_df.mean()\n"
   ]
  },
  {
   "cell_type": "code",
   "execution_count": null,
   "id": "6c0eca2c",
   "metadata": {},
   "outputs": [],
   "source": [
    "# expected_valid.head()\n"
   ]
  },
  {
   "cell_type": "code",
   "execution_count": null,
   "id": "6281d64c",
   "metadata": {},
   "outputs": [],
   "source": [
    " \n"
   ]
  },
  {
   "cell_type": "code",
   "execution_count": null,
   "id": "2043668b",
   "metadata": {},
   "outputs": [],
   "source": [
    " \n"
   ]
  },
  {
   "cell_type": "code",
   "execution_count": null,
   "id": "9457f8e5",
   "metadata": {},
   "outputs": [],
   "source": [
    " \n"
   ]
  },
  {
   "cell_type": "code",
   "execution_count": null,
   "id": "2e2d7489",
   "metadata": {},
   "outputs": [],
   "source": [
    " \n"
   ]
  },
  {
   "cell_type": "code",
   "execution_count": null,
   "id": "cfaf7062",
   "metadata": {},
   "outputs": [],
   "source": [
    " \n"
   ]
  },
  {
   "cell_type": "code",
   "execution_count": null,
   "id": "8b0ac277",
   "metadata": {},
   "outputs": [],
   "source": [
    " \n"
   ]
  },
  {
   "cell_type": "code",
   "execution_count": null,
   "id": "9f56de76",
   "metadata": {},
   "outputs": [],
   "source": [
    " \n"
   ]
  },
  {
   "cell_type": "code",
   "execution_count": null,
   "id": "b074cd4f",
   "metadata": {},
   "outputs": [],
   "source": [
    " \n"
   ]
  },
  {
   "cell_type": "code",
   "execution_count": null,
   "id": "8bab6a28",
   "metadata": {},
   "outputs": [],
   "source": [
    " \n"
   ]
  },
  {
   "cell_type": "code",
   "execution_count": null,
   "id": "ae900197",
   "metadata": {},
   "outputs": [],
   "source": [
    "# from sklearn.preprocessing import StandardScaler\n",
    "# from sklearn.metrics import mean_squared_error\n",
    "# from sklearn.svm import SVR\n",
    "# from sklearn.model_selection import train_test_split\n",
    "# from sklearn.ensemble import RandomForestRegressor\n",
    "# import xgboost\n"
   ]
  },
  {
   "cell_type": "code",
   "execution_count": null,
   "id": "b6e766bb",
   "metadata": {},
   "outputs": [],
   "source": [
    "# sc = StandardScaler()\n",
    "# train_scaled = sc.fit_transform(train_df)\n",
    "# train_scaled[:5]\n"
   ]
  },
  {
   "cell_type": "code",
   "execution_count": null,
   "id": "3eddaf59",
   "metadata": {},
   "outputs": [],
   "source": [
    "# train_df.head()\n"
   ]
  },
  {
   "cell_type": "code",
   "execution_count": null,
   "id": "5966f401",
   "metadata": {},
   "outputs": [],
   "source": [
    " \n"
   ]
  },
  {
   "cell_type": "code",
   "execution_count": null,
   "id": "fb67611d",
   "metadata": {},
   "outputs": [],
   "source": [
    "# new_train_scaled = pd.DataFrame(train_scaled, columns=['pickup_longitude', 'pickup_latitude', 'dropoff_longitude', 'dropoff_latitude', 'passenger_count', 'is_holiday', 'year', 'month', 'day', 'hour', 'minute', 'second', 'haversine_distance'])\n",
    "# new_train_scaled.to_csv('.//scaled_train_df.csv', index=False )\n"
   ]
  },
  {
   "cell_type": "code",
   "execution_count": null,
   "id": "24106f0c",
   "metadata": {},
   "outputs": [],
   "source": [
    "# x_train, x_valid , y_train, y_valid = train_test_split(train_df, target, test_size=.2)\n",
    "\n",
    "# x_train.shape, y_train.shape, x_valid.shape, y_valid.shape\n"
   ]
  },
  {
   "cell_type": "code",
   "execution_count": null,
   "id": "89f572cf",
   "metadata": {},
   "outputs": [],
   "source": [
    " \n"
   ]
  },
  {
   "cell_type": "code",
   "execution_count": null,
   "id": "f9d67065",
   "metadata": {},
   "outputs": [],
   "source": [
    "# from sklearn.linear_model import LinearRegression\n"
   ]
  },
  {
   "cell_type": "code",
   "execution_count": null,
   "id": "b649503c",
   "metadata": {},
   "outputs": [],
   "source": [
    "# (w, _, _, _) = np.linalg.lstsq(x_train, y_train, rcond = None)\n",
    "# print(w)\n"
   ]
  },
  {
   "cell_type": "code",
   "execution_count": null,
   "id": "e639a687",
   "metadata": {},
   "outputs": [],
   "source": [
    "# w_OLS = np.matmul(np.matmul(np.linalg.inv(np.matmul(x_train.T, x_train)), x_train.T), y_train)\n",
    "# print(w_OLS)\n"
   ]
  },
  {
   "cell_type": "code",
   "execution_count": null,
   "id": "505fd080",
   "metadata": {},
   "outputs": [],
   "source": [
    "# test_df.head()\n"
   ]
  },
  {
   "cell_type": "code",
   "execution_count": null,
   "id": "fb923f22",
   "metadata": {},
   "outputs": [],
   "source": [
    "# test_df['year'].min() \n",
    "# test_df['year'].max()\n"
   ]
  },
  {
   "cell_type": "code",
   "execution_count": null,
   "id": "0b41114c",
   "metadata": {},
   "outputs": [],
   "source": [
    "# cal = USFederalHolidayCalendar()\n",
    "# holidays = cal.holidays(start='2009-01-01', end='2015-12-31').to_pydatetime()\n",
    "\n",
    "\n",
    "# test_df['pickup_datetime'] = pd.to_datetime(test_df['pickup_datetime']).dt.tz_localize(None)\n",
    "# holidays = [holiday.replace(tzinfo=None) for holiday in holidays]  \n",
    "# holidays = pd.to_datetime(holidays, utc=True).tz_convert(test_df['pickup_datetime'].dt.tz) \n",
    "\n",
    "# # train_df['pickup_datetime'] = pd.to_datetime( train_df['pickup_datetime'])\n",
    "# test_df['is_holiday'] = test_df['pickup_datetime'].isin(holidays).astype(int)\n",
    "# num_holidays = (test_df['is_holiday'] == 1).sum()\n",
    "# print(\"Number of holiday rows:\", num_holidays)\n"
   ]
  },
  {
   "cell_type": "code",
   "execution_count": null,
   "id": "782aa24f",
   "metadata": {},
   "outputs": [],
   "source": [
    "# test_date_feature = test_df['pickup_datetime']\n",
    "# year = test_date_feature.dt.year\n",
    "# month = test_date_feature.dt.month\n",
    "# day = test_date_feature.dt.day\n",
    "# hour = test_date_feature.dt.hour\n",
    "# minute = test_date_feature.dt.minute\n",
    "# second = test_date_feature.dt.second\n",
    "# test_df['year'] = year\n",
    "# test_df['month'] = month\n",
    "# test_df['day'] = day\n",
    "# test_df['hour'] = hour\n",
    "# test_df['minute'] = minute\n",
    "# test_df['second'] = second\n"
   ]
  },
  {
   "cell_type": "code",
   "execution_count": null,
   "id": "33e4f4da",
   "metadata": {},
   "outputs": [],
   "source": [
    "# target_t = test_df['key']\n"
   ]
  },
  {
   "cell_type": "code",
   "execution_count": null,
   "id": "0dc8c1f1",
   "metadata": {},
   "outputs": [],
   "source": [
    "# test_df.drop(['key'], axis=1, inplace=True)\n"
   ]
  },
  {
   "cell_type": "code",
   "execution_count": null,
   "id": "88681da7",
   "metadata": {},
   "outputs": [],
   "source": [
    "# test_df.drop([ 'pickup_datetime'], axis = 1, inplace=True)\n"
   ]
  },
  {
   "cell_type": "code",
   "execution_count": null,
   "id": "39663439",
   "metadata": {},
   "outputs": [],
   "source": [
    "# test_df['haversine_distance'] = test_df.apply(haversine_distance, axis=1)\n"
   ]
  },
  {
   "cell_type": "code",
   "execution_count": null,
   "id": "bf26472f",
   "metadata": {},
   "outputs": [],
   "source": [
    "# sc = StandardScaler()\n",
    "# test_scaled = sc.transform(test_df)\n",
    "# test_scaled[:5]\n"
   ]
  },
  {
   "cell_type": "code",
   "execution_count": null,
   "id": "8c04f487",
   "metadata": {},
   "outputs": [],
   "source": [
    " \n"
   ]
  },
  {
   "cell_type": "code",
   "execution_count": null,
   "id": "6b38cab0",
   "metadata": {},
   "outputs": [],
   "source": [
    " \n"
   ]
  }
 ],
 "metadata": {},
 "nbformat": 4,
 "nbformat_minor": 5
}
