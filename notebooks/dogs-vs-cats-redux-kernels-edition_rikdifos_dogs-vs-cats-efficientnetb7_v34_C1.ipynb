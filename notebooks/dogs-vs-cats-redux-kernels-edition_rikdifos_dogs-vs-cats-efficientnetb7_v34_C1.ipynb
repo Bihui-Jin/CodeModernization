{
 "cells": [
  {
   "cell_type": "code",
   "execution_count": null,
   "id": "9bf99a11",
   "metadata": {},
   "outputs": [],
   "source": [
    "import pandas as pd\n",
    "from pathlib import Path"
   ]
  },
  {
   "cell_type": "code",
   "execution_count": null,
   "id": "3558f0b5",
   "metadata": {},
   "outputs": [],
   "source": [
    "!pip install -q efficientnet\n"
   ]
  },
  {
   "cell_type": "code",
   "execution_count": null,
   "id": "0c907a27",
   "metadata": {},
   "outputs": [],
   "source": [
    "%matplotlib inline\n",
    "%config InlineBackend.figure_format = 'svg'\n",
    "\n",
    "import warnings\n",
    "warnings.filterwarnings('ignore')\n",
    "import os, cv2, re, random, time, zipfile, gc\n",
    "import numpy as np\n",
    "import pandas as pd\n",
    "import seaborn as sns\n",
    "import matplotlib.pyplot as plt\n",
    "from sklearn.metrics import log_loss\n",
    "from sklearn.model_selection import train_test_split\n",
    "from keras.preprocessing.image import ImageDataGenerator, load_img\n",
    "from keras import layers, models, optimizers\n",
    "#from keras.callbacks import EarlyStopping\n",
    "from tensorflow.keras.callbacks import EarlyStopping, ReduceLROnPlateau\n",
    "from tensorflow.keras.optimizers import RMSprop, Adam\n",
    "import efficientnet.tfkeras as efn\n"
   ]
  },
  {
   "cell_type": "code",
   "execution_count": null,
   "id": "7f1d805b",
   "metadata": {},
   "outputs": [],
   "source": [
    "PATH = '/kaggle/input/dogs-vs-cats-redux-kernels-edition/'\n",
    "train_image_path = os.path.join(PATH, 'train.zip')\n",
    "test_image_path = os.path.join(PATH, 'test.zip')\n",
    "\n",
    "with zipfile.ZipFile(train_image_path,\"r\") as z:\n",
    "    z.extractall(\"./data\") # target dir\n",
    "    z.close()\n",
    "    \n",
    "with zipfile.ZipFile(test_image_path,\"r\") as z:\n",
    "    z.extractall(\"./data\")\n",
    "    z.close()\n",
    "#zip_ref.close()\n"
   ]
  },
  {
   "cell_type": "code",
   "execution_count": null,
   "id": "eafcacce",
   "metadata": {},
   "outputs": [],
   "source": [
    "start = time.time() \n",
    "\n",
    "TRAIN_DIR = './data/train/'\n",
    "TEST_DIR = './data/test/'\n",
    "\n",
    "train_images = [TRAIN_DIR+i for i in os.listdir(TRAIN_DIR)] # use this for full dataset\n",
    "test_images = [TEST_DIR+i for i in os.listdir(TEST_DIR)]\n"
   ]
  },
  {
   "cell_type": "code",
   "execution_count": null,
   "id": "b39d705e",
   "metadata": {},
   "outputs": [],
   "source": [
    "def txt_dig(text):\n",
    "    '''输入字符串，如果是数字则输出数字，如果不是则输出原本字符串'''\n",
    "    return int(text) if text.isdigit() else text\n",
    "\n",
    "def natural_keys(text):\n",
    "    '''输入字符串，将数字与文字分隔开，将数字串转化为int'''\n",
    "    return [ txt_dig(c) for c in re.split('(\\d+)', text) ]\n"
   ]
  },
  {
   "cell_type": "code",
   "execution_count": null,
   "id": "f47f6d4e",
   "metadata": {},
   "outputs": [],
   "source": [
    "train_images.sort(key=natural_keys) # 依据编号进行重新排序\n",
    "test_images.sort(key=natural_keys)\n",
    "\n",
    "train_images = train_images[0:1300] +  train_images[23700:25000]  #抽样\n",
    "random.seed(558)\n",
    "random.shuffle(train_images)\n"
   ]
  },
  {
   "cell_type": "code",
   "execution_count": null,
   "id": "c66ef809",
   "metadata": {},
   "outputs": [],
   "source": [
    "IMG_WIDTH = 128\n",
    "IMG_HEIGHT = 128\n",
    "x = []\n",
    "for img in train_images:\n",
    "    x.append(cv2.resize(cv2.imread(img), \n",
    "                        (IMG_WIDTH, IMG_HEIGHT), \n",
    "                        interpolation=cv2.INTER_CUBIC))\n",
    "    \n",
    "test = []\n",
    "for img in test_images:\n",
    "    test.append(cv2.resize(cv2.imread(img), \n",
    "                        (IMG_WIDTH, IMG_HEIGHT), \n",
    "                        interpolation=cv2.INTER_CUBIC))\n",
    "    \n",
    "print('The shape of train data is {}'.format(np.array(x).shape))\n",
    "print('The shape of test data is {}'.format(np.array(test).shape))\n",
    "\n",
    "# extract label vector\n",
    "plt.rcParams['figure.facecolor'] = 'white'\n",
    "y = []\n",
    "for i in train_images:\n",
    "    if 'dog' in i:\n",
    "        y.append(1)\n",
    "    elif 'cat' in i:\n",
    "        y.append(0)\n",
    "len(y)\n",
    "\n",
    "x = np.array(x)\n",
    "y = np.array(y)\n",
    "test = np.array(test)\n",
    "sns.countplot(y)\n"
   ]
  },
  {
   "cell_type": "code",
   "execution_count": null,
   "id": "ec010abd",
   "metadata": {},
   "outputs": [],
   "source": [
    "random.seed(558)\n",
    "plt.subplots(facecolor='white',figsize=(10,20))\n",
    "sample = random.choice(train_images)\n",
    "image = load_img(sample)\n",
    "plt.subplot(131)\n",
    "plt.imshow(image)\n",
    "\n",
    "sample = random.choice(train_images)\n",
    "image = load_img(sample)\n",
    "plt.subplot(132)\n",
    "plt.imshow(image)\n",
    "\n",
    "sample = random.choice(train_images)\n",
    "image = load_img(sample)\n",
    "plt.subplot(133)\n",
    "plt.imshow(image)\n"
   ]
  },
  {
   "cell_type": "code",
   "execution_count": null,
   "id": "69f0c6be",
   "metadata": {},
   "outputs": [],
   "source": [
    "plt.subplots(facecolor='white',figsize=(10,20))\n",
    "plt.subplot(131)\n",
    "plt.imshow(cv2.cvtColor(x[1024,:,:,:], cv2.COLOR_BGR2RGB))\n",
    "plt.subplot(132)\n",
    "plt.imshow(cv2.cvtColor(x[546,:,:,:], cv2.COLOR_BGR2RGB))\n",
    "plt.subplot(133)\n",
    "plt.imshow(cv2.cvtColor(x[742,:,:,:], cv2.COLOR_BGR2RGB))\n"
   ]
  },
  {
   "cell_type": "code",
   "execution_count": null,
   "id": "ea343112",
   "metadata": {},
   "outputs": [],
   "source": [
    "x_train, x_val, y_train, y_val = train_test_split(x, y, test_size=0.2, random_state=2020)\n"
   ]
  },
  {
   "cell_type": "code",
   "execution_count": null,
   "id": "944bc129",
   "metadata": {},
   "outputs": [],
   "source": [
    "model = models.Sequential()\n",
    "\n",
    "\n",
    "efnModel = efn.EfficientNetB7(weights = 'imagenet', \n",
    "                       input_shape = (IMG_WIDTH, IMG_HEIGHT,3), \n",
    "                       include_top = False)\n",
    "model.add(efnModel)\n",
    "model.add(layers.GlobalAveragePooling2D())\n",
    "#model.add(layers.Dense(512, activation= 'relu'))\n",
    "#model.add(layers.Dropout(0.3))\n",
    "model.add(layers.Dense(1, activation='sigmoid'))\n",
    "\n",
    "# decay is included for backward compatibility to allow time inverse decay of lr\n",
    "opt1 = RMSprop(lr=1e-5, decay=1e-6)\n",
    "opt2 = Adam(lr=0.006) \n",
    "\n",
    "model.compile(loss='binary_crossentropy',\n",
    "              optimizer = opt1, \n",
    "              metrics = ['accuracy'])\n",
    "\n",
    "model.summary()\n"
   ]
  },
  {
   "cell_type": "code",
   "execution_count": null,
   "id": "56c348df",
   "metadata": {},
   "outputs": [],
   "source": [
    "datagen = ImageDataGenerator(\n",
    "            rescale=1. / 255,            # 将数据放缩到0-1范围内\n",
    "            rotation_range=40,           # 图像随机旋转的角度范围\n",
    "            width_shift_range=0.2,       # 图像在水平方向上平移的范围\n",
    "            height_shift_range=0.2,      # 图像在垂直方向上平移的范围\n",
    "            shear_range=0.2,             # 随机错切变换的角度\n",
    "            zoom_range=0.2,              # 图像随机缩放的范围\n",
    "            horizontal_flip=True,        # 随机将一半图像水平翻转\n",
    "            fill_mode='nearest')         # 填充新创建像素的方法\n",
    "\n",
    "val_datagen = ImageDataGenerator(rescale=1./255)\n"
   ]
  },
  {
   "cell_type": "code",
   "execution_count": null,
   "id": "554db09e",
   "metadata": {},
   "outputs": [],
   "source": [
    "def plot_gened(train_images,seed=320):\n",
    "    '''plot pictures after processing\n",
    "    '''\n",
    "    df = pd.DataFrame({'filename': train_images})\n",
    "    np.random.seed(seed)\n",
    "    vis_df = df.sample(n=1).reset_index(drop=True)\n",
    "    vis_df['category'] = '0'\n",
    "#vis_df\n",
    "    vis_gen = ImageDataGenerator(\n",
    "            rescale=1. / 255,             # 将数据放缩到0-1范围内\n",
    "            rotation_range=40,            # 图像随机旋转的角度范围\n",
    "            width_shift_range=0.2,        # 图像在水平方向上平移的范围\n",
    "            height_shift_range=0.2,       # 图像在垂直方向上平移的范围\n",
    "            shear_range=0.2,              # 随机错切变换的角度\n",
    "            zoom_range=0.2,               # 图像随机缩放的范围\n",
    "            horizontal_flip=True,         # 随机将一半图像水平翻转\n",
    "            fill_mode='nearest')          # 填充新创建像素的方法\n",
    "\n",
    "    vis_gen0 = vis_gen.flow_from_dataframe(vis_df,\n",
    "                                       x_col='filename',\n",
    "                                       y_col='category',\n",
    "                                       target_size=(IMG_WIDTH, IMG_HEIGHT),\n",
    "                                       batch_size = 16)\n",
    "    plt.rcParams['figure.facecolor'] = 'white'\n",
    "    plt.figure(figsize=(8, 8))\n",
    "    for i in range(0, 9):\n",
    "        plt.subplot(3, 3, i+1)\n",
    "        for X_batch, Y_batch in vis_gen0:\n",
    "            image = X_batch[0]\n",
    "            plt.imshow(image)\n",
    "            break\n",
    "    plt.tight_layout()\n",
    "    plt.show()\n",
    "    \n",
    "plot_gened(train_images)    \n"
   ]
  },
  {
   "cell_type": "code",
   "execution_count": null,
   "id": "e7d1c93e",
   "metadata": {},
   "outputs": [],
   "source": [
    "BATCH_SIZE = 16\n",
    "datagen = datagen.flow(x_train, y_train, batch_size=BATCH_SIZE)\n",
    "val_datagen = val_datagen.flow(x_val, y_val, batch_size=BATCH_SIZE)\n",
    "\n",
    "earlystop1 = EarlyStopping(patience=5)\n",
    "earlystop2 = ReduceLROnPlateau(monitor = 'val_accuracy', min_lr = 0.001, \n",
    "                               patience = 5, mode = 'min', \n",
    "                               verbose = 1)\n",
    "\n",
    "history = model.fit(datagen, \n",
    "                    steps_per_epoch=45,\n",
    "                    epochs=20,\n",
    "                    validation_data=val_datagen,\n",
    "                    callbacks=[earlystop1, earlystop2],\n",
    "                    validation_steps=25)\n",
    "\n",
    "#print(np.ceil(len(x_train)/BATCH_SIZE))\n",
    "#print(np.ceil(len(x_val)/BATCH_SIZE))\n",
    "#model.save('dogs_cats_efficientnetb7.h5')\n"
   ]
  },
  {
   "cell_type": "code",
   "execution_count": null,
   "id": "2c6b79b4",
   "metadata": {},
   "outputs": [],
   "source": [
    "plt.rcParams['figure.facecolor'] = 'white'\n",
    "model_loss = pd.DataFrame(history.history)\n",
    "model_loss.head()\n",
    "model_loss[['accuracy','val_accuracy']].plot(ylim=[0.4,0.8]);\n",
    "model_loss[['loss','val_loss']].plot(ylim=[0.5,1]);\n"
   ]
  },
  {
   "cell_type": "code",
   "execution_count": null,
   "id": "e31b1a05",
   "metadata": {},
   "outputs": [],
   "source": [
    "val_preds = model.predict(val_datagen, \n",
    "                          verbose=1, \n",
    "                          steps=np.ceil(len(x_val)/BATCH_SIZE))\n",
    "print(np.ceil(len(x_val)/BATCH_SIZE))\n",
    "print('Out of Fold log loss is {:.5}'.format(log_loss(y_val, val_preds.ravel())))\n"
   ]
  },
  {
   "cell_type": "code",
   "execution_count": null,
   "id": "e7c39960",
   "metadata": {},
   "outputs": [],
   "source": [
    "test_datagen = ImageDataGenerator(rescale=1. / 255)\n",
    "test_datagen = test_datagen.flow(np.array(test), batch_size=BATCH_SIZE)\n",
    "test_pred = model.predict(test_datagen, \n",
    "                          verbose=1, \n",
    "                          steps=np.ceil(len(test)/BATCH_SIZE))\n",
    "print(np.ceil(len(test)/BATCH_SIZE))\n",
    "# test_pred.ravel().mean()\n",
    "# results = np.where(test_pred.ravel()>0.5,1,0) \n"
   ]
  },
  {
   "cell_type": "code",
   "execution_count": null,
   "id": "927f944f",
   "metadata": {},
   "outputs": [],
   "source": [
    "submission = pd.DataFrame({'id': range(1, len(test_images) + 1), 'label': test_pred.ravel()})\n",
    "submission.to_csv('submission.csv', index = False)\n",
    "print('This program costs {:.2f} seconds'.format(time.time()-start))\n",
    "submission\n"
   ]
  },
  {
   "cell_type": "code",
   "execution_count": null,
   "id": "902ea690",
   "metadata": {},
   "outputs": [],
   "source": [
    "!rm -rf /kaggle/working/data/ # remove all imgs unzipped at /data folder\n"
   ]
  }
 ],
 "metadata": {},
 "nbformat": 4,
 "nbformat_minor": 5
}
