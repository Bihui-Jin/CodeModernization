{
  "cells": [
    {
      "cell_type": "code",
      "execution_count": null,
      "id": "5acb7a8f",
      "metadata": {},
      "outputs": [],
      "source": [
        "import pandas as pd\n",
        "from pathlib import Path"
      ]
    },
    {
      "cell_type": "code",
      "execution_count": null,
      "id": "be2da1a3",
      "metadata": {},
      "outputs": [],
      "source": [
        "# This Python 3 environment comes with many helpful analytics libraries installed\n",
        "# It is defined by the kaggle/python Docker image: https://github.com/kaggle/docker-python\n",
        "# For example, here's several helpful packages to load\n",
        "\n",
        "import pydicom, numpy as np # linear algebra\n",
        "import pandas as pd # data processing, CSV file I/O (e.g. pd.read_csv)\n",
        "\n",
        "# Input data files are available in the read-only \"../input/\" directory\n",
        "# For example, running this (by clicking run or pressing Shift+Enter) will list all files under the input directory\n",
        "import json\n",
        "from PIL import Image\n",
        "from IPython.display import display\n",
        "import os\n",
        "import plotly.graph_objects as px\n",
        "import matplotlib.pyplot as plt\n",
        "import seaborn as sns\n",
        "sns.set()\n",
        "from plotly.offline import init_notebook_mode\n",
        "from plotly.offline import iplot\n",
        "import tensorflow as tf\n",
        "from tensorflow import keras\n",
        "from tensorflow.keras.models import Sequential\n",
        "from tensorflow.keras.callbacks import EarlyStopping, LambdaCallback\n",
        "from tensorflow.keras.preprocessing.image import ImageDataGenerator\n",
        "from tensorflow.keras.layers import Dense, Conv2D, MaxPooling2D, Dropout, Flatten\n",
        "from tensorflow.keras.applications import DenseNet121\n",
        "from sklearn import metrics\n",
        "from sklearn.model_selection import StratifiedKFold\n",
        "\n",
        "import cufflinks as cf\n",
        "cf.go_offline()\n",
        "cf.set_config_file(offline=False, world_readable=True)\n",
        "\n",
        "# You can write up to 5GB to the current directory (/kaggle/working/) that gets preserved as output when you create a version using \"Save & Run All\" \n",
        "# You can also write temporary files to /kaggle/temp/, but they won't be saved outside of the current session\n"
      ]
    },
    {
      "cell_type": "code",
      "execution_count": null,
      "id": "e4e19be1",
      "metadata": {},
      "outputs": [],
      "source": [
        "train_df = pd.read_csv('../input/siim-isic-melanoma-classification/train.csv')\n",
        "test_df = pd.read_csv('../input/siim-isic-melanoma-classification/test.csv')\n",
        "subs_df = pd.read_csv('../input/siim-isic-melanoma-classification/sample_submission.csv')\n",
        "\n",
        "image_path = '../input/siim-isic-melanoma-classification/train/'\n",
        "\n",
        "print('The size of training data : {}'.format(train_df.shape))\n",
        "print('The size of testing data : {}'.format(test_df.shape))\n"
      ]
    },
    {
      "cell_type": "code",
      "execution_count": null,
      "id": "e5dd2031",
      "metadata": {},
      "outputs": [],
      "source": [
        "train_df.head()\n"
      ]
    },
    {
      "cell_type": "code",
      "execution_count": null,
      "id": "18f2be04",
      "metadata": {},
      "outputs": [],
      "source": [
        "a = np.mean(train_df.target)\n",
        "print('The Distribution of Training dataset : {}'.format(a))\n"
      ]
    },
    {
      "cell_type": "code",
      "execution_count": null,
      "id": "9c692911",
      "metadata": {},
      "outputs": [],
      "source": [
        "plt.figure(figsize = (17,7))\n",
        "percent_missing = train_df.isnull().sum() / (train_df.shape[0])*100\n",
        "percent_missing.iplot(kind = 'bar',color ='blue')\n"
      ]
    },
    {
      "cell_type": "code",
      "execution_count": null,
      "id": "45f8ee60",
      "metadata": {},
      "outputs": [],
      "source": [
        "train_df.describe()\n"
      ]
    },
    {
      "cell_type": "code",
      "execution_count": null,
      "id": "ffacdfdb",
      "metadata": {},
      "outputs": [],
      "source": [
        "print(\"The total patient ids are {}, from those the unique ids are {}\".format(train_df['patient_id'].count(),train_df['patient_id'].value_counts().shape[0] ))\n"
      ]
    },
    {
      "cell_type": "code",
      "execution_count": null,
      "id": "af2a8ae8",
      "metadata": {},
      "outputs": [],
      "source": [
        "benign_gender = train_df.groupby(['benign_malignant']).count()['sex'].to_frame()\n",
        "benign_gender.head()\n"
      ]
    },
    {
      "cell_type": "code",
      "execution_count": null,
      "id": "f37554a1",
      "metadata": {},
      "outputs": [],
      "source": [
        "#target and age\n",
        "plt.figure(figsize = (17,7))\n",
        "sns.boxplot(x = train_df['target'], y = train_df['age_approx'])\n"
      ]
    },
    {
      "cell_type": "code",
      "execution_count": null,
      "id": "37ec2614",
      "metadata": {},
      "outputs": [],
      "source": [
        "feature_list = ['sex','age_approx','anatom_site_general_challenge'] \n",
        "for i in feature_list: \n",
        "    train_df[i].value_counts(normalize=True).to_frame().iplot(kind='bar',\n",
        "                                                      yTitle='Percentage', \n",
        "                                                      linecolor='black', \n",
        "                                                      opacity=0.7,\n",
        "                                                      color='blue',\n",
        "                                                      theme='pearl',\n",
        "                                                      bargap=0.8,\n",
        "                                                      gridcolor='white',                                                     \n",
        "                                                      title=f'Distribution of {i} in train set.')\n",
        "\n",
        "    test_df[i].value_counts(normalize=True).to_frame().iplot(kind='bar',\n",
        "                                                      yTitle='Percentage', \n",
        "                                                      linecolor='black', \n",
        "                                                      opacity=0.7,\n",
        "                                                      color='green',\n",
        "                                                      theme='pearl',\n",
        "                                                      bargap=0.8,\n",
        "                                                      gridcolor='white',                                                     \n",
        "                                                      title=f'Distribution of {i} in test set.')\n"
      ]
    },
    {
      "cell_type": "code",
      "execution_count": null,
      "id": "9b3add63",
      "metadata": {},
      "outputs": [],
      "source": [
        "im = train_df['image_name'].values\n",
        "display(im)\n"
      ]
    },
    {
      "cell_type": "code",
      "execution_count": null,
      "id": "c43e0447",
      "metadata": {},
      "outputs": [],
      "source": [
        "plt.figure(figsize=(17,6))\n",
        "\n",
        "image_dir = '../input/siim-isic-melanoma-classification/'\n",
        "\n",
        "img = [np.random.choice(im + '.jpg') for i in range(10)]\n",
        "img_dir = image_dir + '/jpeg/train'\n",
        "\n",
        "for i in range(9):\n",
        "    plt.subplot(3,3, i+1)\n",
        "    images = plt.imread(os.path.join(img_dir, img[i]))\n",
        "    plt.imshow(images)\n"
      ]
    },
    {
      "cell_type": "code",
      "execution_count": null,
      "id": "77d89b35",
      "metadata": {},
      "outputs": [],
      "source": [
        "malignant = train_df[train_df['benign_malignant']=='malignant']\n",
        "benign = train_df[train_df['benign_malignant']=='benign']\n",
        "\n",
        "print(malignant)\n",
        "print(benign)\n"
      ]
    },
    {
      "cell_type": "code",
      "execution_count": null,
      "id": "873d47a2",
      "metadata": {},
      "outputs": [],
      "source": [
        "malignant.head(5)\n"
      ]
    },
    {
      "cell_type": "code",
      "execution_count": null,
      "id": "382fb841",
      "metadata": {},
      "outputs": [],
      "source": [
        "benign.head(5)\n"
      ]
    },
    {
      "cell_type": "code",
      "execution_count": null,
      "id": "2d84a470",
      "metadata": {},
      "outputs": [],
      "source": [
        "im_malignant = malignant['image_name'].values\n",
        "image_dir = '../input/siim-isic-melanoma-classification/'\n",
        "\n",
        "img = [np.random.choice(im_malignant + '.jpg') for i in range(10)]\n",
        "img_dir = image_dir + '/jpeg/train'\n",
        "plt.figure(figsize=(17,17))\n",
        "\n",
        "for i in range(9):\n",
        "    plt.subplot(3,3, i+1)\n",
        "    images = plt.imread(os.path.join(img_dir, img[i]))\n",
        "    plt.imshow(images)\n",
        "    plt.axis('off')\n",
        "plt.tight_layout()\n",
        "print(\"Random Malignant Images are Displayed!!\")\n"
      ]
    },
    {
      "cell_type": "code",
      "execution_count": null,
      "id": "0da4d3a1",
      "metadata": {},
      "outputs": [],
      "source": [
        "im_benign = benign['image_name'].values\n",
        "image_dir = '../input/siim-isic-melanoma-classification/'\n",
        "\n",
        "img = [np.random.choice(im_benign + '.jpg') for i in range(10)]\n",
        "img_dir = image_dir + '/jpeg/train'\n",
        "plt.figure(figsize=(17,17))\n",
        "\n",
        "for i in range(9):\n",
        "    plt.subplot(3,3, i+1)\n",
        "    images = plt.imread(os.path.join(img_dir, img[i]))\n",
        "    plt.imshow(images)\n",
        "    plt.axis('off')\n",
        "plt.tight_layout()\n",
        "print('Random Benign Images are displayed!!')\n"
      ]
    },
    {
      "cell_type": "code",
      "execution_count": null,
      "id": "a8c61357",
      "metadata": {},
      "outputs": [],
      "source": [
        "plt.imshow(pydicom.dcmread(image_path + list(train_df['image_name'])[1] + '.dcm').pixel_array)\n",
        "plt.savefig('x.jpg')\n"
      ]
    },
    {
      "cell_type": "code",
      "execution_count": null,
      "id": "2d854b9b",
      "metadata": {},
      "outputs": [],
      "source": [
        "plt.figure(figsize=(17,17))\n",
        "\n",
        "for i in range(9):\n",
        "    plt.subplot(3,3, i+1)\n",
        "    images = pydicom.dcmread(image_path + train_df[train_df['benign_malignant']=='benign']['image_name'][i] + '.dcm')\n",
        "    plt.imshow(images.pixel_array)\n",
        "    plt.axis('off')\n",
        "print(\"--- Benign DICOM Images ---\")\n",
        "plt.tight_layout()\n"
      ]
    },
    {
      "cell_type": "code",
      "execution_count": null,
      "id": "605ce8c5",
      "metadata": {},
      "outputs": [],
      "source": [
        "plt.figure(figsize = (10,10))\n",
        "data = train_df.benign_malignant.value_counts()\n",
        "data.iplot(kind = 'bar', color='blue', title = 'Data Imbalance')\n"
      ]
    },
    {
      "cell_type": "code",
      "execution_count": null,
      "id": "0774c1c9",
      "metadata": {},
      "outputs": [],
      "source": [
        "plt.figure(figsize = (20,15))\n",
        "sns.boxplot(x = train_df['diagnosis'], y = train_df['age_approx'])\n"
      ]
    },
    {
      "cell_type": "code",
      "execution_count": null,
      "id": "a7a759b8",
      "metadata": {},
      "outputs": [],
      "source": [
        "img = im_benign[0] + '.jpg'\n",
        "f = plt.figure(figsize=(15,10))\n",
        "f.add_subplot(1,2,1)\n",
        "\n",
        "images = plt.imread(os.path.join(img_dir, img))\n",
        "plt.imshow(images, cmap='gray')\n",
        "plt.axis('off')\n",
        "plt.colorbar()\n",
        "plt.title('Benign Images')\n",
        "\n",
        "f.add_subplot(1,2,2)\n",
        "_= plt.hist(images[:, :, 0].ravel(), bins = 256, color = 'red', alpha = 0.5)\n",
        "_ = plt.hist(images[:, :, 1].ravel(), bins = 256, color = 'Green', alpha = 0.5)\n",
        "_ = plt.hist(images[:, :, 2].ravel(), bins = 256, color = 'Blue', alpha = 0.5)\n",
        "_ = plt.xlabel('Intensity Value')\n",
        "_ = plt.ylabel('Count')\n",
        "_ = plt.legend(['Red_Channel', 'Green_Channel', 'Blue_Channel'])\n",
        "plt.show()\n"
      ]
    },
    {
      "cell_type": "code",
      "execution_count": null,
      "id": "d4f272bc",
      "metadata": {},
      "outputs": [],
      "source": [
        "img = im_malignant[0] + '.jpg'\n",
        "f = plt.figure(figsize=(15,10))\n",
        "f.add_subplot(1,2,1)\n",
        "\n",
        "images = plt.imread(os.path.join(img_dir, img))\n",
        "plt.imshow(images, cmap='gray')\n",
        "plt.axis('off')\n",
        "plt.colorbar()\n",
        "plt.title('Malignant Images')\n",
        "\n",
        "f.add_subplot(1,2,2)\n",
        "_= plt.hist(images[:, :, 0].ravel(), bins = 256, color = 'red', alpha = 0.5)\n",
        "_ = plt.hist(images[:, :, 1].ravel(), bins = 256, color = 'Green', alpha = 0.5)\n",
        "_ = plt.hist(images[:, :, 2].ravel(), bins = 256, color = 'Blue', alpha = 0.5)\n",
        "_ = plt.xlabel('Intensity Value')\n",
        "_ = plt.ylabel('Count')\n",
        "_ = plt.legend(['Red_Channel', 'Green_Channel', 'Blue_Channel'])\n",
        "plt.show()\n"
      ]
    },
    {
      "cell_type": "code",
      "execution_count": null,
      "id": "e453de02",
      "metadata": {},
      "outputs": [],
      "source": [
        "from sklearn import model_selection\n"
      ]
    },
    {
      "cell_type": "code",
      "execution_count": null,
      "id": "bdc68881",
      "metadata": {},
      "outputs": [],
      "source": [
        "#using the train.csv data\n",
        "train_df['kfold'] = -1\n",
        "train_df = train_df.sample(frac=1).reset_index(drop=True)\n",
        "y = train_df.target.values\n",
        "kf = model_selection.StratifiedKFold(n_splits=10)\n",
        "\n",
        "for f, (t_, v_) in enumerate(kf.split(X=train_df, y=y)):\n",
        "    train_df.loc[v_, 'kfold'] = f\n",
        "\n",
        "train_df.to_csv(\"train_folds.csv\", index=False)\n"
      ]
    },
    {
      "cell_type": "code",
      "execution_count": null,
      "id": "7a3acfb8",
      "metadata": {},
      "outputs": [],
      "source": [
        " \n"
      ]
    },
    {
      "cell_type": "code",
      "execution_count": null,
      "id": "eba925a9",
      "metadata": {},
      "outputs": [],
      "source": [
        "subs_df.to_csv('submissions.csv', index = False)\n",
        "print('Successfull!!')\n"
      ]
    },
    {
      "cell_type": "code",
      "execution_count": null,
      "id": "7c6f9fba",
      "metadata": {},
      "outputs": [],
      "source": [
        " \n"
      ]
    }
  ],
  "metadata": {},
  "nbformat": 4,
  "nbformat_minor": 5
}