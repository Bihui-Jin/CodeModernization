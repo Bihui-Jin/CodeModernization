{
 "cells": [
  {
   "cell_type": "code",
   "execution_count": null,
   "id": "a688c0df",
   "metadata": {},
   "outputs": [],
   "source": [
    "import pandas as pd\n",
    "from pathlib import Path"
   ]
  },
  {
   "cell_type": "code",
   "execution_count": null,
   "id": "0fabfb09",
   "metadata": {},
   "outputs": [],
   "source": [
    "# This Python 3 environment comes with many helpful analytics libraries installed\n",
    "# It is defined by the kaggle/python Docker image: https://github.com/kaggle/docker-python\n",
    "# For example, here's several helpful packages to load\n",
    "\n",
    "import numpy as np # linear algebra\n",
    "import pandas as pd # data processing, CSV file I/O (e.g. pd.read_csv)\n",
    "import zipfile\n",
    "from sklearn.model_selection import train_test_split, KFold\n",
    "from sklearn.metrics import log_loss, roc_auc_score\n",
    "from sklearn.linear_model import LogisticRegression\n",
    "\n",
    "# Input data files are available in the read-only \"../input/\" directory\n",
    "# For example, running this (by clicking run or pressing Shift+Enter) will list all files under the input directory\n",
    "\n",
    "import os\n",
    "\n",
    "# You can write up to 5GB to the current directory (/kaggle/working/) that gets preserved as output when you create a version using \"Save & Run All\" \n",
    "# You can also write temporary files to /kaggle/temp/, but they won't be saved outside of the current session\n"
   ]
  },
  {
   "cell_type": "code",
   "execution_count": null,
   "id": "1be58797",
   "metadata": {},
   "outputs": [],
   "source": [
    "sample_submission = pd.read_csv('/kaggle/input/dogs-vs-cats-redux-kernels-edition/sample_submission.csv')\n",
    "sample_submission.tail()\n"
   ]
  },
  {
   "cell_type": "code",
   "execution_count": null,
   "id": "fcb91e92",
   "metadata": {},
   "outputs": [],
   "source": [
    "sample_submission.head()\n"
   ]
  },
  {
   "cell_type": "code",
   "execution_count": null,
   "id": "bbd1e3f8",
   "metadata": {},
   "outputs": [],
   "source": [
    "TRAIN_FOLDER = '../input/cats-and-dogs-embedded-data/train/train/'\n",
    "TEST_FOLDER =  '../input/cats-and-dogs-embedded-data/test/test/'\n",
    "IMG_SIZE = 224\n"
   ]
  },
  {
   "cell_type": "code",
   "execution_count": null,
   "id": "c92ca8cd",
   "metadata": {},
   "outputs": [],
   "source": [
    "train_image_list = np.load('../input/cats-and-dogs-embedded-data/cats_and_dogs_1/train_image_list.npy')\n",
    "test_image_list = np.load('../input/cats-and-dogs-embedded-data/cats_and_dogs_1/test_image_list.npy')\n"
   ]
  },
  {
   "cell_type": "code",
   "execution_count": null,
   "id": "df9965f6",
   "metadata": {},
   "outputs": [],
   "source": [
    "train_image_list\n"
   ]
  },
  {
   "cell_type": "code",
   "execution_count": null,
   "id": "6a3ec6db",
   "metadata": {},
   "outputs": [],
   "source": [
    "test_image_list\n"
   ]
  },
  {
   "cell_type": "code",
   "execution_count": null,
   "id": "dfb61ad4",
   "metadata": {},
   "outputs": [],
   "source": [
    "ids = [int(x.split('.')[0]) for x in test_image_list]\n",
    "ids[:20]\n"
   ]
  },
  {
   "cell_type": "code",
   "execution_count": null,
   "id": "4b88cef3",
   "metadata": {},
   "outputs": [],
   "source": [
    "target = np.load('../input/cats-and-dogs-embedded-data/cats_and_dogs_1/target.npy')\n"
   ]
  },
  {
   "cell_type": "code",
   "execution_count": null,
   "id": "c6bbcb78",
   "metadata": {},
   "outputs": [],
   "source": [
    "target\n"
   ]
  },
  {
   "cell_type": "code",
   "execution_count": null,
   "id": "c0a78c29",
   "metadata": {},
   "outputs": [],
   "source": [
    "train_EB0 = np.load('../input/cats-and-dogs-embedded-data/cats_and_dogs_3/cats_and_dogs_3/train_EB0.npy')\n",
    "test_EB0 = np.load('../input/cats-and-dogs-embedded-data/cats_and_dogs_3/cats_and_dogs_3/test_EB0.npy')\n"
   ]
  },
  {
   "cell_type": "code",
   "execution_count": null,
   "id": "b612ddd8",
   "metadata": {},
   "outputs": [],
   "source": [
    "train_EB0.shape\n"
   ]
  },
  {
   "cell_type": "code",
   "execution_count": null,
   "id": "10a47826",
   "metadata": {},
   "outputs": [],
   "source": [
    "X_train, X_val, y_train, y_val = train_test_split(train_EB0, target, test_size=0.1, random_state=42)\n"
   ]
  },
  {
   "cell_type": "code",
   "execution_count": null,
   "id": "467624fb",
   "metadata": {},
   "outputs": [],
   "source": [
    "%%time\n",
    "lr = LogisticRegression(C=0.02, max_iter=10000)\n",
    "lr.fit(X_train, y_train)\n"
   ]
  },
  {
   "cell_type": "code",
   "execution_count": null,
   "id": "fa09a24f",
   "metadata": {},
   "outputs": [],
   "source": [
    "val_preds = lr.predict_proba(X_val)[:,1]\n"
   ]
  },
  {
   "cell_type": "code",
   "execution_count": null,
   "id": "373d9c6e",
   "metadata": {},
   "outputs": [],
   "source": [
    "val_preds\n"
   ]
  },
  {
   "cell_type": "code",
   "execution_count": null,
   "id": "78c96765",
   "metadata": {},
   "outputs": [],
   "source": [
    "y_val\n"
   ]
  },
  {
   "cell_type": "code",
   "execution_count": null,
   "id": "887eebfc",
   "metadata": {},
   "outputs": [],
   "source": [
    "roc_auc_score(y_val, val_preds)\n"
   ]
  },
  {
   "cell_type": "code",
   "execution_count": null,
   "id": "81e15002",
   "metadata": {},
   "outputs": [],
   "source": [
    "log_loss(y_val, val_preds)\n"
   ]
  },
  {
   "cell_type": "code",
   "execution_count": null,
   "id": "e36a9911",
   "metadata": {},
   "outputs": [],
   "source": [
    "test_preds = lr.predict_proba(test_EB0)[:,1]\n"
   ]
  },
  {
   "cell_type": "code",
   "execution_count": null,
   "id": "0d3e34e1",
   "metadata": {},
   "outputs": [],
   "source": [
    "test_preds\n"
   ]
  },
  {
   "cell_type": "code",
   "execution_count": null,
   "id": "2fa84d0b",
   "metadata": {},
   "outputs": [],
   "source": [
    "sample_submission['id'] = ids\n",
    "sample_submission['label'] = test_preds\n",
    "sample_submission.to_csv('submission.csv', index=False)\n",
    "sample_submission.head()\n"
   ]
  },
  {
   "cell_type": "code",
   "execution_count": null,
   "id": "8ff8dfeb",
   "metadata": {},
   "outputs": [],
   "source": [
    " \n"
   ]
  }
 ],
 "metadata": {},
 "nbformat": 4,
 "nbformat_minor": 5
}
