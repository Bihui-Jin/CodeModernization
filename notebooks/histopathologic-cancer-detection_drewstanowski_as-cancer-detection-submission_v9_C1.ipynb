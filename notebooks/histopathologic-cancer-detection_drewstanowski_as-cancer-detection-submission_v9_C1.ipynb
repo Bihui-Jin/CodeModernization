{
 "cells": [
  {
   "cell_type": "code",
   "execution_count": null,
   "id": "ee83361f",
   "metadata": {},
   "outputs": [],
   "source": [
    "import pandas as pd\n",
    "from pathlib import Path"
   ]
  },
  {
   "cell_type": "code",
   "execution_count": null,
   "id": "3d67ab7d",
   "metadata": {},
   "outputs": [],
   "source": [
    "import os\n",
    "import numpy as np\n",
    "import pandas as pd\n",
    "import matplotlib.pyplot as plt\n",
    "from tensorflow import keras\n",
    "from tensorflow.keras.preprocessing.image import ImageDataGenerator\n"
   ]
  },
  {
   "cell_type": "code",
   "execution_count": null,
   "id": "615a208d",
   "metadata": {},
   "outputs": [],
   "source": [
    "test = pd.read_csv('../input/histopathologic-cancer-detection/sample_submission.csv')\n",
    "test.shape\n"
   ]
  },
  {
   "cell_type": "code",
   "execution_count": null,
   "id": "96d3455c",
   "metadata": {},
   "outputs": [],
   "source": [
    "test.head()\n"
   ]
  },
  {
   "cell_type": "code",
   "execution_count": null,
   "id": "d419b85b",
   "metadata": {},
   "outputs": [],
   "source": [
    "#Need .tif extension\n",
    "# function to apply the .tif extension\n",
    "def append_ext(fn):\n",
    "    return fn+\".tif\"\n",
    "\n",
    "\n",
    "test['id'] = test['id'].apply(append_ext)\n",
    "test.head()\n"
   ]
  },
  {
   "cell_type": "code",
   "execution_count": null,
   "id": "ef69e458",
   "metadata": {},
   "outputs": [],
   "source": [
    "BATCH_SIZE = 64\n",
    "\n",
    "test_datagen = ImageDataGenerator(rescale=1/255)\n",
    "\n",
    "test_loader = test_datagen.flow_from_dataframe(\n",
    "    dataframe = test,\n",
    "    directory ='../input/histopathologic-cancer-detection/test',\n",
    "    x_col = 'id',\n",
    "    batch_size = BATCH_SIZE,\n",
    "    seed = 1,\n",
    "    shuffle = False,\n",
    "    class_mode = None,\n",
    "    target_size = (32,32)\n",
    ")\n"
   ]
  },
  {
   "cell_type": "code",
   "execution_count": null,
   "id": "948daa1f",
   "metadata": {},
   "outputs": [],
   "source": [
    "cnn = keras.models.load_model('../input/cancer-detection/cancer_model7.h5')\n",
    "cnn.summary()\n"
   ]
  },
  {
   "cell_type": "code",
   "execution_count": null,
   "id": "8387fb81",
   "metadata": {},
   "outputs": [],
   "source": [
    "test_probs = cnn.predict(test_loader)\n",
    "print(test_probs.shape)\n"
   ]
  },
  {
   "cell_type": "code",
   "execution_count": null,
   "id": "881b8cfe",
   "metadata": {},
   "outputs": [],
   "source": [
    "print(test_probs[:10,].round(2))\n"
   ]
  },
  {
   "cell_type": "code",
   "execution_count": null,
   "id": "2dd30fb3",
   "metadata": {},
   "outputs": [],
   "source": [
    "submission = pd.read_csv('../input/histopathologic-cancer-detection/sample_submission.csv')\n",
    "submission.head()\n"
   ]
  },
  {
   "cell_type": "code",
   "execution_count": null,
   "id": "f100004d",
   "metadata": {},
   "outputs": [],
   "source": [
    "submission.label = test_probs[:,1]\n",
    "submission.head()\n"
   ]
  },
  {
   "cell_type": "code",
   "execution_count": null,
   "id": "60e1bc6a",
   "metadata": {},
   "outputs": [],
   "source": [
    "submission.to_csv('submission.csv', header=True, index=False)\n"
   ]
  }
 ],
 "metadata": {},
 "nbformat": 4,
 "nbformat_minor": 5
}
