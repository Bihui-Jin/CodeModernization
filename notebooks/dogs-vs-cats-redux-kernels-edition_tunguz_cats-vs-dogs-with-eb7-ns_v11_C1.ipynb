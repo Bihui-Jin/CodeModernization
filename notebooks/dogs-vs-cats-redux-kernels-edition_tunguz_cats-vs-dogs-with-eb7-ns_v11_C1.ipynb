{
 "cells": [
  {
   "cell_type": "code",
   "execution_count": null,
   "id": "9753ccb4",
   "metadata": {},
   "outputs": [],
   "source": [
    "import pandas as pd\n",
    "from pathlib import Path"
   ]
  },
  {
   "cell_type": "code",
   "execution_count": null,
   "id": "923e422b",
   "metadata": {},
   "outputs": [],
   "source": [
    "# This Python 3 environment comes with many helpful analytics libraries installed\n",
    "# It is defined by the kaggle/python Docker image: https://github.com/kaggle/docker-python\n",
    "# For example, here's several helpful packages to load\n",
    "\n",
    "import numpy as np # linear algebra\n",
    "import pandas as pd # data processing, CSV file I/O (e.g. pd.read_csv)\n",
    "import zipfile\n",
    "from sklearn.model_selection import train_test_split, KFold\n",
    "from sklearn.metrics import log_loss, roc_auc_score\n",
    "from sklearn.linear_model import LogisticRegression\n",
    "\n",
    "# Input data files are available in the read-only \"../input/\" directory\n",
    "# For example, running this (by clicking run or pressing Shift+Enter) will list all files under the input directory\n",
    "\n",
    "import os\n",
    "\n",
    "# You can write up to 5GB to the current directory (/kaggle/working/) that gets preserved as output when you create a version using \"Save & Run All\" \n",
    "# You can also write temporary files to /kaggle/temp/, but they won't be saved outside of the current session\n"
   ]
  },
  {
   "cell_type": "code",
   "execution_count": null,
   "id": "2bde1968",
   "metadata": {},
   "outputs": [],
   "source": [
    "sample_submission = pd.read_csv('/kaggle/input/dogs-vs-cats-redux-kernels-edition/sample_submission.csv')\n",
    "sample_submission.tail()\n"
   ]
  },
  {
   "cell_type": "code",
   "execution_count": null,
   "id": "ec6b208e",
   "metadata": {},
   "outputs": [],
   "source": [
    "sample_submission.head()\n"
   ]
  },
  {
   "cell_type": "code",
   "execution_count": null,
   "id": "d6cda8a4",
   "metadata": {},
   "outputs": [],
   "source": [
    "TRAIN_FOLDER = '../input/cats-and-dogs-embedded-data/train/train/'\n",
    "TEST_FOLDER =  '../input/cats-and-dogs-embedded-data/test/test/'\n",
    "IMG_SIZE = 224\n"
   ]
  },
  {
   "cell_type": "code",
   "execution_count": null,
   "id": "1aa7949d",
   "metadata": {},
   "outputs": [],
   "source": [
    "train_image_list = np.load('../input/cats-and-dogs-embedded-data/cats_and_dogs_1/train_image_list.npy')\n",
    "test_image_list = np.load('../input/cats-and-dogs-embedded-data/cats_and_dogs_1/test_image_list.npy')\n"
   ]
  },
  {
   "cell_type": "code",
   "execution_count": null,
   "id": "a1f63a1e",
   "metadata": {},
   "outputs": [],
   "source": [
    "train_image_list\n"
   ]
  },
  {
   "cell_type": "code",
   "execution_count": null,
   "id": "126d714d",
   "metadata": {},
   "outputs": [],
   "source": [
    "test_image_list\n"
   ]
  },
  {
   "cell_type": "code",
   "execution_count": null,
   "id": "772db73a",
   "metadata": {},
   "outputs": [],
   "source": [
    "ids = [int(x.split('.')[0]) for x in test_image_list]\n",
    "ids[:20]\n"
   ]
  },
  {
   "cell_type": "code",
   "execution_count": null,
   "id": "bd87f0c4",
   "metadata": {},
   "outputs": [],
   "source": [
    "target = np.load('../input/cats-and-dogs-embedded-data/cats_and_dogs_1/target.npy')\n"
   ]
  },
  {
   "cell_type": "code",
   "execution_count": null,
   "id": "448cc26a",
   "metadata": {},
   "outputs": [],
   "source": [
    "target\n"
   ]
  },
  {
   "cell_type": "code",
   "execution_count": null,
   "id": "69ba9adb",
   "metadata": {},
   "outputs": [],
   "source": [
    "train_EB7_ns = np.load('../input/cats-and-dogs-embedded-data/cats_and_dogs_4/cats_and_dogs_4/train_EB7_ns.npy')\n",
    "test_EB7_ns = np.load('../input/cats-and-dogs-embedded-data/cats_and_dogs_4/cats_and_dogs_4/test_EB7_ns.npy')\n"
   ]
  },
  {
   "cell_type": "code",
   "execution_count": null,
   "id": "8414888d",
   "metadata": {},
   "outputs": [],
   "source": [
    "train_EB7_ns.shape\n"
   ]
  },
  {
   "cell_type": "code",
   "execution_count": null,
   "id": "65486b88",
   "metadata": {},
   "outputs": [],
   "source": [
    "X_train, X_val, y_train, y_val = train_test_split(train_EB7_ns, target, test_size=0.1, random_state=42)\n"
   ]
  },
  {
   "cell_type": "code",
   "execution_count": null,
   "id": "52dac185",
   "metadata": {},
   "outputs": [],
   "source": [
    "%%time\n",
    "lr = LogisticRegression(C=0.026, max_iter=10000)\n",
    "lr.fit(X_train, y_train)\n"
   ]
  },
  {
   "cell_type": "code",
   "execution_count": null,
   "id": "65fdb910",
   "metadata": {},
   "outputs": [],
   "source": [
    "val_preds = lr.predict_proba(X_val)[:,1]\n"
   ]
  },
  {
   "cell_type": "code",
   "execution_count": null,
   "id": "030acb4c",
   "metadata": {},
   "outputs": [],
   "source": [
    "val_preds\n"
   ]
  },
  {
   "cell_type": "code",
   "execution_count": null,
   "id": "a2912fbb",
   "metadata": {},
   "outputs": [],
   "source": [
    "y_val\n"
   ]
  },
  {
   "cell_type": "code",
   "execution_count": null,
   "id": "22445f1c",
   "metadata": {},
   "outputs": [],
   "source": [
    "roc_auc_score(y_val, val_preds)\n"
   ]
  },
  {
   "cell_type": "code",
   "execution_count": null,
   "id": "d52b0301",
   "metadata": {},
   "outputs": [],
   "source": [
    "log_loss(y_val, val_preds)\n"
   ]
  },
  {
   "cell_type": "code",
   "execution_count": null,
   "id": "f05252ec",
   "metadata": {},
   "outputs": [],
   "source": [
    "test_preds = lr.predict_proba(test_EB7_ns)[:,1]\n"
   ]
  },
  {
   "cell_type": "code",
   "execution_count": null,
   "id": "34c6fd54",
   "metadata": {},
   "outputs": [],
   "source": [
    "test_preds\n"
   ]
  },
  {
   "cell_type": "code",
   "execution_count": null,
   "id": "3454bcab",
   "metadata": {},
   "outputs": [],
   "source": [
    "sample_submission['id'] = ids\n",
    "sample_submission['label'] = test_preds\n",
    "sample_submission.to_csv('submission.csv', index=False)\n",
    "sample_submission.head()\n"
   ]
  },
  {
   "cell_type": "code",
   "execution_count": null,
   "id": "30ec545d",
   "metadata": {},
   "outputs": [],
   "source": [
    " \n"
   ]
  }
 ],
 "metadata": {},
 "nbformat": 4,
 "nbformat_minor": 5
}
