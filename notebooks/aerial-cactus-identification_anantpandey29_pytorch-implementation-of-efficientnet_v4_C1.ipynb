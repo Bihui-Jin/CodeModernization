{
 "cells": [
  {
   "cell_type": "code",
   "execution_count": null,
   "id": "8efd07a7",
   "metadata": {},
   "outputs": [],
   "source": [
    "import pandas as pd\n",
    "from pathlib import Path"
   ]
  },
  {
   "cell_type": "code",
   "execution_count": null,
   "id": "c114bf8d",
   "metadata": {},
   "outputs": [],
   "source": [
    "import warnings\n",
    "warnings.filterwarnings(\"ignore\")\n"
   ]
  },
  {
   "cell_type": "code",
   "execution_count": null,
   "id": "fa2a2df7",
   "metadata": {},
   "outputs": [],
   "source": [
    "import numpy as np\n",
    "import pandas as pd\n",
    "import os\n",
    "\n",
    "from torch.utils.data import DataLoader, Dataset\n",
    "import torch.utils.data as utils\n",
    "from torchvision import transforms\n",
    "\n",
    "import torch\n",
    "import torch.nn as nn\n",
    "import torch.optim as optim \n",
    "import torchvision\n",
    "\n",
    "\n",
    "import matplotlib.pyplot as plt\n",
    "import matplotlib.image as mpimg\n",
    "%matplotlib inline\n"
   ]
  },
  {
   "cell_type": "code",
   "execution_count": null,
   "id": "c085e39d",
   "metadata": {},
   "outputs": [],
   "source": [
    "!unzip /kaggle/input/aerial-cactus-identification/train.zip\n"
   ]
  },
  {
   "cell_type": "code",
   "execution_count": null,
   "id": "0f524a4e",
   "metadata": {},
   "outputs": [],
   "source": [
    "!unzip /kaggle/input/aerial-cactus-identification/test.zip\n"
   ]
  },
  {
   "cell_type": "code",
   "execution_count": null,
   "id": "058308d6",
   "metadata": {},
   "outputs": [],
   "source": [
    "data_directory = '/kaggle/working/'\n",
    "train_directory = data_directory + 'train/'\n",
    "test_directory = data_directory + 'test/'\n"
   ]
  },
  {
   "cell_type": "code",
   "execution_count": null,
   "id": "05630b05",
   "metadata": {},
   "outputs": [],
   "source": [
    "labels = pd.read_csv(\"/kaggle/input/aerial-cactus-identification/train.csv\")\n",
    "labels.head()\n"
   ]
  },
  {
   "cell_type": "code",
   "execution_count": null,
   "id": "fc96eb7d",
   "metadata": {},
   "outputs": [],
   "source": [
    "class ImageData(Dataset):\n",
    "    def __init__(self, df, data_directory, transform):\n",
    "        super().__init__()\n",
    "        self.df = df\n",
    "        self.data_directory = data_directory\n",
    "        self.transform = transform\n",
    "\n",
    "    def __len__(self):\n",
    "        return len(self.df)\n",
    "    \n",
    "    def __getitem__(self, index):       \n",
    "        img_name = self.df.id[index]\n",
    "        label = self.df.has_cactus[index]\n",
    "        \n",
    "        img_path = os.path.join(self.data_directory, img_name)\n",
    "        image = mpimg.imread(img_path)\n",
    "        image = self.transform(image)\n",
    "        return image, label\n"
   ]
  },
  {
   "cell_type": "code",
   "execution_count": null,
   "id": "99dbc47a",
   "metadata": {},
   "outputs": [],
   "source": [
    "data_transf = transforms.Compose([transforms.ToPILImage(), transforms.ToTensor()])\n",
    "train_data = ImageData(df = labels, data_directory = train_directory, transform = data_transf)\n",
    "train_loader = DataLoader(dataset = train_data, batch_size = 64)\n"
   ]
  },
  {
   "cell_type": "code",
   "execution_count": null,
   "id": "daf69485",
   "metadata": {},
   "outputs": [],
   "source": [
    "!pip install efficientnet_pytorch\n"
   ]
  },
  {
   "cell_type": "code",
   "execution_count": null,
   "id": "fa806390",
   "metadata": {},
   "outputs": [],
   "source": [
    "from efficientnet_pytorch import EfficientNet\n",
    "model = EfficientNet.from_name('efficientnet-b1')\n"
   ]
  },
  {
   "cell_type": "code",
   "execution_count": null,
   "id": "b5436541",
   "metadata": {},
   "outputs": [],
   "source": [
    "# Unfreezing model weights\n",
    "for param in model.parameters():\n",
    "    param.requires_grad = True\n"
   ]
  },
  {
   "cell_type": "code",
   "execution_count": null,
   "id": "e2ae9659",
   "metadata": {},
   "outputs": [],
   "source": [
    "num_ftrs = model._fc.in_features\n",
    "model._fc = nn.Linear(num_ftrs, 1)\n"
   ]
  },
  {
   "cell_type": "code",
   "execution_count": null,
   "id": "4618e3f5",
   "metadata": {},
   "outputs": [],
   "source": [
    "model = model.to('cuda')\n"
   ]
  },
  {
   "cell_type": "code",
   "execution_count": null,
   "id": "be4e1ec4",
   "metadata": {},
   "outputs": [],
   "source": [
    "optimizer = optim.NAdam(model.parameters())\n"
   ]
  },
  {
   "cell_type": "code",
   "execution_count": null,
   "id": "14208924",
   "metadata": {},
   "outputs": [],
   "source": [
    "loss_func = nn.BCELoss()\n"
   ]
  },
  {
   "cell_type": "code",
   "execution_count": null,
   "id": "d4a6f5e9",
   "metadata": {},
   "outputs": [],
   "source": [
    "%%time\n",
    "# Training model for 5 epochs and logging the time required for the entire training process\n",
    "loss_log = []\n",
    "\n",
    "for epoch in range(5):    \n",
    "    model.train()    \n",
    "    for ii, (data, target) in enumerate(train_loader):\n",
    "        data, target = data.cuda(), target.cuda()\n",
    "        target = target.float()                \n",
    "        target = target.unsqueeze(1)\n",
    "        \n",
    "        optimizer.zero_grad()\n",
    "        output = model(data)                \n",
    "    \n",
    "        m = nn.Sigmoid()\n",
    "        loss = loss_func(m(output), target)\n",
    "        loss.backward()\n",
    "\n",
    "        optimizer.step()  \n",
    "        \n",
    "        if ii % 1000 == 0:\n",
    "            loss_log.append(loss.item())\n",
    "       \n",
    "    print('Epoch Number : {} - Loss Value: {:.6f}'.format(epoch + 1, loss.item()))\n",
    "    \n",
    "    \n",
    "    \n",
    "print('Training time :')\n"
   ]
  },
  {
   "cell_type": "code",
   "execution_count": null,
   "id": "99b12bce",
   "metadata": {},
   "outputs": [],
   "source": [
    "plt.figure(figsize=(10,8))\n",
    "plt.title(\"Model Log Loss\")\n",
    "plt.xlim(0,4)\n",
    "plt.ylim(0,1)\n",
    "plt.xscale(\"linear\")\n",
    "plt.xlabel(\"Epochs\")\n",
    "plt.ylabel(\"Log Loss\")\n",
    "plt.plot(loss_log)\n"
   ]
  },
  {
   "cell_type": "code",
   "execution_count": null,
   "id": "20fb9913",
   "metadata": {},
   "outputs": [],
   "source": [
    "submission = pd.read_csv('/kaggle/input/aerial-cactus-identification/sample_submission.csv')\n"
   ]
  },
  {
   "cell_type": "code",
   "execution_count": null,
   "id": "93f1d2d1",
   "metadata": {},
   "outputs": [],
   "source": [
    "test_data = ImageData(df = submission, data_directory = test_directory, transform = data_transf)\n",
    "test_loader = DataLoader(dataset = test_data, shuffle=False)\n"
   ]
  },
  {
   "cell_type": "code",
   "execution_count": null,
   "id": "30989f8d",
   "metadata": {},
   "outputs": [],
   "source": [
    "%%time\n",
    "predict = []\n",
    "model.eval()\n",
    "for i, (data, _) in enumerate(test_loader):\n",
    "    data = data.cuda()\n",
    "    output = model(data)    \n",
    "\n",
    "    pred = torch.sigmoid(output)\n",
    "    predicted_vals = pred > 0.5\n",
    "    predict.append(int(predicted_vals))\n",
    "    \n",
    "submission['has_cactus'] = predict\n",
    "submission.to_csv('submission.csv', index=False)\n",
    "\n",
    "print('Testing time :')\n"
   ]
  },
  {
   "cell_type": "code",
   "execution_count": null,
   "id": "8583a788",
   "metadata": {},
   "outputs": [],
   "source": [
    "submission.head()\n"
   ]
  }
 ],
 "metadata": {},
 "nbformat": 4,
 "nbformat_minor": 5
}
