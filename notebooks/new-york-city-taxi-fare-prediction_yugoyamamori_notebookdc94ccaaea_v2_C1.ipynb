{
 "cells": [
  {
   "cell_type": "code",
   "execution_count": null,
   "id": "9b434d9a",
   "metadata": {},
   "outputs": [],
   "source": [
    "import pandas as pd\n",
    "from pathlib import Path"
   ]
  },
  {
   "cell_type": "code",
   "execution_count": null,
   "id": "f557dc59",
   "metadata": {},
   "outputs": [],
   "source": [
    "# This Python 3 environment comes with many helpful analytics libraries installed\n",
    "# It is defined by the kaggle/python Docker image: https://github.com/kaggle/docker-python\n",
    "# For example, here's several helpful packages to load\n",
    "\n",
    "import numpy as np # linear algebra\n",
    "import pandas as pd # data processing, CSV file I/O (e.g. pd.read_csv)\n",
    "\n",
    "# Input data files are available in the read-only \"../input/\" directory\n",
    "# For example, running this (by clicking run or pressing Shift+Enter) will list all files under the input directory\n",
    "\n",
    "import os\n",
    "for dirname, _, filenames in os.walk('/kaggle/input'):\n",
    "    for filename in filenames:\n",
    "        print(os.path.join(dirname, filename))\n",
    "\n",
    "# You can write up to 20GB to the current directory (/kaggle/working/) that gets preserved as output when you create a version using \"Save & Run All\" \n",
    "# You can also write temporary files to /kaggle/temp/, but they won't be saved outside of the current session\n"
   ]
  },
  {
   "cell_type": "code",
   "execution_count": null,
   "id": "1f4758e1",
   "metadata": {},
   "outputs": [],
   "source": [
    "import matplotlib.pyplot as plt\n",
    "import seaborn as sns\n"
   ]
  },
  {
   "cell_type": "code",
   "execution_count": null,
   "id": "dd10593f",
   "metadata": {},
   "outputs": [],
   "source": [
    "train_df = pd.read_csv('/kaggle/input/new-york-city-taxi-fare-prediction/train.csv',nrows = 1000000)\n",
    "test_df = pd.read_csv('/kaggle/input/new-york-city-taxi-fare-prediction/test.csv')\n"
   ]
  },
  {
   "cell_type": "code",
   "execution_count": null,
   "id": "8ebb74aa",
   "metadata": {},
   "outputs": [],
   "source": [
    "train_df\n"
   ]
  },
  {
   "cell_type": "code",
   "execution_count": null,
   "id": "5f14b5ba",
   "metadata": {},
   "outputs": [],
   "source": [
    "test_df\n"
   ]
  },
  {
   "cell_type": "code",
   "execution_count": null,
   "id": "ec7cabc8",
   "metadata": {},
   "outputs": [],
   "source": [
    "train_df.columns\n"
   ]
  },
  {
   "cell_type": "code",
   "execution_count": null,
   "id": "f404bd00",
   "metadata": {},
   "outputs": [],
   "source": [
    "test_df.columns\n"
   ]
  },
  {
   "cell_type": "code",
   "execution_count": null,
   "id": "eead6c22",
   "metadata": {},
   "outputs": [],
   "source": [
    "train_df.isnull().sum().sort_values(ascending=False)\n"
   ]
  },
  {
   "cell_type": "code",
   "execution_count": null,
   "id": "deeb0b90",
   "metadata": {},
   "outputs": [],
   "source": [
    "test_df.isnull().sum().sort_values(ascending=False)\n"
   ]
  },
  {
   "cell_type": "code",
   "execution_count": null,
   "id": "722c36cc",
   "metadata": {},
   "outputs": [],
   "source": [
    "a = train_df[train_df[\"dropoff_longitude\"].isnull()|train_df[\"dropoff_latitude\"].isnull()]\n",
    "print(a)\n"
   ]
  },
  {
   "cell_type": "code",
   "execution_count": null,
   "id": "1c91c19b",
   "metadata": {},
   "outputs": [],
   "source": [
    "train_df.drop(a.index,axis=0, inplace=True)\n"
   ]
  },
  {
   "cell_type": "code",
   "execution_count": null,
   "id": "6be966f0",
   "metadata": {},
   "outputs": [],
   "source": [
    "train_df.isnull().sum().sort_values(ascending=False)\n"
   ]
  },
  {
   "cell_type": "code",
   "execution_count": null,
   "id": "2d1aefa4",
   "metadata": {},
   "outputs": [],
   "source": [
    " train_df.describe()\n"
   ]
  },
  {
   "cell_type": "code",
   "execution_count": null,
   "id": "8bf9f451",
   "metadata": {},
   "outputs": [],
   "source": [
    "test_df.describe()\n"
   ]
  },
  {
   "cell_type": "code",
   "execution_count": null,
   "id": "9169a0fe",
   "metadata": {},
   "outputs": [],
   "source": [
    "sns.histplot(\n",
    "data = train_df, x = \"fare_amount\", kde = True, bins = 100)\n"
   ]
  },
  {
   "cell_type": "code",
   "execution_count": null,
   "id": "69dc95df",
   "metadata": {},
   "outputs": [],
   "source": [
    "sns.boxplot(\n",
    "data = train_df, y = \"fare_amount\")\n"
   ]
  },
  {
   "cell_type": "code",
   "execution_count": null,
   "id": "86344a34",
   "metadata": {},
   "outputs": [],
   "source": [
    "train_df['passenger_count'].describe()\n"
   ]
  },
  {
   "cell_type": "code",
   "execution_count": null,
   "id": "ee9f211b",
   "metadata": {},
   "outputs": [],
   "source": [
    "sns.histplot(\n",
    "data = train_df, x = \"passenger_count\")\n",
    "plt.ylim(0,1000000)\n"
   ]
  },
  {
   "cell_type": "code",
   "execution_count": null,
   "id": "d86cb3ee",
   "metadata": {},
   "outputs": [],
   "source": [
    "train_df = train_df[(train_df[\"fare_amount\"] >= 2.5) & (train_df[\"fare_amount\"] < 100)]\n"
   ]
  },
  {
   "cell_type": "code",
   "execution_count": null,
   "id": "03a17dd2",
   "metadata": {},
   "outputs": [],
   "source": [
    "train_df[\"fare_amount\"].describe()\n"
   ]
  },
  {
   "cell_type": "code",
   "execution_count": null,
   "id": "12cc5762",
   "metadata": {},
   "outputs": [],
   "source": [
    "sns.histplot(\n",
    "data = train_df, x = \"fare_amount\", kde = True, bins = 100 )\n",
    "plt.xlim(0,80)\n",
    "plt.ylim(0,150000)\n"
   ]
  },
  {
   "cell_type": "code",
   "execution_count": null,
   "id": "56ff1d23",
   "metadata": {},
   "outputs": [],
   "source": [
    "sns.boxplot(\n",
    "data = train_df, y = \"fare_amount\")\n"
   ]
  },
  {
   "cell_type": "code",
   "execution_count": null,
   "id": "d07a61fc",
   "metadata": {},
   "outputs": [],
   "source": [
    "train_df = train_df[(train_df[\"passenger_count\"] <= 6) & (train_df[\"passenger_count\"] >= 1)]\n",
    "sns.histplot(\n",
    "data = train_df, x = \"passenger_count\")\n",
    "plt.ylim(0,1000000)\n"
   ]
  },
  {
   "cell_type": "code",
   "execution_count": null,
   "id": "f944094d",
   "metadata": {},
   "outputs": [],
   "source": [
    "train_df = train_df[(train_df[\"pickup_longitude\"] <= -73.0) & (train_df[\"pickup_longitude\"] >= -74.5)]\n",
    "train_df = train_df[(train_df[\"pickup_latitude\"] >= 40.5) & (train_df[\"pickup_latitude\"] <= 42)]\n",
    "train_df = train_df[(train_df[\"dropoff_longitude\"] <= -73.0) & (train_df[\"dropoff_longitude\"] >= -74.5)]\n",
    "train_df = train_df[(train_df[\"dropoff_latitude\"] >= 40.5) & (train_df[\"dropoff_latitude\"] <= 42)]\n",
    "## 42~40.5,-74.5~-73\n"
   ]
  },
  {
   "cell_type": "code",
   "execution_count": null,
   "id": "0a30c6f8",
   "metadata": {},
   "outputs": [],
   "source": [
    "train_df.describe()\n"
   ]
  },
  {
   "cell_type": "code",
   "execution_count": null,
   "id": "1da3b49a",
   "metadata": {},
   "outputs": [],
   "source": [
    "train_df\n"
   ]
  },
  {
   "cell_type": "code",
   "execution_count": null,
   "id": "b5bc94cb",
   "metadata": {},
   "outputs": [],
   "source": [
    "train_df.describe()\n"
   ]
  },
  {
   "cell_type": "code",
   "execution_count": null,
   "id": "9e4091c9",
   "metadata": {},
   "outputs": [],
   "source": [
    "train_df.drop(['key','pickup_datetime'], axis = 1, inplace=True)\n",
    "test_df.drop(['key','pickup_datetime'], axis = 1, inplace=True)\n"
   ]
  },
  {
   "cell_type": "code",
   "execution_count": null,
   "id": "1e7beb1d",
   "metadata": {},
   "outputs": [],
   "source": [
    "train_df.columns\n"
   ]
  },
  {
   "cell_type": "code",
   "execution_count": null,
   "id": "477a89ca",
   "metadata": {},
   "outputs": [],
   "source": [
    "test_df.columns\n"
   ]
  },
  {
   "cell_type": "code",
   "execution_count": null,
   "id": "3d353507",
   "metadata": {},
   "outputs": [],
   "source": [
    "from geopy.distance import geodesic\n",
    "def get_distance_km(lat1, lon1, lat2, lon2):\n",
    "    p_point = (lat1, lon1)\n",
    "    d_point = (lat2, lon2)\n",
    "    distance_km = geodesic(p_point, d_point).km\n",
    "    return distance_km\n"
   ]
  },
  {
   "cell_type": "code",
   "execution_count": null,
   "id": "6ad73426",
   "metadata": {},
   "outputs": [],
   "source": [
    "train_len = len(train_df)\n",
    "print(train_len)\n"
   ]
  },
  {
   "cell_type": "code",
   "execution_count": null,
   "id": "21c71749",
   "metadata": {},
   "outputs": [],
   "source": [
    "df = pd.concat([train_df,test_df], axis=0)\n"
   ]
  },
  {
   "cell_type": "code",
   "execution_count": null,
   "id": "9c44c439",
   "metadata": {},
   "outputs": [],
   "source": [
    "print(len(df))\n"
   ]
  },
  {
   "cell_type": "code",
   "execution_count": null,
   "id": "18f70407",
   "metadata": {},
   "outputs": [],
   "source": [
    "distances_km = []\n",
    "for i in range(len(df)):\n",
    "    distance = get_distance_km(df.iloc[i,df.columns.get_loc(\"pickup_latitude\")],df.iloc[i,df.columns.get_loc(\"pickup_longitude\")],df.iloc[i,df.columns.get_loc(\"dropoff_latitude\")],df.iloc[i,df.columns.get_loc(\"dropoff_longitude\")])\n",
    "    distances_km.append(distance)\n"
   ]
  },
  {
   "cell_type": "code",
   "execution_count": null,
   "id": "5a638720",
   "metadata": {},
   "outputs": [],
   "source": [
    "print(distances_km[:20])\n"
   ]
  },
  {
   "cell_type": "code",
   "execution_count": null,
   "id": "028fcd4b",
   "metadata": {},
   "outputs": [],
   "source": [
    "import statistics\n",
    "mean = statistics.mean(distances_km)\n",
    "print(mean)\n"
   ]
  },
  {
   "cell_type": "code",
   "execution_count": null,
   "id": "a7aeafe0",
   "metadata": {},
   "outputs": [],
   "source": [
    "df[\"distance\"] = distances_km\n"
   ]
  },
  {
   "cell_type": "code",
   "execution_count": null,
   "id": "90dddbd0",
   "metadata": {},
   "outputs": [],
   "source": [
    "df\n"
   ]
  },
  {
   "cell_type": "code",
   "execution_count": null,
   "id": "a61df152",
   "metadata": {},
   "outputs": [],
   "source": [
    "train = df[0:train_len]\n",
    "test = df[train_len:]\n"
   ]
  },
  {
   "cell_type": "code",
   "execution_count": null,
   "id": "82a5e3f8",
   "metadata": {},
   "outputs": [],
   "source": [
    "train.isnull().sum().sort_values(ascending=False)\n"
   ]
  },
  {
   "cell_type": "code",
   "execution_count": null,
   "id": "a51cd3b2",
   "metadata": {},
   "outputs": [],
   "source": [
    "test.isnull().sum().sort_values(ascending=False)\n"
   ]
  },
  {
   "cell_type": "code",
   "execution_count": null,
   "id": "99dcbb8d",
   "metadata": {},
   "outputs": [],
   "source": [
    "from sklearn.ensemble import RandomForestRegressor\n",
    "from sklearn.metrics import mean_squared_error\n",
    "from sklearn.model_selection import train_test_split\n",
    "from sklearn.model_selection import train_test_split\n",
    "from sklearn.linear_model import LinearRegression\n",
    "from sklearn.metrics import mean_squared_error\n"
   ]
  },
  {
   "cell_type": "code",
   "execution_count": null,
   "id": "2deaf907",
   "metadata": {},
   "outputs": [],
   "source": [
    "train_X = train.drop(\"fare_amount\",axis=1).values\n",
    "train_y = train[\"fare_amount\"].values\n",
    "test = test.drop(\"fare_amount\",axis=1).values\n",
    "train_x, test_x, train_y, test_y = train_test_split(train_X,train_y,test_size=0.3,random_state=0)\n"
   ]
  },
  {
   "cell_type": "code",
   "execution_count": null,
   "id": "b6951a65",
   "metadata": {},
   "outputs": [],
   "source": [
    "model = LinearRegression()\n",
    "model.fit(train_x,train_y)\n",
    "test_x_predict = model.predict(test_x)\n"
   ]
  },
  {
   "cell_type": "code",
   "execution_count": null,
   "id": "539cc5db",
   "metadata": {},
   "outputs": [],
   "source": [
    "print(\"score:\"+str(np.sqrt(mean_squared_error(test_y,test_x_predict))))\n"
   ]
  },
  {
   "cell_type": "code",
   "execution_count": null,
   "id": "883073a5",
   "metadata": {},
   "outputs": [],
   "source": [
    "sub = pd.read_csv(\"/kaggle/input/new-york-city-taxi-fare-prediction/sample_submission.csv\")\n",
    "sub[\"fare_amount\"] = model.predict(test)\n"
   ]
  },
  {
   "cell_type": "code",
   "execution_count": null,
   "id": "b7045b2c",
   "metadata": {},
   "outputs": [],
   "source": [
    "sub.to_csv(\"submission.csv\",index=False)\n"
   ]
  },
  {
   "cell_type": "code",
   "execution_count": null,
   "id": "332f5fbb",
   "metadata": {},
   "outputs": [],
   "source": [
    "sub\n"
   ]
  }
 ],
 "metadata": {},
 "nbformat": 4,
 "nbformat_minor": 5
}
