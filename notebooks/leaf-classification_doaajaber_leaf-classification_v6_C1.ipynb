{
  "cells": [
    {
      "cell_type": "code",
      "execution_count": null,
      "id": "19210200",
      "metadata": {},
      "outputs": [],
      "source": [
        "import pandas as pd\n",
        "from pathlib import Path"
      ]
    },
    {
      "cell_type": "code",
      "execution_count": null,
      "id": "257b5720",
      "metadata": {},
      "outputs": [],
      "source": [
        "# This Python 3 environment comes with many helpful analytics libraries installed\n",
        "# It is defined by the kaggle/python Docker image: https://github.com/kaggle/docker-python\n",
        "# For example, here's several helpful packages to load\n",
        "\n",
        "import numpy as np # linear algebra\n",
        "import pandas as pd # data processing, CSV file I/O (e.g. pd.read_csv)\n",
        "\n",
        "# Input data files are available in the read-only \"../input/\" directory\n",
        "# For example, running this (by clicking run or pressing Shift+Enter) will list all files under the input directory\n",
        "\n",
        "import os\n",
        "for dirname, _, filenames in os.walk('/kaggle/input'):\n",
        "    for filename in filenames:\n",
        "        print(os.path.join(dirname, filename))\n",
        "\n",
        "# You can write up to 5GB to the current directory (/kaggle/working/) that gets preserved as output when you create a version using \"Save & Run All\" \n",
        "# You can also write temporary files to /kaggle/temp/, but they won't be saved outside of the current session\n"
      ]
    },
    {
      "cell_type": "code",
      "execution_count": null,
      "id": "344a011a",
      "metadata": {},
      "outputs": [],
      "source": [
        "df=pd.read_csv('../input/leaf-classification/train.csv.zip',index_col='id')\n",
        "df\n"
      ]
    },
    {
      "cell_type": "code",
      "execution_count": null,
      "id": "2b7998c7",
      "metadata": {},
      "outputs": [],
      "source": [
        "species_no=df.species.unique()\n",
        "print(species_no)\n",
        "print(len(species_no))\n"
      ]
    },
    {
      "cell_type": "code",
      "execution_count": null,
      "id": "2959604e",
      "metadata": {},
      "outputs": [],
      "source": [
        "df.isna().any().sum()\n"
      ]
    },
    {
      "cell_type": "code",
      "execution_count": null,
      "id": "c7a13ceb",
      "metadata": {},
      "outputs": [],
      "source": [
        "X=df.drop('species',axis=1)\n",
        "X\n"
      ]
    },
    {
      "cell_type": "code",
      "execution_count": null,
      "id": "e46c5b5d",
      "metadata": {},
      "outputs": [],
      "source": [
        "y=df.species\n",
        "y\n"
      ]
    },
    {
      "cell_type": "code",
      "execution_count": null,
      "id": "5bb9f910",
      "metadata": {},
      "outputs": [],
      "source": [
        "from sklearn.preprocessing import LabelEncoder\n",
        "label_encoder = LabelEncoder()\n",
        "\n",
        "le = LabelEncoder().fit(y)\n",
        "labels = le.transform(y) \n",
        "#label_y = label_encoder.fit_transform(y)\n",
        "classes = list(le.classes_) \n",
        "classes\n"
      ]
    },
    {
      "cell_type": "code",
      "execution_count": null,
      "id": "d1eac308",
      "metadata": {},
      "outputs": [],
      "source": [
        "'''from sklearn.preprocessing import OneHotEncoder\n",
        "\n",
        "# Apply one-hot encoder to each column with categorical data\n",
        "OH_encoder = OneHotEncoder(handle_unknown='ignore', sparse=True)\n",
        "OH_y = pd.DataFrame(OH_encoder.fit_transform(y))\n",
        "OH_y.index=y.index\n",
        "OH_y'''\n"
      ]
    },
    {
      "cell_type": "code",
      "execution_count": null,
      "id": "c30dc050",
      "metadata": {},
      "outputs": [],
      "source": [
        "'''from sklearn.model_selection import  train_test_split\n",
        "X_train, X_valid, y_train, y_valid = train_test_split(X,label_y)'''\n"
      ]
    },
    {
      "cell_type": "code",
      "execution_count": null,
      "id": "dfb4fc68",
      "metadata": {},
      "outputs": [],
      "source": [
        "#y_train.shape\n"
      ]
    },
    {
      "cell_type": "code",
      "execution_count": null,
      "id": "96b4f6ca",
      "metadata": {},
      "outputs": [],
      "source": [
        "#len( np.unique(y_train))\n"
      ]
    },
    {
      "cell_type": "code",
      "execution_count": null,
      "id": "1350df02",
      "metadata": {},
      "outputs": [],
      "source": [
        "#len(np.unique(y_valid))\n"
      ]
    },
    {
      "cell_type": "code",
      "execution_count": null,
      "id": "8e990d82",
      "metadata": {},
      "outputs": [],
      "source": [
        "parameters = [{\n",
        "    'n_estimators': list(range(100, 201, 100)), \n",
        "    'learning_rate': [x / 100 for x in range(5, 50, 10)], \n",
        "    'max_depth': list(range(6, 40, 10))\n",
        "}]\n",
        "print(parameters)\n"
      ]
    },
    {
      "cell_type": "code",
      "execution_count": null,
      "id": "6dd393d0",
      "metadata": {},
      "outputs": [],
      "source": [
        "from sklearn.model_selection import GridSearchCV\n",
        "from xgboost import XGBClassifier\n",
        "from sklearn.metrics import log_loss ,accuracy_score\n",
        "gsearch = GridSearchCV(estimator=XGBClassifier(),\n",
        "                       param_grid = parameters, \n",
        "                       scoring= 'neg_log_loss',\n",
        "                       n_jobs=4,cv=5, verbose=7)\n"
      ]
    },
    {
      "cell_type": "code",
      "execution_count": null,
      "id": "578b3965",
      "metadata": {},
      "outputs": [],
      "source": [
        "'''gsearch.fit(X,label_y)'''\n"
      ]
    },
    {
      "cell_type": "code",
      "execution_count": null,
      "id": "e99b1733",
      "metadata": {},
      "outputs": [],
      "source": [
        "'''best_n_estimators = gsearch.best_params_.get('n_estimators')\n",
        "best_n_estimators'''\n"
      ]
    },
    {
      "cell_type": "code",
      "execution_count": null,
      "id": "cc217855",
      "metadata": {},
      "outputs": [],
      "source": [
        "'''best_learning_rate = gsearch.best_params_.get('learning_rate')\n",
        "best_learning_rate'''\n"
      ]
    },
    {
      "cell_type": "code",
      "execution_count": null,
      "id": "f02b9661",
      "metadata": {},
      "outputs": [],
      "source": [
        "'''best_max_depth = gsearch.best_params_.get('max_depth')\n",
        "best_max_depth'''\n"
      ]
    },
    {
      "cell_type": "code",
      "execution_count": null,
      "id": "51a8d4b3",
      "metadata": {},
      "outputs": [],
      "source": [
        "final_model = XGBClassifier(n_estimators=100, \n",
        "                          learning_rate=.45, \n",
        "                          max_depth=6)\n"
      ]
    },
    {
      "cell_type": "code",
      "execution_count": null,
      "id": "171c525d",
      "metadata": {},
      "outputs": [],
      "source": [
        "final_model.fit(X,labels)\n"
      ]
    },
    {
      "cell_type": "code",
      "execution_count": null,
      "id": "7d8427f7",
      "metadata": {},
      "outputs": [],
      "source": [
        "#len(y_valid)\n"
      ]
    },
    {
      "cell_type": "code",
      "execution_count": null,
      "id": "da375c32",
      "metadata": {},
      "outputs": [],
      "source": [
        "'''preds = final_model.predict(X_valid)\n",
        "len(preds)'''\n"
      ]
    },
    {
      "cell_type": "code",
      "execution_count": null,
      "id": "641cba5b",
      "metadata": {},
      "outputs": [],
      "source": [
        "'''ll = accuracy_score(y_valid , preds)\n",
        "ll'''\n"
      ]
    },
    {
      "cell_type": "code",
      "execution_count": null,
      "id": "d1821d09",
      "metadata": {},
      "outputs": [],
      "source": [
        "import pandas as pd\n",
        "X_test=pd.read_csv('../input/leaf-classification/test.csv.zip')\n",
        "test_ids = X_test.id \n",
        "X_test.drop('id',axis=1,inplace=True)\n"
      ]
    },
    {
      "cell_type": "code",
      "execution_count": null,
      "id": "692d8847",
      "metadata": {},
      "outputs": [],
      "source": [
        "preds_test = final_model.predict_proba(X_test)\n",
        "preds_test\n"
      ]
    },
    {
      "cell_type": "code",
      "execution_count": null,
      "id": "eedddf42",
      "metadata": {},
      "outputs": [],
      "source": [
        "submission = pd.DataFrame(preds_test, columns=classes)\n",
        "submission.insert(0, 'id', test_ids)\n",
        "submission.reset_index()\n"
      ]
    },
    {
      "cell_type": "code",
      "execution_count": null,
      "id": "a3a4e984",
      "metadata": {},
      "outputs": [],
      "source": [
        "submission.to_csv('submission.csv', index=False)\n",
        "print('done!')\n"
      ]
    }
  ],
  "metadata": {},
  "nbformat": 4,
  "nbformat_minor": 5
}