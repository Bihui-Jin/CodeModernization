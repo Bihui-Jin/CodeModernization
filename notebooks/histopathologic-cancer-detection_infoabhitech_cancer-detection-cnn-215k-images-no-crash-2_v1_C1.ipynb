{
  "cells": [
    {
      "cell_type": "code",
      "execution_count": null,
      "id": "b8899d40",
      "metadata": {},
      "outputs": [],
      "source": [
        "import pandas as pd\n",
        "from pathlib import Path"
      ]
    },
    {
      "cell_type": "code",
      "execution_count": null,
      "id": "344fbec1",
      "metadata": {},
      "outputs": [],
      "source": [
        "# This Python 3 environment comes with many helpful analytics libraries installed\n",
        "# It is defined by the kaggle/python docker image: https://github.com/kaggle/docker-python\n",
        "# For example, here's several helpful packages to load in \n",
        "\n",
        "import numpy as np # linear algebra\n",
        "import pandas as pd # data processing, CSV file I/O (e.g. pd.read_csv)\n",
        "\n",
        "# Input data files are available in the \"../input/\" directory.\n",
        "# For example, running this (by clicking run or pressing Shift+Enter) will list the files in the input directory\n",
        "\n",
        "import os\n",
        "print(os.listdir(\"../input\"))\n",
        "\n",
        "# Any results you write to the current directory are saved as output.\n"
      ]
    },
    {
      "cell_type": "code",
      "execution_count": null,
      "id": "8e9c90dc",
      "metadata": {},
      "outputs": [],
      "source": [
        "import keras\n",
        "from keras.preprocessing import image\n",
        "from keras.models import Sequential\n",
        "from keras.layers import Dense, Dropout, Flatten\n",
        "from keras.layers import Conv2D, MaxPooling2D\n",
        "\n",
        "from skimage.io import imread\n",
        "from skimage.io import imshow\n",
        "\n",
        "import os\n"
      ]
    },
    {
      "cell_type": "code",
      "execution_count": null,
      "id": "dccb7781",
      "metadata": {},
      "outputs": [],
      "source": [
        "train = pd.read_csv(\"../input/train_labels.csv\")\n"
      ]
    },
    {
      "cell_type": "code",
      "execution_count": null,
      "id": "5f5d2db0",
      "metadata": {},
      "outputs": [],
      "source": [
        "train.head()\n"
      ]
    },
    {
      "cell_type": "code",
      "execution_count": null,
      "id": "b2cfa01d",
      "metadata": {},
      "outputs": [],
      "source": [
        "print(\"Number of training smaples -->\" ,len(train))\n"
      ]
    },
    {
      "cell_type": "code",
      "execution_count": null,
      "id": "04e43a81",
      "metadata": {},
      "outputs": [],
      "source": [
        "# Function to generate full path of image file\n",
        "\n",
        "def train_func_image_file(x):\n",
        "    folder = '../input/train/'\n",
        "    path = folder + x + '.tif'\n",
        "    return path\n"
      ]
    },
    {
      "cell_type": "code",
      "execution_count": null,
      "id": "fe3e0949",
      "metadata": {},
      "outputs": [],
      "source": [
        "# Create image path column in frame\n",
        "\n",
        "train['path'] = train['id'].apply(train_func_image_file)\n"
      ]
    },
    {
      "cell_type": "code",
      "execution_count": null,
      "id": "c92a2642",
      "metadata": {},
      "outputs": [],
      "source": [
        "print(train['path'][0])\n"
      ]
    },
    {
      "cell_type": "code",
      "execution_count": null,
      "id": "50047bde",
      "metadata": {},
      "outputs": [],
      "source": [
        "# Read image file using skimage imread functionality\n",
        "# Loading all training samples might blow off kernel due to limited memory , so taking maximum possible data\n",
        "\n",
        "train['image'] = train['path'][0:215000].map(imread)\n"
      ]
    },
    {
      "cell_type": "code",
      "execution_count": null,
      "id": "ebad303d",
      "metadata": {},
      "outputs": [],
      "source": [
        "print(imshow(train['image'][1]))\n"
      ]
    },
    {
      "cell_type": "code",
      "execution_count": null,
      "id": "49e8bf22",
      "metadata": {},
      "outputs": [],
      "source": [
        "# Function to crop image , to reduce memory usage but maintaining target area of image 30x30\n",
        "\n",
        "def crop(x):\n",
        "    return x[24:72, 24:72]\n"
      ]
    },
    {
      "cell_type": "code",
      "execution_count": null,
      "id": "0178a1f1",
      "metadata": {},
      "outputs": [],
      "source": [
        "# Create new column for image crop\n",
        "\n",
        "train['image_crop'] = train['image'][0:215000].map(crop)\n"
      ]
    },
    {
      "cell_type": "code",
      "execution_count": null,
      "id": "a3df4118",
      "metadata": {},
      "outputs": [],
      "source": [
        "print(\"Cropped image\" ,imshow(train['image_crop'][1]))\n"
      ]
    },
    {
      "cell_type": "code",
      "execution_count": null,
      "id": "b56bd0fe",
      "metadata": {},
      "outputs": [],
      "source": [
        "print(\"Dimension of image --->\" ,train['image'][0].shape)\n"
      ]
    },
    {
      "cell_type": "code",
      "execution_count": null,
      "id": "feaec118",
      "metadata": {},
      "outputs": [],
      "source": [
        "print(\"Dimension of crop image --->\" ,train['image_crop'][0].shape)\n"
      ]
    },
    {
      "cell_type": "code",
      "execution_count": null,
      "id": "0e45757d",
      "metadata": {},
      "outputs": [],
      "source": [
        "# Drop unwanted columns to release space\n",
        "train = train.drop(['path'], axis=1)\n"
      ]
    },
    {
      "cell_type": "code",
      "execution_count": null,
      "id": "ac62da96",
      "metadata": {},
      "outputs": [],
      "source": [
        "train = train.drop(['image'], axis=1)\n"
      ]
    },
    {
      "cell_type": "code",
      "execution_count": null,
      "id": "18915dd7",
      "metadata": {},
      "outputs": [],
      "source": [
        "# Garbage collector to release memory\n",
        "\n",
        "import gc; \n",
        "gc.collect()\n"
      ]
    },
    {
      "cell_type": "code",
      "execution_count": null,
      "id": "3da781a2",
      "metadata": {},
      "outputs": [],
      "source": [
        "# Create training array for individual image\n",
        "\n",
        "x_train = np.stack(list(train.image_crop.iloc[0:215000]), axis = 0)\n"
      ]
    },
    {
      "cell_type": "code",
      "execution_count": null,
      "id": "eacf5d5e",
      "metadata": {},
      "outputs": [],
      "source": [
        "train = train.drop(['image_crop'], axis=1)\n"
      ]
    },
    {
      "cell_type": "code",
      "execution_count": null,
      "id": "eb707ae2",
      "metadata": {},
      "outputs": [],
      "source": [
        "import gc; \n",
        "gc.collect()\n"
      ]
    },
    {
      "cell_type": "code",
      "execution_count": null,
      "id": "dfc3c8a8",
      "metadata": {},
      "outputs": [],
      "source": [
        "x_train = x_train.astype('float32')\n"
      ]
    },
    {
      "cell_type": "code",
      "execution_count": null,
      "id": "75daaa16",
      "metadata": {},
      "outputs": [],
      "source": [
        "# Normalise array values\n",
        "\n",
        "x_train /= 255\n"
      ]
    },
    {
      "cell_type": "code",
      "execution_count": null,
      "id": "61e30706",
      "metadata": {},
      "outputs": [],
      "source": [
        "# 2 classes 0 / 1 for our binary classification\n",
        "\n",
        "num_classes = 2\n"
      ]
    },
    {
      "cell_type": "code",
      "execution_count": null,
      "id": "5ee2ba84",
      "metadata": {},
      "outputs": [],
      "source": [
        "# Label is the target variable\n",
        "\n",
        "y_train = train['label'][0:215000]\n"
      ]
    },
    {
      "cell_type": "code",
      "execution_count": null,
      "id": "d8c33266",
      "metadata": {},
      "outputs": [],
      "source": [
        "y_train = keras.utils.to_categorical(y_train, num_classes)\n"
      ]
    },
    {
      "cell_type": "code",
      "execution_count": null,
      "id": "59de0fbe",
      "metadata": {},
      "outputs": [],
      "source": [
        "del train\n"
      ]
    },
    {
      "cell_type": "code",
      "execution_count": null,
      "id": "89dec326",
      "metadata": {},
      "outputs": [],
      "source": [
        "import gc; \n",
        "gc.collect()\n"
      ]
    },
    {
      "cell_type": "code",
      "execution_count": null,
      "id": "0cdeb699",
      "metadata": {},
      "outputs": [],
      "source": [
        "# Neural network variables to be used\n",
        "\n",
        "img_rows, img_cols = 48, 48\n",
        "\n",
        "input_shape = (img_rows, img_cols, 3)\n",
        "\n",
        "batch_size = 128\n",
        "epochs = 3\n"
      ]
    },
    {
      "cell_type": "code",
      "execution_count": null,
      "id": "57099dd8",
      "metadata": {},
      "outputs": [],
      "source": [
        "# Neural network with multiple layers\n",
        "\n",
        "model = Sequential()\n",
        "model.add(Conv2D(32, kernel_size=(3, 3), activation='relu', input_shape=input_shape))\n",
        "model.add(Conv2D(64, (3, 3), activation='relu'))\n",
        "model.add(MaxPooling2D(pool_size=(2, 2)))\n",
        "model.add(Dropout(0.2))\n",
        "model.add(Flatten())\n",
        "model.add(Dense(128, activation='relu'))\n",
        "model.add(Dropout(0.2))\n",
        "model.add(Dense(num_classes, activation='softmax'))\n"
      ]
    },
    {
      "cell_type": "code",
      "execution_count": null,
      "id": "683509d7",
      "metadata": {},
      "outputs": [],
      "source": [
        "model.compile(loss=keras.losses.categorical_crossentropy, optimizer=keras.optimizers.Adadelta(), metrics=['accuracy'])\n"
      ]
    },
    {
      "cell_type": "code",
      "execution_count": null,
      "id": "c83ca84f",
      "metadata": {},
      "outputs": [],
      "source": [
        "# Train model\n",
        "\n",
        "model.fit(x_train, y_train, batch_size=batch_size, epochs=epochs, verbose=0)\n"
      ]
    },
    {
      "cell_type": "code",
      "execution_count": null,
      "id": "1a1457b0",
      "metadata": {},
      "outputs": [],
      "source": [
        "del x_train\n"
      ]
    },
    {
      "cell_type": "code",
      "execution_count": null,
      "id": "436cbba9",
      "metadata": {},
      "outputs": [],
      "source": [
        "import gc; \n",
        "gc.collect()\n"
      ]
    },
    {
      "cell_type": "code",
      "execution_count": null,
      "id": "97389b8c",
      "metadata": {},
      "outputs": [],
      "source": [
        "# Create list of test image files\n",
        "\n",
        "image_file = []\n",
        "for file in os.listdir(\"../input/test/\"):\n",
        "    image_file.append(file)\n"
      ]
    },
    {
      "cell_type": "code",
      "execution_count": null,
      "id": "783e5da7",
      "metadata": {},
      "outputs": [],
      "source": [
        "# Create test data frame\n",
        "\n",
        "test = pd.DataFrame(image_file,columns=['file'])\n"
      ]
    },
    {
      "cell_type": "code",
      "execution_count": null,
      "id": "b31bd07d",
      "metadata": {},
      "outputs": [],
      "source": [
        "test.head()\n"
      ]
    },
    {
      "cell_type": "code",
      "execution_count": null,
      "id": "0bad2eca",
      "metadata": {},
      "outputs": [],
      "source": [
        "# Function to generate image test file\n",
        "\n",
        "def test_func_image_file(x):\n",
        "    folder = '../input/test/'\n",
        "    path = folder + x\n",
        "    return path\n"
      ]
    },
    {
      "cell_type": "code",
      "execution_count": null,
      "id": "50855d65",
      "metadata": {},
      "outputs": [],
      "source": [
        "test['path'] = test['file'].apply(test_func_image_file)\n"
      ]
    },
    {
      "cell_type": "code",
      "execution_count": null,
      "id": "1f7d10b5",
      "metadata": {},
      "outputs": [],
      "source": [
        "# Test data image processing\n",
        "\n",
        "test['image'] = test['path'][0:].map(imread)\n"
      ]
    },
    {
      "cell_type": "code",
      "execution_count": null,
      "id": "79875551",
      "metadata": {},
      "outputs": [],
      "source": [
        "test['image_crop'] = test['image'][0:].map(crop)\n"
      ]
    },
    {
      "cell_type": "code",
      "execution_count": null,
      "id": "13c0ef7b",
      "metadata": {},
      "outputs": [],
      "source": [
        "test = test.drop(['image'], axis=1)\n"
      ]
    },
    {
      "cell_type": "code",
      "execution_count": null,
      "id": "a1ae7bfb",
      "metadata": {},
      "outputs": [],
      "source": [
        "x_test = np.stack(list(test.image_crop.iloc[0:]), axis = 0)\n"
      ]
    },
    {
      "cell_type": "code",
      "execution_count": null,
      "id": "284612cf",
      "metadata": {},
      "outputs": [],
      "source": [
        "test = test.drop(['image_crop'], axis=1)\n"
      ]
    },
    {
      "cell_type": "code",
      "execution_count": null,
      "id": "043aa473",
      "metadata": {},
      "outputs": [],
      "source": [
        "import gc; \n",
        "gc.collect()\n"
      ]
    },
    {
      "cell_type": "code",
      "execution_count": null,
      "id": "4a90ebce",
      "metadata": {},
      "outputs": [],
      "source": [
        "x_test = x_test.astype('float32')\n"
      ]
    },
    {
      "cell_type": "code",
      "execution_count": null,
      "id": "af4ccaf3",
      "metadata": {},
      "outputs": [],
      "source": [
        "x_test /= 255\n"
      ]
    },
    {
      "cell_type": "code",
      "execution_count": null,
      "id": "ab3c4398",
      "metadata": {},
      "outputs": [],
      "source": [
        "test['id'] = test['file'].apply(lambda x: os.path.splitext(x)[0])\n"
      ]
    },
    {
      "cell_type": "code",
      "execution_count": null,
      "id": "8c9b8098",
      "metadata": {},
      "outputs": [],
      "source": [
        "predictions = model.predict_classes(x_test)\n"
      ]
    },
    {
      "cell_type": "code",
      "execution_count": null,
      "id": "ffc103ad",
      "metadata": {},
      "outputs": [],
      "source": [
        "test['label'] = pd.Series(predictions)\n"
      ]
    },
    {
      "cell_type": "code",
      "execution_count": null,
      "id": "5c9bdd13",
      "metadata": {},
      "outputs": [],
      "source": [
        "print(\"Cancer Detected - True Positive --> \",len(test['label'][test['label']==1]))\n"
      ]
    },
    {
      "cell_type": "code",
      "execution_count": null,
      "id": "93df8fd0",
      "metadata": {},
      "outputs": [],
      "source": [
        "print(\"NO Cancer Detected - True Negative --> \",len(test['label'][test['label']==0]))\n"
      ]
    },
    {
      "cell_type": "code",
      "execution_count": null,
      "id": "1e82f555",
      "metadata": {},
      "outputs": [],
      "source": [
        "test = test.drop(['file','path'], axis=1)\n"
      ]
    },
    {
      "cell_type": "code",
      "execution_count": null,
      "id": "d44e2796",
      "metadata": {},
      "outputs": [],
      "source": [
        "test.head()\n"
      ]
    },
    {
      "cell_type": "code",
      "execution_count": null,
      "id": "e0fd8ccc",
      "metadata": {},
      "outputs": [],
      "source": [
        "test.to_csv(\"submission.csv\", columns = test.columns, index=False)\n"
      ]
    }
  ],
  "metadata": {},
  "nbformat": 4,
  "nbformat_minor": 5
}