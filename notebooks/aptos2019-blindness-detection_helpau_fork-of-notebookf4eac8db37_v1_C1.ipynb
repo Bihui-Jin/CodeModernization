{
  "cells": [
    {
      "cell_type": "code",
      "execution_count": null,
      "id": "ec5b3551",
      "metadata": {},
      "outputs": [],
      "source": [
        "import pandas as pd\n",
        "from pathlib import Path"
      ]
    },
    {
      "cell_type": "code",
      "execution_count": null,
      "id": "2937a186",
      "metadata": {},
      "outputs": [],
      "source": [
        "# This Python 3 environment comes with many helpful analytics libraries installed\n",
        "# It is defined by the kaggle/python Docker image: https://github.com/kaggle/docker-python\n",
        "# For example, here's several helpful packages to load\n",
        "\n",
        "import numpy as np # linear algebra\n",
        "import pandas as pd # data processing, CSV file I/O (e.g. pd.read_csv)\n",
        "\n",
        "# Input data files are available in the read-only \"../input/\" directory\n",
        "# For example, running this (by clicking run or pressing Shift+Enter) will list all files under the input directory\n",
        "\n",
        "import os\n",
        "\"\"\"\n",
        "for dirname, _, filenames in os.walk('/kaggle/input'):\n",
        "    for filename in filenames:\n",
        "        print(os.path.join(dirname, filename))\n",
        "\"\"\"\n",
        "\n",
        "# You can write up to 20GB to the current directory (/kaggle/working/) that gets preserved as output when you create a version using \"Save & Run All\" \n",
        "# You can also write temporary files to /kaggle/temp/, but they won't be saved outside of the current session\n"
      ]
    },
    {
      "cell_type": "code",
      "execution_count": null,
      "id": "18b27978",
      "metadata": {},
      "outputs": [],
      "source": [
        "#!pip install pytorch\n"
      ]
    },
    {
      "cell_type": "code",
      "execution_count": null,
      "id": "1e9bae58",
      "metadata": {},
      "outputs": [],
      "source": [
        "import torch\n",
        "import torchvision.models as models\n",
        "import torchvision\n",
        "\n",
        "from torchvision import transforms,datasets\n",
        "import cv2\n"
      ]
    },
    {
      "cell_type": "code",
      "execution_count": null,
      "id": "ba5da851",
      "metadata": {},
      "outputs": [],
      "source": [
        "model = models.resnet18(pretrained=False)\n",
        "model.fc=torch.nn.Linear(512,5)\n"
      ]
    },
    {
      "cell_type": "code",
      "execution_count": null,
      "id": "289bb5f0",
      "metadata": {},
      "outputs": [],
      "source": [
        "#torch.save(model.state_dict(), \"./resnet18\")\n"
      ]
    },
    {
      "cell_type": "code",
      "execution_count": null,
      "id": "720fd1cd",
      "metadata": {},
      "outputs": [],
      "source": [
        "train_dir=\"../input/aptos2019-blindness-detection/train_images/\"\n",
        "test_dir=\"../input/aptos2019-blindness-detection/test_images/\"\n",
        "df=pd.read_csv(\"../input/aptos2019-blindness-detection/train.csv\")\n"
      ]
    },
    {
      "cell_type": "code",
      "execution_count": null,
      "id": "e8f585dd",
      "metadata": {},
      "outputs": [],
      "source": [
        "optimizer = torch.optim.Adam(model.parameters(),lr = 1e-3)\n",
        "#loss = torch.nn.CrossEntropyLoss()\n",
        "loss=torch.nn.MSELoss()\n",
        "device = torch.device(\"cuda:0\" if torch.cuda.is_available() else \"cpu\")\n",
        "model=model.to(device)\n"
      ]
    },
    {
      "cell_type": "code",
      "execution_count": null,
      "id": "f1aa0974",
      "metadata": {},
      "outputs": [],
      "source": [
        "c=0\n",
        "for i in df.values:\n",
        "    optimizer.zero_grad()\n",
        "    image_id,diagnosis=i\n",
        "    image_path=os.path.join(train_dir,image_id+\".png\")\n",
        "    img = cv2.imread(image_path)\n",
        "    h,w,ch=img.shape\n",
        "    img=transforms.ToTensor()(img).unsqueeze_(0)/256\n",
        "    \"\"\"\n",
        "    delta=abs(h-w)\n",
        "    if h>w:\n",
        "        img=transforms.Pad(padding=[0,delta//2])(img)\n",
        "    elif w>h:\n",
        "        img=transforms.Pad(padding=[delta//2,0])(img)\n",
        "    \"\"\"\n",
        "    img=img.to(device)\n",
        "    preds=model.forward(img)\n",
        "    true_tensor=[0.0,0.0,0.0,0.0,0.0]\n",
        "    true_tensor[diagnosis]=1.0\n",
        "    true_tensor=torch.Tensor(true_tensor).to(device)\n",
        "    loss_value = loss(preds[0], true_tensor)\n",
        "    loss_value.backward()\n",
        "    optimizer.step()\n",
        "    c+=1\n",
        "    if c%20==0:\n",
        "        print(c, loss_value)\n",
        "    if c==500:\n",
        "        break\n"
      ]
    },
    {
      "cell_type": "code",
      "execution_count": null,
      "id": "ec5f9135",
      "metadata": {},
      "outputs": [],
      "source": [
        "df=pd.read_csv(\"../input/aptos2019-blindness-detection/test.csv\")\n"
      ]
    },
    {
      "cell_type": "code",
      "execution_count": null,
      "id": "75ddd248",
      "metadata": {},
      "outputs": [],
      "source": [
        "df\n"
      ]
    },
    {
      "cell_type": "code",
      "execution_count": null,
      "id": "30fb7ff3",
      "metadata": {},
      "outputs": [],
      "source": [
        "out=[]\n",
        "c=0\n",
        "for i in df.values:\n",
        "    image_id=i[0]\n",
        "    image_path=os.path.join(test_dir,image_id+\".png\")\n",
        "    img = cv2.imread(image_path)\n",
        "    h,w,ch=img.shape\n",
        "    img=transforms.ToTensor()(img).unsqueeze_(0)/256\n",
        "    \"\"\"\n",
        "    delta=abs(h-w)\n",
        "    if h>w:\n",
        "        img=transforms.Pad(padding=[0,delta//2])(img)\n",
        "    elif w>h:\n",
        "        img=transforms.Pad(padding=[delta//2,0])(img)\n",
        "    \"\"\"\n",
        "    img=img.to(device)\n",
        "    preds=model.forward(img)\n",
        "    max_class=max(preds[0].tolist())\n",
        "    max_index=preds[0].tolist().index(max_class)\n",
        "    out.append([image_id,max_index])\n",
        "    c+=1\n",
        "    if c%50==0:\n",
        "        print(c)\n"
      ]
    },
    {
      "cell_type": "code",
      "execution_count": null,
      "id": "f9f21c04",
      "metadata": {},
      "outputs": [],
      "source": [
        "df = pd.DataFrame(out)\n",
        "df.columns=[\"id_code\",\"diagnosis\"]\n",
        "df.to_csv('/kaggle/working/submission.csv', index=False)\n"
      ]
    },
    {
      "cell_type": "code",
      "execution_count": null,
      "id": "b8a6ace2",
      "metadata": {},
      "outputs": [],
      "source": [
        "df.describe()\n"
      ]
    }
  ],
  "metadata": {},
  "nbformat": 4,
  "nbformat_minor": 5
}