{
 "cells": [
  {
   "cell_type": "code",
   "execution_count": null,
   "id": "6dbb2624",
   "metadata": {},
   "outputs": [],
   "source": [
    "import pandas as pd\n",
    "from pathlib import Path"
   ]
  },
  {
   "cell_type": "code",
   "execution_count": null,
   "id": "867fc23f",
   "metadata": {},
   "outputs": [],
   "source": [
    "import numpy as np\n",
    "import pandas as pd\n",
    "\n",
    "import matplotlib.pyplot as plt\n",
    "import plotly_express as px\n",
    "import seaborn as sns\n",
    "\n",
    "palette = sns.color_palette(\"rainbow\", 8)\n",
    "\n",
    "\n",
    "import warnings\n",
    "warnings.filterwarnings(\"ignore\")\n"
   ]
  },
  {
   "cell_type": "code",
   "execution_count": null,
   "id": "bbac6823",
   "metadata": {},
   "outputs": [],
   "source": [
    "# This Python 3 environment comes with many helpful analytics libraries installed\n",
    "# It is defined by the kaggle/python Docker image: https://github.com/kaggle/docker-python\n",
    "# For example, here's several helpful packages to load\n",
    "\n",
    "import numpy as np # linear algebra\n",
    "import pandas as pd # data processing, CSV file I/O (e.g. pd.read_csv)\n",
    "import matplotlib.pyplot as plt #importing basic visualization libraries\n",
    "import seaborn as sns  \n",
    "from sklearn.model_selection import train_test_split\n",
    "from sklearn.linear_model import LinearRegression\n",
    "from sklearn.metrics import mean_squared_error\n",
    "from mpl_toolkits.mplot3d import Axes3D\n",
    "import math\n",
    "\n",
    "# Input data files are available in the read-only \"../input/\" directory\n",
    "# For example, running this (by clicking run or pressing Shift+Enter) will list all files under the input directory\n",
    "\n",
    "import os\n",
    "for dirname, _, filenames in os.walk('/kaggle/input'):\n",
    "    for filename in filenames:\n",
    "        print(os.path.join(dirname, filename))\n",
    "\n",
    "# You can write up to 20GB to the current directory (/kaggle/working/) that gets preserved as output when you create a version using \"Save & Run All\" \n",
    "# You can also write temporary files to /kaggle/temp/, but they won't be saved outside of the current session\n"
   ]
  },
  {
   "cell_type": "code",
   "execution_count": null,
   "id": "890e13ae",
   "metadata": {},
   "outputs": [],
   "source": [
    "#read data\n",
    "df = pd.read_csv('/kaggle/input/new-york-city-taxi-fare-prediction/train.csv', nrows=2_000_000)\n",
    "test_data = pd.read_csv('/kaggle/input/new-york-city-taxi-fare-prediction/test.csv')\n"
   ]
  },
  {
   "cell_type": "code",
   "execution_count": null,
   "id": "7ac326cc",
   "metadata": {},
   "outputs": [],
   "source": [
    "df.info()\n"
   ]
  },
  {
   "cell_type": "code",
   "execution_count": null,
   "id": "0466054a",
   "metadata": {},
   "outputs": [],
   "source": [
    "#df.isnull().sum()\n"
   ]
  },
  {
   "cell_type": "code",
   "execution_count": null,
   "id": "c0ba6f9d",
   "metadata": {},
   "outputs": [],
   "source": [
    "# 删除具有空值的行\n",
    "df.dropna(subset=['dropoff_longitude', 'dropoff_latitude'], inplace=True)\n"
   ]
  },
  {
   "cell_type": "code",
   "execution_count": null,
   "id": "9d93a5c2",
   "metadata": {},
   "outputs": [],
   "source": [
    "#df.isnull().sum()\n"
   ]
  },
  {
   "cell_type": "code",
   "execution_count": null,
   "id": "cea05375",
   "metadata": {},
   "outputs": [],
   "source": [
    "df.info()\n"
   ]
  },
  {
   "cell_type": "code",
   "execution_count": null,
   "id": "a17e6d1e",
   "metadata": {},
   "outputs": [],
   "source": [
    "df = df[(df['fare_amount'] >= 2.5) & (df['passenger_count'] > 0) & (df['passenger_count'] < 5)]\n"
   ]
  },
  {
   "cell_type": "code",
   "execution_count": null,
   "id": "f564e565",
   "metadata": {},
   "outputs": [],
   "source": [
    "# 检查 fare_amount 和 passenger_count 列的值是否都大于0\n",
    "fare_amount_greater_than_zero = (df['fare_amount'] > 0).all()\n",
    "passenger_count_greater_than_zero = (df['passenger_count'] > 0).all()\n",
    "\n",
    "if fare_amount_greater_than_zero and passenger_count_greater_than_zero:\n",
    "    print(\"All values in fare_amount and passenger_count are greater than 0.\")\n",
    "else:\n",
    "    print(\"There are values in fare_amount or passenger_count that are not greater than 0.\")\n"
   ]
  },
  {
   "cell_type": "code",
   "execution_count": null,
   "id": "165d7868",
   "metadata": {},
   "outputs": [],
   "source": [
    "df.info()\n"
   ]
  },
  {
   "cell_type": "code",
   "execution_count": null,
   "id": "c73495ec",
   "metadata": {},
   "outputs": [],
   "source": [
    "df.describe()\n"
   ]
  },
  {
   "cell_type": "code",
   "execution_count": null,
   "id": "b07ba03a",
   "metadata": {},
   "outputs": [],
   "source": [
    "df['pickup_datetime'] = pd.to_datetime(df['pickup_datetime'], format= \"%Y-%m-%d %H:%M:%S UTC\")\n",
    "\n",
    "# 2009-06-15 17:26:21 UTC\n",
    "# add time information\n",
    "df['year'] = df.pickup_datetime.apply(lambda t: t.year)\n",
    "df['month'] = df.pickup_datetime.apply(lambda t: t.month)\n",
    "df['weekday'] = df.pickup_datetime.apply(lambda t: t.weekday())\n",
    "df['hour'] = df.pickup_datetime.apply(lambda t: t.hour)\n"
   ]
  },
  {
   "cell_type": "code",
   "execution_count": null,
   "id": "d273b5d7",
   "metadata": {},
   "outputs": [],
   "source": [
    "df\n"
   ]
  },
  {
   "cell_type": "code",
   "execution_count": null,
   "id": "f9f98804",
   "metadata": {},
   "outputs": [],
   "source": [
    "def distance(lat1, lon1, lat2, lon2):\n",
    "    \n",
    "    p = 0.017453292519943295 # Pi/180\n",
    "    a = 0.5 - np.cos((lat2 - lat1) * p)/2 + np.cos(lat1 * p) * np.cos(lat2 * p) * (1 - np.cos((lon2 - lon1) * p)) / 2\n",
    "    return 0.6213712 * 12742 * np.arcsin(np.sqrt(a)) # 2*R*asin...\n"
   ]
  },
  {
   "cell_type": "code",
   "execution_count": null,
   "id": "73a7a819",
   "metadata": {},
   "outputs": [],
   "source": [
    "df['distance'] = distance(df.pickup_latitude, df.pickup_longitude, \n",
    "                                    df.dropoff_latitude, df.dropoff_longitude)\n"
   ]
  },
  {
   "cell_type": "code",
   "execution_count": null,
   "id": "128ba103",
   "metadata": {},
   "outputs": [],
   "source": [
    "df\n"
   ]
  },
  {
   "cell_type": "code",
   "execution_count": null,
   "id": "4ed4c4ce",
   "metadata": {},
   "outputs": [],
   "source": [
    "Df=df\n",
    "Df\n"
   ]
  },
  {
   "cell_type": "code",
   "execution_count": null,
   "id": "06e72e4a",
   "metadata": {},
   "outputs": [],
   "source": [
    "Df=Df.drop(['pickup_datetime','key'], axis=1)\n",
    "Df\n"
   ]
  },
  {
   "cell_type": "code",
   "execution_count": null,
   "id": "a5f459cd",
   "metadata": {},
   "outputs": [],
   "source": [
    "# Assuming Df is your DataFrame\n",
    "\n",
    "# Define boundaries based on the provided xlim and ylim\n",
    "xlim = [-74.03, -73.85]\n",
    "ylim = [40.70, 40.85]\n",
    "\n",
    "# Filter data within the specified coordinates\n",
    "Df = Df[\n",
    "    (Df['pickup_latitude'].between(ylim[0], ylim[1])) &\n",
    "    (Df['pickup_longitude'].between(xlim[0], xlim[1])) &\n",
    "    (Df['dropoff_latitude'].between(ylim[0], ylim[1])) &\n",
    "    (Df['dropoff_longitude'].between(xlim[0], xlim[1]))\n",
    "]\n"
   ]
  },
  {
   "cell_type": "code",
   "execution_count": null,
   "id": "58ec91b9",
   "metadata": {},
   "outputs": [],
   "source": [
    "zero_distance_rows = Df[Df['distance'] == 0]\n",
    "zero_distance_rows.count()\n"
   ]
  },
  {
   "cell_type": "code",
   "execution_count": null,
   "id": "9529a345",
   "metadata": {},
   "outputs": [],
   "source": [
    "# 查看經緯度資料的範圍\n",
    "print(\"\\nPickup Latitude:\")\n",
    "print(Df['pickup_latitude'].describe())\n",
    "\n",
    "print(\"\\nPickup Longitude:\")\n",
    "print(Df['pickup_longitude'].describe())\n",
    "\n",
    "print(\"\\nDropoff Latitude:\")\n",
    "print(Df['dropoff_latitude'].describe())\n",
    "\n",
    "print(\"\\nDropoff Longitude:\")\n",
    "print(Df['dropoff_longitude'].describe())\n"
   ]
  },
  {
   "cell_type": "code",
   "execution_count": null,
   "id": "1b1c57d8",
   "metadata": {},
   "outputs": [],
   "source": [
    "Df\n"
   ]
  },
  {
   "cell_type": "code",
   "execution_count": null,
   "id": "f0820f2d",
   "metadata": {},
   "outputs": [],
   "source": [
    "# now removing the key and pickup_datetime coloumn from the dataset\n",
    "Df = Df.drop(['pickup_longitude', 'pickup_latitude','dropoff_longitude','dropoff_latitude'], axis=1)\n"
   ]
  },
  {
   "cell_type": "code",
   "execution_count": null,
   "id": "ae75e04b",
   "metadata": {},
   "outputs": [],
   "source": [
    "Df\n"
   ]
  },
  {
   "cell_type": "code",
   "execution_count": null,
   "id": "e7b1c8ba",
   "metadata": {},
   "outputs": [],
   "source": [
    "# 將特定列轉換為類別型態\n",
    "columns_to_convert = ['year', 'month', 'weekday', 'hour']\n",
    "\n",
    "for col in columns_to_convert:\n",
    "    Df[col] = Df[col].astype('category')\n",
    "\n",
    "# 查看轉換後的 DataFrame\n",
    "print(Df.dtypes)\n"
   ]
  },
  {
   "cell_type": "code",
   "execution_count": null,
   "id": "5c8eb72f",
   "metadata": {},
   "outputs": [],
   "source": [
    "Df.info()\n"
   ]
  },
  {
   "cell_type": "code",
   "execution_count": null,
   "id": "878228f3",
   "metadata": {},
   "outputs": [],
   "source": [
    "Df.isnull().sum()\n"
   ]
  },
  {
   "cell_type": "code",
   "execution_count": null,
   "id": "4229a910",
   "metadata": {},
   "outputs": [],
   "source": [
    "#Df=Df.sample(100000)\n"
   ]
  },
  {
   "cell_type": "code",
   "execution_count": null,
   "id": "7e6f7e53",
   "metadata": {},
   "outputs": [],
   "source": [
    "import seaborn as sns\n",
    "import pandas as pd\n",
    "import matplotlib.pyplot as plt\n"
   ]
  },
  {
   "cell_type": "code",
   "execution_count": null,
   "id": "5da1c3e2",
   "metadata": {},
   "outputs": [],
   "source": [
    "# 假设你的 DataFrame 名称为 'df'\n",
    "# 绘制数据集中所有数值型特征的箱线图\n",
    "#plt.figure(figsize=(10, 6))  # 可选：设置图形大小\n",
    "#sns.boxplot(data=Df, orient='h')  # orient='h'表示水平放置箱线图\n",
    "#plt.title('Boxplot of Numerical Features')  # 设置图标题\n",
    "#plt.xlabel('Values')  # 设置 x 轴标签\n",
    "#plt.show()\n"
   ]
  },
  {
   "cell_type": "code",
   "execution_count": null,
   "id": "08e9232b",
   "metadata": {},
   "outputs": [],
   "source": [
    "import seaborn as sns\n",
    "import matplotlib.pyplot as plt\n",
    "\n",
    "\n",
    "#plt.figure(figsize=(8, 6))\n",
    "#sns.boxplot(x='month', y='fare_amount', data=Df)\n",
    "#plt.title('Boxplot of fare_amount Data by month')\n",
    "#plt.xlabel('month')\n",
    "#plt.ylabel('fare_amount')\n",
    "#plt.show()\n"
   ]
  },
  {
   "cell_type": "code",
   "execution_count": null,
   "id": "a5e8adcc",
   "metadata": {},
   "outputs": [],
   "source": [
    "import seaborn as sns\n",
    "import matplotlib.pyplot as plt\n",
    "\n",
    "\n",
    "#plt.figure(figsize=(8, 6))\n",
    "#sns.barplot(x='month', y='fare_amount', data=Df)\n",
    "#plt.title('Barplot of fare_amount Data by month')\n",
    "#plt.xlabel('month')\n",
    "#plt.ylabel('fare_amount')\n",
    "#plt.show()\n"
   ]
  },
  {
   "cell_type": "code",
   "execution_count": null,
   "id": "d46472b1",
   "metadata": {},
   "outputs": [],
   "source": [
    "import seaborn as sns\n",
    "import matplotlib.pyplot as plt\n",
    "\n",
    "\n",
    "#plt.figure(figsize=(8, 6))\n",
    "#sns.barplot(x='weekday', y='fare_amount', data=Df)\n",
    "#plt.title('Barplot of fare_amount by weekday')\n",
    "#plt.xlabel('weekday')\n",
    "#plt.ylabel('fare_amount')\n",
    "#plt.show()\n"
   ]
  },
  {
   "cell_type": "code",
   "execution_count": null,
   "id": "90be731f",
   "metadata": {},
   "outputs": [],
   "source": [
    "import seaborn as sns\n",
    "import matplotlib.pyplot as plt\n",
    "\n",
    "# 使用 regplot 绘制 fare_amount 和 distance 之间的关系图\n",
    "#plt.figure(figsize=(8, 6))  # 设置图形大小（可选）\n",
    "#sns.regplot(x='passenger_count', y='fare_amount', data=Df, scatter_kws={'alpha':0.3})  # 绘制 regplot\n",
    "#plt.title('Relationship between fare_amount and distance')  # 设置图标题\n",
    "#plt.xlabel('Distance')  # 设置 x 轴标签\n",
    "#plt.ylabel('Fare Amount')  # 设置 y 轴标签\n",
    "#plt.show()\n"
   ]
  },
  {
   "cell_type": "code",
   "execution_count": null,
   "id": "203c3d3c",
   "metadata": {},
   "outputs": [],
   "source": [
    "import seaborn as sns\n",
    "import matplotlib.pyplot as plt\n",
    "\n",
    "# 创建散点图\n",
    "#sns.scatterplot(x='distance', y='fare_amount', data=Df)\n",
    "\n",
    "# 设置图表标题和轴标签\n",
    "#plt.title('Relationship between Fare Amount and Distance')\n",
    "#plt.xlabel('Distance')\n",
    "#plt.ylabel('Fare Amount')\n",
    "#plt.figure(figsize=(8, 6))  # 设置图形大小（可选）\n",
    "\n",
    "# 显示图表\n",
    "#plt.show()\n"
   ]
  },
  {
   "cell_type": "code",
   "execution_count": null,
   "id": "69291bb0",
   "metadata": {},
   "outputs": [],
   "source": [
    "import seaborn as sns\n",
    "import matplotlib.pyplot as plt\n",
    "import matplotlib as mpl\n",
    "\n",
    "# 假設你的 DataFrame 名稱為 df\n",
    "#columns_to_visualize = ['fare_amount', 'passenger_count', 'year', 'month', 'weekday', 'hour', 'distance']\n",
    "#mpl.rcParams.update({'font.size': 16})  # 調整字體大小\n",
    "\n",
    "# 使用 Seaborn 的 pairplot 進行視覺化\n",
    "\n",
    "#sns.pairplot(Df[columns_to_visualize])\n",
    "\n",
    "#plt.show()\n"
   ]
  },
  {
   "cell_type": "code",
   "execution_count": null,
   "id": "e2fcd908",
   "metadata": {},
   "outputs": [],
   "source": [
    "from sklearn.linear_model import LinearRegression\n",
    "from sklearn.model_selection import train_test_split\n",
    "from sklearn.metrics import mean_squared_error\n",
    "\n",
    "# 假設資料存在名為 df 的 DataFrame 中\n",
    "\n",
    "# 提取特徵和目標值\n",
    "X = Df.drop(columns=['fare_amount'])\n",
    "y = Df['fare_amount']\n",
    "\n",
    "# 分割資料為訓練集和測試集\n",
    "X_train, X_test, y_train, y_test = train_test_split(X, y, test_size=0.2, random_state=42)\n",
    "\n",
    "# 建立並訓練線性回歸模型\n",
    "linear_model = LinearRegression()\n",
    "linear_model.fit(X_train, y_train)\n",
    "\n",
    "# 預測測試集\n",
    "linear_predictions = linear_model.predict(X_test)\n",
    "\n",
    "# 計算線性回歸模型的均方誤差\n",
    "linear_mse = mean_squared_error(y_test, linear_predictions)\n",
    "print(f\"線性回歸模型的均方誤差 (MSE): {linear_mse}\")\n",
    "# 假設 linear_mse 是先前計算得到的均方誤差\n",
    "linear_rmse = mean_squared_error(y_test, linear_predictions, squared=False)\n",
    "print(f\"線性回歸模型的均方根誤差 (RMSE): {linear_rmse}\")\n"
   ]
  },
  {
   "cell_type": "code",
   "execution_count": null,
   "id": "d912f957",
   "metadata": {},
   "outputs": [],
   "source": [
    "from sklearn.metrics import accuracy_score\n",
    "\n",
    "# 轉換預測值為二元分類\n",
    "threshold = 10  # 可以根據情況調整閾值\n",
    "binary_predictions = (linear_predictions >= threshold).astype(int)\n",
    "\n",
    "# 計算準確率\n",
    "accuracy = accuracy_score((y_test >= threshold).astype(int), binary_predictions)\n",
    "print(f\"分類準確率 (Accuracy): {accuracy}\")\n"
   ]
  },
  {
   "cell_type": "code",
   "execution_count": null,
   "id": "04a0f051",
   "metadata": {},
   "outputs": [],
   "source": [
    "import xgboost as xgb\n",
    "from sklearn.preprocessing import LabelEncoder\n",
    "\n",
    "# 假設資料存在名為 df 的 DataFrame 中\n",
    "\n",
    "# 要編碼的欄位名稱\n",
    "categorical_columns = ['year', 'month', 'weekday', 'hour']\n",
    "\n",
    "# 使用 LabelEncoder 將類別型資料轉換為數值型\n",
    "label_encoder = LabelEncoder()\n",
    "for col in categorical_columns:\n",
    "    Df[col] = label_encoder.fit_transform(Df[col])\n",
    "\n",
    "# 接下來建立 XGBoost 模型和訓練，使用前面提到的程式碼\n",
    "\n",
    "# 假設資料存在名為 df 的 DataFrame 中\n",
    "\n",
    "# 提取特徵和目標值\n",
    "X = Df.drop(columns=['fare_amount'])\n",
    "y = Df['fare_amount']\n",
    "\n",
    "# 分割資料為訓練集和測試集\n",
    "X_train, X_test, y_train, y_test = train_test_split(X, y, test_size=0.2, random_state=42)\n",
    "\n",
    "# 建立XGBoost回歸模型\n",
    "xgb_model = xgb.XGBRegressor(objective ='reg:squarederror', colsample_bytree = 0.3, learning_rate = 0.1,\n",
    "                max_depth = 5, alpha = 10, n_estimators = 100)\n",
    "\n",
    "# 訓練XGBoost模型\n",
    "xgb_model.fit(X_train, y_train)\n",
    "\n",
    "# 預測測試集\n",
    "xgb_predictions = xgb_model.predict(X_test)\n",
    "\n",
    "# 計算XGBoost模型的均方誤差\n",
    "xgb_mse = mean_squared_error(y_test, xgb_predictions)\n",
    "print(f\"XGBoost模型的均方誤差 (MSE): {xgb_mse}\")\n",
    "xgb_rmse = mean_squared_error(y_test, xgb_predictions, squared=False)\n",
    "print(f\"XGB模型的均方根誤差 (RMSE): {xgb_rmse}\")\n"
   ]
  },
  {
   "cell_type": "code",
   "execution_count": null,
   "id": "d77f2b77",
   "metadata": {},
   "outputs": [],
   "source": [
    "# 設定閾值來轉換成二元分類\n",
    "threshold = 10  # 可以根據實際情況調整閾值\n",
    "binary_predictions = (xgb_predictions >= threshold).astype(int)\n",
    "\n",
    "# 轉換測試集的目標值為二元分類\n",
    "binary_actual = (y_test >= threshold).astype(int)\n",
    "\n",
    "# 計算準確率\n",
    "accuracy = accuracy_score(binary_actual, binary_predictions)\n",
    "print(f\"準確率 (Accuracy): {accuracy}\")\n"
   ]
  },
  {
   "cell_type": "code",
   "execution_count": null,
   "id": "8b3175b6",
   "metadata": {},
   "outputs": [],
   "source": [
    "# 將 pickup_datetime 轉換為 datetime 格式\n",
    "test_data['pickup_datetime'] = pd.to_datetime(test_data['pickup_datetime'])\n",
    "\n",
    "# 提取年、月、星期幾、幾點資訊\n",
    "test_data['year'] = test_data['pickup_datetime'].dt.year.astype('category')\n",
    "test_data['month'] = test_data['pickup_datetime'].dt.month.astype('category')\n",
    "test_data['weekday'] = test_data['pickup_datetime'].dt.dayofweek.astype('category')\n",
    "test_data['hour'] = test_data['pickup_datetime'].dt.hour.astype('category')\n",
    "test_data = test_data.drop(['pickup_datetime'], axis=1)\n"
   ]
  },
  {
   "cell_type": "code",
   "execution_count": null,
   "id": "afedff6e",
   "metadata": {},
   "outputs": [],
   "source": [
    "test_data\n"
   ]
  },
  {
   "cell_type": "code",
   "execution_count": null,
   "id": "647ec308",
   "metadata": {},
   "outputs": [],
   "source": [
    "Df\n"
   ]
  },
  {
   "cell_type": "code",
   "execution_count": null,
   "id": "af76479d",
   "metadata": {},
   "outputs": [],
   "source": [
    "test_data['distance'] = distance(test_data.pickup_latitude, test_data.pickup_longitude, \n",
    "                                    test_data.dropoff_latitude, test_data.dropoff_longitude)\n",
    "test_data = test_data.drop(['pickup_longitude','pickup_latitude','dropoff_longitude','dropoff_latitude'], axis=1)\n",
    "test_data\n"
   ]
  },
  {
   "cell_type": "code",
   "execution_count": null,
   "id": "987bd3ba",
   "metadata": {},
   "outputs": [],
   "source": [
    "import pandas as pd\n",
    "from sklearn.linear_model import LinearRegression\n",
    "from sklearn.model_selection import train_test_split\n",
    "from sklearn.preprocessing import StandardScaler\n"
   ]
  },
  {
   "cell_type": "code",
   "execution_count": null,
   "id": "93362bf4",
   "metadata": {},
   "outputs": [],
   "source": [
    "# 假設你有一個名為 df 的 DataFrame，其中包含了訓練資料集\n",
    "\n",
    "# 假設 df 包含目標值在名為 'target' 的欄位中，並且其他欄位是特徵\n",
    "# 如果需要，可以分割資料為訓練集和測試集\n",
    "# train_df, test_df = train_test_split(df, test_size=0.2)\n",
    "\n",
    "# 從訓練資料集中提取特徵和目標\n",
    "# 這裡假設 'target' 是目標列\n",
    "X_train = Df.drop(columns=['fare_amount'])\n",
    "y_train = Df['fare_amount']\n",
    "\n",
    "# 如果有必要，對特徵進行標準化或其他前處理\n",
    "# scaler = StandardScaler()\n",
    "# X_train = scaler.fit_transform(X_train)\n",
    "\n",
    "# 建立並訓練線性回歸模型\n",
    "model = LinearRegression()\n",
    "model.fit(X_train, y_train)\n",
    "\n",
    "\n",
    "\n",
    "# 提取測試集特徵資料\n",
    "test_features = test_data[['passenger_count','year','month','weekday','hour','distance']]\n",
    "\n",
    "# 使用模型進行預測\n",
    "predictions = model.predict(test_features)\n",
    "\n",
    "# 將預測結果加入測試集資料中（如果需要）\n",
    "test_data['fare_amount'] = predictions\n",
    "\n",
    "# 儲存包含預測結果的測試集資料（如果需要）\n",
    "test_data.to_csv('predicted_test_data_linear_1116.csv', index=False)  # 儲存到一個新的 CSV 檔案中\n"
   ]
  },
  {
   "cell_type": "code",
   "execution_count": null,
   "id": "59c03157",
   "metadata": {},
   "outputs": [],
   "source": [
    "from sklearn.model_selection import cross_val_score\n",
    "\n",
    "# 計算 R² score\n",
    "r2 = model.score(X_train, y_train)\n",
    "print(f\"R² score: {r2}\")\n",
    "\n",
    "# 使用 K-fold 交叉驗證計算 R² score\n",
    "num_folds = 5  # 定義交叉驗證的 fold 數量\n",
    "cv_r2_scores = cross_val_score(model, X_train, y_train, cv=num_folds, scoring='r2')\n",
    "\n",
    "print(f\"Cross-validated R² scores: {cv_r2_scores}\")\n",
    "print(f\"Mean R² score: {np.mean(cv_r2_scores)}\")\n"
   ]
  },
  {
   "cell_type": "code",
   "execution_count": null,
   "id": "fa693877",
   "metadata": {},
   "outputs": [],
   "source": [
    "from sklearn.preprocessing import LabelEncoder\n",
    "\n",
    "# 從訓練資料集中提取特徵和目標\n",
    "# 這裡假設 'target' 是目標列\n",
    "X_train = Df.drop(columns=['fare_amount','year','month','weekday','hour'])\n",
    "y_train = Df['fare_amount']\n",
    "# 建立XGBoost回歸模型\n",
    "model = xgb.XGBRegressor(objective='reg:squarederror', colsample_bytree=0.3, learning_rate=0.1,\n",
    "                          max_depth=5, alpha=10, n_estimators=100)\n",
    "\n",
    "# 訓練模型\n",
    "model.fit(X_train, y_train)\n",
    "\n",
    "# 使用模型進行預測\n",
    "predictions = model.predict(test_features[['passenger_count','distance']])\n",
    "\n",
    "# 將預測結果加入測試集資料中\n",
    "test_data['fare_amount'] = predictions\n",
    "submission=test_data[['key','fare_amount']]\n",
    "# 儲存包含預測結果的測試集資料\n",
    "submission.to_csv('submission.csv', index=False)\n"
   ]
  },
  {
   "cell_type": "code",
   "execution_count": null,
   "id": "2dbca7f4",
   "metadata": {},
   "outputs": [],
   "source": [
    "from sklearn.model_selection import cross_val_score\n",
    "\n",
    "# 計算 R² score\n",
    "r2 = model.score(X_train, y_train)\n",
    "print(f\"R² score: {r2}\")\n",
    "\n",
    "# 使用 K-fold 交叉驗證計算 R² score\n",
    "num_folds = 5  # 定義交叉驗證的 fold 數量\n",
    "cv_r2_scores = cross_val_score(model, X_train, y_train, cv=num_folds, scoring='r2')\n",
    "\n",
    "print(f\"Cross-validated R² scores: {cv_r2_scores}\")\n",
    "print(f\"Mean R² score: {np.mean(cv_r2_scores)}\")\n"
   ]
  },
  {
   "cell_type": "code",
   "execution_count": null,
   "id": "57413ef5",
   "metadata": {},
   "outputs": [],
   "source": [
    "submission\n"
   ]
  }
 ],
 "metadata": {},
 "nbformat": 4,
 "nbformat_minor": 5
}
