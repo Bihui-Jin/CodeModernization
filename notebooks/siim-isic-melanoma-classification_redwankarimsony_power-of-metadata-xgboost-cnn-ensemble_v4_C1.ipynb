{
 "cells": [
  {
   "cell_type": "code",
   "execution_count": null,
   "id": "ed5730ec",
   "metadata": {},
   "outputs": [],
   "source": [
    "import pandas as pd\n",
    "from pathlib import Path"
   ]
  },
  {
   "cell_type": "code",
   "execution_count": null,
   "id": "7e338278",
   "metadata": {},
   "outputs": [],
   "source": [
    "!pip install xgboost\n",
    "\n",
    "import numpy as np\n",
    "import pandas as pd\n",
    "\n",
    "from sklearn.datasets import load_iris\n",
    "import xgboost as xgb\n",
    "from sklearn.metrics import accuracy_score\n"
   ]
  },
  {
   "cell_type": "code",
   "execution_count": null,
   "id": "484f7d81",
   "metadata": {},
   "outputs": [],
   "source": [
    "train= pd.read_csv('../input/siim-isic-melanoma-classification/train.csv')\n",
    "test= pd.read_csv('../input/siim-isic-melanoma-classification/test.csv')\n",
    "sub   = pd.read_csv('../input/siim-isic-melanoma-classification/sample_submission.csv')\n",
    "train.head()\n"
   ]
  },
  {
   "cell_type": "code",
   "execution_count": null,
   "id": "9945c35b",
   "metadata": {},
   "outputs": [],
   "source": [
    "train['sex'] = train['sex'].fillna('na')\n",
    "train['age_approx'] = train['age_approx'].fillna(0)\n",
    "train['anatom_site_general_challenge'] = train['anatom_site_general_challenge'].fillna('na')\n",
    "\n",
    "test['sex'] = test['sex'].fillna('na')\n",
    "test['age_approx'] = test['age_approx'].fillna(0)\n",
    "test['anatom_site_general_challenge'] = test['anatom_site_general_challenge'].fillna('na')\n"
   ]
  },
  {
   "cell_type": "code",
   "execution_count": null,
   "id": "260bd2fb",
   "metadata": {},
   "outputs": [],
   "source": [
    "train['sex'] = train['sex'].astype(\"category\").cat.codes +1\n",
    "train['anatom_site_general_challenge'] = train['anatom_site_general_challenge'].astype(\"category\").cat.codes +1\n",
    "train.head()\n"
   ]
  },
  {
   "cell_type": "code",
   "execution_count": null,
   "id": "6f20bc10",
   "metadata": {},
   "outputs": [],
   "source": [
    "test['sex'] = test['sex'].astype(\"category\").cat.codes +1\n",
    "test['anatom_site_general_challenge'] = test['anatom_site_general_challenge'].astype(\"category\").cat.codes +1\n",
    "test.head()\n"
   ]
  },
  {
   "cell_type": "code",
   "execution_count": null,
   "id": "45f2b703",
   "metadata": {},
   "outputs": [],
   "source": [
    " \n"
   ]
  },
  {
   "cell_type": "code",
   "execution_count": null,
   "id": "be73818c",
   "metadata": {},
   "outputs": [],
   "source": [
    "x_train = train[['sex', 'age_approx','anatom_site_general_challenge']]\n",
    "y_train = train['target']\n",
    "\n",
    "\n",
    "x_test = test[['sex', 'age_approx','anatom_site_general_challenge']]\n",
    "# y_train = test['target']\n",
    "\n",
    "\n",
    "train_DMatrix = xgb.DMatrix(x_train, label= y_train)\n",
    "test_DMatrix = xgb.DMatrix(x_test)\n"
   ]
  },
  {
   "cell_type": "code",
   "execution_count": null,
   "id": "28c25343",
   "metadata": {},
   "outputs": [],
   "source": [
    "param = {\n",
    "    'booster':'gbtree', \n",
    "    'eta': 0.3,\n",
    "    'num_class': 2,\n",
    "    'max_depth': \n",
    "}\n",
    "\n",
    "epochs = 100\n"
   ]
  },
  {
   "cell_type": "code",
   "execution_count": null,
   "id": "8f741df4",
   "metadata": {},
   "outputs": [],
   "source": [
    "# model = xgb.train(param, \n",
    "#                   train_DMatrix, \n",
    "#                   num_boost_round=epochs)\n",
    "\n",
    "clf = xgb.XGBClassifier(n_estimators=1000, \n",
    "                        max_depth=8, \n",
    "                        objective='multi:softprob',\n",
    "                        seed=0,  \n",
    "                        nthread=-1, \n",
    "                        learning_rate=0.1, \n",
    "                        num_class = 2)\n"
   ]
  },
  {
   "cell_type": "code",
   "execution_count": null,
   "id": "3014e927",
   "metadata": {},
   "outputs": [],
   "source": [
    "clf.fit(x_train, y_train)\n"
   ]
  },
  {
   "cell_type": "code",
   "execution_count": null,
   "id": "51f9fe65",
   "metadata": {},
   "outputs": [],
   "source": [
    "# predictions = model.predict(test_DMatrix)\n",
    "# proba = model.predict_proba(test_DMatrix) \n",
    "clf.predict_proba(x_test)[:,1]\n",
    "# clf.predict(x_test)\n",
    "sub.target = clf.predict_proba(x_test)[:,1]\n"
   ]
  },
  {
   "cell_type": "code",
   "execution_count": null,
   "id": "9da03768",
   "metadata": {},
   "outputs": [],
   "source": [
    "sub.head()\n",
    "sub.to_csv('submission.csv', index = False)\n"
   ]
  },
  {
   "cell_type": "code",
   "execution_count": null,
   "id": "40b4c792",
   "metadata": {},
   "outputs": [],
   "source": [
    "train_df.diagnosis.value_counts()\n"
   ]
  },
  {
   "cell_type": "code",
   "execution_count": null,
   "id": "8d39bd83",
   "metadata": {},
   "outputs": [],
   "source": [
    " \n"
   ]
  }
 ],
 "metadata": {},
 "nbformat": 4,
 "nbformat_minor": 5
}
