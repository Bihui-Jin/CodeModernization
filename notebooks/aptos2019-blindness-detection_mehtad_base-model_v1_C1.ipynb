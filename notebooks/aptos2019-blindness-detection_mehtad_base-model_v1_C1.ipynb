{
  "cells": [
    {
      "cell_type": "code",
      "execution_count": null,
      "id": "5cd96dee",
      "metadata": {},
      "outputs": [],
      "source": [
        "import pandas as pd\n",
        "from pathlib import Path"
      ]
    },
    {
      "cell_type": "code",
      "execution_count": null,
      "id": "d8b8c7f3",
      "metadata": {},
      "outputs": [],
      "source": [
        "# This Python 3 environment comes with many helpful analytics libraries installed\n",
        "# It is defined by the kaggle/python docker image: https://github.com/kaggle/docker-python\n",
        "# For example, here's several helpful packages to load in \n",
        "\n",
        "import numpy as np # linear algebra\n",
        "import pandas as pd # data processing, CSV file I/O (e.g. pd.read_csv)\n",
        "\n",
        "# Input data files are available in the \"../input/\" directory.\n",
        "# For example, running this (by clicking run or pressing Shift+Enter) will list the files in the input directory\n",
        "\n",
        "import os\n",
        "print(os.listdir(\"../input\"))\n",
        "\n",
        "# Any results you write to the current directory are saved as output.\n"
      ]
    },
    {
      "cell_type": "code",
      "execution_count": null,
      "id": "8504605f",
      "metadata": {},
      "outputs": [],
      "source": [
        "df_train = pd.read_csv('../input/train.csv')\n"
      ]
    },
    {
      "cell_type": "code",
      "execution_count": null,
      "id": "bf6f3bf3",
      "metadata": {},
      "outputs": [],
      "source": [
        "df_train.head()\n"
      ]
    },
    {
      "cell_type": "code",
      "execution_count": null,
      "id": "f86f2e5f",
      "metadata": {},
      "outputs": [],
      "source": [
        "df_train['diagnosis'].value_counts()/len(df_train)\n"
      ]
    },
    {
      "cell_type": "code",
      "execution_count": null,
      "id": "da493b85",
      "metadata": {},
      "outputs": [],
      "source": [
        "def load_dataset(path):\n",
        "    eye_files = os.listdir(path)\n",
        "    return eye_files\n"
      ]
    },
    {
      "cell_type": "code",
      "execution_count": null,
      "id": "8f6bfe8b",
      "metadata": {},
      "outputs": [],
      "source": [
        "train_files = load_dataset('../input/train_images')\n",
        "test_files = load_dataset('../input/test_images')\n"
      ]
    },
    {
      "cell_type": "code",
      "execution_count": null,
      "id": "a061fc65",
      "metadata": {},
      "outputs": [],
      "source": [
        "dis_classes = df_train['diagnosis'].unique()\n"
      ]
    },
    {
      "cell_type": "code",
      "execution_count": null,
      "id": "8b4cb50c",
      "metadata": {},
      "outputs": [],
      "source": [
        "print('There are %d total disease categories' %len(dis_classes))\n",
        "print('There are %s total eye images. \\n' % len(np.hstack([train_files, test_files])))\n",
        "print('There are %d training eye images. \\n' % len(train_files))\n",
        "print('There are %d test eye images. \\n' % len(test_files))\n"
      ]
    },
    {
      "cell_type": "code",
      "execution_count": null,
      "id": "ef1a5420",
      "metadata": {},
      "outputs": [],
      "source": [
        "import cv2\n",
        "import matplotlib.pyplot as plt\n",
        "%matplotlib inline\n",
        "from glob import glob\n",
        "\n",
        "train_files = np.array(glob(\"../input/train_images/*\"))\n",
        "test_files = np.array(glob(\"../input/test_images/*\"))\n",
        "img = cv2.imread(train_files[1])\n",
        "plt.imshow(img)\n",
        "plt.show()\n"
      ]
    },
    {
      "cell_type": "code",
      "execution_count": null,
      "id": "1e3bf368",
      "metadata": {},
      "outputs": [],
      "source": [
        "train_files[1]\n"
      ]
    },
    {
      "cell_type": "code",
      "execution_count": null,
      "id": "fed8be5e",
      "metadata": {},
      "outputs": [],
      "source": [
        "df_train[df_train.id_code == 'cd01672507c9']\n"
      ]
    },
    {
      "cell_type": "code",
      "execution_count": null,
      "id": "a93853a4",
      "metadata": {},
      "outputs": [],
      "source": [
        "import random\n",
        "for i in range(10):\n",
        "    plt.figure(figsize=(10,10))\n",
        "    i = random.choice(os.listdir('../input/train_images'))\n",
        "    i_c = i.split('.')[0]\n",
        "    #print(os.path.join('../input/train_images', i))\n",
        "    img = cv2.imread(os.path.join('../input/train_images', i))\n",
        "    print(i, df_train[df_train.id_code == i_c])\n",
        "    plt.imshow(img)\n",
        "    plt.show()\n"
      ]
    },
    {
      "cell_type": "code",
      "execution_count": null,
      "id": "74cd387f",
      "metadata": {},
      "outputs": [],
      "source": [
        "def ed_hu_moments(image):\n",
        "    image = cv2.cvtColor(image, cv2.COLOR_BGR2GRAY)\n",
        "    feature = cv2.HuMoments(cv2.moments(image)).flatten()\n",
        "    return feature\n"
      ]
    },
    {
      "cell_type": "code",
      "execution_count": null,
      "id": "af99912c",
      "metadata": {},
      "outputs": [],
      "source": [
        "gray = cv2.cvtColor(cv2.imread('../input/train_images/3e61703b5ab2.png'), cv2.COLOR_BGR2GRAY)\n"
      ]
    },
    {
      "cell_type": "code",
      "execution_count": null,
      "id": "c8c7cb8e",
      "metadata": {},
      "outputs": [],
      "source": [
        "image=cv2.imread('../input/train_images/3e61703b5ab2.png')\n",
        "plt.imshow(image)\n"
      ]
    },
    {
      "cell_type": "code",
      "execution_count": null,
      "id": "a8fdaa9c",
      "metadata": {},
      "outputs": [],
      "source": [
        "bins= 8\n",
        "def ed_histogram(image, mask=None):\n",
        "    image = cv2.cvtColor(image, cv2.COLOR_BGR2HSV)\n",
        "    hist = cv2.calcHist([image], [0,1,2], None, [bins,bins,bins],[0,256,0,256,0,256,] )\n",
        "    cv2.normalize(hist,hist)\n",
        "    return hist.flatten()\n"
      ]
    },
    {
      "cell_type": "code",
      "execution_count": null,
      "id": "96a1bd0d",
      "metadata": {},
      "outputs": [],
      "source": [
        "ed_histogram(image)\n"
      ]
    },
    {
      "cell_type": "code",
      "execution_count": null,
      "id": "24d530e3",
      "metadata": {},
      "outputs": [],
      "source": [
        "dis_classes\n"
      ]
    },
    {
      "cell_type": "code",
      "execution_count": null,
      "id": "f15e167c",
      "metadata": {},
      "outputs": [],
      "source": [
        "labels=[]\n",
        "global_features=[]\n",
        "for x in train_files:\n",
        "    image = cv2.imread(x)\n",
        "    \n",
        "    x_c = x.split('.')[2].split('/')[3]\n",
        "    current_label =  np.array(df_train.loc[df_train.id_code == x_c,'diagnosis'])\n",
        "    labels.append(current_label)\n",
        "    \n",
        "    fv_hu_moments = ed_hu_moments(image)\n",
        "    fv_histogram = ed_histogram(image)\n",
        "    \n",
        "    global_feature = np.hstack([fv_hu_moments,fv_histogram])\n",
        "    global_features.append(global_feature)\n"
      ]
    },
    {
      "cell_type": "code",
      "execution_count": null,
      "id": "63400d4b",
      "metadata": {},
      "outputs": [],
      "source": [
        "from sklearn.preprocessing import MinMaxScaler\n",
        "from sklearn.preprocessing import LabelEncoder\n",
        "scaler = MinMaxScaler(feature_range=(0,1))\n",
        "scaled_features=scaler.fit_transform(np.array(global_features))\n",
        "\n",
        "le = LabelEncoder()\n",
        "target = le.fit_transform(labels)\n",
        "\n",
        "from sklearn.linear_model import LogisticRegression\n",
        "\n",
        "model1 = LogisticRegression(multi_class='ovr')\n"
      ]
    },
    {
      "cell_type": "code",
      "execution_count": null,
      "id": "6556d10b",
      "metadata": {},
      "outputs": [],
      "source": [
        "model1.fit(global_features,labels)\n"
      ]
    },
    {
      "cell_type": "code",
      "execution_count": null,
      "id": "552e6172",
      "metadata": {},
      "outputs": [],
      "source": [
        "model1.score(global_features, labels)\n"
      ]
    },
    {
      "cell_type": "code",
      "execution_count": null,
      "id": "3319a4d4",
      "metadata": {},
      "outputs": [],
      "source": [
        "id_cds=[]\n",
        "type(id_cds)\n"
      ]
    },
    {
      "cell_type": "code",
      "execution_count": null,
      "id": "9e510efc",
      "metadata": {},
      "outputs": [],
      "source": [
        "test_features = []\n",
        "id_cds = []\n",
        "for x in test_files:\n",
        "    image = cv2.imread(x)\n",
        "    \n",
        "    x_c = x.split('.')[2].split('/')[3]\n",
        "    id_cds.append(x_c)\n",
        "    \n",
        "    fv_hu_moments = ed_hu_moments(image)\n",
        "    fv_histogram = ed_histogram(image)\n",
        "    \n",
        "    test_feature = np.hstack([fv_hu_moments,fv_histogram])\n",
        "    test_features.append(test_feature)\n",
        "    \n"
      ]
    },
    {
      "cell_type": "code",
      "execution_count": null,
      "id": "554d8aac",
      "metadata": {},
      "outputs": [],
      "source": [
        "test_preds = model1.predict(test_features)\n"
      ]
    },
    {
      "cell_type": "code",
      "execution_count": null,
      "id": "b788fee2",
      "metadata": {},
      "outputs": [],
      "source": [
        "combined_results = pd.DataFrame({'id_code': id_cds, 'diagnosis': test_preds})\n"
      ]
    },
    {
      "cell_type": "code",
      "execution_count": null,
      "id": "5728ce6b",
      "metadata": {},
      "outputs": [],
      "source": [
        "combined_results.head()\n"
      ]
    },
    {
      "cell_type": "code",
      "execution_count": null,
      "id": "74e8b5f3",
      "metadata": {},
      "outputs": [],
      "source": [
        "combined_results.shape\n"
      ]
    },
    {
      "cell_type": "code",
      "execution_count": null,
      "id": "085ee76b",
      "metadata": {},
      "outputs": [],
      "source": [
        "combined_results.to_csv(\"submission.csv\",index=False)\n"
      ]
    }
  ],
  "metadata": {},
  "nbformat": 4,
  "nbformat_minor": 5
}