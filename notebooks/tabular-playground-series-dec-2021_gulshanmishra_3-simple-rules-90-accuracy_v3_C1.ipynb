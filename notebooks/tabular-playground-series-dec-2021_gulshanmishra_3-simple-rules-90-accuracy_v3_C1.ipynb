{
 "cells": [
  {
   "cell_type": "code",
   "execution_count": null,
   "id": "17d4e194",
   "metadata": {},
   "outputs": [],
   "source": [
    "import pandas as pd\n",
    "from pathlib import Path"
   ]
  },
  {
   "cell_type": "code",
   "execution_count": null,
   "id": "ff0fcfa2",
   "metadata": {},
   "outputs": [],
   "source": [
    "import numpy as np\n",
    "import pandas as pd\n",
    "from matplotlib import style\n",
    "import matplotlib.pyplot as plt\n",
    "%matplotlib inline\n",
    "\n",
    "\n",
    "plt.style.use(\"seaborn\")\n",
    "pd.set_option(\"display.max_columns\", None)\n",
    "\n",
    "train_df = pd.read_csv(\"../input/tabular-playground-series-dec-2021/train.csv\")\n",
    "test_df = pd.read_csv(\"../input/tabular-playground-series-dec-2021/test.csv\")\n",
    "sub_df = pd.read_csv(\"../input/tabular-playground-series-dec-2021/sample_submission.csv\")\n"
   ]
  },
  {
   "cell_type": "code",
   "execution_count": null,
   "id": "2fcef23c",
   "metadata": {},
   "outputs": [],
   "source": [
    "train_df.drop(\"Id\", axis=1, inplace=True)\n",
    "test_df.drop(\"Id\", axis=1, inplace=True)\n",
    "\n",
    "idx = train_df[train_df[\"Cover_Type\"] == 5].index\n",
    "train_df.drop(idx, axis=0, inplace=True)\n"
   ]
  },
  {
   "cell_type": "code",
   "execution_count": null,
   "id": "05e0c893",
   "metadata": {},
   "outputs": [],
   "source": [
    "cols = [\n",
    "    \"Elevation\",\n",
    "    \"Aspect\",\n",
    "    \"Slope\",\n",
    "    \"Horizontal_Distance_To_Hydrology\",\n",
    "    \"Vertical_Distance_To_Hydrology\",\n",
    "    \"Horizontal_Distance_To_Roadways\",\n",
    "    \"Hillshade_9am\",\n",
    "    \"Hillshade_Noon\",\n",
    "    \"Hillshade_3pm\",\n",
    "    \"Horizontal_Distance_To_Fire_Points\"\n",
    "]\n"
   ]
  },
  {
   "cell_type": "code",
   "execution_count": null,
   "id": "7f65d2a8",
   "metadata": {},
   "outputs": [],
   "source": [
    "from sklearn.feature_selection import f_classif, SelectKBest\n",
    "\n",
    "\n",
    "selector = SelectKBest(f_classif, k=\"all\")\n",
    "selector.fit(\n",
    "    train_df[cols],\n",
    "    train_df[\"Cover_Type\"]\n",
    ")\n",
    "\n",
    "pd.Series(selector.scores_, index=cols).nlargest(len(cols)).plot(kind=\"bar\", figsize=(20, 5))\n"
   ]
  },
  {
   "cell_type": "code",
   "execution_count": null,
   "id": "b6d6a38e",
   "metadata": {},
   "outputs": [],
   "source": [
    "# This code is borrowed from -> https://www.kaggle.com/thalesgaluchi/histograms-for-a-good-prediction\n",
    "fig, ax = plt.subplots(figsize=(20, 5))\n",
    "for item in train_df[\"Cover_Type\"].unique():\n",
    "    ax.hist(train_df[train_df.Cover_Type.isin([item])][\"Elevation\"], alpha=0.5, label='Cover'+str(item), bins= 100)\n",
    "    ax.set_title(\"Elevation\")\n",
    "\n",
    "ax.legend()\n"
   ]
  },
  {
   "cell_type": "code",
   "execution_count": null,
   "id": "9dba668d",
   "metadata": {},
   "outputs": [],
   "source": [
    "# Modelling using only elevation\n",
    "from sklearn.tree import DecisionTreeClassifier, plot_tree\n",
    "from sklearn.model_selection import train_test_split\n",
    "\n",
    "\n",
    "clf = DecisionTreeClassifier(max_depth=2)\n",
    "clf.fit(\n",
    "    train_df[[\"Elevation\"]],\n",
    "    train_df[\"Cover_Type\"]\n",
    ")\n",
    "\n",
    "_, ax = plt.subplots(figsize=(20, 10))\n",
    "\n",
    "plot_tree(\n",
    "    clf,\n",
    "    feature_names=[\"Elevation\"],\n",
    "    class_names=train_df[\"Cover_Type\"].unique().astype(str),\n",
    "    filled=True,\n",
    "    ax=ax,\n",
    "    fontsize=13\n",
    ")\n",
    "\n",
    "plt.show()\n"
   ]
  },
  {
   "cell_type": "code",
   "execution_count": null,
   "id": "9e65fa27",
   "metadata": {},
   "outputs": [],
   "source": [
    "def predict(x):\n",
    "    if x <= 2503:\n",
    "        return 3\n",
    "    elif x <= 3053:\n",
    "        return 2\n",
    "    else:\n",
    "        return 1\n",
    "\n",
    "sub_df[\"Cover_Type\"] = test_df[\"Elevation\"].apply(predict)\n",
    "sub_df.to_csv(\"submission.csv\", index=False)\n",
    "\n",
    "sub_df[\"Cover_Type\"].value_counts()\n"
   ]
  }
 ],
 "metadata": {},
 "nbformat": 4,
 "nbformat_minor": 5
}
