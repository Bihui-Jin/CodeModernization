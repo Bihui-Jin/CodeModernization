{
 "cells": [
  {
   "cell_type": "code",
   "execution_count": null,
   "id": "0f556aae",
   "metadata": {},
   "outputs": [],
   "source": [
    "import pandas as pd\n",
    "from pathlib import Path"
   ]
  },
  {
   "cell_type": "code",
   "execution_count": null,
   "id": "6524c6ae",
   "metadata": {},
   "outputs": [],
   "source": [
    "%reload_ext autoreload\n",
    "%autoreload 2\n",
    "%matplotlib inline\n"
   ]
  },
  {
   "cell_type": "code",
   "execution_count": null,
   "id": "eabc0527",
   "metadata": {},
   "outputs": [],
   "source": [
    "from fastai import *\n",
    "from fastai.vision import *\n",
    "from pathlib import Path\n",
    "import os\n",
    "import pandas as pd\n"
   ]
  },
  {
   "cell_type": "code",
   "execution_count": null,
   "id": "549f349b",
   "metadata": {},
   "outputs": [],
   "source": [
    "print(os.listdir(\"../input\"))\n"
   ]
  },
  {
   "cell_type": "code",
   "execution_count": null,
   "id": "c14ea3cf",
   "metadata": {},
   "outputs": [],
   "source": [
    "train_dir = \"../input/train/train/\"\n",
    "test_dir = \"../input/test/test/\"\n"
   ]
  },
  {
   "cell_type": "code",
   "execution_count": null,
   "id": "e4f15450",
   "metadata": {},
   "outputs": [],
   "source": [
    "print(os.listdir(train_dir)[:5])\n",
    "print(os.listdir(test_dir)[:5])\n"
   ]
  },
  {
   "cell_type": "code",
   "execution_count": null,
   "id": "3cf4fb24",
   "metadata": {},
   "outputs": [],
   "source": [
    "train_csv = pd.read_csv(\"../input/train.csv\")\n",
    "sample_submission = pd.read_csv(\"../input/sample_submission.csv\")\n",
    "\n",
    "display(train_csv.head())\n",
    "display(sample_submission.head())\n"
   ]
  },
  {
   "cell_type": "code",
   "execution_count": null,
   "id": "25104dd9",
   "metadata": {},
   "outputs": [],
   "source": [
    "tfms = get_transforms()\n",
    "data = ImageDataBunch.from_df(\n",
    "    df = train_csv,\n",
    "    path = train_dir,\n",
    "    test = \"../../test\",\n",
    "    valid_pct = 0.2,\n",
    "    bs = 16,\n",
    "    size = 32,\n",
    "    ds_tfms = tfms,\n",
    "    num_workers = 0\n",
    ").normalize(imagenet_stats)\n",
    "print(data.classes)\n",
    "data.show_batch(rows=2)\n"
   ]
  },
  {
   "cell_type": "code",
   "execution_count": null,
   "id": "a57c8542",
   "metadata": {},
   "outputs": [],
   "source": [
    "learn = cnn_learner(data, models.resnet18, metrics=accuracy, model_dir=\"/tmp/models\")\n"
   ]
  },
  {
   "cell_type": "code",
   "execution_count": null,
   "id": "c691470c",
   "metadata": {},
   "outputs": [],
   "source": [
    "learn.fit_one_cycle(1)\n"
   ]
  },
  {
   "cell_type": "code",
   "execution_count": null,
   "id": "8f9d41e7",
   "metadata": {},
   "outputs": [],
   "source": [
    "preds, _ = learn.get_preds(ds_type=DatasetType.Test)\n"
   ]
  },
  {
   "cell_type": "code",
   "execution_count": null,
   "id": "7c1296c6",
   "metadata": {},
   "outputs": [],
   "source": [
    "class_score, y = learn.get_preds(DatasetType.Test)\n",
    "class_score = np.argmax(class_score, axis=1)\n"
   ]
  },
  {
   "cell_type": "code",
   "execution_count": null,
   "id": "0ceb74c5",
   "metadata": {},
   "outputs": [],
   "source": [
    "submission  = pd.DataFrame({\n",
    "    \"id\": os.listdir(test_dir),\n",
    "    \"has_cactus\": class_score\n",
    "})\n",
    "submission.to_csv(\"submission.csv\", index=False)\n",
    "submission[:5]\n"
   ]
  }
 ],
 "metadata": {},
 "nbformat": 4,
 "nbformat_minor": 5
}
