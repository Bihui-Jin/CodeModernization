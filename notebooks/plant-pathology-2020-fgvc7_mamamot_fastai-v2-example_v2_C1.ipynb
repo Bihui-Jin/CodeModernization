{
 "cells": [
  {
   "cell_type": "code",
   "execution_count": null,
   "id": "d1c0a03d",
   "metadata": {},
   "outputs": [],
   "source": [
    "import pandas as pd\n",
    "from pathlib import Path"
   ]
  },
  {
   "cell_type": "code",
   "execution_count": null,
   "id": "913887fb",
   "metadata": {},
   "outputs": [],
   "source": [
    "!pip install fastai2>=0.0.11 graphviz ipywidgets matplotlib nbdev>=0.2.12 pandas scikit_learn azure-cognitiveservices-search-imagesearch sentencepiece\n"
   ]
  },
  {
   "cell_type": "code",
   "execution_count": null,
   "id": "02b31e21",
   "metadata": {},
   "outputs": [],
   "source": [
    "from fastai2.vision.all import *\n",
    "from sklearn.metrics import roc_auc_score\n"
   ]
  },
  {
   "cell_type": "code",
   "execution_count": null,
   "id": "431878d7",
   "metadata": {},
   "outputs": [],
   "source": [
    "data_path = Path(\"../input/plant-pathology-2020-fgvc7/\")\n"
   ]
  },
  {
   "cell_type": "code",
   "execution_count": null,
   "id": "9c6ba140",
   "metadata": {},
   "outputs": [],
   "source": [
    "df = pd.read_csv(data_path/\"train.csv\")\n"
   ]
  },
  {
   "cell_type": "code",
   "execution_count": null,
   "id": "b79d69ce",
   "metadata": {},
   "outputs": [],
   "source": [
    "df.head()\n"
   ]
  },
  {
   "cell_type": "code",
   "execution_count": null,
   "id": "faaba700",
   "metadata": {},
   "outputs": [],
   "source": [
    "df.iloc[:, 1:].sum(axis=1).value_counts()\n"
   ]
  },
  {
   "cell_type": "code",
   "execution_count": null,
   "id": "9bacac3a",
   "metadata": {},
   "outputs": [],
   "source": [
    "imglabels = list(df.columns[1:])\n"
   ]
  },
  {
   "cell_type": "code",
   "execution_count": null,
   "id": "b72fd1d9",
   "metadata": {},
   "outputs": [],
   "source": [
    "df[\"labels\"] = df.apply(lambda x: imglabels[x.values[1:].argmax()], axis=1)\n"
   ]
  },
  {
   "cell_type": "code",
   "execution_count": null,
   "id": "b21cc13e",
   "metadata": {},
   "outputs": [],
   "source": [
    "df.head()\n"
   ]
  },
  {
   "cell_type": "code",
   "execution_count": null,
   "id": "74bc6497",
   "metadata": {},
   "outputs": [],
   "source": [
    "dls = ImageDataLoaders.from_df(df,\n",
    "                               path=data_path, \n",
    "                               suff=\".jpg\", \n",
    "                               folder=\"images\",\n",
    "                               label_col=\"labels\",\n",
    "                               item_tfms=Resize(224))\n"
   ]
  },
  {
   "cell_type": "code",
   "execution_count": null,
   "id": "0c50a5cc",
   "metadata": {},
   "outputs": [],
   "source": [
    "dls.show_batch()\n"
   ]
  },
  {
   "cell_type": "code",
   "execution_count": null,
   "id": "ae61da8c",
   "metadata": {},
   "outputs": [],
   "source": [
    "def mean_roc_auc(preds, targets, num_cols=4):\n",
    "    \"\"\"The competition metric\n",
    "    \n",
    "    Quoting: 'Submissions are evaluated on mean column-wise ROC AUC. \n",
    "    In other words, the score is the average of the individual AUCs \n",
    "    of each predicted column. '\n",
    "    \n",
    "    Unfortunately, we cannot use in validation, as it can happen that\n",
    "    all files in a batch has the same label, and ROC is undefined\n",
    "    \"\"\"\n",
    "    aucs = []\n",
    "    preds = preds.detach().cpu().numpy()\n",
    "    targets = targets.detach().cpu().numpy()\n",
    "    \n",
    "    for i in range(num_cols):\n",
    "        # grab a column from the networks output\n",
    "        cpreds = preds[:, i]\n",
    "        # see which objects have the i-th label\n",
    "        ctargets = [x == i for x in targets]\n",
    "        aucs.append(roc_auc_score(ctargets, cpreds))\n",
    "    return sum(aucs) / num_cols\n"
   ]
  },
  {
   "cell_type": "code",
   "execution_count": null,
   "id": "fd84606a",
   "metadata": {},
   "outputs": [],
   "source": [
    "learn = cnn_learner(dls, resnet34, metrics=[error_rate])\n"
   ]
  },
  {
   "cell_type": "code",
   "execution_count": null,
   "id": "74ce02c1",
   "metadata": {},
   "outputs": [],
   "source": [
    "learn.fine_tune(5)\n"
   ]
  },
  {
   "cell_type": "code",
   "execution_count": null,
   "id": "ee84d45c",
   "metadata": {},
   "outputs": [],
   "source": [
    "test_image_ids = [img.split(\".\")[0] for img in os.listdir(data_path/\"images\") if img.startswith(\"Test\")]\n",
    "test_images = [data_path/\"images\"/f\"{img}.jpg\" for img in test_image_ids]\n",
    "preds = learn.get_preds(dl=dls.test_dl(test_images, shuffle=False, drop_last=False))\n"
   ]
  },
  {
   "cell_type": "code",
   "execution_count": null,
   "id": "aa9adc9e",
   "metadata": {},
   "outputs": [],
   "source": [
    "# ensure that the order of columns in preds matches the imglabels\n",
    "preds = preds[0].cpu().numpy()\n",
    "vocab = list(dls[0].dataset.vocab)\n",
    "column_permutation = [vocab.index(l) for l in imglabels]\n",
    "preds = preds[:, column_permutation]\n",
    "\n",
    "submission = pd.DataFrame()\n",
    "submission[\"image_id\"] = test_image_ids\n",
    "for i in range(len(imglabels)):\n",
    "    submission[imglabels[i]] = preds[:, i]\n",
    "submission.to_csv(\"submission.csv\", index=False)\n"
   ]
  },
  {
   "cell_type": "code",
   "execution_count": null,
   "id": "c4d8ba60",
   "metadata": {},
   "outputs": [],
   "source": [
    "submission.head(10)\n"
   ]
  }
 ],
 "metadata": {},
 "nbformat": 4,
 "nbformat_minor": 5
}
