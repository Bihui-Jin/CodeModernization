{
 "cells": [
  {
   "cell_type": "code",
   "execution_count": null,
   "id": "bb1ef5dd",
   "metadata": {},
   "outputs": [],
   "source": [
    "import pandas as pd\n",
    "from pathlib import Path"
   ]
  },
  {
   "cell_type": "code",
   "execution_count": null,
   "id": "8bd758ef",
   "metadata": {},
   "outputs": [],
   "source": [
    "import pandas as pd # data processing, CSV file I/O (e.g. pd.read_csv)\n",
    "import os,cv2\n",
    "from IPython.display import Image\n",
    "from keras.preprocessing import image\n",
    "from keras import optimizers\n",
    "from keras import layers,models\n",
    "from keras.applications.imagenet_utils import preprocess_input\n",
    "import matplotlib.pyplot as plt\n",
    "import seaborn as sns\n",
    "print(os.listdir(\"../input\"))\n",
    "\n",
    "import numpy as np\n"
   ]
  },
  {
   "cell_type": "code",
   "execution_count": null,
   "id": "246b0e51",
   "metadata": {},
   "outputs": [],
   "source": [
    "train_dir=\"../input/train/train\"\n",
    "test_dir=\"../input/test/test\"\n",
    "train=pd.read_csv('../input/train.csv')\n",
    "\n",
    "df_test=pd.read_csv('../input/sample_submission.csv')\n"
   ]
  },
  {
   "cell_type": "code",
   "execution_count": null,
   "id": "eb2b0fa7",
   "metadata": {},
   "outputs": [],
   "source": [
    "train.head(5)\n"
   ]
  },
  {
   "cell_type": "code",
   "execution_count": null,
   "id": "2b9124d0",
   "metadata": {},
   "outputs": [],
   "source": [
    "print('out dataset has {} rows and {} columns'.format(train.shape[0],train.shape[1]))\n"
   ]
  },
  {
   "cell_type": "code",
   "execution_count": null,
   "id": "1bdcde05",
   "metadata": {},
   "outputs": [],
   "source": [
    "train['has_cactus'].value_counts()\n"
   ]
  },
  {
   "cell_type": "code",
   "execution_count": null,
   "id": "079cf6a9",
   "metadata": {},
   "outputs": [],
   "source": [
    "print(\"The number of rows in test set is %d\"%(len(os.listdir('../input/test/test'))))\n"
   ]
  },
  {
   "cell_type": "code",
   "execution_count": null,
   "id": "2a9522f6",
   "metadata": {},
   "outputs": [],
   "source": [
    "Image(os.path.join(\"../input/train/train\",train.iloc[0,0]),width=250,height=250)\n"
   ]
  },
  {
   "cell_type": "code",
   "execution_count": null,
   "id": "3856541b",
   "metadata": {},
   "outputs": [],
   "source": [
    "def prepare_data(data,m,direc):\n",
    "    print('preparing data')\n",
    "    X_train=np.zeros((m,150,150,3))\n",
    "    count=0\n",
    "    for fig in data['id']:\n",
    "        img=image.load_img(os.path.join(direc,fig),target_size=(150,150,3))\n",
    "        x=image.img_to_array(img)\n",
    "        x=preprocess_input(x)\n",
    "        X_train[count]=x/255\n",
    "        count+=1\n",
    "        \n",
    "        \n",
    "    print(\"Done\")\n",
    "    return X_train\n",
    "\n",
    "        \n",
    "        \n",
    "    \n"
   ]
  },
  {
   "cell_type": "code",
   "execution_count": null,
   "id": "88e917c4",
   "metadata": {},
   "outputs": [],
   "source": [
    "data=prepare_data(train,train.shape[0],train_dir)\n",
    "test=prepare_data(df_test,len(df_test),test_dir)\n"
   ]
  },
  {
   "cell_type": "code",
   "execution_count": null,
   "id": "50966f8c",
   "metadata": {},
   "outputs": [],
   "source": [
    "X_train=data[:15001]\n",
    "y_train=train['has_cactus'][:15001]\n",
    "valid=data[15001:]\n",
    "y_valid=train['has_cactus'][15001:]\n"
   ]
  },
  {
   "cell_type": "code",
   "execution_count": null,
   "id": "79da2a2e",
   "metadata": {},
   "outputs": [],
   "source": [
    "model=models.Sequential()\n",
    "model.add(layers.Conv2D(32,(3,3),activation='relu',input_shape=(150,150,3)))\n",
    "model.add(layers.MaxPool2D((2,2)))\n",
    "model.add(layers.Conv2D(64,(3,3),activation='relu',input_shape=(150,150,3)))\n",
    "model.add(layers.MaxPool2D((2,2)))\n",
    "model.add(layers.Conv2D(128,(3,3),activation='relu',input_shape=(150,150,3)))\n",
    "model.add(layers.MaxPool2D((2,2)))\n",
    "model.add(layers.Conv2D(128,(3,3),activation='relu',input_shape=(150,150,3)))\n",
    "model.add(layers.MaxPool2D((2,2)))\n",
    "model.add(layers.Flatten())\n",
    "model.add(layers.Dense(512,activation='relu'))\n",
    "model.add(layers.Dense(1,activation='sigmoid'))\n",
    "         \n"
   ]
  },
  {
   "cell_type": "code",
   "execution_count": null,
   "id": "09a1e045",
   "metadata": {},
   "outputs": [],
   "source": [
    "model.summary()\n"
   ]
  },
  {
   "cell_type": "code",
   "execution_count": null,
   "id": "7aa651e9",
   "metadata": {},
   "outputs": [],
   "source": [
    "model.compile(loss='binary_crossentropy',optimizer=optimizers.rmsprop(),metrics=['acc'])\n"
   ]
  },
  {
   "cell_type": "code",
   "execution_count": null,
   "id": "e7474b80",
   "metadata": {},
   "outputs": [],
   "source": [
    "epochs=10\n",
    "history=model.fit(X_train,y_train,epochs=10,validation_data=(valid,y_valid))\n"
   ]
  },
  {
   "cell_type": "code",
   "execution_count": null,
   "id": "704a0191",
   "metadata": {},
   "outputs": [],
   "source": [
    "acc=history.history['acc']\n",
    "epochs_=range(0,epochs)\n",
    "plt.plot(epochs_,acc,label='training accuracy')\n",
    "\n",
    "acc_val=history.history['val_acc']\n",
    "plt.scatter(epochs_,acc_val,label=\"validation accuracy\")\n",
    "\n",
    "plt.legend()\n",
    "\n",
    "\n",
    "\n",
    "\n",
    "    \n"
   ]
  },
  {
   "cell_type": "code",
   "execution_count": null,
   "id": "edd556f9",
   "metadata": {},
   "outputs": [],
   "source": [
    "acc=history.history['loss']\n",
    "epochs_=range(0,epochs)\n",
    "plt.plot(epochs_,acc,label='training loss')\n",
    "\n",
    "acc_val=history.history['val_loss']\n",
    "plt.scatter(epochs_,acc_val,label=\"validation loss\")\n",
    "\n",
    "plt.legend()\n"
   ]
  },
  {
   "cell_type": "code",
   "execution_count": null,
   "id": "384900ee",
   "metadata": {},
   "outputs": [],
   "source": [
    "y_pre=model.predict_proba(test)\n"
   ]
  },
  {
   "cell_type": "code",
   "execution_count": null,
   "id": "a6ffd262",
   "metadata": {},
   "outputs": [],
   "source": [
    "df=pd.DataFrame({'id':df_test['id'] })\n",
    "df['has_cactus']=y_pre\n",
    "df.to_csv(\"submission.csv\",index=False)\n"
   ]
  }
 ],
 "metadata": {},
 "nbformat": 4,
 "nbformat_minor": 5
}
