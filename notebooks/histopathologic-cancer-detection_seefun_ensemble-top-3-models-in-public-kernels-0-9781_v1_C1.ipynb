{
 "cells": [
  {
   "cell_type": "code",
   "execution_count": null,
   "id": "e9c3290a",
   "metadata": {},
   "outputs": [],
   "source": [
    "import pandas as pd\n",
    "from pathlib import Path"
   ]
  },
  {
   "cell_type": "code",
   "execution_count": null,
   "id": "90da9dc6",
   "metadata": {},
   "outputs": [],
   "source": [
    "import os\n",
    "import numpy as np\n",
    "import pandas as pd\n",
    "import scipy.special\n",
    "\n",
    "sigmoid = lambda x:scipy.special.expit(x)\n"
   ]
  },
  {
   "cell_type": "code",
   "execution_count": null,
   "id": "bd08aa71",
   "metadata": {},
   "outputs": [],
   "source": [
    "os.listdir('../input')\n"
   ]
  },
  {
   "cell_type": "code",
   "execution_count": null,
   "id": "22e44ba8",
   "metadata": {},
   "outputs": [],
   "source": [
    "sub1 = pd.read_csv('../input/blending-power-0-9754/sub.csv')\n",
    "sub2 = pd.read_csv('../input/tta-power-densenet169/submission_tta_64.csv')\n",
    "sub3 = pd.read_csv('../input/you-really-need-attention-pytorch/sub_tta.csv')\n"
   ]
  },
  {
   "cell_type": "code",
   "execution_count": null,
   "id": "54fb1676",
   "metadata": {},
   "outputs": [],
   "source": [
    "sub1.head()\n"
   ]
  },
  {
   "cell_type": "code",
   "execution_count": null,
   "id": "5b49cfd9",
   "metadata": {},
   "outputs": [],
   "source": [
    "sub2.head()\n"
   ]
  },
  {
   "cell_type": "code",
   "execution_count": null,
   "id": "35c109e1",
   "metadata": {},
   "outputs": [],
   "source": [
    "sub3.head()\n"
   ]
  },
  {
   "cell_type": "code",
   "execution_count": null,
   "id": "4092d245",
   "metadata": {},
   "outputs": [],
   "source": [
    "sub1.label = (sub1.label + sub2.label + sub3.label) / 3\n"
   ]
  },
  {
   "cell_type": "code",
   "execution_count": null,
   "id": "6ffd8e75",
   "metadata": {},
   "outputs": [],
   "source": [
    "sub1.to_csv('ensemble.csv', index=False)\n"
   ]
  }
 ],
 "metadata": {},
 "nbformat": 4,
 "nbformat_minor": 5
}
