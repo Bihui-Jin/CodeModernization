{
  "cells": [
    {
      "cell_type": "code",
      "execution_count": null,
      "id": "4e5fb072",
      "metadata": {},
      "outputs": [],
      "source": [
        "import pandas as pd\n",
        "from pathlib import Path"
      ]
    },
    {
      "cell_type": "code",
      "execution_count": null,
      "id": "4ee793b9",
      "metadata": {},
      "outputs": [],
      "source": [
        "!pip install -q -U pip\n",
        "!pip install -q -U seaborn\n"
      ]
    },
    {
      "cell_type": "code",
      "execution_count": null,
      "id": "278d330c",
      "metadata": {},
      "outputs": [],
      "source": [
        "import os\n",
        "import ast\n",
        "import random\n",
        "\n",
        "import numpy as np\n",
        "import pandas as pd\n",
        "import cv2\n",
        "import matplotlib.pyplot as plt\n",
        "from matplotlib_venn import venn2, venn3\n",
        "import seaborn as sns\n"
      ]
    },
    {
      "cell_type": "code",
      "execution_count": null,
      "id": "a3f88463",
      "metadata": {},
      "outputs": [],
      "source": [
        "BASE_DIR = \"../input/ranzcr-clip-catheter-line-classification/\"\n",
        "print(os.listdir(BASE_DIR))\n"
      ]
    },
    {
      "cell_type": "code",
      "execution_count": null,
      "id": "143bebf7",
      "metadata": {},
      "outputs": [],
      "source": [
        "df_train = pd.read_csv(os.path.join(BASE_DIR, \"train.csv\"), index_col=0)\n",
        "df_train.head()\n"
      ]
    },
    {
      "cell_type": "code",
      "execution_count": null,
      "id": "cc24aeec",
      "metadata": {},
      "outputs": [],
      "source": [
        "plt.figure(figsize=(8, 8))\n",
        "df_tmp = df_train.iloc[:, :-1].sum()\n",
        "sns.barplot(x=df_tmp.values, y=df_tmp.index)\n",
        "plt.xticks(fontsize=14)\n",
        "plt.yticks(fontsize=14)\n",
        "plt.xlabel(\"Number of images\", fontsize=15)\n",
        "plt.title(\"Distribution of labels\", fontsize=16);\n"
      ]
    },
    {
      "cell_type": "code",
      "execution_count": null,
      "id": "47f113bc",
      "metadata": {},
      "outputs": [],
      "source": [
        "print(\"Number of unique patients: \", df_train[\"PatientID\"].unique().shape[0])\n"
      ]
    },
    {
      "cell_type": "code",
      "execution_count": null,
      "id": "4bf14a19",
      "metadata": {},
      "outputs": [],
      "source": [
        "plt.figure(figsize=(16, 6))\n",
        "df_tmp = df_train[\"PatientID\"].value_counts()\n",
        "sns.countplot(x=df_tmp.values)\n",
        "plt.xticks(fontsize=12, rotation=90)\n",
        "plt.yticks(fontsize=14)\n",
        "plt.xlabel(\"Number of observations\", fontsize=15)\n",
        "plt.ylabel(\"Number of patients\", fontsize=15)\n",
        "plt.title(\"Distribution of observations by PatientID\", fontsize=16);\n"
      ]
    },
    {
      "cell_type": "code",
      "execution_count": null,
      "id": "4466a748",
      "metadata": {},
      "outputs": [],
      "source": [
        "df_annot = pd.read_csv(os.path.join(BASE_DIR, \"train_annotations.csv\"))\n",
        "df_annot.head()\n"
      ]
    },
    {
      "cell_type": "code",
      "execution_count": null,
      "id": "c4c945ba",
      "metadata": {},
      "outputs": [],
      "source": [
        "def plot_image_with_annotations(row_ind):\n",
        "    row = df_annot.iloc[row_ind]\n",
        "    image_path = os.path.join(BASE_DIR, \"train\", row[\"StudyInstanceUID\"] + \".jpg\")\n",
        "    label = row[\"label\"]\n",
        "    data = np.array(ast.literal_eval(row[\"data\"]))\n",
        "    \n",
        "    plt.figure(figsize=(10, 5))\n",
        "    image = cv2.imread(image_path)\n",
        "    image = cv2.cvtColor(image, cv2.COLOR_BGR2RGB)\n",
        "    plt.subplot(1, 2, 1)\n",
        "    plt.imshow(image)\n",
        "    plt.subplot(1, 2, 2)\n",
        "    plt.imshow(image)\n",
        "    plt.scatter(data[:, 0], data[:, 1])\n",
        "    \n",
        "    plt.suptitle(label, fontsize=15)\n"
      ]
    },
    {
      "cell_type": "code",
      "execution_count": null,
      "id": "2ebe03f1",
      "metadata": {},
      "outputs": [],
      "source": [
        "plot_image_with_annotations(8)\n"
      ]
    },
    {
      "cell_type": "code",
      "execution_count": null,
      "id": "6a81d88b",
      "metadata": {},
      "outputs": [],
      "source": [
        "def visualize_annotations(file_id):\n",
        "    plt.figure(figsize=(8, 8))\n",
        "    \n",
        "    image = cv2.imread(os.path.join(BASE_DIR, \"train\", file_id + \".jpg\"))\n",
        "    image = cv2.cvtColor(image, cv2.COLOR_BGR2RGB)\n",
        "    plt.imshow(image)\n",
        "    \n",
        "    df_patient = df_annot.loc[df_annot[\"StudyInstanceUID\"] == file_id]\n",
        "    \n",
        "    if df_patient.shape[0]:        \n",
        "        labels = df_patient[\"label\"].values.tolist()\n",
        "        lines = df_patient[\"data\"].apply(ast.literal_eval).values.tolist()\n",
        "\n",
        "        for line, label in zip(lines, labels):         \n",
        "            line = np.asarray(line)\n",
        "            plt.scatter(line[:, 0], line[:, 1], s=40, label=label)\n",
        "        \n",
        "        plt.legend(bbox_to_anchor=(1.05, 1), loc=2, borderaxespad=0, prop={'size': 20})\n",
        "        \n",
        "    plt.tick_params(axis=\"x\", labelsize=15)\n",
        "    plt.tick_params(axis=\"y\", labelsize=15)\n",
        "    \n",
        "    plt.show()\n"
      ]
    },
    {
      "cell_type": "code",
      "execution_count": null,
      "id": "20fa04af",
      "metadata": {},
      "outputs": [],
      "source": [
        "image_ids = [\n",
        "    \"1.2.826.0.1.3680043.8.498.83331936392921199432218327504041001669\",\n",
        "    \"1.2.826.0.1.3680043.8.498.11693509889426445054876979814173446281\",\n",
        "    \"1.2.826.0.1.3680043.8.498.15159015355212130418020059688126994534\",\n",
        "    \"1.2.826.0.1.3680043.8.498.92067938763801985117661596637576203997\",\n",
        "]\n",
        "\n",
        "for image_id in image_ids:\n",
        "    visualize_annotations(image_id)\n"
      ]
    },
    {
      "cell_type": "code",
      "execution_count": null,
      "id": "9aa49eb3",
      "metadata": {},
      "outputs": [],
      "source": [
        "def visualize_batch(image_ids):\n",
        "    plt.figure(figsize=(16, 10))\n",
        "    \n",
        "    for ind, image_id in enumerate(image_ids):\n",
        "        plt.subplot(2, 3, ind + 1)\n",
        "        image = cv2.imread(os.path.join(BASE_DIR, \"train\", f\"{image_id}.jpg\"))\n",
        "        image = cv2.cvtColor(image, cv2.COLOR_BGR2RGB)\n",
        "\n",
        "        plt.imshow(image)\n",
        "        plt.axis(\"off\")\n",
        "    \n",
        "    plt.show()\n",
        "\n",
        "    \n",
        "def plot_statistics(df, col):\n",
        "    plt.figure(figsize=(16, 2))\n",
        "    sns.countplot(y=df[col])\n",
        "    \n",
        "    plt.xticks(fontsize=12)\n",
        "    plt.yticks(fontsize=12)\n",
        "    plt.xlabel(\"Number of observations\", fontsize=15)\n",
        "    plt.ylabel(col, fontsize=15)\n",
        "    plt.title(f\"Distribution of {col}\", fontsize=16);\n",
        "    \n",
        "    plt.show()\n",
        "    \n",
        "def process_class(col_name):\n",
        "    plot_statistics(df_train, col_name)\n",
        "    tmp_df = df_train[df_train[col_name] == 1]\n",
        "    visualize_batch(random.sample(tmp_df.index.tolist(), 6))\n"
      ]
    },
    {
      "cell_type": "code",
      "execution_count": null,
      "id": "dfcf1f58",
      "metadata": {},
      "outputs": [],
      "source": [
        "process_class(\"ETT - Abnormal\")\n"
      ]
    },
    {
      "cell_type": "code",
      "execution_count": null,
      "id": "c6389feb",
      "metadata": {},
      "outputs": [],
      "source": [
        "visualize_annotations(\"1.2.826.0.1.3680043.8.498.93345761486297843389996628528592497280\")\n"
      ]
    },
    {
      "cell_type": "code",
      "execution_count": null,
      "id": "c03956d7",
      "metadata": {},
      "outputs": [],
      "source": [
        "process_class(\"ETT - Borderline\")\n"
      ]
    },
    {
      "cell_type": "code",
      "execution_count": null,
      "id": "b804942d",
      "metadata": {},
      "outputs": [],
      "source": [
        "process_class(\"ETT - Normal\")\n"
      ]
    },
    {
      "cell_type": "code",
      "execution_count": null,
      "id": "ef38245b",
      "metadata": {},
      "outputs": [],
      "source": [
        "process_class(\"NGT - Abnormal\")\n"
      ]
    },
    {
      "cell_type": "code",
      "execution_count": null,
      "id": "2edc446d",
      "metadata": {},
      "outputs": [],
      "source": [
        "process_class(\"NGT - Borderline\")\n"
      ]
    },
    {
      "cell_type": "code",
      "execution_count": null,
      "id": "a728728d",
      "metadata": {},
      "outputs": [],
      "source": [
        "process_class(\"NGT - Incompletely Imaged\")\n"
      ]
    },
    {
      "cell_type": "code",
      "execution_count": null,
      "id": "2aa240cb",
      "metadata": {},
      "outputs": [],
      "source": [
        "def plot_venn2(col_1, col_2):\n",
        "    plt.figure(figsize=(6, 6))\n",
        "    \n",
        "    area_10 = df_train[col_1].sum()\n",
        "    area_01 = df_train[col_2].sum()\n",
        "    area_11 = df_train[(df_train[col_1] == 1) & (df_train[col_2] == 1)].shape[0]\n",
        "\n",
        "    venn2(\n",
        "        subsets=(area_10, area_01, area_11), \n",
        "        set_labels=(col_1, col_2),\n",
        "        alpha=0.5,\n",
        "    )\n"
      ]
    },
    {
      "cell_type": "code",
      "execution_count": null,
      "id": "1d1fa2dc",
      "metadata": {},
      "outputs": [],
      "source": [
        "plot_venn2(\"ETT - Abnormal\", \"NGT - Abnormal\")\n"
      ]
    },
    {
      "cell_type": "code",
      "execution_count": null,
      "id": "a61f81d0",
      "metadata": {},
      "outputs": [],
      "source": [
        "plot_venn2(\"ETT - Abnormal\", \"CVC - Abnormal\")\n"
      ]
    },
    {
      "cell_type": "code",
      "execution_count": null,
      "id": "32ae9fe8",
      "metadata": {},
      "outputs": [],
      "source": [
        "def plot_venn3(col_1, col_2, col_3):\n",
        "    plt.figure(figsize=(6, 6))\n",
        "    \n",
        "    area_100 = df_train[col_1].sum()\n",
        "    area_010 = df_train[col_2].sum()\n",
        "    area_110 = df_train[(df_train[col_1] == 1) & (df_train[col_2] == 1)].shape[0]\n",
        "    area_001 = df_train[col_3].sum()\n",
        "    area_101 = df_train[(df_train[col_1] == 1) & (df_train[col_3] == 1)].shape[0]\n",
        "    area_011 = df_train[(df_train[col_2] == 1) & (df_train[col_3] == 1)].shape[0]\n",
        "    area_111 = df_train[(df_train[col_1] == 1) & (df_train[col_2] == 1) & (df_train[col_3] == 1)].shape[0]\n",
        "\n",
        "#     print(area_100, area_010, area_110, area_001, area_101, area_011, area_111)\n",
        "\n",
        "    venn3(\n",
        "        subsets=(area_100, area_010, area_110, area_001, area_101, area_011, area_111), \n",
        "        set_labels=(col_1, col_2, col_3), \n",
        "        alpha=0.5\n",
        "    );\n"
      ]
    },
    {
      "cell_type": "code",
      "execution_count": null,
      "id": "e8e20b17",
      "metadata": {},
      "outputs": [],
      "source": [
        "plot_venn3(\n",
        "    \"ETT - Abnormal\",\n",
        "    \"NGT - Abnormal\",\n",
        "    \"CVC - Abnormal\",\n",
        ")\n"
      ]
    },
    {
      "cell_type": "code",
      "execution_count": null,
      "id": "f06b9642",
      "metadata": {},
      "outputs": [],
      "source": [
        "plot_venn3(\n",
        "    \"ETT - Normal\",\n",
        "    \"NGT - Normal\",\n",
        "    \"CVC - Normal\",\n",
        ")\n"
      ]
    },
    {
      "cell_type": "code",
      "execution_count": null,
      "id": "5ad40600",
      "metadata": {},
      "outputs": [],
      "source": [
        "plot_venn3(\n",
        "    \"ETT - Borderline\",\n",
        "    \"NGT - Borderline\",\n",
        "    \"CVC - Borderline\",\n",
        ")\n"
      ]
    },
    {
      "cell_type": "code",
      "execution_count": null,
      "id": "91dddacd",
      "metadata": {},
      "outputs": [],
      "source": [
        "df_submission = pd.read_csv(os.path.join(BASE_DIR, \"sample_submission.csv\"), index_col=0)\n",
        "df_submission\n"
      ]
    },
    {
      "cell_type": "code",
      "execution_count": null,
      "id": "3c437adc",
      "metadata": {},
      "outputs": [],
      "source": [
        "df_submission.to_csv(\"submission.csv\")\n"
      ]
    }
  ],
  "metadata": {},
  "nbformat": 4,
  "nbformat_minor": 5
}