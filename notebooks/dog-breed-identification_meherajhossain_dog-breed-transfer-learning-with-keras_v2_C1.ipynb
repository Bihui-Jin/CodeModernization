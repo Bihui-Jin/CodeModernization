{
  "cells": [
    {
      "cell_type": "code",
      "execution_count": null,
      "id": "b5d1cba6",
      "metadata": {},
      "outputs": [],
      "source": [
        "import pandas as pd\n",
        "from pathlib import Path"
      ]
    },
    {
      "cell_type": "code",
      "execution_count": null,
      "id": "d9c21a9b",
      "metadata": {},
      "outputs": [],
      "source": [
        "import tensorflow as tf\n",
        "print(tf.__version__)\n"
      ]
    },
    {
      "cell_type": "code",
      "execution_count": null,
      "id": "366b8657",
      "metadata": {},
      "outputs": [],
      "source": [
        "!pip install livelossplot\n"
      ]
    },
    {
      "cell_type": "code",
      "execution_count": null,
      "id": "43e0db9f",
      "metadata": {},
      "outputs": [],
      "source": [
        "import numpy as np # linear algebra\n",
        "import pandas as pd # data processing, CSV file I/O (e.g. pd.read_csv)\n",
        "import matplotlib.pyplot as plt\n",
        "from tensorflow import keras\n",
        "\n",
        "import cv2\n",
        "import PIL\n",
        "import os\n",
        "from IPython.display import Image, display\n",
        "\n",
        "# Plotly for the interactive viewer (see last section)\n",
        "\n",
        "import plotly.graph_objs as go\n",
        "import plotly.graph_objects as go\n",
        "from sklearn.metrics import cohen_kappa_score\n",
        "from sklearn.model_selection import train_test_split\n",
        "from tensorflow.keras.models import Sequential, Model,load_model\n",
        "from tensorflow.keras.applications import xception\n",
        "from tensorflow.keras.preprocessing.image import ImageDataGenerator,load_img, img_to_array\n",
        "from tensorflow.keras import Input\n",
        "from tensorflow.keras.callbacks import EarlyStopping, LearningRateScheduler \n",
        "from tensorflow.keras.layers import Conv2D, MaxPooling2D, Dense, Dropout, Flatten,BatchNormalization,Activation\n",
        "from tensorflow.keras.layers import GlobalAveragePooling2D\n",
        "from tensorflow.keras.optimizers import Adam, SGD, RMSprop\n",
        "from tensorflow.keras.callbacks import ModelCheckpoint, Callback, EarlyStopping\n",
        "from tensorflow.keras.utils import to_categorical\n",
        "from tensorflow.keras.preprocessing.image import ImageDataGenerator\n",
        "import gc\n",
        "import skimage.io\n",
        "from livelossplot import PlotLossesKeras\n"
      ]
    },
    {
      "cell_type": "code",
      "execution_count": null,
      "id": "11079914",
      "metadata": {},
      "outputs": [],
      "source": [
        "train_dir = '../input/dog-breed-identification/train/'\n",
        "test_dir = '../input/dog-breed-identification/test/'\n",
        "train_labels = pd.read_csv('../input/dog-breed-identification/labels.csv')\n",
        "submission=pd.read_csv('../input/dog-breed-identification/sample_submission.csv')\n"
      ]
    },
    {
      "cell_type": "code",
      "execution_count": null,
      "id": "2f20a4a3",
      "metadata": {},
      "outputs": [],
      "source": [
        "train_size = len(os.listdir(train_dir))\n",
        "test_size = len(os.listdir(test_dir))\n",
        "\n",
        "print(train_size,test_size)\n",
        "print(train_labels.shape)\n",
        "print(submission.shape)\n"
      ]
    },
    {
      "cell_type": "code",
      "execution_count": null,
      "id": "cbff4be5",
      "metadata": {},
      "outputs": [],
      "source": [
        "target, dog_breeds = pd.factorize(train_labels['breed'], sort = True)\n",
        "train_labels['target'] = target\n"
      ]
    },
    {
      "cell_type": "code",
      "execution_count": null,
      "id": "fea8cd7d",
      "metadata": {},
      "outputs": [],
      "source": [
        "display(train_labels.head())\n",
        "display(submission.head())\n"
      ]
    },
    {
      "cell_type": "code",
      "execution_count": null,
      "id": "f04e33fa",
      "metadata": {},
      "outputs": [],
      "source": [
        "train_labels['breed'].value_counts()\n"
      ]
    },
    {
      "cell_type": "code",
      "execution_count": null,
      "id": "124ef9bc",
      "metadata": {},
      "outputs": [],
      "source": [
        "plt.figure(figsize=(13, 6))\n",
        "train_labels['breed'].value_counts().plot(kind='bar')\n",
        "plt.show()\n"
      ]
    },
    {
      "cell_type": "code",
      "execution_count": null,
      "id": "0fce0954",
      "metadata": {},
      "outputs": [],
      "source": [
        "labels=[]\n",
        "data=[]\n",
        "for i in range(train_labels.shape[0]):\n",
        "    data.append(train_dir + train_labels['id'].iloc[i]+'.jpg')\n",
        "    labels.append(train_labels['target'].iloc[i])\n",
        "df=pd.DataFrame(data)\n",
        "df.columns=['images']\n",
        "df['target']=labels\n",
        "print(df.shape)\n",
        "display(df.head())\n",
        "\n",
        "del labels\n",
        "del data\n"
      ]
    },
    {
      "cell_type": "code",
      "execution_count": null,
      "id": "88bbb560",
      "metadata": {},
      "outputs": [],
      "source": [
        "test_data=[]\n",
        "for i in range(submission.shape[0]):\n",
        "    test_data.append(test_dir + submission['id'].iloc[i]+'.jpg')\n",
        "df_test=pd.DataFrame(test_data)\n",
        "df_test.columns=['images']\n",
        "print(df_test.shape)\n",
        "display(df_test.head())\n",
        "\n",
        "del test_data\n"
      ]
    },
    {
      "cell_type": "code",
      "execution_count": null,
      "id": "a9b18cf9",
      "metadata": {},
      "outputs": [],
      "source": [
        "X_train, X_val, y_train, y_val = train_test_split(df['images'],df['target'], stratify = df['target'], test_size=0.2, random_state=1234)\n",
        "\n",
        "train=pd.DataFrame(X_train)\n",
        "train.columns=['images']\n",
        "train['target']=y_train\n",
        "\n",
        "validation=pd.DataFrame(X_val)\n",
        "validation.columns=['images']\n",
        "validation['target']=y_val\n",
        "\n",
        "print(train.shape)\n",
        "display(train.head())\n",
        "print(validation.shape)\n",
        "display(validation.head())\n",
        "\n",
        "del X_train, X_val, y_train, y_val\n"
      ]
    },
    {
      "cell_type": "code",
      "execution_count": null,
      "id": "4bd48287",
      "metadata": {},
      "outputs": [],
      "source": [
        "N_EPOCHS = 50\n",
        "BATCH_SIZE = 32\n",
        "IMG_HEIGHT = 299\n",
        "IMG_WIDTH = 299\n"
      ]
    },
    {
      "cell_type": "code",
      "execution_count": null,
      "id": "2f33c091",
      "metadata": {},
      "outputs": [],
      "source": [
        "train_datagen = ImageDataGenerator(rotation_range=20,\n",
        "    width_shift_range=0.2,\n",
        "    height_shift_range=0.2,horizontal_flip=True, zoom_range=0.2)\n",
        "\n",
        "val_datagen = ImageDataGenerator()\n",
        "\n",
        "train_generator = train_datagen.flow_from_dataframe(\n",
        "    train,\n",
        "    x_col='images',\n",
        "    y_col='target',\n",
        "    target_size=(IMG_HEIGHT, IMG_WIDTH),\n",
        "    batch_size=BATCH_SIZE,\n",
        "    shuffle=True,\n",
        "    class_mode='raw')\n",
        "\n",
        "validation_generator = val_datagen.flow_from_dataframe(\n",
        "    validation,\n",
        "    x_col='images',\n",
        "    y_col='target',\n",
        "    target_size=(IMG_HEIGHT, IMG_WIDTH),\n",
        "    shuffle=False,\n",
        "    batch_size=BATCH_SIZE,\n",
        "    class_mode='raw')\n"
      ]
    },
    {
      "cell_type": "code",
      "execution_count": null,
      "id": "083115f2",
      "metadata": {},
      "outputs": [],
      "source": [
        "base_model = xception.Xception(weights='imagenet', include_top=False, input_shape=(299,299,3)) \n",
        "# display(base_model.summary())\n",
        "\n",
        "# train only the top layers (which were randomly initialized)\n",
        "# i.e. freeze all convolutional Xception layers\n",
        "base_model.trainable = False\n",
        "\n",
        "inputs = Input(shape=(299, 299, 3))\n",
        "x = xception.preprocess_input(inputs) ##  tf.keras.applications.xception.preprocess_input\n",
        "\n",
        "# The base model contains batchnorm layers. We want to keep them in inference mode\n",
        "# when we unfreeze the base model for fine-tuning, so we make sure that the\n",
        "# base_model is running in inference mode here by passing `training=False`.\n",
        "x = base_model(x, training=False)\n",
        "\n",
        "x = GlobalAveragePooling2D()(x)\n",
        "\n",
        "#     adding extra dense layer\n",
        "#     x = Dense(1024, activation='relu')(x)\n",
        "#     x = Dropout(.7)(x)\n",
        "#     x = Dense(512, activation='relu')(x)\n",
        "\n",
        "x = Dropout(.5)(x)\n",
        "outputs = Dense(120, activation='softmax')(x)\n",
        "model = Model(inputs, outputs)\n",
        "\n",
        "display(model.summary())\n"
      ]
    },
    {
      "cell_type": "code",
      "execution_count": null,
      "id": "9d4de26f",
      "metadata": {},
      "outputs": [],
      "source": [
        "optimizer = Adam(learning_rate=0.001)\n",
        "model.compile(loss=\"sparse_categorical_crossentropy\", metrics=['accuracy'], optimizer=optimizer)\n"
      ]
    },
    {
      "cell_type": "code",
      "execution_count": null,
      "id": "a62ac932",
      "metadata": {},
      "outputs": [],
      "source": [
        "n_train_steps = train.shape[0]//BATCH_SIZE\n",
        "n_val_steps=validation.shape[0]//BATCH_SIZE\n",
        "print(\"Number of training and validation steps: {} and {}\".format(n_train_steps, n_val_steps))\n"
      ]
    },
    {
      "cell_type": "code",
      "execution_count": null,
      "id": "3d1da212",
      "metadata": {},
      "outputs": [],
      "source": [
        "EarlyStop_callback = EarlyStopping(min_delta=0.001, patience=10, restore_best_weights=True)\n",
        "\n",
        "# # DECREASE LEARNING RATE EACH EPOCH\n",
        "# annealer = LearningRateScheduler(lambda epoch: 1e-5 * 0.95 ** epoch, verbose=1)\n",
        "\n",
        "# cb=[PlotLossesKeras(), annealer]\n"
      ]
    },
    {
      "cell_type": "code",
      "execution_count": null,
      "id": "ed892a34",
      "metadata": {},
      "outputs": [],
      "source": [
        "model.fit(\n",
        "    train_generator,\n",
        "    epochs=N_EPOCHS,\n",
        "    validation_data=validation_generator,\n",
        "    callbacks=[EarlyStop_callback],\n",
        "#     use_multiprocessing = True,\n",
        "#     workers = 4,\n",
        "#     max_queue_size = 32\n",
        "    )\n"
      ]
    },
    {
      "cell_type": "code",
      "execution_count": null,
      "id": "10cda541",
      "metadata": {},
      "outputs": [],
      "source": [
        "del train_generator, validation_generator\n"
      ]
    },
    {
      "cell_type": "code",
      "execution_count": null,
      "id": "c1ff4213",
      "metadata": {},
      "outputs": [],
      "source": [
        "test_datagen = ImageDataGenerator()\n",
        "\n",
        "test_generator = test_datagen.flow_from_dataframe(\n",
        "    df_test,\n",
        "    x_col='images',\n",
        "    target_size=(IMG_HEIGHT, IMG_WIDTH),\n",
        "    shuffle=False,\n",
        "    batch_size=BATCH_SIZE,\n",
        "    class_mode=None\n",
        ")\n"
      ]
    },
    {
      "cell_type": "code",
      "execution_count": null,
      "id": "0c6fb9dc",
      "metadata": {},
      "outputs": [],
      "source": [
        "predictions = model.predict(\n",
        "    test_generator,\n",
        "    verbose=1         \n",
        ")\n"
      ]
    },
    {
      "cell_type": "code",
      "execution_count": null,
      "id": "cbda70f5",
      "metadata": {},
      "outputs": [],
      "source": [
        "print(predictions.shape)\n",
        "print(predictions)\n"
      ]
    },
    {
      "cell_type": "code",
      "execution_count": null,
      "id": "4c1ad8e1",
      "metadata": {},
      "outputs": [],
      "source": [
        "submission.loc[:, dog_breeds] = predictions\n",
        "submission.head()\n"
      ]
    },
    {
      "cell_type": "code",
      "execution_count": null,
      "id": "9c2b899b",
      "metadata": {},
      "outputs": [],
      "source": [
        "submission.to_csv('submission.csv', index=False)\n"
      ]
    },
    {
      "cell_type": "code",
      "execution_count": null,
      "id": "7b1deed7",
      "metadata": {},
      "outputs": [],
      "source": [
        " \n"
      ]
    }
  ],
  "metadata": {},
  "nbformat": 4,
  "nbformat_minor": 5
}