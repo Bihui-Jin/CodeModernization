{
 "cells": [
  {
   "cell_type": "code",
   "execution_count": null,
   "id": "3c875f05",
   "metadata": {},
   "outputs": [],
   "source": [
    "import pandas as pd\n",
    "from pathlib import Path"
   ]
  },
  {
   "cell_type": "code",
   "execution_count": null,
   "id": "1b4e5667",
   "metadata": {},
   "outputs": [],
   "source": [
    "# imports \n",
    "import numpy as np\n",
    "import pandas as pd \n",
    "import os,random,gc\n",
    "import warnings\n",
    "warnings.filterwarnings(\"ignore\")\n",
    "\n",
    "from sklearn.preprocessing import StandardScaler, MinMaxScaler,MaxAbsScaler,RobustScaler\n",
    "\n",
    "from sklearn import datasets\n",
    "from sklearn.model_selection import train_test_split\n",
    "from sklearn.model_selection import RandomizedSearchCV\n",
    "from scipy.stats import uniform as sp_randFloat\n",
    "from scipy.stats import randint as sp_randInt\n",
    "\n",
    "from catboost import CatBoostRegressor\n",
    "from xgboost import XGBRegressor\n",
    "\n",
    "# variables\n",
    "TRAIN_PATH = \"../input/tabular-playground-series-may-2022/train.csv\"\n",
    "TEST_PATH = \"../input/tabular-playground-series-may-2022/test.csv\"\n",
    "SAMPLE_SUBMISSION_PATH = \"../input/tabular-playground-series-may-2022/sample_submission.csv\"\n",
    "SUBMISSION_PATH = \"submission.csv\"\n",
    "\n",
    "ID = \"id\"\n",
    "TARGET = \"target\"\n",
    "\n",
    "SEED = 2022\n",
    "def seed_everything(seed=SEED):\n",
    "    random.seed(seed)\n",
    "    os.environ['PYTHONHASHSEED'] = str(seed)\n",
    "    np.random.seed(seed)\n",
    "    \n",
    "seed_everything()\n"
   ]
  },
  {
   "cell_type": "code",
   "execution_count": null,
   "id": "cea509c2",
   "metadata": {},
   "outputs": [],
   "source": [
    "def reduce_memory_usage(df, verbose=True):\n",
    "    numerics = [\"int8\", \"int16\", \"int32\", \"int64\", \"float16\", \"float32\", \"float64\"]\n",
    "    start_mem = df.memory_usage().sum() / 1024 ** 2\n",
    "    for col in df.columns:\n",
    "        col_type = df[col].dtypes\n",
    "        if col_type in numerics:\n",
    "            c_min = df[col].min()\n",
    "            c_max = df[col].max()\n",
    "            if str(col_type)[:3] == \"int\":\n",
    "                if c_min > np.iinfo(np.int8).min and c_max < np.iinfo(np.int8).max:\n",
    "                    df[col] = df[col].astype(np.int8)\n",
    "                elif c_min > np.iinfo(np.int16).min and c_max < np.iinfo(np.int16).max:\n",
    "                    df[col] = df[col].astype(np.int16)\n",
    "                elif c_min > np.iinfo(np.int32).min and c_max < np.iinfo(np.int32).max:\n",
    "                    df[col] = df[col].astype(np.int32)\n",
    "                elif c_min > np.iinfo(np.int64).min and c_max < np.iinfo(np.int64).max:\n",
    "                    df[col] = df[col].astype(np.int64)\n",
    "            else:\n",
    "                if (\n",
    "                    c_min > np.finfo(np.float16).min\n",
    "                    and c_max < np.finfo(np.float16).max\n",
    "                ):\n",
    "                    df[col] = df[col].astype(np.float16)\n",
    "                elif (\n",
    "                    c_min > np.finfo(np.float32).min\n",
    "                    and c_max < np.finfo(np.float32).max\n",
    "                ):\n",
    "                    df[col] = df[col].astype(np.float32)\n",
    "                else:\n",
    "                    df[col] = df[col].astype(np.float64)\n",
    "    end_mem = df.memory_usage().sum() / 1024 ** 2\n",
    "    if verbose:\n",
    "        print(\n",
    "            \"Mem. usage decreased to {:.2f} Mb ({:.1f}% reduction)\".format(\n",
    "                end_mem, 100 * (start_mem - end_mem) / start_mem\n",
    "            )\n",
    "        )\n",
    "    return df\n"
   ]
  },
  {
   "cell_type": "code",
   "execution_count": null,
   "id": "22bafb3b",
   "metadata": {},
   "outputs": [],
   "source": [
    "train = pd.read_csv(TRAIN_PATH)\n",
    "test = pd.read_csv(TEST_PATH)\n"
   ]
  },
  {
   "cell_type": "code",
   "execution_count": null,
   "id": "f7b96463",
   "metadata": {},
   "outputs": [],
   "source": [
    "train = reduce_memory_usage(train)\n",
    "train = train.sample(10000)\n",
    "gc.collect()\n",
    "test = reduce_memory_usage(test)\n",
    "gc.collect()\n"
   ]
  },
  {
   "cell_type": "code",
   "execution_count": null,
   "id": "e2e3ca66",
   "metadata": {},
   "outputs": [],
   "source": [
    "train.describe(include=\"O\")\n"
   ]
  },
  {
   "cell_type": "code",
   "execution_count": null,
   "id": "f18035c1",
   "metadata": {},
   "outputs": [],
   "source": [
    "train[\"f_27\"]\n"
   ]
  },
  {
   "cell_type": "code",
   "execution_count": null,
   "id": "105008d6",
   "metadata": {},
   "outputs": [],
   "source": [
    "y = train[TARGET]\n",
    "X = train.drop([ID,TARGET,\"f_27\"],axis=1)\n",
    "X_test = test.drop([ID,\"f_27\"],axis=1)\n"
   ]
  },
  {
   "cell_type": "code",
   "execution_count": null,
   "id": "4fd5b0ed",
   "metadata": {},
   "outputs": [],
   "source": [
    "MODEL_TREE_METHOD = 'gpu_hist'\n",
    "\n",
    "model = XGBRegressor(tree_method=MODEL_TREE_METHOD) \n",
    "model.fit(X, y)\n"
   ]
  },
  {
   "cell_type": "code",
   "execution_count": null,
   "id": "14eaec90",
   "metadata": {},
   "outputs": [],
   "source": [
    "sub = pd.read_csv(SAMPLE_SUBMISSION_PATH)\n",
    "sub[TARGET] =np.round(model.predict(X_test),2)\n",
    "sub.to_csv(SUBMISSION_PATH, index=False)\n",
    "sub.head()\n"
   ]
  }
 ],
 "metadata": {},
 "nbformat": 4,
 "nbformat_minor": 5
}
