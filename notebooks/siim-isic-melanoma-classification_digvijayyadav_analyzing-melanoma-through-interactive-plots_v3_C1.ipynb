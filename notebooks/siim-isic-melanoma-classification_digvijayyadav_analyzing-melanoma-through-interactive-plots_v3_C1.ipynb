{
 "cells": [
  {
   "cell_type": "code",
   "execution_count": null,
   "id": "53f921f1",
   "metadata": {},
   "outputs": [],
   "source": [
    "import pandas as pd\n",
    "from pathlib import Path"
   ]
  },
  {
   "cell_type": "code",
   "execution_count": null,
   "id": "5a830e6e",
   "metadata": {},
   "outputs": [],
   "source": [
    "# This Python 3 environment comes with many helpful analytics libraries installed\n",
    "# It is defined by the kaggle/python Docker image: https://github.com/kaggle/docker-python\n",
    "# For example, here's several helpful packages to load\n",
    "\n",
    "import numpy as np # linear algebra\n",
    "import pandas as pd # data processing, CSV file I/O (e.g. pd.read_csv)\n",
    "\n",
    "# Input data files are available in the read-only \"../input/\" directory\n",
    "# For example, running this (by clicking run or pressing Shift+Enter) will list all files under the input directory\n",
    "import json\n",
    "from PIL import Image\n",
    "import os\n",
    "import plotly.graph_objects as px\n",
    "import matplotlib.pyplot as plt\n",
    "import seaborn as sns\n",
    "sns.set()\n",
    "from plotly.offline import init_notebook_mode\n",
    "from plotly.offline import iplot\n",
    "import tensorflow as tf\n",
    "from tensorflow import keras\n",
    "from tensorflow.keras.models import Sequential\n",
    "from tensorflow.keras.callbacks import EarlyStopping, LambdaCallback\n",
    "from tensorflow.keras.preprocessing.image import ImageDataGenerator\n",
    "from tensorflow.keras.layers import Dense, Conv2D, MaxPooling2D, Dropout, Flatten\n",
    "from tensorflow.keras.applications import DenseNet121\n",
    "\n",
    "import cufflinks as cf\n",
    "cf.go_offline()\n",
    "cf.set_config_file(offline=False, world_readable=True)\n",
    "\n",
    "# You can write up to 5GB to the current directory (/kaggle/working/) that gets preserved as output when you create a version using \"Save & Run All\" \n",
    "# You can also write temporary files to /kaggle/temp/, but they won't be saved outside of the current session\n"
   ]
  },
  {
   "cell_type": "code",
   "execution_count": null,
   "id": "e45c63dd",
   "metadata": {},
   "outputs": [],
   "source": [
    "train_df = pd.read_csv('../input/siim-isic-melanoma-classification/train.csv')\n",
    "test_df = pd.read_csv('../input/siim-isic-melanoma-classification/test.csv')\n",
    "subs_df = pd.read_csv('../input/siim-isic-melanoma-classification/sample_submission.csv')\n",
    "\n",
    "image_path = '../input/siim-isic-melanoma-classification/'\n",
    "\n",
    "print('The size of training data : {}'.format(train_df.shape))\n",
    "print('The size of testing data : {}'.format(test_df.shape))\n"
   ]
  },
  {
   "cell_type": "code",
   "execution_count": null,
   "id": "2b945bfb",
   "metadata": {},
   "outputs": [],
   "source": [
    "train_df.head()\n"
   ]
  },
  {
   "cell_type": "code",
   "execution_count": null,
   "id": "804bec85",
   "metadata": {},
   "outputs": [],
   "source": [
    "plt.figure(figsize = (17,7))\n",
    "percent_missing = train_df.isnull().sum() / (train_df.shape[0])*100\n",
    "percent_missing.iplot(kind = 'bar',color ='blue')\n"
   ]
  },
  {
   "cell_type": "code",
   "execution_count": null,
   "id": "bb555c09",
   "metadata": {},
   "outputs": [],
   "source": [
    "train_df.describe()\n"
   ]
  },
  {
   "cell_type": "code",
   "execution_count": null,
   "id": "9eb401ce",
   "metadata": {},
   "outputs": [],
   "source": [
    "print(\"The total patient ids are {}, from those the unique ids are {}\".format(train_df['patient_id'].count(),train_df['patient_id'].value_counts().shape[0] ))\n"
   ]
  },
  {
   "cell_type": "code",
   "execution_count": null,
   "id": "9bded744",
   "metadata": {},
   "outputs": [],
   "source": [
    "benign_gender = train_df.groupby(['benign_malignant']).count()['sex'].to_frame()\n",
    "benign_gender.head()\n"
   ]
  },
  {
   "cell_type": "code",
   "execution_count": null,
   "id": "f769f42b",
   "metadata": {},
   "outputs": [],
   "source": [
    "feature_list = ['sex','age_approx','anatom_site_general_challenge','benign_malignant'] \n",
    "for i in feature_list: \n",
    "    train_df[i].value_counts(normalize=True).to_frame().iplot(kind='bar',\n",
    "                                                      yTitle='Percentage', \n",
    "                                                      linecolor='black', \n",
    "                                                      opacity=0.7,\n",
    "                                                      color='blue',\n",
    "                                                      theme='pearl',\n",
    "                                                      bargap=0.8,\n",
    "                                                      gridcolor='white',                                                     \n",
    "                                                      title=f'Distribution of {i} in train set.')\n",
    "\n",
    "    test_df[i].value_counts(normalize=True).to_frame().iplot(kind='bar',\n",
    "                                                      yTitle='Percentage', \n",
    "                                                      linecolor='black', \n",
    "                                                      opacity=0.7,\n",
    "                                                      color='green',\n",
    "                                                      theme='pearl',\n",
    "                                                      bargap=0.8,\n",
    "                                                      gridcolor='white',                                                     \n",
    "                                                      title=f'Distribution of {i} in test set.')\n"
   ]
  },
  {
   "cell_type": "code",
   "execution_count": null,
   "id": "108e37c0",
   "metadata": {},
   "outputs": [],
   "source": [
    "subs_df.to_csv('submissions.csv', index = False)\n",
    "print('Successfull!!')\n"
   ]
  },
  {
   "cell_type": "code",
   "execution_count": null,
   "id": "5eb6b7cd",
   "metadata": {},
   "outputs": [],
   "source": [
    " \n"
   ]
  }
 ],
 "metadata": {},
 "nbformat": 4,
 "nbformat_minor": 5
}
