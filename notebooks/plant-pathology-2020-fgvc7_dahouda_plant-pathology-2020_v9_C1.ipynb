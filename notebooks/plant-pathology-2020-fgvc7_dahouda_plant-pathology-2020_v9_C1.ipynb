{
 "cells": [
  {
   "cell_type": "code",
   "execution_count": null,
   "id": "8e97abbd",
   "metadata": {},
   "outputs": [],
   "source": [
    "import pandas as pd\n",
    "from pathlib import Path"
   ]
  },
  {
   "cell_type": "code",
   "execution_count": null,
   "id": "4bece3ae",
   "metadata": {},
   "outputs": [],
   "source": [
    "!pip install -q efficientnet\n"
   ]
  },
  {
   "cell_type": "code",
   "execution_count": null,
   "id": "61846577",
   "metadata": {},
   "outputs": [],
   "source": [
    "import numpy as np\n",
    "import pandas as pd\n",
    "from matplotlib import pyplot as plt\n",
    "from kaggle_datasets import KaggleDatasets\n",
    "import tensorflow as tf\n",
    "import tensorflow.keras.layers as L\n",
    "from sklearn import metrics\n",
    "from sklearn.model_selection import train_test_split\n",
    "\n",
    "\n",
    "from tensorflow.keras.applications.vgg16 import VGG16\n",
    "from tensorflow.keras.applications.vgg19 import VGG19\n",
    "from tensorflow.keras.applications.inception_v3 import InceptionV3\n",
    "from tensorflow.keras.applications.inception_resnet_v2 import InceptionResNetV2\n",
    "from tensorflow.keras.applications.densenet import DenseNet121, DenseNet169, DenseNet201 \n",
    "from tensorflow.keras.applications.xception import Xception\n",
    "from tensorflow.keras.applications.resnet50 import ResNet50\n",
    "from tensorflow.keras.applications.resnet_v2 import ResNet50V2, ResNet101V2, ResNet152V2\n",
    "from tensorflow.keras.applications.nasnet import NASNetLarge\n",
    "from efficientnet.tfkeras import EfficientNetB7, EfficientNetL2\n",
    "\n",
    "\n",
    "\n",
    "from tensorflow.keras.layers import Flatten,Dense,Dropout,BatchNormalization\n",
    "from tensorflow.keras.models import Model,Sequential\n",
    "from tensorflow.keras.utils import to_categorical\n",
    "from tensorflow.keras.layers import Conv2D, MaxPooling2D, BatchNormalization\n",
    "from keras.optimizers import Adam,SGD,Adagrad,Adadelta,RMSprop\n",
    "from tensorflow.keras.callbacks import ReduceLROnPlateau, EarlyStopping, ModelCheckpoint\n"
   ]
  },
  {
   "cell_type": "code",
   "execution_count": null,
   "id": "6d7f7c6d",
   "metadata": {},
   "outputs": [],
   "source": [
    "AUTO = tf.data.experimental.AUTOTUNE\n",
    "\n",
    "try:\n",
    "    tpu = tf.distribute.cluster_resolver.TPUClusterResolver()\n",
    "    \n",
    "    print('Running on TPU ', tpu.master())\n",
    "except ValueError:\n",
    "    tpu = None\n",
    "\n",
    "if tpu:\n",
    "    tf.config.experimental_connect_to_cluster(tpu)\n",
    "    tf.tpu.experimental.initialize_tpu_system(tpu)\n",
    "    strategy = tf.distribute.experimental.TPUStrategy(tpu)\n",
    "else:\n",
    "    strategy = tf.distribute.get_strategy() #\n",
    "\n",
    "print(\"REPLICAS: \", strategy.num_replicas_in_sync)\n",
    "\n",
    "GCS_DS_PATH = KaggleDatasets().get_gcs_path()\n",
    "\n",
    "\n",
    "EPOCHS = 40\n",
    "BATCH_SIZE = 8 * strategy.num_replicas_in_sync\n"
   ]
  },
  {
   "cell_type": "code",
   "execution_count": null,
   "id": "4913d7aa",
   "metadata": {},
   "outputs": [],
   "source": [
    "def format_path(st):\n",
    "    return GCS_DS_PATH + '/images/' + st + '.jpg'\n"
   ]
  },
  {
   "cell_type": "code",
   "execution_count": null,
   "id": "24052cdc",
   "metadata": {},
   "outputs": [],
   "source": [
    "train = pd.read_csv('/kaggle/input/plant-pathology-2020-fgvc7/train.csv')\n",
    "test = pd.read_csv('/kaggle/input/plant-pathology-2020-fgvc7/test.csv')\n",
    "sub = pd.read_csv('/kaggle/input/plant-pathology-2020-fgvc7/sample_submission.csv')\n",
    "\n",
    "train_paths = train.image_id.apply(format_path).values\n",
    "test_paths = test.image_id.apply(format_path).values\n",
    "\n",
    "train_labels = train.loc[:, 'healthy':].values\n",
    "\n",
    "\n",
    "train_paths, valid_paths, train_labels, valid_labels = train_test_split(\n",
    "     train_paths, train_labels, test_size=0.06, random_state=2020)\n",
    "\n",
    "\n",
    "train_paths = train.image_id.apply(format_path).values\n",
    "train_labels = train.loc[:, 'healthy':].values\n"
   ]
  },
  {
   "cell_type": "code",
   "execution_count": null,
   "id": "49379595",
   "metadata": {},
   "outputs": [],
   "source": [
    "f, ax = plt.subplots(3, 6, figsize=(18, 7))\n",
    "ax = ax.flatten()\n",
    "\n",
    "for i in range(18):\n",
    "    img = plt.imread(f'../input/plant-pathology-2020-fgvc7/images/Train_{i}.jpg')\n",
    "    ax[i].set_title(train[train['image_id']==f'Train_{i}'].melt()[train[train['image_id']==f'Train_{i}'].melt().value == 1]['variable'].values[0])\n",
    "    ax[i].imshow(img)\n",
    "print(img.shape)\n"
   ]
  },
  {
   "cell_type": "code",
   "execution_count": null,
   "id": "40237f2e",
   "metadata": {},
   "outputs": [],
   "source": [
    "img_size = 768\n",
    "\n",
    "def decode_image(filename, label=None, image_size=(img_size, img_size)):\n",
    "    bits = tf.io.read_file(filename)\n",
    "    image = tf.image.decode_jpeg(bits, channels=3)\n",
    "    image = tf.cast(image, tf.float32) / 255.0\n",
    "    image = tf.image.resize(image, image_size)\n",
    "    \n",
    "    if label is None:\n",
    "        return image\n",
    "    else:\n",
    "        return image, label\n",
    "\n",
    "def data_augment(image, label=None, seed=2020):\n",
    "    image = tf.image.random_flip_left_right(image, seed=seed)\n",
    "    image = tf.image.random_flip_up_down(image, seed=seed)\n",
    "    \n",
    "    if label is None:\n",
    "        return image\n",
    "    else:\n",
    "        return image, label\n"
   ]
  },
  {
   "cell_type": "code",
   "execution_count": null,
   "id": "c5c25917",
   "metadata": {},
   "outputs": [],
   "source": [
    "train_dataset = (\n",
    "    tf.data.Dataset\n",
    "    .from_tensor_slices((train_paths, train_labels))\n",
    "    .map(decode_image, num_parallel_calls=AUTO)\n",
    "    .map(data_augment, num_parallel_calls=AUTO)\n",
    "    .repeat()\n",
    "    .shuffle(512)\n",
    "    .batch(BATCH_SIZE)\n",
    "    .prefetch(AUTO)\n",
    ")\n",
    "\n",
    "valid_dataset = (\n",
    "     tf.data.Dataset\n",
    "     .from_tensor_slices((valid_paths, valid_labels))\n",
    "     .map(decode_image, num_parallel_calls=AUTO)\n",
    "     .batch(BATCH_SIZE)\n",
    "     .cache()\n",
    "     .prefetch(AUTO)\n",
    " )\n",
    "\n",
    "test_dataset = (\n",
    "    tf.data.Dataset\n",
    "    .from_tensor_slices(test_paths)\n",
    "    .map(decode_image, num_parallel_calls=AUTO)\n",
    "    .batch(BATCH_SIZE)\n",
    ")\n"
   ]
  },
  {
   "cell_type": "code",
   "execution_count": null,
   "id": "d1add028",
   "metadata": {},
   "outputs": [],
   "source": [
    "LR_START = 0.00001\n",
    "LR_MAX = 0.0001 * strategy.num_replicas_in_sync\n",
    "LR_MIN = 0.00001\n",
    "LR_RAMPUP_EPOCHS = 5\n",
    "LR_SUSTAIN_EPOCHS = 0\n",
    "LR_EXP_DECAY = .8\n",
    "\n",
    "def lrfn(epoch):\n",
    "    if epoch < LR_RAMPUP_EPOCHS:\n",
    "        lr = (LR_MAX - LR_START) / LR_RAMPUP_EPOCHS * epoch + LR_START\n",
    "    elif epoch < LR_RAMPUP_EPOCHS + LR_SUSTAIN_EPOCHS:\n",
    "        lr = LR_MAX\n",
    "    else:\n",
    "        lr = (LR_MAX - LR_MIN) * LR_EXP_DECAY**(epoch - LR_RAMPUP_EPOCHS - LR_SUSTAIN_EPOCHS) + LR_MIN\n",
    "    return lr\n",
    "    \n",
    "lr_callback = tf.keras.callbacks.LearningRateScheduler(lrfn, verbose=True)\n",
    "\n",
    "\n",
    "rng = [i for i in range(EPOCHS)]\n",
    "y = [lrfn(x) for x in rng]\n",
    "plt.plot(rng, y)\n",
    "print(\"Learning rate schedule: {:.3g} to {:.3g} to {:.3g}\".format(y[0], max(y), y[-1]))\n"
   ]
  },
  {
   "cell_type": "code",
   "execution_count": null,
   "id": "5cad0f9a",
   "metadata": {},
   "outputs": [],
   "source": [
    "# Here you can replace the EfficientNetB7 architecture with any other of the loaded ones and observe the result\n",
    "# VGG16, VGG19, InceptionV3, InceptionResNetV2, DenseNet121, DenseNet169, DenseNet201, Xception,\n",
    "# ResNet50, ResNet50V2, ResNet101V2, ResNet152V2, NASNetLarge, EfficientNetL2\n",
    "\n",
    "def get_model(use_model):\n",
    "    base_model =  use_model(weights='noisy-student',\n",
    "                                 include_top=False, pooling='avg',\n",
    "                                 input_shape=(img_size, img_size, 3))\n",
    "    x = base_model.output\n",
    "    predictions = Dense(train_labels.shape[1], activation=\"softmax\")(x)\n",
    "    return Model(inputs=base_model.input, outputs=predictions)\n",
    "\n",
    "with strategy.scope():\n",
    "    model = get_model(EfficientNetB7)\n",
    "    \n",
    "model.compile(optimizer='nadam', loss='categorical_crossentropy',metrics=['categorical_accuracy'])\n",
    "model.summary()\n"
   ]
  },
  {
   "cell_type": "code",
   "execution_count": null,
   "id": "c0b488d1",
   "metadata": {},
   "outputs": [],
   "source": [
    "history = model.fit(\n",
    "            train_dataset, \n",
    "            steps_per_epoch=train_labels.shape[0] // BATCH_SIZE,\n",
    "            callbacks=[lr_callback, ModelCheckpoint(filepath='my_ef_net_b7.h5', monitor='val_loss', save_best_only=True)],\n",
    "            validation_data=valid_dataset, epochs=EPOCHS)\n"
   ]
  },
  {
   "cell_type": "code",
   "execution_count": null,
   "id": "5833d572",
   "metadata": {},
   "outputs": [],
   "source": [
    "#plt.plot(history.history['sparse_categorical_accuracy'], \n",
    "plt.plot(history.history['categorical_accuracy'], label='Accuracy on the training set')\n",
    "plt.plot(history.history['val_categorical_accuracy'], label='Accuracy on the test set')\n",
    "plt.xlabel('epoch')\n",
    "plt.ylabel('accuracy')\n",
    "plt.legend()\n",
    "plt.show()\n"
   ]
  },
  {
   "cell_type": "code",
   "execution_count": null,
   "id": "b5d659dd",
   "metadata": {},
   "outputs": [],
   "source": [
    "plt.plot(history.history['loss'], label='losses on the training set')\n",
    "plt.plot(history.history['val_loss'], label='losses on the test set')\n",
    "plt.xlabel('epoch')\n",
    "plt.ylabel('loss')\n",
    "plt.legend()\n",
    "plt.show()\n"
   ]
  },
  {
   "cell_type": "code",
   "execution_count": null,
   "id": "e23700fc",
   "metadata": {},
   "outputs": [],
   "source": [
    "#model.save(name_model)\n",
    "\n",
    "model = tf.keras.models.load_model('my_ef_net_b7.h5')\n"
   ]
  },
  {
   "cell_type": "code",
   "execution_count": null,
   "id": "1d93b168",
   "metadata": {},
   "outputs": [],
   "source": [
    "probs = model.predict(test_dataset, verbose=1)\n",
    "sub.loc[:, 'healthy':] = probs\n",
    "sub.to_csv('submission.csv', index=False)\n",
    "sub.head()\n"
   ]
  }
 ],
 "metadata": {},
 "nbformat": 4,
 "nbformat_minor": 5
}
