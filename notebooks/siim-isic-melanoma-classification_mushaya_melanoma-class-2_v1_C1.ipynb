{
 "cells": [
  {
   "cell_type": "code",
   "execution_count": null,
   "id": "37f80806",
   "metadata": {},
   "outputs": [],
   "source": [
    "import pandas as pd\n",
    "from pathlib import Path"
   ]
  },
  {
   "cell_type": "code",
   "execution_count": null,
   "id": "86d8b103",
   "metadata": {},
   "outputs": [],
   "source": [
    "#loading modules\n",
    "import math, random, os, re, time\n",
    "import numpy as np\n",
    "import pandas as pd\n",
    "import tensorflow as tf\n",
    "import tensorflow.keras.backend as K\n",
    "from tensorflow.keras import layers, Model\n",
    "import matplotlib.pylab as plt\n",
    "from sklearn.model_selection import train_test_split\n",
    "from tensorflow.keras.preprocessing.image import ImageDataGenerator\n",
    "import PIL\n",
    "import gc\n",
    "import cv2\n",
    "import seaborn as sns\n",
    "from kaggle_datasets import KaggleDatasets\n",
    "from tqdm import tqdm\n"
   ]
  },
  {
   "cell_type": "code",
   "execution_count": null,
   "id": "8e168c05",
   "metadata": {},
   "outputs": [],
   "source": [
    "try:\n",
    "    tpu = tf.distribute.cluster_resolver.TPUClusterResolver()  # TPU detection. No parameters necessary if TPU_NAME environment variable is set. On Kaggle this is always the case.\n",
    "    print('Running on TPU ', tpu.master())\n",
    "except ValueError:\n",
    "    tpu = None\n",
    "\n",
    "if tpu:\n",
    "    tf.config.experimental_connect_to_cluster(tpu)\n",
    "    tf.tpu.experimental.initialize_tpu_system(tpu)\n",
    "    strategy = tf.distribute.experimental.TPUStrategy(tpu)\n",
    "else:\n",
    "    strategy = tf.distribute.get_strategy() # default distribution strategy in Tensorflow. Works on CPU and single GPU.\n",
    "\n",
    "\n",
    "AUTO     = tf.data.experimental.AUTOTUNE\n",
    "REPLICAS = strategy.num_replicas_in_sync\n",
    "#REPLICAS = 8\n",
    "print(f'REPLICAS: {REPLICAS}')\n"
   ]
  },
  {
   "cell_type": "code",
   "execution_count": null,
   "id": "d7ced61a",
   "metadata": {},
   "outputs": [],
   "source": [
    "#loading data\n",
    "dirname='../input/siim-isic-melanoma-classification/'\n",
    "train = pd.read_csv(dirname+'train.csv')\n",
    "test = pd.read_csv(dirname + 'test.csv')\n",
    "print(train.head())\n",
    "print(len(train))\n",
    "print(len(test))\n",
    "print(train['target'].value_counts())\n"
   ]
  },
  {
   "cell_type": "code",
   "execution_count": null,
   "id": "bf30604a",
   "metadata": {},
   "outputs": [],
   "source": [
    "sns.countplot(train['target'])\n"
   ]
  },
  {
   "cell_type": "code",
   "execution_count": null,
   "id": "5e3ac6ed",
   "metadata": {},
   "outputs": [],
   "source": [
    "GCS_PATH = KaggleDatasets().get_gcs_path()\n",
    "train_filenames = tf.io.gfile.glob(GCS_PATH + '/tfrecords/train*.tfrec')\n",
    "test_filenames = tf.io.gfile.glob(GCS_PATH + '/tfrecords/test*.tfrec')\n"
   ]
  },
  {
   "cell_type": "code",
   "execution_count": null,
   "id": "bebc27fa",
   "metadata": {},
   "outputs": [],
   "source": [
    "!gsutil ls $GCS_PATH\n"
   ]
  },
  {
   "cell_type": "code",
   "execution_count": null,
   "id": "e23ec915",
   "metadata": {},
   "outputs": [],
   "source": [
    "train_filenames , valid_filenames = train_test_split(train_filenames , test_size=0.2,shuffle=True)\n"
   ]
  },
  {
   "cell_type": "code",
   "execution_count": null,
   "id": "24b6c5d9",
   "metadata": {},
   "outputs": [],
   "source": [
    "BATCH_SIZE = 8 * strategy.num_replicas_in_sync\n",
    "IMAGE_SIZE = [1024,1024]\n",
    "AUTO = tf.data.experimental.AUTOTUNE\n",
    "imSize = 1024\n"
   ]
  },
  {
   "cell_type": "code",
   "execution_count": null,
   "id": "9ae20839",
   "metadata": {},
   "outputs": [],
   "source": [
    "def decode_image(image_data):\n",
    "    image = tf.image.decode_jpeg(image_data, channels=3)\n",
    "    image = tf.cast(image, tf.float32) / 255.0  # convert image to floats in [0, 1] range\n",
    "    image = tf.reshape(image, [*IMAGE_SIZE, 3]) # explicit size needed for TPU\n",
    "    image = tf.image.resize(image, [imSize,imSize])\n",
    "    return image\n",
    "\n",
    "def read_labeled_tfrecord(example):\n",
    "    LABELED_TFREC_FORMAT = {\n",
    "        \"image\": tf.io.FixedLenFeature([], tf.string), # tf.string means bytestring\n",
    "        \"target\": tf.io.FixedLenFeature([], tf.int64),  # shape [] means single element\n",
    "    }\n",
    "    example = tf.io.parse_single_example(example, LABELED_TFREC_FORMAT)\n",
    "    image = decode_image(example['image'])\n",
    "    label = tf.cast(example['target'], tf.int32)\n",
    "    return image, label # returns a dataset of (image, label) pairs\n",
    "\n",
    "def read_unlabeled_tfrecord(example):\n",
    "    UNLABELED_TFREC_FORMAT = {\n",
    "        \"image\": tf.io.FixedLenFeature([], tf.string), # tf.string means bytestring\n",
    "        \"image_name\": tf.io.FixedLenFeature([], tf.string),  # shape [] means single element\n",
    "        # class is missing, this competitions's challenge is to predict flower classes for the test dataset\n",
    "    }\n",
    "    example = tf.io.parse_single_example(example, UNLABELED_TFREC_FORMAT)\n",
    "    image = decode_image(example['image'])\n",
    "    idnum = example['image_name']\n",
    "    return image, idnum # returns a dataset of image(s)\n",
    "\n",
    "def load_dataset(filenames, labeled=True, ordered=False):\n",
    "    # Read from TFRecords. For optimal performance, reading from multiple files at once and\n",
    "    # disregarding data order. Order does not matter since we will be shuffling the data anyway.\n",
    "\n",
    "    ignore_order = tf.data.Options()\n",
    "    if not ordered:\n",
    "        ignore_order.experimental_deterministic = False # disable order, increase speed\n",
    "\n",
    "    dataset = tf.data.TFRecordDataset(filenames, num_parallel_reads=AUTO) # automatically interleaves reads from multiple files\n",
    "    dataset = dataset.with_options(ignore_order) # uses data as soon as it streams in, rather than in its original order\n",
    "    dataset = dataset.map(read_labeled_tfrecord if labeled else read_unlabeled_tfrecord, num_parallel_calls=AUTO)\n",
    "    # returns a dataset of (image, label) pairs if labeled=True or (image, id) pairs if labeled=False\n",
    "    return dataset\n",
    "\n",
    "def data_augment(image, label):\n",
    "    # data augmentation. Thanks to the dataset.prefetch(AUTO) statement in the next function (below),\n",
    "    # this happens essentially for free on TPU. Data pipeline code is executed on the \"CPU\" part\n",
    "    # of the TPU while the TPU itself is computing gradients.\n",
    "    image = tf.image.random_flip_left_right(image)\n",
    "    image = tf.image.random_flip_up_down(image)\n",
    "    image = tf.image.random_saturation(image, 0, 2)\n",
    "    # image = tf.image.random_hue(image,0.15)\n",
    "    return image, label   \n",
    "\n",
    "def get_training_dataset():\n",
    "    dataset = load_dataset(train_filenames, labeled=True)\n",
    "    dataset = dataset.map(data_augment, num_parallel_calls=AUTO)\n",
    "    dataset = dataset.repeat() # the training dataset must repeat for several epochs\n",
    "    dataset = dataset.shuffle(2048)\n",
    "    dataset = dataset.batch(BATCH_SIZE)\n",
    "    dataset = dataset.prefetch(AUTO) # prefetch next batch while training (autotune prefetch buffer size)\n",
    "    return dataset\n",
    "\n",
    "def get_val_dataset():\n",
    "    dataset = load_dataset(valid_filenames, labeled=True)\n",
    "    dataset = dataset.batch(BATCH_SIZE)\n",
    "    dataset = dataset.cache()\n",
    "    dataset = dataset.prefetch(AUTO) # prefetch next batch while training (autotune prefetch buffer size)\n",
    "    return dataset\n",
    "\n",
    "def count_data_items(filenames):\n",
    "    n = [int(re.compile(r\"-([0-9]*)\\.\").search(filename).group(1)) for filename in filenames]\n",
    "    return np.sum(n)\n",
    "\n",
    "NUM_TRAINING_IMAGES = count_data_items(train_filenames)\n",
    "NUM_TEST_IMAGES = count_data_items(valid_filenames)\n",
    "STEPS_PER_EPOCH = NUM_TRAINING_IMAGES // BATCH_SIZE\n",
    "print('Dataset: {} training images, {} labeled validation images'.format(NUM_TRAINING_IMAGES, NUM_TEST_IMAGES))\n"
   ]
  },
  {
   "cell_type": "code",
   "execution_count": null,
   "id": "442a5705",
   "metadata": {},
   "outputs": [],
   "source": [
    "for image, label in get_training_dataset().take(3):\n",
    "    print(image.numpy().shape, label.numpy().shape)\n",
    "print(\"Training data label examples:\", label.numpy())\n",
    "# print(\"Test data shapes:\")\n"
   ]
  },
  {
   "cell_type": "code",
   "execution_count": null,
   "id": "e850c97a",
   "metadata": {},
   "outputs": [],
   "source": [
    "def res_block(X_in, channels):\n",
    "    X = layers.Conv2D(channels, (3,3), strides=(1,1), padding='same' )(X_in)\n",
    "    X = layers.BatchNormalization()(X)\n",
    "    X = layers.LeakyReLU()(X)\n",
    "    \n",
    "    X = layers.Conv2D(channels, (3,3), strides=(1,1), padding='same')(X)\n",
    "    X = layers.BatchNormalization()(X)\n",
    "    X = layers.Add()([X, X_in])\n",
    "    X = layers.LeakyReLU()(X)\n",
    "    \n",
    "    return X\n"
   ]
  },
  {
   "cell_type": "code",
   "execution_count": null,
   "id": "dd8ce3af",
   "metadata": {},
   "outputs": [],
   "source": [
    "#model\n",
    "def my_model():\n",
    "    X_in = layers.Input((1024, 1024, 3))\n",
    "    \n",
    "    X = layers.AveragePooling2D(pool_size=(2, 2), strides=2, name='avg_pool1')(X_in)\n",
    "    \n",
    "    X = layers.Conv2D(64, (3,3), strides=(1,1), padding='same', name='conv1')(X)\n",
    "    X = layers.BatchNormalization()(X)\n",
    "    X = layers.Activation('relu')(X)\n",
    "\n",
    "    X = res_block(X, 64)\n",
    "    \n",
    "    X = layers.MaxPool2D(pool_size=(2, 2), strides=2, name='max_pool1')(X)\n",
    "    X = layers.MaxPool2D(pool_size=(2, 2), strides=2, name='max_pool1.2')(X)\n",
    "\n",
    "    X = layers.Conv2D(128, (3,3), strides=(1,1), padding='same', name='conv2')(X)\n",
    "    X = layers.BatchNormalization()(X)\n",
    "    X = layers.Activation('relu')(X)\n",
    "    \n",
    "    X = res_block(X, 128)\n",
    "    \n",
    "    X = layers.MaxPool2D(pool_size = (2,2), strides=2, name='max_pool2')(X)\n",
    "\n",
    "    X = layers.Conv2D(256, (3,3), strides=(1,1), padding='same', name='conv3')(X)\n",
    "    X = layers.BatchNormalization()(X)\n",
    "    X = layers.Activation('relu')(X)\n",
    "\n",
    "    X = res_block(X, 256)\n",
    "    \n",
    "    X = layers.MaxPool2D(pool_size = (2,2), strides=2, name='max_pool3')(X)\n",
    "\n",
    "    X = res_block(X, 256)\n",
    "    \n",
    "    X = layers.MaxPool2D(pool_size = (2,2), strides=2, name='max_pool4')(X)\n",
    "    \n",
    "    X = res_block(X, 256)\n",
    "    \n",
    "    X = layers.MaxPool2D(pool_size = (2,2), strides=2, name='max_pool5')(X)\n",
    "    \n",
    "    X = layers.Flatten()(X)\n",
    "    X = layers.Dense(4096, activation='relu', name='fc1')(X)\n",
    "    X = layers.Dense(1024, activation='relu', name='fc2')(X)\n",
    "    X_out = layers.Dense(1, activation='sigmoid', name='answer')(X)\n",
    "\n",
    "    model = Model(inputs=X_in, outputs=X_out, name='pinnet')\n",
    "    \n",
    "    return model\n"
   ]
  },
  {
   "cell_type": "code",
   "execution_count": null,
   "id": "6ecedc5f",
   "metadata": {},
   "outputs": [],
   "source": [
    "with strategy.scope():\n",
    "    model = my_model()\n",
    "    model.compile(optimizer='adam', loss='binary_crossentropy', metrics=['accuracy'])\n"
   ]
  },
  {
   "cell_type": "code",
   "execution_count": null,
   "id": "c059fdc3",
   "metadata": {},
   "outputs": [],
   "source": [
    "model.summary()\n"
   ]
  },
  {
   "cell_type": "code",
   "execution_count": null,
   "id": "aa5484dc",
   "metadata": {},
   "outputs": [],
   "source": [
    "from tensorflow.keras.callbacks import ReduceLROnPlateau\n",
    "def callback():\n",
    "    cb = []\n",
    "    reduceLROnPlat = ReduceLROnPlateau(monitor='val_loss',\n",
    "                                   factor=0.3, patience=5,\n",
    "                                   verbose=1, mode='auto',\n",
    "                                   epsilon=0.0001, cooldown=1, min_lr=0.00001)\n",
    "    cb.append(reduceLROnPlat)\n",
    "    return cb\n"
   ]
  },
  {
   "cell_type": "code",
   "execution_count": null,
   "id": "e18de2ca",
   "metadata": {},
   "outputs": [],
   "source": [
    "cb = callback()\n",
    "#train and validate\n",
    "epochs = 10\n",
    "history = model.fit(get_training_dataset(), epochs=epochs, verbose=True, steps_per_epoch=NUM_TRAINING_IMAGES // BATCH_SIZE,\n",
    "                    validation_data = get_val_dataset(), validation_steps =NUM_TEST_IMAGES//BATCH_SIZE, callbacks=cb) # callbacks = cb,\n"
   ]
  },
  {
   "cell_type": "code",
   "execution_count": null,
   "id": "6a13b51a",
   "metadata": {},
   "outputs": [],
   "source": [
    "plt.plot(history.history['accuracy'])\n",
    "plt.plot(history.history['val_accuracy'])\n",
    "plt.title('model accuracy')\n",
    "plt.ylabel('accuracy')\n",
    "plt.xlabel('epoch')\n",
    "plt.legend(['train', 'test'], loc='upper left')\n",
    "plt.show()\n"
   ]
  },
  {
   "cell_type": "code",
   "execution_count": null,
   "id": "fe0971cb",
   "metadata": {},
   "outputs": [],
   "source": [
    "plt.plot(history.history['loss'])\n",
    "plt.plot(history.history['val_loss'])\n",
    "plt.title('model loss')\n",
    "plt.ylabel('loss')\n",
    "plt.xlabel('epoch')\n",
    "plt.legend(['train', 'test'], loc='upper left')\n",
    "plt.show()\n"
   ]
  },
  {
   "cell_type": "code",
   "execution_count": null,
   "id": "8613d140",
   "metadata": {},
   "outputs": [],
   "source": [
    "num_test_images = count_data_items(test_filenames)\n",
    "num_test_images\n"
   ]
  },
  {
   "cell_type": "code",
   "execution_count": null,
   "id": "6265b648",
   "metadata": {},
   "outputs": [],
   "source": [
    "def get_test_dataset(ordered=False):\n",
    "    dataset = load_dataset(test_filenames, labeled=False,ordered=ordered)\n",
    "    dataset = dataset.batch(BATCH_SIZE)\n",
    "    dataset = dataset.prefetch(AUTO) # prefetch next batch while training (autotune prefetch buffer size)\n",
    "    return dataset\n",
    "\n",
    "test_dataset = get_test_dataset(ordered=True)\n"
   ]
  },
  {
   "cell_type": "code",
   "execution_count": null,
   "id": "8196d822",
   "metadata": {},
   "outputs": [],
   "source": [
    "print('Computing predictions...')\n",
    "test_images_ds = test_dataset.map(lambda image, idnum: image)\n",
    "probabilities = model.predict(test_images_ds).flatten()\n",
    "print(probabilities)\n",
    "\n",
    "\n",
    "print('Generating submission.csv file...')\n",
    "test_ids_ds = test_dataset.map(lambda image, idnum: idnum).unbatch()\n",
    "test_ids = next(iter(test_ids_ds.batch(num_test_images))).numpy().astype('U') # all in one batch\n",
    "np.savetxt('submission.csv', np.rec.fromarrays([test_ids, probabilities]), fmt=['%s', '%f'], delimiter=',', header='image_name,target', comments='')\n"
   ]
  },
  {
   "cell_type": "code",
   "execution_count": null,
   "id": "2faf33f7",
   "metadata": {},
   "outputs": [],
   "source": [
    " \n"
   ]
  }
 ],
 "metadata": {},
 "nbformat": 4,
 "nbformat_minor": 5
}
