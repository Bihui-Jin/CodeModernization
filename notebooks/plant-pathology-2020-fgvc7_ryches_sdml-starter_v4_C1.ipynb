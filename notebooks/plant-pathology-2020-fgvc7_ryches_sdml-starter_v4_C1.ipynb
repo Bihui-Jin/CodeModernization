{
 "cells": [
  {
   "cell_type": "code",
   "execution_count": null,
   "id": "5e83fa2a",
   "metadata": {},
   "outputs": [],
   "source": [
    "import pandas as pd\n",
    "from pathlib import Path"
   ]
  },
  {
   "cell_type": "code",
   "execution_count": null,
   "id": "a907aa20",
   "metadata": {},
   "outputs": [],
   "source": [
    "import numpy as np # linear algebra\n",
    "import pandas as pd # data processing, CSV file I/O (e.g. pd.read_csv)\n",
    "\n",
    "import os\n"
   ]
  },
  {
   "cell_type": "code",
   "execution_count": null,
   "id": "ae9858fc",
   "metadata": {},
   "outputs": [],
   "source": [
    "train = pd.read_csv(\"../input/plant-pathology-2020-fgvc7/train.csv\")\n",
    "test = pd.read_csv(\"../input/plant-pathology-2020-fgvc7/test.csv\")\n"
   ]
  },
  {
   "cell_type": "code",
   "execution_count": null,
   "id": "8b7da018",
   "metadata": {},
   "outputs": [],
   "source": [
    "train\n"
   ]
  },
  {
   "cell_type": "code",
   "execution_count": null,
   "id": "946c82a5",
   "metadata": {},
   "outputs": [],
   "source": [
    "test\n"
   ]
  },
  {
   "cell_type": "code",
   "execution_count": null,
   "id": "4f316238",
   "metadata": {},
   "outputs": [],
   "source": [
    "import cv2\n",
    "import matplotlib.pyplot as plt\n"
   ]
  },
  {
   "cell_type": "code",
   "execution_count": null,
   "id": "378e240d",
   "metadata": {},
   "outputs": [],
   "source": [
    "base_path = \"../input/plant-pathology-2020-fgvc7/images/\"\n",
    "def read_img(img_path):\n",
    "    img = cv2.imread(base_path + img_path)\n",
    "    img = cv2.cvtColor(img, cv2.COLOR_BGR2RGB)\n",
    "    return img\n"
   ]
  },
  {
   "cell_type": "code",
   "execution_count": null,
   "id": "6732b942",
   "metadata": {},
   "outputs": [],
   "source": [
    "import tqdm\n",
    "# height = []\n",
    "# width = []\n",
    "# channels = []\n",
    "# for file in tqdm.tqdm(train[\"image_id\"]):\n",
    "#     img = read_img(file + \".jpg\")\n",
    "#     height.append(img.shape[0])\n",
    "#     width.append(img.shape[1])\n",
    "#     channels.append(img.shape[2])\n",
    "\n",
    "# for file in train[\"image_id\"]:\n",
    "#     img = read_img(file + \".jpg\")\n",
    "#     height.append(img.shape[0])\n",
    "#     width.append(img.shape[1])\n",
    "#     channels.append(img.shape[2])\n"
   ]
  },
  {
   "cell_type": "code",
   "execution_count": null,
   "id": "59895333",
   "metadata": {},
   "outputs": [],
   "source": [
    "# train[\"height\"] = height\n",
    "# train[\"width\"] = width\n",
    "# train[\"channels\"] = channels\n"
   ]
  },
  {
   "cell_type": "code",
   "execution_count": null,
   "id": "3afe98fc",
   "metadata": {},
   "outputs": [],
   "source": [
    "# train[\"height\"].hist()\n"
   ]
  },
  {
   "cell_type": "code",
   "execution_count": null,
   "id": "879823c6",
   "metadata": {},
   "outputs": [],
   "source": [
    "# train[\"height\"].value_counts()\n"
   ]
  },
  {
   "cell_type": "code",
   "execution_count": null,
   "id": "12ac8cbc",
   "metadata": {},
   "outputs": [],
   "source": [
    "# train[\"width\"].hist()\n"
   ]
  },
  {
   "cell_type": "code",
   "execution_count": null,
   "id": "2dad6aa5",
   "metadata": {},
   "outputs": [],
   "source": [
    "# train[\"width\"].value_counts()\n"
   ]
  },
  {
   "cell_type": "code",
   "execution_count": null,
   "id": "bcc198d5",
   "metadata": {},
   "outputs": [],
   "source": [
    "# train[\"channels\"].hist()\n"
   ]
  },
  {
   "cell_type": "code",
   "execution_count": null,
   "id": "f34f7928",
   "metadata": {},
   "outputs": [],
   "source": [
    "img_size = 256\n",
    "def resize_to_square(im, img_size = img_size):\n",
    "    old_size = im.shape[:2] # old_size is in (height, width) format\n",
    "    ratio = float(img_size)/max(old_size)\n",
    "    new_size = tuple([int(x*ratio) for x in old_size])\n",
    "    # new_size should be in (width, height) format\n",
    "    im = cv2.resize(im, (new_size[1], new_size[0]), cv2.INTER_NEAREST)\n",
    "    delta_w = img_size - new_size[1]\n",
    "    delta_h = img_size - new_size[0]\n",
    "    top, bottom = delta_h//2, delta_h-(delta_h//2)\n",
    "    left, right = delta_w//2, delta_w-(delta_w//2)\n",
    "    color = [0, 0, 0]\n",
    "    new_im = cv2.copyMakeBorder(im, top, bottom, left, right, cv2.BORDER_CONSTANT,value=color)\n",
    "    return new_im\n"
   ]
  },
  {
   "cell_type": "code",
   "execution_count": null,
   "id": "2d15c029",
   "metadata": {},
   "outputs": [],
   "source": [
    "# del test_imgs\n",
    "train_imgs = np.zeros([train.shape[0], 256, 256, 3])\n",
    "for i, file in enumerate(tqdm.tqdm(train[\"image_id\"])):\n",
    "    img = read_img(file + \".jpg\")\n",
    "    img = resize_to_square(img)\n",
    "    train_imgs[i] = img\n"
   ]
  },
  {
   "cell_type": "code",
   "execution_count": null,
   "id": "67981ff5",
   "metadata": {},
   "outputs": [],
   "source": [
    "from tensorflow import keras\n"
   ]
  },
  {
   "cell_type": "code",
   "execution_count": null,
   "id": "710f42d9",
   "metadata": {},
   "outputs": [],
   "source": [
    "img_input = keras.layers.Input(shape=(256,256,3))\n",
    "hidden1 = keras.layers.Conv2D(8, kernel_size = (3,3), activation=\"relu\")(img_input)\n",
    "hidden1 = keras.layers.MaxPool2D()(hidden1)\n",
    "hidden1 = keras.layers.Conv2D(16, kernel_size = (3,3), activation=\"relu\")(hidden1)\n",
    "hidden1 = keras.layers.MaxPool2D()(hidden1)\n",
    "hidden1 = keras.layers.Conv2D(32, kernel_size = (3,3), activation=\"relu\")(hidden1)\n",
    "hidden1 = keras.layers.MaxPool2D()(hidden1)\n",
    "hidden1 = keras.layers.Conv2D(64, kernel_size = (3,3), activation=\"relu\")(hidden1)\n",
    "hidden1 = keras.layers.MaxPool2D()(hidden1)\n",
    "hidden1 = keras.layers.Conv2D(128, kernel_size = (3,3), activation=\"relu\")(hidden1)\n",
    "hidden1 = keras.layers.MaxPool2D()(hidden1)\n",
    "hidden1 = keras.layers.Conv2D(256, kernel_size = (3,3), activation=\"relu\")(hidden1)\n",
    "hidden1 = keras.layers.GlobalMaxPooling2D()(hidden1)\n",
    "hidden1 = keras.layers.Dense(64)(hidden1)\n",
    "hidden1 = keras.layers.Dense(32)(hidden1)\n",
    "hidden1 = keras.layers.Dropout(.2)(hidden1)\n",
    "output = keras.layers.Dense(4, activation = \"softmax\")(hidden1)\n",
    "model = keras.models.Model(inputs=[img_input], outputs=[output])\n"
   ]
  },
  {
   "cell_type": "code",
   "execution_count": null,
   "id": "03062eed",
   "metadata": {},
   "outputs": [],
   "source": [
    "model.summary()\n"
   ]
  },
  {
   "cell_type": "code",
   "execution_count": null,
   "id": "65021cc6",
   "metadata": {},
   "outputs": [],
   "source": [
    "target_cols = [\"healthy\", \"multiple_diseases\",\"rust\", \"scab\"]\n"
   ]
  },
  {
   "cell_type": "code",
   "execution_count": null,
   "id": "42355c3e",
   "metadata": {},
   "outputs": [],
   "source": [
    "y_train = train[target_cols].values\n"
   ]
  },
  {
   "cell_type": "code",
   "execution_count": null,
   "id": "a4212ee5",
   "metadata": {},
   "outputs": [],
   "source": [
    "train_imgs.shape\n"
   ]
  },
  {
   "cell_type": "code",
   "execution_count": null,
   "id": "99db4e74",
   "metadata": {},
   "outputs": [],
   "source": [
    "model.compile(loss=keras.losses.categorical_crossentropy, optimizer=keras.optimizers.Adam(lr=.001), metrics = [\"accuracy\"])\n",
    "history = model.fit(train_imgs, y_train, epochs=20, batch_size = 128)\n"
   ]
  },
  {
   "cell_type": "code",
   "execution_count": null,
   "id": "867dd2c3",
   "metadata": {},
   "outputs": [],
   "source": [
    "del train_imgs\n",
    "test_imgs = np.zeros([test.shape[0], 256, 256, 3])  \n",
    "for i, file in enumerate(tqdm.tqdm(test[\"image_id\"])):\n",
    "    img = read_img(file + \".jpg\")\n",
    "    img = resize_to_square(img)\n",
    "    test_imgs[i] = img\n"
   ]
  },
  {
   "cell_type": "code",
   "execution_count": null,
   "id": "cac41025",
   "metadata": {},
   "outputs": [],
   "source": [
    "test_preds = model.predict(test_imgs, batch_size = 128, verbose = True)\n"
   ]
  },
  {
   "cell_type": "code",
   "execution_count": null,
   "id": "b68af7de",
   "metadata": {},
   "outputs": [],
   "source": [
    "test_preds.shape\n"
   ]
  },
  {
   "cell_type": "code",
   "execution_count": null,
   "id": "77f64fa3",
   "metadata": {},
   "outputs": [],
   "source": [
    "test[target_cols] = pd.DataFrame(test_preds, columns = target_cols)\n"
   ]
  },
  {
   "cell_type": "code",
   "execution_count": null,
   "id": "3763ea63",
   "metadata": {},
   "outputs": [],
   "source": [
    "test.to_csv(\"submission.csv\", index = False)\n"
   ]
  },
  {
   "cell_type": "code",
   "execution_count": null,
   "id": "07a9849a",
   "metadata": {},
   "outputs": [],
   "source": [
    "test\n"
   ]
  },
  {
   "cell_type": "code",
   "execution_count": null,
   "id": "2bbd00a4",
   "metadata": {},
   "outputs": [],
   "source": [
    "sample_sub = pd.read_csv(\"../input/plant-pathology-2020-fgvc7/sample_submission.csv\")\n"
   ]
  },
  {
   "cell_type": "code",
   "execution_count": null,
   "id": "14541de6",
   "metadata": {},
   "outputs": [],
   "source": [
    "sample_sub\n"
   ]
  },
  {
   "cell_type": "code",
   "execution_count": null,
   "id": "096aa093",
   "metadata": {},
   "outputs": [],
   "source": [
    "for col in target_cols:\n",
    "    print(col)\n",
    "    test[col].hist(bins = 20)\n",
    "    plt.show()\n"
   ]
  },
  {
   "cell_type": "code",
   "execution_count": null,
   "id": "d61af842",
   "metadata": {},
   "outputs": [],
   "source": [
    " \n"
   ]
  }
 ],
 "metadata": {},
 "nbformat": 4,
 "nbformat_minor": 5
}
