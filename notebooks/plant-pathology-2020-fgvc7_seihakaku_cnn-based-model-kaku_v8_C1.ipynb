{
  "cells": [
    {
      "cell_type": "code",
      "execution_count": null,
      "id": "bf609cb3",
      "metadata": {},
      "outputs": [],
      "source": [
        "import pandas as pd\n",
        "from pathlib import Path"
      ]
    },
    {
      "cell_type": "code",
      "execution_count": null,
      "id": "8f505f1a",
      "metadata": {},
      "outputs": [],
      "source": [
        "import numpy as np\n",
        "import pandas as pd\n",
        "import matplotlib.pyplot as plt\n",
        "import tensorflow as tf\n",
        "import plotly.express as px\n",
        "from tensorflow.keras import layers\n",
        "from tensorflow.keras import Sequential\n",
        "\n",
        "import cv2\n"
      ]
    },
    {
      "cell_type": "code",
      "execution_count": null,
      "id": "3f1079f1",
      "metadata": {},
      "outputs": [],
      "source": [
        "train_df = pd.read_csv('../input/plant-pathology-2020-fgvc7/train.csv')\n",
        "test_df = pd.read_csv('../input/plant-pathology-2020-fgvc7/test.csv')\n"
      ]
    },
    {
      "cell_type": "code",
      "execution_count": null,
      "id": "f304bc66",
      "metadata": {},
      "outputs": [],
      "source": [
        "train_df.head()\n"
      ]
    },
    {
      "cell_type": "code",
      "execution_count": null,
      "id": "8dce0f26",
      "metadata": {},
      "outputs": [],
      "source": [
        "train_df['label'] = train_df.apply(lambda x: np.argmax(x[1:]),axis=1)\n"
      ]
    },
    {
      "cell_type": "code",
      "execution_count": null,
      "id": "5e4a0bf8",
      "metadata": {},
      "outputs": [],
      "source": [
        "train_df.head()\n"
      ]
    },
    {
      "cell_type": "code",
      "execution_count": null,
      "id": "732c7eec",
      "metadata": {},
      "outputs": [],
      "source": [
        "from PIL import Image\n",
        "img = Image.open('../input/plant-pathology-2020-fgvc7/images/Train_0.jpg')\n",
        "nparr  = np.asarray(img)\n"
      ]
    },
    {
      "cell_type": "code",
      "execution_count": null,
      "id": "e0469571",
      "metadata": {},
      "outputs": [],
      "source": [
        "nparr.shape\n"
      ]
    },
    {
      "cell_type": "code",
      "execution_count": null,
      "id": "b248ba35",
      "metadata": {},
      "outputs": [],
      "source": [
        "import os\n",
        "label_encode = {0:\"healthy\",1:\"multiple_diseases\",2:\"rust\",3:\"scab\"}\n"
      ]
    },
    {
      "cell_type": "code",
      "execution_count": null,
      "id": "5d1e1b40",
      "metadata": {},
      "outputs": [],
      "source": [
        "train_df.shape\n"
      ]
    },
    {
      "cell_type": "code",
      "execution_count": null,
      "id": "f46dfba5",
      "metadata": {},
      "outputs": [],
      "source": [
        "train_df.iloc[0]['image_id']\n"
      ]
    },
    {
      "cell_type": "code",
      "execution_count": null,
      "id": "a63b5d2b",
      "metadata": {},
      "outputs": [],
      "source": [
        "from sklearn.model_selection import train_test_split\n",
        "\n",
        "train_df,validate_df = train_test_split(train_df,test_size=0.2)\n"
      ]
    },
    {
      "cell_type": "code",
      "execution_count": null,
      "id": "9107d77f",
      "metadata": {},
      "outputs": [],
      "source": [
        "train_df.shape\n"
      ]
    },
    {
      "cell_type": "code",
      "execution_count": null,
      "id": "754f1014",
      "metadata": {},
      "outputs": [],
      "source": [
        "validate_df.shape\n"
      ]
    },
    {
      "cell_type": "code",
      "execution_count": null,
      "id": "0d706a68",
      "metadata": {},
      "outputs": [],
      "source": [
        "test_df.shape\n"
      ]
    },
    {
      "cell_type": "code",
      "execution_count": null,
      "id": "e23b7436",
      "metadata": {},
      "outputs": [],
      "source": [
        "new_img_size = (224,224)\n"
      ]
    },
    {
      "cell_type": "code",
      "execution_count": null,
      "id": "34c89a1c",
      "metadata": {},
      "outputs": [],
      "source": [
        "img = Image.open(f'../input/plant-pathology-2020-fgvc7/images/{train_df.iloc[0][\"image_id\"]}.jpg')\n",
        "img=img.resize(new_img_size)\n",
        "images_train = np.array([np.asarray(img)])\n",
        "\n",
        "for i in range(1,train_df.shape[0]):\n",
        "    img = Image.open(f'../input/plant-pathology-2020-fgvc7/images/{train_df.iloc[i][\"image_id\"]}.jpg')\n",
        "    img = img.resize(new_img_size)\n",
        "    images_train = np.concatenate((images_train,np.array([np.asarray(img)])),axis=0)\n"
      ]
    },
    {
      "cell_type": "code",
      "execution_count": null,
      "id": "d57f9a53",
      "metadata": {},
      "outputs": [],
      "source": [
        "img = Image.open(f'../input/plant-pathology-2020-fgvc7/images/{validate_df.iloc[0][\"image_id\"]}.jpg')\n",
        "img=img.resize(new_img_size)\n",
        "images_validate = np.array([np.asarray(img)])\n",
        "for i in range(1,validate_df.shape[0]):\n",
        "    img = Image.open(f'../input/plant-pathology-2020-fgvc7/images/{validate_df.iloc[i][\"image_id\"]}.jpg')\n",
        "    img = img.resize(new_img_size)\n",
        "    images_validate = np.concatenate((images_validate,np.array([np.asarray(img)])),axis=0)\n"
      ]
    },
    {
      "cell_type": "code",
      "execution_count": null,
      "id": "35d4da9d",
      "metadata": {},
      "outputs": [],
      "source": [
        "img = Image.open(f'../input/plant-pathology-2020-fgvc7/images/{test_df.iloc[0][\"image_id\"]}.jpg')\n",
        "img=img.resize(new_img_size)\n",
        "images_test = np.array([np.asarray(img)])\n",
        "for i in range(1,test_df.shape[0]):\n",
        "    img = Image.open(f'../input/plant-pathology-2020-fgvc7/images/{test_df.iloc[i][\"image_id\"]}.jpg')\n",
        "    img = img.resize(new_img_size)\n",
        "    images_test = np.concatenate((images_test,np.array([np.asarray(img)])),axis=0)\n"
      ]
    },
    {
      "cell_type": "code",
      "execution_count": null,
      "id": "bda6b50c",
      "metadata": {},
      "outputs": [],
      "source": [
        "print(\"Training set is of shape : \",images_train.shape)\n",
        "print(\"Validation set is of shape : \",images_validate.shape)\n",
        "print(\"Test set is of shape : \",images_test.shape)\n"
      ]
    },
    {
      "cell_type": "code",
      "execution_count": null,
      "id": "960474aa",
      "metadata": {},
      "outputs": [],
      "source": [
        "leaf_fig = px.imshow(cv2.resize(images_train[42], (300, 200))) #サイズを調整した上でcv2を使って読み込み\n",
        "leaf_fig.show()\n"
      ]
    },
    {
      "cell_type": "code",
      "execution_count": null,
      "id": "03858785",
      "metadata": {},
      "outputs": [],
      "source": [
        "## エッジ検出の関数\n",
        "def edge_and_cut(img):\n",
        "    emb_img = img.copy()\n",
        "    edges = cv2.Canny(img, 100, 200)\n",
        "    edge_coors = []\n",
        "    for i in range(edges.shape[0]):\n",
        "        for j in range(edges.shape[1]):\n",
        "            if edges[i][j] != 0:\n",
        "                edge_coors.append((i, j))\n",
        "    \n",
        "    row_min = edge_coors[np.argsort([coor[0] for coor in edge_coors])[0]][0]\n",
        "    row_max = edge_coors[np.argsort([coor[0] for coor in edge_coors])[-1]][0]\n",
        "    col_min = edge_coors[np.argsort([coor[1] for coor in edge_coors])[0]][1]\n",
        "    col_max = edge_coors[np.argsort([coor[1] for coor in edge_coors])[-1]][1]\n",
        "    new_img = img[row_min:row_max, col_min:col_max]\n",
        "    \n",
        "    emb_img[row_min-10:row_min+10, col_min:col_max] = [255, 0, 0]\n",
        "    emb_img[row_max-10:row_max+10, col_min:col_max] = [255, 0, 0]\n",
        "    emb_img[row_min:row_max, col_min-10:col_min+10] = [255, 0, 0]\n",
        "    emb_img[row_min:row_max, col_max-10:col_max+10] = [255, 0, 0]\n",
        "    \n",
        "    fig, ax = plt.subplots(nrows=1, ncols=3, figsize=(30, 20))\n",
        "    ax[0].imshow(img, cmap='gray')\n",
        "    ax[0].set_title('original', fontsize=24)\n",
        "    ax[1].imshow(edges, cmap='gray')\n",
        "    ax[1].set_title('canny edge', fontsize=24)\n",
        "    ax[2].imshow(emb_img, cmap='gray')\n",
        "    ax[2].set_title('trimming', fontsize=24)\n",
        "    plt.show()\n"
      ]
    },
    {
      "cell_type": "code",
      "execution_count": null,
      "id": "452e1912",
      "metadata": {},
      "outputs": [],
      "source": [
        "edge_and_cut(images_train[42])\n",
        "edge_and_cut(images_train[25])\n",
        "edge_and_cut(images_train[31])\n"
      ]
    },
    {
      "cell_type": "code",
      "execution_count": null,
      "id": "60315985",
      "metadata": {},
      "outputs": [],
      "source": [
        "leaf_fig = px.imshow(cv2.resize(images_train[42], (200, 200))) #サイズを調整した上でcv2を使って読み込み\n",
        "leaf_fig.show()\n"
      ]
    },
    {
      "cell_type": "code",
      "execution_count": null,
      "id": "671201e0",
      "metadata": {},
      "outputs": [],
      "source": [
        "def invert(img):\n",
        "    fig, ax = plt.subplots(nrows=1, ncols=3, figsize=(30, 20))\n",
        "    ax[0].imshow(img)\n",
        "    ax[0].set_title('original', fontsize=24)\n",
        "    ax[1].imshow(cv2.flip(img, 0))\n",
        "    ax[1].set_title('upside down', fontsize=24)\n",
        "    ax[2].imshow(cv2.flip(img, 1))\n",
        "    ax[2].set_title('horizontal flip', fontsize=24)\n",
        "    plt.show()\n"
      ]
    },
    {
      "cell_type": "code",
      "execution_count": null,
      "id": "b5c01f11",
      "metadata": {},
      "outputs": [],
      "source": [
        "invert(images_train[42])\n",
        "invert(images_train[25])\n",
        "invert(images_train[31])\n"
      ]
    },
    {
      "cell_type": "code",
      "execution_count": null,
      "id": "abc00c7d",
      "metadata": {},
      "outputs": [],
      "source": [
        "def conv(img):\n",
        "    fig, ax = plt.subplots(nrows=1, ncols=2, figsize=(20, 20))\n",
        "    kernel = np.ones((7, 7), np.float32)/25\n",
        "    conv = cv2.filter2D(img, -1, kernel)\n",
        "    ax[0].imshow(img)\n",
        "    ax[0].set_title('original', fontsize=24)\n",
        "    ax[1].imshow(conv)\n",
        "    ax[1].set_title('convolved', fontsize=24)\n",
        "    plt.show()\n"
      ]
    },
    {
      "cell_type": "code",
      "execution_count": null,
      "id": "ccbf7728",
      "metadata": {},
      "outputs": [],
      "source": [
        "conv(images_train[42])\n",
        "conv(images_train[25])\n",
        "conv(images_train[31])\n"
      ]
    },
    {
      "cell_type": "code",
      "execution_count": null,
      "id": "765bcfd0",
      "metadata": {},
      "outputs": [],
      "source": [
        "def blur(img):\n",
        "    fig, ax = plt.subplots(nrows=1, ncols=2, figsize=(20, 20))\n",
        "    ax[0].imshow(img)\n",
        "    ax[0].set_title('original', fontsize=24)\n",
        "    ax[1].imshow(cv2.blur(img, (100, 100)))\n",
        "    ax[1].set_title('blurred', fontsize=24)\n",
        "    plt.show()\n"
      ]
    },
    {
      "cell_type": "code",
      "execution_count": null,
      "id": "934f930c",
      "metadata": {},
      "outputs": [],
      "source": [
        "blur(images_train[42])\n",
        "blur(images_train[25])\n",
        "blur(images_train[31])\n"
      ]
    },
    {
      "cell_type": "code",
      "execution_count": null,
      "id": "8497ef59",
      "metadata": {},
      "outputs": [],
      "source": [
        "model = Sequential([\n",
        "    layers.Rescaling(1./255.,input_shape=(224,224,3)),\n",
        "    layers.Conv2D(8,(3,3),activation='relu'),\n",
        "    layers.MaxPooling2D(2,2),\n",
        "    layers.Dropout(0.2),\n",
        "    layers.Conv2D(16,(3,3),activation='relu'),\n",
        "    layers.MaxPooling2D(2,2),\n",
        "    layers.Dropout(0.2),\n",
        "    layers.Conv2D(32,(3,3),activation='relu'),\n",
        "    layers.MaxPooling2D(2,2),\n",
        "    layers.Dropout(0.2),\n",
        "    layers.Flatten(),\n",
        "    layers.Dense(256,activation='relu'),\n",
        "    layers.Dense(64,activation='relu'),\n",
        "    layers.Dense(4,activation='softmax'),   \n",
        "])\n",
        "model.build()\n"
      ]
    },
    {
      "cell_type": "code",
      "execution_count": null,
      "id": "08d3efb9",
      "metadata": {},
      "outputs": [],
      "source": [
        "model.compile(\n",
        "    optimizer='adam',\n",
        "    loss = tf.losses.SparseCategoricalCrossentropy(),\n",
        "    metrics=['accuracy']\n",
        ")\n"
      ]
    },
    {
      "cell_type": "code",
      "execution_count": null,
      "id": "188440a3",
      "metadata": {},
      "outputs": [],
      "source": [
        "batch_size = 32\n",
        "epochs = 15\n",
        "\n",
        "model.fit(\n",
        "    images_train,\n",
        "    train_df['label'],\n",
        "    batch_size=batch_size,\n",
        "    epochs=epochs,\n",
        "    validation_data=(images_validate,validate_df['label'])\n",
        ")\n"
      ]
    },
    {
      "cell_type": "code",
      "execution_count": null,
      "id": "7dc08aa2",
      "metadata": {},
      "outputs": [],
      "source": [
        "data_augmentaion = Sequential([\n",
        "    layers.RandomRotation(factor=(-0.2,0.2),seed = 123),\n",
        "    layers.RandomZoom(0.1),\n",
        "])\n"
      ]
    },
    {
      "cell_type": "code",
      "execution_count": null,
      "id": "1d32e834",
      "metadata": {},
      "outputs": [],
      "source": [
        "model = Sequential([\n",
        "    layers.Rescaling(1./255.,input_shape=(224,224,3)),\n",
        "    data_augmentaion,\n",
        "    layers.Conv2D(8,(3,3),activation='relu'),\n",
        "    layers.MaxPooling2D(2,2),\n",
        "    layers.Dropout(0.2),\n",
        "    layers.Conv2D(16,(3,3),activation='relu'),\n",
        "    layers.MaxPooling2D(2,2),\n",
        "    layers.Dropout(0.2),\n",
        "    layers.Conv2D(32,(3,3),activation='relu'),\n",
        "    layers.MaxPooling2D(2,2),\n",
        "    layers.Dropout(0.4),\n",
        "    layers.Flatten(),\n",
        "    layers.Dense(256,activation='relu'),\n",
        "    layers.Dense(64,activation='relu'),\n",
        "    layers.Dense(4,activation='softmax'),   \n",
        "])\n",
        "model.build()\n"
      ]
    },
    {
      "cell_type": "code",
      "execution_count": null,
      "id": "28c60bb0",
      "metadata": {},
      "outputs": [],
      "source": [
        "model.compile(\n",
        "    optimizer='adam',\n",
        "    loss = tf.losses.SparseCategoricalCrossentropy(),\n",
        "    metrics=['accuracy']\n",
        ")\n",
        "\n",
        "batch_size = 32\n",
        "epochs = 15\n",
        "\n",
        "history = model.fit(\n",
        "    images_train,\n",
        "    train_df['label'],\n",
        "    batch_size=batch_size,\n",
        "    epochs=epochs,\n",
        "    validation_data=(images_validate,validate_df['label'])\n",
        ")\n"
      ]
    },
    {
      "cell_type": "code",
      "execution_count": null,
      "id": "b87c26e0",
      "metadata": {},
      "outputs": [],
      "source": [
        "train_acc = history.history['accuracy']\n",
        "validate_acc = history.history['val_accuracy']\n",
        "epoch_ = range(1,epochs+1)\n",
        "\n",
        "plt.plot(epoch_,train_acc,'r',label='Training')\n",
        "plt.plot(epoch_,validate_acc,'b',label='Validation')\n",
        "plt.legend()\n",
        "plt.show()\n"
      ]
    },
    {
      "cell_type": "code",
      "execution_count": null,
      "id": "59139646",
      "metadata": {},
      "outputs": [],
      "source": [
        "predictions = model.predict(images_test)\n"
      ]
    },
    {
      "cell_type": "code",
      "execution_count": null,
      "id": "299efa19",
      "metadata": {},
      "outputs": [],
      "source": [
        "predictions.shape\n"
      ]
    },
    {
      "cell_type": "code",
      "execution_count": null,
      "id": "118bbc2e",
      "metadata": {},
      "outputs": [],
      "source": [
        "predictions_df = pd.DataFrame(np.round(predictions,2))\n",
        "submission_df = pd.concat([test_df,predictions_df],axis=1)\n"
      ]
    },
    {
      "cell_type": "code",
      "execution_count": null,
      "id": "0d3b388d",
      "metadata": {},
      "outputs": [],
      "source": [
        "submission_df.head()\n"
      ]
    },
    {
      "cell_type": "code",
      "execution_count": null,
      "id": "bd8e0da5",
      "metadata": {},
      "outputs": [],
      "source": [
        "submission_df.rename(columns={k:label_encode[k] for k in range(0,4)}).to_csv(\"submission.csv\",index=False)\n"
      ]
    }
  ],
  "metadata": {},
  "nbformat": 4,
  "nbformat_minor": 5
}