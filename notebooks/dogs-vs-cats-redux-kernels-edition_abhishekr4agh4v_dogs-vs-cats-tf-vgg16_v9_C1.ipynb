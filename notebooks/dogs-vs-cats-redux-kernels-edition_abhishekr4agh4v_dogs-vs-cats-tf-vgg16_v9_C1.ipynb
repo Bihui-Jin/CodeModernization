{
 "cells": [
  {
   "cell_type": "code",
   "execution_count": null,
   "id": "85b5bb95",
   "metadata": {},
   "outputs": [],
   "source": [
    "import pandas as pd\n",
    "from pathlib import Path"
   ]
  },
  {
   "cell_type": "code",
   "execution_count": null,
   "id": "5ed01737",
   "metadata": {},
   "outputs": [],
   "source": [
    "# This Python 3 environment comes with many helpful analytics libraries installed\n",
    "# It is defined by the kaggle/python Docker image: https://github.com/kaggle/docker-python\n",
    "# For example, here's several helpful packages to load\n",
    "\n",
    "import numpy as np # linear algebra\n",
    "import pandas as pd # data processing, CSV file I/O (e.g. pd.read_csv)\n",
    "\n",
    "# Input data files are available in the read-only \"../input/\" directory\n",
    "# For example, running this (by clicking run or pressing Shift+Enter) will list all files under the input directory\n",
    "\n",
    "import os\n",
    "for dirname, _, filenames in os.walk('/kaggle/input'):\n",
    "    for filename in filenames:\n",
    "        print(os.path.join(dirname, filename))\n",
    "\n",
    "# You can write up to 20GB to the current directory (/kaggle/working/) that gets preserved as output when you create a version using \"Save & Run All\" \n",
    "# You can also write temporary files to /kaggle/temp/, but they won't be saved outside of the current session\n"
   ]
  },
  {
   "cell_type": "code",
   "execution_count": null,
   "id": "03bdb731",
   "metadata": {},
   "outputs": [],
   "source": [
    "import tensorflow as tf\n",
    "import cv2\n",
    "import matplotlib.pyplot as plt \n",
    "import os\n"
   ]
  },
  {
   "cell_type": "code",
   "execution_count": null,
   "id": "fc21bcc9",
   "metadata": {},
   "outputs": [],
   "source": [
    "! unzip -q /kaggle/input/dogs-vs-cats-redux-kernels-edition/train.zip\n"
   ]
  },
  {
   "cell_type": "code",
   "execution_count": null,
   "id": "a5bff9ca",
   "metadata": {},
   "outputs": [],
   "source": [
    "! unzip -q /kaggle/input/dogs-vs-cats-redux-kernels-edition/test.zip\n"
   ]
  },
  {
   "cell_type": "code",
   "execution_count": null,
   "id": "fa76e7fb",
   "metadata": {},
   "outputs": [],
   "source": [
    "datasets_train = os.listdir('train')\n",
    "datasets_test = os.listdir('test')\n"
   ]
  },
  {
   "cell_type": "code",
   "execution_count": null,
   "id": "132cfd3c",
   "metadata": {},
   "outputs": [],
   "source": [
    "datasets_train[0:10]  # data are images with this name  ok\n",
    "datasets_test[0:5]\n"
   ]
  },
  {
   "cell_type": "code",
   "execution_count": null,
   "id": "e2aa4be8",
   "metadata": {},
   "outputs": [],
   "source": [
    "labels = [] \n",
    "for imagename in datasets_train:\n",
    "    if 'dog' in  imagename:\n",
    "        labels.append('dog')\n",
    "    elif 'cat' in imagename:\n",
    "        labels.append('cat')\n"
   ]
  },
  {
   "cell_type": "code",
   "execution_count": null,
   "id": "f8dc40b9",
   "metadata": {},
   "outputs": [],
   "source": [
    "#preparing a dataframe of images and their labels\n",
    "dfx = pd.DataFrame()\n",
    "dfx['imagename']= datasets_train\n",
    "dfx['labels']= labels\n",
    "dftest = pd.DataFrame()\n",
    "dftest['image'] = datasets_test\n"
   ]
  },
  {
   "cell_type": "code",
   "execution_count": null,
   "id": "641bc450",
   "metadata": {},
   "outputs": [],
   "source": [
    "dftest.head()\n",
    "dfx.head()\n"
   ]
  },
  {
   "cell_type": "code",
   "execution_count": null,
   "id": "5348f05b",
   "metadata": {},
   "outputs": [],
   "source": [
    "def show_image(imageadd):\n",
    "    image = cv2.imread(imageadd)\n",
    "    image = cv2.cvtColor(image, cv2.COLOR_BGR2RGB)\n",
    "    plt.title('imagename')\n",
    "    plt.imshow(image)\n",
    "show_image('/kaggle/working/train/'+ dfx.imagename[0])\n"
   ]
  },
  {
   "cell_type": "code",
   "execution_count": null,
   "id": "d99748f2",
   "metadata": {},
   "outputs": [],
   "source": [
    "plt.figure(figsize=(20,20))\n",
    "for i in range(10):\n",
    "    image = cv2.imread('/kaggle/working/train/'+ dfx.loc[i,'imagename'])\n",
    "    image = cv2.cvtColor(image, cv2.COLOR_BGR2RGB)\n",
    "    \n",
    "    plt.subplot(2,5,i+1)\n",
    "    plt.title(dfx.loc[i,'imagename'])\n",
    "    plt.imshow(image)\n"
   ]
  },
  {
   "cell_type": "code",
   "execution_count": null,
   "id": "c24a3a02",
   "metadata": {},
   "outputs": [],
   "source": [
    "#checking balance data\n",
    "dfx.describe()\n",
    "dfx.value_counts('labels')\n",
    "dfx.duplicated('imagename').sum()\n"
   ]
  },
  {
   "cell_type": "code",
   "execution_count": null,
   "id": "a6b79c34",
   "metadata": {},
   "outputs": [],
   "source": [
    "images = []\n",
    "for imagename in os.listdir('train'):\n",
    "    \n",
    "    image = cv2.imread('/kaggle/working/train/'+ imagename)\n",
    "    image = cv2.cvtColor(image, cv2.COLOR_BGR2RGB)\n",
    "    images.append(image)\n",
    "    \n"
   ]
  },
  {
   "cell_type": "code",
   "execution_count": null,
   "id": "95a060b7",
   "metadata": {},
   "outputs": [],
   "source": [
    "len(images)\n"
   ]
  },
  {
   "cell_type": "code",
   "execution_count": null,
   "id": "560a7d24",
   "metadata": {},
   "outputs": [],
   "source": [
    "x = np.array(images)\n",
    "listshape=[]\n",
    "\n",
    "for i in range(len(x)):\n",
    "    listshape.append(x[i].shape)\n",
    "shapearray = np.array(listshape)\n",
    "shapearray[0:5]\n"
   ]
  },
  {
   "cell_type": "code",
   "execution_count": null,
   "id": "8a48592b",
   "metadata": {},
   "outputs": [],
   "source": [
    "#mean pixel value od all images\n",
    "shapearray.mean(axis=0)\n"
   ]
  },
  {
   "cell_type": "code",
   "execution_count": null,
   "id": "f2650613",
   "metadata": {},
   "outputs": [],
   "source": [
    "#checking if all images are 3 layer rbg\n",
    "count = 0\n",
    "for i in range(len(shapearray)):\n",
    "    if shapearray[i,2] !=3:\n",
    "        count = count+1\n",
    "count\n"
   ]
  },
  {
   "cell_type": "code",
   "execution_count": null,
   "id": "868b8e59",
   "metadata": {},
   "outputs": [],
   "source": [
    "idg = tf.keras.preprocessing.image.ImageDataGenerator(horizontal_flip=True,\n",
    "#                                                       validation_split= 0.1,#\n",
    "                                                       preprocessing_function=tf.keras.applications.vgg16.preprocess_input ,\n",
    "                                                      width_shift_range=0.1,\n",
    "                                                      height_shift_range=0.1,\n",
    "                                                      zoom_range=0.2,\n",
    "                                                      rotation_range=25,\n",
    "                                                     )\n"
   ]
  },
  {
   "cell_type": "code",
   "execution_count": null,
   "id": "9ab22270",
   "metadata": {},
   "outputs": [],
   "source": [
    "os.mkdir('viewaugimages')\n"
   ]
  },
  {
   "cell_type": "code",
   "execution_count": null,
   "id": "f9951e10",
   "metadata": {},
   "outputs": [],
   "source": [
    "dfx.imagename[8]\n"
   ]
  },
  {
   "cell_type": "code",
   "execution_count": null,
   "id": "51ac8df8",
   "metadata": {},
   "outputs": [],
   "source": [
    "image = dfx.imagename[8]\n",
    "image = cv2.imread('/kaggle/working/train/'+ image)\n",
    "image = cv2.cvtColor(image, cv2.COLOR_BGR2RGB)\n",
    "image2 = np.expand_dims(image,axis=0)\n",
    "image2.shape\n"
   ]
  },
  {
   "cell_type": "code",
   "execution_count": null,
   "id": "12e7d360",
   "metadata": {},
   "outputs": [],
   "source": [
    "#checking images augmented by idg\n",
    "i=0\n",
    "for _ in idg.flow(image2,save_to_dir='viewaugimages'):\n",
    "    i=i+1\n",
    "    if i >24:\n",
    "        break\n"
   ]
  },
  {
   "cell_type": "code",
   "execution_count": null,
   "id": "8a464f57",
   "metadata": {},
   "outputs": [],
   "source": [
    "auglist=[]\n",
    "for imagename in os.listdir('viewaugimages'):\n",
    "    image = cv2.imread('viewaugimages/'+ imagename)\n",
    "    image = cv2.cvtColor(image, cv2.COLOR_BGR2RGB)\n",
    "    auglist.append(image)\n"
   ]
  },
  {
   "cell_type": "code",
   "execution_count": null,
   "id": "3f8a8c73",
   "metadata": {},
   "outputs": [],
   "source": [
    "len(auglist)\n"
   ]
  },
  {
   "cell_type": "code",
   "execution_count": null,
   "id": "9ff36ae4",
   "metadata": {},
   "outputs": [],
   "source": [
    "plt.figure(figsize= (20,20))\n",
    "for i in range(25):\n",
    "    image = auglist[i]\n",
    "    #image = cv2.cvtColor(image, cv2.COLOR_BGR2RGB)\n",
    "    plt.subplot(5,5,i+1)\n",
    "    plt.imshow(image)\n",
    "    \n"
   ]
  },
  {
   "cell_type": "code",
   "execution_count": null,
   "id": "e104bc2c",
   "metadata": {},
   "outputs": [],
   "source": [
    "bs = 32\n"
   ]
  },
  {
   "cell_type": "code",
   "execution_count": null,
   "id": "66f0fab9",
   "metadata": {},
   "outputs": [],
   "source": [
    "train_idg = idg.flow_from_dataframe(dfx,directory = '/kaggle/working/train/',\n",
    "                                    x_col = 'imagename',y_col = 'labels',\n",
    "                                    target_size =(180,200),\n",
    "                                    batch_size =bs,\n",
    "                                    subset = 'training')\n"
   ]
  },
  {
   "cell_type": "code",
   "execution_count": null,
   "id": "3e3913f1",
   "metadata": {},
   "outputs": [],
   "source": [
    "# valid_idg = idg.flow_from_dataframe(dfx,directory = '/kaggle/working/train/',\n",
    "#                                     x_col = 'imagename',y_col = 'labels',\n",
    "#                                     target_size =(180,200),\n",
    "#                                     batch_size =bs,\n",
    "#                                     subset = 'validation')\n"
   ]
  },
  {
   "cell_type": "code",
   "execution_count": null,
   "id": "29bbdbda",
   "metadata": {},
   "outputs": [],
   "source": [
    "VGG16transfer = tf.keras.applications.VGG16(\n",
    "    include_top=False,\n",
    "    input_shape= (180,200,3),\n",
    "    weights=\"imagenet\"\n",
    "    \n",
    ")\n",
    "#look at model structure\n",
    "tf.keras.utils.plot_model(VGG16transfer)\n",
    "#making weights not trainable of vgg\n",
    "for layer in VGG16transfer.layers:\n",
    "    print(layer.name)\n",
    "    print(layer.input_shape)\n",
    "    print(layer.output_shape)\n",
    "\n",
    "    print(layer.trainable)\n",
    "    layer.trainable = False\n",
    "    print(layer.trainable)\n",
    "    \n"
   ]
  },
  {
   "cell_type": "code",
   "execution_count": null,
   "id": "91ccf8b6",
   "metadata": {},
   "outputs": [],
   "source": [
    "flat1 = tf.keras.layers.Flatten() (VGG16transfer.output)\n",
    "d1 = tf.keras.layers.Dense(32,activation = 'relu') (flat1)\n",
    "pred = tf.keras.layers.Dense(2,activation = 'softmax') (d1)\n",
    "\n",
    "\n",
    "model1 = tf.keras.Model(inputs = [VGG16transfer.input], outputs = [pred])\n",
    "\n",
    "for layer in model1.layers:\n",
    "    print(layer.trainable)\n"
   ]
  },
  {
   "cell_type": "code",
   "execution_count": null,
   "id": "f6c15f4b",
   "metadata": {},
   "outputs": [],
   "source": [
    "model1.summary()\n"
   ]
  },
  {
   "cell_type": "code",
   "execution_count": null,
   "id": "21969c99",
   "metadata": {},
   "outputs": [],
   "source": [
    "model1.compile(optimizer = tf.keras.optimizers.SGD(learning_rate = 0.0031415) ,\n",
    "              loss = tf.keras.losses.categorical_crossentropy ,\n",
    "              metrics=['acc']\n",
    "             )\n"
   ]
  },
  {
   "cell_type": "code",
   "execution_count": null,
   "id": "43edc6b3",
   "metadata": {},
   "outputs": [],
   "source": [
    "model1.fit(train_idg, epochs = 1,batch_size= bs)\n"
   ]
  },
  {
   "cell_type": "code",
   "execution_count": null,
   "id": "648f92f8",
   "metadata": {},
   "outputs": [],
   "source": [
    "dict = model1.history.history\n"
   ]
  },
  {
   "cell_type": "code",
   "execution_count": null,
   "id": "3a1f6daa",
   "metadata": {},
   "outputs": [],
   "source": [
    "plt.figure(figsize=(15,10))\n",
    "plt.plot(dict['acc'])\n",
    "# plt.plot(dict['val_acc'])\n",
    "plt.show()\n"
   ]
  },
  {
   "cell_type": "code",
   "execution_count": null,
   "id": "e3834d61",
   "metadata": {},
   "outputs": [],
   "source": [
    "plt.figure(figsize=(15,10))\n",
    "plt.plot(dict.get('loss'))\n",
    "# plt.plot(dict.get('val_loss')\n",
    "plt.show()\n"
   ]
  },
  {
   "cell_type": "code",
   "execution_count": null,
   "id": "1abd0795",
   "metadata": {},
   "outputs": [],
   "source": [
    "dftest.sample(2)\n"
   ]
  },
  {
   "cell_type": "code",
   "execution_count": null,
   "id": "9e645fb2",
   "metadata": {},
   "outputs": [],
   "source": [
    "idg2 = tf.keras.preprocessing.image.ImageDataGenerator(\n",
    "                                                         preprocessing_function=tf.keras.applications.vgg16.preprocess_input\n",
    "                                                           )\n",
    "test_gen = idg2.flow_from_dataframe(\n",
    "    dftest, \n",
    "    '/kaggle/working/test', \n",
    "    x_col='image',\n",
    "    class_mode= None,\n",
    "    target_size=(180,200),\n",
    "    batch_size=bs,\n",
    "    shuffle=False\n",
    ")\n"
   ]
  },
  {
   "cell_type": "code",
   "execution_count": null,
   "id": "716eadf5",
   "metadata": {},
   "outputs": [],
   "source": [
    "predict = model1.predict(test_gen,batch_size=bs,max_queue_size=1, verbose = 1)\n"
   ]
  },
  {
   "cell_type": "code",
   "execution_count": null,
   "id": "a693480a",
   "metadata": {},
   "outputs": [],
   "source": [
    "p=4\n",
    "print((predict[4,1]))#prob of being a dog\n",
    "show_image('/kaggle/working/test/'+ dftest.image[p])\n"
   ]
  },
  {
   "cell_type": "code",
   "execution_count": null,
   "id": "a3edcc55",
   "metadata": {},
   "outputs": [],
   "source": [
    "labels_test = (predict[:,1])\n",
    "labels_test[0:5]\n",
    "# dftest.head()\n"
   ]
  },
  {
   "cell_type": "code",
   "execution_count": null,
   "id": "e186286a",
   "metadata": {},
   "outputs": [],
   "source": [
    "result = pd.DataFrame()\n",
    "result['id']=   [i for i in range(1,len(dftest)+1)]\n",
    "result['label']=labels_test\n",
    "result.head()\n"
   ]
  },
  {
   "cell_type": "code",
   "execution_count": null,
   "id": "89a41890",
   "metadata": {},
   "outputs": [],
   "source": [
    "#saving to  sumbission.csv\n"
   ]
  },
  {
   "cell_type": "code",
   "execution_count": null,
   "id": "12918060",
   "metadata": {},
   "outputs": [],
   "source": [
    "result.to_csv('submission.csv',index = False)\n"
   ]
  }
 ],
 "metadata": {},
 "nbformat": 4,
 "nbformat_minor": 5
}
