{
  "cells": [
    {
      "cell_type": "code",
      "execution_count": null,
      "id": "af349525",
      "metadata": {},
      "outputs": [],
      "source": [
        "import pandas as pd\n",
        "from pathlib import Path"
      ]
    },
    {
      "cell_type": "code",
      "execution_count": null,
      "id": "401c4b86",
      "metadata": {},
      "outputs": [],
      "source": [
        "import pandas as pd\n",
        "import numpy as np\n",
        "\n",
        "from sklearn.svm import LinearSVC\n",
        "from sklearn.svm import SVC\n",
        "from sklearn.model_selection import learning_curve, GridSearchCV\n",
        "\n",
        "from sklearn.preprocessing import LabelEncoder\n",
        "from sklearn.preprocessing import StandardScaler\n",
        "from sklearn import svm\n"
      ]
    },
    {
      "cell_type": "code",
      "execution_count": null,
      "id": "0a496766",
      "metadata": {},
      "outputs": [],
      "source": [
        "np.random.seed(50)\n"
      ]
    },
    {
      "cell_type": "code",
      "execution_count": null,
      "id": "61fc3b30",
      "metadata": {},
      "outputs": [],
      "source": [
        "train = pd.read_csv('../input/train.csv')\n",
        "x_train = train.drop(['id', 'species'], axis=1).values\n",
        "le = LabelEncoder().fit(train['species'])\n",
        "y_train = le.transform(train['species'])\n",
        "scaler = StandardScaler().fit(x_train)\n",
        "x_train = scaler.transform(x_train)\n"
      ]
    },
    {
      "cell_type": "code",
      "execution_count": null,
      "id": "b613e83f",
      "metadata": {},
      "outputs": [],
      "source": [
        "print(x_train)\n"
      ]
    },
    {
      "cell_type": "code",
      "execution_count": null,
      "id": "0bb11fb0",
      "metadata": {},
      "outputs": [],
      "source": [
        "test = pd.read_csv('../input/test.csv')\n",
        "test_ids = test.pop('id')\n",
        "x_test = test.values\n",
        "scaler = StandardScaler().fit(x_test)\n",
        "x_test = scaler.transform(x_test)\n"
      ]
    },
    {
      "cell_type": "code",
      "execution_count": null,
      "id": "73d70adb",
      "metadata": {},
      "outputs": [],
      "source": [
        "print(x_test)\n"
      ]
    },
    {
      "cell_type": "code",
      "execution_count": null,
      "id": "d40cb8e3",
      "metadata": {},
      "outputs": [],
      "source": [
        "params = {'C':[1000]}\n",
        "svm = SVC(kernel=\"linear\", probability=True)\n",
        "clf = GridSearchCV(svm, params, scoring='accuracy', refit='True', n_jobs=1, cv=5)\n",
        "# sorted(sklearn.metrics.SCORERS.keys())\n",
        "clf.fit(x_train, y_train)\n",
        "y_test = clf.predict_proba(x_test)\n"
      ]
    },
    {
      "cell_type": "code",
      "execution_count": null,
      "id": "77aa7ceb",
      "metadata": {},
      "outputs": [],
      "source": [
        "submission = pd.DataFrame(y_test, index=test_ids, columns=le.classes_)\n",
        "submission.to_csv('submission.csv')\n"
      ]
    }
  ],
  "metadata": {},
  "nbformat": 4,
  "nbformat_minor": 5
}