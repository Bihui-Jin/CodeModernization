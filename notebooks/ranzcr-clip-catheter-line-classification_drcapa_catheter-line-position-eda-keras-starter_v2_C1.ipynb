{
  "cells": [
    {
      "cell_type": "code",
      "execution_count": null,
      "id": "f521bb36",
      "metadata": {},
      "outputs": [],
      "source": [
        "import pandas as pd\n",
        "from pathlib import Path"
      ]
    },
    {
      "cell_type": "code",
      "execution_count": null,
      "id": "9220e71f",
      "metadata": {},
      "outputs": [],
      "source": [
        "import pandas as pd\n",
        "import numpy as np\n",
        "import os\n",
        "import matplotlib.pyplot as plt\n"
      ]
    },
    {
      "cell_type": "code",
      "execution_count": null,
      "id": "35bfbe53",
      "metadata": {},
      "outputs": [],
      "source": [
        "import warnings\n",
        "warnings.filterwarnings(\"ignore\")\n"
      ]
    },
    {
      "cell_type": "code",
      "execution_count": null,
      "id": "a5d110b3",
      "metadata": {},
      "outputs": [],
      "source": [
        "path = '/kaggle/input/ranzcr-clip-catheter-line-classification/'\n",
        "os.listdir(path)\n"
      ]
    },
    {
      "cell_type": "code",
      "execution_count": null,
      "id": "fbeb82b2",
      "metadata": {},
      "outputs": [],
      "source": [
        "train = pd.read_csv(path+'train.csv')\n",
        "train_anno = pd.read_csv(path+'train_annotations.csv')\n",
        "samp_subm = pd.read_csv(path+'sample_submission.csv')\n"
      ]
    },
    {
      "cell_type": "code",
      "execution_count": null,
      "id": "34b93447",
      "metadata": {},
      "outputs": [],
      "source": [
        "print('number of train samples:', len(train.index))\n",
        "print('numebr of test samples:', len(samp_subm.index))\n",
        "print('number of train images:', len(os.listdir(path+'train/')))\n",
        "print('number of test images:', len(os.listdir(path+'test/')))\n"
      ]
    },
    {
      "cell_type": "code",
      "execution_count": null,
      "id": "18bdf960",
      "metadata": {},
      "outputs": [],
      "source": [
        "samp_subm.to_csv('submission.csv', index=False)\n"
      ]
    }
  ],
  "metadata": {},
  "nbformat": 4,
  "nbformat_minor": 5
}