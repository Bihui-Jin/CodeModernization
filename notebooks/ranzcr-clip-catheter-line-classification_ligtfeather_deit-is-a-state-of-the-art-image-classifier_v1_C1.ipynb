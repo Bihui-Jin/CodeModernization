{
  "cells": [
    {
      "cell_type": "code",
      "execution_count": null,
      "id": "907bc606",
      "metadata": {},
      "outputs": [],
      "source": [
        "import pandas as pd\n",
        "from pathlib import Path"
      ]
    },
    {
      "cell_type": "code",
      "execution_count": null,
      "id": "8df3271c",
      "metadata": {},
      "outputs": [],
      "source": [
        "!pip install -q timm\n"
      ]
    },
    {
      "cell_type": "code",
      "execution_count": null,
      "id": "d9dcf13a",
      "metadata": {},
      "outputs": [],
      "source": [
        "# Python library used for working with arrays.\n",
        "import numpy as np\n",
        "\n",
        "# Python library to interact with the file system.\n",
        "import os\n",
        "\n",
        "# Software library written for data manipulation and analysis. \n",
        "import pandas as pd\n",
        "\n",
        "# fastai library for computer vision tasks\n",
        "from fastai.vision.all import *\n",
        "from fastai.metrics import *\n",
        "\n",
        "# Developing and training neural network based deep learning models.\n",
        "import torch\n"
      ]
    },
    {
      "cell_type": "code",
      "execution_count": null,
      "id": "0ab0a826",
      "metadata": {},
      "outputs": [],
      "source": [
        "dataset_path = Path('../input/ranzcr-clip-catheter-line-classification')\n"
      ]
    },
    {
      "cell_type": "code",
      "execution_count": null,
      "id": "edbcf9ba",
      "metadata": {},
      "outputs": [],
      "source": [
        "train_df = pd.read_csv(dataset_path/'train.csv')\n"
      ]
    },
    {
      "cell_type": "code",
      "execution_count": null,
      "id": "6d6ad877",
      "metadata": {},
      "outputs": [],
      "source": [
        "train_df.head()\n"
      ]
    },
    {
      "cell_type": "code",
      "execution_count": null,
      "id": "9f3b33b0",
      "metadata": {},
      "outputs": [],
      "source": [
        "train_df['path'] = train_df['StudyInstanceUID'].map(lambda x:str(dataset_path/'train'/x)+'.jpg')\n",
        "train_df = train_df.drop(columns=['StudyInstanceUID'])\n",
        "train_df.head(10)\n"
      ]
    },
    {
      "cell_type": "code",
      "execution_count": null,
      "id": "e8028301",
      "metadata": {},
      "outputs": [],
      "source": [
        "# Transforms we need to do for each image in the dataset (ex: resizing).\n",
        "item_tfms = RandomResizedCrop(384, min_scale=0.75, ratio=(1.,1.)) \n",
        "\n",
        "# Transforms that can take place on a batch of images (ex: many augmentations).\n",
        "batch_tfms = [*aug_transforms(size=384, max_warp=0), Normalize.from_stats(*imagenet_stats)]\n"
      ]
    },
    {
      "cell_type": "code",
      "execution_count": null,
      "id": "40e1e18e",
      "metadata": {},
      "outputs": [],
      "source": [
        "label_names = list(train_df.columns[:11])\n"
      ]
    },
    {
      "cell_type": "code",
      "execution_count": null,
      "id": "befa1052",
      "metadata": {},
      "outputs": [],
      "source": [
        "data = DataBlock(blocks=(ImageBlock, MultiCategoryBlock(encoded=True, vocab=label_names)), # multi-label target\n",
        "                 splitter = RandomSplitter(seed=42),# split data into training and validation subsets.\n",
        "                 get_x = ColReader(12),# obtain the input images.\n",
        "                 get_y = ColReader(list(range(11))), # obtain the targets.\n",
        "                 item_tfms = item_tfms,\n",
        "                 batch_tfms = batch_tfms)\n"
      ]
    },
    {
      "cell_type": "code",
      "execution_count": null,
      "id": "4147de43",
      "metadata": {},
      "outputs": [],
      "source": [
        "dls = data.dataloaders(train_df,bs=16)\n",
        "\n",
        "# We can call show_batch() to see what a sample of a batch looks like.\n",
        "dls.show_batch()\n"
      ]
    },
    {
      "cell_type": "code",
      "execution_count": null,
      "id": "22c2f940",
      "metadata": {},
      "outputs": [],
      "source": [
        "model = torch.hub.load('facebookresearch/deit:main', 'deit_base_patch16_384', pretrained=True)\n"
      ]
    },
    {
      "cell_type": "code",
      "execution_count": null,
      "id": "570f94f7",
      "metadata": {},
      "outputs": [],
      "source": [
        "model.head\n"
      ]
    },
    {
      "cell_type": "code",
      "execution_count": null,
      "id": "3da728b8",
      "metadata": {},
      "outputs": [],
      "source": [
        "model.head = nn.Sequential(nn.Dropout(0.25), \n",
        "                           nn.Linear(768, 11))\n",
        "\n",
        "model.head\n"
      ]
    },
    {
      "cell_type": "code",
      "execution_count": null,
      "id": "1816e68f",
      "metadata": {},
      "outputs": [],
      "source": [
        "learn = Learner(dls, model, metrics = [accuracy_multi])\n"
      ]
    },
    {
      "cell_type": "code",
      "execution_count": null,
      "id": "288723a3",
      "metadata": {},
      "outputs": [],
      "source": [
        "learn.lr_find()\n"
      ]
    },
    {
      "cell_type": "code",
      "execution_count": null,
      "id": "f0bf2491",
      "metadata": {},
      "outputs": [],
      "source": [
        "learn.fine_tune(1, base_lr=1.2022644114040304e-05)\n"
      ]
    },
    {
      "cell_type": "code",
      "execution_count": null,
      "id": "284bfe41",
      "metadata": {},
      "outputs": [],
      "source": [
        "sample_df = pd.read_csv(dataset_path/'sample_submission.csv')\n",
        "sample_df.head()\n"
      ]
    },
    {
      "cell_type": "code",
      "execution_count": null,
      "id": "64a2d4f0",
      "metadata": {},
      "outputs": [],
      "source": [
        "_sample_df = sample_df.copy()\n",
        "_sample_df['PatientID'] = 'None'\n",
        "_sample_df['path'] = _sample_df['StudyInstanceUID'].map(lambda x:str(dataset_path/'test'/x)+'.jpg')\n",
        "_sample_df = _sample_df.drop(columns=['StudyInstanceUID'])\n",
        "test_dl = dls.test_dl(_sample_df)\n"
      ]
    },
    {
      "cell_type": "code",
      "execution_count": null,
      "id": "ecdff0d2",
      "metadata": {},
      "outputs": [],
      "source": [
        "test_dl.show_batch()\n"
      ]
    },
    {
      "cell_type": "code",
      "execution_count": null,
      "id": "e862bc5a",
      "metadata": {},
      "outputs": [],
      "source": [
        "# Return predictions on the ds_idx dataset or dl using Test Time Augmentation\n",
        "preds, _ = learn.tta(dl=test_dl,n=3)\n"
      ]
    },
    {
      "cell_type": "code",
      "execution_count": null,
      "id": "dc53eb16",
      "metadata": {},
      "outputs": [],
      "source": [
        "submission_df = sample_df\n",
        "for i in range(len(submission_df)):\n",
        "    for j in range(len(label_names)):\n",
        "        submission_df.iloc[i, j+1] = preds[i][j].numpy().astype(np.float32)\n"
      ]
    },
    {
      "cell_type": "code",
      "execution_count": null,
      "id": "e13b6fd0",
      "metadata": {},
      "outputs": [],
      "source": [
        "submission_df.head(10)\n"
      ]
    },
    {
      "cell_type": "code",
      "execution_count": null,
      "id": "70271ba9",
      "metadata": {},
      "outputs": [],
      "source": [
        "submission_df.to_csv(f'submission.csv', index=False)\n"
      ]
    }
  ],
  "metadata": {},
  "nbformat": 4,
  "nbformat_minor": 5
}