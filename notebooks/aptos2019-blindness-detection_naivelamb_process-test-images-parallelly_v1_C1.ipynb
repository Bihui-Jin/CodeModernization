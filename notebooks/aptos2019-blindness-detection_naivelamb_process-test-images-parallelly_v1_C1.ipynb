{
  "cells": [
    {
      "cell_type": "code",
      "execution_count": null,
      "id": "e6c5418e",
      "metadata": {},
      "outputs": [],
      "source": [
        "import pandas as pd\n",
        "from pathlib import Path"
      ]
    },
    {
      "cell_type": "code",
      "execution_count": null,
      "id": "c9648290",
      "metadata": {},
      "outputs": [],
      "source": [
        "# This Python 3 environment comes with many helpful analytics libraries installed\n",
        "# It is defined by the kaggle/python docker image: https://github.com/kaggle/docker-python\n",
        "# For example, here's several helpful packages to load in \n",
        "\n",
        "import numpy as np # linear algebra\n",
        "import pandas as pd # data processing, CSV file I/O (e.g. pd.read_csv)\n",
        "\n",
        "# Input data files are available in the \"../input/\" directory.\n",
        "# For example, running this (by clicking run or pressing Shift+Enter) will list all files under the input directory\n",
        "\n",
        "import os\n",
        "print(os.listdir(\"../input\"))\n",
        "\n",
        "import multiprocessing as mp\n",
        "# Any results you write to the current directory are saved as output.\n"
      ]
    },
    {
      "cell_type": "code",
      "execution_count": null,
      "id": "08d76b06",
      "metadata": {},
      "outputs": [],
      "source": [
        "directory = \"../input/test_preprocessed/\"\n",
        "if not os.path.exists(directory):\n",
        "    os.makedirs(directory)\n"
      ]
    },
    {
      "cell_type": "code",
      "execution_count": null,
      "id": "62107e08",
      "metadata": {},
      "outputs": [],
      "source": [
        "import pandas as pd\n",
        "import numpy as np\n",
        "import cv2\n",
        "from tqdm import tqdm\n",
        "import multiprocessing as mp\n",
        "import matplotlib.pyplot as plt\n",
        "%matplotlib inline\n"
      ]
    },
    {
      "cell_type": "code",
      "execution_count": null,
      "id": "adfac0c8",
      "metadata": {},
      "outputs": [],
      "source": [
        "df = pd.read_csv('../input/aptos2019-blindness-detection/sample_submission.csv')\n",
        "DATA_ROOT = '../input/aptos2019-blindness-detection/test_images/'\n",
        "OUTPUT_DIR = directory\n",
        "SIZE = 512\n"
      ]
    },
    {
      "cell_type": "code",
      "execution_count": null,
      "id": "6fa47deb",
      "metadata": {},
      "outputs": [],
      "source": [
        "def crop_image_from_gray(img,tol=7):\n",
        "    if img.ndim ==2:\n",
        "        mask = img>tol\n",
        "        return img[np.ix_(mask.any(1),mask.any(0))]\n",
        "    elif img.ndim==3:\n",
        "        gray_img = cv2.cvtColor(img, cv2.COLOR_RGB2GRAY)\n",
        "        mask = gray_img>tol\n",
        "        \n",
        "        check_shape = img[:,:,0][np.ix_(mask.any(1),mask.any(0))].shape[0]\n",
        "        if (check_shape == 0): # image is too dark so that we crop out everything,\n",
        "            return img # return original image\n",
        "        else:\n",
        "            img1=img[:,:,0][np.ix_(mask.any(1),mask.any(0))]\n",
        "            img2=img[:,:,1][np.ix_(mask.any(1),mask.any(0))]\n",
        "            img3=img[:,:,2][np.ix_(mask.any(1),mask.any(0))]\n",
        "    #         print(img1.shape,img2.shape,img3.shape)\n",
        "            img = np.stack([img1,img2,img3],axis=-1)\n",
        "    #         print(img.shape)\n",
        "        return img\n",
        "\n",
        "def preprocess_image(df, run_root=DATA_ROOT, out_root=OUTPUT_DIR, size=SIZE):\n",
        "    df = df.reset_index()\n",
        "    for i in tqdm(range(df.shape[0])):\n",
        "        item = df.iloc[i]\n",
        "        path = run_root+item.id_code+'.png'\n",
        "        img = cv2.imread(path)\n",
        "        img = cv2.cvtColor(img, cv2.COLOR_BGR2RGB)\n",
        "        #img = circle_crop(img)\n",
        "        img = crop_image_from_gray(img)\n",
        "        img = cv2.resize(img, (SIZE, SIZE))\n",
        "        img = cv2.cvtColor(img, cv2.COLOR_RGB2BGR)\n",
        "        img=cv2.addWeighted(img, 4, cv2.GaussianBlur(img, (0,0), 10) ,-4 ,128)\n",
        "        cv2.imwrite(OUTPUT_DIR + item.id_code + '.png',img) \n"
      ]
    },
    {
      "cell_type": "code",
      "execution_count": null,
      "id": "9959cc3d",
      "metadata": {},
      "outputs": [],
      "source": [
        "n_cpu = mp.cpu_count()\n",
        "pool = mp.Pool(n_cpu)\n",
        "n_cnt = df.shape[0] // n_cpu\n",
        "dfs = [df.iloc[n_cnt*i:n_cnt*(i+1)] for i in range(n_cpu)]\n",
        "dfs[-1] = df.iloc[n_cnt*(n_cpu-1):] \n",
        "res = pool.map(preprocess_image, [x_df for x_df in dfs])\n",
        "pool.close()\n"
      ]
    },
    {
      "cell_type": "code",
      "execution_count": null,
      "id": "76528f47",
      "metadata": {},
      "outputs": [],
      "source": [
        "fig, axes = plt.subplots(1, 2)\n",
        "img_raw = cv2.imread(DATA_ROOT + df.iloc[0].id_code + '.png')\n",
        "img_raw = cv2.cvtColor(img_raw, cv2.COLOR_BGR2RGB)\n",
        "\n",
        "img = cv2.imread(OUTPUT_DIR + df.iloc[0].id_code + '.png', cv2.COLOR_BGR2RGB)\n",
        "img = cv2.cvtColor(img, cv2.COLOR_BGR2RGB)\n",
        "\n",
        "axes[0].imshow(img_raw)\n",
        "axes[1].imshow(img)\n",
        "print(img_raw.shape, img.shape)\n"
      ]
    },
    {
      "cell_type": "code",
      "execution_count": null,
      "id": "62f8ab75",
      "metadata": {},
      "outputs": [],
      "source": [
        "df.to_csv('submission.csv', index=None)\n",
        "if os.path.exists(directory):\n",
        "    !rm -r '../input/test_preprocessed'\n"
      ]
    },
    {
      "cell_type": "code",
      "execution_count": null,
      "id": "f94cfd71",
      "metadata": {},
      "outputs": [],
      "source": [
        "print(os.listdir(\"../input\"))\n"
      ]
    },
    {
      "cell_type": "code",
      "execution_count": null,
      "id": "ce762278",
      "metadata": {},
      "outputs": [],
      "source": [
        " \n"
      ]
    }
  ],
  "metadata": {},
  "nbformat": 4,
  "nbformat_minor": 5
}