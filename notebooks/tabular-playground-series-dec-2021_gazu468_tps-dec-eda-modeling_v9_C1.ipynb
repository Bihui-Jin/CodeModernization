{
 "cells": [
  {
   "cell_type": "code",
   "execution_count": null,
   "id": "ad8deaf5",
   "metadata": {},
   "outputs": [],
   "source": [
    "import pandas as pd\n",
    "from pathlib import Path"
   ]
  },
  {
   "cell_type": "code",
   "execution_count": null,
   "id": "061ba48e",
   "metadata": {},
   "outputs": [],
   "source": [
    "import numpy as np # linear algebra\n",
    "import pandas as pd # data processing, CSV file I/O (e.g. pd.read_csv)\n",
    "import os\n",
    "from  datetime import datetime\n",
    "import seaborn as sns\n",
    "import matplotlib.pyplot as plt\n",
    "import warnings\n",
    "import datetime as datetime\n",
    "from sklearn.metrics import accuracy_score\n",
    "from category_encoders.target_encoder import TargetEncoder\n",
    "warnings.filterwarnings('ignore')\n"
   ]
  },
  {
   "cell_type": "code",
   "execution_count": null,
   "id": "6fbc8698",
   "metadata": {},
   "outputs": [],
   "source": [
    "train = pd.read_csv(\"../input/tabular-playground-series-dec-2021/train.csv\")\n",
    "test = pd.read_csv(\"../input/tabular-playground-series-dec-2021/test.csv\")\n"
   ]
  },
  {
   "cell_type": "code",
   "execution_count": null,
   "id": "c226d5d0",
   "metadata": {},
   "outputs": [],
   "source": [
    "train.head(100)\n"
   ]
  },
  {
   "cell_type": "code",
   "execution_count": null,
   "id": "b0bbadd1",
   "metadata": {},
   "outputs": [],
   "source": [
    "train.tail()\n"
   ]
  },
  {
   "cell_type": "code",
   "execution_count": null,
   "id": "3e26b017",
   "metadata": {},
   "outputs": [],
   "source": [
    "train.columns\n"
   ]
  },
  {
   "cell_type": "code",
   "execution_count": null,
   "id": "c10a1cfc",
   "metadata": {},
   "outputs": [],
   "source": [
    "train.describe()\n"
   ]
  },
  {
   "cell_type": "code",
   "execution_count": null,
   "id": "074611b7",
   "metadata": {},
   "outputs": [],
   "source": [
    "# print(\"Mean\",np.mean(train))\n",
    "# print(\"Standard Deviation\", np.std(train))\n",
    "# print(\"Min\", np.min(train))\n",
    "# print(\"Max\", np.max(train))\n"
   ]
  },
  {
   "cell_type": "code",
   "execution_count": null,
   "id": "74de0b6b",
   "metadata": {},
   "outputs": [],
   "source": [
    "train['Cover_Type'].describe()\n"
   ]
  },
  {
   "cell_type": "code",
   "execution_count": null,
   "id": "6c8ecf6f",
   "metadata": {},
   "outputs": [],
   "source": [
    "train.groupby('Cover_Type').size()\n"
   ]
  },
  {
   "cell_type": "code",
   "execution_count": null,
   "id": "478aa3f9",
   "metadata": {},
   "outputs": [],
   "source": [
    "plt.hist(train['Cover_Type'])\n"
   ]
  },
  {
   "cell_type": "code",
   "execution_count": null,
   "id": "a7922ecf",
   "metadata": {},
   "outputs": [],
   "source": [
    "#skewness and kurtosis\n",
    "print(\"Skewness: %f\" % train['Cover_Type'].skew())\n",
    "print(\"Kurtosis: %f\" % train['Cover_Type'].kurt())\n"
   ]
  },
  {
   "cell_type": "code",
   "execution_count": null,
   "id": "8f7e88cc",
   "metadata": {},
   "outputs": [],
   "source": [
    "var = 'Hillshade_Noon'\n",
    "data = pd.concat([train['Cover_Type'], train[var]], axis=1)\n",
    "data.plot.scatter(x=var, y='Cover_Type', ylim=(0,800000))\n"
   ]
  },
  {
   "cell_type": "code",
   "execution_count": null,
   "id": "d456cdcc",
   "metadata": {},
   "outputs": [],
   "source": [
    "#most correlated 10 columns\n",
    "corr=train.corr()\n",
    "v=10\n",
    "colmn = corr.nlargest(v, 'Cover_Type')\n",
    "colmn\n"
   ]
  },
  {
   "cell_type": "code",
   "execution_count": null,
   "id": "5b07417f",
   "metadata": {},
   "outputs": [],
   "source": [
    "colmn = corr.nlargest(v, 'Cover_Type')['Cover_Type'].index \n",
    "xm = np.corrcoef(train[colmn].values.T)\n",
    "sns.set(font_scale=1.25)\n",
    "plt.figure(figsize=(18, 18))\n",
    "hm = sns.heatmap(xm, cbar=True, annot=True, square=True, fmt='.2f', annot_kws={'size': 10},\n",
    "                 yticklabels=colmn.values, xticklabels=colmn.values)\n",
    "plt.show()\n"
   ]
  },
  {
   "cell_type": "code",
   "execution_count": null,
   "id": "286f8248",
   "metadata": {},
   "outputs": [],
   "source": [
    "total= train.isnull().sum().sort_values(ascending=False)\n",
    "total\n"
   ]
  },
  {
   "cell_type": "code",
   "execution_count": null,
   "id": "08548eb3",
   "metadata": {},
   "outputs": [],
   "source": [
    "# drop ID\n",
    "train_X = train.drop('Id', axis=1)\n",
    "#drop output\n",
    "train_X = train_X.drop('Cover_Type', axis=1)\n",
    "#contain output on y container\n",
    "train_y = train['Cover_Type']\n"
   ]
  },
  {
   "cell_type": "code",
   "execution_count": null,
   "id": "c5d24a2b",
   "metadata": {},
   "outputs": [],
   "source": [
    "train_y.head()\n"
   ]
  },
  {
   "cell_type": "code",
   "execution_count": null,
   "id": "45784967",
   "metadata": {},
   "outputs": [],
   "source": [
    "#trin_test Split\n",
    "from sklearn.model_selection import train_test_split\n",
    "X_train, X_test, y_train, y_test = train_test_split(train_X, train_y, test_size=0.22, random_state=2021 )\n"
   ]
  },
  {
   "cell_type": "code",
   "execution_count": null,
   "id": "a3ca82df",
   "metadata": {},
   "outputs": [],
   "source": [
    "del train, train_X, train_y\n"
   ]
  },
  {
   "cell_type": "code",
   "execution_count": null,
   "id": "6993682c",
   "metadata": {},
   "outputs": [],
   "source": [
    "y_test\n"
   ]
  },
  {
   "cell_type": "code",
   "execution_count": null,
   "id": "4bcaff9b",
   "metadata": {},
   "outputs": [],
   "source": [
    "#Encoding those data\n",
    "nums_cols = [col for col in X_train.columns if X_train[col].dtype in [\"float16\",\"float32\",\"float64\"]]\n",
    "catgo_cols = [col for col in X_train.columns if X_train[col].dtype not in [\"float16\",\"float32\",\"float64\"]]\n"
   ]
  },
  {
   "cell_type": "code",
   "execution_count": null,
   "id": "2c4164a2",
   "metadata": {},
   "outputs": [],
   "source": [
    "test=test.drop('Id', axis=1)\n"
   ]
  },
  {
   "cell_type": "code",
   "execution_count": null,
   "id": "d1582c1a",
   "metadata": {},
   "outputs": [],
   "source": [
    "d_test = test\n",
    "\n",
    "for cols in catgo_cols:\n",
    "    enc = TargetEncoder(cols=[cols])\n",
    "    x = enc.fit_transform(X_train, y_train)\n",
    "    y= enc.transform(X_test)\n",
    "    z = enc.transform(d_test)\n"
   ]
  },
  {
   "cell_type": "code",
   "execution_count": null,
   "id": "ac100e02",
   "metadata": {},
   "outputs": [],
   "source": [
    "del test\n"
   ]
  },
  {
   "cell_type": "code",
   "execution_count": null,
   "id": "764e79da",
   "metadata": {},
   "outputs": [],
   "source": [
    "from sklearn.preprocessing import StandardScaler\n",
    "scaler= StandardScaler()\n",
    "scaler.fit(X_train)\n",
    "train_X = pd.DataFrame(scaler.transform(x))\n",
    "test_X = pd.DataFrame(scaler.transform(y))\n",
    "test = pd.DataFrame(scaler.transform(z))\n"
   ]
  },
  {
   "cell_type": "code",
   "execution_count": null,
   "id": "4d0be9f5",
   "metadata": {},
   "outputs": [],
   "source": [
    "del x,y,z\n"
   ]
  },
  {
   "cell_type": "code",
   "execution_count": null,
   "id": "e66f49af",
   "metadata": {},
   "outputs": [],
   "source": [
    "train_X\n"
   ]
  },
  {
   "cell_type": "code",
   "execution_count": null,
   "id": "8011c85c",
   "metadata": {},
   "outputs": [],
   "source": [
    "train_X = train_X.to_numpy().astype(np.float32)\n",
    "y_train =y_train.to_numpy().astype(np.float32)\n",
    "y_test =y_test.to_numpy().astype(np.float32)\n",
    "test_X =test_X.to_numpy().astype(np.float32)\n",
    "test =test.to_numpy().astype(np.float32)\n"
   ]
  },
  {
   "cell_type": "code",
   "execution_count": null,
   "id": "ff9b1aa4",
   "metadata": {},
   "outputs": [],
   "source": [
    "# XGBClassifier = xgb.XGBClassifier(max_depth = 9,\n",
    "#                                  learning_rate = 0.008,\n",
    "#                                  n_estimators = 20000,\n",
    "# #                                  objective = 'binary:logistic',\n",
    "#                                  objective = 'multi:softmax',\n",
    "#                                  tree_method = 'gpu_hist',\n",
    "#                                  booster = 'gbtree',\n",
    "#                                  gamma = 0.75,\n",
    "#                                  max_delta_step = 6,\n",
    "#                                  min_child_weight = 9,\n",
    "#                                  subsample = 0.8326,\n",
    "#                                  colsample_bytree = 0.7,\n",
    "#                                  colsample_bynode= 0.7523,\n",
    "#                                  colsample_bylevel=0.8231,\n",
    "#                                  predictor= 'gpu_predictor'\n",
    "# #                                  n_jobs = -1\n",
    "#                                  )\n"
   ]
  },
  {
   "cell_type": "code",
   "execution_count": null,
   "id": "0ab6b76a",
   "metadata": {},
   "outputs": [],
   "source": [
    "from xgboost import XGBClassifier\n",
    "\n",
    "\n",
    "# declare parameters\n",
    "params = {\n",
    "#             'objective':'binary:logistic',/\n",
    "            'objective' : 'multi:softmax',\n",
    "            'tree_method': 'gpu_hist',\n",
    "            'eval_metric': 'mlogloss',\n",
    "            'booster' : 'gbtree',\n",
    "            'gamma' : 0.75,\n",
    "            'max_depth': 7,\n",
    "            'alpha': 10,\n",
    "            'learning_rate': .007,\n",
    "            'n_estimators':2000,\n",
    "            'predictor': 'gpu_predictor'\n",
    "        }         \n",
    "           \n",
    "          \n",
    "# instantiate the classifier \n",
    "xgb = XGBClassifier(**params)\n",
    "xgb.fit(train_X, y_train,\n",
    "          early_stopping_rounds=200,\n",
    "          eval_set=[(test_X,y_test)],\n",
    "          verbose=True)\n"
   ]
  },
  {
   "cell_type": "code",
   "execution_count": null,
   "id": "d8a3e3fb",
   "metadata": {},
   "outputs": [],
   "source": [
    "preds_valid = xgb.predict(test_X).astype('int')\n",
    "acc = accuracy_score(y_test,  preds_valid)\n",
    "print(\"accuracy score:\", acc)\n"
   ]
  },
  {
   "cell_type": "code",
   "execution_count": null,
   "id": "78424dd1",
   "metadata": {},
   "outputs": [],
   "source": [
    "sub = pd.read_csv('../input/tabular-playground-series-dec-2021/sample_submission.csv')\n",
    "sub['Cover_Type'] =xgb.predict(test).astype('int')\n",
    "sub.to_csv(\"submission.csv\",index=False)\n",
    "sub.head()\n"
   ]
  }
 ],
 "metadata": {},
 "nbformat": 4,
 "nbformat_minor": 5
}
