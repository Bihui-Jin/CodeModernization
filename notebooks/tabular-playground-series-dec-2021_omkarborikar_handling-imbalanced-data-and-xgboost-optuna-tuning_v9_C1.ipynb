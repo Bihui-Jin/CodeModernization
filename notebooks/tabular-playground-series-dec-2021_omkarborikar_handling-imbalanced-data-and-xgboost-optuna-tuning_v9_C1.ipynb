{
 "cells": [
  {
   "cell_type": "code",
   "execution_count": null,
   "id": "676844ea",
   "metadata": {},
   "outputs": [],
   "source": [
    "import pandas as pd\n",
    "from pathlib import Path"
   ]
  },
  {
   "cell_type": "code",
   "execution_count": null,
   "id": "97b3df45",
   "metadata": {},
   "outputs": [],
   "source": [
    "import pandas as pd\n",
    "import numpy as np\n",
    "import matplotlib.pyplot as plt\n",
    "from sklearn.model_selection import train_test_split\n",
    "from sklearn.preprocessing import StandardScaler\n",
    "from sklearn.pipeline import Pipeline\n",
    "from xgboost import XGBClassifier\n",
    "from imblearn.under_sampling import RandomUnderSampler # Used for under sampling. explained further in notebook.\n",
    "import collections\n",
    "import matplotlib.pyplot as plt\n",
    "from sklearn.tree import DecisionTreeClassifier\n",
    "from sklearn.metrics import accuracy_score\n",
    "import optuna\n"
   ]
  },
  {
   "cell_type": "code",
   "execution_count": null,
   "id": "9d2fd9f9",
   "metadata": {},
   "outputs": [],
   "source": [
    "df_train_og = pd.read_csv('../input/tabular-playground-series-dec-2021/train.csv')\n",
    "df_test_og  = pd.read_csv('../input/tabular-playground-series-dec-2021/test.csv')\n",
    "submission  = pd.read_csv('../input/tabular-playground-series-dec-2021/sample_submission.csv')\n"
   ]
  },
  {
   "cell_type": "code",
   "execution_count": null,
   "id": "e78386bc",
   "metadata": {},
   "outputs": [],
   "source": [
    "df_train_og.shape\n"
   ]
  },
  {
   "cell_type": "code",
   "execution_count": null,
   "id": "80fa2583",
   "metadata": {},
   "outputs": [],
   "source": [
    "df_train_og.head()\n"
   ]
  },
  {
   "cell_type": "code",
   "execution_count": null,
   "id": "fa52a453",
   "metadata": {},
   "outputs": [],
   "source": [
    "df_train_og.nunique()\n"
   ]
  },
  {
   "cell_type": "code",
   "execution_count": null,
   "id": "1e1078ff",
   "metadata": {},
   "outputs": [],
   "source": [
    "def reduce_mem_usage(df, verbose=True):\n",
    "    numerics = ['int8','int16', 'int32', 'int64', 'float16', 'float32', 'float64']\n",
    "    start_mem = df.memory_usage().sum() / 1024**2\n",
    "\n",
    "    for col in df.columns:\n",
    "        col_type = df[col].dtypes\n",
    "\n",
    "        if col_type in numerics:\n",
    "            c_min = df[col].min()\n",
    "            c_max = df[col].max()\n",
    "\n",
    "            if str(col_type)[:3] == 'int':\n",
    "                if c_min > np.iinfo(np.int8).min and c_max < np.iinfo(np.int8).max:\n",
    "                    df[col] = df[col].astype(np.int8)\n",
    "                elif c_min > np.iinfo(np.int16).min and c_max < np.iinfo(np.int16).max:\n",
    "                    df[col] = df[col].astype(np.int16)\n",
    "                elif c_min > np.iinfo(np.int32).min and c_max < np.iinfo(np.int32).max:\n",
    "                    df[col] = df[col].astype(np.int32)\n",
    "                elif c_min > np.iinfo(np.int64).min and c_max < np.iinfo(np.int64).max:\n",
    "                    df[col] = df[col].astype(np.int64)  \n",
    "            else:\n",
    "                if c_min > np.finfo(np.float32).min and c_max < np.finfo(np.float32).max:\n",
    "                    df[col] = df[col].astype(np.float32)\n",
    "                else:\n",
    "                    df[col] = df[col].astype(np.float64)\n",
    "\n",
    "    end_mem = df.memory_usage().sum() / 1024**2\n",
    "\n",
    "    if verbose:\n",
    "        print('Mem. usage decreased to {:5.2f} Mb ({:.1f}% reduction)'.format(end_mem, 100 * (start_mem - end_mem) / start_mem))\n",
    " \n",
    "    return df\n"
   ]
  },
  {
   "cell_type": "code",
   "execution_count": null,
   "id": "694b97b3",
   "metadata": {},
   "outputs": [],
   "source": [
    "df_train = reduce_mem_usage(df_train_og)\n",
    "df_test = reduce_mem_usage(df_test_og)\n",
    "del df_train_og\n",
    "del df_test_og\n"
   ]
  },
  {
   "cell_type": "code",
   "execution_count": null,
   "id": "9f3cbfd0",
   "metadata": {},
   "outputs": [],
   "source": [
    "cat_count = collections.Counter(df_train['Cover_Type'])\n",
    "cat_freq = cat_count.values()\n",
    "cat = cat_count.keys()\n",
    "plt.bar(cat , cat_freq)\n",
    "\n",
    "print(cat_count)\n"
   ]
  },
  {
   "cell_type": "code",
   "execution_count": null,
   "id": "cec9c517",
   "metadata": {},
   "outputs": [],
   "source": [
    "df_train = df_train[(df_train['Cover_Type'] != 4) & (df_train['Cover_Type'] != 5)]\n"
   ]
  },
  {
   "cell_type": "code",
   "execution_count": null,
   "id": "679f9fe3",
   "metadata": {},
   "outputs": [],
   "source": [
    "rus = RandomUnderSampler(sampling_strategy = \"not minority\")\n",
    "X  = df_train.drop(columns = ['Id' , 'Cover_Type','Soil_Type7' , 'Soil_Type15'])\n",
    "y = df_train['Cover_Type']\n",
    "X_res,y_res = rus.fit_resample(X,y)\n"
   ]
  },
  {
   "cell_type": "code",
   "execution_count": null,
   "id": "edbe58e8",
   "metadata": {},
   "outputs": [],
   "source": [
    "cat_count = collections.Counter(y_res)\n",
    "cat_freq = cat_count.values()\n",
    "cat = cat_count.keys()\n",
    "plt.bar(cat , cat_freq)\n",
    "\n",
    "print(cat_count)\n"
   ]
  },
  {
   "cell_type": "code",
   "execution_count": null,
   "id": "08988e04",
   "metadata": {},
   "outputs": [],
   "source": [
    "# X = X_res.drop(columns = ['Soil_Type7' , 'Soil_Type15'])\n",
    "# y = y_res\n"
   ]
  },
  {
   "cell_type": "code",
   "execution_count": null,
   "id": "3fd6d83b",
   "metadata": {},
   "outputs": [],
   "source": [
    "from sklearn.feature_selection import SelectKBest,f_classif\n",
    "selector = SelectKBest(f_classif,k=\"all\")\n",
    "fitter = selector.fit(X_res,y_res)\n",
    "scores_df = pd.DataFrame(fitter.scores_) \n",
    "columns_df = pd.DataFrame(X_res.columns)\n",
    "featurescores = pd.concat([scores_df ,columns_df] , axis=1)\n",
    "featurescores.columns=['score','column name']\n",
    "# featurescores.sort_values(by = 'score' , ascending=False)\n",
    "plt.figure(figsize=(20,5))\n",
    "plt.bar(featurescores['column name'] , featurescores['score'],width=0.4)\n",
    "plt.xticks(rotation = 'vertical')\n",
    "plt.plot()\n"
   ]
  },
  {
   "cell_type": "code",
   "execution_count": null,
   "id": "73181368",
   "metadata": {},
   "outputs": [],
   "source": [
    "featurescores = featurescores.sort_values(by = 'score' , ascending=False)\n"
   ]
  },
  {
   "cell_type": "code",
   "execution_count": null,
   "id": "abc9c0e6",
   "metadata": {},
   "outputs": [],
   "source": [
    "# useful_features = ['Elevation' ,'Wilderness_Area4' , 'Soil_Type10' , 'Wilderness_Area3' , 'Horizontal_Distance_To_Roadways' , \n",
    "#                'Wilderness_Area1' , 'Soil_Type39', 'Horizontal_Distance_To_Fire_Points' ,'Soil_Type38','Soil_Type40']\n",
    "\n",
    "useful_features = featurescores['column name'].head(20)\n"
   ]
  },
  {
   "cell_type": "code",
   "execution_count": null,
   "id": "2e595c76",
   "metadata": {},
   "outputs": [],
   "source": [
    "useful_features\n"
   ]
  },
  {
   "cell_type": "code",
   "execution_count": null,
   "id": "c375996d",
   "metadata": {},
   "outputs": [],
   "source": [
    "X_res = X_res[useful_features]\n"
   ]
  },
  {
   "cell_type": "code",
   "execution_count": null,
   "id": "0920b45d",
   "metadata": {},
   "outputs": [],
   "source": [
    "x_train,x_test,y_train,y_test = train_test_split(X_res,y_res,test_size = 0.2)\n"
   ]
  },
  {
   "cell_type": "code",
   "execution_count": null,
   "id": "5c990cb3",
   "metadata": {},
   "outputs": [],
   "source": [
    "def objective_xgb(trial):\n",
    "    xgb_params = {\n",
    "        'learning_rate': 0.01,\n",
    "        'tree_method': 'gpu_hist',\n",
    "        'booster': 'gbtree',\n",
    "        'n_estimators': trial.suggest_int('n_estimators', 500, 4000, 100),\n",
    "        'reg_lambda': trial.suggest_int('reg_lambda', 1, 100),\n",
    "        'reg_alpha': trial.suggest_int('reg_alpha', 1, 100),\n",
    "        'subsample': trial.suggest_float('subsample', 0.2, 1.0, step=0.1),\n",
    "        'colsample_bytree': trial.suggest_float('colsample_bytree', 0.2, 1.0, step=0.1),\n",
    "        'max_depth': trial.suggest_int('max_depth', 3, 10), \n",
    "        'min_child_weight': trial.suggest_int('min_child_weight', 2, 10),\n",
    "        'gamma': trial.suggest_float('gamma', 0, 20)        \n",
    "    }\n",
    "    \n",
    "    pipe = Pipeline(steps = [\n",
    "    \n",
    "    ('step1' , StandardScaler()),\n",
    "    ('step2' , XGBClassifier(**xgb_params))\n",
    "     ])\n",
    "    \n",
    "    pipe.fit(x_train,y_train)\n",
    "    y_pred = pipe.predict(x_test)\n",
    "    return accuracy_score(y_test,y_pred)\n"
   ]
  },
  {
   "cell_type": "code",
   "execution_count": null,
   "id": "cb08dcab",
   "metadata": {},
   "outputs": [],
   "source": [
    "study_xgb= optuna.create_study(direction = 'maximize')\n",
    "study_xgb.optimize(objective_xgb, n_trials=50)\n"
   ]
  },
  {
   "cell_type": "code",
   "execution_count": null,
   "id": "283c63d6",
   "metadata": {},
   "outputs": [],
   "source": [
    "best_params_xgb = study_xgb.best_params\n"
   ]
  },
  {
   "cell_type": "code",
   "execution_count": null,
   "id": "82f9c507",
   "metadata": {},
   "outputs": [],
   "source": [
    "pipe = Pipeline(steps = [\n",
    "    \n",
    "    ('step1' , StandardScaler()),\n",
    "    ('step2' , XGBClassifier(**best_params_xgb))\n",
    "     ])\n"
   ]
  },
  {
   "cell_type": "code",
   "execution_count": null,
   "id": "229c40b2",
   "metadata": {},
   "outputs": [],
   "source": [
    "pipe.fit(x_train,y_train)\n"
   ]
  },
  {
   "cell_type": "code",
   "execution_count": null,
   "id": "f0339285",
   "metadata": {},
   "outputs": [],
   "source": [
    "df_test = df_test[useful_features]\n",
    "Final_pred = pipe.predict(df_test)\n"
   ]
  },
  {
   "cell_type": "code",
   "execution_count": null,
   "id": "40b4fbdd",
   "metadata": {},
   "outputs": [],
   "source": [
    "submission['Cover_Type'] = Final_pred\n",
    "submission.to_csv('Submission.csv' , index=False)\n"
   ]
  }
 ],
 "metadata": {},
 "nbformat": 4,
 "nbformat_minor": 5
}
