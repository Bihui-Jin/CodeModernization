{
 "cells": [
  {
   "cell_type": "code",
   "execution_count": null,
   "id": "ef2752cf",
   "metadata": {},
   "outputs": [],
   "source": [
    "import pandas as pd\n",
    "from pathlib import Path"
   ]
  },
  {
   "cell_type": "code",
   "execution_count": null,
   "id": "bd28f869",
   "metadata": {},
   "outputs": [],
   "source": [
    "import pandas as pd\n",
    "\n",
    "sub = pd.read_csv('../input/best-private-sub/effnet6_image_chrisgroupkfold_fastplatoschedule_cutoutshiftsrotates_customaugs_denseelu_mdropout_difflrs_distributed_bigbatch_nodupls_384res_extrenaldata1817_batchacum4_SWA_6ttamicroscope6randomttas_meanfolds.csv')\n",
    "sub.to_csv('submission.csv', index=False)\n"
   ]
  }
 ],
 "metadata": {},
 "nbformat": 4,
 "nbformat_minor": 5
}
