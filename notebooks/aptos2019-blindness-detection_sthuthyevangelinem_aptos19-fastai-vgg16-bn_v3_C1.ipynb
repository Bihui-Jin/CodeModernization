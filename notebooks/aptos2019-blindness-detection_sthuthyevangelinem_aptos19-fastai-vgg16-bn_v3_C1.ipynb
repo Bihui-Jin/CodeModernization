{
 "cells": [
  {
   "cell_type": "code",
   "execution_count": null,
   "id": "a415adc7",
   "metadata": {},
   "outputs": [],
   "source": [
    "import pandas as pd\n",
    "from pathlib import Path"
   ]
  },
  {
   "cell_type": "code",
   "execution_count": null,
   "id": "581e8fca",
   "metadata": {},
   "outputs": [],
   "source": [
    "# This Python 3 environment comes with many helpful analytics libraries installed\n",
    "# It is defined by the kaggle/python docker image: https://github.com/kaggle/docker-python\n",
    "# For example, here's several helpful packages to load in \n",
    "\n",
    "import numpy as np # linear algebra\n",
    "import pandas as pd # data processing, CSV file I/O (e.g. pd.read_csv)\n",
    "\n",
    "# Input data files are available in the \"../input/\" directory.\n",
    "# For example, running this (by clicking run or pressing Shift+Enter) will list the files in the input directory\n",
    "\n",
    "import os\n",
    "print(os.listdir(\"../input\"))\n",
    "\n",
    "# Any results you write to the current directory are saved as output.\n"
   ]
  },
  {
   "cell_type": "code",
   "execution_count": null,
   "id": "c9642b54",
   "metadata": {},
   "outputs": [],
   "source": [
    "%reload_ext autoreload\n",
    "%autoreload 2\n",
    "%matplotlib inline\n"
   ]
  },
  {
   "cell_type": "code",
   "execution_count": null,
   "id": "dae7d391",
   "metadata": {},
   "outputs": [],
   "source": [
    "import os\n",
    "import json\n",
    "from fastai.vision import *\n"
   ]
  },
  {
   "cell_type": "code",
   "execution_count": null,
   "id": "e69cd787",
   "metadata": {},
   "outputs": [],
   "source": [
    "tfms = get_transforms(do_flip=True, flip_vert=False, max_rotate=None, max_zoom=1.05, max_lighting=None, max_warp=0,\n",
    "                      xtra_tfms=[brightness(change=(0.3,0.7),p=0.75), contrast(scale=(0.5,1.0),p=0.75)])\n"
   ]
  },
  {
   "cell_type": "code",
   "execution_count": null,
   "id": "0214f5df",
   "metadata": {},
   "outputs": [],
   "source": [
    "data_path = \"../input\"\n",
    "train_label_file = \"train.csv\"\n",
    "train_images_folder = \"train_images\"\n",
    "test_label_file = \"test.csv\"\n",
    "test_images_folder = \"test_images\"\n",
    "image_suffix = \".png\"\n",
    "split_pct = 0.2\n"
   ]
  },
  {
   "cell_type": "code",
   "execution_count": null,
   "id": "94f2d605",
   "metadata": {},
   "outputs": [],
   "source": [
    "fname = os.path.join(data_path, train_label_file)\n"
   ]
  },
  {
   "cell_type": "code",
   "execution_count": null,
   "id": "3a804e19",
   "metadata": {},
   "outputs": [],
   "source": [
    "df = pd.read_csv(fname)\n",
    "df.head(5)\n"
   ]
  },
  {
   "cell_type": "code",
   "execution_count": null,
   "id": "ed6ff852",
   "metadata": {},
   "outputs": [],
   "source": [
    "np.random.seed(42)\n",
    "src = (ImageList.from_csv(data_path, train_label_file, folder=train_images_folder, suffix=image_suffix)\n",
    "       .split_by_rand_pct(split_pct)\n",
    "       .label_from_df())\n",
    "src\n"
   ]
  },
  {
   "cell_type": "code",
   "execution_count": null,
   "id": "e45d8c83",
   "metadata": {},
   "outputs": [],
   "source": [
    "aptos19_stats = ([0.42, 0.22, 0.075], [0.27, 0.15, 0.081])\n"
   ]
  },
  {
   "cell_type": "code",
   "execution_count": null,
   "id": "d30c8fd8",
   "metadata": {},
   "outputs": [],
   "source": [
    "data = (src.transform(tfms, size=224)\n",
    "        .databunch(bs=64).normalize(aptos19_stats))\n",
    "data.c, data.classes\n"
   ]
  },
  {
   "cell_type": "code",
   "execution_count": null,
   "id": "2e152ca0",
   "metadata": {},
   "outputs": [],
   "source": [
    "data.show_batch(rows=3, figsize=(8, 8))\n"
   ]
  },
  {
   "cell_type": "code",
   "execution_count": null,
   "id": "ddb47386",
   "metadata": {},
   "outputs": [],
   "source": [
    "arch = models.densenet121\n"
   ]
  },
  {
   "cell_type": "code",
   "execution_count": null,
   "id": "f1a14c3f",
   "metadata": {},
   "outputs": [],
   "source": [
    "kappa = KappaScore()\n",
    "kappa.weights = \"quadratic\"\n"
   ]
  },
  {
   "cell_type": "code",
   "execution_count": null,
   "id": "2c7d0498",
   "metadata": {},
   "outputs": [],
   "source": [
    "learn = cnn_learner(data, arch, metrics=[kappa], model_dir=\"/tmp/model/\")\n"
   ]
  },
  {
   "cell_type": "code",
   "execution_count": null,
   "id": "d2c7f6c0",
   "metadata": {},
   "outputs": [],
   "source": [
    "learn.lr_find()\n",
    "learn.recorder.plot(suggestion=True)\n"
   ]
  },
  {
   "cell_type": "code",
   "execution_count": null,
   "id": "8e8b5c19",
   "metadata": {},
   "outputs": [],
   "source": [
    "lr = 1e-3\n"
   ]
  },
  {
   "cell_type": "code",
   "execution_count": null,
   "id": "e313b0a4",
   "metadata": {},
   "outputs": [],
   "source": [
    "learn.fit_one_cycle(5, slice(lr))\n"
   ]
  },
  {
   "cell_type": "code",
   "execution_count": null,
   "id": "95507b78",
   "metadata": {},
   "outputs": [],
   "source": [
    "learn.recorder.plot_losses()\n"
   ]
  },
  {
   "cell_type": "code",
   "execution_count": null,
   "id": "3ee85a53",
   "metadata": {},
   "outputs": [],
   "source": [
    "learn.save('headonly')\n"
   ]
  },
  {
   "cell_type": "code",
   "execution_count": null,
   "id": "ae2b8d2a",
   "metadata": {},
   "outputs": [],
   "source": [
    "learn.load('headonly');\n"
   ]
  },
  {
   "cell_type": "code",
   "execution_count": null,
   "id": "128ec384",
   "metadata": {},
   "outputs": [],
   "source": [
    "learn.unfreeze()\n"
   ]
  },
  {
   "cell_type": "code",
   "execution_count": null,
   "id": "472cb612",
   "metadata": {},
   "outputs": [],
   "source": [
    "learn.lr_find()\n",
    "learn.recorder.plot(suggestion=True)\n"
   ]
  },
  {
   "cell_type": "code",
   "execution_count": null,
   "id": "a5d59f9d",
   "metadata": {},
   "outputs": [],
   "source": [
    "class SaveBestModel(Recorder):\n",
    "    def __init__(self, learn, name):\n",
    "        super().__init__(learn)\n",
    "        self.name = name\n",
    "        self.best_loss = None\n",
    "        self.save_method = self.save_when_loss\n",
    "        \n",
    "    def save_when_loss(self, metrics):\n",
    "        loss = metrics[0]\n",
    "        if self.best_loss == None or loss < self.best_loss:\n",
    "            self.best_loss = loss\n",
    "            self.learn.save(self.name, return_path=True)\n",
    "            print(\"Saved the model for minimum loss {:.6f}\".format(self.best_loss))\n",
    "            \n",
    "    def on_epoch_end(self, last_metrics=MetricsList,**kwargs:Any):\n",
    "        self.save_method(last_metrics)\n"
   ]
  },
  {
   "cell_type": "code",
   "execution_count": null,
   "id": "cf291650",
   "metadata": {},
   "outputs": [],
   "source": [
    "best_model = SaveBestModel(learn, name = \"best_model\")\n"
   ]
  },
  {
   "cell_type": "code",
   "execution_count": null,
   "id": "b14a7f99",
   "metadata": {},
   "outputs": [],
   "source": [
    "learn.fit_one_cycle(2, slice(5e-4, lr/5))\n"
   ]
  },
  {
   "cell_type": "code",
   "execution_count": null,
   "id": "fbaff814",
   "metadata": {},
   "outputs": [],
   "source": [
    "learn.save('best_model')\n"
   ]
  },
  {
   "cell_type": "code",
   "execution_count": null,
   "id": "652419a2",
   "metadata": {},
   "outputs": [],
   "source": [
    "learn.load('best_model');\n"
   ]
  },
  {
   "cell_type": "code",
   "execution_count": null,
   "id": "7acad5d3",
   "metadata": {},
   "outputs": [],
   "source": [
    "sample_df = pd.read_csv('../input/sample_submission.csv')\n",
    "sample_df.head()\n"
   ]
  },
  {
   "cell_type": "code",
   "execution_count": null,
   "id": "7ca00183",
   "metadata": {},
   "outputs": [],
   "source": [
    "test = ImageList.from_df(sample_df, data_path, folder=test_images_folder, suffix=image_suffix)\n"
   ]
  },
  {
   "cell_type": "code",
   "execution_count": null,
   "id": "b884af7d",
   "metadata": {},
   "outputs": [],
   "source": [
    "learn.data.add_test(test, label=test_label_file)\n"
   ]
  },
  {
   "cell_type": "code",
   "execution_count": null,
   "id": "29a8a5c3",
   "metadata": {},
   "outputs": [],
   "source": [
    "preds = learn.get_preds(ds_type=DatasetType.Test)\n"
   ]
  },
  {
   "cell_type": "code",
   "execution_count": null,
   "id": "c2093817",
   "metadata": {},
   "outputs": [],
   "source": [
    "preds1, y = preds\n"
   ]
  },
  {
   "cell_type": "code",
   "execution_count": null,
   "id": "7c1df0fe",
   "metadata": {},
   "outputs": [],
   "source": [
    "sample_df.diagnosis = preds1.argmax(1)\n",
    "sample_df.head(10)\n"
   ]
  },
  {
   "cell_type": "code",
   "execution_count": null,
   "id": "65f2ad0c",
   "metadata": {},
   "outputs": [],
   "source": [
    "sample_df.to_csv('submission.csv',index=False)\n",
    "_ = sample_df.hist()\n"
   ]
  }
 ],
 "metadata": {},
 "nbformat": 4,
 "nbformat_minor": 5
}
