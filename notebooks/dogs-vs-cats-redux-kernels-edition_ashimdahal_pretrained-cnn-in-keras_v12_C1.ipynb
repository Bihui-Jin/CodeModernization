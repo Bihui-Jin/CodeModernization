{
 "cells": [
  {
   "cell_type": "code",
   "execution_count": null,
   "id": "19f87ec4",
   "metadata": {},
   "outputs": [],
   "source": [
    "import pandas as pd\n",
    "from pathlib import Path"
   ]
  },
  {
   "cell_type": "code",
   "execution_count": null,
   "id": "a004cffc",
   "metadata": {},
   "outputs": [],
   "source": [
    "import numpy as np # linear algebra\n",
    "import pandas as pd # data processing, CSV file I/O (e.g. pd.read_csv)\n",
    "import tensorflow as tf\n",
    "from cv2 import cv2\n",
    "import zipfile\n",
    "import os\n",
    "import matplotlib.pyplot as plt\n"
   ]
  },
  {
   "cell_type": "code",
   "execution_count": null,
   "id": "f6861970",
   "metadata": {},
   "outputs": [],
   "source": [
    "TEST_DIR = '../input/dogs-vs-cats-redux-kernels-edition/test.zip'\n",
    "TRAIN_DIR = '../input/dogs-vs-cats-redux-kernels-edition/train.zip'\n"
   ]
  },
  {
   "cell_type": "code",
   "execution_count": null,
   "id": "9a75f44f",
   "metadata": {},
   "outputs": [],
   "source": [
    "#you can execute this  only once\n",
    "with zipfile.ZipFile(TRAIN_DIR,'r') as trainfile:\n",
    "    trainfile.extractall()\n",
    "with zipfile.ZipFile(TEST_DIR,'r') as trainfile:\n",
    "    trainfile.extractall()\n"
   ]
  },
  {
   "cell_type": "code",
   "execution_count": null,
   "id": "e9e52db8",
   "metadata": {},
   "outputs": [],
   "source": [
    "!ls\n"
   ]
  },
  {
   "cell_type": "code",
   "execution_count": null,
   "id": "fa3086e3",
   "metadata": {},
   "outputs": [],
   "source": [
    "testdir ='test/'\n",
    "traindir = 'train/'\n"
   ]
  },
  {
   "cell_type": "code",
   "execution_count": null,
   "id": "fa651975",
   "metadata": {},
   "outputs": [],
   "source": [
    "test_images = [testdir+i for i in os.listdir(testdir)]\n",
    "all_images = [traindir+i for i in os.listdir(traindir)]\n",
    "\n",
    "limit = int( 0.8* len(all_images))\n",
    "\n",
    "train_images = all_images[0:limit]\n",
    "validation_images = all_images[limit:]\n"
   ]
  },
  {
   "cell_type": "code",
   "execution_count": null,
   "id": "047ad0f3",
   "metadata": {},
   "outputs": [],
   "source": [
    "img = cv2.imread(train_images[1])\n",
    "plt.imshow(img)\n"
   ]
  },
  {
   "cell_type": "code",
   "execution_count": null,
   "id": "bf808e10",
   "metadata": {},
   "outputs": [],
   "source": [
    "rows, columns = 160,160\n"
   ]
  },
  {
   "cell_type": "code",
   "execution_count": null,
   "id": "d20676d3",
   "metadata": {},
   "outputs": [],
   "source": [
    "def getallimages(path):\n",
    "    actualdata = np.ndarray((len(path),rows,columns,3),dtype=np.uint8)\n",
    "    for index , file in enumerate(path):\n",
    "        img = cv2.imread(file)\n",
    "        img= cv2.resize(img, (rows, columns), interpolation=cv2.INTER_CUBIC)\n",
    "#         img = tf.cast(img,tf.float32)\n",
    "#         img = (img/127.5) - 1\n",
    "#         img = tf.image.resize(img, (rows, columns))\n",
    "        actualdata[index] = img\n",
    "    return actualdata\n",
    "train = getallimages(train_images)\n",
    "test = getallimages(test_images)\n"
   ]
  },
  {
   "cell_type": "code",
   "execution_count": null,
   "id": "e1a85f08",
   "metadata": {},
   "outputs": [],
   "source": [
    "validation = getallimages(validation_images)\n"
   ]
  },
  {
   "cell_type": "code",
   "execution_count": null,
   "id": "f2c3fb20",
   "metadata": {},
   "outputs": [],
   "source": [
    "test.shape\n"
   ]
  },
  {
   "cell_type": "code",
   "execution_count": null,
   "id": "c317f2df",
   "metadata": {},
   "outputs": [],
   "source": [
    "label = [1 if 'dog' in i else 0 for i in train_images]\n",
    "validation_label = [1 if 'dog' in i else 0 for i in validation_images]\n",
    "\n",
    "validation_label[:10]\n"
   ]
  },
  {
   "cell_type": "code",
   "execution_count": null,
   "id": "7597c4f9",
   "metadata": {},
   "outputs": [],
   "source": [
    "image_shape = (rows,rows,3)\n"
   ]
  },
  {
   "cell_type": "code",
   "execution_count": null,
   "id": "da2cb886",
   "metadata": {},
   "outputs": [],
   "source": [
    "type(train)\n"
   ]
  },
  {
   "cell_type": "code",
   "execution_count": null,
   "id": "b68de310",
   "metadata": {},
   "outputs": [],
   "source": [
    "base_model = tf.keras.applications.ResNet101(\n",
    "    weights = 'imagenet', include_top=False, input_shape=image_shape)\n"
   ]
  },
  {
   "cell_type": "code",
   "execution_count": null,
   "id": "15a6c772",
   "metadata": {},
   "outputs": [],
   "source": [
    "base_model.trainable=False\n"
   ]
  },
  {
   "cell_type": "code",
   "execution_count": null,
   "id": "525fcec3",
   "metadata": {},
   "outputs": [],
   "source": [
    "base_model.summary()\n"
   ]
  },
  {
   "cell_type": "code",
   "execution_count": null,
   "id": "46ff0418",
   "metadata": {},
   "outputs": [],
   "source": [
    "model = tf.keras.Sequential([\n",
    "    base_model,\n",
    "    tf.keras.layers.GlobalAveragePooling2D(),\n",
    "   \n",
    "    tf.keras.layers.Dense(1,activation='sigmoid')\n",
    "    \n",
    "])\n"
   ]
  },
  {
   "cell_type": "code",
   "execution_count": null,
   "id": "588e61d7",
   "metadata": {},
   "outputs": [],
   "source": [
    "model.summary()\n"
   ]
  },
  {
   "cell_type": "code",
   "execution_count": null,
   "id": "1f92d7b1",
   "metadata": {},
   "outputs": [],
   "source": [
    "# train_dataset = tf.data.Dataset.from_tensor_slices((train,label))\n",
    "# validation_ds = tf.data.Dataset.from_tensor_slices((validation,validation_label))\n",
    "\n",
    "# BATCH_SIZE = 64\n",
    "# SHUFFLE_BUFFER_SIZE = 10000\n",
    "# validation_batches = validation_ds.batch(BATCH_SIZE)\n",
    "# train_dataset = train_dataset.shuffle(SHUFFLE_BUFFER_SIZE).batch(BATCH_SIZE)\n"
   ]
  },
  {
   "cell_type": "code",
   "execution_count": null,
   "id": "ae651625",
   "metadata": {},
   "outputs": [],
   "source": [
    "base_learning_rate = 0.001\n",
    "# you can use this tootf.keras.optimizers.RMSprop(learning_rate=base_learning_rate\n",
    "model.compile(optimizer='adam',\n",
    "              loss=tf.keras.losses.BinaryCrossentropy(from_logits=True),\n",
    "              metrics=['accuracy'])\n"
   ]
  },
  {
   "cell_type": "code",
   "execution_count": null,
   "id": "e2b4377b",
   "metadata": {},
   "outputs": [],
   "source": [
    "epochs = 10\n",
    "validation_steps=20\n",
    "\n",
    "# model.evaluate(validation,validation_label, steps = validation_steps)\n"
   ]
  },
  {
   "cell_type": "code",
   "execution_count": null,
   "id": "3aef52fd",
   "metadata": {},
   "outputs": [],
   "source": [
    "model.fit(x=np.array(train),y=np.array(label),validation_data=(np.array(validation),np.array(validation_label)) ,batch_size=128,epochs=epochs,shuffle=True)\n"
   ]
  },
  {
   "cell_type": "code",
   "execution_count": null,
   "id": "47dc2e31",
   "metadata": {},
   "outputs": [],
   "source": [
    "prediction  = model.predict_proba(test,verbose=1)\n"
   ]
  },
  {
   "cell_type": "code",
   "execution_count": null,
   "id": "cad58166",
   "metadata": {},
   "outputs": [],
   "source": [
    "plt.xlabel(prediction[4][0])\n",
    "plt.imshow(test[4])\n"
   ]
  },
  {
   "cell_type": "code",
   "execution_count": null,
   "id": "20a9c16f",
   "metadata": {},
   "outputs": [],
   "source": [
    "# model.save('dgvscat.h5)\n"
   ]
  },
  {
   "cell_type": "code",
   "execution_count": null,
   "id": "0c64d5e7",
   "metadata": {},
   "outputs": [],
   "source": [
    " \n",
    "test_id = [i.split('/')[1][:-4] for i in test_images]\n",
    "\n",
    "predictions_df = pd.DataFrame({'id': test_id, 'label': prediction[:,0]})\n",
    "predictions_df\n",
    "predictions_df.to_csv(\"submission.csv\", index=False,header=True)\n"
   ]
  }
 ],
 "metadata": {},
 "nbformat": 4,
 "nbformat_minor": 5
}
