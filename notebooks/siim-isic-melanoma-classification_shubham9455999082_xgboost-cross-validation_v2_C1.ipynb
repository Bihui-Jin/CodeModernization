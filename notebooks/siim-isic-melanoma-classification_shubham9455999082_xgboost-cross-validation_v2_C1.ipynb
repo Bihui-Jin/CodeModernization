{
 "cells": [
  {
   "cell_type": "code",
   "execution_count": null,
   "id": "ef7bf9eb",
   "metadata": {},
   "outputs": [],
   "source": [
    "import pandas as pd\n",
    "from pathlib import Path"
   ]
  },
  {
   "cell_type": "code",
   "execution_count": null,
   "id": "f5407d8a",
   "metadata": {},
   "outputs": [],
   "source": [
    "!pip install xgboost\n",
    "\n",
    "import numpy as np\n",
    "import pandas as pd\n",
    "\n",
    "from sklearn.datasets import load_iris\n",
    "import xgboost as xgb\n",
    "from sklearn.metrics import accuracy_score\n"
   ]
  },
  {
   "cell_type": "code",
   "execution_count": null,
   "id": "65e324f6",
   "metadata": {},
   "outputs": [],
   "source": [
    "train= pd.read_csv('../input/siim-isic-melanoma-classification/train.csv')\n",
    "test= pd.read_csv('../input/siim-isic-melanoma-classification/test.csv')\n",
    "sub= pd.read_csv('../input/siim-isic-melanoma-classification/sample_submission.csv')\n"
   ]
  },
  {
   "cell_type": "code",
   "execution_count": null,
   "id": "fd6c326a",
   "metadata": {},
   "outputs": [],
   "source": [
    "train['sex'] = train['sex'].fillna('na')\n",
    "train['age_approx'] = train['age_approx'].fillna(0)\n",
    "train['anatom_site_general_challenge'] = train['anatom_site_general_challenge'].fillna('na')\n",
    "\n",
    "test['sex'] = test['sex'].fillna('na')\n",
    "test['age_approx'] = test['age_approx'].fillna(0)\n",
    "test['anatom_site_general_challenge'] = test['anatom_site_general_challenge'].fillna('na')\n",
    "train['sex'] = train['sex'].astype(\"category\").cat.codes +1\n",
    "train['anatom_site_general_challenge'] = train['anatom_site_general_challenge'].astype(\"category\").cat.codes +1\n",
    "train.head()\n"
   ]
  },
  {
   "cell_type": "code",
   "execution_count": null,
   "id": "b74d768e",
   "metadata": {},
   "outputs": [],
   "source": [
    "test['sex'] = test['sex'].astype(\"category\").cat.codes +1\n",
    "test['anatom_site_general_challenge'] = test['anatom_site_general_challenge'].astype(\"category\").cat.codes +1\n",
    "test.head()\n"
   ]
  },
  {
   "cell_type": "code",
   "execution_count": null,
   "id": "a2102769",
   "metadata": {},
   "outputs": [],
   "source": [
    "x_train = train[['sex', 'age_approx','anatom_site_general_challenge']]\n",
    "y_train = train['target']\n",
    "\n",
    "\n",
    "x_test = test[['sex', 'age_approx','anatom_site_general_challenge']]\n",
    "# y_train = test['target']\n",
    "\n",
    "\n",
    "train_DMatrix = xgb.DMatrix(x_train, label= y_train)\n",
    "test_DMatrix = xgb.DMatrix(x_test)\n"
   ]
  },
  {
   "cell_type": "code",
   "execution_count": null,
   "id": "a748b71b",
   "metadata": {},
   "outputs": [],
   "source": [
    " \n"
   ]
  },
  {
   "cell_type": "code",
   "execution_count": null,
   "id": "93eda8ad",
   "metadata": {},
   "outputs": [],
   "source": [
    "clf = xgb.XGBClassifier(n_estimators=2600, \n",
    "                        max_depth=20, \n",
    "                        objective='multi:softprob',\n",
    "                        seed=0,  \n",
    "                        nthread=-1, \n",
    "                        learning_rate=0.15, \n",
    "                        num_class = 2, \n",
    "                        scale_pos_weight = (32542/584))\n",
    "\n",
    "clf.fit(x_train, y_train)\n"
   ]
  },
  {
   "cell_type": "code",
   "execution_count": null,
   "id": "5ffcb02c",
   "metadata": {},
   "outputs": [],
   "source": [
    "clf.predict_proba(x_test)[:,1]\n",
    "# clf.predict(x_test)\n",
    "sub.target = clf.predict_proba(x_test)[:,1]\n",
    "sub_tabular = sub.copy()\n"
   ]
  },
  {
   "cell_type": "code",
   "execution_count": null,
   "id": "5530c9d4",
   "metadata": {},
   "outputs": [],
   "source": [
    "#sub_tabular.to_csv('submission.csv', index = False)\n"
   ]
  },
  {
   "cell_type": "code",
   "execution_count": null,
   "id": "0e7948fd",
   "metadata": {},
   "outputs": [],
   "source": [
    "##Ensemble for 0.9565\n",
    "# sub_new = pd.read_csv('../input/siimisic/sub-new.csv')\n",
    "# sub_mean = pd.read_csv('/kaggle/input/siimisic/submission_mean.csv')\n",
    "# sub.target = sub_mean.target *0.2 + sub_new.target *0.6 + sub_tabular.target *0.2\n",
    "# sub.head()\n"
   ]
  },
  {
   "cell_type": "code",
   "execution_count": null,
   "id": "26cbfc24",
   "metadata": {},
   "outputs": [],
   "source": [
    "sub_tabular\n"
   ]
  },
  {
   "cell_type": "code",
   "execution_count": null,
   "id": "7ff67629",
   "metadata": {},
   "outputs": [],
   "source": [
    "ens_sub = pd.read_csv('../input/actual-output/submission.csv')\n",
    "ens_sub.to_csv('ens_sub.csv', index = False)\n"
   ]
  },
  {
   "cell_type": "code",
   "execution_count": null,
   "id": "4e4f9599",
   "metadata": {},
   "outputs": [],
   "source": [
    "sub['target'] = (ens_sub.target - sub_tabular.target*0.2)/0.8\n",
    "sub.to_csv('efn_sub.csv', index = False)\n"
   ]
  },
  {
   "cell_type": "code",
   "execution_count": null,
   "id": "97dad4a1",
   "metadata": {},
   "outputs": [],
   "source": [
    " \n"
   ]
  },
  {
   "cell_type": "code",
   "execution_count": null,
   "id": "6ef60d0e",
   "metadata": {},
   "outputs": [],
   "source": [
    "'''from scipy import stats\n",
    "from xgboost import XGBClassifier\n",
    "from sklearn.model_selection import RandomizedSearchCV, KFold\n",
    "from sklearn.metrics import f1_score\n",
    "\n",
    "clf_xgb = XGBClassifier(objective = 'binary:logistic')\n",
    "param_dist = {'n_estimators': stats.randint(150, 500),\n",
    "              'learning_rate': stats.uniform(0.01, 0.07),\n",
    "              'subsample': stats.uniform(0.3, 0.7),\n",
    "              'max_depth': [3, 4, 5, 6, 7, 8, 9],\n",
    "              'colsample_bytree': stats.uniform(0.5, 0.45),\n",
    "              'min_child_weight': [1, 2, 3]\n",
    "             }\n",
    "clf = RandomizedSearchCV(clf_xgb, param_distributions = param_dist, n_iter = 25, scoring = 'f1', error_score = 0, verbose = 3, n_jobs = -1)\n",
    "\n",
    "numFolds = 5\n",
    "folds = KFold(n_splits = numFolds, shuffle = True)\n",
    "\n",
    "estimators = []\n",
    "results = np.zeros(len(x_train))\n",
    "score = 0.0\n",
    "for train_index, test_index in folds.split(x_train):\n",
    "    X_train, X_test = x_train[train_index,:], x_train.iloc[test_index,:]\n",
    "    y_train, y_test = y.iloc[train_index].values.ravel(), y.iloc[test_index].values.ravel()\n",
    "    clf.fit(X_train, y_train)\n",
    "\n",
    "    estimators.append(clf.best_estimator_)\n",
    "    results[test_index] = clf.predict(X_test)\n",
    "    score += f1_score(y_test, results[test_index])\n",
    "score /= numFolds'''\n"
   ]
  },
  {
   "cell_type": "code",
   "execution_count": null,
   "id": "e8a15ab5",
   "metadata": {},
   "outputs": [],
   "source": [
    "from scipy import stats\n",
    "from xgboost import XGBClassifier\n",
    "from sklearn.model_selection import RandomizedSearchCV, KFold\n",
    "from sklearn.metrics import f1_score\n",
    "\n",
    "clf_xgb = XGBClassifier(objective = 'multi:softprob')\n",
    "param_dist = {'n_estimators': stats.randint(150, 500),\n",
    "              'learning_rate': stats.uniform(0.01, 0.07),\n",
    "              'subsample': stats.uniform(0.3, 0.7),\n",
    "               'num_class':  (2,3),\n",
    "              'max_depth': [3, 4, 5, 6, 7, 8, 9],\n",
    "              'colsample_bytree': stats.uniform(0.5, 0.45),\n",
    "              'min_child_weight': [1, 2, 3]\n",
    "             }\n",
    "clf = RandomizedSearchCV(clf_xgb, param_distributions = param_dist, n_iter = 25, scoring = 'f1', error_score = 0, verbose = 3, n_jobs = -1)\n"
   ]
  },
  {
   "cell_type": "code",
   "execution_count": null,
   "id": "eae57227",
   "metadata": {},
   "outputs": [],
   "source": [
    "clf.fit(x_train, y_train)\n"
   ]
  },
  {
   "cell_type": "code",
   "execution_count": null,
   "id": "3f6dec69",
   "metadata": {},
   "outputs": [],
   "source": [
    "clf.best_params_\n"
   ]
  },
  {
   "cell_type": "code",
   "execution_count": null,
   "id": "76ccf042",
   "metadata": {},
   "outputs": [],
   "source": [
    "clf1 = xgb.XGBClassifier(n_estimators=432, \n",
    "                        max_depth=7, \n",
    "                        objective='multi:softprob',\n",
    "                        seed=0,  \n",
    "                        nthread=-1, \n",
    "                        learning_rate=0.015573109334896062,\n",
    "                        num_class = 2, \n",
    "                        scale_pos_weight = (32542/584))\n",
    "\n",
    "clf1.fit(x_train, y_train)\n"
   ]
  },
  {
   "cell_type": "code",
   "execution_count": null,
   "id": "777ce93d",
   "metadata": {},
   "outputs": [],
   "source": [
    "clf.predict_proba(x_test)[:,1]\n",
    "# clf.predict(x_test)\n",
    "sub.target = clf.predict_proba(x_test)[:,1]\n",
    "sub_tabular = sub.copy()\n"
   ]
  },
  {
   "cell_type": "code",
   "execution_count": null,
   "id": "ac9348dd",
   "metadata": {},
   "outputs": [],
   "source": [
    "sub_tabular.to_csv('submission.csv', index=False)\n"
   ]
  },
  {
   "cell_type": "code",
   "execution_count": null,
   "id": "f9bf65d2",
   "metadata": {},
   "outputs": [],
   "source": [
    " \n"
   ]
  }
 ],
 "metadata": {},
 "nbformat": 4,
 "nbformat_minor": 5
}
