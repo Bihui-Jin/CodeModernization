{
  "cells": [
    {
      "cell_type": "code",
      "execution_count": null,
      "id": "4b9bbe7b",
      "metadata": {},
      "outputs": [],
      "source": [
        "import pandas as pd\n",
        "from pathlib import Path"
      ]
    },
    {
      "cell_type": "code",
      "execution_count": null,
      "id": "fd725762",
      "metadata": {},
      "outputs": [],
      "source": [
        "# This Python 3 environment comes with many helpful analytics libraries installed\n",
        "# It is defined by the kaggle/python docker image: https://github.com/kaggle/docker-python\n",
        "# For example, here's several helpful packages to load in \n",
        "\n",
        "import numpy as np # linear algebra\n",
        "import pandas as pd # data processing, CSV file I/O (e.g. pd.read_csv)\n",
        "\n",
        "# Input data files are available in the \"../input/\" directory.\n",
        "# For example, running this (by clicking run or pressing Shift+Enter) will list the files in the input directory\n",
        "\n",
        "import os\n",
        "print(os.listdir(\"../input\"))\n",
        "\n",
        "# Any results you write to the current directory are saved as output.\n"
      ]
    },
    {
      "cell_type": "code",
      "execution_count": null,
      "id": "f4234826",
      "metadata": {},
      "outputs": [],
      "source": [
        "train = pd.read_csv('../input/train.csv') \n",
        "test= pd.read_csv('../input/test.csv')\n"
      ]
    },
    {
      "cell_type": "code",
      "execution_count": null,
      "id": "ae70127a",
      "metadata": {},
      "outputs": [],
      "source": [
        "x= train.drop(['id', 'species'], axis=1).values\n",
        "y= train['species']\n"
      ]
    },
    {
      "cell_type": "code",
      "execution_count": null,
      "id": "e3eb1244",
      "metadata": {},
      "outputs": [],
      "source": [
        "from sklearn.model_selection import train_test_split\n",
        "from sklearn.neural_network import MLPClassifier\n",
        "from sklearn.metrics import accuracy_score\n",
        "from sklearn.preprocessing import MinMaxScaler\n",
        "from sklearn.preprocessing import LabelEncoder\n"
      ]
    },
    {
      "cell_type": "code",
      "execution_count": null,
      "id": "78a25d2b",
      "metadata": {},
      "outputs": [],
      "source": [
        "X_train,X_test,y_train,y_test =train_test_split(x,y)\n",
        "le = LabelEncoder().fit(train['species'])\n",
        "scaler=MinMaxScaler()\n",
        "X_tranf=scaler.fit_transform(X_train)\n",
        "X_testf=scaler.transform(X_test)\n",
        "classes= list(le.classes_)\n"
      ]
    },
    {
      "cell_type": "code",
      "execution_count": null,
      "id": "cda95f7f",
      "metadata": {},
      "outputs": [],
      "source": [
        "print(X_train.shape)\n",
        "print(y_train.shape)\n"
      ]
    },
    {
      "cell_type": "code",
      "execution_count": null,
      "id": "0747f766",
      "metadata": {},
      "outputs": [],
      "source": [
        "mlp = MLPClassifier(solver='adam',hidden_layer_sizes=[20,20],random_state=1).fit(X_tranf,y_train)\n",
        "y_pred=mlp.predict(X_testf)\n"
      ]
    },
    {
      "cell_type": "code",
      "execution_count": null,
      "id": "1bce38bc",
      "metadata": {},
      "outputs": [],
      "source": [
        "accuracy=accuracy_score(y_pred,y_test)\n",
        "print('The accuracy is : ',round(accuracy*100,2))\n"
      ]
    },
    {
      "cell_type": "code",
      "execution_count": null,
      "id": "87c2cc4d",
      "metadata": {},
      "outputs": [],
      "source": [
        "test\n"
      ]
    },
    {
      "cell_type": "code",
      "execution_count": null,
      "id": "efa11331",
      "metadata": {},
      "outputs": [],
      "source": [
        "test_ids=test['id']\n"
      ]
    },
    {
      "cell_type": "code",
      "execution_count": null,
      "id": "b640e715",
      "metadata": {},
      "outputs": [],
      "source": [
        "test=test.drop(['id'],axis=1)\n"
      ]
    },
    {
      "cell_type": "code",
      "execution_count": null,
      "id": "9e57a63a",
      "metadata": {},
      "outputs": [],
      "source": [
        "result = mlp.predict_proba(test)\n",
        "Submit = pd.DataFrame(result, columns=classes)\n",
        "Submit.insert(0, 'id', test_ids)\n",
        "Submit.reset_index()\n",
        "\n",
        "\n",
        "#submission.to_csv('submission.csv', index = False)\n",
        "Submit.to_csv('leaf_classification.csv', index = False)\n",
        "Submit.tail()\n"
      ]
    }
  ],
  "metadata": {},
  "nbformat": 4,
  "nbformat_minor": 5
}