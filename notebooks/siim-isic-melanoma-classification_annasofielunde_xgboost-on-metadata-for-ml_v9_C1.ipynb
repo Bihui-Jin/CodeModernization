{
  "cells": [
    {
      "cell_type": "code",
      "execution_count": null,
      "id": "cc383c7c",
      "metadata": {},
      "outputs": [],
      "source": [
        "import pandas as pd\n",
        "from pathlib import Path"
      ]
    },
    {
      "cell_type": "code",
      "execution_count": null,
      "id": "2b237408",
      "metadata": {},
      "outputs": [],
      "source": [
        "# now we implement a model that will predict based on the metadata given in the original data. \n",
        "#source: https://www.kaggle.com/redwankarimsony/power-of-metadata-xgboost-cnn-ensemble\n",
        "\n",
        "\n",
        "!pip install xgboost\n",
        "import xgboost as xgb\n",
        "import numpy as np\n",
        "import pandas as pd\n",
        "from sklearn.metrics import accuracy_score\n",
        "import keras\n"
      ]
    },
    {
      "cell_type": "code",
      "execution_count": null,
      "id": "5aa78e22",
      "metadata": {},
      "outputs": [],
      "source": [
        "train = pd.read_csv('../input/siim-isic-melanoma-classification/train.csv')\n",
        "test = pd.read_csv('../input/siim-isic-melanoma-classification/test.csv')\n",
        "sub = pd.read_csv('../input/siim-isic-melanoma-classification/sample_submission.csv')\n",
        "train.head()\n"
      ]
    },
    {
      "cell_type": "code",
      "execution_count": null,
      "id": "e274af07",
      "metadata": {},
      "outputs": [],
      "source": [
        "train['sex'] = train['sex'].astype(\"category\").cat.codes +1\n",
        "train['anatom_site_general_challenge'] = train['anatom_site_general_challenge'].astype(\"category\").cat.codes +1\n",
        "test['sex'] = test['sex'].astype(\"category\").cat.codes +1\n",
        "test['anatom_site_general_challenge'] = test['anatom_site_general_challenge'].astype(\"category\").cat.codes +1\n",
        "train.head()\n"
      ]
    },
    {
      "cell_type": "code",
      "execution_count": null,
      "id": "24a73b2c",
      "metadata": {},
      "outputs": [],
      "source": [
        "train['sex'] = train['sex'].fillna('male')\n",
        "train['age_approx'] = train['age_approx'].fillna(train['age_approx'].mean())\n",
        "train['anatom_site_general_challenge'] = train['anatom_site_general_challenge'].fillna('torso')\n",
        "test['sex'] = test['sex'].fillna('male')\n",
        "test['age_approx'] = test['age_approx'].fillna(train['age_approx'].mean())\n",
        "test['anatom_site_general_challenge'] = test['anatom_site_general_challenge'].fillna('torso')\n",
        "train.head()\n"
      ]
    },
    {
      "cell_type": "code",
      "execution_count": null,
      "id": "5e0cfb39",
      "metadata": {},
      "outputs": [],
      "source": [
        "#to have a more balanced dataset, we create a new dataframe that contains a more equal percentage of each type of target image\n",
        "df_0=train[train['target']==0].sample(600)\n",
        "df_1=train[train['target']==1]\n",
        "train=pd.concat([df_0,df_1])\n",
        "train=train.reset_index()\n"
      ]
    },
    {
      "cell_type": "code",
      "execution_count": null,
      "id": "c9446979",
      "metadata": {},
      "outputs": [],
      "source": [
        "from sklearn.model_selection import train_test_split\n",
        "\n",
        "x_train_df = train[['sex', 'age_approx','anatom_site_general_challenge']]\n",
        "y_train_df = train['target']\n",
        "\n",
        "\n",
        "x_train, x_val, y_train, y_val = train_test_split(x_train_df, y_train_df, test_size=0.2, random_state=42)\n",
        "\n",
        "\n",
        "x_test = test[['sex', 'age_approx','anatom_site_general_challenge']]\n",
        "\n",
        "\n",
        "train_DMatrix = xgb.DMatrix(x_train, label= y_train)\n",
        "test_DMatrix = xgb.DMatrix(x_test)\n"
      ]
    },
    {
      "cell_type": "code",
      "execution_count": null,
      "id": "2e2e5030",
      "metadata": {},
      "outputs": [],
      "source": [
        "clf = xgb.XGBClassifier(n_estimators=2000, \n",
        "                        max_depth=8, \n",
        "                        objective='multi:softprob',\n",
        "                        seed=0,  \n",
        "                        nthread=-1, \n",
        "                        learning_rate=0.15, \n",
        "                        num_class = 2, \n",
        "                        scale_pos_weight = (32542/584))\n"
      ]
    },
    {
      "cell_type": "code",
      "execution_count": null,
      "id": "3e2b74b1",
      "metadata": {},
      "outputs": [],
      "source": [
        "clf.fit(x_train, y_train)\n"
      ]
    },
    {
      "cell_type": "code",
      "execution_count": null,
      "id": "011237f2",
      "metadata": {},
      "outputs": [],
      "source": [
        "preds = clf.predict_proba(x_val)[:,1]\n",
        "target = [round(value) for value in preds]\n"
      ]
    },
    {
      "cell_type": "code",
      "execution_count": null,
      "id": "400c1997",
      "metadata": {},
      "outputs": [],
      "source": [
        "# evaluate predictions\n",
        "accuracy = accuracy_score(y_val, target)\n",
        "print(\"Accuracy: %.2f%%\" % (accuracy * 100.0))\n"
      ]
    },
    {
      "cell_type": "code",
      "execution_count": null,
      "id": "23b16f10",
      "metadata": {},
      "outputs": [],
      "source": [
        "#the submission file:\n",
        "test_df = test[['sex', 'age_approx','anatom_site_general_challenge']]\n",
        "preds = clf.predict_proba(test_df)[:,1]\n",
        "target = [round(value) for value in preds]\n"
      ]
    },
    {
      "cell_type": "code",
      "execution_count": null,
      "id": "bd2e2d1c",
      "metadata": {},
      "outputs": [],
      "source": [
        "sub['target']=target\n",
        "sub.to_csv('submission.csv', index=False)\n",
        "sub.head()\n"
      ]
    }
  ],
  "metadata": {},
  "nbformat": 4,
  "nbformat_minor": 5
}