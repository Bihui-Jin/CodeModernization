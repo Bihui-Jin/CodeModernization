{
 "cells": [
  {
   "cell_type": "code",
   "execution_count": null,
   "id": "77084255",
   "metadata": {},
   "outputs": [],
   "source": [
    "import pandas as pd\n",
    "from pathlib import Path"
   ]
  },
  {
   "cell_type": "code",
   "execution_count": null,
   "id": "9b11555a",
   "metadata": {},
   "outputs": [],
   "source": [
    "# Пути к файлам\n",
    "labels_csv='../input/dog-breed-identification/labels.csv'\n",
    "sample_submission_csv='../input/dog-breed-identification/sample_submission.csv'\n",
    "\n",
    "# Пути до картинок\n",
    "jpg_train='../input/dog-breed-identification/train/{}.jpg'  \n",
    "jpg_test='../input/dog-breed-identification/test/{}.jpg'\n",
    "\n",
    "# Настройки нейросети\n",
    "im_resize = 64 # Размер изображения\n",
    "num_class = 120 # Кол-во классов\n",
    "batch_size = 32\n",
    "Epochs = 50\n"
   ]
  },
  {
   "cell_type": "code",
   "execution_count": null,
   "id": "597c05d9",
   "metadata": {},
   "outputs": [],
   "source": [
    "import numpy as np\n",
    "import pandas as pd\n",
    "%matplotlib inline\n",
    "import matplotlib.pyplot as plt\n",
    "\n",
    "import tensorflow.keras as keras\n",
    "from keras import regularizers\n",
    "from keras.models import Model\n",
    "from keras.models import Sequential\n",
    "from keras.layers.convolutional import Conv2D, MaxPooling2D\n",
    "from keras.layers import Dense, Dropout, Flatten\n",
    "from tensorflow.keras.metrics import categorical_accuracy, categorical_crossentropy\n",
    "import os\n",
    "from tqdm import tqdm\n",
    "from sklearn import preprocessing\n",
    "from sklearn.model_selection import train_test_split\n",
    "from keras.preprocessing.image import load_img\n",
    "from keras.preprocessing.image import img_to_array\n",
    "from keras.preprocessing.image import ImageDataGenerator\n"
   ]
  },
  {
   "cell_type": "code",
   "execution_count": null,
   "id": "066c8258",
   "metadata": {},
   "outputs": [],
   "source": [
    "def gen_graph(history, title):\n",
    "    plt.plot(history.history['loss'])\n",
    "    plt.plot(history.history['val_loss'])\n",
    "    plt.title('crossentropy ' + title)\n",
    "    plt.ylabel('crossentropy')\n",
    "    plt.xlabel('Epoch')\n",
    "    plt.legend(['train', 'validation'], loc='upper left')\n",
    "    plt.show()\n",
    "    \n",
    "    plt.plot(history.history['categorical_accuracy'])\n",
    "    plt.plot(history.history['val_categorical_accuracy'])\n",
    "    plt.title('categorical_accuracy ' + title)\n",
    "    plt.ylabel('categorical_accuracy')\n",
    "    plt.xlabel('Epoch')\n",
    "    plt.legend(['train', 'validation'], loc='upper left')\n",
    "    plt.show()\n"
   ]
  },
  {
   "cell_type": "code",
   "execution_count": null,
   "id": "f589a456",
   "metadata": {},
   "outputs": [],
   "source": [
    "df_train = pd.read_csv(labels_csv) \n",
    "df_test = pd.read_csv(sample_submission_csv)\n"
   ]
  },
  {
   "cell_type": "code",
   "execution_count": null,
   "id": "92d61ed8",
   "metadata": {},
   "outputs": [],
   "source": [
    "df_train.head()\n"
   ]
  },
  {
   "cell_type": "code",
   "execution_count": null,
   "id": "6b9080ce",
   "metadata": {},
   "outputs": [],
   "source": [
    "df_test.head()\n"
   ]
  },
  {
   "cell_type": "code",
   "execution_count": null,
   "id": "1113a7f7",
   "metadata": {},
   "outputs": [],
   "source": [
    "labels = df_train['breed']\n",
    "one_hot = pd.get_dummies(labels, sparse = True)\n",
    "one_hot_labels = np.asarray(one_hot)\n",
    "#one_hot_labels\n"
   ]
  },
  {
   "cell_type": "code",
   "execution_count": null,
   "id": "7d954604",
   "metadata": {},
   "outputs": [],
   "source": [
    "x_train = []\n",
    "y_train = []\n",
    "x_test = []\n"
   ]
  },
  {
   "cell_type": "code",
   "execution_count": null,
   "id": "7ebf9950",
   "metadata": {},
   "outputs": [],
   "source": [
    "i = 0 \n",
    "for f, breed in tqdm(df_train.values):\n",
    "    img = load_img(jpg_train.format(f), target_size=(im_resize, im_resize))\n",
    "    img_resized = img_to_array(img)\n",
    "    x_train.append(img_resized)\n",
    "    label = one_hot_labels[i]\n",
    "    y_train.append(label)\n",
    "    i += 1\n"
   ]
  },
  {
   "cell_type": "code",
   "execution_count": null,
   "id": "792fa144",
   "metadata": {},
   "outputs": [],
   "source": [
    "for f in tqdm(df_test['id'].values):\n",
    "    img = load_img(jpg_test.format(f), target_size=(im_resize, im_resize))\n",
    "    img_resized = img_to_array(img)\n",
    "    x_test.append(img_resized)\n"
   ]
  },
  {
   "cell_type": "code",
   "execution_count": null,
   "id": "13ad1f61",
   "metadata": {},
   "outputs": [],
   "source": [
    "X_train, X_valid, Y_train, Y_valid = train_test_split(x_train, y_train, shuffle=True,  test_size=0.2)\n"
   ]
  },
  {
   "cell_type": "code",
   "execution_count": null,
   "id": "750b8d93",
   "metadata": {},
   "outputs": [],
   "source": [
    "del x_train, y_train, df_train\n"
   ]
  },
  {
   "cell_type": "code",
   "execution_count": null,
   "id": "0afbfd85",
   "metadata": {},
   "outputs": [],
   "source": [
    "train_datagen = ImageDataGenerator(rescale=1./255) #нормализация\n",
    "\n",
    "test_datagen = ImageDataGenerator(rescale=1./255)\n",
    "\n",
    "# Создаем генераторы \n",
    "train_generator =train_datagen.flow(np.array(X_train), np.array(Y_train), \n",
    "                               batch_size=batch_size)\n",
    "test_generator =test_datagen.flow(np.array(X_valid), np.array(Y_valid),\n",
    "                              batch_size=batch_size*5)\n"
   ]
  },
  {
   "cell_type": "code",
   "execution_count": null,
   "id": "7b41b95d",
   "metadata": {},
   "outputs": [],
   "source": [
    "# Создаем последовательную модель\n",
    "model = Sequential()\n",
    "\n",
    "# сверточный слой\n",
    "model.add(Conv2D(32, (3, 3), padding='same',input_shape=(im_resize, im_resize, 3), activation='relu'))\n",
    "# сверточный слой\n",
    "model.add(Conv2D(32, (3, 3), activation='relu', padding='same'))\n",
    "# первый слой подвыборки\n",
    "model.add(MaxPooling2D(pool_size=(2, 2)))\n",
    "\n",
    "# сверточный слой\n",
    "model.add(Conv2D(64, (3, 3), padding='same', activation='relu'))\n",
    "# сверточный слой\n",
    "model.add(Conv2D(64, (3, 3), activation='relu', padding='same'))\n",
    "# Второй слой подвыборки\n",
    "model.add(MaxPooling2D(pool_size=(2, 2)))\n",
    "\n",
    "# сверточный слой\n",
    "model.add(Conv2D(128, (3, 3), padding='same', activation='relu'))\n",
    "# сверточный слой\n",
    "model.add(Conv2D(128, (3, 3), activation='relu', padding='same'))\n",
    "# Третий слой подвыборки\n",
    "model.add(MaxPooling2D(pool_size=(2, 2)))\n",
    "\n",
    "# Слой преобразования данных из 2D представления в плоское\n",
    "model.add(Flatten())\n",
    "# Полносвязный слой для классификации\n",
    "model.add(Dense(512, activation='relu'))\n",
    "\n",
    "\n",
    "# Выходной полносвязный слой\n",
    "model.add(Dense(num_class, activation='softmax'))\n"
   ]
  },
  {
   "cell_type": "code",
   "execution_count": null,
   "id": "5a998fd9",
   "metadata": {},
   "outputs": [],
   "source": [
    "model.compile(optimizer='adam',\n",
    "          loss='categorical_crossentropy', \n",
    "           metrics=[categorical_accuracy])\n"
   ]
  },
  {
   "cell_type": "code",
   "execution_count": null,
   "id": "ef489a6e",
   "metadata": {},
   "outputs": [],
   "source": [
    "print(model.summary())\n"
   ]
  },
  {
   "cell_type": "code",
   "execution_count": null,
   "id": "4690156d",
   "metadata": {},
   "outputs": [],
   "source": [
    "from keras.callbacks import ModelCheckpoint, EarlyStopping\n",
    "\n",
    "earlystop=EarlyStopping(monitor='val_loss', min_delta=0, patience=5)\n",
    "\n",
    "checkpoint_callback = ModelCheckpoint('model_best.hdf5',\n",
    "                                      monitor='val_categorical_accuracy', \n",
    "                                      save_best_only=True,\n",
    "                                      verbose=1)\n"
   ]
  },
  {
   "cell_type": "code",
   "execution_count": null,
   "id": "d4b37e17",
   "metadata": {},
   "outputs": [],
   "source": [
    "history = model.fit(\n",
    "    train_generator,\n",
    "    callbacks=[earlystop, checkpoint_callback],\n",
    "    epochs=Epochs,\n",
    "    steps_per_epoch=len(train_generator),\n",
    "    \n",
    "    validation_data=test_generator,\n",
    "    validation_steps=len(test_generator))\n"
   ]
  },
  {
   "cell_type": "code",
   "execution_count": null,
   "id": "5c4385cf",
   "metadata": {},
   "outputs": [],
   "source": [
    "#График точности на валидационной и обучающей выборке\n",
    "gen_graph(history,\n",
    "          \"график точности\")\n"
   ]
  },
  {
   "cell_type": "code",
   "execution_count": null,
   "id": "feee443a",
   "metadata": {},
   "outputs": [],
   "source": [
    "from tensorflow.keras.models import load_model\n",
    "model=load_model(\"model_best.hdf5\")\n"
   ]
  },
  {
   "cell_type": "code",
   "execution_count": null,
   "id": "73450a53",
   "metadata": {},
   "outputs": [],
   "source": [
    "preds = model.predict(np.array(x_test))\n"
   ]
  },
  {
   "cell_type": "code",
   "execution_count": null,
   "id": "99706b28",
   "metadata": {},
   "outputs": [],
   "source": [
    "sub = pd.DataFrame(preds)\n",
    "col_names = one_hot.columns.values\n",
    "sub.columns = col_names\n",
    "sub.insert(0, 'id', df_test['id'])\n",
    "sub.head(5)\n"
   ]
  },
  {
   "cell_type": "code",
   "execution_count": null,
   "id": "ef9482f0",
   "metadata": {},
   "outputs": [],
   "source": [
    "sub.to_csv(\"output_rmsprop_aug.csv\", index=False)\n"
   ]
  }
 ],
 "metadata": {},
 "nbformat": 4,
 "nbformat_minor": 5
}
