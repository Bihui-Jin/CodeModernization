{
  "cells": [
    {
      "cell_type": "code",
      "execution_count": null,
      "id": "b12d2fd8",
      "metadata": {},
      "outputs": [],
      "source": [
        "import pandas as pd\n",
        "from pathlib import Path"
      ]
    },
    {
      "cell_type": "code",
      "execution_count": null,
      "id": "64a958d8",
      "metadata": {},
      "outputs": [],
      "source": [
        "import keras, os\n",
        "import tensorflow as tf\n",
        "import numpy as np \n",
        "import pandas as pd \n",
        "import matplotlib.pyplot as plt\n",
        "import matplotlib.image as mpimg\n",
        "\n",
        "from tqdm import tqdm\n",
        "from tensorflow.keras.preprocessing.image import load_img\n",
        "\n",
        "from keras.layers import Input, Dense, Activation, BatchNormalization, Flatten, Conv2D\n",
        "from keras.layers import MaxPooling2D, Dropout, UpSampling2D\n"
      ]
    },
    {
      "cell_type": "code",
      "execution_count": null,
      "id": "6516ef35",
      "metadata": {},
      "outputs": [],
      "source": [
        "train_zip_path = '/kaggle/input/denoising-dirty-documents/train.zip'\n",
        "test_zip_path = '/kaggle/input/denoising-dirty-documents/test.zip'\n",
        "sample_zip_path = '/kaggle/input/denoising-dirty-documents/sampleSubmission.csv.zip'\n",
        "trainclean_zip_path = '/kaggle/input/denoising-dirty-documents/train_cleaned.zip'\n",
        "extracting_path = '/kaggle/working'\n"
      ]
    },
    {
      "cell_type": "code",
      "execution_count": null,
      "id": "967d2bbb",
      "metadata": {},
      "outputs": [],
      "source": [
        "import zipfile\n",
        "with zipfile.ZipFile(train_zip_path, 'r') as zip_ref:\n",
        "    zip_ref.extractall(extracting_path)\n",
        "    \n",
        "with zipfile.ZipFile(test_zip_path, 'r') as zip_ref:\n",
        "    zip_ref.extractall(extracting_path)\n",
        "    \n",
        "with zipfile.ZipFile(sample_zip_path, 'r') as zip_ref:\n",
        "    zip_ref.extractall(extracting_path)\n",
        "    \n",
        "with zipfile.ZipFile(trainclean_zip_path, 'r') as zip_ref:\n",
        "    zip_ref.extractall(extracting_path)\n"
      ]
    },
    {
      "cell_type": "code",
      "execution_count": null,
      "id": "5a1304fd",
      "metadata": {},
      "outputs": [],
      "source": [
        "img_arr = mpimg.imread(extracting_path + '/train/107.png')\n",
        "h, w = img_arr.shape\n",
        "print('Height: ', h,'- Width: ',w)\n",
        "print(img_arr.dtype)\n"
      ]
    },
    {
      "cell_type": "code",
      "execution_count": null,
      "id": "437c2750",
      "metadata": {},
      "outputs": [],
      "source": [
        "#Figure out images shape.\n",
        "image_names = os.listdir(extracting_path + '/train')\n",
        "data_size = len(image_names)\n",
        "#initailize output arrays.\n",
        "X = np.zeros([data_size, 2], dtype=np.uint16)\n",
        "for i in tqdm(range(data_size)):\n",
        "    image_name = image_names[i]\n",
        "    img_dir = os.path.join(extracting_path + '/train', image_name)\n",
        "    img_pixels = mpimg.imread(img_dir)\n",
        "    X[i] = img_pixels.shape\n",
        "\n",
        "print('Number of training images:', data_size)\n",
        "print('Differnet image hights: {}'.format(set(X[:,0])))\n",
        "print('Differnet image widths: {}'.format(set(X[:,1])))\n"
      ]
    },
    {
      "cell_type": "code",
      "execution_count": null,
      "id": "e7731811",
      "metadata": {},
      "outputs": [],
      "source": [
        "def images_to_array(data_dir, label_dir=None, img_size=(h, w)):\n",
        "    '''\n",
        "    1- Read image samples from certain directory.\n",
        "    2- Stack them into one big numpy array.\n",
        "    -- And if there are labels images ..\n",
        "    3- Read sample's label form the labels directory.\n",
        "    4- Stack them into one big numpy array.\n",
        "    5- Shuffle Data and label arrays.\n",
        "    '''\n",
        "    image_names = os.listdir(data_dir)\n",
        "    data_size = len(image_names)\n",
        "    #initailize data arrays.\n",
        "    X = np.zeros([data_size, img_size[0], img_size[1]], dtype=np.uint8)\n",
        "    #read data.\n",
        "    for i in tqdm(range(data_size)):\n",
        "        image_name = image_names[i]\n",
        "        img_dir = os.path.join(data_dir, image_name)\n",
        "        img_pixels = load_img(img_dir, color_mode='grayscale', target_size=(h, w))\n",
        "        X[i] = img_pixels\n",
        "    #reshape into 4-d array    \n",
        "    X = X.reshape(data_size, h, w, 1) \n",
        "    \n",
        "    if label_dir:\n",
        "        label_names = os.listdir(label_dir)\n",
        "        data_size = len(label_names)\n",
        "        #initailize labels arrays.\n",
        "        y = np.zeros([data_size, img_size[0], img_size[1]], dtype=np.uint8)\n",
        "        #read lables.\n",
        "        for i in tqdm(range(data_size)):\n",
        "            image_name = label_names[i]\n",
        "            img_dir = os.path.join(label_dir, image_name)\n",
        "            img_pixels = load_img(img_dir, color_mode='grayscale', target_size=(h, w))\n",
        "            y[i] = img_pixels\n",
        "        #reshape into 4-d array    \n",
        "        y = y.reshape(data_size, h, w, 1) \n",
        "        #shuffle    \n",
        "        ind = np.random.permutation(data_size)\n",
        "        X = X[ind]\n",
        "        y = y[ind]\n",
        "        print('Ouptut Data Size: ', X.shape)\n",
        "        print('Ouptut Label Size: ', y.shape)\n",
        "        return X/255., y/255.\n",
        "    \n",
        "    print('Ouptut Data Size: ', X.shape)\n",
        "    return X/255.\n"
      ]
    },
    {
      "cell_type": "code",
      "execution_count": null,
      "id": "02c0ee17",
      "metadata": {},
      "outputs": [],
      "source": [
        "X, y = images_to_array(extracting_path + '/train', extracting_path + '/train_cleaned')\n"
      ]
    },
    {
      "cell_type": "code",
      "execution_count": null,
      "id": "eb8b8673",
      "metadata": {},
      "outputs": [],
      "source": [
        "val_split = int(.3 * data_size)\n",
        "X_val, y_val = X[:val_split], y[:val_split]\n",
        "X_train, y_train = X[val_split:], y[val_split:]\n",
        "print('Train data shape: ', X_train.shape)\n",
        "print('Test data shape: ', X_val.shape)\n"
      ]
    },
    {
      "cell_type": "code",
      "execution_count": null,
      "id": "dfbbb3d1",
      "metadata": {},
      "outputs": [],
      "source": [
        "# First row will be raw data, second row will be the corresponding cleaned images\n",
        "samples = np.concatenate((X_train[:3], y_train[:3]), axis=0) \n",
        "\n",
        "f, ax = plt.subplots(2, 3, figsize=(20,10))\n",
        "for i, img in enumerate(samples):\n",
        "    ax[i//3, i%3].imshow(img[:,:,0], cmap='gray')\n",
        "    ax[i//3, i%3].axis('off')\n",
        "plt.show() \n"
      ]
    },
    {
      "cell_type": "code",
      "execution_count": null,
      "id": "3aa0a446",
      "metadata": {},
      "outputs": [],
      "source": [
        "input_layer = Input(shape=(None, None, 1))\n",
        "# encoder\n",
        "x = Conv2D(32, (3, 3), activation='relu', padding='same')(input_layer)\n",
        "x = Conv2D(64, (3, 3), activation='relu', padding='same')(x)\n",
        "x = MaxPooling2D((2, 2), padding='same')(x)\n",
        "\n",
        "# decoder\n",
        "x = Conv2D(64, (3, 3), activation='relu', padding='same')(x)\n",
        "x = Conv2D(32, (3, 3), activation='relu', padding='same')(x)\n",
        "x = UpSampling2D((2, 2))(x)\n",
        "output_layer = Conv2D(1, (3, 3), activation='sigmoid', padding='same')(x)\n",
        "model = keras.models.Model(inputs=[input_layer], outputs=[output_layer])\n",
        "\n",
        "sgd = keras.optimizers.SGD(learning_rate=0.01, momentum=0.9, nesterov=True)\n",
        "rms = keras.optimizers.RMSprop(learning_rate=0.001, rho=0.9)\n",
        "ada = keras.optimizers.Adagrad(learning_rate=0.01)\n",
        "\n",
        "model.compile(optimizer = 'adam' , loss = \"mean_squared_error\")\n"
      ]
    },
    {
      "cell_type": "code",
      "execution_count": null,
      "id": "b4180440",
      "metadata": {},
      "outputs": [],
      "source": [
        "#Prepare callbacks\n",
        "LR_callback = keras.callbacks.ReduceLROnPlateau(monitor='val_loss', patience=4, verbose=10, factor=.4, min_lr=.00001)\n"
      ]
    },
    {
      "cell_type": "code",
      "execution_count": null,
      "id": "37d1fa26",
      "metadata": {},
      "outputs": [],
      "source": [
        "history = model.fit(X, y, epochs=200, batch_size=16)\n"
      ]
    },
    {
      "cell_type": "code",
      "execution_count": null,
      "id": "fc45d938",
      "metadata": {},
      "outputs": [],
      "source": [
        "model.evaluate(X_val, y_val)\n"
      ]
    },
    {
      "cell_type": "code",
      "execution_count": null,
      "id": "9ea3b0b2",
      "metadata": {},
      "outputs": [],
      "source": [
        "test_samples, test_labels = X_val[:3], y_val[:3]\n",
        "test_pred = model.predict(X_val[:3])\n",
        "\n",
        "# First row will be raw data, second row will be the corresponding cleaned images\n",
        "samples = np.concatenate((test_samples, test_labels, test_pred), axis=0) \n",
        "\n",
        "f, ax = plt.subplots(3, 3, figsize=(25,15))\n",
        "for i, img in enumerate(samples):\n",
        "    ax[i//3, i%3].imshow(img[:,:,0], cmap='gray')\n",
        "    ax[i//3, i%3].axis('off')\n",
        "plt.show() \n"
      ]
    },
    {
      "cell_type": "code",
      "execution_count": null,
      "id": "051d6795",
      "metadata": {},
      "outputs": [],
      "source": [
        "image_names = sorted(os.listdir(extracting_path + '/test'))\n",
        "data_size = len(image_names)\n",
        "#initailize data arrays.\n",
        "X_test = []\n",
        "#read data.\n",
        "for i in tqdm(range(data_size)):\n",
        "    image_name = image_names[i]\n",
        "    img_dir = os.path.join(extracting_path + '/test', image_name)\n",
        "    img_pixels = load_img(img_dir, color_mode='grayscale')\n",
        "    w, h = img_pixels.size\n",
        "    X_test.append(np.array(img_pixels).reshape(1, h, w, 1) / 255.)\n",
        "    \n",
        "print('Test sample shape: ', X_test[0].shape)\n",
        "print('Test sample dtype: ', X_test[0].dtype)\n"
      ]
    },
    {
      "cell_type": "code",
      "execution_count": null,
      "id": "2f95fcd9",
      "metadata": {},
      "outputs": [],
      "source": [
        "yh_test = []\n",
        "for img in X_test:\n",
        "    size = img.shape[1:3]\n",
        "    yh_test.append(model.predict(img)[0, :, :, 0])\n"
      ]
    },
    {
      "cell_type": "code",
      "execution_count": null,
      "id": "39e11505",
      "metadata": {},
      "outputs": [],
      "source": [
        "# First row will be raw data, second row will be the corresponding cleaned images\n",
        "f, ax = plt.subplots(3,2, figsize=(20,10))\n",
        "for i, (img, lbl) in enumerate(zip(X_test[:3], yh_test[:3])):\n",
        "    ax[i, 0].imshow(img[0,:,:,0], cmap='gray')\n",
        "    ax[i, 0].axis('off')\n",
        "\n",
        "    ax[i, 1].imshow(lbl, cmap='gray')\n",
        "    ax[i, 1].axis('off')\n",
        "plt.show() \n"
      ]
    },
    {
      "cell_type": "code",
      "execution_count": null,
      "id": "e90516de",
      "metadata": {},
      "outputs": [],
      "source": [
        "submit_vector = []\n",
        "for img in yh_test:\n",
        "    h, w = img.shape\n",
        "    for i in range(w):\n",
        "        for j in range(h):\n",
        "            submit_vector.append(img[j,i])\n",
        "print(len(submit_vector))\n"
      ]
    },
    {
      "cell_type": "code",
      "execution_count": null,
      "id": "9a99ea15",
      "metadata": {},
      "outputs": [],
      "source": [
        "sample_csv = pd.read_csv(extracting_path + '/sampleSubmission.csv')\n",
        "sample_csv.head(10)\n"
      ]
    },
    {
      "cell_type": "code",
      "execution_count": null,
      "id": "65640c43",
      "metadata": {},
      "outputs": [],
      "source": [
        "c = 0\n",
        "for img in yh_test:\n",
        "    hi, wi = img.shape\n",
        "    c += (hi * wi)\n"
      ]
    },
    {
      "cell_type": "code",
      "execution_count": null,
      "id": "55982729",
      "metadata": {},
      "outputs": [],
      "source": [
        "id_col = sample_csv['id']\n",
        "value_col = pd.Series(submit_vector, name='value')\n",
        "submission = pd.concat([id_col, value_col], axis=1)\n",
        "submission.head(10)\n"
      ]
    },
    {
      "cell_type": "code",
      "execution_count": null,
      "id": "38429dc2",
      "metadata": {},
      "outputs": [],
      "source": [
        "submission.to_csv('Cleared.csv',index = False)\n"
      ]
    },
    {
      "cell_type": "code",
      "execution_count": null,
      "id": "aff8b8ec",
      "metadata": {},
      "outputs": [],
      "source": [
        "import shutil\n",
        "shutil.rmtree(extracting_path + '/train')\n",
        "shutil.rmtree(extracting_path + '/test')\n",
        "shutil.rmtree(extracting_path + '/train_cleaned')\n"
      ]
    }
  ],
  "metadata": {},
  "nbformat": 4,
  "nbformat_minor": 5
}