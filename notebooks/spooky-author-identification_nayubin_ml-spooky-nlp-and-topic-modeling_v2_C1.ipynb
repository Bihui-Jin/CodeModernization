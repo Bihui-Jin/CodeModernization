{
 "cells": [
  {
   "cell_type": "code",
   "execution_count": null,
   "id": "ebc476cb",
   "metadata": {},
   "outputs": [],
   "source": [
    "import pandas as pd\n",
    "from pathlib import Path"
   ]
  },
  {
   "cell_type": "code",
   "execution_count": null,
   "id": "d006d68e",
   "metadata": {},
   "outputs": [],
   "source": [
    "# This Python 3 environment comes with many helpful analytics libraries installed\n",
    "# It is defined by the kaggle/python Docker image: https://github.com/kaggle/docker-python\n",
    "# For example, here's several helpful packages to load\n",
    "\n",
    "import numpy as np # linear algebra\n",
    "import pandas as pd # data processing, CSV file I/O (e.g. pd.read_csv)\n",
    "\n",
    "# Input data files are available in the read-only \"../input/\" directory\n",
    "# For example, running this (by clicking run or pressing Shift+Enter) will list all files under the input directory\n",
    "\n",
    "import os\n",
    "for dirname, _, filenames in os.walk('/kaggle/input'):\n",
    "    for filename in filenames:\n",
    "        print(os.path.join(dirname, filename))\n",
    "\n",
    "# You can write up to 20GB to the current directory (/kaggle/working/) that gets preserved as output when you create a version using \"Save & Run All\" \n",
    "# You can also write temporary files to /kaggle/temp/, but they won't be saved outside of the current session\n"
   ]
  },
  {
   "cell_type": "code",
   "execution_count": null,
   "id": "3e5a71ba",
   "metadata": {},
   "outputs": [],
   "source": [
    "!unzip '/kaggle/input/spooky-author-identification/train.zip'\n"
   ]
  },
  {
   "cell_type": "code",
   "execution_count": null,
   "id": "4c26a78f",
   "metadata": {},
   "outputs": [],
   "source": [
    "!unzip '/kaggle/input/spooky-author-identification/test.zip'\n",
    "!unzip '/kaggle/input/spooky-author-identification/sample_submission.zip'\n"
   ]
  },
  {
   "cell_type": "code",
   "execution_count": null,
   "id": "467a90ea",
   "metadata": {},
   "outputs": [],
   "source": [
    "data = pd.read_csv('train.csv')\n",
    "data.head()\n"
   ]
  },
  {
   "cell_type": "code",
   "execution_count": null,
   "id": "c045bb19",
   "metadata": {},
   "outputs": [],
   "source": [
    "test = pd.read_csv('test.csv')\n",
    "test.head()\n"
   ]
  },
  {
   "cell_type": "code",
   "execution_count": null,
   "id": "0d9e9b52",
   "metadata": {},
   "outputs": [],
   "source": [
    "sample = pd.read_csv('sample_submission.csv')\n",
    "sample.head()\n"
   ]
  },
  {
   "cell_type": "code",
   "execution_count": null,
   "id": "df0ed85b",
   "metadata": {},
   "outputs": [],
   "source": [
    "data.shape\n"
   ]
  },
  {
   "cell_type": "code",
   "execution_count": null,
   "id": "3e157e0f",
   "metadata": {},
   "outputs": [],
   "source": [
    "import matplotlib.pyplot as plt\n",
    "\n",
    "data['author'].value_counts(normalize=True).plot(kind='bar')\n",
    "plt.show()\n"
   ]
  },
  {
   "cell_type": "code",
   "execution_count": null,
   "id": "19381e79",
   "metadata": {},
   "outputs": [],
   "source": [
    "from sklearn.feature_extraction.text import TfidfVectorizer\n",
    "from sklearn.model_selection import train_test_split\n",
    "from sklearn.naive_bayes import MultinomialNB\n",
    "from sklearn.metrics import classification_report\n",
    "\n",
    "# 데이터 로드 및 준비\n",
    "def load_data(file_path):\n",
    "    df = pd.read_csv(file_path)\n",
    "    texts = df['text'].tolist()\n",
    "    authors = df['author'].tolist()\n",
    "    return texts, authors\n",
    "\n",
    "def load_test_data(file_path):\n",
    "    df = pd.read_csv(file_path)\n",
    "    texts = df['text'].tolist()\n",
    "    ids = df['id'].tolist()\n",
    "    return texts, ids\n",
    "\n",
    "file_path = \"train.csv\"  # 학습 데이터 경로\n",
    "test_file_path = \"test.csv\"  # 테스트 데이터 경로\n",
    "\n",
    "texts, authors = load_data(file_path)\n",
    "test_texts, test_ids = load_test_data(test_file_path)\n",
    "\n",
    "# 텍스트 벡터화\n",
    "vectorizer = TfidfVectorizer(max_features=5000)\n",
    "X = vectorizer.fit_transform(texts)\n",
    "\n",
    "# 레이블 인코딩\n",
    "from sklearn.preprocessing import LabelEncoder\n",
    "label_encoder = LabelEncoder()\n",
    "y = label_encoder.fit_transform(authors)\n",
    "\n",
    "# 데이터셋 분리\n",
    "X_train, X_val, y_train, y_val = train_test_split(X, y, test_size=0.2, random_state=42)\n",
    "\n",
    "# 나이브 베이즈 모델 정의 및 학습\n",
    "model = MultinomialNB()\n",
    "model.fit(X_train, y_train)\n",
    "\n",
    "# 검증 데이터 성능 평가\n",
    "y_val_pred = model.predict(X_val)\n",
    "print(\"Validation Classification Report:\\n\")\n",
    "print(classification_report(y_val, y_val_pred, target_names=label_encoder.classes_))\n",
    "\n",
    "# 테스트 데이터에 대한 예측\n",
    "test_X = vectorizer.transform(test_texts)\n",
    "test_predictions = model.predict_proba(test_X)\n",
    "\n",
    "# 결과 저장\n",
    "result_df = pd.DataFrame(test_predictions, columns=label_encoder.classes_)\n",
    "result_df['id'] = test_ids\n",
    "result_df\n",
    "result_df.to_csv(\"test_predictions.csv\", index=False)\n"
   ]
  },
  {
   "cell_type": "code",
   "execution_count": null,
   "id": "ac9c8407",
   "metadata": {},
   "outputs": [],
   "source": [
    " \n"
   ]
  }
 ],
 "metadata": {},
 "nbformat": 4,
 "nbformat_minor": 5
}
