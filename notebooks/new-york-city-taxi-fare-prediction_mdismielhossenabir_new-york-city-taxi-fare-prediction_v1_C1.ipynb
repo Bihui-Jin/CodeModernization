{
  "cells": [
    {
      "cell_type": "code",
      "execution_count": null,
      "id": "9dba8f07",
      "metadata": {},
      "outputs": [],
      "source": [
        "import pandas as pd\n",
        "from pathlib import Path"
      ]
    },
    {
      "cell_type": "code",
      "execution_count": null,
      "id": "dc7c38eb",
      "metadata": {},
      "outputs": [],
      "source": [
        "# This Python 3 environment comes with many helpful analytics libraries installed\n",
        "# It is defined by the kaggle/python Docker image: https://github.com/kaggle/docker-python\n",
        "# For example, here's several helpful packages to load\n",
        "\n",
        "import numpy as np # linear algebra\n",
        "import pandas as pd # data processing, CSV file I/O (e.g. pd.read_csv)\n",
        "\n",
        "# Input data files are available in the read-only \"../input/\" directory\n",
        "# For example, running this (by clicking run or pressing Shift+Enter) will list all files under the input directory\n",
        "\n",
        "import os\n",
        "for dirname, _, filenames in os.walk('/kaggle/input'):\n",
        "    for filename in filenames:\n",
        "        print(os.path.join(dirname, filename))\n",
        "\n",
        "# You can write up to 20GB to the current directory (/kaggle/working/) that gets preserved as output when you create a version using \"Save & Run All\" \n",
        "# You can also write temporary files to /kaggle/temp/, but they won't be saved outside of the current session\n"
      ]
    },
    {
      "cell_type": "code",
      "execution_count": null,
      "id": "de466029",
      "metadata": {},
      "outputs": [],
      "source": [
        "train = pd.read_csv('/kaggle/input/new-york-city-taxi-fare-prediction/train.csv')\n",
        "train.head()\n"
      ]
    },
    {
      "cell_type": "code",
      "execution_count": null,
      "id": "77047e51",
      "metadata": {},
      "outputs": [],
      "source": [
        "test = pd.read_csv('/kaggle/input/new-york-city-taxi-fare-prediction/test.csv')\n",
        "test.head()\n"
      ]
    },
    {
      "cell_type": "code",
      "execution_count": null,
      "id": "a0963d5d",
      "metadata": {},
      "outputs": [],
      "source": [
        "sub = pd.read_csv('/kaggle/input/new-york-city-taxi-fare-prediction/sample_submission.csv')\n",
        "sub.head()\n"
      ]
    },
    {
      "cell_type": "code",
      "execution_count": null,
      "id": "d259e39f",
      "metadata": {},
      "outputs": [],
      "source": [
        "train.dtypes\n"
      ]
    },
    {
      "cell_type": "code",
      "execution_count": null,
      "id": "d2b9bbe6",
      "metadata": {},
      "outputs": [],
      "source": [
        "train.isnull().sum()\n"
      ]
    },
    {
      "cell_type": "code",
      "execution_count": null,
      "id": "026a7f4b",
      "metadata": {},
      "outputs": [],
      "source": [
        "train['dropoff_longitude'] = train['dropoff_longitude'].fillna(train['dropoff_longitude'].median())\n",
        "train['dropoff_latitude'] = train['dropoff_latitude'].fillna(train['dropoff_latitude'].median())\n"
      ]
    },
    {
      "cell_type": "code",
      "execution_count": null,
      "id": "1127bc43",
      "metadata": {},
      "outputs": [],
      "source": [
        "train.isnull().sum()\n"
      ]
    },
    {
      "cell_type": "code",
      "execution_count": null,
      "id": "ec367893",
      "metadata": {},
      "outputs": [],
      "source": [
        "X = train.drop(['key', 'pickup_datetime', 'fare_amount'], axis=1)\n",
        "y = train['fare_amount']\n"
      ]
    },
    {
      "cell_type": "code",
      "execution_count": null,
      "id": "e9ebd59d",
      "metadata": {},
      "outputs": [],
      "source": [
        "from sklearn.model_selection import train_test_split\n",
        "\n",
        "X_train, X_test, y_train, y_test = train_test_split(X, y, test_size=0.2, random_state=42)\n"
      ]
    },
    {
      "cell_type": "code",
      "execution_count": null,
      "id": "0af50914",
      "metadata": {},
      "outputs": [],
      "source": [
        "from xgboost import XGBRegressor\n",
        "\n",
        "model = XGBRegressor()\n",
        "model.fit(X_train, y_train)\n"
      ]
    },
    {
      "cell_type": "code",
      "execution_count": null,
      "id": "f37bbee5",
      "metadata": {},
      "outputs": [],
      "source": [
        "from sklearn.metrics import mean_squared_error, r2_score\n",
        "\n",
        "p = model.predict(X_test)\n",
        "\n",
        "mse = mean_squared_error(y_test, p)\n",
        "print(\"Mean Squared Error:\", mse)\n",
        "\n",
        "r2 = r2_score(y_test, p)\n",
        "print(\"R-squared:\", r2)\n"
      ]
    },
    {
      "cell_type": "code",
      "execution_count": null,
      "id": "3658a10d",
      "metadata": {},
      "outputs": [],
      "source": [
        "test_predictions = model.predict(test.drop('key', axis=1).select_dtypes(exclude=['object']))\n",
        "\n",
        "submission = pd.DataFrame({'key': test['key'], 'fare_amount': test_predictions})\n",
        "\n",
        "submission.to_csv('sub.csv', index=False)\n",
        "submission\n"
      ]
    }
  ],
  "metadata": {},
  "nbformat": 4,
  "nbformat_minor": 5
}