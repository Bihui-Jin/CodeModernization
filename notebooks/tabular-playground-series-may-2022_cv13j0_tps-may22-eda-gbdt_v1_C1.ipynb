{
 "cells": [
  {
   "cell_type": "code",
   "execution_count": null,
   "id": "d44189b9",
   "metadata": {},
   "outputs": [],
   "source": [
    "import pandas as pd\n",
    "from pathlib import Path"
   ]
  },
  {
   "cell_type": "code",
   "execution_count": null,
   "id": "73d973dd",
   "metadata": {},
   "outputs": [],
   "source": [
    "# This Python 3 environment comes with many helpful analytics libraries installed\n",
    "# It is defined by the kaggle/python Docker image: https://github.com/kaggle/docker-python\n",
    "# For example, here's several helpful packages to load\n",
    "\n",
    "import numpy as np # linear algebra\n",
    "import pandas as pd # data processing, CSV file I/O (e.g. pd.read_csv)\n",
    "\n",
    "# Input data files are available in the read-only \"../input/\" directory\n",
    "# For example, running this (by clicking run or pressing Shift+Enter) will list all files under the input directory\n",
    "\n",
    "import os\n",
    "for dirname, _, filenames in os.walk('/kaggle/input'):\n",
    "    for filename in filenames:\n",
    "        print(os.path.join(dirname, filename))\n",
    "\n",
    "# You can write up to 20GB to the current directory (/kaggle/working/) that gets preserved as output when you create a version using \"Save & Run All\" \n",
    "# You can also write temporary files to /kaggle/temp/, but they won't be saved outside of the current session\n"
   ]
  },
  {
   "cell_type": "code",
   "execution_count": null,
   "id": "9670e865",
   "metadata": {},
   "outputs": [],
   "source": [
    "%%time\n",
    "# I like to disable my Notebook Warnings.\n",
    "import warnings\n",
    "warnings.filterwarnings('ignore')\n"
   ]
  },
  {
   "cell_type": "code",
   "execution_count": null,
   "id": "7b7f1877",
   "metadata": {},
   "outputs": [],
   "source": [
    "%%time\n",
    "# Notebook Configuration...\n",
    "\n",
    "# Amount of data we want to load into the Model...\n",
    "DATA_ROWS = None\n",
    "# Dataframe, the amount of rows and cols to visualize...\n",
    "NROWS = 50\n",
    "NCOLS = 15\n",
    "# Main data location path...\n",
    "BASE_PATH = '...'\n"
   ]
  },
  {
   "cell_type": "code",
   "execution_count": null,
   "id": "8b32b3b6",
   "metadata": {},
   "outputs": [],
   "source": [
    "%%time\n",
    "# Configure notebook display settings to only use 2 decimal places, tables look nicer.\n",
    "pd.options.display.float_format = '{:,.2f}'.format\n",
    "pd.set_option('display.max_columns', NCOLS) \n",
    "pd.set_option('display.max_rows', NROWS)\n"
   ]
  },
  {
   "cell_type": "code",
   "execution_count": null,
   "id": "4d2ecfff",
   "metadata": {},
   "outputs": [],
   "source": [
    "%%time\n",
    "# Load the CSVs into a pandas dataframe for future data manipulation.\n",
    "trn_data = pd.read_csv('/kaggle/input/tabular-playground-series-may-2022/train.csv')\n",
    "tst_data = pd.read_csv('/kaggle/input/tabular-playground-series-may-2022/test.csv')\n",
    "\n",
    "sub = pd.read_csv('/kaggle/input/tabular-playground-series-may-2022/sample_submission.csv')\n"
   ]
  },
  {
   "cell_type": "code",
   "execution_count": null,
   "id": "bded9829",
   "metadata": {},
   "outputs": [],
   "source": [
    "%%time\n",
    "trn_data.info()\n"
   ]
  },
  {
   "cell_type": "code",
   "execution_count": null,
   "id": "08961e72",
   "metadata": {},
   "outputs": [],
   "source": [
    "%%time\n",
    "trn_data.head()\n"
   ]
  },
  {
   "cell_type": "code",
   "execution_count": null,
   "id": "5d4a0cc7",
   "metadata": {},
   "outputs": [],
   "source": [
    "%%time\n",
    "trn_data.describe()\n"
   ]
  },
  {
   "cell_type": "code",
   "execution_count": null,
   "id": "a70240a7",
   "metadata": {},
   "outputs": [],
   "source": [
    "%%time\n",
    "trn_data.isnull().sum().sum()\n"
   ]
  },
  {
   "cell_type": "code",
   "execution_count": null,
   "id": "bacc6b4e",
   "metadata": {},
   "outputs": [],
   "source": [
    "%%time\n",
    "trn_data.isnull().sum()\n"
   ]
  },
  {
   "cell_type": "code",
   "execution_count": null,
   "id": "2dcf3eae",
   "metadata": {},
   "outputs": [],
   "source": [
    "%%time\n",
    "trn_data.nunique()\n"
   ]
  },
  {
   "cell_type": "code",
   "execution_count": null,
   "id": "7c01146f",
   "metadata": {},
   "outputs": [],
   "source": [
    "trn_data.nunique().sort_values(ascending = True)\n"
   ]
  },
  {
   "cell_type": "code",
   "execution_count": null,
   "id": "56ed1fc8",
   "metadata": {},
   "outputs": [],
   "source": [
    "%%time\n",
    "categ_cols = ['f_29','f_30','f_13', 'f_18','f_17','f_14','f_11','f_10','f_09','f_15','f_07','f_12','f_16','f_08','f_27']\n",
    "trn_data[categ_cols].sample(5)\n"
   ]
  },
  {
   "cell_type": "code",
   "execution_count": null,
   "id": "60753c3c",
   "metadata": {},
   "outputs": [],
   "source": [
    "%%time\n",
    "correlation = trn_data.corr()\n"
   ]
  },
  {
   "cell_type": "code",
   "execution_count": null,
   "id": "65362f5b",
   "metadata": {},
   "outputs": [],
   "source": [
    "%%time\n",
    "correlation\n"
   ]
  },
  {
   "cell_type": "code",
   "execution_count": null,
   "id": "b23a1901",
   "metadata": {},
   "outputs": [],
   "source": [
    "%%time\n",
    "correlation['target'].sort_values(ascending = False)[:5]\n"
   ]
  },
  {
   "cell_type": "code",
   "execution_count": null,
   "id": "6caac41c",
   "metadata": {},
   "outputs": [],
   "source": [
    "%%time\n",
    "correlation['target'].sort_values(ascending = True)[:5]\n"
   ]
  },
  {
   "cell_type": "code",
   "execution_count": null,
   "id": "4f79ba7d",
   "metadata": {},
   "outputs": [],
   "source": [
    "%%time\n",
    "trn_data['target'].value_counts()\n"
   ]
  },
  {
   "cell_type": "code",
   "execution_count": null,
   "id": "f911d893",
   "metadata": {},
   "outputs": [],
   "source": [
    "%%time\n",
    "trn_data['target'].describe()\n"
   ]
  },
  {
   "cell_type": "code",
   "execution_count": null,
   "id": "6da512dd",
   "metadata": {},
   "outputs": [],
   "source": [
    " \n"
   ]
  },
  {
   "cell_type": "code",
   "execution_count": null,
   "id": "b407f0c4",
   "metadata": {},
   "outputs": [],
   "source": [
    " \n"
   ]
  },
  {
   "cell_type": "code",
   "execution_count": null,
   "id": "0efd5ae5",
   "metadata": {},
   "outputs": [],
   "source": [
    "%%time\n",
    "from sklearn.preprocessing import LabelEncoder\n",
    "encoder = LabelEncoder()\n",
    "def encode_features(df, cols = ['f_27']):\n",
    "    for col in cols:\n",
    "        df[col + '_enc'] = encoder.fit_transform(df[col])\n",
    "    return df\n",
    "\n",
    "trn_data = encode_features(trn_data)\n",
    "tst_data = encode_features(tst_data)\n"
   ]
  },
  {
   "cell_type": "code",
   "execution_count": null,
   "id": "a02a0a68",
   "metadata": {},
   "outputs": [],
   "source": [
    "trn_data.head()\n"
   ]
  },
  {
   "cell_type": "code",
   "execution_count": null,
   "id": "d8f86edb",
   "metadata": {},
   "outputs": [],
   "source": [
    "%%time\n",
    "ignore = ['id', 'target', 'f_27'] # f_27 has been label encoded...\n",
    "\n",
    "features = [feat for feat in trn_data.columns if feat not in ignore]\n",
    "target_feature = 'target'\n"
   ]
  },
  {
   "cell_type": "code",
   "execution_count": null,
   "id": "825b778e",
   "metadata": {},
   "outputs": [],
   "source": [
    "%%time\n",
    "from sklearn.model_selection import train_test_split\n",
    "test_size_pct = 0.10\n",
    "X_train, X_valid, y_train, y_valid = train_test_split(trn_data[features], trn_data[target_feature], test_size = test_size_pct, random_state = 42)\n"
   ]
  },
  {
   "cell_type": "code",
   "execution_count": null,
   "id": "6000f592",
   "metadata": {},
   "outputs": [],
   "source": [
    "%%time\n",
    "from xgboost  import XGBClassifier\n"
   ]
  },
  {
   "cell_type": "code",
   "execution_count": null,
   "id": "15662f71",
   "metadata": {},
   "outputs": [],
   "source": [
    "%%time\n",
    "params = {'n_estimators': 4096,\n",
    "          'max_depth': 8,\n",
    "          'learning_rate': 0.15,\n",
    "          'subsample': 0.95,\n",
    "          'colsample_bytree': 0.95,\n",
    "          'reg_lambda': 1.50,\n",
    "          'reg_alpha': 1.50,\n",
    "          'gamma': 1.50,\n",
    "          'random_state': 46,\n",
    "          'objective': 'binary:logistic',\n",
    "          'tree_method': 'gpu_hist',\n",
    "         }\n"
   ]
  },
  {
   "cell_type": "code",
   "execution_count": null,
   "id": "34b3d740",
   "metadata": {},
   "outputs": [],
   "source": [
    "%%time\n",
    "xgb = XGBClassifier(**params)\n",
    "xgb.fit(X_train, y_train, eval_set = [(X_valid, y_valid)], eval_metric = ['auc'], early_stopping_rounds = 128, verbose = 250)\n"
   ]
  },
  {
   "cell_type": "code",
   "execution_count": null,
   "id": "75b2b2c8",
   "metadata": {},
   "outputs": [],
   "source": [
    "%%time\n",
    "def plot_feature_importance(importance, names, model_type, max_features = 10):\n",
    "    #Create arrays from feature importance and feature names\n",
    "    feature_importance = np.array(importance)\n",
    "    feature_names = np.array(names)\n",
    "\n",
    "    #Create a DataFrame using a Dictionary\n",
    "    data={'feature_names':feature_names,'feature_importance':feature_importance}\n",
    "    fi_df = pd.DataFrame(data)\n",
    "\n",
    "    #Sort the DataFrame in order decreasing feature importance\n",
    "    fi_df.sort_values(by=['feature_importance'], ascending=False,inplace=True)\n",
    "    fi_df = fi_df.head(max_features)\n",
    "\n",
    "    #Define size of bar plot\n",
    "    plt.figure(figsize=(8,6))\n",
    "    \n",
    "    #Plot Searborn bar chart\n",
    "    sns.barplot(x=fi_df['feature_importance'], y=fi_df['feature_names'])\n",
    "    #Add chart labels\n",
    "    plt.title(model_type + 'FEATURE IMPORTANCE')\n",
    "    plt.xlabel('FEATURE IMPORTANCE')\n",
    "    plt.ylabel('FEATURE NAMES')\n"
   ]
  },
  {
   "cell_type": "code",
   "execution_count": null,
   "id": "c09eefad",
   "metadata": {},
   "outputs": [],
   "source": [
    "%%time\n",
    "import seaborn as sns\n",
    "import matplotlib.pyplot as plt\n",
    "plot_feature_importance(xgb.feature_importances_,X_train.columns,'XG BOOST ', max_features = 15)\n"
   ]
  },
  {
   "cell_type": "code",
   "execution_count": null,
   "id": "0ee269d5",
   "metadata": {},
   "outputs": [],
   "source": [
    "%%time\n",
    "sub.head()\n"
   ]
  },
  {
   "cell_type": "code",
   "execution_count": null,
   "id": "7ecf7d6b",
   "metadata": {},
   "outputs": [],
   "source": [
    "%%time\n",
    "from sklearn.metrics import roc_auc_score\n",
    "preds = xgb.predict_proba(tst_data[features])[:, 1]\n"
   ]
  },
  {
   "cell_type": "code",
   "execution_count": null,
   "id": "cba26a05",
   "metadata": {},
   "outputs": [],
   "source": [
    "%%time\n",
    "sub['target'] = preds\n",
    "sub.to_csv('my_submission_043022.csv', index = False)\n"
   ]
  },
  {
   "cell_type": "code",
   "execution_count": null,
   "id": "18731d31",
   "metadata": {},
   "outputs": [],
   "source": [
    "%%time\n",
    "sub.head()\n"
   ]
  },
  {
   "cell_type": "code",
   "execution_count": null,
   "id": "4c0f0b14",
   "metadata": {},
   "outputs": [],
   "source": [
    " \n"
   ]
  },
  {
   "cell_type": "code",
   "execution_count": null,
   "id": "3344a2cf",
   "metadata": {},
   "outputs": [],
   "source": [
    " \n"
   ]
  },
  {
   "cell_type": "code",
   "execution_count": null,
   "id": "1b7800fa",
   "metadata": {},
   "outputs": [],
   "source": [
    " \n"
   ]
  },
  {
   "cell_type": "code",
   "execution_count": null,
   "id": "5ac3fc43",
   "metadata": {},
   "outputs": [],
   "source": [
    " \n"
   ]
  },
  {
   "cell_type": "code",
   "execution_count": null,
   "id": "c4e8e79a",
   "metadata": {},
   "outputs": [],
   "source": [
    " \n"
   ]
  },
  {
   "cell_type": "code",
   "execution_count": null,
   "id": "0c4ff5ee",
   "metadata": {},
   "outputs": [],
   "source": [
    " \n"
   ]
  },
  {
   "cell_type": "code",
   "execution_count": null,
   "id": "2b819532",
   "metadata": {},
   "outputs": [],
   "source": [
    " \n"
   ]
  },
  {
   "cell_type": "code",
   "execution_count": null,
   "id": "5b08f315",
   "metadata": {},
   "outputs": [],
   "source": [
    " \n"
   ]
  },
  {
   "cell_type": "code",
   "execution_count": null,
   "id": "aceffa45",
   "metadata": {},
   "outputs": [],
   "source": [
    " \n"
   ]
  },
  {
   "cell_type": "code",
   "execution_count": null,
   "id": "a5114ba0",
   "metadata": {},
   "outputs": [],
   "source": [
    " \n"
   ]
  },
  {
   "cell_type": "code",
   "execution_count": null,
   "id": "f4990ff1",
   "metadata": {},
   "outputs": [],
   "source": [
    " \n"
   ]
  },
  {
   "cell_type": "code",
   "execution_count": null,
   "id": "0abbad62",
   "metadata": {},
   "outputs": [],
   "source": [
    " \n"
   ]
  },
  {
   "cell_type": "code",
   "execution_count": null,
   "id": "48de568a",
   "metadata": {},
   "outputs": [],
   "source": [
    " \n"
   ]
  },
  {
   "cell_type": "code",
   "execution_count": null,
   "id": "79da35d4",
   "metadata": {},
   "outputs": [],
   "source": [
    " \n"
   ]
  },
  {
   "cell_type": "code",
   "execution_count": null,
   "id": "827ec6a6",
   "metadata": {},
   "outputs": [],
   "source": [
    " \n"
   ]
  },
  {
   "cell_type": "code",
   "execution_count": null,
   "id": "6c22d006",
   "metadata": {},
   "outputs": [],
   "source": [
    " \n"
   ]
  },
  {
   "cell_type": "code",
   "execution_count": null,
   "id": "e4498aa9",
   "metadata": {},
   "outputs": [],
   "source": [
    " \n"
   ]
  },
  {
   "cell_type": "code",
   "execution_count": null,
   "id": "a61cdfba",
   "metadata": {},
   "outputs": [],
   "source": [
    " \n"
   ]
  },
  {
   "cell_type": "code",
   "execution_count": null,
   "id": "9853b67f",
   "metadata": {},
   "outputs": [],
   "source": [
    " \n"
   ]
  },
  {
   "cell_type": "code",
   "execution_count": null,
   "id": "184d53e6",
   "metadata": {},
   "outputs": [],
   "source": [
    " \n"
   ]
  }
 ],
 "metadata": {},
 "nbformat": 4,
 "nbformat_minor": 5
}
