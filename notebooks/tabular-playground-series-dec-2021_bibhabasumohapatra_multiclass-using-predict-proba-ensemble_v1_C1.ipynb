{
 "cells": [
  {
   "cell_type": "code",
   "execution_count": null,
   "id": "427a58de",
   "metadata": {},
   "outputs": [],
   "source": [
    "import pandas as pd\n",
    "from pathlib import Path"
   ]
  },
  {
   "cell_type": "code",
   "execution_count": null,
   "id": "953f22e6",
   "metadata": {},
   "outputs": [],
   "source": [
    "# This Python 3 environment comes with many helpful analytics libraries installed\n",
    "# It is defined by the kaggle/python Docker image: https://github.com/kaggle/docker-python\n",
    "# For example, here's several helpful packages to load\n",
    "\n",
    "import numpy as np # linear algebra\n",
    "import pandas as pd # data processing, CSV file I/O (e.g. pd.read_csv)\n",
    "\n",
    "# Input data files are available in the read-only \"../input/\" directory\n",
    "# For example, running this (by clicking run or pressing Shift+Enter) will list all files under the input directory\n",
    "\n",
    "import os\n",
    "for dirname, _, filenames in os.walk('/kaggle/input'):\n",
    "    for filename in filenames:\n",
    "        print(os.path.join(dirname, filename))\n",
    "\n",
    "# You can write up to 20GB to the current directory (/kaggle/working/) that gets preserved as output when you create a version using \"Save & Run All\" \n",
    "# You can also write temporary files to /kaggle/temp/, but they won't be saved outside of the current session\n"
   ]
  },
  {
   "cell_type": "code",
   "execution_count": null,
   "id": "8726e861",
   "metadata": {},
   "outputs": [],
   "source": [
    "df = pd.read_csv('../input/tabular-playground-series-dec-2021/train.csv')\n",
    "# df_test = pd.read_csv('../input/tabular-playground-series-oct-2021/test.csv')\n",
    "submission = pd.read_csv('../input/tabular-playground-series-dec-2021/sample_submission.csv')\n"
   ]
  },
  {
   "cell_type": "code",
   "execution_count": null,
   "id": "c379a745",
   "metadata": {},
   "outputs": [],
   "source": [
    "df = df.drop(columns = 'Id')\n"
   ]
  },
  {
   "cell_type": "code",
   "execution_count": null,
   "id": "0e3e9b84",
   "metadata": {},
   "outputs": [],
   "source": [
    "x = df.drop(columns = 'Cover_Type')\n",
    "y = df.Cover_Type\n"
   ]
  },
  {
   "cell_type": "code",
   "execution_count": null,
   "id": "cb1770b2",
   "metadata": {},
   "outputs": [],
   "source": [
    "##create folds\n",
    "from sklearn import model_selection\n",
    "df[\"kfold\"] = -1\n",
    "\n",
    "df = df.sample(frac=1).reset_index(drop=True)\n",
    "\n",
    "kf = model_selection.StratifiedKFold(n_splits=10, shuffle=False)\n",
    "\n",
    "for fold, (train_idx, val_idx) in enumerate(kf.split(X=df, y=df.Cover_Type.values)):\n",
    "    print(len(train_idx), len(val_idx))\n",
    "    df.loc[val_idx, 'kfold'] = fold\n"
   ]
  },
  {
   "cell_type": "code",
   "execution_count": null,
   "id": "64288359",
   "metadata": {},
   "outputs": [],
   "source": [
    "import joblib\n",
    "# import lightgbm as lgb\n",
    "import xgboost as xg\n",
    "import pandas as pd\n",
    "from sklearn import metrics\n",
    "from sklearn.ensemble import RandomForestClassifier\n",
    "from sklearn.ensemble import AdaBoostClassifier\n",
    "from sklearn import tree\n",
    "def run(fold):\n",
    "    df_train = df[df.kfold != fold].reset_index(drop=True)\n",
    "    df_valid = df[df.kfold == fold].reset_index(drop=True)\n",
    "    df_train = df_train.drop(columns = 'kfold')\n",
    "    df_valid = df_valid.drop(columns = 'kfold')\n",
    "    x_train = df_train.drop('Cover_Type', axis=1).values\n",
    "    y_train = df_train.Cover_Type.values\n",
    "    x_valid = df_valid.drop('Cover_Type', axis=1).values\n",
    "    y_valid = df_valid.Cover_Type.values\n",
    "    clf = xg.XGBClassifier(tree_method='gpu_hist',\n",
    "                             num_class = 7,\n",
    "                             learning_rate=0.09002114369564520,\n",
    "                             gamma = 0.4893634098408942,\n",
    "                             min_child_weight = 3.5,\n",
    "                             subsample = 0.7,\n",
    "                             colsample_bytree = 0.68973654,\n",
    "                             reg_alpha = 16,\n",
    "                             reg_lambda = 54,\n",
    "                          )\n",
    "    clf.fit(x_train, y_train)\n",
    "    y_pred = clf.predict(x_valid)\n",
    "    accuracy_score = metrics.accuracy_score(y_valid,y_pred)\n",
    "    print(f\"Fold={fold}, accuracy_score={accuracy_score}\")\n",
    "    File_name = 'model_xgb' + str(fold)\n",
    "    joblib.dump(\n",
    "    clf,File_name)\n",
    "for i in range(10):\n",
    "    run(fold = i)\n"
   ]
  },
  {
   "cell_type": "code",
   "execution_count": null,
   "id": "6c3c4c30",
   "metadata": {},
   "outputs": [],
   "source": [
    "model_0_xgb= joblib.load('./model_xgb0')\n",
    "model_1_xgb =joblib.load('./model_xgb1')\n",
    "model_2_xgb= joblib.load('./model_xgb2')\n",
    "model_3_xgb= joblib.load('./model_xgb3')\n",
    "model_4_xgb= joblib.load('./model_xgb4')\n",
    "model_5_xgb= joblib.load('./model_xgb0')\n",
    "model_6_xgb =joblib.load('./model_xgb1')\n",
    "model_7_xgb= joblib.load('./model_xgb2')\n",
    "model_8_xgb= joblib.load('./model_xgb3')\n",
    "model_9_xgb= joblib.load('./model_xgb4')\n"
   ]
  },
  {
   "cell_type": "code",
   "execution_count": null,
   "id": "3eb51daf",
   "metadata": {},
   "outputs": [],
   "source": [
    "df_test = pd.read_csv('../input/tabular-playground-series-dec-2021/test.csv')\n",
    "df_test = df_test.drop(columns = 'Id')\n"
   ]
  },
  {
   "cell_type": "code",
   "execution_count": null,
   "id": "ba119a11",
   "metadata": {},
   "outputs": [],
   "source": [
    "model_0_xgb.classes_\n"
   ]
  },
  {
   "cell_type": "code",
   "execution_count": null,
   "id": "3de437f4",
   "metadata": {},
   "outputs": [],
   "source": [
    "y_final_3_xgb = model_3_xgb.predict_proba(df_test)\n",
    "y_final_0_xgb = model_0_xgb.predict_proba(df_test)\n",
    "y_final_1_xgb = model_1_xgb.predict_proba(df_test)\n",
    "y_final_2_xgb = model_2_xgb.predict_proba(df_test)\n",
    "y_final_4_xgb = model_4_xgb.predict_proba(df_test)\n",
    "y_final_5_xgb = model_6_xgb.predict_proba(df_test)\n",
    "y_final_7_xgb = model_7_xgb.predict_proba(df_test)\n",
    "y_final_8_xgb = model_8_xgb.predict_proba(df_test)\n",
    "y_final_9_xgb = model_9_xgb.predict_proba(df_test)\n",
    "y_final_6_xgb = model_6_xgb.predict_proba(df_test)\n"
   ]
  },
  {
   "cell_type": "code",
   "execution_count": null,
   "id": "b555f24d",
   "metadata": {},
   "outputs": [],
   "source": [
    "y_final_avg = (y_final_0_xgb + y_final_1_xgb +y_final_2_xgb + y_final_3_xgb + y_final_4_xgb +\n",
    "               y_final_5_xgb + y_final_6_xgb +y_final_7_xgb + y_final_8_xgb + y_final_9_xgb)/10\n"
   ]
  },
  {
   "cell_type": "code",
   "execution_count": null,
   "id": "a7b599ab",
   "metadata": {},
   "outputs": [],
   "source": [
    "y_final_sub = model_0_xgb.predict(df_test)\n",
    "y_final_avg = y_final_avg.tolist()\n",
    "for i in range(len(y_final_sub)):\n",
    "    y_final_sub[i] = y_final_avg[i].index(max(y_final_avg[i]))\n"
   ]
  },
  {
   "cell_type": "code",
   "execution_count": null,
   "id": "78f8076b",
   "metadata": {},
   "outputs": [],
   "source": [
    "y_final_sub = y_final_sub+1\n",
    "print(y_final_sub)\n"
   ]
  },
  {
   "cell_type": "code",
   "execution_count": null,
   "id": "a39b44de",
   "metadata": {},
   "outputs": [],
   "source": [
    "submission['Cover_Type'] = y_final_sub\n"
   ]
  },
  {
   "cell_type": "code",
   "execution_count": null,
   "id": "67acfbef",
   "metadata": {},
   "outputs": [],
   "source": [
    "submission.to_csv('sub2.csv',index = False)\n"
   ]
  }
 ],
 "metadata": {},
 "nbformat": 4,
 "nbformat_minor": 5
}
