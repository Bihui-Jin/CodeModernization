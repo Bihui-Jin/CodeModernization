{
 "cells": [
  {
   "cell_type": "code",
   "execution_count": null,
   "id": "08e9a8e3",
   "metadata": {},
   "outputs": [],
   "source": [
    "import pandas as pd\n",
    "from pathlib import Path"
   ]
  },
  {
   "cell_type": "code",
   "execution_count": null,
   "id": "404d9342",
   "metadata": {},
   "outputs": [],
   "source": [
    "from pathlib import Path\n",
    "import numpy as np # linear algebra\n",
    "import pandas as pd # data processing, CSV file I/O (e.g. pd.read_csv)\n",
    "import cv2\n"
   ]
  },
  {
   "cell_type": "code",
   "execution_count": null,
   "id": "61eed398",
   "metadata": {},
   "outputs": [],
   "source": [
    "# private + public test\n",
    "test_csv_path = \"../input/aptos2019-blindness-detection/test.csv\"\n",
    "df = pd.read_csv(test_csv_path)\n"
   ]
  },
  {
   "cell_type": "code",
   "execution_count": null,
   "id": "56ab4fc4",
   "metadata": {},
   "outputs": [],
   "source": [
    "test_image_dir = Path(\"../input/aptos2019-blindness-detection/test_images\")\n",
    "private_img_cnt = 0\n",
    "target_img_cnt = 0\n",
    "\n",
    "for _, row in df.iterrows():\n",
    "    id_code = row[\"id_code\"]\n",
    "    img_path = test_image_dir.joinpath(f\"{id_code}.png\")\n",
    "    img = cv2.imread(str(img_path), 1)\n",
    "    h, w, _ = img.shape\n",
    "\n",
    "    if w == 640 and h == 480:\n",
    "        target_img_cnt += 1\n",
    "        \n",
    "    private_img_cnt += 1\n",
    "    \n",
    "target_ratio = target_img_cnt / private_img_cnt\n",
    "target_ratio_code = int(target_ratio * 10)\n",
    "print(target_ratio)\n",
    "print(target_ratio_code)\n"
   ]
  },
  {
   "cell_type": "code",
   "execution_count": null,
   "id": "77f79000",
   "metadata": {},
   "outputs": [],
   "source": [
    "submissions = [\n",
    "    \"submission_0.683.csv\",\n",
    "    \"submission_0.694.csv\",\n",
    "    \"submission_0.709.csv\",\n",
    "    \"submission_0.711.csv\",\n",
    "    \"submission_0.739.csv\",\n",
    "    \"submission_0.751.csv\",\n",
    "    \"submission_0.755.csv\",\n",
    "    \"submission_0.766.csv\",\n",
    "    \"submission_0.768.csv\",\n",
    "    \"submission_0.785.csv\"\n",
    "]\n",
    "\n",
    "# select a submission file according to the ratio of target image size count.\n",
    "pub_test_csv_path = \"../input/aptos10submissions/\" + submissions[target_ratio_code]\n",
    "pub_df = pd.read_csv(pub_test_csv_path)\n",
    "id_to_diagnosis = {id_code: diag for id_code, diag in zip(pub_df.id_code, pub_df.diagnosis)}\n"
   ]
  },
  {
   "cell_type": "code",
   "execution_count": null,
   "id": "1ebe1d6e",
   "metadata": {},
   "outputs": [],
   "source": [
    "all_diagnosis = []\n",
    "\n",
    "for _, row in df.iterrows():\n",
    "    id_code = row[\"id_code\"]\n",
    "    \n",
    "    if id_code in id_to_diagnosis:\n",
    "        all_diagnosis.append(id_to_diagnosis[id_code])\n",
    "    else:\n",
    "        all_diagnosis.append(0)\n"
   ]
  },
  {
   "cell_type": "code",
   "execution_count": null,
   "id": "3fbc6e1a",
   "metadata": {},
   "outputs": [],
   "source": [
    "id_codes = df.id_code.values\n",
    "new_df = pd.DataFrame.from_dict(data={\"id_code\": df.id_code.values, \"diagnosis\": all_diagnosis})\n",
    "new_df.to_csv(\"submission.csv\", index=False)\n"
   ]
  }
 ],
 "metadata": {},
 "nbformat": 4,
 "nbformat_minor": 5
}
