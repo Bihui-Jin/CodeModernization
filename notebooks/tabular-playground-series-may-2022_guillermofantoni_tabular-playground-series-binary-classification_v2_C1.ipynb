{
 "cells": [
  {
   "cell_type": "code",
   "execution_count": null,
   "id": "e71ff31d",
   "metadata": {},
   "outputs": [],
   "source": [
    "import pandas as pd\n",
    "from pathlib import Path"
   ]
  },
  {
   "cell_type": "code",
   "execution_count": null,
   "id": "c6354a10",
   "metadata": {},
   "outputs": [],
   "source": [
    "import  numpy as np \n",
    "import tensorflow as tf \n",
    "import pandas as pd \n",
    "import matplotlib.pyplot as plt \n",
    "from sklearn.preprocessing import StandardScaler\n"
   ]
  },
  {
   "cell_type": "code",
   "execution_count": null,
   "id": "74a81788",
   "metadata": {},
   "outputs": [],
   "source": [
    "df_train = pd.read_csv(\"../input/tabular-playground-series-may-2022/train.csv\")\n",
    "df_train.head()\n"
   ]
  },
  {
   "cell_type": "code",
   "execution_count": null,
   "id": "eebedaee",
   "metadata": {},
   "outputs": [],
   "source": [
    "df_train.corr().tail(1)\n"
   ]
  },
  {
   "cell_type": "code",
   "execution_count": null,
   "id": "1c8e4f72",
   "metadata": {},
   "outputs": [],
   "source": [
    "f = plt.figure(figsize=(19, 15))\n",
    "plt.matshow(df_train.corr(), fignum=f.number)\n",
    "plt.xticks(range(df_train.select_dtypes(['number']).shape[1]), df_train.select_dtypes(['number']).columns, fontsize=14, rotation=45)\n",
    "plt.yticks(range(df_train.select_dtypes(['number']).shape[1]), df_train.select_dtypes(['number']).columns, fontsize=14)\n",
    "cb = plt.colorbar()\n",
    "cb.ax.tick_params(labelsize=14)\n",
    "plt.title('Correlation Matrix', fontsize=16);\n"
   ]
  },
  {
   "cell_type": "code",
   "execution_count": null,
   "id": "4098875d",
   "metadata": {},
   "outputs": [],
   "source": [
    "df_train.info()\n"
   ]
  },
  {
   "cell_type": "code",
   "execution_count": null,
   "id": "ea911da8",
   "metadata": {},
   "outputs": [],
   "source": [
    "df_test = pd.read_csv(\"../input/tabular-playground-series-may-2022/test.csv\")\n"
   ]
  },
  {
   "cell_type": "code",
   "execution_count": null,
   "id": "5eed9582",
   "metadata": {},
   "outputs": [],
   "source": [
    "for df in [df_train, df_test]:\n",
    "    for i in range(10):\n",
    "        df[f'ch{i}'] = df.f_27.str.get(i).apply(ord) - ord('A')\n",
    "        \n",
    "    df[\"unique_characters\"] = df.f_27.apply(lambda s: len(set(s)))\n",
    "    \n",
    "features = [f for f in df_test.columns if f != 'id' and f != 'f_27']\n"
   ]
  },
  {
   "cell_type": "code",
   "execution_count": null,
   "id": "d574e372",
   "metadata": {},
   "outputs": [],
   "source": [
    "X_train = df_train.drop(['target'],axis=1)[features]\n",
    "Y_train = df_train['target'].to_numpy()\n",
    "X_test = df_test[features].copy()\n"
   ]
  },
  {
   "cell_type": "code",
   "execution_count": null,
   "id": "5b6b1835",
   "metadata": {},
   "outputs": [],
   "source": [
    "X_test.head()\n"
   ]
  },
  {
   "cell_type": "code",
   "execution_count": null,
   "id": "7d3b9933",
   "metadata": {},
   "outputs": [],
   "source": [
    "#Se puede realizar un normalizado, o ver las features y procesarlos para que tengan una distribución normal. \n",
    "StSc = StandardScaler()\n",
    "X_train = StSc.fit_transform(X_train)\n",
    "X_test  = StSc.transform(X_test)\n"
   ]
  },
  {
   "cell_type": "code",
   "execution_count": null,
   "id": "eae10f58",
   "metadata": {},
   "outputs": [],
   "source": [
    "print(X_train[0:5])\n",
    "print(Y_train[0:5])\n"
   ]
  },
  {
   "cell_type": "code",
   "execution_count": null,
   "id": "04e1a191",
   "metadata": {},
   "outputs": [],
   "source": [
    "X_train.shape\n"
   ]
  },
  {
   "cell_type": "code",
   "execution_count": null,
   "id": "cf397237",
   "metadata": {},
   "outputs": [],
   "source": [
    "X_test.shape\n"
   ]
  },
  {
   "cell_type": "code",
   "execution_count": null,
   "id": "ae042cbb",
   "metadata": {},
   "outputs": [],
   "source": [
    "#activacion tanh dado que hay valores negativos, sino, normalizar con min max.\n",
    "L2 = 0.000003\n",
    "model_class = tf.keras.models.Sequential([\n",
    "    tf.keras.layers.Input(41),\n",
    "    tf.keras.layers.Dense(82, kernel_regularizer=tf.keras.regularizers.l2(L2),activation='swish'),\n",
    "    tf.keras.layers.Dense(82, kernel_regularizer=tf.keras.regularizers.l2(L2),activation='swish'),\n",
    "    tf.keras.layers.Dense(82, kernel_regularizer=tf.keras.regularizers.l2(L2),activation='swish'),\n",
    "    tf.keras.layers.Dense(41, kernel_regularizer=tf.keras.regularizers.l2(L2),activation='swish'),\n",
    "    tf.keras.layers.Dense(1,activation = 'sigmoid')\n",
    "])\n"
   ]
  },
  {
   "cell_type": "code",
   "execution_count": null,
   "id": "119be2be",
   "metadata": {},
   "outputs": [],
   "source": [
    "#opt = tf.keras.optimizers.SGD(learning_rate=0.05, momentum=0.3, nesterov=False, name=\"SGD\")\n",
    "loss = tf.keras.losses.BinaryCrossentropy()\n",
    "opt= tf.keras.optimizers.Adam()\n",
    "model_class.compile(optimizer = opt,loss = loss,metrics = [tf.keras.metrics.BinaryAccuracy(),\n",
    "                                                                               tf.keras.metrics.Precision(),\n",
    "                                                                               tf.keras.metrics.Recall()])\n"
   ]
  },
  {
   "cell_type": "code",
   "execution_count": null,
   "id": "929c4ac1",
   "metadata": {},
   "outputs": [],
   "source": [
    "earlystopping = tf.keras.callbacks.EarlyStopping( monitor= 'val_loss', patience=6, verbose=0,mode='auto', baseline=None, restore_best_weights=True)\n",
    "\n",
    "LR = tf.keras.callbacks.ReduceLROnPlateau(monitor='val_loss', factor=0.5, patience=2, verbose=0,mode='auto')\n"
   ]
  },
  {
   "cell_type": "code",
   "execution_count": null,
   "id": "a50f4885",
   "metadata": {},
   "outputs": [],
   "source": [
    "history = model_class.fit(\n",
    "    x=X_train,\n",
    "    y=Y_train,\n",
    "    batch_size=500,\n",
    "    epochs=300,\n",
    "    verbose=1,\n",
    "    callbacks=[LR,earlystopping],\n",
    "    validation_split=0.1,\n",
    "    validation_data=None,\n",
    "    shuffle=False,\n",
    "    class_weight=None,\n",
    "    sample_weight=None,\n",
    "    initial_epoch=0,\n",
    "    steps_per_epoch=1800,\n",
    "    validation_steps=None,\n",
    "    validation_batch_size=None,\n",
    "    validation_freq=1,\n",
    "    max_queue_size=10,\n",
    "    workers=1,\n",
    "    use_multiprocessing=False,\n",
    ")\n"
   ]
  },
  {
   "cell_type": "code",
   "execution_count": null,
   "id": "a747274f",
   "metadata": {},
   "outputs": [],
   "source": [
    "acc_train = history.history['binary_accuracy']\n",
    "acc_val  =  history.history['val_binary_accuracy']\n",
    "\n",
    "epochs = range(len(acc_train))\n",
    "plt.plot(epochs, acc_train, 'r', label='Training accuracy')\n",
    "plt.plot(epochs, acc_val, 'b', label='Validation accuracy')\n",
    "plt.title('Training and validation accuracy')\n",
    "plt.legend(loc=0)\n",
    "plt.figure()\n",
    "plt.show()\n"
   ]
  },
  {
   "cell_type": "code",
   "execution_count": null,
   "id": "f55b1549",
   "metadata": {},
   "outputs": [],
   "source": [
    "pred = model_class.predict(X_test)\n",
    "df_test['target'] = pred\n",
    "submit   = df_test[['id','target']]\n",
    "submit.to_csv(\"subsission.csv\",index=False)\n"
   ]
  }
 ],
 "metadata": {},
 "nbformat": 4,
 "nbformat_minor": 5
}
