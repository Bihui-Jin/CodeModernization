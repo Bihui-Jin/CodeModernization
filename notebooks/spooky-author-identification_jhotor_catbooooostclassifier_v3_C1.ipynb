{
 "cells": [
  {
   "cell_type": "code",
   "execution_count": null,
   "id": "54ab7d2c",
   "metadata": {},
   "outputs": [],
   "source": [
    "import pandas as pd\n",
    "from pathlib import Path"
   ]
  },
  {
   "cell_type": "code",
   "execution_count": null,
   "id": "0e2346c3",
   "metadata": {},
   "outputs": [],
   "source": [
    "import numpy as np # linear algebra\n",
    "import pandas as pd # data processing, CSV file I/O (e.g. pd.read_csv)\n",
    "import os\n",
    "for dirname, _, filenames in os.walk('/kaggle/input'):\n",
    "    for filename in filenames:\n",
    "        print(os.path.join(dirname, filename))\n",
    "from catboost import CatBoostClassifier\n"
   ]
  },
  {
   "cell_type": "code",
   "execution_count": null,
   "id": "5e7f03da",
   "metadata": {},
   "outputs": [],
   "source": [
    "train = pd.read_csv('/kaggle/input/spooky-author-identification/train.zip', usecols=['text', 'author'])\n",
    "test = pd.read_csv('/kaggle/input/spooky-author-identification/test.zip')\n"
   ]
  },
  {
   "cell_type": "code",
   "execution_count": null,
   "id": "5dae384d",
   "metadata": {},
   "outputs": [],
   "source": [
    "train.sample(10)\n"
   ]
  },
  {
   "cell_type": "code",
   "execution_count": null,
   "id": "7de5d3de",
   "metadata": {},
   "outputs": [],
   "source": [
    "from sklearn.model_selection import train_test_split\n",
    "X_train, X_test, y_train, y_test = train_test_split(train.drop(columns='author'), train['author'], test_size=0.25, stratify=train['author'])\n"
   ]
  },
  {
   "cell_type": "code",
   "execution_count": null,
   "id": "7b13e3eb",
   "metadata": {},
   "outputs": [],
   "source": [
    "X_train\n"
   ]
  },
  {
   "cell_type": "code",
   "execution_count": null,
   "id": "d2914822",
   "metadata": {},
   "outputs": [],
   "source": [
    "model = CatBoostClassifier(text_features=['text'], random_state=1234, auto_class_weights='Balanced', loss_function='MultiClass',\n",
    "                           task_type='GPU', devices=\"0:1\")\n"
   ]
  },
  {
   "cell_type": "code",
   "execution_count": null,
   "id": "67149cbe",
   "metadata": {},
   "outputs": [],
   "source": [
    "model.fit(X_train, y_train, eval_set=(X_test, y_test), early_stopping_rounds=25)\n"
   ]
  },
  {
   "cell_type": "code",
   "execution_count": null,
   "id": "4f9b7d23",
   "metadata": {},
   "outputs": [],
   "source": [
    "print(model.predict_proba(X_test)[0:5])\n",
    "print(y_test[0:5])\n"
   ]
  },
  {
   "cell_type": "code",
   "execution_count": null,
   "id": "127fbd99",
   "metadata": {},
   "outputs": [],
   "source": [
    "predictions = model.predict(X_test)\n"
   ]
  },
  {
   "cell_type": "code",
   "execution_count": null,
   "id": "55a59990",
   "metadata": {},
   "outputs": [],
   "source": [
    "predictions = [item for sublist in predictions for item in sublist]\n"
   ]
  },
  {
   "cell_type": "code",
   "execution_count": null,
   "id": "6ea5a73d",
   "metadata": {},
   "outputs": [],
   "source": [
    "from sklearn.metrics import classification_report, confusion_matrix\n",
    "print(classification_report(y_test, predictions))\n",
    "print(confusion_matrix(y_test, predictions))\n"
   ]
  },
  {
   "cell_type": "code",
   "execution_count": null,
   "id": "1e92fa7b",
   "metadata": {},
   "outputs": [],
   "source": [
    "model.fit(train.drop(columns='author'), train['author'], early_stopping_rounds=25)\n"
   ]
  },
  {
   "cell_type": "code",
   "execution_count": null,
   "id": "3206330d",
   "metadata": {},
   "outputs": [],
   "source": [
    "preds = model.predict_proba(test.drop(columns='id'))\n",
    "preds_df = pd.DataFrame(preds, columns=['EAP','HPL','MWS'])\n",
    "preds_df = pd.concat(objs=[test['id'], preds_df], axis=\"columns\")\n"
   ]
  },
  {
   "cell_type": "code",
   "execution_count": null,
   "id": "52a0b587",
   "metadata": {},
   "outputs": [],
   "source": [
    "preds_df.sample(5)\n"
   ]
  },
  {
   "cell_type": "code",
   "execution_count": null,
   "id": "a9bfe450",
   "metadata": {},
   "outputs": [],
   "source": [
    "preds_df.to_csv(\"submission.csv\", index=False)\n"
   ]
  },
  {
   "cell_type": "code",
   "execution_count": null,
   "id": "0a622c66",
   "metadata": {},
   "outputs": [],
   "source": [
    "pd.read_csv('/kaggle/input/spooky-author-identification/sample_submission.zip').head()\n"
   ]
  }
 ],
 "metadata": {},
 "nbformat": 4,
 "nbformat_minor": 5
}
