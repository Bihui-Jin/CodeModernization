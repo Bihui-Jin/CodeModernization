{
  "cells": [
    {
      "cell_type": "code",
      "execution_count": null,
      "id": "3295a356",
      "metadata": {},
      "outputs": [],
      "source": [
        "import pandas as pd\n",
        "from pathlib import Path"
      ]
    },
    {
      "cell_type": "code",
      "execution_count": null,
      "id": "65559225",
      "metadata": {},
      "outputs": [],
      "source": [
        "import re\n",
        "import shutil\n",
        "from collections import Counter\n",
        "\n",
        "import numpy as np\n",
        "import pandas as pd\n",
        "from IPython.display import display\n",
        "from nltk.corpus import stopwords as nltk_stopwords\n",
        "from sklearn.feature_extraction.text import TfidfVectorizer\n",
        "from sklearn.linear_model import LogisticRegression\n",
        "from sklearn.multioutput import ClassifierChain\n",
        "from tqdm import tqdm\n",
        "\n",
        "DATA_DIR = \"/kaggle/input/jigsaw-toxic-comment-classification-challenge/\"\n",
        "OUTPUT_DIR = \"/kaggle/working/\"\n"
      ]
    },
    {
      "cell_type": "code",
      "execution_count": null,
      "id": "139eb750",
      "metadata": {},
      "outputs": [],
      "source": [
        "def unpack_zipfile(filename):\n",
        "    \"\"\"Unpacks zip-file by name from DATA_DIR to OUTPUT_DIR.\"\"\"\n",
        "    try:\n",
        "        shutil.unpack_archive(\n",
        "            filename=DATA_DIR + filename,\n",
        "            extract_dir=OUTPUT_DIR,\n",
        "            format=\"zip\",\n",
        "        )\n",
        "    except Exception as e:\n",
        "        print(e)\n",
        "    else:\n",
        "        print(f\"Archive file '{filename}' has been unpacked successfully.\")\n"
      ]
    },
    {
      "cell_type": "code",
      "execution_count": null,
      "id": "bdb98bc7",
      "metadata": {},
      "outputs": [],
      "source": [
        "unpack_zipfile(filename=\"train.csv.zip\")\n",
        "unpack_zipfile(filename=\"test.csv.zip\")\n",
        "unpack_zipfile(filename=\"test_labels.csv.zip\")\n"
      ]
    },
    {
      "cell_type": "code",
      "execution_count": null,
      "id": "14b23fe3",
      "metadata": {},
      "outputs": [],
      "source": [
        "train_df = pd.read_csv(OUTPUT_DIR + \"train.csv\")\n",
        "test_df = pd.read_csv(OUTPUT_DIR + \"test.csv\")\n"
      ]
    },
    {
      "cell_type": "code",
      "execution_count": null,
      "id": "35a47d86",
      "metadata": {},
      "outputs": [],
      "source": [
        "train_df.head()\n"
      ]
    },
    {
      "cell_type": "code",
      "execution_count": null,
      "id": "593a486f",
      "metadata": {},
      "outputs": [],
      "source": [
        "test_df.head()\n"
      ]
    },
    {
      "cell_type": "code",
      "execution_count": null,
      "id": "d96196c7",
      "metadata": {},
      "outputs": [],
      "source": [
        "for df in (train_df, test_df):\n",
        "    df[\"comment_text_preprocessed\"] = df[\"comment_text\"].str.lower()\n"
      ]
    },
    {
      "cell_type": "code",
      "execution_count": null,
      "id": "d3a00336",
      "metadata": {},
      "outputs": [],
      "source": [
        "cols = [\"comment_text\", \"comment_text_preprocessed\"]\n",
        "display(train_df[cols].sample(5))\n",
        "display(test_df[cols].sample(5))\n"
      ]
    },
    {
      "cell_type": "code",
      "execution_count": null,
      "id": "55fa8b21",
      "metadata": {},
      "outputs": [],
      "source": [
        "eng_stopwords = set(nltk_stopwords.words('english'))\n",
        "# Adding new stopwords not initially included\n",
        "eng_stopwords.update([\"i'm\", \"that's\", \"can't\"])\n",
        "eng_stopwords\n"
      ]
    },
    {
      "cell_type": "code",
      "execution_count": null,
      "id": "725578cc",
      "metadata": {},
      "outputs": [],
      "source": [
        "def clear_stopwords(comment_text, stopwords=eng_stopwords):\n",
        "    \"\"\"Removes stopwords from the commentary text.\"\"\"\n",
        "    # Checking if a word is a stopword\n",
        "    comment_text_cleared = [word for word in str(comment_text).split() \n",
        "                              if word not in stopwords]\n",
        "    \n",
        "    return \" \".join(comment_text_cleared)\n"
      ]
    },
    {
      "cell_type": "code",
      "execution_count": null,
      "id": "e9de1753",
      "metadata": {},
      "outputs": [],
      "source": [
        "# Example of function usage\n",
        "train_text_2 = train_df[\"comment_text_preprocessed\"].iloc[2]\n",
        "\n",
        "print(\"Inp:\\n\\n{}\\n\".format(train_text_2))\n",
        "print(\"Out:\\n\\n{}\".format(clear_stopwords(train_text_2)))\n"
      ]
    },
    {
      "cell_type": "code",
      "execution_count": null,
      "id": "3081730d",
      "metadata": {},
      "outputs": [],
      "source": [
        "for df in (train_df, test_df):\n",
        "    df[\"comment_text_preprocessed\"] = df[\"comment_text_preprocessed\"] \\\n",
        "    .apply(\n",
        "        lambda comment_text: clear_stopwords(comment_text)\n",
        "    )\n"
      ]
    },
    {
      "cell_type": "code",
      "execution_count": null,
      "id": "a8892ad6",
      "metadata": {},
      "outputs": [],
      "source": [
        "display(train_df[cols].sample(5))\n",
        "display(test_df[cols].sample(5))\n"
      ]
    },
    {
      "cell_type": "code",
      "execution_count": null,
      "id": "e67d5859",
      "metadata": {},
      "outputs": [],
      "source": [
        "word_counter = Counter()\n",
        "for comment_text in train_df[\"comment_text_preprocessed\"].values:\n",
        "    for word in comment_text.split():\n",
        "        word_counter[word] += 1\n",
        "\n",
        "word_counter.most_common(10)\n"
      ]
    },
    {
      "cell_type": "code",
      "execution_count": null,
      "id": "9a34f999",
      "metadata": {},
      "outputs": [],
      "source": [
        "freq_words = set([word for (word, word_count) in word_counter.most_common(10)])\n",
        "freq_words\n"
      ]
    },
    {
      "cell_type": "code",
      "execution_count": null,
      "id": "db9e3d40",
      "metadata": {},
      "outputs": [],
      "source": [
        "def clear_freqwords(comment_text, freqwords=freq_words):\n",
        "    \"\"\"Removes top-10 frequent words.\"\"\"\n",
        "    \n",
        "    comment_text_cleared = [word for word in str(comment_text).split() \n",
        "                              if word not in freq_words]\n",
        "    \n",
        "    return \" \".join(comment_text_cleared)\n"
      ]
    },
    {
      "cell_type": "code",
      "execution_count": null,
      "id": "9338a731",
      "metadata": {},
      "outputs": [],
      "source": [
        "for df in (train_df, test_df):\n",
        "    df[\"comment_text_preprocessed\"] = df[\"comment_text_preprocessed\"] \\\n",
        "    .apply(\n",
        "        lambda comment_text: clear_freqwords(comment_text)\n",
        "    )\n"
      ]
    },
    {
      "cell_type": "code",
      "execution_count": null,
      "id": "2a4d983e",
      "metadata": {},
      "outputs": [],
      "source": [
        "display(train_df[cols].sample(5))\n",
        "display(test_df[cols].sample(5))\n"
      ]
    },
    {
      "cell_type": "code",
      "execution_count": null,
      "id": "94988c7c",
      "metadata": {},
      "outputs": [],
      "source": [
        "rare_words_num = 10\n",
        "rare_words = set([word for (word, word_count) \n",
        "                  in word_counter.most_common()[:-rare_words_num-1:-1]])\n",
        "rare_words\n"
      ]
    },
    {
      "cell_type": "code",
      "execution_count": null,
      "id": "8e7e8cf2",
      "metadata": {},
      "outputs": [],
      "source": [
        "def clear_rarewords(comment_text, rarewords=rare_words):\n",
        "    \"\"\"Removes top-10 rarest words.\"\"\"\n",
        "    \n",
        "    comment_text_cleared = [word for word in str(comment_text).split() \n",
        "                              if word not in rare_words]\n",
        "    \n",
        "    return \" \".join(comment_text_cleared)\n"
      ]
    },
    {
      "cell_type": "code",
      "execution_count": null,
      "id": "f73ad3e7",
      "metadata": {},
      "outputs": [],
      "source": [
        "for df in (train_df, test_df):\n",
        "    df[\"comment_text_preprocessed\"] = df[\"comment_text_preprocessed\"] \\\n",
        "    .apply(\n",
        "        lambda comment_text: clear_rarewords(comment_text)\n",
        "    )\n"
      ]
    },
    {
      "cell_type": "code",
      "execution_count": null,
      "id": "fdd3edec",
      "metadata": {},
      "outputs": [],
      "source": [
        "display(train_df[cols].sample(5))\n",
        "display(test_df[cols].sample(5))\n"
      ]
    },
    {
      "cell_type": "code",
      "execution_count": null,
      "id": "63352c36",
      "metadata": {},
      "outputs": [],
      "source": [
        "def clear_urls(comment_text):\n",
        "    \"\"\"Clears the comment text from URLs.\"\"\"\n",
        "    \n",
        "    url_regex_pattern = re.compile(r'https?://\\S+|www\\.\\S+')\n",
        "    \n",
        "    return url_regex_pattern.sub(r\"\", comment_text)\n"
      ]
    },
    {
      "cell_type": "code",
      "execution_count": null,
      "id": "09505942",
      "metadata": {},
      "outputs": [],
      "source": [
        "train_text_900 = train_df[\"comment_text_preprocessed\"].iloc[-900]\n",
        "\n",
        "print(\"Inp:\\n\\n{}\\n\".format(train_text_900))\n",
        "print(\"Out:\\n\\n{}\".format(clear_urls(train_text_900)))\n"
      ]
    },
    {
      "cell_type": "code",
      "execution_count": null,
      "id": "8cf2f53b",
      "metadata": {},
      "outputs": [],
      "source": [
        "for df in (train_df, test_df):\n",
        "    df[\"comment_text_preprocessed\"] = df[\"comment_text_preprocessed\"] \\\n",
        "    .apply(\n",
        "        lambda comment_text: clear_urls(comment_text)\n",
        "    )\n"
      ]
    },
    {
      "cell_type": "code",
      "execution_count": null,
      "id": "97e5f493",
      "metadata": {},
      "outputs": [],
      "source": [
        "display(train_df[cols].sample(5))\n",
        "display(test_df[cols].sample(5))\n"
      ]
    },
    {
      "cell_type": "code",
      "execution_count": null,
      "id": "290270d6",
      "metadata": {},
      "outputs": [],
      "source": [
        "regex = re.compile(r\"[a-zA-Z]+\")\n",
        "\n",
        "def leave_words_only(comment_text, regex=regex):\n",
        "    \"\"\"Removes non-word inclusions.\"\"\"\n",
        "    \n",
        "    return \" \".join(regex.findall(comment_text))\n"
      ]
    },
    {
      "cell_type": "code",
      "execution_count": null,
      "id": "3d824ebf",
      "metadata": {},
      "outputs": [],
      "source": [
        "train_text = train_df[\"comment_text_preprocessed\"].iloc[-1]\n",
        "\n",
        "print(\"Inp:\\n\\n{}\\n\".format(train_text))\n",
        "print(\"Out:\\n\\n{}\".format(leave_words_only(train_text)))\n"
      ]
    },
    {
      "cell_type": "code",
      "execution_count": null,
      "id": "4f3614f6",
      "metadata": {},
      "outputs": [],
      "source": [
        "for df in (train_df, test_df):\n",
        "    df[\"comment_text_preprocessed\"] = df[\"comment_text_preprocessed\"] \\\n",
        "    .apply(\n",
        "        lambda comment_text: leave_words_only(comment_text)\n",
        "    )\n"
      ]
    },
    {
      "cell_type": "code",
      "execution_count": null,
      "id": "143da9d7",
      "metadata": {},
      "outputs": [],
      "source": [
        "display(train_df[cols].sample(5))\n",
        "display(test_df[cols].sample(5))\n"
      ]
    },
    {
      "cell_type": "code",
      "execution_count": null,
      "id": "bc7d23ee",
      "metadata": {},
      "outputs": [],
      "source": [
        "other_eng_stopwords = [word for word in eng_stopwords if \"'\" in word]\n",
        "other_eng_stopwords\n"
      ]
    },
    {
      "cell_type": "code",
      "execution_count": null,
      "id": "2a5be34a",
      "metadata": {},
      "outputs": [],
      "source": [
        "# Removing negation-stopwords initially written without apostrophe\n",
        "other_eng_stopwords = [word.replace(\"'\", \"\") for word in other_eng_stopwords]\n",
        "other_eng_stopwords\n"
      ]
    },
    {
      "cell_type": "code",
      "execution_count": null,
      "id": "fc8516de",
      "metadata": {},
      "outputs": [],
      "source": [
        "word_counter = Counter()\n",
        "for comment_text in train_df[\"comment_text_preprocessed\"].values:\n",
        "    for word in comment_text.split():\n",
        "        word_counter[word] += 1\n",
        "\n",
        "word_counter.most_common(100)\n"
      ]
    },
    {
      "cell_type": "code",
      "execution_count": null,
      "id": "cd1db34e",
      "metadata": {},
      "outputs": [],
      "source": [
        "# Adding additional stopwords\n",
        "eng_stopwords.update(\n",
        "    [\n",
        "        \"utc\", \"eg\", \n",
        "        \"jpg\", \"didnt\",\n",
        "        \"th\", \"oh\", \n",
        "        \"im\", \"cant\", \n",
        "        \"wp\", \"hi\",\n",
        "    ]\n",
        ")\n",
        "eng_stopwords.update(other_eng_stopwords)\n",
        "eng_stopwords\n"
      ]
    },
    {
      "cell_type": "code",
      "execution_count": null,
      "id": "efef0104",
      "metadata": {},
      "outputs": [],
      "source": [
        "for df in (train_df, test_df):\n",
        "    df[\"comment_text_preprocessed\"] = df[\"comment_text_preprocessed\"] \\\n",
        "    .apply(\n",
        "        lambda comment_text: clear_stopwords(\n",
        "            comment_text, stopwords=eng_stopwords,\n",
        "        )\n",
        "    )\n"
      ]
    },
    {
      "cell_type": "code",
      "execution_count": null,
      "id": "eb327565",
      "metadata": {},
      "outputs": [],
      "source": [
        "for df in (train_df, test_df):\n",
        "    df[\"comment_text_preprocessed\"] = df[\"comment_text_preprocessed\"] \\\n",
        "    .apply(\n",
        "        lambda comment_text: clear_freqwords(comment_text)\n",
        "    )\n"
      ]
    },
    {
      "cell_type": "code",
      "execution_count": null,
      "id": "c017110d",
      "metadata": {},
      "outputs": [],
      "source": [
        "display(train_df[cols].sample(5))\n",
        "display(test_df[cols].sample(5))\n"
      ]
    },
    {
      "cell_type": "code",
      "execution_count": null,
      "id": "17f516cb",
      "metadata": {},
      "outputs": [],
      "source": [
        "target_cols = train_df.columns[2:-1]\n",
        "target_train = train_df[target_cols].values\n",
        "target_train[:5]\n"
      ]
    },
    {
      "cell_type": "code",
      "execution_count": null,
      "id": "5b393ae7",
      "metadata": {},
      "outputs": [],
      "source": [
        "corpus_train = train_df[\"comment_text_preprocessed\"].values.astype(\"U\")\n",
        "corpus_train[:5]\n"
      ]
    },
    {
      "cell_type": "code",
      "execution_count": null,
      "id": "597a4b07",
      "metadata": {},
      "outputs": [],
      "source": [
        "corpus_test = test_df[\"comment_text_preprocessed\"].values.astype(\"U\")\n",
        "corpus_test[:5]\n"
      ]
    },
    {
      "cell_type": "code",
      "execution_count": null,
      "id": "4df2bd60",
      "metadata": {},
      "outputs": [],
      "source": [
        "vectorizer = TfidfVectorizer(\n",
        "    max_features=1700,\n",
        "    min_df=0.0011,\n",
        "    max_df=0.35,\n",
        "    norm=\"l2\",\n",
        ")\n"
      ]
    },
    {
      "cell_type": "code",
      "execution_count": null,
      "id": "7718c2f2",
      "metadata": {},
      "outputs": [],
      "source": [
        "features_train = vectorizer.fit_transform(corpus_train)\n",
        "features_train.shape\n"
      ]
    },
    {
      "cell_type": "code",
      "execution_count": null,
      "id": "d99d24ce",
      "metadata": {},
      "outputs": [],
      "source": [
        "features_test = vectorizer.transform(corpus_test)\n",
        "features_test.shape\n"
      ]
    },
    {
      "cell_type": "code",
      "execution_count": null,
      "id": "b0a15610",
      "metadata": {},
      "outputs": [],
      "source": [
        "base_estimator = LogisticRegression(\n",
        "    class_weight=\"balanced\",\n",
        "    max_iter=10000,\n",
        "    multi_class=\"multinomial\",\n",
        "    C=0.009,\n",
        "    penalty=\"l2\",\n",
        "    n_jobs=-1,\n",
        ")\n"
      ]
    },
    {
      "cell_type": "code",
      "execution_count": null,
      "id": "1acead56",
      "metadata": {},
      "outputs": [],
      "source": [
        "chains = [\n",
        "    ClassifierChain(\n",
        "        base_estimator=base_estimator,\n",
        "        order=\"random\", \n",
        "        random_state=i,\n",
        "    ) for i in range(10)\n",
        "]\n",
        "\n",
        "for i in tqdm(range(len(chains))):\n",
        "    chains[i].fit(features_train, target_train)\n",
        "print()\n"
      ]
    },
    {
      "cell_type": "code",
      "execution_count": null,
      "id": "e65f8a59",
      "metadata": {},
      "outputs": [],
      "source": [
        "predictions = np.array([chain.predict_proba(features_test) \n",
        "                          for chain in chains])\n",
        "proba_predictions_test = predictions.mean(axis=0)\n",
        "proba_predictions_test\n"
      ]
    },
    {
      "cell_type": "code",
      "execution_count": null,
      "id": "cf5cc29b",
      "metadata": {},
      "outputs": [],
      "source": [
        "submission = pd.DataFrame(\n",
        "    proba_predictions_test, \n",
        "    columns=target_cols,\n",
        "    index=test_df.id\n",
        ").reset_index()\n",
        "\n",
        "submission.head()\n"
      ]
    },
    {
      "cell_type": "code",
      "execution_count": null,
      "id": "7578a14e",
      "metadata": {},
      "outputs": [],
      "source": [
        "submission.info()\n"
      ]
    },
    {
      "cell_type": "code",
      "execution_count": null,
      "id": "733b3413",
      "metadata": {},
      "outputs": [],
      "source": [
        "# Saving the submission\n",
        "submission.to_csv('submission.csv', index=False)\n",
        "\n",
        "# Displaying the success message\n",
        "print(\"The submission has been successfully saved.\")\n"
      ]
    }
  ],
  "metadata": {},
  "nbformat": 4,
  "nbformat_minor": 5
}