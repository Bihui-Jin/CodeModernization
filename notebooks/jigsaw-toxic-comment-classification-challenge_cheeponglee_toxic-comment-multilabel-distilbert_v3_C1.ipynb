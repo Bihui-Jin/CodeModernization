{
 "cells": [
  {
   "cell_type": "code",
   "execution_count": null,
   "id": "0e04a967",
   "metadata": {},
   "outputs": [],
   "source": [
    "import pandas as pd\n",
    "from pathlib import Path"
   ]
  },
  {
   "cell_type": "code",
   "execution_count": null,
   "id": "316a9b13",
   "metadata": {},
   "outputs": [],
   "source": [
    "# This Python 3 environment comes with many helpful analytics libraries installed\n",
    "# It is defined by the kaggle/python Docker image: https://github.com/kaggle/docker-python\n",
    "# For example, here's several helpful packages to load\n",
    "\n",
    "import numpy as np # linear algebra\n",
    "import pandas as pd # data processing, CSV file I/O (e.g. pd.read_csv)\n",
    "\n",
    "# Input data files are available in the read-only \"../input/\" directory\n",
    "# For example, running this (by clicking run or pressing Shift+Enter) will list all files under the input directory\n",
    "\n",
    "import os\n",
    "for dirname, _, filenames in os.walk('/kaggle/input'):\n",
    "    for filename in filenames:\n",
    "        print(os.path.join(dirname, filename))\n",
    "\n",
    "# You can write up to 20GB to the current directory (/kaggle/working/) that gets preserved as output when you create a version using \"Save & Run All\" \n",
    "# You can also write temporary files to /kaggle/temp/, but they won't be saved outside of the current session\n"
   ]
  },
  {
   "cell_type": "code",
   "execution_count": null,
   "id": "8d3559a7",
   "metadata": {},
   "outputs": [],
   "source": [
    "## Transformer\n",
    "!pip install transformers --quiet\n",
    "!pip install datasets transformers[sentencepiece] --quiet\n",
    "!pip install \"transformers[sentencepiece]\" --quiet\n"
   ]
  },
  {
   "cell_type": "code",
   "execution_count": null,
   "id": "fbf22d1a",
   "metadata": {},
   "outputs": [],
   "source": [
    "# import library\n",
    "import numpy as np\n",
    "import pandas as pd\n",
    "from sklearn.model_selection import train_test_split\n",
    "import matplotlib.pyplot as plt\n",
    "import seaborn as sns \n",
    "import time\n",
    "import datetime\n"
   ]
  },
  {
   "cell_type": "code",
   "execution_count": null,
   "id": "ddbf4b8c",
   "metadata": {},
   "outputs": [],
   "source": [
    "df = pd.read_csv('/kaggle/input/jigsaw-toxic-comment-classification-challenge/train.csv.zip')\n",
    "test_csv = pd.read_csv('/kaggle/input/jigsaw-toxic-comment-classification-challenge/test.csv.zip')\n",
    "test_csv_labels = pd.read_csv('/kaggle/input/jigsaw-toxic-comment-classification-challenge/test_labels.csv.zip')\n",
    "print(df.columns)\n",
    "print(df.shape)\n",
    "target_col= df.columns[2:]\n",
    "feature_col= df.columns[1:2]\n",
    "df.head()\n"
   ]
  },
  {
   "cell_type": "code",
   "execution_count": null,
   "id": "0e85f86a",
   "metadata": {},
   "outputs": [],
   "source": [
    "for col in target_col:\n",
    "    print(f\"The unique value for {col} are {df[col].unique()}\")\n"
   ]
  },
  {
   "cell_type": "code",
   "execution_count": null,
   "id": "58027b02",
   "metadata": {},
   "outputs": [],
   "source": [
    "for col in target_col:\n",
    "    print(f\"The unique value for {col} are {test_csv_labels[col].unique()}\")\n"
   ]
  },
  {
   "cell_type": "code",
   "execution_count": null,
   "id": "e1d6e9c0",
   "metadata": {},
   "outputs": [],
   "source": [
    "print(target_col)\n",
    "print(feature_col)\n"
   ]
  },
  {
   "cell_type": "code",
   "execution_count": null,
   "id": "6431bd69",
   "metadata": {},
   "outputs": [],
   "source": [
    "df.dtypes\n"
   ]
  },
  {
   "cell_type": "code",
   "execution_count": null,
   "id": "9c6426d6",
   "metadata": {},
   "outputs": [],
   "source": [
    "categories = ['toxic','severe_toxic','obscene','threat','insult','identity_hate']\n",
    "sns.barplot(x=categories,y=df[categories].sum())\n",
    "plt.show()\n"
   ]
  },
  {
   "cell_type": "code",
   "execution_count": null,
   "id": "cee7dc45",
   "metadata": {},
   "outputs": [],
   "source": [
    "# Create \"y\" variable as binary target variable for at least one identification of class\n",
    "condition = ((df[\"toxic\"]==1) |\n",
    "             (df[\"severe_toxic\"]==1) |\n",
    "             (df[\"obscene\"]==1) |\n",
    "             (df[\"threat\"]==1) |\n",
    "             (df[\"insult\"]==1) |\n",
    "             (df[\"identity_hate\"]==1)\n",
    "            )\n",
    "\n",
    "df.loc[condition, \"y\"]=1\n",
    "df.loc[~condition, \"y\"]=0\n",
    "df[\"y\"] = df[\"y\"].astype(int)\n"
   ]
  },
  {
   "cell_type": "code",
   "execution_count": null,
   "id": "db80669f",
   "metadata": {},
   "outputs": [],
   "source": [
    "agg_df = df[\"y\"]\\\n",
    "    .value_counts(normalize=True)\\\n",
    "    .rename('Proportion')\\\n",
    "    .reset_index()\n",
    "    \n",
    "agg_df.columns = [\"y\", \"Proportion\"]\n"
   ]
  },
  {
   "cell_type": "code",
   "execution_count": null,
   "id": "29bd8a7a",
   "metadata": {},
   "outputs": [],
   "source": [
    "splot = sns.barplot(x=\"y\", y='Proportion',data=agg_df)\n",
    "plt.ylim(0,1)\n",
    "plt.title(\"Proportion of Non-Toxic/Toxic Post\")\n",
    "for p in splot.patches:\n",
    "    splot.annotate(format(p.get_height(), '.2f'), \n",
    "                   (p.get_x() + p.get_width() / 2., p.get_height()), \n",
    "                   ha = 'center', va = 'center', \n",
    "                   xytext = (0, 9), \n",
    "                   textcoords = 'offset points')\n"
   ]
  },
  {
   "cell_type": "code",
   "execution_count": null,
   "id": "29921d37",
   "metadata": {},
   "outputs": [],
   "source": [
    "# Create variable to check on length\n",
    "df['len'] = df[\"comment_text\"].str.split().str.len()\n"
   ]
  },
  {
   "cell_type": "code",
   "execution_count": null,
   "id": "e5d0393d",
   "metadata": {},
   "outputs": [],
   "source": [
    "print(f\"Average length is {df['len'].mean()} while max length is {df['len'].max()}.\")\n",
    "df['len'].hist(bins=20)\n",
    "plt.show()\n"
   ]
  },
  {
   "cell_type": "code",
   "execution_count": null,
   "id": "e101be75",
   "metadata": {},
   "outputs": [],
   "source": [
    "# Split the distribution chart by y = 1 or 0\n",
    "sns.histplot(data=df, x=\"len\", hue=\"y\", bins=50, alpha=0.2)\n"
   ]
  },
  {
   "cell_type": "code",
   "execution_count": null,
   "id": "0a6f6672",
   "metadata": {},
   "outputs": [],
   "source": [
    "# Cumulative Distribution\n",
    "sns.histplot(data=df, x=\"len\", hue=\"y\",\n",
    "             log_scale=True, element=\"step\", fill=False,\n",
    "             cumulative=True, stat=\"density\", common_norm=False)\n"
   ]
  },
  {
   "cell_type": "code",
   "execution_count": null,
   "id": "8101ce62",
   "metadata": {},
   "outputs": [],
   "source": [
    "df = df.rename(columns={\"id\": \"idx\"})\n"
   ]
  },
  {
   "cell_type": "code",
   "execution_count": null,
   "id": "29b1d96a",
   "metadata": {},
   "outputs": [],
   "source": [
    "df.head()\n"
   ]
  },
  {
   "cell_type": "code",
   "execution_count": null,
   "id": "eb971843",
   "metadata": {},
   "outputs": [],
   "source": [
    "# import pyTorch\n",
    "import torch\n",
    "import torch.nn as nn\n",
    "import torch.optim as optim\n",
    "from torch.optim import lr_scheduler\n",
    "# import other parts of transformers as well as tqdm\n",
    "from transformers import (AutoTokenizer, AutoModel, \n",
    "                          AutoModelForSequenceClassification, \n",
    "                          DataCollatorWithPadding, AdamW, get_scheduler,\n",
    "                          get_linear_schedule_with_warmup,\n",
    "                          )\n",
    "# import pyarrow (can only import this with GPU on kaggle notebook)\n",
    "import pyarrow as pa\n",
    "from tqdm.auto import tqdm\n",
    "from torch.utils.data import TensorDataset, DataLoader, RandomSampler, SequentialSampler\n",
    "import datasets\n",
    "import random\n",
    "from sklearn.metrics import classification_report\n"
   ]
  },
  {
   "cell_type": "code",
   "execution_count": null,
   "id": "17f63123",
   "metadata": {},
   "outputs": [],
   "source": [
    "# Setting up seed value\n",
    "seed_value = 42\n",
    "random.seed(seed_value)\n",
    "np.random.seed(seed_value)\n",
    "torch.manual_seed(seed_value)\n",
    "torch.cuda.manual_seed_all(seed_value)\n"
   ]
  },
  {
   "cell_type": "code",
   "execution_count": null,
   "id": "193ea09f",
   "metadata": {},
   "outputs": [],
   "source": [
    "# train & validation, test split\n",
    "train_val_df, test_df = train_test_split(df[[\"idx\", \"comment_text\"] + categories], test_size=0.2, random_state=seed_value)\n"
   ]
  },
  {
   "cell_type": "code",
   "execution_count": null,
   "id": "c1e4de70",
   "metadata": {},
   "outputs": [],
   "source": [
    "# train, validation split\n",
    "train_df, val_df, = train_test_split(train_val_df[[\"idx\", \"comment_text\"] + categories], test_size=0.25, random_state=seed_value)\n"
   ]
  },
  {
   "cell_type": "code",
   "execution_count": null,
   "id": "d7164c21",
   "metadata": {},
   "outputs": [],
   "source": [
    "print(f\"Size of train, validation and test are {len(train_df)}, {len(val_df)}, {len(test_df)} respectively.\")\n",
    "print(f\"Proportion of train, validation and test are {round(len(train_df)/len(df),2)}, {round(len(val_df)/len(df),2)}, {round(len(test_df)/len(df),2)} respectively.\")\n"
   ]
  },
  {
   "cell_type": "code",
   "execution_count": null,
   "id": "71ff2773",
   "metadata": {},
   "outputs": [],
   "source": [
    "train_df.reset_index(inplace=True)\n",
    "train_df.drop(\"index\", axis=1, inplace=True)\n",
    "\n",
    "val_df.reset_index(inplace=True)\n",
    "val_df.drop(\"index\", axis=1, inplace=True)\n",
    "\n",
    "test_df.reset_index(inplace=True)\n",
    "test_df.drop(\"index\", axis=1, inplace=True)\n"
   ]
  },
  {
   "cell_type": "code",
   "execution_count": null,
   "id": "0d0e0baf",
   "metadata": {},
   "outputs": [],
   "source": [
    "train_df.head()\n"
   ]
  },
  {
   "cell_type": "code",
   "execution_count": null,
   "id": "c7adde68",
   "metadata": {},
   "outputs": [],
   "source": [
    "# instantiate tokenizer, model using \"bert-base-uncased\"\n",
    "# checkpoint = \"distilbert-base-uncased-finetuned-sst-2-english\"\n",
    "checkpoint = \"distilbert-base-uncased\"\n",
    "tokenizer = AutoTokenizer.from_pretrained(checkpoint)\n",
    "\n",
    "data_collator = DataCollatorWithPadding(tokenizer=tokenizer)\n"
   ]
  },
  {
   "cell_type": "code",
   "execution_count": null,
   "id": "c3992247",
   "metadata": {},
   "outputs": [],
   "source": [
    "# tokenize and encode sequences in the training set\n",
    "train_tokens = tokenizer.batch_encode_plus(train_df[\"comment_text\"].tolist(),\n",
    "                                           max_length = 200,\n",
    "                                           pad_to_max_length=True,\n",
    "                                           truncation=True,\n",
    "                                           return_token_type_ids=False\n",
    "                                           )\n",
    "\n",
    "# tokenize and encode sequences in the validation set\n",
    "val_tokens = tokenizer.batch_encode_plus(val_df[\"comment_text\"].tolist(),\n",
    "                                         max_length = 200,\n",
    "                                         pad_to_max_length=True,\n",
    "                                         truncation=True,\n",
    "                                         return_token_type_ids=False\n",
    "                                         )\n",
    "\n",
    "# tokenize and encode sequences in the test set\n",
    "test_tokens = tokenizer.batch_encode_plus(test_df[\"comment_text\"].tolist(),\n",
    "                                          max_length = 200,\n",
    "                                          pad_to_max_length=True,\n",
    "                                          truncation=True,\n",
    "                                          return_token_type_ids=False\n",
    "                                          )\n"
   ]
  },
  {
   "cell_type": "code",
   "execution_count": null,
   "id": "80b5b827",
   "metadata": {},
   "outputs": [],
   "source": [
    "## convert lists to tensors\n",
    "train_seq = torch.tensor(train_tokens['input_ids'])\n",
    "train_mask = torch.tensor(train_tokens['attention_mask'])\n",
    "# change from a list of 1 & 0 to array then to tensor\n",
    "train_y = torch.tensor(np.array(train_df[categories]))  \n",
    "\n",
    "val_seq = torch.tensor(val_tokens['input_ids'])\n",
    "val_mask = torch.tensor(val_tokens['attention_mask'])\n",
    "# change from a list of 1 & 0 to array then to tensor\n",
    "val_y = torch.tensor(np.array(val_df[categories]))\n",
    "\n",
    "test_seq = torch.tensor(test_tokens['input_ids'])\n",
    "test_mask = torch.tensor(test_tokens['attention_mask'])\n",
    "# change from a list of 1 & 0 to array then to tensor\n",
    "test_y = torch.tensor(np.array(test_df[categories]))\n"
   ]
  },
  {
   "cell_type": "code",
   "execution_count": null,
   "id": "af00862c",
   "metadata": {},
   "outputs": [],
   "source": [
    "train_y\n"
   ]
  },
  {
   "cell_type": "code",
   "execution_count": null,
   "id": "24791f97",
   "metadata": {},
   "outputs": [],
   "source": [
    "# wrap tensors\n",
    "train_data = TensorDataset(train_seq, train_mask, train_y)\n",
    "# sampler for sampling the data during training\n",
    "train_sampler = RandomSampler(train_data)\n",
    "\n",
    "# wrap tensors\n",
    "val_data = TensorDataset(val_seq, val_mask, val_y)\n",
    "# sampler for sampling the data during training\n",
    "val_sampler = SequentialSampler(val_data)\n",
    "\n",
    "# wrap tensors\n",
    "test_data = TensorDataset(test_seq, test_mask, test_y)\n",
    "test_sampler = SequentialSampler(test_data)\n"
   ]
  },
  {
   "cell_type": "code",
   "execution_count": null,
   "id": "30c8a449",
   "metadata": {},
   "outputs": [],
   "source": [
    "# define a batch size\n",
    "batch_size = 32\n",
    "\n",
    "# dataLoader for train set\n",
    "train_dataloader = DataLoader(train_data, \n",
    "                              sampler=train_sampler, \n",
    "                              batch_size=batch_size,\n",
    "                              # collate_fn=data_collator\n",
    "                              )\n",
    "\n",
    "# dataLoader for validation set\n",
    "val_dataloader = DataLoader(val_data, \n",
    "                            sampler = val_sampler, \n",
    "                            batch_size=batch_size,\n",
    "                            # collate_fn=data_collator\n",
    "                            )\n"
   ]
  },
  {
   "cell_type": "code",
   "execution_count": null,
   "id": "73fadda7",
   "metadata": {},
   "outputs": [],
   "source": [
    "for step,batch in enumerate(train_dataloader):\n",
    "    break\n",
    "print(batch[0])\n",
    "print(batch[1])\n",
    "print(batch[2])\n"
   ]
  },
  {
   "cell_type": "code",
   "execution_count": null,
   "id": "6ce9429a",
   "metadata": {},
   "outputs": [],
   "source": [
    "# instantiate model using bert-base-uncased\"\n",
    "# Will be training for the whole network instead of just finetuning the weight of the head layer\n",
    "model = AutoModelForSequenceClassification.from_pretrained(checkpoint, num_labels = 6)\n",
    "\n",
    "# In the event that we only need to finetune the head layer and not the whole network,\n",
    "# just need to uncomment the below code\n",
    "\n",
    "# for param in model.bert.parameters():\n",
    "#     param.requires_grad = False\n",
    "\n",
    "# for name, param in model.named_parameters():                \n",
    "#     if param.requires_grad:\n",
    "#         print(name)\n"
   ]
  },
  {
   "cell_type": "code",
   "execution_count": null,
   "id": "a05a8346",
   "metadata": {},
   "outputs": [],
   "source": [
    "device = torch.device(\"cuda\") if torch.cuda.is_available() else torch.device(\"cpu\")\n",
    "model.to(device)\n"
   ]
  },
  {
   "cell_type": "code",
   "execution_count": null,
   "id": "dd528246",
   "metadata": {},
   "outputs": [],
   "source": [
    "# Set up optimizer\n",
    "# Will be training for the whole network instead of just finetuning the weight of the head layer\n",
    "LEARN_RATE = 3e-5\n",
    "optimizer = AdamW(model.parameters(),\n",
    "                  lr = LEARN_RATE, # args.learning_rate - default is 5e-5, our notebook had 2e-5\n",
    "                  eps = 1e-8 # args.adam_epsilon  - default is 1e-8.\n",
    "                  )\n",
    "\n",
    "# In the event that we only need to finetune the head layer and not the whole network,\n",
    "# just need to uncomment the below code\n",
    "\n",
    "# optimizer = AdamW(filter(lambda p: p.requires_grad, model.parameters()),\n",
    "#                   lr = LEARN_RATE, # args.learning_rate - default is 5e-5, our notebook had 2e-5\n",
    "#                   eps = 1e-8 # args.adam_epsilon  - default is 1e-8.\n",
    "#                   )\n",
    "\n",
    "# optimizer = torch.optim.Adam(filter(lambda p: p.requires_grad, model.parameters()), lr = 1e-5)\n"
   ]
  },
  {
   "cell_type": "code",
   "execution_count": null,
   "id": "e06c92be",
   "metadata": {},
   "outputs": [],
   "source": [
    "# Number of training epochs. The BERT authors recommend between 2 and 4. \n",
    "# We chose to run for 3\n",
    "epochs = 3\n",
    "\n",
    "# Total number of training steps is [number of batches] x [number of epochs]. \n",
    "# (Note that this is not the same as the number of training samples).\n",
    "total_steps = len(train_dataloader) * epochs\n",
    "\n",
    "# Create the learning rate scheduler.\n",
    "scheduler = get_linear_schedule_with_warmup(optimizer, \n",
    "                                            num_warmup_steps = 0, # default value\n",
    "                                            num_training_steps = total_steps\n",
    "                                            )\n",
    "# scheduler = torch.optim.lr_scheduler.ReduceLROnPlateau(optimizer)\n"
   ]
  },
  {
   "cell_type": "code",
   "execution_count": null,
   "id": "d1eaf07c",
   "metadata": {},
   "outputs": [],
   "source": [
    "# Specify loss function\n",
    "criterion = nn.BCEWithLogitsLoss()\n",
    "\n",
    "# https://pytorch.org/docs/stable/generated/torch.nn.CrossEntropyLoss.html\n",
    "# This criterion combines LogSoftmax and NLLLoss in one single class.\n",
    "# More relevant for multiclass (because of the softmax)\n",
    "\n",
    "# https://pytorch.org/docs/stable/generated/torch.nn.BCEWithLogitsLoss.html\n",
    "# More relevant for multilabel. For more explanation, can refer to the link below.\n",
    "# https://discuss.pytorch.org/t/using-bcewithlogisloss-for-multi-label-classification/67011/2\n"
   ]
  },
  {
   "cell_type": "code",
   "execution_count": null,
   "id": "4962431c",
   "metadata": {},
   "outputs": [],
   "source": [
    "# Specify measurement of accuracy\n",
    "def accuracy_thresh(y_pred, y_true, thresh:float=0.4, sigmoid:bool=True):\n",
    "    \"Compute accuracy when `y_pred` and `y_true` are the same size.\"\n",
    "    if sigmoid: \n",
    "        y_pred = y_pred.sigmoid()\n",
    "    # return ((y_pred>thresh)==y_true.byte()).float().mean().item()\n",
    "    return np.mean(((y_pred>thresh).float()==y_true.float()).float().cpu().numpy(), axis=1).sum()\n"
   ]
  },
  {
   "cell_type": "code",
   "execution_count": null,
   "id": "74a07e47",
   "metadata": {},
   "outputs": [],
   "source": [
    "def format_time(elapsed):\n",
    "    '''\n",
    "    Takes a time in seconds and returns a string hh:mm:ss\n",
    "    '''\n",
    "    # Round to the nearest second.\n",
    "    elapsed_rounded = int(round((elapsed)))\n",
    "    \n",
    "    # Format as hh:mm:ss\n",
    "    return str(datetime.timedelta(seconds=elapsed_rounded))\n"
   ]
  },
  {
   "cell_type": "code",
   "execution_count": null,
   "id": "ce7070d6",
   "metadata": {},
   "outputs": [],
   "source": [
    "# We'll store a number of quantities such as training and validation loss, \n",
    "# validation accuracy, and timings.\n",
    "training_stats = []\n",
    "\n",
    "# Measure the total training time for the whole run.\n",
    "total_t0 = time.time()\n",
    "\n",
    "# For each epoch...\n",
    "for epoch_i in range(0, epochs):\n",
    "    # ========================================\n",
    "    #               Training\n",
    "    # ========================================\n",
    "    # Perform one full pass over the training set.\n",
    "    print(\"\")\n",
    "    print('======== Epoch {:} / {:} ========'.format(epoch_i + 1, epochs))\n",
    "    print('Training...')\n",
    "\n",
    "    # Measure how long the training epoch takes.\n",
    "    t0 = time.time()\n",
    "    # Reset the total loss & accuracy for this epoch.\n",
    "    total_train_loss = 0\n",
    "    total_train_accuracy = 0\n",
    "\n",
    "    # Put the model into training mode. Don't be mislead--the call to \n",
    "    # `train` just changes the *mode*, it doesn't *perform* the training.\n",
    "    # `dropout` and `batchnorm` layers behave differently during training\n",
    "    # vs. test (source: https://stackoverflow.com/questions/51433378/what-does-model-train-do-in-pytorch)\n",
    "    model.train()\n",
    "\n",
    "    # For each batch of training data...\n",
    "    for step, batch in enumerate(train_dataloader):\n",
    "        # Progress update every 40 batches.\n",
    "        if step % 40 == 0 and not step == 0:\n",
    "            # Calculate elapsed time in minutes.\n",
    "            elapsed = format_time(time.time() - t0)\n",
    "            # Report progress.\n",
    "            print('  Batch {:>5,}  of  {:>5,}.    Elapsed: {:}.'.format(step, len(train_dataloader), elapsed))\n",
    "\n",
    "        # Unpack this training batch from our dataloader. \n",
    "        # As we unpack the batch, we'll also copy each tensor to the GPU using the `to` method.\n",
    "        # `batch` contains three pytorch tensors:\n",
    "        #   [0]: input ids \n",
    "        #   [1]: attention masks\n",
    "        #   [2]: labels \n",
    "        b_input_ids = batch[0].to(device)\n",
    "        b_input_mask = batch[1].to(device)\n",
    "        b_labels = batch[2].to(device)\n",
    "\n",
    "        # Always clear any previously calculated gradients before performing a backward pass. \n",
    "        # PyTorch doesn't do this automatically because accumulating the gradients is \"convenient while training RNNs\". \n",
    "        # (source: https://stackoverflow.com/questions/48001598/why-do-we-need-to-call-zero-grad-in-pytorch)\n",
    "        model.zero_grad()        \n",
    "\n",
    "        # Perform a forward pass (evaluate the model on this training batch).\n",
    "        # The documentation for this `model` function is here: \n",
    "        # https://huggingface.co/transformers/v2.2.0/model_doc/bert.html#transformers.BertForSequenceClassification\n",
    "        # It returns different numbers of parameters depending on what arguments are given and what flags are set. \n",
    "        # For our useage here, it returns the loss (because we provided labels) and the \"logits\"--the model outputs prior to activation.\n",
    "        output = model(b_input_ids, \n",
    "                       # token_type_ids=None, \n",
    "                       attention_mask=b_input_mask, \n",
    "                       #labels=b_labels\n",
    "                       )\n",
    "        logits = output.logits\n",
    "        loss = criterion(logits, b_labels.float())\n",
    "\n",
    "        # Accumulate the training loss over all of the batches so that we can calculate the average loss at the end. \n",
    "        # `loss` is a Tensor containing a single value; the `.item()` function just returns the Python value from the tensor.\n",
    "        total_train_loss += loss.item()\n",
    "        \n",
    "        # Calculate the accuracy for this batch of test sentences, and accumulate it over all batches.\n",
    "        total_train_accuracy += accuracy_thresh(logits,b_labels.float())\n",
    "\n",
    "        # Perform a backward pass to calculate the gradients.\n",
    "        loss.backward()\n",
    "\n",
    "        # Clip the norm of the gradients to 1.0.\n",
    "        # This is to help prevent the \"exploding gradients\" problem.\n",
    "        torch.nn.utils.clip_grad_norm_(model.parameters(), 1.0)\n",
    "\n",
    "        # Update parameters and take a step using the computed gradient.\n",
    "        # The optimizer dictates the \"update rule\"--how the parameters are modified based on their gradients, the learning rate, etc.\n",
    "        optimizer.step()\n",
    "\n",
    "        # Update the learning rate.\n",
    "        scheduler.step()\n",
    "\n",
    "    # Report the final accuracy for this validation run.\n",
    "    # avg_train_accuracy = total_train_accuracy / len(train_dataloader)\n",
    "    # print(\"  Accuracy: {0:.5f}\".format(avg_train_accuracy))\n",
    "    train_accuracy = total_train_accuracy / len(train_df)\n",
    "    print(\"  Accuracy: {0:.5f}\".format(train_accuracy))\n",
    "    \n",
    "    # Calculate the average loss over all of the batches.\n",
    "    avg_train_loss = total_train_loss / len(train_dataloader)            \n",
    "    \n",
    "    # Measure how long this epoch took.\n",
    "    training_time = format_time(time.time() - t0)\n",
    "\n",
    "    print(\"\")\n",
    "    print(\"  Average training loss: {0:.2f}\".format(avg_train_loss))\n",
    "    print(\"  Training epcoh took: {:}\".format(training_time))\n",
    "        \n",
    "    # ========================================\n",
    "    #               Validation\n",
    "    # ========================================\n",
    "    # After the completion of each training epoch, measure our performance on our validation set.\n",
    "\n",
    "    print(\"\")\n",
    "    print(\"Running Validation...\")\n",
    "\n",
    "    t0 = time.time()\n",
    "\n",
    "    # Put the model in evaluation mode--the dropout layers behave differently during evaluation.\n",
    "    model.eval()\n",
    "\n",
    "    # Tracking variables \n",
    "    total_eval_accuracy = 0\n",
    "    total_eval_loss = 0\n",
    "    nb_eval_steps = 0\n",
    "\n",
    "    # Evaluate data for one epoch\n",
    "    for batch in val_dataloader:\n",
    "        \n",
    "        # Unpack this training batch from our dataloader. \n",
    "        # As we unpack the batch, we'll also copy each tensor to the GPU using the `to` method.\n",
    "        # `batch` contains three pytorch tensors:\n",
    "        #   [0]: input ids \n",
    "        #   [1]: attention masks\n",
    "        #   [2]: labels \n",
    "        b_input_ids = batch[0].to(device)\n",
    "        b_input_mask = batch[1].to(device)\n",
    "        b_labels = batch[2].to(device)\n",
    "        \n",
    "        # Tell pytorch not to bother with constructing the compute graph during the forward pass, since this is only needed for backprop (training).\n",
    "        with torch.no_grad():        \n",
    "\n",
    "            # Forward pass, calculate logit predictions.\n",
    "            # token_type_ids is the same as the \"segment ids\", which differentiates sentence 1 and 2 in 2-sentence tasks.\n",
    "            # The documentation for this `model` function is here: \n",
    "            # https://huggingface.co/transformers/v2.2.0/model_doc/bert.html#transformers.BertForSequenceClassification\n",
    "            # Get the \"logits\" output by the model. The \"logits\" are the output values prior to applying an activation function like the softmax.\n",
    "            output = model(b_input_ids, \n",
    "                           # token_type_ids=None, \n",
    "                           attention_mask=b_input_mask, \n",
    "                           # labels=b_labels\n",
    "                           )\n",
    "            \n",
    "            logits = output.logits\n",
    "            loss = criterion(logits, b_labels.float())\n",
    "            \n",
    "        # Accumulate the validation loss.\n",
    "        total_eval_loss += loss.item()\n",
    "        \n",
    "        # Calculate the accuracy for this batch of test sentences, and accumulate it over all batches.\n",
    "        total_eval_accuracy += accuracy_thresh(logits,b_labels.float())\n",
    "\n",
    "        # Move logits and labels to CPU\n",
    "        logits = logits.detach().cpu().numpy() # maybe irrelevant over here\n",
    "        label_ids = b_labels.to('cpu').numpy() # maybe irrelevant over here\n",
    "\n",
    "    # Report the final accuracy for this validation run.\n",
    "    # avg_val_accuracy = total_eval_accuracy / len(val_dataloader)\n",
    "    # print(\"  Accuracy: {0:.5f}\".format(avg_val_accuracy))\n",
    "    val_accuracy = total_eval_accuracy / len(val_df)\n",
    "    print(\"  Accuracy: {0:.5f}\".format(val_accuracy))\n",
    "\n",
    "    # Calculate the average loss over all of the batches.\n",
    "    avg_val_loss = total_eval_loss / len(val_dataloader)\n",
    "    \n",
    "    # Measure how long the validation run took.\n",
    "    validation_time = format_time(time.time() - t0)\n",
    "    \n",
    "    print(\"  Validation Loss: {0:.2f}\".format(avg_val_loss))\n",
    "    print(\"  Validation took: {:}\".format(validation_time))\n",
    "\n",
    "    # Record all statistics from this epoch.\n",
    "    training_stats.append(\n",
    "        {\n",
    "            'epoch': epoch_i + 1,\n",
    "            'Training Loss': avg_train_loss,\n",
    "            'Valid. Loss': avg_val_loss,\n",
    "            # 'Training Accur': avg_train_accuracy,\n",
    "            # 'Valid. Accur.': avg_val_accuracy,\n",
    "            'Training Accur': train_accuracy,\n",
    "            'Valid. Accur.': val_accuracy,\n",
    "            'Training Time': training_time,\n",
    "            'Validation Time': validation_time\n",
    "        }\n",
    "    )\n",
    "\n",
    "print(\"\")\n",
    "print(\"Training complete!\")\n",
    "\n",
    "print(\"Total training took {:} (h:mm:ss)\".format(format_time(time.time()-total_t0)))\n"
   ]
  },
  {
   "cell_type": "code",
   "execution_count": null,
   "id": "c8b2814c",
   "metadata": {},
   "outputs": [],
   "source": [
    "# Display floats with two decimal places.\n",
    "pd.set_option('precision', 5)\n",
    "# Create a DataFrame from our training statistics.\n",
    "df_stats = pd.DataFrame(data=training_stats)\n",
    "# Use the 'epoch' as the row index.\n",
    "df_stats = df_stats.set_index('epoch')\n",
    "# A hack to force the column headers to wrap.\n",
    "#df = df.style.set_table_styles([dict(selector=\"th\",props=[('max-width', '70px')])])\n",
    "# Display the table.\n",
    "df_stats\n"
   ]
  },
  {
   "cell_type": "code",
   "execution_count": null,
   "id": "a842af20",
   "metadata": {},
   "outputs": [],
   "source": [
    "# Plot the learning curve.\n",
    "plt.plot(df_stats['Training Loss'], 'b-o', label=\"Training\")\n",
    "plt.plot(df_stats['Valid. Loss'], 'g-o', label=\"Validation\")\n",
    "\n",
    "# Label the plot.\n",
    "plt.title(\"Training & Validation Loss\")\n",
    "plt.xlabel(\"Epoch\")\n",
    "plt.ylabel(\"Loss\")\n",
    "plt.legend()\n",
    "plt.xticks([1, 2, 3, 4])\n",
    "\n",
    "plt.show()\n"
   ]
  },
  {
   "cell_type": "code",
   "execution_count": null,
   "id": "24e6173d",
   "metadata": {},
   "outputs": [],
   "source": [
    "# Plot the accuracy curve.\n",
    "plt.plot(df_stats['Training Accur'], 'b-o', label=\"Training\")\n",
    "plt.plot(df_stats['Valid. Accur.'], 'g-o', label=\"Validation\")\n",
    "\n",
    "# Label the plot.\n",
    "plt.title(\"Training & Validation Accuracy\")\n",
    "plt.xlabel(\"Epoch\")\n",
    "plt.ylabel(\"Loss\")\n",
    "plt.legend()\n",
    "plt.xticks([1, 2, 3, 4])\n",
    "\n",
    "plt.show()\n"
   ]
  },
  {
   "cell_type": "code",
   "execution_count": null,
   "id": "ce1a8428",
   "metadata": {},
   "outputs": [],
   "source": [
    "# get predictions for test data\n",
    "thresh = 0.4\n",
    "with torch.no_grad():\n",
    "    outputs = model(test_seq[0:1000].to(device), test_mask[0:1000].to(device))\n",
    "    pred_probs = torch.sigmoid(outputs.logits)\n",
    "    pred_probs = pred_probs.cpu().detach().numpy()\n"
   ]
  },
  {
   "cell_type": "code",
   "execution_count": null,
   "id": "65c8885b",
   "metadata": {},
   "outputs": [],
   "source": [
    "pred_probs\n"
   ]
  },
  {
   "cell_type": "code",
   "execution_count": null,
   "id": "f195bf3d",
   "metadata": {},
   "outputs": [],
   "source": [
    "y_pred = (pred_probs > thresh).astype(int)\n"
   ]
  },
  {
   "cell_type": "code",
   "execution_count": null,
   "id": "0320ed97",
   "metadata": {},
   "outputs": [],
   "source": [
    "y_pred\n"
   ]
  },
  {
   "cell_type": "code",
   "execution_count": null,
   "id": "20f0a7e6",
   "metadata": {},
   "outputs": [],
   "source": [
    "y_true = np.array(test_df[categories])[0:1000]\n"
   ]
  },
  {
   "cell_type": "code",
   "execution_count": null,
   "id": "47eb5d44",
   "metadata": {},
   "outputs": [],
   "source": [
    "from sklearn.metrics import hamming_loss, accuracy_score\n"
   ]
  },
  {
   "cell_type": "code",
   "execution_count": null,
   "id": "059c2030",
   "metadata": {},
   "outputs": [],
   "source": [
    "def hamming_score(y_true, y_pred, normalize=True, sample_weight=None):\n",
    "    '''\n",
    "    Compute the Hamming score (a.k.a. label-based accuracy) for the multi-label case\n",
    "    http://stackoverflow.com/q/32239577/395857\n",
    "    \n",
    "    Take in np.array for y_true and y_pred. E.g.\n",
    "    y_true = np.array([[0,1,0],\n",
    "                       [0,1,1],\n",
    "                       [1,0,1],\n",
    "                       [0,0,1]])\n",
    "\n",
    "    y_pred = np.array([[0,1,1],\n",
    "                       [0,1,1],\n",
    "                       [0,1,0],\n",
    "                       [0,0,0]])\n",
    "    '''\n",
    "    acc_list = []\n",
    "    for i in range(y_true.shape[0]):\n",
    "        set_true = set( np.where(y_true[i])[0] )\n",
    "        set_pred = set( np.where(y_pred[i])[0] )\n",
    "        #print('\\nset_true: {0}'.format(set_true))\n",
    "        #print('set_pred: {0}'.format(set_pred))\n",
    "        tmp_a = None\n",
    "        if len(set_true) == 0 and len(set_pred) == 0:\n",
    "            tmp_a = 1\n",
    "        else:\n",
    "            tmp_a = len(set_true.intersection(set_pred))/\\\n",
    "                    float( len(set_true.union(set_pred)) )\n",
    "        #print('tmp_a: {0}'.format(tmp_a))\n",
    "        acc_list.append(tmp_a)\n",
    "    return np.mean(acc_list)\n"
   ]
  },
  {
   "cell_type": "code",
   "execution_count": null,
   "id": "70a507b4",
   "metadata": {},
   "outputs": [],
   "source": [
    "print(\"accuracy_score:\", accuracy_score(y_true, y_pred))\n",
    "print(\"Hamming_score:\", hamming_score(y_true, y_pred))\n",
    "print(\"Hamming_loss:\", hamming_loss(y_true, y_pred))\n"
   ]
  },
  {
   "cell_type": "code",
   "execution_count": null,
   "id": "eb6b0194",
   "metadata": {},
   "outputs": [],
   "source": [
    "PATH = \"./toxic_distilBERT_multilabel\"\n",
    "torch.save(model.state_dict(), PATH)\n"
   ]
  },
  {
   "cell_type": "code",
   "execution_count": null,
   "id": "0780715c",
   "metadata": {},
   "outputs": [],
   "source": [
    "test_csv.head()\n"
   ]
  },
  {
   "cell_type": "code",
   "execution_count": null,
   "id": "cfeb4ba5",
   "metadata": {},
   "outputs": [],
   "source": [
    "len(test_csv)\n"
   ]
  },
  {
   "cell_type": "code",
   "execution_count": null,
   "id": "1ad9f749",
   "metadata": {},
   "outputs": [],
   "source": [
    "# tokenize and encode sequences in the actual test set\n",
    "sub_tokens = tokenizer.batch_encode_plus(test_csv[\"comment_text\"].tolist(),\n",
    "                                         max_length = 200,\n",
    "                                         pad_to_max_length=True,\n",
    "                                         truncation=True,\n",
    "                                         return_token_type_ids=False\n",
    "                                         )\n"
   ]
  },
  {
   "cell_type": "code",
   "execution_count": null,
   "id": "c05b29f8",
   "metadata": {},
   "outputs": [],
   "source": [
    "sub_seq = torch.tensor(sub_tokens['input_ids'])\n",
    "sub_mask = torch.tensor(sub_tokens['attention_mask'])\n"
   ]
  },
  {
   "cell_type": "code",
   "execution_count": null,
   "id": "89bcb22d",
   "metadata": {},
   "outputs": [],
   "source": [
    "sub_data = TensorDataset(sub_seq, sub_mask)\n"
   ]
  },
  {
   "cell_type": "code",
   "execution_count": null,
   "id": "dea97711",
   "metadata": {},
   "outputs": [],
   "source": [
    "# dataLoader for validation set\n",
    "sub_dataloader = DataLoader(sub_data, \n",
    "                            batch_size=batch_size)\n"
   ]
  },
  {
   "cell_type": "code",
   "execution_count": null,
   "id": "959d7820",
   "metadata": {},
   "outputs": [],
   "source": [
    "# Measure how long the evaluation going to takes.\n",
    "t0 = time.time()\n",
    "\n",
    "for step, batch in enumerate(sub_dataloader):\n",
    "    # Progress update every 40 batches.\n",
    "    if step % 40 == 0 and not step == 0:\n",
    "        # Calculate elapsed time in minutes.\n",
    "        elapsed = format_time(time.time() - t0)\n",
    "        # Report progress.\n",
    "        print('  Batch {:>5,}  of  {:>5,}.    Elapsed: {:}.'.format(step, len(sub_dataloader), elapsed))\n",
    "    b_input_ids = batch[0].to(device)\n",
    "    b_input_mask = batch[1].to(device)\n",
    "    with torch.no_grad():\n",
    "        outputs = model(b_input_ids, b_input_mask)\n",
    "        pred_probs = torch.sigmoid(outputs.logits)\n",
    "        if step == 0:\n",
    "            predictions = pred_probs.cpu().detach().numpy()\n",
    "        else:\n",
    "            predictions = np.append(predictions, pred_probs.cpu().detach().numpy(), axis=0)\n"
   ]
  },
  {
   "cell_type": "code",
   "execution_count": null,
   "id": "43bd72d5",
   "metadata": {},
   "outputs": [],
   "source": [
    "predictions_df = pd.DataFrame(predictions, columns = categories)\n"
   ]
  },
  {
   "cell_type": "code",
   "execution_count": null,
   "id": "4efc395d",
   "metadata": {},
   "outputs": [],
   "source": [
    "len(predictions_df)\n"
   ]
  },
  {
   "cell_type": "code",
   "execution_count": null,
   "id": "62c65cc3",
   "metadata": {},
   "outputs": [],
   "source": [
    "submission = pd.concat([test_csv[\"id\"], predictions_df], axis=1)\n"
   ]
  },
  {
   "cell_type": "code",
   "execution_count": null,
   "id": "67492460",
   "metadata": {},
   "outputs": [],
   "source": [
    "submission.head()\n"
   ]
  },
  {
   "cell_type": "code",
   "execution_count": null,
   "id": "9707aad2",
   "metadata": {},
   "outputs": [],
   "source": [
    "submission.to_csv('submission.csv', index=False, header=True)\n"
   ]
  },
  {
   "cell_type": "code",
   "execution_count": null,
   "id": "40b2da44",
   "metadata": {},
   "outputs": [],
   "source": [
    " \n"
   ]
  }
 ],
 "metadata": {},
 "nbformat": 4,
 "nbformat_minor": 5
}
