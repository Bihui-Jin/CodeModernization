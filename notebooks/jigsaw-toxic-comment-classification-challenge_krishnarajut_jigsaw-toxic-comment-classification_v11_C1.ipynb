{
 "cells": [
  {
   "cell_type": "code",
   "execution_count": null,
   "id": "8bbf9113",
   "metadata": {},
   "outputs": [],
   "source": [
    "import pandas as pd\n",
    "from pathlib import Path"
   ]
  },
  {
   "cell_type": "code",
   "execution_count": null,
   "id": "c903ce0a",
   "metadata": {},
   "outputs": [],
   "source": [
    "# This Python 3 environment comes with many helpful analytics libraries installed\n",
    "# It is defined by the kaggle/python Docker image: https://github.com/kaggle/docker-python\n",
    "# For example, here's several helpful packages to load\n",
    "\n",
    "import numpy as np # linear algebra\n",
    "import pandas as pd # data processing, CSV file I/O (e.g. pd.read_csv)\n",
    "import pandas as pd\n",
    "import numpy as np\n",
    "import seaborn as sns\n",
    "import nltk\n",
    "from nltk.corpus import stopwords\n",
    "from nltk.tokenize import word_tokenize \n",
    "from sklearn.multioutput import MultiOutputClassifier\n",
    "from skmultilearn.problem_transform import ClassifierChain\n",
    "from sklearn.naive_bayes import MultinomialNB\n",
    "from sklearn.feature_extraction.text import TfidfVectorizer\n",
    "\n",
    "# Input data files are available in the read-only \"../input/\" directory\n",
    "# For example, running this (by clicking run or pressing Shift+Enter) will list all files under the input directory\n",
    "\n",
    "import os\n",
    "for dirname, _, filenames in os.walk('/kaggle/input'):\n",
    "    for filename in filenames:\n",
    "        print(os.path.join(dirname, filename))\n",
    "        \n",
    "main_df = pd.read_csv('/kaggle/input/jigsaw-toxic-comment-classification-challenge/train.csv.zip')\n",
    "test_df = pd.read_csv('/kaggle/input/jigsaw-toxic-comment-classification-challenge/test.csv.zip')\n",
    "test_labels = pd.read_csv('/kaggle/input/jigsaw-toxic-comment-classification-challenge/test_labels.csv.zip')\n",
    "sample_submission = pd.read_csv('/kaggle/input/jigsaw-toxic-comment-classification-challenge/sample_submission.csv.zip')\n",
    "\n",
    "# You can write up to 20GB to the current directory (/kaggle/working/) that gets preserved as output when you create a version using \"Save & Run All\" \n",
    "# You can also write temporary files to /kaggle/temp/, but they won't be saved outside of the current session\n"
   ]
  },
  {
   "cell_type": "code",
   "execution_count": null,
   "id": "9dd52151",
   "metadata": {},
   "outputs": [],
   "source": [
    "main_df.head()\n"
   ]
  },
  {
   "cell_type": "code",
   "execution_count": null,
   "id": "d9714781",
   "metadata": {},
   "outputs": [],
   "source": [
    "test_df.head()\n"
   ]
  },
  {
   "cell_type": "code",
   "execution_count": null,
   "id": "e8243f73",
   "metadata": {},
   "outputs": [],
   "source": [
    "#data cleaning\n",
    "def data_cleaning(df):\n",
    "    df['comment_text'] = df['comment_text'].replace('\\n',' ', regex=True).replace('\\r',' ', regex=True).replace('\\t',' ', regex=True) #spaces\n",
    "    df['comment_text'] = df['comment_text'].replace('\\\\n',' ', regex=True)\n",
    "    df['comment_text'] = df['comment_text'].replace('http[S|s]*\\S+|www.\\S+',' ', regex=True) #Links\n",
    "    df['comment_text'] = df['comment_text'].replace('\\d+',' ', regex=True) #numbers\n",
    "    df['comment_text'] = df['comment_text'].replace('\\s{2,}',' ', regex=True) #multiple spaces\n",
    "    df['comment_text'] = df['comment_text'].map(lambda x: x.strip()) #removing trailSpaces\n",
    "    df['comment_text'] = df['comment_text'].str.replace('\\W', ' ') #special characters => most of the puntuat\n",
    "    return df\n"
   ]
  },
  {
   "cell_type": "code",
   "execution_count": null,
   "id": "6c5545ab",
   "metadata": {},
   "outputs": [],
   "source": [
    "main_df = data_cleaning(main_df)\n",
    "test_df = data_cleaning(test_df)\n"
   ]
  },
  {
   "cell_type": "code",
   "execution_count": null,
   "id": "0ee4f094",
   "metadata": {},
   "outputs": [],
   "source": [
    "#tokenization\n",
    "#def tokenizer(text):\n",
    "#    return word_tokenize(text)\n",
    "#print(stopwords.words('english'))\n",
    "new_stopwords = stopwords.words('english')\n",
    "\n",
    "def stopwords_remover(words_list):\n",
    "    text_list = [word for word in words_list if word not in new_stopwords]\n",
    "    return text_list\n",
    "\n",
    "lemmitize_obj = nltk.WordNetLemmatizer()\n",
    "\n",
    "def _lemmatizer(tokenized_text):\n",
    "    text = [lemmitize_obj.lemmatize(word) for word in tokenized_text]\n",
    "    return text\n"
   ]
  },
  {
   "cell_type": "code",
   "execution_count": null,
   "id": "a93492ee",
   "metadata": {},
   "outputs": [],
   "source": [
    "main_df['comment_text_tokenized'] = main_df['comment_text'].apply(lambda x: word_tokenize(x.lower()))\n",
    "main_df['comment_text_stopword_removed'] = main_df['comment_text_tokenized'].apply(lambda x: stopwords_remover(x))\n",
    "main_df['comment_text_lemmatized'] = main_df['comment_text_stopword_removed'].apply(lambda x: _lemmatizer(x))\n",
    "\n",
    "test_df['comment_text_tokenized'] = test_df['comment_text'].apply(lambda x: word_tokenize(x.lower()))\n",
    "test_df['comment_text_stopword_removed'] = test_df['comment_text_tokenized'].apply(lambda x: stopwords_remover(x))\n",
    "test_df['comment_text_lemmatized'] = test_df['comment_text_stopword_removed'].apply(lambda x: _lemmatizer(x))\n",
    "\n",
    "wrk_df = main_df.copy()\n",
    "wrk_df =  wrk_df.drop(['comment_text','comment_text_stopword_removed','comment_text_tokenized'],axis = 1)\n",
    "wrk_df['comment_text_lemmatized']= wrk_df['comment_text_lemmatized'].map(lambda x: \" \".join(x) ) \n",
    "test_df['comment_text_lemmatized']= test_df['comment_text_lemmatized'].map(lambda x: \" \".join(x) )\n"
   ]
  },
  {
   "cell_type": "code",
   "execution_count": null,
   "id": "767c418b",
   "metadata": {},
   "outputs": [],
   "source": [
    "tf_vect = TfidfVectorizer(lowercase = True, max_features=1750)\n"
   ]
  },
  {
   "cell_type": "code",
   "execution_count": null,
   "id": "6cebbfea",
   "metadata": {},
   "outputs": [],
   "source": [
    "train_features_sparse = tf_vect.fit_transform(wrk_df['comment_text_lemmatized'])\n",
    "test_features_sparse = tf_vect.transform(test_df['comment_text_lemmatized'])\n"
   ]
  },
  {
   "cell_type": "code",
   "execution_count": null,
   "id": "4e6409e9",
   "metadata": {},
   "outputs": [],
   "source": [
    "test_df['comment_text_lemmatized'].head()\n"
   ]
  },
  {
   "cell_type": "code",
   "execution_count": null,
   "id": "eb05fbe9",
   "metadata": {},
   "outputs": [],
   "source": [
    "clf = ClassifierChain(MultinomialNB(fit_prior=True)).fit(train_features_sparse, wrk_df[['toxic','severe_toxic','obscene','threat','insult','identity_hate']])\n"
   ]
  },
  {
   "cell_type": "code",
   "execution_count": null,
   "id": "0358097c",
   "metadata": {},
   "outputs": [],
   "source": [
    "y_predict = clf.predict(test_features_sparse)\n"
   ]
  },
  {
   "cell_type": "code",
   "execution_count": null,
   "id": "c75dcb47",
   "metadata": {},
   "outputs": [],
   "source": [
    "y_predict_proba = clf.predict_proba(test_features_sparse)\n"
   ]
  },
  {
   "cell_type": "code",
   "execution_count": null,
   "id": "f3eae543",
   "metadata": {},
   "outputs": [],
   "source": [
    "predict_dense = y_predict_proba.todense()\n",
    "print(predict_dense)\n"
   ]
  },
  {
   "cell_type": "code",
   "execution_count": null,
   "id": "37c078f8",
   "metadata": {},
   "outputs": [],
   "source": [
    "data_df = pd.DataFrame(predict_dense,columns= ['toxic', 'severe_toxic', 'obscene', 'threat', 'insult', 'identity_hate'])\n",
    "\n",
    "submission_df_1 = pd.concat([test_df['id'], data_df] ,axis = 1)\n"
   ]
  },
  {
   "cell_type": "code",
   "execution_count": null,
   "id": "d428cc3f",
   "metadata": {},
   "outputs": [],
   "source": [
    "submission_df_1.head()\n"
   ]
  },
  {
   "cell_type": "code",
   "execution_count": null,
   "id": "6965a44c",
   "metadata": {},
   "outputs": [],
   "source": [
    "submission_df_1.to_csv('submission.csv',index=False)\n"
   ]
  },
  {
   "cell_type": "code",
   "execution_count": null,
   "id": "ef72b845",
   "metadata": {},
   "outputs": [],
   "source": [
    " \n"
   ]
  }
 ],
 "metadata": {},
 "nbformat": 4,
 "nbformat_minor": 5
}
