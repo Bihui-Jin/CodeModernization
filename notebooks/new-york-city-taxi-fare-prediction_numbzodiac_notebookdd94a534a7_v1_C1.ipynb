{
 "cells": [
  {
   "cell_type": "code",
   "execution_count": null,
   "id": "2d7f70cb",
   "metadata": {},
   "outputs": [],
   "source": [
    "import pandas as pd\n",
    "from pathlib import Path"
   ]
  },
  {
   "cell_type": "code",
   "execution_count": null,
   "id": "220f46ee",
   "metadata": {},
   "outputs": [],
   "source": [
    "import numpy as np\n",
    "import pandas as pd\n",
    "import matplotlib.pyplot as plt\n",
    "import seaborn as sns\n",
    "project_path = '/kaggle/input/new-york-city-taxi-fare-prediction/'\n",
    "train = pd.read_csv(project_path + 'train.csv',nrows=5000000)\n",
    "test = pd.read_csv(project_path + 'test.csv')\n",
    "test_ids = test['key']\n",
    "train.head()\n"
   ]
  },
  {
   "cell_type": "code",
   "execution_count": null,
   "id": "a3dddad1",
   "metadata": {},
   "outputs": [],
   "source": [
    "train.info()\n"
   ]
  },
  {
   "cell_type": "code",
   "execution_count": null,
   "id": "a9c48a69",
   "metadata": {},
   "outputs": [],
   "source": [
    "train.describe()\n"
   ]
  },
  {
   "cell_type": "code",
   "execution_count": null,
   "id": "a727ce55",
   "metadata": {},
   "outputs": [],
   "source": [
    "train.fare_amount.hist(bins=100,figsize = (16,8))\n",
    "plt.xlabel(\"Fare Amount\")\n",
    "plt.ylabel(\"Frequency\")\n"
   ]
  },
  {
   "cell_type": "code",
   "execution_count": null,
   "id": "b22488d2",
   "metadata": {},
   "outputs": [],
   "source": [
    "train[train.fare_amount <100 ].fare_amount.hist(bins=100, figsize = (16,8))\n",
    "plt.xlabel(\"Fare Amount\")\n",
    "plt.ylabel(\"Frequency\")\n"
   ]
  },
  {
   "cell_type": "code",
   "execution_count": null,
   "id": "bacc2e0d",
   "metadata": {},
   "outputs": [],
   "source": [
    "train[train.fare_amount >=100 ].fare_amount.hist(bins=100, figsize = (16,8))\n",
    "plt.xlabel(\"Fare Amount\")\n",
    "plt.ylabel(\"Frequency\")\n"
   ]
  },
  {
   "cell_type": "code",
   "execution_count": null,
   "id": "c2d3574a",
   "metadata": {},
   "outputs": [],
   "source": [
    "train[train.fare_amount <100].shape\n"
   ]
  },
  {
   "cell_type": "code",
   "execution_count": null,
   "id": "0373d07a",
   "metadata": {},
   "outputs": [],
   "source": [
    "train[train.fare_amount >=100].shape\n"
   ]
  },
  {
   "cell_type": "code",
   "execution_count": null,
   "id": "396440a5",
   "metadata": {},
   "outputs": [],
   "source": [
    "train.passenger_count.hist(bins=100,figsize = (16,8))\n",
    "plt.xlabel(\"passenger_count\")\n",
    "plt.ylabel(\"Frequency\")\n"
   ]
  },
  {
   "cell_type": "code",
   "execution_count": null,
   "id": "95288783",
   "metadata": {},
   "outputs": [],
   "source": [
    "train[train.passenger_count<10].passenger_count.hist(bins=10,figsize = (16,8))\n",
    "plt.xlabel(\"passenger_count\")\n",
    "plt.ylabel(\"Frequency\")\n"
   ]
  },
  {
   "cell_type": "code",
   "execution_count": null,
   "id": "56f95926",
   "metadata": {},
   "outputs": [],
   "source": [
    "train[train.passenger_count<7].passenger_count.hist(bins=10,figsize = (16,8))\n",
    "plt.xlabel(\"passenger_count\")\n",
    "plt.ylabel(\"Frequency\")\n"
   ]
  },
  {
   "cell_type": "code",
   "execution_count": null,
   "id": "8e4bde5e",
   "metadata": {},
   "outputs": [],
   "source": [
    "train[train.passenger_count>7].passenger_count.hist(bins=10,figsize = (16,8))\n",
    "plt.xlabel(\"passenger_count\")\n",
    "plt.ylabel(\"Frequency\")\n"
   ]
  },
  {
   "cell_type": "code",
   "execution_count": null,
   "id": "c6414ec0",
   "metadata": {},
   "outputs": [],
   "source": [
    "train[train.passenger_count >7]\n"
   ]
  },
  {
   "cell_type": "code",
   "execution_count": null,
   "id": "e2a45532",
   "metadata": {},
   "outputs": [],
   "source": [
    "train[train.passenger_count ==0].shape\n"
   ]
  },
  {
   "cell_type": "code",
   "execution_count": null,
   "id": "afa44ebd",
   "metadata": {},
   "outputs": [],
   "source": [
    "plt.figure(figsize= (16,8))\n",
    "sns.boxplot(x = train[train.passenger_count< 7].passenger_count, y = train.fare_amount)\n"
   ]
  },
  {
   "cell_type": "code",
   "execution_count": null,
   "id": "233fc70f",
   "metadata": {},
   "outputs": [],
   "source": [
    "train[train.passenger_count <7][['fare_amount','passenger_count']].corr()\n"
   ]
  },
  {
   "cell_type": "code",
   "execution_count": null,
   "id": "8e8fa39a",
   "metadata": {},
   "outputs": [],
   "source": [
    "train.isnull().sum() # find null value\n"
   ]
  },
  {
   "cell_type": "code",
   "execution_count": null,
   "id": "3ae9cd9b",
   "metadata": {},
   "outputs": [],
   "source": [
    "train = train.dropna(how='any', axis=0) # delete them\n"
   ]
  },
  {
   "cell_type": "code",
   "execution_count": null,
   "id": "d69629cf",
   "metadata": {},
   "outputs": [],
   "source": [
    "test.head()\n",
    "test.isnull().sum()\n"
   ]
  },
  {
   "cell_type": "code",
   "execution_count": null,
   "id": "3047a3db",
   "metadata": {},
   "outputs": [],
   "source": [
    "train = train[train.fare_amount>=0]\n"
   ]
  },
  {
   "cell_type": "code",
   "execution_count": null,
   "id": "346da106",
   "metadata": {},
   "outputs": [],
   "source": [
    "def deal_time_features(df):\n",
    "    df['pickup_datetime'] = df['pickup_datetime'].str.slice(0, 16)\n",
    "    df['pickup_datetime'] = pd.to_datetime(df['pickup_datetime'], utc=True, format='%Y-%m-%d %H:%M')\n",
    "    df['hour'] = df.pickup_datetime.dt.hour\n",
    "    df['month'] = df.pickup_datetime.dt.month\n",
    "    df[\"year\"] = df.pickup_datetime.dt.year\n",
    "    df[\"weekday\"] = df.pickup_datetime.dt.weekday\n",
    "    return df\n",
    "train = deal_time_features(train)\n",
    "test = deal_time_features(test)\n",
    "\n",
    "train.head()\n"
   ]
  },
  {
   "cell_type": "code",
   "execution_count": null,
   "id": "aad65cbf",
   "metadata": {},
   "outputs": [],
   "source": [
    "def distance(x1, y1, x2, y2):\n",
    "    p = 0.017453292519943295 \n",
    "    a = 0.5 - np.cos((x2 - x1) * p)/2 + np.cos(x1 * p) * np.cos(x2 * p) * (1 - np.cos((y2 - y1) * p)) / 2\n",
    "    dis = 0.6213712 * 12742 * np.arcsin(np.sqrt(a))\n",
    "    return dis  \n",
    "train['distance_miles'] = distance(train.pickup_latitude,train.pickup_longitude,train.dropoff_latitude,train.dropoff_longitude)\n",
    "test['distance_miles'] = distance(test.pickup_latitude, test.pickup_longitude,test.dropoff_latitude,test.dropoff_longitude)\n",
    "train.head()\n"
   ]
  },
  {
   "cell_type": "code",
   "execution_count": null,
   "id": "76ec911b",
   "metadata": {},
   "outputs": [],
   "source": [
    "train[(train['distance_miles']==0)&(train['fare_amount']==0)] # Print data with price and distance of 0\n",
    "train = train.drop(index= train[(train['distance_miles']==0)&(train['fare_amount']==0)].index, axis=0) # delete them\n"
   ]
  },
  {
   "cell_type": "code",
   "execution_count": null,
   "id": "bb46a079",
   "metadata": {},
   "outputs": [],
   "source": [
    "train.describe().T\n"
   ]
  },
  {
   "cell_type": "code",
   "execution_count": null,
   "id": "f2de91f1",
   "metadata": {},
   "outputs": [],
   "source": [
    "train.drop(columns=['key', 'pickup_datetime'], axis=1).corr()['fare_amount']\n"
   ]
  },
  {
   "cell_type": "code",
   "execution_count": null,
   "id": "a52b0d58",
   "metadata": {},
   "outputs": [],
   "source": [
    "df_train = train.drop(columns=['key', 'pickup_datetime'], axis=1).copy()\n",
    "df_test = test.drop(columns=['key', 'pickup_datetime'], axis=1).copy()\n",
    "\n",
    "from sklearn.model_selection import train_test_split \n",
    "X_train, X_test, y_train, y_test = train_test_split(df_train.drop('fare_amount',axis=1)\n",
    "                                                    ,df_train['fare_amount']\n",
    "                                                    ,test_size=0.2\n",
    "                                                    ,random_state = 42)\n",
    "\n",
    "import xgboost as xgb\n",
    "params = { \n",
    "    'max_depth': 7,\n",
    "    'gamma' :0,\n",
    "    'eta':0.3, \n",
    "    'subsample': 1,\n",
    "    'colsample_bytree': 0.9, \n",
    "    'objective':'reg:squarederror',\n",
    "    'eval_metric':'rmse',\n",
    "}\n",
    "def XGBmodel(X_train,X_test,y_train,y_test,params):\n",
    "    matrix_train = xgb.DMatrix(X_train,label=y_train)\n",
    "    matrix_test = xgb.DMatrix(X_test,label=y_test)\n",
    "    model=xgb.train(params=params,\n",
    "                    dtrain=matrix_train,\n",
    "                    num_boost_round=5000, \n",
    "                    early_stopping_rounds=10,\n",
    "                    evals=[(matrix_test,'test')])\n",
    "    return model\n",
    "\n",
    "model = XGBmodel(X_train,X_test,y_train,y_test,params)\n"
   ]
  },
  {
   "cell_type": "code",
   "execution_count": null,
   "id": "a86fe065",
   "metadata": {},
   "outputs": [],
   "source": [
    "prediction = model.predict(xgb.DMatrix(df_test))\n",
    "prediction\n"
   ]
  },
  {
   "cell_type": "code",
   "execution_count": null,
   "id": "9a23acfa",
   "metadata": {},
   "outputs": [],
   "source": [
    "res = pd.DataFrame()\n",
    "res['key'] = test['key']\n",
    "res['fare_amount'] = prediction\n",
    "res.to_csv('/kaggle/working/results.csv', index=False)\n"
   ]
  }
 ],
 "metadata": {},
 "nbformat": 4,
 "nbformat_minor": 5
}
