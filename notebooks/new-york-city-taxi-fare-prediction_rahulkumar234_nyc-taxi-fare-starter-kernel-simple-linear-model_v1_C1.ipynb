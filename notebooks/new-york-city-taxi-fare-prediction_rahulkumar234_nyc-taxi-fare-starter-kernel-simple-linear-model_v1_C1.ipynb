{
 "cells": [
  {
   "cell_type": "code",
   "execution_count": null,
   "id": "fcedf67c",
   "metadata": {},
   "outputs": [],
   "source": [
    "import pandas as pd\n",
    "from pathlib import Path"
   ]
  },
  {
   "cell_type": "code",
   "execution_count": null,
   "id": "0e02895d",
   "metadata": {},
   "outputs": [],
   "source": [
    "# Initial Python environment setup...\n",
    "import numpy as np # linear algebra\n",
    "import pandas as pd # CSV file I/O (e.g. pd.read_csv)\n",
    "import os # reading the input files we have access to\n",
    "\n",
    "print(os.listdir('../input'))\n"
   ]
  },
  {
   "cell_type": "code",
   "execution_count": null,
   "id": "71a666bd",
   "metadata": {},
   "outputs": [],
   "source": [
    "train_df =  pd.read_csv('../input/train.csv', nrows = 10_000_000)\n",
    "test_df=pd.read_csv('../input/test.csv')\n",
    "train_df.dtypes\n"
   ]
  },
  {
   "cell_type": "code",
   "execution_count": null,
   "id": "483994a5",
   "metadata": {},
   "outputs": [],
   "source": [
    "test_df=pd.read_csv('../input/test.csv')\n",
    "test_df.head()\n"
   ]
  },
  {
   "cell_type": "code",
   "execution_count": null,
   "id": "c93ad660",
   "metadata": {},
   "outputs": [],
   "source": [
    "# Given a dataframe, add two new features 'abs_diff_longitude' and\n",
    "# 'abs_diff_latitude' reprensenting the \"Manhattan vector\" from\n",
    "# the pickup location to the dropoff location.\n",
    "def add_travel_vector_features(df):\n",
    "    df['Difference_longitude'] = (df.dropoff_longitude - df.pickup_longitude).abs()\n",
    "    df['Difference_latitude'] = (df.dropoff_latitude - df.pickup_latitude).abs()\n",
    "\n",
    "add_travel_vector_features(train_df)\n",
    "add_travel_vector_features(test_df)\n"
   ]
  },
  {
   "cell_type": "code",
   "execution_count": null,
   "id": "0da4e044",
   "metadata": {},
   "outputs": [],
   "source": [
    "print(train_df.isnull().sum())\n"
   ]
  },
  {
   "cell_type": "code",
   "execution_count": null,
   "id": "a31547f9",
   "metadata": {},
   "outputs": [],
   "source": [
    "print('Old size: %d' % len(train_df))\n",
    "train_df = train_df.dropna(how = 'any', axis = 'rows')\n",
    "print('New size: %d' % len(train_df))\n"
   ]
  },
  {
   "cell_type": "code",
   "execution_count": null,
   "id": "c6e25887",
   "metadata": {},
   "outputs": [],
   "source": [
    "plot = train_df.iloc[:2000].plot.scatter('abs_diff_longitude', 'abs_diff_latitude')\n"
   ]
  },
  {
   "cell_type": "code",
   "execution_count": null,
   "id": "a9481b5d",
   "metadata": {},
   "outputs": [],
   "source": [
    "print('Old size: %d' % len(train_df))\n",
    "train_df = train_df[(train_df.Difference_longitude < 5.0) & (train_df.Difference_latitude < 5.0)]\n",
    "print('New size: %d' % len(train_df))\n"
   ]
  },
  {
   "cell_type": "code",
   "execution_count": null,
   "id": "7f971139",
   "metadata": {},
   "outputs": [],
   "source": [
    "ls1=list(train_df['pickup_datetime'])\n",
    "for i in range(len(ls1)):\n",
    "    ls1[i]=ls1[i][11:-7:]\n",
    "train_df['pickuptime']=ls1    \n",
    "\n",
    "\n",
    "\n",
    "ls1=list(test_df['pickup_datetime'])\n",
    "for i in range(len(ls1)):\n",
    "    ls1[i]=ls1[i][11:-7:]\n",
    "test_df['pickuptime']=ls1  \n"
   ]
  },
  {
   "cell_type": "code",
   "execution_count": null,
   "id": "41285f98",
   "metadata": {},
   "outputs": [],
   "source": [
    "ls1=list(train_df['pickup_datetime'])\n",
    "for i in range(len(ls1)):\n",
    "    ls1[i]=ls1[i][:-4:]\n",
    "    ls1[i]=pd.Timestamp(ls1[i])\n",
    "    ls1[i]=ls1[i].weekday()\n",
    "train_df['Weekday']=ls1\n",
    "\n",
    "\n",
    "ls1=list(test_df['pickup_datetime'])\n",
    "for i in range(len(ls1)):\n",
    "    ls1[i]=ls1[i][:-4:]\n",
    "    ls1[i]=pd.Timestamp(ls1[i])\n",
    "    ls1[i]=ls1[i].weekday()\n",
    "test_df['Weekday']=ls1\n"
   ]
  },
  {
   "cell_type": "code",
   "execution_count": null,
   "id": "35a64116",
   "metadata": {},
   "outputs": [],
   "source": [
    "# train_df.head()\n",
    "test_df.head()\n"
   ]
  },
  {
   "cell_type": "code",
   "execution_count": null,
   "id": "808c157b",
   "metadata": {},
   "outputs": [],
   "source": [
    "train_df.drop('pickup_datetime',inplace=True,axis=1)\n",
    "test_df.drop('pickup_datetime',inplace=True,axis=1)\n"
   ]
  },
  {
   "cell_type": "code",
   "execution_count": null,
   "id": "fdcc47e6",
   "metadata": {},
   "outputs": [],
   "source": [
    "train_df['Weekday'].replace(to_replace=[i for i in range(0,7)],\n",
    "                            value=['Monday','Tuesday','Wednesday','Thursday','Friday','Saturday','Sunday'],\n",
    "                              inplace=True)\n",
    "test_df['Weekday'].replace(to_replace=[i for i in range(0,7)],\n",
    "                              value=['Monday','Tuesday','Wednesday','Thursday','Friday','Saturday','Sunday'],\n",
    "                              inplace=True)\n"
   ]
  },
  {
   "cell_type": "code",
   "execution_count": null,
   "id": "12e73e8d",
   "metadata": {},
   "outputs": [],
   "source": [
    "train_df.head()\n"
   ]
  },
  {
   "cell_type": "code",
   "execution_count": null,
   "id": "833d2911",
   "metadata": {},
   "outputs": [],
   "source": [
    "test_df.head()\n"
   ]
  },
  {
   "cell_type": "code",
   "execution_count": null,
   "id": "240b92c9",
   "metadata": {},
   "outputs": [],
   "source": [
    "train_one_hot=pd.get_dummies(train_df['Weekday'])\n",
    "test_one_hot=pd.get_dummies(test_df['Weekday'])\n",
    "train_df=pd.concat([train_df,train_one_hot],axis=1)\n",
    "test_df=pd.concat([test_df,test_one_hot],axis=1)\n"
   ]
  },
  {
   "cell_type": "code",
   "execution_count": null,
   "id": "7228a536",
   "metadata": {},
   "outputs": [],
   "source": [
    "train_df.drop('Weekday',axis=1,inplace=True)\n",
    "test_df.drop('Weekday',axis=1,inplace=True)\n"
   ]
  },
  {
   "cell_type": "code",
   "execution_count": null,
   "id": "a88525ad",
   "metadata": {},
   "outputs": [],
   "source": [
    "ls1=list(train_df['pickuptime'])\n",
    "for i in range(len(ls1)):\n",
    "    z=ls1[i].split(':')\n",
    "    ls1[i]=int(z[0])*100+int(z[1])\n",
    "train_df['pickuptime']=ls1\n",
    "\n",
    "\n",
    "ls1=list(test_df['pickuptime'])\n",
    "for i in range(len(ls1)):\n",
    "    z=ls1[i].split(':')\n",
    "    ls1[i]=int(z[0])*100+int(z[1])\n",
    "test_df['pickuptime']=ls1\n"
   ]
  },
  {
   "cell_type": "code",
   "execution_count": null,
   "id": "2ce61dea",
   "metadata": {},
   "outputs": [],
   "source": [
    "R = 6373.0\n",
    "lat1 =np.asarray(np.radians(train_df['pickup_latitude']))\n",
    "lon1 = np.asarray(np.radians(train_df['pickup_longitude']))\n",
    "lat2 = np.asarray(np.radians(train_df['dropoff_latitude']))\n",
    "lon2 = np.asarray(np.radians(train_df['dropoff_longitude']))\n",
    "\n",
    "dlon = lon2 - lon1\n",
    "dlat = lat2 - lat1\n",
    "ls1=[] \n",
    "a = np.sin(dlat/2)**2 + np.cos(lat1) * np.cos(lat2) * np.sin(dlon/ 2)**2\n",
    "c = 2 * np.arctan2(np.sqrt(a), np.sqrt(1 - a))\n",
    "distance = R * c\n",
    "\n",
    "    \n",
    "train_df['Distance']=np.asarray(distance)*0.621\n",
    "\n",
    "\n",
    "\n",
    "lat1 =np.asarray(np.radians(test_df['pickup_latitude']))\n",
    "lon1 = np.asarray(np.radians(test_df['pickup_longitude']))\n",
    "lat2 = np.asarray(np.radians(test_df['dropoff_latitude']))\n",
    "lon2 = np.asarray(np.radians(test_df['dropoff_longitude']))\n",
    "\n",
    "dlon = lon2 - lon1\n",
    "dlat = lat2 - lat1\n",
    " \n",
    "a = np.sin(dlat / 2)**2 + np.cos(lat1) * np.cos(lat2) * np.sin(dlon/ 2)**2\n",
    "c = 2 * np.arctan2(np.sqrt(a), np.sqrt(1 - a))\n",
    "distance = R * c\n",
    "test_df['Distance']=np.asarray(distance)*0.621\n"
   ]
  },
  {
   "cell_type": "code",
   "execution_count": null,
   "id": "78de58e6",
   "metadata": {},
   "outputs": [],
   "source": [
    "R = 6373.0\n",
    "lat1 =np.asarray(np.radians(train_df['pickup_latitude']))\n",
    "lon1 = np.asarray(np.radians(train_df['pickup_longitude']))\n",
    "lat2 = np.asarray(np.radians(train_df['dropoff_latitude']))\n",
    "lon2 = np.asarray(np.radians(train_df['dropoff_longitude']))\n",
    "\n",
    "lat3=np.zeros(len(train_df))+np.radians(40.6413111)\n",
    "lon3=np.zeros(len(train_df))+np.radians(-73.7781391)\n",
    "dlon_pickup = lon3 - lon1\n",
    "dlat_pickup = lat3 - lat1\n",
    "d_lon_dropoff=lon3 -lon2\n",
    "d_lat_dropoff=lat3-lat2\n",
    "a1 = np.sin(dlat_pickup/2)**2 + np.cos(lat1) * np.cos(lat3) * np.sin(dlon_pickup/ 2)**2\n",
    "c1 = 2 * np.arctan2(np.sqrt(a1), np.sqrt(1 - a1))\n",
    "distance1 = R * c1\n",
    "train_df['Pickup_Distance_airport']=np.asarray(distance1)*0.621\n",
    "\n",
    "a2=np.sin(d_lat_dropoff/2)**2 + np.cos(lat2) * np.cos(lat3) * np.sin(d_lon_dropoff/ 2)**2\n",
    "c2 = 2 * np.arctan2(np.sqrt(a2), np.sqrt(1 - a2))\n",
    "distance2 = R * c2\n",
    "\n",
    "train_df['Dropoff_Distance_airport']=np.asarray(distance2)*0.621\n",
    "\n",
    "\n",
    "\n",
    "lat1 =np.asarray(np.radians(test_df['pickup_latitude']))\n",
    "lon1 = np.asarray(np.radians(test_df['pickup_longitude']))\n",
    "lat2 = np.asarray(np.radians(test_df['dropoff_latitude']))\n",
    "lon2 = np.asarray(np.radians(test_df['dropoff_longitude']))\n",
    "\n",
    "lat3=np.zeros(len(test_df))+np.radians(40.6413111)\n",
    "lon3=np.zeros(len(test_df))+np.radians(-73.7781391)\n",
    "dlon_pickup = lon3 - lon1\n",
    "dlat_pickup = lat3 - lat1\n",
    "d_lon_dropoff=lon3 -lon2\n",
    "d_lat_dropoff=lat3-lat2\n",
    "a1 = np.sin(dlat_pickup/2)**2 + np.cos(lat1) * np.cos(lat3) * np.sin(dlon_pickup/ 2)**2\n",
    "c1 = 2 * np.arctan2(np.sqrt(a1), np.sqrt(1 - a1))\n",
    "distance1 = R * c1\n",
    "test_df['Pickup_Distance_airport']=np.asarray(distance1)*0.621\n",
    "\n",
    "a2=np.sin(d_lat_dropoff/2)**2 + np.cos(lat2) * np.cos(lat3) * np.sin(d_lon_dropoff/ 2)**2\n",
    "c2 = 2 * np.arctan2(np.sqrt(a2), np.sqrt(1 - a2))\n",
    "distance2 = R * c2\n",
    "\n",
    "    \n",
    "test_df['Dropoff_Distance_airport']=np.asarray(distance2)*0.621\n"
   ]
  },
  {
   "cell_type": "code",
   "execution_count": null,
   "id": "efa26eb6",
   "metadata": {},
   "outputs": [],
   "source": [
    "train_df['Distance']=np.round(train_df['Distance'],2)\n",
    "train_df['Pickup_Distance_airport']=np.round(train_df['Pickup_Distance_airport'],2)\n",
    "train_df['Dropoff_Distance_airport']=np.round(train_df['Dropoff_Distance_airport'],2)\n",
    "test_df['Distance']=np.round(test_df['Distance'],2)\n",
    "test_df['Pickup_Distance_airport']=np.round(test_df['Pickup_Distance_airport'],2)\n",
    "test_df['Dropoff_Distance_airport']=np.round(test_df['Dropoff_Distance_airport'],2)\n"
   ]
  },
  {
   "cell_type": "code",
   "execution_count": null,
   "id": "c4d5006b",
   "metadata": {},
   "outputs": [],
   "source": [
    "train_df.drop(['pickup_longitude','pickup_latitude','dropoff_longitude','dropoff_latitude'],axis=1,inplace=True)\n",
    "test_df.drop(['pickup_longitude','pickup_latitude','dropoff_longitude','dropoff_latitude'],axis=1,inplace=True)\n"
   ]
  },
  {
   "cell_type": "code",
   "execution_count": null,
   "id": "68f79113",
   "metadata": {},
   "outputs": [],
   "source": [
    "train_df['Difference_latitude']=np.abs(train_df['Difference_latitude']-np.mean(train_df['Difference_latitude']))\n",
    "train_df['Difference_latitude']=train_df['Difference_latitude']/np.var(train_df['Difference_latitude'])\n",
    "test_df['Difference_longitude']=np.abs(test_df['Difference_longitude']-np.mean(test_df['Difference_longitude']))\n",
    "test_df['Difference_longitude']=test_df['Difference_longitude']/np.var(test_df['Difference_longitude'])\n"
   ]
  },
  {
   "cell_type": "code",
   "execution_count": null,
   "id": "148ba3a0",
   "metadata": {},
   "outputs": [],
   "source": [
    "from sklearn.model_selection import train_test_split\n",
    "X=train_df.drop(['key','fare_amount'],axis=1)\n",
    "y=train_df['fare_amount']\n",
    "X_train,X_test,y_train,y_test=train_test_split(X,y,test_size=0.01,random_state=80)\n"
   ]
  },
  {
   "cell_type": "code",
   "execution_count": null,
   "id": "46d46785",
   "metadata": {},
   "outputs": [],
   "source": [
    "from sklearn.linear_model import LinearRegression\n",
    "lr=LinearRegression(normalize=True)\n",
    "lr.fit(X_train,y_train)\n",
    "print(lr.score(X_test,y_test))\n"
   ]
  },
  {
   "cell_type": "code",
   "execution_count": null,
   "id": "7b7aa12c",
   "metadata": {},
   "outputs": [],
   "source": [
    "pred=np.round(lr.predict(test_df.drop('key',axis=1)),2)\n",
    "# pd.read_csv('/kaggle/input/new-york-city-taxi-fare-prediction/sample_submission.csv').head()\n"
   ]
  },
  {
   "cell_type": "code",
   "execution_count": null,
   "id": "4e836ec9",
   "metadata": {},
   "outputs": [],
   "source": [
    "Submission=pd.DataFrame(data=pred,columns=['fare_amount'])\n",
    "Submission['key']=test_df['key']\n",
    "Submission=Submission[['key','fare_amount']]\n",
    "Submission.set_index('key',inplace=True)\n",
    "Submission.to_csv('Submission.csv')\n"
   ]
  },
  {
   "cell_type": "code",
   "execution_count": null,
   "id": "00f98ca7",
   "metadata": {},
   "outputs": [],
   "source": [
    "df=pd.read_csv('Submission.csv')\n"
   ]
  },
  {
   "cell_type": "code",
   "execution_count": null,
   "id": "698c3bc1",
   "metadata": {},
   "outputs": [],
   "source": [
    "df.head()\n"
   ]
  }
 ],
 "metadata": {},
 "nbformat": 4,
 "nbformat_minor": 5
}
