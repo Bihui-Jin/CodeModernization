{
 "cells": [
  {
   "cell_type": "code",
   "execution_count": null,
   "id": "c7a6829f",
   "metadata": {},
   "outputs": [],
   "source": [
    "import pandas as pd\n",
    "from pathlib import Path"
   ]
  },
  {
   "cell_type": "code",
   "execution_count": null,
   "id": "ebe926ae",
   "metadata": {},
   "outputs": [],
   "source": [
    "# This Python 3 environment comes with many helpful analytics libraries installed\n",
    "# It is defined by the kaggle/python Docker image: https://github.com/kaggle/docker-python\n",
    "# For example, here's several helpful packages to load\n",
    "\n",
    "import numpy as np # linear algebra\n",
    "import pandas as pd # data processing, CSV file I/O (e.g. pd.read_csv)\n",
    "\n",
    "# Input data files are available in the read-only \"../input/\" directory\n",
    "# For example, running this (by clicking run or pressing Shift+Enter) will list all files under the input directory\n",
    "\n",
    "import os\n",
    "for dirname, _, filenames in os.walk('/kaggle/input'):\n",
    "    for filename in filenames:\n",
    "        print(os.path.join(dirname, filename))\n",
    "\n",
    "# You can write up to 20GB to the current directory (/kaggle/working/) that gets preserved as output when you create a version using \"Save & Run All\" \n",
    "# You can also write temporary files to /kaggle/temp/, but they won't be saved outside of the current session\n"
   ]
  },
  {
   "cell_type": "code",
   "execution_count": null,
   "id": "d05f2b9e",
   "metadata": {},
   "outputs": [],
   "source": [
    "import matplotlib.pyplot as plt\n",
    "import seaborn as sns\n"
   ]
  },
  {
   "cell_type": "code",
   "execution_count": null,
   "id": "12abe5bc",
   "metadata": {},
   "outputs": [],
   "source": [
    "# データの読み込み\n",
    "train_df = pd.read_csv('/kaggle/input/new-york-city-taxi-fare-prediction/train.csv',nrows = 1000000)\n",
    "test_df = pd.read_csv('/kaggle/input/new-york-city-taxi-fare-prediction/test.csv')\n"
   ]
  },
  {
   "cell_type": "code",
   "execution_count": null,
   "id": "e7dabca5",
   "metadata": {},
   "outputs": [],
   "source": [
    "# テストデータの確認\n",
    "train_df\n"
   ]
  },
  {
   "cell_type": "code",
   "execution_count": null,
   "id": "2a827ec7",
   "metadata": {},
   "outputs": [],
   "source": [
    "# テストデータの確認\n",
    "test_df\n"
   ]
  },
  {
   "cell_type": "code",
   "execution_count": null,
   "id": "81a09016",
   "metadata": {},
   "outputs": [],
   "source": [
    "# 訓練データの要素（列名）を確認\n",
    "train_df.columns\n"
   ]
  },
  {
   "cell_type": "code",
   "execution_count": null,
   "id": "b4c7b7b3",
   "metadata": {},
   "outputs": [],
   "source": [
    "# テストデータの要素（列名）を確認\n",
    "test_df.columns\n"
   ]
  },
  {
   "cell_type": "code",
   "execution_count": null,
   "id": "aa35451a",
   "metadata": {},
   "outputs": [],
   "source": [
    "# 訓練データの列ごとの欠損値の個数を確認\n",
    "train_df.isnull().sum().sort_values(ascending = False)\n"
   ]
  },
  {
   "cell_type": "code",
   "execution_count": null,
   "id": "46706556",
   "metadata": {},
   "outputs": [],
   "source": [
    "# テストデータの列ごとの欠損値の個数を確認\n",
    "test_df.isnull().sum().sort_values(ascending = False)\n"
   ]
  },
  {
   "cell_type": "code",
   "execution_count": null,
   "id": "6d1753ec",
   "metadata": {},
   "outputs": [],
   "source": [
    "# 訓練データの欠損値ある行を確認\n",
    "a = train_df[train_df[\"dropoff_longitude\"].isnull()|train_df[\"dropoff_latitude\"].isnull()]\n",
    "print(a)\n"
   ]
  },
  {
   "cell_type": "code",
   "execution_count": null,
   "id": "acb29994",
   "metadata": {},
   "outputs": [],
   "source": [
    "# 訓練データの欠損値ある行を削除\n",
    "train_df.drop(a.index,axis = 0, inplace = True)\n"
   ]
  },
  {
   "cell_type": "code",
   "execution_count": null,
   "id": "cec4df38",
   "metadata": {},
   "outputs": [],
   "source": [
    "# 訓練データの欠損値が削除されていることを確認\n",
    "train_df.isnull().sum().sort_values(ascending = False)\n"
   ]
  },
  {
   "cell_type": "code",
   "execution_count": null,
   "id": "60263584",
   "metadata": {},
   "outputs": [],
   "source": [
    "# 訓練データの統計量を確認\n",
    "train_df.describe()\n"
   ]
  },
  {
   "cell_type": "code",
   "execution_count": null,
   "id": "93f18b18",
   "metadata": {},
   "outputs": [],
   "source": [
    "# テストデータの統計量を確認\n",
    "test_df.describe()\n"
   ]
  },
  {
   "cell_type": "code",
   "execution_count": null,
   "id": "9909698d",
   "metadata": {},
   "outputs": [],
   "source": [
    "# ヒストグラム（料金）\n",
    "sns.histplot(\n",
    "data = train_df, x = 'fare_amount', kde = True, bins = 100)\n"
   ]
  },
  {
   "cell_type": "code",
   "execution_count": null,
   "id": "2db097b8",
   "metadata": {},
   "outputs": [],
   "source": [
    "# 箱ひげ図（料金）\n",
    "sns.boxplot(\n",
    "data = train_df, y = 'fare_amount')\n"
   ]
  },
  {
   "cell_type": "code",
   "execution_count": null,
   "id": "2a123eb6",
   "metadata": {},
   "outputs": [],
   "source": [
    "train_df['passenger_count'].describe()\n"
   ]
  },
  {
   "cell_type": "code",
   "execution_count": null,
   "id": "c1d5aab9",
   "metadata": {},
   "outputs": [],
   "source": [
    "# ヒストグラム（乗客人数）\n",
    "sns.histplot(\n",
    "data = train_df, x = 'passenger_count')\n",
    "plt.xlim(0,10)\n",
    "plt.ylim(0,1000000)\n"
   ]
  },
  {
   "cell_type": "code",
   "execution_count": null,
   "id": "4acd130f",
   "metadata": {},
   "outputs": [],
   "source": [
    "# 料金の範囲を2.5～100ドルで指定\n",
    "train_df = train_df[(train_df['fare_amount'] >= 2.5) & (train_df['fare_amount'] < 100)]\n"
   ]
  },
  {
   "cell_type": "code",
   "execution_count": null,
   "id": "51340d38",
   "metadata": {},
   "outputs": [],
   "source": [
    "train_df['fare_amount'].describe()\n"
   ]
  },
  {
   "cell_type": "code",
   "execution_count": null,
   "id": "875829b3",
   "metadata": {},
   "outputs": [],
   "source": [
    "# ヒストグラム（料金）変化を確認\n",
    "sns.histplot(\n",
    "data = train_df, x = 'fare_amount', kde = True, bins = 100 )\n",
    "plt.xlim(0,80)\n",
    "plt.ylim(0,150000)\n"
   ]
  },
  {
   "cell_type": "code",
   "execution_count": null,
   "id": "881fb5eb",
   "metadata": {},
   "outputs": [],
   "source": [
    "sns.boxplot(\n",
    "data = train_df, y = 'fare_amount')\n"
   ]
  },
  {
   "cell_type": "code",
   "execution_count": null,
   "id": "086b6ead",
   "metadata": {},
   "outputs": [],
   "source": [
    "# 乗客人数の範囲を0～6人で指定・ヒストグラム（乗客人数）の確認\n",
    "train_df = train_df[(train_df['passenger_count'] <= 6) & (train_df['passenger_count'] >= 1)]\n",
    "sns.histplot(\n",
    "data = train_df, x = 'passenger_count')\n",
    "plt.ylim(0,1000000)\n"
   ]
  },
  {
   "cell_type": "code",
   "execution_count": null,
   "id": "54aaa405",
   "metadata": {},
   "outputs": [],
   "source": [
    "## 経度：42~40.5,緯度：-74.5~-73の範囲で指定\n",
    "train_df = train_df[(train_df['pickup_longitude'] <= -73.0) & (train_df['pickup_longitude'] >= -74.5)]\n",
    "train_df = train_df[(train_df['pickup_latitude'] >= 40.5) & (train_df['pickup_latitude'] <= 42)]\n",
    "train_df = train_df[(train_df['dropoff_longitude'] <= -73.0) & (train_df['dropoff_longitude'] >= -74.5)]\n",
    "train_df = train_df[(train_df['dropoff_latitude'] >= 40.5) & (train_df['dropoff_latitude'] <= 42)]\n"
   ]
  },
  {
   "cell_type": "code",
   "execution_count": null,
   "id": "da549d2e",
   "metadata": {},
   "outputs": [],
   "source": [
    "train_df.describe()\n"
   ]
  },
  {
   "cell_type": "code",
   "execution_count": null,
   "id": "ab6e209d",
   "metadata": {},
   "outputs": [],
   "source": [
    "#これまでの処理によるデータを確認\n",
    "train_df\n"
   ]
  },
  {
   "cell_type": "code",
   "execution_count": null,
   "id": "1c4edffb",
   "metadata": {},
   "outputs": [],
   "source": [
    "train_df.describe()\n"
   ]
  },
  {
   "cell_type": "code",
   "execution_count": null,
   "id": "7db3210a",
   "metadata": {},
   "outputs": [],
   "source": [
    "#散布図（乗客人数 vs. 料金）\n",
    "sns.scatterplot(data = train_df, x = 'passenger_count', y = 'fare_amount')\n"
   ]
  },
  {
   "cell_type": "code",
   "execution_count": null,
   "id": "46157c35",
   "metadata": {},
   "outputs": [],
   "source": [
    "# 料金予測に使用できない要素を削除\n",
    "train_df.drop(['key', 'pickup_datetime'], axis = 1, inplace = True)\n",
    "test_df.drop(['key', 'pickup_datetime'], axis = 1, inplace = True)\n"
   ]
  },
  {
   "cell_type": "code",
   "execution_count": null,
   "id": "30b28b8d",
   "metadata": {},
   "outputs": [],
   "source": [
    "train_df.columns\n"
   ]
  },
  {
   "cell_type": "code",
   "execution_count": null,
   "id": "7a090ff9",
   "metadata": {},
   "outputs": [],
   "source": [
    "test_df.columns\n"
   ]
  },
  {
   "cell_type": "code",
   "execution_count": null,
   "id": "ff4bfbe9",
   "metadata": {},
   "outputs": [],
   "source": [
    "# 経緯度の情報では予測に使用できないため、経緯度から距離を算出する関数を設定\n",
    "from geopy.distance import geodesic\n",
    "def get_distance_km(lat1, lon1, lat2, lon2):\n",
    "    p_point = (lat1, lon1)\n",
    "    d_point = (lat2, lon2)\n",
    "    distance_km = geodesic(p_point, d_point).km\n",
    "    return distance_km\n"
   ]
  },
  {
   "cell_type": "code",
   "execution_count": null,
   "id": "e617038b",
   "metadata": {},
   "outputs": [],
   "source": [
    "# 訓練データの行数\n",
    "train_len = len(train_df)\n",
    "print(train_len)\n"
   ]
  },
  {
   "cell_type": "code",
   "execution_count": null,
   "id": "5c093fd1",
   "metadata": {},
   "outputs": [],
   "source": [
    "# 訓練データとテストデータを結合\n",
    "df = pd.concat([train_df,test_df], axis = 0)\n"
   ]
  },
  {
   "cell_type": "code",
   "execution_count": null,
   "id": "1c26f43e",
   "metadata": {},
   "outputs": [],
   "source": [
    "print(len(df))\n"
   ]
  },
  {
   "cell_type": "code",
   "execution_count": null,
   "id": "c649d4b1",
   "metadata": {},
   "outputs": [],
   "source": [
    "# 作成した関数から距離を算出\n",
    "distances_km = []\n",
    "for i in range(len(df)):\n",
    "    distance = get_distance_km(df.iloc[i,df.columns.get_loc('pickup_latitude')],df.iloc[i,df.columns.get_loc('pickup_longitude')],df.iloc[i,df.columns.get_loc('dropoff_latitude')],df.iloc[i,df.columns.get_loc('dropoff_longitude')])\n",
    "    distances_km.append(distance)\n"
   ]
  },
  {
   "cell_type": "code",
   "execution_count": null,
   "id": "ceb733f5",
   "metadata": {},
   "outputs": [],
   "source": [
    "# distances_kmのlistを20個確認\n",
    "print(distances_km[:20])\n"
   ]
  },
  {
   "cell_type": "code",
   "execution_count": null,
   "id": "e3421a94",
   "metadata": {},
   "outputs": [],
   "source": [
    "# データに距離の要素を追加\n",
    "df['distance'] = distances_km\n"
   ]
  },
  {
   "cell_type": "code",
   "execution_count": null,
   "id": "58bd3f7e",
   "metadata": {},
   "outputs": [],
   "source": [
    "df\n"
   ]
  },
  {
   "cell_type": "code",
   "execution_count": null,
   "id": "fbb6527d",
   "metadata": {},
   "outputs": [],
   "source": [
    "# 結合したデータを訓練データとテストデータに分割\n",
    "train = df[0:train_len]\n",
    "test = df[train_len:]\n"
   ]
  },
  {
   "cell_type": "code",
   "execution_count": null,
   "id": "b3bfc57f",
   "metadata": {},
   "outputs": [],
   "source": [
    "train.isnull().sum().sort_values(ascending = False)\n"
   ]
  },
  {
   "cell_type": "code",
   "execution_count": null,
   "id": "924851b7",
   "metadata": {},
   "outputs": [],
   "source": [
    "test.isnull().sum().sort_values(ascending = False)\n"
   ]
  },
  {
   "cell_type": "code",
   "execution_count": null,
   "id": "800696ce",
   "metadata": {},
   "outputs": [],
   "source": [
    "# 距離を確認\n",
    "train['distance'].describe()\n"
   ]
  },
  {
   "cell_type": "code",
   "execution_count": null,
   "id": "016a6820",
   "metadata": {},
   "outputs": [],
   "source": [
    "test['distance'].describe()\n"
   ]
  },
  {
   "cell_type": "code",
   "execution_count": null,
   "id": "ff73a9fd",
   "metadata": {},
   "outputs": [],
   "source": [
    "# 箱ひげ図（距離）\n",
    "sns.boxplot(\n",
    "data = train, y = 'distance')\n"
   ]
  },
  {
   "cell_type": "code",
   "execution_count": null,
   "id": "e74421ce",
   "metadata": {},
   "outputs": [],
   "source": [
    "# 外れ値を削除\n",
    "train = train[train['distance'] < 40]\n"
   ]
  },
  {
   "cell_type": "code",
   "execution_count": null,
   "id": "9f89c4c2",
   "metadata": {},
   "outputs": [],
   "source": [
    "#散布図（料金 vs. 距離）\n",
    "sns.scatterplot(data = train, x = 'distance', y = 'fare_amount')\n"
   ]
  },
  {
   "cell_type": "code",
   "execution_count": null,
   "id": "0f588a3c",
   "metadata": {},
   "outputs": [],
   "source": [
    "import pandas as pd\n",
    "import xgboost as xgb\n",
    "from sklearn.model_selection import train_test_split, GridSearchCV\n",
    "from sklearn.preprocessing import StandardScaler\n",
    "from sklearn.pipeline import Pipeline\n",
    "from sklearn.metrics import mean_squared_error\n"
   ]
  },
  {
   "cell_type": "code",
   "execution_count": null,
   "id": "461a3921",
   "metadata": {},
   "outputs": [],
   "source": [
    "# 料金とそれ以外の特徴量に分割\n",
    "X = train.drop(['fare_amount'],axis = 1)\n",
    "y = train['fare_amount']\n"
   ]
  },
  {
   "cell_type": "code",
   "execution_count": null,
   "id": "cc2ead3a",
   "metadata": {},
   "outputs": [],
   "source": [
    "# トレーニングセットとテストセットに分割\n",
    "train_X, valid_X, train_y, valid_y = train_test_split(X,y,test_size = 0.2,random_state = 42)\n"
   ]
  },
  {
   "cell_type": "code",
   "execution_count": null,
   "id": "01ec8e24",
   "metadata": {},
   "outputs": [],
   "source": [
    "print(len(valid_y))\n"
   ]
  },
  {
   "cell_type": "code",
   "execution_count": null,
   "id": "b7f5b2c8",
   "metadata": {},
   "outputs": [],
   "source": [
    "# XGBoost用に変換/訓練データと評価用データを設定\n",
    "dtrain = xgb.DMatrix(train_X, label = train_y)\n",
    "dvalid = xgb.DMatrix(valid_X, label = valid_y)\n"
   ]
  },
  {
   "cell_type": "code",
   "execution_count": null,
   "id": "2568d3d8",
   "metadata": {},
   "outputs": [],
   "source": [
    "# ハイパーパラメータの設定\n",
    "params = {\n",
    "    'objective': 'reg:squarederror',  # 回帰問題の場合は 'reg:squarederror'\n",
    "    'eval_metric': 'rmse',            # RMSEで評価\n",
    "    'max_depth': 5,                   # ツリーの深さ\n",
    "    'learning_rate': 0.1,             # 学習率\n",
    "    'subsample': 0.8,                 # サンプリング率\n",
    "    'colsample_bytree': 0.8,          # ツリーを構築する際に考慮する特徴量の割合\n",
    "    'verbosity': 0,                   # 処理の詳細度（0で非表示）\n",
    "    'seed': 42                        # 乱数シード\n",
    "}\n"
   ]
  },
  {
   "cell_type": "code",
   "execution_count": null,
   "id": "161d8bc0",
   "metadata": {},
   "outputs": [],
   "source": [
    "# モデルのトレーニング\n",
    "num_round = 100\n",
    "model = xgb.train(params, dtrain, num_round)\n"
   ]
  },
  {
   "cell_type": "code",
   "execution_count": null,
   "id": "eb28f284",
   "metadata": {},
   "outputs": [],
   "source": [
    "# 評価用データを用いた評価・平均二乗誤差（回帰モデル）\n",
    "y_pred = model.predict(dvalid)\n",
    "mse = mean_squared_error(valid_y, y_pred)\n",
    "print(\"Mean Squared Error:\", mse)\n"
   ]
  },
  {
   "cell_type": "code",
   "execution_count": null,
   "id": "ae0054fb",
   "metadata": {},
   "outputs": [],
   "source": [
    "test\n"
   ]
  },
  {
   "cell_type": "code",
   "execution_count": null,
   "id": "c8d4acd8",
   "metadata": {},
   "outputs": [],
   "source": [
    "# テストデータの分割\n",
    "test_X = test.drop(['fare_amount'],axis = 1)\n",
    "test_y = test['fare_amount']\n"
   ]
  },
  {
   "cell_type": "code",
   "execution_count": null,
   "id": "72ff39d0",
   "metadata": {},
   "outputs": [],
   "source": [
    "# 予測\n",
    "dtest = xgb.DMatrix(test_X)\n",
    "y_pred = model.predict(dtest)\n"
   ]
  },
  {
   "cell_type": "code",
   "execution_count": null,
   "id": "1d1182d1",
   "metadata": {},
   "outputs": [],
   "source": [
    "# 提出用データを読み込む\n",
    "sub = pd.read_csv('/kaggle/input/new-york-city-taxi-fare-prediction/sample_submission.csv')\n"
   ]
  },
  {
   "cell_type": "code",
   "execution_count": null,
   "id": "ad2c49fe",
   "metadata": {},
   "outputs": [],
   "source": [
    "# 提出ファイルの作成\n",
    "submission = pd.DataFrame({'key': sub['key'], 'fare_amount': y_pred})\n",
    "submission.to_csv('submission.csv', index=False)\n"
   ]
  },
  {
   "cell_type": "code",
   "execution_count": null,
   "id": "bb572152",
   "metadata": {},
   "outputs": [],
   "source": [
    "# 確認\n",
    "submission\n"
   ]
  }
 ],
 "metadata": {},
 "nbformat": 4,
 "nbformat_minor": 5
}
