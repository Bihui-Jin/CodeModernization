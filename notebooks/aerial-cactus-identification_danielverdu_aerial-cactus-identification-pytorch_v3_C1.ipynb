{
 "cells": [
  {
   "cell_type": "code",
   "execution_count": null,
   "id": "6a43754a",
   "metadata": {},
   "outputs": [],
   "source": [
    "import pandas as pd\n",
    "from pathlib import Path"
   ]
  },
  {
   "cell_type": "code",
   "execution_count": null,
   "id": "23cabadc",
   "metadata": {},
   "outputs": [],
   "source": [
    "# This Python 3 environment comes with many helpful analytics libraries installed\n",
    "# It is defined by the kaggle/python Docker image: https://github.com/kaggle/docker-python\n",
    "# For example, here's several helpful packages to load\n",
    "\n",
    "import numpy as np # linear algebra\n",
    "import pandas as pd # data processing, CSV file I/O (e.g. pd.read_csv)\n",
    "\n",
    "# Input data files are available in the read-only \"../input/\" directory\n",
    "# For example, running this (by clicking run or pressing Shift+Enter) will list all files under the input directory\n",
    "\n",
    "import os\n",
    "for dirname, _, filenames in os.walk('/kaggle/input'):\n",
    "    for filename in filenames:\n",
    "        print(os.path.join(dirname, filename))\n",
    "\n",
    "# You can write up to 20GB to the current directory (/kaggle/working/) that gets preserved as output when you create a version using \"Save & Run All\" \n",
    "# You can also write temporary files to /kaggle/temp/, but they won't be saved outside of the current session\n"
   ]
  },
  {
   "cell_type": "code",
   "execution_count": null,
   "id": "0ffaf851",
   "metadata": {},
   "outputs": [],
   "source": [
    "import os\n",
    "import matplotlib.pyplot as plt\n",
    "import seaborn as sns\n",
    "import scipy\n",
    "import cv2\n",
    "from sklearn.model_selection import train_test_split\n",
    "from itertools import product\n",
    "from PIL import Image\n",
    "import glob\n",
    "import zipfile\n",
    "\n",
    "import torch\n",
    "import torchvision\n",
    "from torchvision import models,transforms,datasets\n",
    "import torch.nn as nn\n",
    "import torch.nn.functional as F\n",
    "import torch.optim as optim\n",
    "from torch.utils.data import DataLoader,Dataset,ConcatDataset\n"
   ]
  },
  {
   "cell_type": "code",
   "execution_count": null,
   "id": "44b4d9e2",
   "metadata": {},
   "outputs": [],
   "source": [
    "# Data path\n",
    "data_dir = '../input/aerial-cactus-identification/'\n",
    "out_dir = './'\n",
    "\n",
    "train_path = '../kaggle/temp/train/'\n",
    "test_path = '../kaggle/temp/test/'\n"
   ]
  },
  {
   "cell_type": "code",
   "execution_count": null,
   "id": "b7c780da",
   "metadata": {},
   "outputs": [],
   "source": [
    "with zipfile.ZipFile(data_dir + \"train.zip\",\"r\") as z:\n",
    "    z.extractall(\"../kaggle/temp/\")\n",
    "    \n",
    "with zipfile.ZipFile(data_dir + \"test.zip\",\"r\") as z:\n",
    "    z.extractall(\"../kaggle/temp/\")\n"
   ]
  },
  {
   "cell_type": "code",
   "execution_count": null,
   "id": "e77baf00",
   "metadata": {},
   "outputs": [],
   "source": [
    "print('Num train samples:{0}'.format(len(os.listdir(train_path))))\n",
    "print('Num test samples:{0}'.format(len(os.listdir(test_path))))\n"
   ]
  },
  {
   "cell_type": "code",
   "execution_count": null,
   "id": "27edbc96",
   "metadata": {},
   "outputs": [],
   "source": [
    "labels = pd.read_csv(data_dir + 'train.csv')\n",
    "sub = pd.read_csv(data_dir + 'sample_submission.csv')\n"
   ]
  },
  {
   "cell_type": "code",
   "execution_count": null,
   "id": "058fb55c",
   "metadata": {},
   "outputs": [],
   "source": [
    "labels.head()\n"
   ]
  },
  {
   "cell_type": "code",
   "execution_count": null,
   "id": "6056338a",
   "metadata": {},
   "outputs": [],
   "source": [
    "labels.info()\n"
   ]
  },
  {
   "cell_type": "code",
   "execution_count": null,
   "id": "98b77125",
   "metadata": {},
   "outputs": [],
   "source": [
    "num_cactus = labels[labels['has_cactus']==1]['id'].count()\n",
    "num_no_cactus = labels[labels['has_cactus']==0]['id'].count()\n"
   ]
  },
  {
   "cell_type": "code",
   "execution_count": null,
   "id": "c622b0f9",
   "metadata": {},
   "outputs": [],
   "source": [
    "tags = 'Cactus', 'No cactus'\n",
    "sizes = [num_cactus, num_no_cactus]\n",
    "explode = (0, 0.1)  # \"explode\" the 2nd slice\n",
    "\n",
    "fig, ax = plt.subplots()\n",
    "ax.pie(sizes, explode=explode, labels=tags, autopct='%1.1f%%',\n",
    "        shadow=True, startangle=90)\n",
    "ax.axis('equal')  # Equal aspect ratio ensures that pie is drawn as a circle.\n",
    "\n",
    "plt.title(\"Number of images with/without cactus\")\n",
    "plt.show()\n"
   ]
  },
  {
   "cell_type": "code",
   "execution_count": null,
   "id": "9810c34e",
   "metadata": {},
   "outputs": [],
   "source": [
    "fig,ax = plt.subplots(1,5,figsize=(15,3))\n",
    "\n",
    "for i, idx in enumerate(labels['id'][-5:]):\n",
    "    path = os.path.join(train_path,idx)\n",
    "    ax[i].imshow(cv2.imread(path)) # [...,[2,1,0]]\n"
   ]
  },
  {
   "cell_type": "code",
   "execution_count": null,
   "id": "806d76ee",
   "metadata": {},
   "outputs": [],
   "source": [
    "# Hyper parameters\n",
    "num_epochs = 20\n",
    "num_classes = 2\n",
    "batch_size = 32\n",
    "learning_rate = 0.002\n",
    "\n",
    "# Device configuration\n",
    "device = torch.device('cuda:0' if torch.cuda.is_available() else 'cpu')\n"
   ]
  },
  {
   "cell_type": "code",
   "execution_count": null,
   "id": "ca045ea1",
   "metadata": {},
   "outputs": [],
   "source": [
    "train, val = train_test_split(labels, stratify=labels.has_cactus, test_size=0.2)\n",
    "train.shape, val.shape, labels.shape\n"
   ]
  },
  {
   "cell_type": "code",
   "execution_count": null,
   "id": "58f516b1",
   "metadata": {},
   "outputs": [],
   "source": [
    "class MyDataset(Dataset):\n",
    "    def __init__(self, df_data, data_dir = './', transform=None):\n",
    "        super().__init__()\n",
    "        self.df = df_data.values\n",
    "        self.data_dir = data_dir\n",
    "        self.transform = transform\n",
    "\n",
    "    def __len__(self):\n",
    "        return len(self.df)\n",
    "    \n",
    "    def __getitem__(self, index):\n",
    "        img_name,label = self.df[index]\n",
    "        img_path = os.path.join(self.data_dir, img_name)\n",
    "        image = cv2.imread(img_path)\n",
    "        if self.transform is not None:\n",
    "            image = self.transform(image)\n",
    "        return image, label\n"
   ]
  },
  {
   "cell_type": "code",
   "execution_count": null,
   "id": "14b58bf0",
   "metadata": {},
   "outputs": [],
   "source": [
    "# Image preprocessing\n",
    "trans_train = transforms.Compose([transforms.ToPILImage(),\n",
    "#                                   transforms.Pad(32, padding_mode='reflect'),\n",
    "#                                   transforms.Normalize(mean=[0.5, 0.5, 0.5],std=[0.5, 0.5, 0.5]),\n",
    "                                  transforms.ToTensor()])\n",
    "\n",
    "trans_valid = transforms.Compose([transforms.ToPILImage(),\n",
    "#                                   transforms.Pad(32, padding_mode='reflect'),\n",
    "#                                   transforms.Normalize(mean=[0.5, 0.5, 0.5],std=[0.5, 0.5, 0.5]),\n",
    "                                  transforms.ToTensor()])\n",
    "\n",
    "# Data generators\n",
    "dataset_train = MyDataset(df_data=train, data_dir=train_path, transform=trans_train)\n",
    "dataset_valid = MyDataset(df_data=val, data_dir=train_path, transform=trans_valid)\n",
    "\n",
    "loader_train = DataLoader(dataset = dataset_train, batch_size=batch_size, shuffle=True)\n",
    "loader_valid = DataLoader(dataset = dataset_valid, batch_size=batch_size, shuffle=False)\n"
   ]
  },
  {
   "cell_type": "code",
   "execution_count": null,
   "id": "12687cfc",
   "metadata": {},
   "outputs": [],
   "source": [
    "class SimpleCNN(nn.Module):\n",
    "    def __init__(self):\n",
    "        super(SimpleCNN, self).__init__()\n",
    "        \n",
    "        self.conv1 = nn.Conv2d(in_channels=3, out_channels=32, kernel_size=3, padding=2)\n",
    "        self.conv2 = nn.Conv2d(in_channels=32, out_channels=64, kernel_size=3, padding=2)\n",
    "        self.conv3 = nn.Conv2d(in_channels=64, out_channels=128, kernel_size=3, padding=2)\n",
    "#         self.conv4 = nn.Conv2d(in_channels=128, out_channels=256, kernel_size=3, padding=2)\n",
    "#         self.conv5 = nn.Conv2d(in_channels=256, out_channels=512, kernel_size=3, padding=2)\n",
    "        self.bn1 = nn.BatchNorm2d(32)\n",
    "        self.bn2 = nn.BatchNorm2d(64)\n",
    "        self.bn3 = nn.BatchNorm2d(128)\n",
    "#         self.bn4 = nn.BatchNorm2d(256)\n",
    "#         self.bn5 = nn.BatchNorm2d(512)\n",
    "        self.pool = nn.MaxPool2d(kernel_size=2, stride=2)\n",
    "        self.avg = nn.AvgPool2d(4)\n",
    "        self.fc = nn.Linear(128, 1)\n",
    "        self.out = nn.Sigmoid()\n",
    "   \n",
    "    def forward(self, x):\n",
    "        x = self.pool(F.leaky_relu(self.bn1(self.conv1(x)))) # first convolutional layer then batchnorm, then activation then pooling layer.\n",
    "        x = self.pool(F.leaky_relu(self.bn2(self.conv2(x))))\n",
    "        x = self.pool(F.leaky_relu(self.bn3(self.conv3(x))))\n",
    "#         x = self.pool(F.leaky_relu(self.bn4(self.conv4(x))))\n",
    "#         x = self.pool(F.leaky_relu(self.bn5(self.conv5(x))))\n",
    "        x = self.avg(x)\n",
    "#         print(x.shape) # lifehack to find out the correct dimension for the Linear Layer\n",
    "        x = x.view(-1, 128) # !!!\n",
    "        x = self.fc(x)\n",
    "        x = self.out(x)\n",
    "        return x\n"
   ]
  },
  {
   "cell_type": "code",
   "execution_count": null,
   "id": "ce32b4ad",
   "metadata": {},
   "outputs": [],
   "source": [
    "model = SimpleCNN().to(device)\n"
   ]
  },
  {
   "cell_type": "code",
   "execution_count": null,
   "id": "a3e08e67",
   "metadata": {},
   "outputs": [],
   "source": [
    "# Loss and optimizer\n",
    "criterion = nn.BCELoss()\n",
    "optimizer = torch.optim.Adam(model.parameters(), lr=learning_rate, betas=(0.9, 0.999))\n"
   ]
  },
  {
   "cell_type": "code",
   "execution_count": null,
   "id": "7e99dee1",
   "metadata": {},
   "outputs": [],
   "source": [
    "print(targets.dtype)\n",
    "new_targets = targets.float()\n",
    "print(new_targets.dtype)\n",
    "print(outputs.dtype)\n"
   ]
  },
  {
   "cell_type": "code",
   "execution_count": null,
   "id": "2e1cb767",
   "metadata": {},
   "outputs": [],
   "source": [
    "# Train the model\n",
    "total_step = len(loader_train)\n",
    "\n",
    "for epoch in range(num_epochs):\n",
    "    for i, (images, targets) in enumerate(loader_train):\n",
    "        targets = targets.float()\n",
    "        \n",
    "        images = images.to(device)\n",
    "        targets = targets.to(device)\n",
    "        \n",
    "        optimizer.zero_grad()\n",
    "        \n",
    "        # Forward pass\n",
    "        outputs = model(images)\n",
    "        loss = criterion(outputs.data, targets)\n",
    "        \n",
    "        # Backward and optimize\n",
    "        loss.backward()\n",
    "        optimizer.step()\n",
    "        \n",
    "    print ('Epoch [{}/{}], Loss: {:.4f}'.format(epoch+1, num_epochs, loss.item()))\n"
   ]
  },
  {
   "cell_type": "code",
   "execution_count": null,
   "id": "82fd8268",
   "metadata": {},
   "outputs": [],
   "source": [
    "# Test the model\n",
    "model.eval()\n",
    "\n",
    "with torch.no_grad():\n",
    "    correct = 0\n",
    "    total = 0\n",
    "    \n",
    "    for images, targets in loader_valid:\n",
    "        predicted = []\n",
    "        targets = targets.float()\n",
    "        images = images.to(device)\n",
    "        targets = targets.to(device)\n",
    "        outputs = model(images)\n",
    "#         print(outputs)\n",
    "        \n",
    "        for out in outputs.data:\n",
    "            if out < 0.5:\n",
    "                predicted.append(0)\n",
    "            else:\n",
    "                predicted.append(1)\n",
    "                \n",
    "        predicted = torch.FloatTensor(predicted).to(device)\n",
    "\n",
    "        total += targets.size(0)\n",
    "        correct += (predicted == targets).sum()\n",
    "          \n",
    "    print('Test Accuracy of the model on the 1750 validation images: {} %'.format(100 * correct / total))\n"
   ]
  },
  {
   "cell_type": "code",
   "execution_count": null,
   "id": "73a7f840",
   "metadata": {},
   "outputs": [],
   "source": [
    "# generator for test data \n",
    "dataset_valid = MyDataset(df_data=sub, data_dir=test_path, transform=trans_valid)\n",
    "loader_test = DataLoader(dataset = dataset_valid, batch_size=1, shuffle=False)\n"
   ]
  },
  {
   "cell_type": "code",
   "execution_count": null,
   "id": "a1c1f66b",
   "metadata": {},
   "outputs": [],
   "source": [
    "model.eval()\n",
    "\n",
    "preds = []\n",
    "for batch_i, (data, target) in enumerate(loader_test):\n",
    "    data, target = data.cuda(), target.cuda()\n",
    "    output = model(data)\n",
    "    \n",
    "    for out in output.data:\n",
    "        if out < 0.5:\n",
    "            preds.append(0)\n",
    "        else:\n",
    "            preds.append(1)\n",
    "\n",
    "sub['has_cactus'] = preds\n",
    "sub.to_csv('submission.csv', index=False)\n"
   ]
  }
 ],
 "metadata": {},
 "nbformat": 4,
 "nbformat_minor": 5
}
