{
 "cells": [
  {
   "cell_type": "code",
   "execution_count": null,
   "id": "8825cdae",
   "metadata": {},
   "outputs": [],
   "source": [
    "import pandas as pd\n",
    "from pathlib import Path"
   ]
  },
  {
   "cell_type": "code",
   "execution_count": null,
   "id": "d8764a63",
   "metadata": {},
   "outputs": [],
   "source": [
    "# This Python 3 environment comes with many helpful analytics libraries installed\n",
    "# It is defined by the kaggle/python Docker image: https://github.com/kaggle/docker-python\n",
    "# For example, here's several helpful packages to load\n",
    "\n",
    "import numpy as np # linear algebra\n",
    "import pandas as pd # data processing, CSV file I/O (e.g. pd.read_csv)\n",
    "\n",
    "# Input data files are available in the read-only \"../input/\" directory\n",
    "# For example, running this (by clicking run or pressing Shift+Enter) will list all files under the input directory\n",
    "\n",
    "import os\n",
    "for dirname, _, filenames in os.walk('/kaggle/input'):\n",
    "    for filename in filenames:\n",
    "        print(os.path.join(dirname, filename))\n",
    "\n",
    "# You can write up to 20GB to the current directory (/kaggle/working/) that gets preserved as output when you create a version using \"Save & Run All\" \n",
    "# You can also write temporary files to /kaggle/temp/, but they won't be saved outside of the current session\n"
   ]
  },
  {
   "cell_type": "code",
   "execution_count": null,
   "id": "49278612",
   "metadata": {},
   "outputs": [],
   "source": [
    "import numpy as np              # linear algebra\n",
    "import pandas as pd             # data processing, CSV file I/O (e.g. pd.read_csv)\n",
    "                                \n",
    "import matplotlib.pyplot as plt # data visualization\n",
    "import seaborn as sns           # data visualization\n"
   ]
  },
  {
   "cell_type": "code",
   "execution_count": null,
   "id": "7b547d5b",
   "metadata": {},
   "outputs": [],
   "source": [
    "sample_submission = pd.read_csv(\"/kaggle/input/tabular-playground-series-dec-2021/sample_submission.csv\")\n",
    "train = pd.read_csv(\"/kaggle/input/tabular-playground-series-dec-2021/train.csv\")\n",
    "test = pd.read_csv(\"/kaggle/input/tabular-playground-series-dec-2021/test.csv\")\n"
   ]
  },
  {
   "cell_type": "code",
   "execution_count": null,
   "id": "07ccc1f4",
   "metadata": {},
   "outputs": [],
   "source": [
    "sample_submission.shape\n"
   ]
  },
  {
   "cell_type": "code",
   "execution_count": null,
   "id": "3b4f68da",
   "metadata": {},
   "outputs": [],
   "source": [
    "train.shape\n"
   ]
  },
  {
   "cell_type": "code",
   "execution_count": null,
   "id": "e06180e6",
   "metadata": {},
   "outputs": [],
   "source": [
    "train.info()\n"
   ]
  },
  {
   "cell_type": "code",
   "execution_count": null,
   "id": "bb58489e",
   "metadata": {},
   "outputs": [],
   "source": [
    "test.shape\n"
   ]
  },
  {
   "cell_type": "code",
   "execution_count": null,
   "id": "adb767bc",
   "metadata": {},
   "outputs": [],
   "source": [
    "test.info()\n"
   ]
  },
  {
   "cell_type": "code",
   "execution_count": null,
   "id": "194e8e50",
   "metadata": {},
   "outputs": [],
   "source": [
    "data = pd.concat([train, test], sort = False)\n",
    "data.shape\n"
   ]
  },
  {
   "cell_type": "code",
   "execution_count": null,
   "id": "98501b9c",
   "metadata": {},
   "outputs": [],
   "source": [
    "data.info()\n"
   ]
  },
  {
   "cell_type": "code",
   "execution_count": null,
   "id": "43b7b490",
   "metadata": {},
   "outputs": [],
   "source": [
    "data.head()\n"
   ]
  },
  {
   "cell_type": "code",
   "execution_count": null,
   "id": "c7a68228",
   "metadata": {},
   "outputs": [],
   "source": [
    "null_cols = [col for col in data.iloc[: , : -1].columns if data[col].isnull().sum() != 0]\n",
    "null_cols\n"
   ]
  },
  {
   "cell_type": "code",
   "execution_count": null,
   "id": "104d054c",
   "metadata": {},
   "outputs": [],
   "source": [
    "TARGET = 'Cover_Type'\n",
    "FEATURES = [col for col in train.columns if col not in ['id', TARGET]]\n",
    "\n",
    "cat_features = [col for col in FEATURES if data[col].nunique() < 25]\n",
    "cont_features = [col for col in FEATURES if data[col].nunique() >= 25]\n",
    "\n",
    "del data\n",
    "print(f'Total number of features: {len(FEATURES)}')\n",
    "print(f'Number of categorical features: {len(cat_features)}')\n",
    "print(f'Number of continuos features: {len(cont_features)}')\n",
    "\n",
    "plt.pie([len(cat_features), len(cont_features)], \n",
    "        labels=['Categorical', 'Continuos'],\n",
    "        colors=['#76D7C4', '#F5B7B1'],\n",
    "        textprops={'fontsize': 13},\n",
    "        autopct='%1.1f%%')\n",
    "plt.show()\n"
   ]
  },
  {
   "cell_type": "code",
   "execution_count": null,
   "id": "32820e4d",
   "metadata": {},
   "outputs": [],
   "source": [
    "train.iloc[:, :-1].describe().T.sort_values(by='std' , ascending = False)\\\n",
    "                     .style.background_gradient(cmap='GnBu')\\\n",
    "                     .bar(subset=[\"max\"], color='#BB0000')\\\n",
    "                     .bar(subset=[\"mean\",], color='green')\n"
   ]
  },
  {
   "cell_type": "code",
   "execution_count": null,
   "id": "70b3d408",
   "metadata": {},
   "outputs": [],
   "source": [
    "plt.figure(figsize=(10,8))\n",
    "sns.countplot(x='Cover_Type', data=train, palette='icefire');\n"
   ]
  },
  {
   "cell_type": "code",
   "execution_count": null,
   "id": "a56c5bd4",
   "metadata": {},
   "outputs": [],
   "source": [
    "# predictor\n",
    "X = train.drop(columns=['Id','Cover_Type','Soil_Type7','Soil_Type15'])\n",
    "\n",
    "# target\n",
    "y = train['Cover_Type']\n",
    "\n",
    "# test data \n",
    "test_df = test.drop(columns=['Id','Soil_Type7','Soil_Type15'])\n"
   ]
  },
  {
   "cell_type": "code",
   "execution_count": null,
   "id": "b68076a0",
   "metadata": {},
   "outputs": [],
   "source": [
    "# train-test split\n",
    "\n",
    "from sklearn.model_selection import train_test_split\n",
    "\n",
    "X_train, X_val, y_train, y_val = train_test_split(X, y, test_size=0.15, random_state=123, shuffle =True)\n"
   ]
  },
  {
   "cell_type": "code",
   "execution_count": null,
   "id": "e05a837f",
   "metadata": {},
   "outputs": [],
   "source": [
    "from xgboost import XGBClassifier\n",
    "\n",
    "model = XGBClassifier(learning_rate=0.3,\n",
    "                      tree_method='gpu_hist',\n",
    "                      random_state=0)\n",
    "model.fit(X_train,y_train)\n"
   ]
  },
  {
   "cell_type": "code",
   "execution_count": null,
   "id": "15fa811d",
   "metadata": {},
   "outputs": [],
   "source": [
    "# validation prediction\n",
    "y_pred=model.predict(X_val)\n"
   ]
  },
  {
   "cell_type": "code",
   "execution_count": null,
   "id": "fe79e0b7",
   "metadata": {},
   "outputs": [],
   "source": [
    "# validation accuracy\n",
    "from sklearn.metrics import accuracy_score\n",
    "print('Accuracy Score : ',accuracy_score(y_val, y_pred))\n"
   ]
  },
  {
   "cell_type": "code",
   "execution_count": null,
   "id": "e55c6677",
   "metadata": {},
   "outputs": [],
   "source": [
    "# test prediction\n",
    "y_pred = model.predict(test_df)\n"
   ]
  },
  {
   "cell_type": "code",
   "execution_count": null,
   "id": "918af570",
   "metadata": {},
   "outputs": [],
   "source": [
    "# submission\n",
    "submission = pd.read_csv('../input/tabular-playground-series-dec-2021/sample_submission.csv')\n",
    "submission['Cover_Type'] = y_pred\n",
    "submission.to_csv(\"submission.csv\",index=False)\n",
    "submission.head()\n"
   ]
  },
  {
   "cell_type": "code",
   "execution_count": null,
   "id": "67b1fab9",
   "metadata": {},
   "outputs": [],
   "source": [
    " \n"
   ]
  }
 ],
 "metadata": {},
 "nbformat": 4,
 "nbformat_minor": 5
}
