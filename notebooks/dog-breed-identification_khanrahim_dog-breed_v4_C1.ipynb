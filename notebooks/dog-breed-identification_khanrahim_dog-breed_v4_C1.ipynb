{
  "cells": [
    {
      "cell_type": "code",
      "execution_count": null,
      "id": "ebd11e94",
      "metadata": {},
      "outputs": [],
      "source": [
        "import pandas as pd\n",
        "from pathlib import Path"
      ]
    },
    {
      "cell_type": "code",
      "execution_count": null,
      "id": "df1ccadd",
      "metadata": {},
      "outputs": [],
      "source": [
        "import os\n",
        "import numpy as np\n",
        "import pandas as pd\n",
        "import matplotlib.pyplot as plt\n",
        "import seaborn as sns\n",
        "\n",
        "import warnings\n",
        "warnings.filterwarnings('ignore')\n"
      ]
    },
    {
      "cell_type": "code",
      "execution_count": null,
      "id": "00222118",
      "metadata": {},
      "outputs": [],
      "source": [
        "train_dir = '../input/dog-breed-identification/train'\n",
        "test_dir = '../input/dog-breed-identification/test'\n"
      ]
    },
    {
      "cell_type": "code",
      "execution_count": null,
      "id": "ae6b3721",
      "metadata": {},
      "outputs": [],
      "source": [
        "train_size = len(os.listdir('../input/dog-breed-identification/train'))\n",
        "test_size = len(os.listdir('../input/dog-breed-identification/test'))\n",
        "\n",
        "train_size,test_size\n"
      ]
    },
    {
      "cell_type": "code",
      "execution_count": null,
      "id": "ce21ddd5",
      "metadata": {},
      "outputs": [],
      "source": [
        "df = pd.read_csv('../input/dog-breed-identification/labels.csv')\n",
        "df.head()\n"
      ]
    },
    {
      "cell_type": "code",
      "execution_count": null,
      "id": "4c598488",
      "metadata": {},
      "outputs": [],
      "source": [
        "#Extracting different classes\n",
        "dog_breeds = sorted(df['breed'].unique())\n",
        "n_classes = len(dog_breeds)\n",
        "print(n_classes)\n",
        "dog_breeds\n"
      ]
    },
    {
      "cell_type": "code",
      "execution_count": null,
      "id": "be9e1b65",
      "metadata": {},
      "outputs": [],
      "source": [
        "#Converting classes to numbers\n",
        "class_to_num = dict(zip(dog_breeds,range(n_classes)))\n"
      ]
    },
    {
      "cell_type": "code",
      "execution_count": null,
      "id": "1b1212b0",
      "metadata": {},
      "outputs": [],
      "source": [
        "#Function to load and convert images to array\n",
        "from keras.preprocessing.image import load_img\n",
        "from keras.utils import to_categorical\n",
        "\n",
        "def images_to_array(data_dir,df,image_size):\n",
        "    image_names = df['id']\n",
        "    image_labels = df['breed']\n",
        "    data_size = len(image_names)\n",
        "    \n",
        "    X = np.zeros([data_size,image_size[0],image_size[1],image_size[2]],dtype = np.uint8)\n",
        "    y = np.zeros([data_size,1],dtype = np.uint8)\n",
        "    \n",
        "    for i in range(data_size):\n",
        "        img_name = image_names[i]\n",
        "        img_dir = os.path.join(data_dir,img_name+'.jpg')\n",
        "        img_pixels = load_img(img_dir,target_size=image_size)\n",
        "        X[i] = img_pixels\n",
        "        y[i] = class_to_num[image_labels[i]]\n",
        "        \n",
        "    y = to_categorical(y)\n",
        "    \n",
        "    ind = np.random.permutation(data_size)\n",
        "    X = X[ind]\n",
        "    y = y[ind]\n",
        "    print('Ouptut Data Size: ', X.shape)\n",
        "    print('Ouptut Label Size: ', y.shape)\n",
        "    return X, y     \n"
      ]
    },
    {
      "cell_type": "code",
      "execution_count": null,
      "id": "7bee3d23",
      "metadata": {},
      "outputs": [],
      "source": [
        "#Selecting image size according to pretrained models\n",
        "img_size = (299,299,3)\n"
      ]
    },
    {
      "cell_type": "code",
      "execution_count": null,
      "id": "4221776c",
      "metadata": {},
      "outputs": [],
      "source": [
        "X, y = images_to_array(train_dir,df,img_size)\n"
      ]
    },
    {
      "cell_type": "code",
      "execution_count": null,
      "id": "c72885bd",
      "metadata": {},
      "outputs": [],
      "source": [
        "#Function to extract features from images\n",
        "from keras.models import Model\n",
        "from keras.layers import BatchNormalization, Dense, GlobalAveragePooling2D,Lambda, Dropout, InputLayer, Input\n",
        "\n",
        "def get_features(model_name, data_preprocessor, input_size, data):\n",
        "    #Prepare pipeline.\n",
        "    input_layer = Input(input_size)\n",
        "    preprocessor = Lambda(data_preprocessor)(input_layer)\n",
        "    base_model = model_name(weights='imagenet', include_top=False,\n",
        "                            input_shape=input_size)(preprocessor)\n",
        "    avg = GlobalAveragePooling2D()(base_model)\n",
        "    feature_extractor = Model(inputs = input_layer, outputs = avg)\n",
        "    #Extract feature.\n",
        "    feature_maps = feature_extractor.predict(data, batch_size=32, verbose=1)\n",
        "    print('Feature maps shape: ', feature_maps.shape)\n",
        "    return feature_maps\n"
      ]
    },
    {
      "cell_type": "code",
      "execution_count": null,
      "id": "a60b6649",
      "metadata": {},
      "outputs": [],
      "source": [
        "#Extracting features using InceptionV3\n",
        "from keras.applications.inception_v3 import InceptionV3, preprocess_input\n",
        "inception_preprocessor = preprocess_input\n",
        "inception_features = get_features(InceptionV3,\n",
        "                                  inception_preprocessor,\n",
        "                                  img_size, X)\n"
      ]
    },
    {
      "cell_type": "code",
      "execution_count": null,
      "id": "cc1213e7",
      "metadata": {},
      "outputs": [],
      "source": [
        "#Extracting features using Xception\n",
        "from keras.applications.xception import Xception, preprocess_input\n",
        "xception_preprocessor = preprocess_input\n",
        "xception_features = get_features(Xception,\n",
        "                                 xception_preprocessor,\n",
        "                                 img_size, X)\n"
      ]
    },
    {
      "cell_type": "code",
      "execution_count": null,
      "id": "7e8aa502",
      "metadata": {},
      "outputs": [],
      "source": [
        "#Extracting features using InceptionResnetV2\n",
        "from keras.applications.inception_resnet_v2 import InceptionResNetV2, preprocess_input\n",
        "inc_resnet_preprocessor = preprocess_input\n",
        "inc_resnet_features = get_features(InceptionResNetV2,\n",
        "                                   inc_resnet_preprocessor,\n",
        "                                   img_size, X)\n"
      ]
    },
    {
      "cell_type": "code",
      "execution_count": null,
      "id": "a6eabb48",
      "metadata": {},
      "outputs": [],
      "source": [
        "#concatinating features\n",
        "final_features = np.concatenate([inception_features,\n",
        "                                 xception_features,\n",
        "                                 inc_resnet_features,], axis=-1)\n",
        "print('Final feature maps shape', final_features.shape)\n"
      ]
    },
    {
      "cell_type": "code",
      "execution_count": null,
      "id": "eda260ce",
      "metadata": {},
      "outputs": [],
      "source": [
        "del X\n"
      ]
    },
    {
      "cell_type": "code",
      "execution_count": null,
      "id": "278ccf89",
      "metadata": {},
      "outputs": [],
      "source": [
        "#Callbacks\n",
        "from keras.callbacks import EarlyStopping\n",
        "EarlyStop_callback = EarlyStopping(monitor='val_loss', patience=10, restore_best_weights=True)\n",
        "my_callback=[EarlyStop_callback]\n"
      ]
    },
    {
      "cell_type": "code",
      "execution_count": null,
      "id": "3bd9e634",
      "metadata": {},
      "outputs": [],
      "source": [
        "#Building Model\n",
        "from keras.models import Sequential\n",
        "model = Sequential()\n",
        "model.add(InputLayer(final_features.shape[1:]))\n",
        "model.add(Dropout(0.7))\n",
        "model.add(Dense(120,activation='softmax'))\n"
      ]
    },
    {
      "cell_type": "code",
      "execution_count": null,
      "id": "889fa962",
      "metadata": {},
      "outputs": [],
      "source": [
        "#Compiling Model\n",
        "model.compile(optimizer='adam',\n",
        "            loss='categorical_crossentropy',\n",
        "            metrics=['accuracy'])\n"
      ]
    },
    {
      "cell_type": "code",
      "execution_count": null,
      "id": "f9e94321",
      "metadata": {},
      "outputs": [],
      "source": [
        "#Training Model\n",
        "history = model.fit(final_features,\n",
        "                  y,\n",
        "                  batch_size=32,\n",
        "                  epochs=50,\n",
        "                  validation_split=0.1,\n",
        "                  callbacks=my_callback)\n"
      ]
    },
    {
      "cell_type": "code",
      "execution_count": null,
      "id": "a5c3de88",
      "metadata": {},
      "outputs": [],
      "source": [
        "#Converting test images to array\n",
        "def images_to_array2(data_dir,df, img_size):\n",
        "    images_names = df['id']\n",
        "    data_size = len(images_names)\n",
        "    X = np.zeros([data_size, img_size[0], img_size[1], 3], dtype=np.uint8)\n",
        "    \n",
        "    for i in range(data_size):\n",
        "        image_name = images_names[i]\n",
        "        img_dir = os.path.join(data_dir, image_name+'.jpg')\n",
        "        img_pixels = load_img(img_dir, target_size=img_size)\n",
        "        X[i] = img_pixels\n",
        "        \n",
        "    print('Ouptut Data Size: ', X.shape)\n",
        "    return X\n"
      ]
    },
    {
      "cell_type": "code",
      "execution_count": null,
      "id": "1a5b1b64",
      "metadata": {},
      "outputs": [],
      "source": [
        "sample_df = pd.read_csv('../input/dog-breed-identification/sample_submission.csv')\n"
      ]
    },
    {
      "cell_type": "code",
      "execution_count": null,
      "id": "37a29e0e",
      "metadata": {},
      "outputs": [],
      "source": [
        "test_data = images_to_array2(test_dir, sample_df, img_size)\n"
      ]
    },
    {
      "cell_type": "code",
      "execution_count": null,
      "id": "97b63436",
      "metadata": {},
      "outputs": [],
      "source": [
        "#Extract test data features.\n",
        "inception_features = get_features(InceptionV3, inception_preprocessor, img_size, test_data)\n"
      ]
    },
    {
      "cell_type": "code",
      "execution_count": null,
      "id": "23c95586",
      "metadata": {},
      "outputs": [],
      "source": [
        "xception_features = get_features(Xception, xception_preprocessor, img_size, test_data)\n"
      ]
    },
    {
      "cell_type": "code",
      "execution_count": null,
      "id": "e6b42091",
      "metadata": {},
      "outputs": [],
      "source": [
        "inc_resnet_features = get_features(InceptionResNetV2, inc_resnet_preprocessor, img_size, test_data)\n"
      ]
    },
    {
      "cell_type": "code",
      "execution_count": null,
      "id": "d311b5c7",
      "metadata": {},
      "outputs": [],
      "source": [
        "test_features = np.concatenate([inception_features,\n",
        "                                 xception_features,\n",
        "                                 inc_resnet_features],axis=-1)\n",
        "print('Final feature maps shape', test_features.shape)\n"
      ]
    },
    {
      "cell_type": "code",
      "execution_count": null,
      "id": "95ac9421",
      "metadata": {},
      "outputs": [],
      "source": [
        "del test_data\n"
      ]
    },
    {
      "cell_type": "code",
      "execution_count": null,
      "id": "2c7536e0",
      "metadata": {},
      "outputs": [],
      "source": [
        "y_pred = model.predict(test_features, batch_size=32)\n"
      ]
    },
    {
      "cell_type": "code",
      "execution_count": null,
      "id": "b3a85642",
      "metadata": {},
      "outputs": [],
      "source": [
        "for breed in dog_breeds:\n",
        "    sample_df[breed] = y_pred[:,class_to_num[breed]]\n",
        "sample_df.to_csv('pred.csv', index=None)\n"
      ]
    },
    {
      "cell_type": "code",
      "execution_count": null,
      "id": "24a173e7",
      "metadata": {},
      "outputs": [],
      "source": [
        "sample_df.head()\n"
      ]
    },
    {
      "cell_type": "code",
      "execution_count": null,
      "id": "bbad43a0",
      "metadata": {},
      "outputs": [],
      "source": [
        " \n"
      ]
    }
  ],
  "metadata": {},
  "nbformat": 4,
  "nbformat_minor": 5
}