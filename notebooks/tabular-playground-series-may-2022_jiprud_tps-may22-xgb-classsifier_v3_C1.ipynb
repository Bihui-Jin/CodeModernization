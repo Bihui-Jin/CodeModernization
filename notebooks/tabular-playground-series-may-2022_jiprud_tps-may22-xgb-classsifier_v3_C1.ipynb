{
  "cells": [
    {
      "cell_type": "code",
      "execution_count": null,
      "id": "78fd6859",
      "metadata": {},
      "outputs": [],
      "source": [
        "import pandas as pd\n",
        "from pathlib import Path"
      ]
    },
    {
      "cell_type": "code",
      "execution_count": null,
      "id": "b6ed2c3e",
      "metadata": {},
      "outputs": [],
      "source": [
        "import numpy as np # linear algebra\n",
        "import pandas as pd # data processing, CSV file I/O (e.g. pd.read_csv)\n",
        "\n",
        "import matplotlib.pyplot as plt\n",
        "plt.rcParams[\"figure.figsize\"] = (20,10) # make plots a bit bigger\n"
      ]
    },
    {
      "cell_type": "code",
      "execution_count": null,
      "id": "b37574a8",
      "metadata": {},
      "outputs": [],
      "source": [
        "train_df = pd.read_csv('../input/tabular-playground-series-may-2022/train.csv',index_col='id')\n",
        "test_df = pd.read_csv('../input/tabular-playground-series-may-2022/test.csv',index_col='id')\n",
        "\n",
        "display(train_df, test_df)\n"
      ]
    },
    {
      "cell_type": "code",
      "execution_count": null,
      "id": "99e6463c",
      "metadata": {},
      "outputs": [],
      "source": [
        "X_train = train_df.drop(['target'], axis = 1)\n",
        "y_train = train_df['target']\n",
        "X_test = test_df\n",
        "\n",
        "submission = pd.DataFrame(index = X_test.index)\n",
        "\n",
        "display(X_train,y_train,X_test)\n"
      ]
    },
    {
      "cell_type": "code",
      "execution_count": null,
      "id": "028d75ec",
      "metadata": {},
      "outputs": [],
      "source": [
        "from xgboost import XGBClassifier\n",
        "\n",
        "\n",
        "model_xgb = XGBClassifier()\n",
        "\n",
        "# XGB classifier cannot solve categorical data without encoding -> let's drop it for now\n",
        "X_train.drop(['f_27'], axis = 1,inplace= True)\n",
        "\n",
        "\n",
        "model_xgb.fit(X_train, y_train)\n"
      ]
    },
    {
      "cell_type": "code",
      "execution_count": null,
      "id": "b577ce91",
      "metadata": {},
      "outputs": [],
      "source": [
        "# XGB classifier cannot solve categorical data without encoding -> let's drop it for now\n",
        "X_test.drop(['f_27'], axis = 1,inplace= True)\n",
        "y_xgb = model_xgb.predict_proba(X_test)\n",
        "\n",
        "y_xgb\n",
        "\n",
        "submission['xgb'] = y_xgb[:,1] # Metric is AUC -> we should submit probabilities of 1\n"
      ]
    },
    {
      "cell_type": "code",
      "execution_count": null,
      "id": "676da5af",
      "metadata": {},
      "outputs": [],
      "source": [
        "# show feature importance\n",
        "from xgboost import plot_importance\n",
        "plot_importance(model_xgb, max_num_features = 30)\n",
        "plt.show()\n"
      ]
    },
    {
      "cell_type": "code",
      "execution_count": null,
      "id": "8829ff80",
      "metadata": {},
      "outputs": [],
      "source": [
        "submission.to_csv('submission.csv',columns=['xgb'], header=['target'],index=True)\n"
      ]
    }
  ],
  "metadata": {},
  "nbformat": 4,
  "nbformat_minor": 5
}