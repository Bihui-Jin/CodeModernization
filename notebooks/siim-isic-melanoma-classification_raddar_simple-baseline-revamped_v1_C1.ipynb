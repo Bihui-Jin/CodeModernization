{
  "cells": [
    {
      "cell_type": "code",
      "execution_count": null,
      "id": "e0d9d15e",
      "metadata": {},
      "outputs": [],
      "source": [
        "import pandas as pd\n",
        "from pathlib import Path"
      ]
    },
    {
      "cell_type": "code",
      "execution_count": null,
      "id": "c7f91a0c",
      "metadata": {},
      "outputs": [],
      "source": [
        "import numpy as np # linear algebra\n",
        "import pandas as pd # data processing, CSV file I/O (e.g. pd.read_csv)\n",
        "from sklearn.metrics import roc_auc_score\n",
        "import matplotlib.pyplot as plt\n",
        "\n",
        "import os\n"
      ]
    },
    {
      "cell_type": "code",
      "execution_count": null,
      "id": "46fde019",
      "metadata": {},
      "outputs": [],
      "source": [
        "train = pd.read_csv('../input/siim-isic-melanoma-classification/train.csv')\n",
        "test  = pd.read_csv('../input/siim-isic-melanoma-classification/test.csv')\n",
        "sub   = pd.read_csv('../input/siim-isic-melanoma-classification/sample_submission.csv')\n",
        "\n",
        "train.shape, test.shape, sub.shape\n"
      ]
    },
    {
      "cell_type": "code",
      "execution_count": null,
      "id": "a8cecc67",
      "metadata": {},
      "outputs": [],
      "source": [
        "train['sex'] = train['sex'].fillna('na')\n",
        "train['age_approx'] = train['age_approx'].fillna(0)\n",
        "train['anatom_site_general_challenge'] = train['anatom_site_general_challenge'].fillna('na')\n",
        "\n",
        "test['sex'] = test['sex'].fillna('na')\n",
        "test['age_approx'] = test['age_approx'].fillna(0)\n",
        "test['anatom_site_general_challenge'] = test['anatom_site_general_challenge'].fillna('na')\n"
      ]
    },
    {
      "cell_type": "code",
      "execution_count": null,
      "id": "4a57ac0e",
      "metadata": {},
      "outputs": [],
      "source": [
        "train.head()\n"
      ]
    },
    {
      "cell_type": "code",
      "execution_count": null,
      "id": "db91a9f7",
      "metadata": {},
      "outputs": [],
      "source": [
        "test.head()\n"
      ]
    },
    {
      "cell_type": "code",
      "execution_count": null,
      "id": "d1a9e101",
      "metadata": {},
      "outputs": [],
      "source": [
        "train['ID'] = train['image_name'].apply(lambda x: int(x.replace('ISIC_','')))\n",
        "train['ID_rank'] = train.sort_values('ID').groupby('patient_id')['ID'].rank()\n",
        "\n",
        "test['ID'] = test['image_name'].apply(lambda x: int(x.replace('ISIC_','')))\n",
        "test['ID_rank'] = test.sort_values('ID').groupby('patient_id')['ID'].rank()\n"
      ]
    },
    {
      "cell_type": "code",
      "execution_count": null,
      "id": "9c6ccf92",
      "metadata": {},
      "outputs": [],
      "source": [
        "L = 15\n",
        "feat = ['sex','age_approx','anatom_site_general_challenge', 'ID_rank']\n",
        "\n",
        "M = train.target.mean()\n",
        "te = train.groupby(feat)['target'].agg(['mean','count']).reset_index()\n",
        "te['ll'] = ((te['mean']*te['count'])+(M*L))/(te['count']+L)\n",
        "del te['mean'], te['count']\n",
        "\n",
        "test = test.merge( te, on=feat, how='left' )\n",
        "test['ll'] = test['ll'].fillna(M)\n",
        "\n",
        "test.head()\n"
      ]
    },
    {
      "cell_type": "code",
      "execution_count": null,
      "id": "5c209048",
      "metadata": {},
      "outputs": [],
      "source": [
        "sub.target = test.ll.values\n",
        "sub.head(10)\n"
      ]
    },
    {
      "cell_type": "code",
      "execution_count": null,
      "id": "4151da0f",
      "metadata": {},
      "outputs": [],
      "source": [
        "sub.to_csv( 'submission.csv', index=False )\n"
      ]
    }
  ],
  "metadata": {},
  "nbformat": 4,
  "nbformat_minor": 5
}