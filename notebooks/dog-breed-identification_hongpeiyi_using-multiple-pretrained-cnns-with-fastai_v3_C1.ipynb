{
  "cells": [
    {
      "cell_type": "code",
      "execution_count": null,
      "id": "c3265bb9",
      "metadata": {},
      "outputs": [],
      "source": [
        "import pandas as pd\n",
        "from pathlib import Path"
      ]
    },
    {
      "cell_type": "code",
      "execution_count": null,
      "id": "ba881299",
      "metadata": {},
      "outputs": [],
      "source": [
        "from fastai.vision.all import *\n",
        "\n",
        "labels = pd.read_csv(\"../input/dog-breed-identification/labels.csv\")\n",
        "labels\n"
      ]
    },
    {
      "cell_type": "code",
      "execution_count": null,
      "id": "5049cbc9",
      "metadata": {},
      "outputs": [],
      "source": [
        "from sklearn.model_selection import StratifiedShuffleSplit\n",
        "\n",
        "split = StratifiedShuffleSplit(n_splits=1, test_size=0.2, random_state=42)\n",
        "train_ids, valid_ids = next(split.split(labels, labels[\"breed\"]))\n",
        "labels[\"is_valid\"] = [i in valid_ids for i in range(len(labels))]\n",
        "\n",
        "labels[\"id\"] = labels[\"id\"].apply(lambda x: x + \".jpg\")\n"
      ]
    },
    {
      "cell_type": "code",
      "execution_count": null,
      "id": "f50fc539",
      "metadata": {},
      "outputs": [],
      "source": [
        "len(dls.vocab)\n"
      ]
    },
    {
      "cell_type": "code",
      "execution_count": null,
      "id": "e93a3c03",
      "metadata": {},
      "outputs": [],
      "source": [
        "path = \"../input/dog-breed-identification/train\"\n",
        "\n",
        "dls = ImageDataLoaders.from_df(labels, path,\n",
        "                               item_tfms=Resize(460, method=\"squeeze\"),\n",
        "                               batch_tfms=[*aug_transforms(size=300),\n",
        "                                           Normalize.from_stats(*imagenet_stats)],\n",
        "                               bs=32, valid_col=\"is_valid\")\n",
        "dls.show_batch()\n"
      ]
    },
    {
      "cell_type": "code",
      "execution_count": null,
      "id": "4ae98e8f",
      "metadata": {},
      "outputs": [],
      "source": [
        "import torchvision.models as models\n",
        "\n",
        "inception = models.inception_v3(pretrained=True)\n",
        "inception.fc = nn.Linear(2048, 200)\n",
        "inception = inception.eval()\n"
      ]
    },
    {
      "cell_type": "code",
      "execution_count": null,
      "id": "6b28e25b",
      "metadata": {},
      "outputs": [],
      "source": [
        "resnet = models.resnet50(pretrained=True)\n",
        "resnet.fc = nn.Linear(2048, 200)\n",
        "resnet = resnet.eval()\n"
      ]
    },
    {
      "cell_type": "code",
      "execution_count": null,
      "id": "6482eaed",
      "metadata": {},
      "outputs": [],
      "source": [
        "class NeuralNet(Module):\n",
        "    def __init__(self, extractors, device=\"cpu\"):\n",
        "        self.extractors = extractors\n",
        "        for conv in self.extractors:\n",
        "            conv.to(device)\n",
        "        self.classifier = nn.Linear(400, len(dls.vocab)).to(device)\n",
        "        \n",
        "    def forward(self, x):\n",
        "        \n",
        "        features = [conv(x) for conv in self.extractors]\n",
        "        features = torch.cat(features, dim=1)\n",
        "        \n",
        "        return self.classifier(features)\n"
      ]
    },
    {
      "cell_type": "code",
      "execution_count": null,
      "id": "2442cff0",
      "metadata": {},
      "outputs": [],
      "source": [
        "extractors = [inception, resnet]\n",
        "device = \"cuda\" if torch.cuda.is_available() else \"cpu\"\n",
        "model = NeuralNet(extractors, device)\n"
      ]
    },
    {
      "cell_type": "code",
      "execution_count": null,
      "id": "0ed925a3",
      "metadata": {},
      "outputs": [],
      "source": [
        "learn = Learner(dls, model, metrics=accuracy, path=\".\").to_fp16()\n",
        "learn.lr_find()\n"
      ]
    },
    {
      "cell_type": "code",
      "execution_count": null,
      "id": "e5f77f79",
      "metadata": {},
      "outputs": [],
      "source": [
        "learn.fit_one_cycle(5, 1e-2)\n"
      ]
    },
    {
      "cell_type": "code",
      "execution_count": null,
      "id": "aa3853d4",
      "metadata": {},
      "outputs": [],
      "source": [
        "test_files = get_image_files(\"../input/dog-breed-identification/test\")\n",
        "test_dl = dls.test_dl(test_files, bs=16)\n"
      ]
    },
    {
      "cell_type": "code",
      "execution_count": null,
      "id": "653a9665",
      "metadata": {},
      "outputs": [],
      "source": [
        "preds, targs = learn.get_preds(dl=test_dl)\n"
      ]
    },
    {
      "cell_type": "code",
      "execution_count": null,
      "id": "fe0ad634",
      "metadata": {},
      "outputs": [],
      "source": [
        "#preds = torch.softmax(preds, dim=1)\n",
        "sub = pd.DataFrame({\"id\":test_files.map(lambda x:x.stem)})\n",
        "sub[list(dls.vocab)] = preds\n",
        "sub.to_csv(\"submission.csv\", index=False)\n"
      ]
    },
    {
      "cell_type": "code",
      "execution_count": null,
      "id": "61fbcd72",
      "metadata": {},
      "outputs": [],
      "source": [
        "sub\n"
      ]
    },
    {
      "cell_type": "code",
      "execution_count": null,
      "id": "5778dfff",
      "metadata": {},
      "outputs": [],
      "source": [
        " \n"
      ]
    }
  ],
  "metadata": {},
  "nbformat": 4,
  "nbformat_minor": 5
}