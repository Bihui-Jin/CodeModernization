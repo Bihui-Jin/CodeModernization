{
  "cells": [
    {
      "cell_type": "code",
      "execution_count": null,
      "id": "793aa5a6",
      "metadata": {},
      "outputs": [],
      "source": [
        "import pandas as pd\n",
        "from pathlib import Path"
      ]
    },
    {
      "cell_type": "code",
      "execution_count": null,
      "id": "d965e7d4",
      "metadata": {},
      "outputs": [],
      "source": [
        "# This Python 3 environment comes with many helpful analytics libraries installed\n",
        "# It is defined by the kaggle/python Docker image: https://github.com/kaggle/docker-python\n",
        "# For example, here's several helpful packages to load\n",
        "\n",
        "import numpy as np # linear algebra\n",
        "import pandas as pd # data processing, CSV file I/O (e.g. pd.read_csv)\n",
        "\n",
        "# Input data files are available in the read-only \"../input/\" directory\n",
        "# For example, running this (by clicking run or pressing Shift+Enter) will list all files under the input directory\n",
        "\n",
        "#import os\n",
        "#for dirname, _, filenames in os.walk('/kaggle/input'):\n",
        "#    for filename in filenames:\n",
        "#        print(os.path.join(dirname, filename))\n",
        "\n",
        "# You can write up to 5GB to the current directory (/kaggle/working/) that gets preserved as output when you create a version using \"Save & Run All\" \n",
        "# You can also write temporary files to /kaggle/temp/, but they won't be saved outside of the current session\n"
      ]
    },
    {
      "cell_type": "code",
      "execution_count": null,
      "id": "56684e53",
      "metadata": {},
      "outputs": [],
      "source": [
        "# Leitura dos arquivos CSV \n",
        "sample_submission = pd.read_csv('/kaggle/input/siim-isic-melanoma-classification/sample_submission.csv')\n",
        "test = pd.read_csv('/kaggle/input/siim-isic-melanoma-classification/test.csv')\n",
        "train = pd.read_csv('/kaggle/input/siim-isic-melanoma-classification/train.csv')\n"
      ]
    },
    {
      "cell_type": "code",
      "execution_count": null,
      "id": "93026041",
      "metadata": {},
      "outputs": [],
      "source": [
        "train.head()\n"
      ]
    },
    {
      "cell_type": "code",
      "execution_count": null,
      "id": "77e7d520",
      "metadata": {},
      "outputs": [],
      "source": [
        "train.tail()\n"
      ]
    },
    {
      "cell_type": "code",
      "execution_count": null,
      "id": "eed884ec",
      "metadata": {},
      "outputs": [],
      "source": [
        "train.describe(include='all')\n"
      ]
    },
    {
      "cell_type": "code",
      "execution_count": null,
      "id": "0fed8dcc",
      "metadata": {},
      "outputs": [],
      "source": [
        "test.describe(include='all')\n"
      ]
    },
    {
      "cell_type": "code",
      "execution_count": null,
      "id": "22180dcf",
      "metadata": {},
      "outputs": [],
      "source": [
        "cat_cols = ['patient_id', 'sex', 'anatom_site_general_challenge', 'diagnosis', 'benign_malignant']\n",
        "print('Contagens dos atributos categóricos do conjunto de treino')\n",
        "for col in cat_cols:\n",
        "    print('Contagem de valores da coluna {}'.format(col))\n",
        "    print(train[col].value_counts().head(20))\n",
        "    print('='*80)\n"
      ]
    },
    {
      "cell_type": "code",
      "execution_count": null,
      "id": "e7ec7a2a",
      "metadata": {},
      "outputs": [],
      "source": [
        "cat_cols = ['patient_id', 'sex', 'anatom_site_general_challenge']\n",
        "print('Contagens dos atributos categóricos do conjunto de teste')\n",
        "for col in cat_cols:\n",
        "    print('Contagem de valores da coluna {}'.format(col))\n",
        "    print(test[col].value_counts().head(20))\n",
        "    print('='*80)\n"
      ]
    },
    {
      "cell_type": "code",
      "execution_count": null,
      "id": "b1835015",
      "metadata": {},
      "outputs": [],
      "source": [
        "submission = sample_submission\n"
      ]
    },
    {
      "cell_type": "code",
      "execution_count": null,
      "id": "1f7065c7",
      "metadata": {},
      "outputs": [],
      "source": [
        "submission.to_csv('submission.csv', index=False)\n"
      ]
    },
    {
      "cell_type": "code",
      "execution_count": null,
      "id": "4d896998",
      "metadata": {},
      "outputs": [],
      "source": [
        "pd.read_csv('submission.csv')\n"
      ]
    },
    {
      "cell_type": "code",
      "execution_count": null,
      "id": "95569405",
      "metadata": {},
      "outputs": [],
      "source": [
        " \n"
      ]
    }
  ],
  "metadata": {},
  "nbformat": 4,
  "nbformat_minor": 5
}