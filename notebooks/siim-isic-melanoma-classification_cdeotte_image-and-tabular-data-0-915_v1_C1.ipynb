{
 "cells": [
  {
   "cell_type": "code",
   "execution_count": null,
   "id": "bbb353bb",
   "metadata": {},
   "outputs": [],
   "source": [
    "import pandas as pd\n",
    "from pathlib import Path"
   ]
  },
  {
   "cell_type": "code",
   "execution_count": null,
   "id": "dd8ca007",
   "metadata": {},
   "outputs": [],
   "source": [
    "import pandas as pd\n",
    "import matplotlib.pyplot as plt\n"
   ]
  },
  {
   "cell_type": "code",
   "execution_count": null,
   "id": "500d5065",
   "metadata": {},
   "outputs": [],
   "source": [
    "image_sub = pd.read_csv('../input/melanomapreds/submissionImage.csv')\n",
    "tabular_sub = pd.read_csv('../input/melanomapreds/submissionTabular.csv')\n",
    "tabular_sub.head()\n"
   ]
  },
  {
   "cell_type": "code",
   "execution_count": null,
   "id": "515da770",
   "metadata": {},
   "outputs": [],
   "source": [
    "sub = image_sub.copy()\n",
    "sub.target = 0.9 * image_sub.target.values + 0.1 * tabular_sub.target.values\n",
    "sub.to_csv('submission.csv',index=False)\n"
   ]
  },
  {
   "cell_type": "code",
   "execution_count": null,
   "id": "029fa26f",
   "metadata": {},
   "outputs": [],
   "source": [
    "plt.hist(sub.target,bins=100)\n",
    "plt.ylim((0,100))\n",
    "plt.show()\n"
   ]
  }
 ],
 "metadata": {},
 "nbformat": 4,
 "nbformat_minor": 5
}
