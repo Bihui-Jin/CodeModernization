{
 "cells": [
  {
   "cell_type": "code",
   "execution_count": null,
   "id": "b8937071",
   "metadata": {},
   "outputs": [],
   "source": [
    "import pandas as pd\n",
    "from pathlib import Path"
   ]
  },
  {
   "cell_type": "code",
   "execution_count": null,
   "id": "41fe516c",
   "metadata": {},
   "outputs": [],
   "source": [
    "import numpy as np # linear algebra\n",
    "import pandas as pd # data processing, CSV file I/O (e.g. pd.read_csv)\n",
    "import os\n",
    "for dirname, _, filenames in os.walk('/kaggle/input'):\n",
    "    for filename in filenames:\n",
    "        print(os.path.join(dirname, filename))\n",
    "from catboost import CatBoostClassifier\n"
   ]
  },
  {
   "cell_type": "code",
   "execution_count": null,
   "id": "c6fa373f",
   "metadata": {},
   "outputs": [],
   "source": [
    "train = pd.read_csv('/kaggle/input/spooky-author-identification/train.zip', usecols=['text', 'author'])\n",
    "test = pd.read_csv('/kaggle/input/spooky-author-identification/test.zip')\n"
   ]
  },
  {
   "cell_type": "code",
   "execution_count": null,
   "id": "452e7b87",
   "metadata": {},
   "outputs": [],
   "source": [
    "train.sample(10)\n"
   ]
  },
  {
   "cell_type": "code",
   "execution_count": null,
   "id": "d9626bc6",
   "metadata": {},
   "outputs": [],
   "source": [
    "from sklearn.model_selection import train_test_split\n",
    "X_train, X_test, y_train, y_test = train_test_split(train.drop(columns='author'), train['author'], test_size=0.25, stratify=train['author'])\n"
   ]
  },
  {
   "cell_type": "code",
   "execution_count": null,
   "id": "190c41b1",
   "metadata": {},
   "outputs": [],
   "source": [
    "X_train\n"
   ]
  },
  {
   "cell_type": "code",
   "execution_count": null,
   "id": "6a26dae2",
   "metadata": {},
   "outputs": [],
   "source": [
    "model = CatBoostClassifier(text_features=['text'], random_state=1234, auto_class_weights='Balanced', loss_function='MultiClass',\n",
    "                           task_type='GPU', devices=\"0:1\")\n"
   ]
  },
  {
   "cell_type": "code",
   "execution_count": null,
   "id": "e81e230d",
   "metadata": {},
   "outputs": [],
   "source": [
    "model.fit(X_train, y_train, eval_set=(X_test, y_test), early_stopping_rounds=25)\n"
   ]
  },
  {
   "cell_type": "code",
   "execution_count": null,
   "id": "a511420f",
   "metadata": {},
   "outputs": [],
   "source": [
    "print(model.predict_proba(X_test)[0:5])\n",
    "print(y_test[0:5])\n"
   ]
  },
  {
   "cell_type": "code",
   "execution_count": null,
   "id": "0826ff13",
   "metadata": {},
   "outputs": [],
   "source": [
    "preds = model.predict_proba(test.drop(columns='id'))\n",
    "preds_df = pd.DataFrame(preds, columns=['EAP','HPL','MWS'])\n",
    "preds_df = pd.concat(objs=[test['id'], preds_df], axis=\"columns\")\n"
   ]
  },
  {
   "cell_type": "code",
   "execution_count": null,
   "id": "77488b55",
   "metadata": {},
   "outputs": [],
   "source": [
    "preds_df.sample(5)\n"
   ]
  },
  {
   "cell_type": "code",
   "execution_count": null,
   "id": "39e83b18",
   "metadata": {},
   "outputs": [],
   "source": [
    "preds_df.to_csv(\"submission.csv\", index=False)\n"
   ]
  },
  {
   "cell_type": "code",
   "execution_count": null,
   "id": "97492433",
   "metadata": {},
   "outputs": [],
   "source": [
    "pd.read_csv('/kaggle/input/spooky-author-identification/sample_submission.zip').head()\n"
   ]
  }
 ],
 "metadata": {},
 "nbformat": 4,
 "nbformat_minor": 5
}
