{
  "cells": [
    {
      "cell_type": "code",
      "execution_count": null,
      "id": "053273ef",
      "metadata": {},
      "outputs": [],
      "source": [
        "import pandas as pd\n",
        "from pathlib import Path"
      ]
    },
    {
      "cell_type": "code",
      "execution_count": null,
      "id": "efb2bcb1",
      "metadata": {},
      "outputs": [],
      "source": [
        "import numpy as np # linear algebra\n",
        "import pandas as pd # data processing, CSV file I/O (e.g. pd.read_csv)\n",
        "import os\n",
        "for dirname, _, filenames in os.walk('/kaggle/input'):\n",
        "    for filename in filenames:\n",
        "        print(os.path.join(dirname, filename))\n"
      ]
    },
    {
      "cell_type": "code",
      "execution_count": null,
      "id": "0e179085",
      "metadata": {},
      "outputs": [],
      "source": [
        "# load data\n",
        "train_data = pd.read_csv('../input/leaf-classification/train.csv.zip', index_col ='id')\n",
        "test_data = pd.read_csv('../input/leaf-classification/test.csv.zip')\n"
      ]
    },
    {
      "cell_type": "code",
      "execution_count": null,
      "id": "a3b0f9ff",
      "metadata": {},
      "outputs": [],
      "source": [
        "test_ids = test_data.id\n",
        "test_data = test_data.drop(['id'], axis =1)\n"
      ]
    },
    {
      "cell_type": "code",
      "execution_count": null,
      "id": "d28e1694",
      "metadata": {},
      "outputs": [],
      "source": [
        "train_data.head()\n"
      ]
    },
    {
      "cell_type": "code",
      "execution_count": null,
      "id": "6103a6ff",
      "metadata": {},
      "outputs": [],
      "source": [
        "# taking care of missing values\n",
        "train_data.isnull().any().sum()\n"
      ]
    },
    {
      "cell_type": "code",
      "execution_count": null,
      "id": "99011dbb",
      "metadata": {},
      "outputs": [],
      "source": [
        "test_data.head()\n"
      ]
    },
    {
      "cell_type": "code",
      "execution_count": null,
      "id": "1101fe27",
      "metadata": {},
      "outputs": [],
      "source": [
        "test_data.isnull().any().sum()\n"
      ]
    },
    {
      "cell_type": "code",
      "execution_count": null,
      "id": "f994145c",
      "metadata": {},
      "outputs": [],
      "source": [
        "# encoding catagorical\n",
        "train_data.info()\n"
      ]
    },
    {
      "cell_type": "code",
      "execution_count": null,
      "id": "f6b993f7",
      "metadata": {},
      "outputs": [],
      "source": [
        "test_data.info()\n"
      ]
    },
    {
      "cell_type": "code",
      "execution_count": null,
      "id": "d60a4c18",
      "metadata": {},
      "outputs": [],
      "source": [
        "train_data.shape\n"
      ]
    },
    {
      "cell_type": "code",
      "execution_count": null,
      "id": "892159fb",
      "metadata": {},
      "outputs": [],
      "source": [
        "test_data.shape\n"
      ]
    },
    {
      "cell_type": "code",
      "execution_count": null,
      "id": "e0473e0a",
      "metadata": {},
      "outputs": [],
      "source": [
        "train_data['species'].nunique()\n"
      ]
    },
    {
      "cell_type": "code",
      "execution_count": null,
      "id": "bbcd8e06",
      "metadata": {},
      "outputs": [],
      "source": [
        "# IV and DV\n",
        "x = train_data.drop('species',axis=1)\n",
        "y = train_data['species']\n"
      ]
    },
    {
      "cell_type": "code",
      "execution_count": null,
      "id": "e6617269",
      "metadata": {},
      "outputs": [],
      "source": [
        "from sklearn.preprocessing import LabelEncoder\n",
        "encoder = LabelEncoder()\n",
        "y_fit = encoder.fit(train_data['species'])\n",
        "y_label = y_fit.transform(train_data['species']) \n",
        "classes = list(y_fit.classes_) \n",
        "classes\n"
      ]
    },
    {
      "cell_type": "code",
      "execution_count": null,
      "id": "ffcab7a0",
      "metadata": {},
      "outputs": [],
      "source": [
        "# splitting\n",
        "from sklearn.model_selection import  train_test_split\n",
        "x_train, x_test, y_train, y_test = train_test_split(x,y_label, test_size = 0.2, random_state =1)\n"
      ]
    },
    {
      "cell_type": "code",
      "execution_count": null,
      "id": "e8c697da",
      "metadata": {},
      "outputs": [],
      "source": [
        "from sklearn.ensemble import RandomForestClassifier\n",
        "classifier = RandomForestClassifier(n_estimators = 40)\n",
        "classifier.fit(x_train, y_train)\n"
      ]
    },
    {
      "cell_type": "code",
      "execution_count": null,
      "id": "678dd037",
      "metadata": {},
      "outputs": [],
      "source": [
        "from sklearn.metrics import classification_report\n",
        "predictions = classifier.predict(x_test)\n",
        "print (classification_report(y_test, predictions))\n"
      ]
    },
    {
      "cell_type": "code",
      "execution_count": null,
      "id": "edfdc543",
      "metadata": {},
      "outputs": [],
      "source": [
        "final_predictions = classifier.predict_proba(test_data)\n"
      ]
    },
    {
      "cell_type": "code",
      "execution_count": null,
      "id": "e46cd04e",
      "metadata": {},
      "outputs": [],
      "source": [
        "submission = pd.DataFrame(final_predictions, columns=classes)\n",
        "submission.insert(0, 'id', test_ids)\n",
        "submission.reset_index()\n"
      ]
    },
    {
      "cell_type": "code",
      "execution_count": null,
      "id": "6d8fcf7c",
      "metadata": {},
      "outputs": [],
      "source": [
        "submission.to_csv('submission.csv', index = False)\n"
      ]
    }
  ],
  "metadata": {},
  "nbformat": 4,
  "nbformat_minor": 5
}