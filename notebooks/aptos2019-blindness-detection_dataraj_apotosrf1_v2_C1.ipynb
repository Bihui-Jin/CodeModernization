{
 "cells": [
  {
   "cell_type": "code",
   "execution_count": null,
   "id": "8c710117",
   "metadata": {},
   "outputs": [],
   "source": [
    "import pandas as pd\n",
    "from pathlib import Path"
   ]
  },
  {
   "cell_type": "code",
   "execution_count": null,
   "id": "c67049f7",
   "metadata": {},
   "outputs": [],
   "source": [
    "# This Python 3 environment comes with many helpful analytics libraries installed\n",
    "# It is defined by the kaggle/python docker image: https://github.com/kaggle/docker-python\n",
    "# For example, here's several helpful packages to load in \n",
    "\n",
    "import numpy as np # linear algebra\n",
    "import pandas as pd # data processing, CSV file I/O (e.g. pd.read_csv)\n",
    "\n",
    "# Input data files are available in the \"../input/\" directory.\n",
    "# For example, running this (by clicking run or pressing Shift+Enter) will list all files under the input directory\n",
    "\n",
    "import os\n"
   ]
  },
  {
   "cell_type": "code",
   "execution_count": null,
   "id": "23f38afc",
   "metadata": {},
   "outputs": [],
   "source": [
    "import gc\n",
    "import cv2\n",
    "from PIL import Image\n",
    "import matplotlib.pyplot as plt\n",
    "\n",
    "###########################################################################\n",
    "\n",
    "from tqdm import tqdm\n",
    "\n",
    "#########################################################################\n",
    "\n",
    "import lightgbm  as lgb\n",
    "import catboost as cbt\n",
    "import xgboost as xgb\n",
    "import sklearn.ensemble as ensem\n",
    "import sklearn.linear_model as lm\n",
    "import sklearn.svm as svm \n",
    "import sklearn.neighbors as neibs\n",
    "import sklearn.naive_bayes  as nb\n",
    "import sklearn.discriminant_analysis as danl \n",
    "\n",
    "##########################################################\n",
    "\n",
    "import sklearn.metrics as metrics\n",
    "from sklearn.model_selection import train_test_split\n",
    "from keras.preprocessing.image import ImageDataGenerator\n",
    "\n",
    "##########################################################\n",
    "\n",
    "import sklearn.decomposition as decomp\n",
    "import sklearn.manifold as mnfld\n"
   ]
  },
  {
   "cell_type": "code",
   "execution_count": null,
   "id": "ec7c349a",
   "metadata": {},
   "outputs": [],
   "source": [
    "train = pd.read_csv('../input/train.csv')\n",
    "test = pd.read_csv('../input/test.csv')\n",
    "imgsize = 14\n",
    "imgsize2 = 196\n",
    "images = []\n",
    "paths = train.id_code\n",
    "for path in paths :\n",
    "    img = cv2.imread(f'../input/train_images/{path}.png')\n",
    "    img = cv2.cvtColor(img, cv2.COLOR_BGR2GRAY)\n",
    "    img = cv2.resize(img,(imgsize,imgsize),interpolation=cv2.INTER_CUBIC)\n",
    "    img = (img.reshape((imgsize2,))/255).tolist()\n",
    "    images.append(img)\n"
   ]
  },
  {
   "cell_type": "code",
   "execution_count": null,
   "id": "991af0c6",
   "metadata": {},
   "outputs": [],
   "source": [
    "trainxdf =  pd.DataFrame(images)\n"
   ]
  },
  {
   "cell_type": "code",
   "execution_count": null,
   "id": "93f860bc",
   "metadata": {},
   "outputs": [],
   "source": [
    "#kernel : \"linear\" | \"poly\" | \"rbf\" | \"sigmoid\"\n",
    "#kernel  | \"cosine\" | \"precomputed\"\n",
    "kpcatrain = decomp.KernelPCA(n_components=8,\n",
    "                            kernel=\"sigmoid\",\n",
    "                            gamma=None, \n",
    "                            degree=4, \n",
    "                            coef0=1,\n",
    "                            kernel_params=None,\n",
    "                            alpha=1.0, \n",
    "                            fit_inverse_transform=False, \n",
    "                            eigen_solver='auto',\n",
    "                            tol=0,\n",
    "                            max_iter=None,\n",
    "                            remove_zero_eig=False,\n",
    "                            random_state=0\n",
    "                          )\n",
    "\n",
    "colskpca = [\"kpca1\",\"kpca2\",\"kpca3\",\"kpca4\",\"kpca5\",\n",
    "           \"kpca6\",\"kpca7\",\"kpca8\"]\n",
    "kpcatraindf =  pd.DataFrame(kpcatrain.fit_transform(trainxdf),\n",
    "                            columns=colskpca)\n",
    "\n",
    "trainxdf =  pd.concat([trainxdf,kpcatraindf], axis=1)\n"
   ]
  },
  {
   "cell_type": "code",
   "execution_count": null,
   "id": "a5417419",
   "metadata": {},
   "outputs": [],
   "source": [
    "rf = ensem.RandomForestClassifier(n_estimators=2000,\n",
    "                                  max_depth=200,\n",
    "                                  random_state=100)\n",
    "rf.fit(trainxdf,train.diagnosis)\n"
   ]
  },
  {
   "cell_type": "code",
   "execution_count": null,
   "id": "4ce9e6d1",
   "metadata": {},
   "outputs": [],
   "source": [
    "imgsize = 14\n",
    "imgsize2 = 196\n",
    "imagest = []\n",
    "paths = test.id_code\n",
    "for path in paths :\n",
    "    img = cv2.imread(f'../input/test_images/{path}.png')\n",
    "    img = cv2.cvtColor(img, cv2.COLOR_BGR2GRAY)\n",
    "    img = cv2.resize(img,(imgsize,imgsize),interpolation=cv2.INTER_CUBIC)\n",
    "    img = (img.reshape((imgsize2,))/255).tolist()\n",
    "    imagest.append(img)\n"
   ]
  },
  {
   "cell_type": "code",
   "execution_count": null,
   "id": "85da630c",
   "metadata": {},
   "outputs": [],
   "source": [
    "testxdf =  pd.DataFrame(imagest)\n"
   ]
  },
  {
   "cell_type": "code",
   "execution_count": null,
   "id": "ff994627",
   "metadata": {},
   "outputs": [],
   "source": [
    "testxdf.head()\n"
   ]
  },
  {
   "cell_type": "code",
   "execution_count": null,
   "id": "b0a76dbd",
   "metadata": {},
   "outputs": [],
   "source": [
    "########################################################################\n",
    "\n",
    "kpcatest = decomp.KernelPCA(n_components=8,\n",
    "                            kernel=\"sigmoid\",\n",
    "                            gamma=None, \n",
    "                            degree=4, \n",
    "                            coef0=1,\n",
    "                            kernel_params=None,\n",
    "                            alpha=0.1, \n",
    "                            fit_inverse_transform=False, \n",
    "                            eigen_solver='auto',\n",
    "                            tol=0,\n",
    "                            max_iter=None,\n",
    "                            remove_zero_eig=False,\n",
    "                            random_state=0\n",
    "                          )\n",
    "\n",
    "colskpca = [\"kpca1\",\"kpca2\",\"kpca3\",\"kpca4\",\"kpca5\",\n",
    "           \"kpca6\",\"kpca7\",\"kpca8\"]\n",
    "kpcatestdf =  pd.DataFrame(kpcatest.fit_transform(testxdf),\n",
    "                           columns=colskpca)\n",
    "testxdf =  pd.concat([testxdf,kpcatestdf], axis=1)\n"
   ]
  },
  {
   "cell_type": "code",
   "execution_count": null,
   "id": "bf420d32",
   "metadata": {},
   "outputs": [],
   "source": [
    "predVal = rf.predict(testxdf)\n"
   ]
  },
  {
   "cell_type": "code",
   "execution_count": null,
   "id": "05c4325a",
   "metadata": {},
   "outputs": [],
   "source": [
    "test['diagnosis'] = predVal\n",
    "test.to_csv(\"submission.csv\",index=False, header=True)\n"
   ]
  },
  {
   "cell_type": "code",
   "execution_count": null,
   "id": "414a68a1",
   "metadata": {},
   "outputs": [],
   "source": [
    " \n"
   ]
  }
 ],
 "metadata": {},
 "nbformat": 4,
 "nbformat_minor": 5
}
