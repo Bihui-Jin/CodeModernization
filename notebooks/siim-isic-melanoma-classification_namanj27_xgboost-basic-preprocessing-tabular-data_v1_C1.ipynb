{
 "cells": [
  {
   "cell_type": "code",
   "execution_count": null,
   "id": "24e9617c",
   "metadata": {},
   "outputs": [],
   "source": [
    "import pandas as pd\n",
    "from pathlib import Path"
   ]
  },
  {
   "cell_type": "code",
   "execution_count": null,
   "id": "5a4306dc",
   "metadata": {},
   "outputs": [],
   "source": [
    "import numpy as np\n",
    "import pandas as pd\n",
    "import seaborn as sns\n",
    "import matplotlib.pyplot as plt\n",
    "import os\n"
   ]
  },
  {
   "cell_type": "code",
   "execution_count": null,
   "id": "051af75f",
   "metadata": {},
   "outputs": [],
   "source": [
    "sns.set(style='darkgrid')\n"
   ]
  },
  {
   "cell_type": "code",
   "execution_count": null,
   "id": "6bbe8006",
   "metadata": {},
   "outputs": [],
   "source": [
    "train = pd.read_csv('../input/siim-isic-melanoma-classification/train.csv')\n",
    "test = pd.read_csv('../input/siim-isic-melanoma-classification/test.csv')\n",
    "sample = pd.read_csv('../input/siim-isic-melanoma-classification/sample_submission.csv')\n"
   ]
  },
  {
   "cell_type": "code",
   "execution_count": null,
   "id": "08895ff5",
   "metadata": {},
   "outputs": [],
   "source": [
    "train['sex'].fillna('unknown', inplace=True)\n",
    "test['sex'].fillna('unknown', inplace=True)\n",
    "\n",
    "train['age_approx'].fillna(train['age_approx'].mode().values[0], inplace=True)\n",
    "test['age_approx'].fillna(test['age_approx'].mode().values[0], inplace=True)\n",
    "\n",
    "train['anatom_site_general_challenge'].fillna('unknown', inplace=True)\n",
    "test['anatom_site_general_challenge'].fillna('unknown', inplace=True)\n"
   ]
  },
  {
   "cell_type": "code",
   "execution_count": null,
   "id": "365f198e",
   "metadata": {},
   "outputs": [],
   "source": [
    "from sklearn.preprocessing import LabelEncoder\n",
    "enc = LabelEncoder()\n",
    "\n",
    "train['sex_enc'] = enc.fit_transform(train.sex.astype('str'))\n",
    "test['sex_enc'] = enc.transform(test.sex.astype('str'))\n",
    "\n",
    "train['age_enc'] = enc.fit_transform(train.age_approx.astype('str'))\n",
    "test['age_enc'] = enc.transform(test.age_approx.astype('str'))\n",
    "\n",
    "train['anatom_enc'] = enc.fit_transform(train.anatom_site_general_challenge.astype('str'))\n",
    "test['anatom_enc'] = enc.transform(test.anatom_site_general_challenge.astype('str'))\n"
   ]
  },
  {
   "cell_type": "code",
   "execution_count": null,
   "id": "632067b7",
   "metadata": {},
   "outputs": [],
   "source": [
    "train.head(5)\n"
   ]
  },
  {
   "cell_type": "code",
   "execution_count": null,
   "id": "177c8944",
   "metadata": {},
   "outputs": [],
   "source": [
    "from sklearn.model_selection import cross_val_score\n",
    "from sklearn.model_selection import StratifiedKFold\n",
    "from xgboost import XGBClassifier, XGBRegressor\n",
    "from sklearn.metrics import roc_auc_score\n"
   ]
  },
  {
   "cell_type": "code",
   "execution_count": null,
   "id": "ee83b7e6",
   "metadata": {},
   "outputs": [],
   "source": [
    "train.columns\n"
   ]
  },
  {
   "cell_type": "code",
   "execution_count": null,
   "id": "0efefc82",
   "metadata": {},
   "outputs": [],
   "source": [
    "features = [\n",
    "            'sex_enc',\n",
    "            'age_enc',\n",
    "            'anatom_enc'\n",
    "]\n"
   ]
  },
  {
   "cell_type": "code",
   "execution_count": null,
   "id": "1a9f76c2",
   "metadata": {},
   "outputs": [],
   "source": [
    "X = train[features]\n",
    "y = train['target']\n",
    "\n",
    "x_test = test[features]\n"
   ]
  },
  {
   "cell_type": "code",
   "execution_count": null,
   "id": "05d42979",
   "metadata": {},
   "outputs": [],
   "source": [
    "model = XGBRegressor(base_score=0.5, booster=None, colsample_bylevel=1,\n",
    "                    importance_type='gain', interaction_constraints=None,\n",
    "                     min_child_weight=1, missing=None, monotone_constraints=None,\n",
    "                     n_estimators=700, n_jobs=-1, nthread=-1, num_parallel_tree=1\n",
    "                    )\n",
    "\n",
    "kfold = StratifiedKFold(n_splits=10, random_state=42, shuffle=True)\n",
    "cv_results = cross_val_score(model, X, y, cv=kfold, scoring='roc_auc', verbose=3)\n",
    "cv_results.mean()\n"
   ]
  },
  {
   "cell_type": "code",
   "execution_count": null,
   "id": "abc7018c",
   "metadata": {},
   "outputs": [],
   "source": [
    "xgb =XGBRegressor(base_score=0.5, booster=None, colsample_bylevel=1,\n",
    "                    importance_type='gain', interaction_constraints=None,\n",
    "                     min_child_weight=1, missing=None, monotone_constraints=None,\n",
    "                     n_estimators=700, n_jobs=-1, nthread=-1, num_parallel_tree=1\n",
    "                    )\n",
    "xgb.fit(X, y)\n",
    "pred = xgb.predict(x_test)\n"
   ]
  },
  {
   "cell_type": "code",
   "execution_count": null,
   "id": "d7a634f4",
   "metadata": {},
   "outputs": [],
   "source": [
    "sub = pd.DataFrame({'image_name':test.image_name.values,\n",
    "                    'target':pred})\n",
    "sub.to_csv('submission.csv',index = False)\n"
   ]
  },
  {
   "cell_type": "code",
   "execution_count": null,
   "id": "ff5d8c57",
   "metadata": {},
   "outputs": [],
   "source": [
    "sub.head()\n"
   ]
  },
  {
   "cell_type": "code",
   "execution_count": null,
   "id": "af0dd7b3",
   "metadata": {},
   "outputs": [],
   "source": [
    " \n"
   ]
  }
 ],
 "metadata": {},
 "nbformat": 4,
 "nbformat_minor": 5
}
