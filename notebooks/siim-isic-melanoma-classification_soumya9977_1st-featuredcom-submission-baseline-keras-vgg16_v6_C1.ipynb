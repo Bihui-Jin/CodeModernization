{
 "cells": [
  {
   "cell_type": "code",
   "execution_count": null,
   "id": "c3a967a6",
   "metadata": {},
   "outputs": [],
   "source": [
    "import pandas as pd\n",
    "from pathlib import Path"
   ]
  },
  {
   "cell_type": "code",
   "execution_count": null,
   "id": "fb4a8c38",
   "metadata": {},
   "outputs": [],
   "source": [
    "!pip install imbalanced-learn\n"
   ]
  },
  {
   "cell_type": "code",
   "execution_count": null,
   "id": "7374bf64",
   "metadata": {},
   "outputs": [],
   "source": [
    "import warnings\n",
    "warnings.filterwarnings('ignore')\n",
    "import os\n",
    "from tqdm import tqdm\n",
    "import pandas as pd\n",
    "import cv2\n",
    "import numpy as np\n",
    "from tensorflow import keras\n",
    "import matplotlib.pyplot as plt\n",
    "import tensorflow as tf\n",
    "from keras.utils.data_utils import Sequence\n",
    "from imblearn.over_sampling import RandomOverSampler\n",
    "from imblearn.keras import balanced_batch_generator\n",
    "from keras.preprocessing.image import ImageDataGenerator\n",
    "%matplotlib inline\n"
   ]
  },
  {
   "cell_type": "code",
   "execution_count": null,
   "id": "1b450fc9",
   "metadata": {},
   "outputs": [],
   "source": [
    "train = pd.read_csv('../input/siim-isic-melanoma-classification/train.csv')\n",
    "train.head()\n"
   ]
  },
  {
   "cell_type": "code",
   "execution_count": null,
   "id": "79421e00",
   "metadata": {},
   "outputs": [],
   "source": [
    "test = pd.read_csv('../input/siim-isic-melanoma-classification/test.csv')\n",
    "test.head()\n"
   ]
  },
  {
   "cell_type": "code",
   "execution_count": null,
   "id": "70f5acc8",
   "metadata": {},
   "outputs": [],
   "source": [
    "# malignant = test[test['benign_malignant']=='malignant']\n",
    "# malignant_vals = malignant['image_name'].values\n",
    "# type(malignant_vals)\n",
    "# len(malignant_vals)\n"
   ]
  },
  {
   "cell_type": "code",
   "execution_count": null,
   "id": "fe76334f",
   "metadata": {},
   "outputs": [],
   "source": [
    " \n"
   ]
  },
  {
   "cell_type": "code",
   "execution_count": null,
   "id": "a21f2137",
   "metadata": {},
   "outputs": [],
   "source": [
    " \n"
   ]
  },
  {
   "cell_type": "code",
   "execution_count": null,
   "id": "5db614af",
   "metadata": {},
   "outputs": [],
   "source": [
    " \n"
   ]
  },
  {
   "cell_type": "code",
   "execution_count": null,
   "id": "c2526937",
   "metadata": {},
   "outputs": [],
   "source": [
    " \n"
   ]
  },
  {
   "cell_type": "code",
   "execution_count": null,
   "id": "de41accd",
   "metadata": {},
   "outputs": [],
   "source": [
    "malignant = train[train['benign_malignant']=='malignant']\n",
    "malignant_vals = malignant['image_name'].values\n",
    "type(malignant_vals)\n",
    "len(malignant_vals)\n"
   ]
  },
  {
   "cell_type": "code",
   "execution_count": null,
   "id": "6c425e8f",
   "metadata": {},
   "outputs": [],
   "source": [
    "malignant_labels = malignant['target'].values\n",
    "malignant_labels_rand = [np.random.choice(malignant_labels) for i in range(584)]\n"
   ]
  },
  {
   "cell_type": "code",
   "execution_count": null,
   "id": "dcd5636d",
   "metadata": {},
   "outputs": [],
   "source": [
    "malignant_list = list(malignant_vals)\n",
    "type(malignant_list)\n",
    "len(malignant_list)\n",
    "# malignant_list\n",
    "#malignant_rand = [np.random.choice(malignant_vals + '.jpg') for i in range(584)]\n"
   ]
  },
  {
   "cell_type": "code",
   "execution_count": null,
   "id": "9ab746f2",
   "metadata": {},
   "outputs": [],
   "source": [
    " \n"
   ]
  },
  {
   "cell_type": "code",
   "execution_count": null,
   "id": "90834fb9",
   "metadata": {},
   "outputs": [],
   "source": [
    "# DIR = '../input/siim-isic-melanoma-classification/jpeg/train'\n",
    "# benign_images = []\n",
    "\n",
    "# for i in malignant_rand:\n",
    "#     image1 = plt.imread(os.path.join(DIR,i))\n",
    "#     image1 = cv2.resize(image1,(224,224))\n",
    "#     benign_images.append(image1)\n",
    "# #     np.append(k_be,image1)\n"
   ]
  },
  {
   "cell_type": "code",
   "execution_count": null,
   "id": "d04c663c",
   "metadata": {},
   "outputs": [],
   "source": [
    " \n"
   ]
  },
  {
   "cell_type": "code",
   "execution_count": null,
   "id": "cbf2fa94",
   "metadata": {},
   "outputs": [],
   "source": [
    " \n"
   ]
  },
  {
   "cell_type": "code",
   "execution_count": null,
   "id": "143f7178",
   "metadata": {},
   "outputs": [],
   "source": [
    " \n"
   ]
  },
  {
   "cell_type": "code",
   "execution_count": null,
   "id": "1d6bba70",
   "metadata": {},
   "outputs": [],
   "source": [
    " \n"
   ]
  },
  {
   "cell_type": "code",
   "execution_count": null,
   "id": "466ca8d1",
   "metadata": {},
   "outputs": [],
   "source": [
    " \n"
   ]
  },
  {
   "cell_type": "code",
   "execution_count": null,
   "id": "0b3a4316",
   "metadata": {},
   "outputs": [],
   "source": [
    "benign = train[train['benign_malignant']=='benign']\n",
    "benign_vals = benign['image_name'].values\n",
    "type(benign_vals)\n",
    "len(benign_vals)\n"
   ]
  },
  {
   "cell_type": "code",
   "execution_count": null,
   "id": "18a1f472",
   "metadata": {},
   "outputs": [],
   "source": [
    "benign_labels = benign['target'].values\n",
    "benign_labels_rand = [np.random.choice(benign_labels) for i in range(584)]\n"
   ]
  },
  {
   "cell_type": "code",
   "execution_count": null,
   "id": "f57dc3d8",
   "metadata": {},
   "outputs": [],
   "source": [
    "benign_list = list(benign_vals)\n",
    "type(benign_list)\n",
    "# benign_rand = [np.random.choice(benign_vals + '.jpg') for i in range(584)]\n"
   ]
  },
  {
   "cell_type": "code",
   "execution_count": null,
   "id": "f68ce2cc",
   "metadata": {},
   "outputs": [],
   "source": [
    "benign_list_1 = benign_list[0:584]\n",
    "len(benign_list_1)\n"
   ]
  },
  {
   "cell_type": "code",
   "execution_count": null,
   "id": "7eb748d5",
   "metadata": {},
   "outputs": [],
   "source": [
    "mal_bin_cmbo_img_name_list = malignant_list + benign_list_1\n",
    "mal_bin_cmbo_label_list = malignant_labels_rand + benign_labels_rand\n",
    "print(len(mal_bin_cmbo_label_list))\n",
    "print(len(mal_bin_cmbo_img_name_list))\n"
   ]
  },
  {
   "cell_type": "code",
   "execution_count": null,
   "id": "8deb682d",
   "metadata": {},
   "outputs": [],
   "source": [
    "# SEED = 42\n",
    "# from sklearn.model_selection import train_test_split\n",
    "# x_train,x_val,y_train,y_val = train_test_split(mal_bin_cmbo_img_name_list,mal_bin_cmbo_label_list,test_size = 0.2,random_state = SEED)\n"
   ]
  },
  {
   "cell_type": "code",
   "execution_count": null,
   "id": "0c345a7b",
   "metadata": {},
   "outputs": [],
   "source": [
    "import gc\n",
    "gc.collect()\n"
   ]
  },
  {
   "cell_type": "code",
   "execution_count": null,
   "id": "ababeac3",
   "metadata": {},
   "outputs": [],
   "source": [
    "DIR = '../input/siim-isic-melanoma-classification/jpeg/train'\n",
    "img_data = []\n",
    "jpeg = '.jpg'\n",
    "img_size = 224\n",
    "\n",
    "for i in tqdm(mal_bin_cmbo_img_name_list):\n",
    "    img = plt.imread(os.path.join(DIR,i)+jpeg)\n",
    "    img = cv2.resize(img,(img_size,img_size))\n",
    "    img_data.append(img)\n"
   ]
  },
  {
   "cell_type": "code",
   "execution_count": null,
   "id": "d206b80a",
   "metadata": {},
   "outputs": [],
   "source": [
    "train_imgs = np.asarray(img_data)\n",
    "print(train_imgs.shape)\n",
    "train_labels =  np.asarray(mal_bin_cmbo_label_list)\n",
    "# test_imgs = np.asarray(test_imgs)\n",
    "# test_labels =  np.asarray(test_labels)\n"
   ]
  },
  {
   "cell_type": "code",
   "execution_count": null,
   "id": "49ac6e97",
   "metadata": {},
   "outputs": [],
   "source": [
    "BATCH_SIZE = 64\n",
    "SEED = 42\n",
    "EPOCHS = 100\n",
    "x, y, z = 224, 224, 3\n",
    "inputShape = (x, y, z)\n",
    "NUM_CLASSES = 1\n"
   ]
  },
  {
   "cell_type": "code",
   "execution_count": null,
   "id": "1cc6e7d4",
   "metadata": {},
   "outputs": [],
   "source": [
    "from sklearn.model_selection import train_test_split\n",
    "X_train, X_val, Y_train, Y_val = train_test_split(\n",
    "    train_imgs, \n",
    "    train_labels,\n",
    "    test_size = 0.3, \n",
    "    random_state = SEED\n",
    ")\n"
   ]
  },
  {
   "cell_type": "code",
   "execution_count": null,
   "id": "9c5dbe29",
   "metadata": {},
   "outputs": [],
   "source": [
    "type(X_val)\n"
   ]
  },
  {
   "cell_type": "code",
   "execution_count": null,
   "id": "da065f3f",
   "metadata": {},
   "outputs": [],
   "source": [
    "train_datagen = ImageDataGenerator( rescale = 1./255,\n",
    "                                    rotation_range=90,\n",
    "                                    width_shift_range=0.15,\n",
    "                                    height_shift_range=0.15,\n",
    "                                    horizontal_flip = True,\n",
    "                                    vertical_flip = True,\n",
    "                                    zoom_range=(0.9,1),\n",
    "                                    fill_mode= 'nearest',\n",
    "                                    brightness_range=(0.8, 1.2),\n",
    "                                  )\n",
    "\n",
    "train_generator = train_datagen.flow(X_train, Y_train, batch_size = BATCH_SIZE)\n",
    "val_generator = train_datagen.flow(X_val, Y_val, batch_size = BATCH_SIZE, shuffle = True)\n"
   ]
  },
  {
   "cell_type": "code",
   "execution_count": null,
   "id": "8e04c38d",
   "metadata": {},
   "outputs": [],
   "source": [
    "import matplotlib.pyplot as plt\n",
    "from glob import glob\n",
    "from skimage.io import imread\n",
    "from skimage.color import rgb2gray\n",
    "from sklearn.model_selection import train_test_split\n",
    "import keras\n",
    "import numpy as np\n",
    "\n",
    "from keras.models import Sequential\n",
    "from keras.layers import (  Dense,\n",
    "                            Flatten,\n",
    "                            LeakyReLU\n",
    "                         )\n",
    "from keras.applications import  VGG19 \n",
    "from keras.optimizers import Adam\n",
    "from keras.utils.np_utils import to_categorical\n",
    "from skimage.transform import resize\n",
    "from tqdm import tqdm\n",
    "from keras.preprocessing.image import ImageDataGenerator\n"
   ]
  },
  {
   "cell_type": "code",
   "execution_count": null,
   "id": "f86e38a5",
   "metadata": {},
   "outputs": [],
   "source": [
    "from keras.callbacks import ModelCheckpoint\n",
    "filepath = \"../working/saved_models-improvement-{epoch:02d}-{val_acc:.2f}.hdf5\"\n",
    "checkpoint = ModelCheckpoint(filepath,monitor = 'val_acc',verbose = 1,save_best_only = True,mode = 'max')\n",
    "callbacks_list = [checkpoint]\n"
   ]
  },
  {
   "cell_type": "code",
   "execution_count": null,
   "id": "250adbf6",
   "metadata": {},
   "outputs": [],
   "source": [
    "model = Sequential()\n",
    "model.add(VGG19(include_top=False, weights='imagenet', input_shape= inputShape))\n",
    "model.add(Flatten())\n",
    "model.add(Dense(32))\n",
    "model.add(LeakyReLU(0.001))\n",
    "model.add(Dense(16))\n",
    "model.add(LeakyReLU(0.001))\n",
    "model.add(Dense(1, activation='sigmoid'))\n",
    "model.layers[0].trainable = False\n",
    "\n",
    "model.compile(loss=keras.losses.binary_crossentropy, optimizer='adam', metrics=['acc'])\n",
    "\n",
    "History = model.fit_generator(train_generator,\n",
    "    steps_per_epoch = len(X_train) // BATCH_SIZE,\n",
    "    epochs = EPOCHS, \n",
    "    validation_data = val_generator,\n",
    "    validation_steps = len(X_val) // BATCH_SIZE,\n",
    "    callbacks = callbacks_list\n",
    ")\n",
    "\n",
    "\n",
    "model.save('melanoma-classification-model.h5')\n"
   ]
  },
  {
   "cell_type": "code",
   "execution_count": null,
   "id": "e76240e2",
   "metadata": {},
   "outputs": [],
   "source": [
    "# model.save('melanoma-classification-model.h5')\n"
   ]
  },
  {
   "cell_type": "code",
   "execution_count": null,
   "id": "3ac90c1d",
   "metadata": {},
   "outputs": [],
   "source": [
    "def hist(History):\n",
    "    fig, ax = plt.subplots(1, 2, figsize=(20, 5))\n",
    "\n",
    "    ax[0].plot(History.history['loss'])\n",
    "    ax[0].plot(History.history['val_loss'])\n",
    "    ax[0].legend(['Training loss', 'Validation Loss'],fontsize=18)\n",
    "    ax[0].set_xlabel('Epochs ',fontsize=16)\n",
    "    ax[0].set_ylabel('Loss',fontsize=16)\n",
    "    ax[0].set_title('Training loss x Validation Loss',fontsize=16)\n",
    "\n",
    "\n",
    "    ax[1].plot(History.history['acc'])\n",
    "    ax[1].plot(History.history['val_acc'])\n",
    "    ax[1].legend(['Training Accuracy', 'Validation Accuracy'],fontsize=18)\n",
    "    ax[1].set_xlabel('Epochs ',fontsize=16)\n",
    "    ax[1].set_ylabel('Accuracy',fontsize=16)\n",
    "    ax[1].set_title('Training Accuracy x Validation Accuracy',fontsize=16)\n"
   ]
  },
  {
   "cell_type": "code",
   "execution_count": null,
   "id": "4c7c7a56",
   "metadata": {},
   "outputs": [],
   "source": [
    "def plot_any(arr, title = ''):\n",
    "    plt.figure(figsize = (15, 25))\n",
    "    for i in range(len(arr)):\n",
    "        plt.subplot(1,len(arr),i + 1)\n",
    "        plt.title(title)\n",
    "        plt.imshow(arr[i], cmap = 'gray');\n"
   ]
  },
  {
   "cell_type": "code",
   "execution_count": null,
   "id": "f2b37dd7",
   "metadata": {},
   "outputs": [],
   "source": [
    "loss, accu = model.evaluate(X_val, Y_val)\n",
    "print(\"%s: %.2f%%\" % ('Accuracy...', accu))\n",
    "print(\"%s: %.2f\" % ('loss.......', loss))\n"
   ]
  },
  {
   "cell_type": "code",
   "execution_count": null,
   "id": "79422e12",
   "metadata": {},
   "outputs": [],
   "source": [
    "hist(History)\n"
   ]
  },
  {
   "cell_type": "code",
   "execution_count": null,
   "id": "09331e57",
   "metadata": {},
   "outputs": [],
   "source": [
    "from keras.models import load_model\n",
    "previous_model = load_model('../working/melanoma-classification-model.h5')\n"
   ]
  },
  {
   "cell_type": "code",
   "execution_count": null,
   "id": "a57834f1",
   "metadata": {},
   "outputs": [],
   "source": [
    "testimg_dir = test['image_name'].values\n",
    "testimg_dir = list(testimg_dir)\n",
    "# testimg_dir\n"
   ]
  },
  {
   "cell_type": "code",
   "execution_count": null,
   "id": "f5a3171f",
   "metadata": {},
   "outputs": [],
   "source": [
    "submission=pd.read_csv('/kaggle/input/siim-isic-melanoma-classification/sample_submission.csv')\n",
    "submission.head()\n"
   ]
  },
  {
   "cell_type": "code",
   "execution_count": null,
   "id": "5ccc54c1",
   "metadata": {},
   "outputs": [],
   "source": [
    "DIR1 = '../input/siim-isic-melanoma-classification/jpeg/test'\n",
    "target=[]\n",
    "for i in tqdm(testimg_dir):\n",
    "    img=cv2.imread(os.path.join(DIR1,i)+jpeg)\n",
    "    img = cv2.resize(img, (224,224))\n",
    "    img = cv2.cvtColor(img, cv2.COLOR_BGR2RGB)\n",
    "    img = img.astype(np.float32)/255.\n",
    "    img=np.reshape(img,(1,224,224,3))\n",
    "    prediction=previous_model.predict(img)\n",
    "    target.append(prediction[0][0])\n",
    "\n",
    "submission['target']=target\n"
   ]
  },
  {
   "cell_type": "code",
   "execution_count": null,
   "id": "9366e9d8",
   "metadata": {},
   "outputs": [],
   "source": [
    "submission.to_csv('submission.csv', index=False)\n",
    "submission.head()\n"
   ]
  },
  {
   "cell_type": "code",
   "execution_count": null,
   "id": "96a55c4d",
   "metadata": {},
   "outputs": [],
   "source": [
    " \n"
   ]
  },
  {
   "cell_type": "code",
   "execution_count": null,
   "id": "de6a16de",
   "metadata": {},
   "outputs": [],
   "source": [
    " \n"
   ]
  },
  {
   "cell_type": "code",
   "execution_count": null,
   "id": "9c3f47b8",
   "metadata": {},
   "outputs": [],
   "source": [
    " \n"
   ]
  },
  {
   "cell_type": "code",
   "execution_count": null,
   "id": "3e5725f4",
   "metadata": {},
   "outputs": [],
   "source": [
    " \n"
   ]
  },
  {
   "cell_type": "code",
   "execution_count": null,
   "id": "20f475ae",
   "metadata": {},
   "outputs": [],
   "source": [
    "# !pip install Keras\n"
   ]
  },
  {
   "cell_type": "code",
   "execution_count": null,
   "id": "50d1139e",
   "metadata": {},
   "outputs": [],
   "source": [
    "# from keras.layers import Input,Dense,Flatten\n",
    "# from keras.models import Model\n",
    "# from keras.applications.vgg16 import VGG16\n",
    "# from keras.applications.vgg16 import preprocess_input\n",
    "# from keras.preprocessing import image\n",
    "# from keras.preprocessing.image import ImageDataGenerator\n",
    "# from keras.models import Sequential\n",
    "# from glob import glob\n"
   ]
  },
  {
   "cell_type": "code",
   "execution_count": null,
   "id": "eebfef83",
   "metadata": {},
   "outputs": [],
   "source": [
    " \n"
   ]
  },
  {
   "cell_type": "code",
   "execution_count": null,
   "id": "bb088d99",
   "metadata": {},
   "outputs": [],
   "source": [
    "# vgg = VGG16(input_shape = inputShape,weights = 'imagenet',include_top = False)\n"
   ]
  },
  {
   "cell_type": "code",
   "execution_count": null,
   "id": "732c9792",
   "metadata": {},
   "outputs": [],
   "source": [
    "# base_model = tf.keras.applications.MobileNetV2(input_shape=IMG_SHAPE,\n",
    "#                                                include_top=False,\n",
    "#                                                weights='imagenet')\n"
   ]
  },
  {
   "cell_type": "code",
   "execution_count": null,
   "id": "369fc989",
   "metadata": {},
   "outputs": [],
   "source": [
    "# from skimage.io import imread\n",
    "# from skimage.color import rgb2gray\n",
    "# from skimage.transform import resize\n",
    "\n",
    "# train_imgs = []\n",
    "# train_labels = []\n",
    "# test_imgs  = []\n",
    "# test_labels = []\n",
    "\n",
    "# x, y, z = 224, 224, 3\n",
    "\n",
    "# #train\n",
    "\n",
    "# for i in malignant_rand:\n",
    "#     img_resize = imread(os.path.join(DIR,i))\n",
    "#     img_resize = resize(img_resize, (x, y, z))\n",
    "\n",
    "#     train_imgs.append(img_resize)\n",
    "# #     train_labels.append(klass)\n",
    "        \n",
    "# #test\n",
    "# # for klass, folder in enumerate(tqdm(test_path)):\n",
    "# #     for img in glob(folder + '/*'):\n",
    "        \n",
    "# #         img_resize = imread(img)\n",
    "# #         img_resize = resize(img_resize, (x, y, z))\n",
    "\n",
    "# #         test_imgs.append(img_resize)\n",
    "# #         test_labels.append(klass)\n"
   ]
  },
  {
   "cell_type": "code",
   "execution_count": null,
   "id": "0a56b27a",
   "metadata": {},
   "outputs": [],
   "source": [
    "# train_imgs[0].shape\n"
   ]
  },
  {
   "cell_type": "code",
   "execution_count": null,
   "id": "96bd2a63",
   "metadata": {},
   "outputs": [],
   "source": [
    "# train_imgs = np.asarray(train_imgs)\n"
   ]
  },
  {
   "cell_type": "code",
   "execution_count": null,
   "id": "74a73a96",
   "metadata": {},
   "outputs": [],
   "source": [
    "# train_imgs.shape\n"
   ]
  },
  {
   "cell_type": "code",
   "execution_count": null,
   "id": "02b67d1f",
   "metadata": {},
   "outputs": [],
   "source": [
    "#I can take two list of benign_rand and malignent_rand and concat them then do the for loop for reading the images and store into a new list\n",
    "#then convert that list into a nparray\n",
    "# then follow 'https://www.kaggle.com/xwalker/simple-cnn-vgg19-keras'\n",
    "# NUM_CLASSES = 1\n",
    "# EPOCHS = 15\n",
    "# BATCH_SIZE = 64\n",
    "# inputShape = (x, y, z)\n",
    "# X_train, X_test, y_train, y_test = train_test_split(\n",
    "#     train_imgs, \n",
    "#     train_labels,\n",
    "#     test_size = 0.3, \n",
    "# )\n",
    "# train_datagen = ImageDataGenerator( rescale = 1./255,\n",
    "#                                     rotation_range=90,\n",
    "#                                     width_shift_range=0.15,\n",
    "#                                     height_shift_range=0.15,\n",
    "#                                     horizontal_flip = True,\n",
    "#                                     vertical_flip = True,\n",
    "#                                     zoom_range=(0.9,1),\n",
    "#                                     fill_mode= 'nearest',\n",
    "#                                     brightness_range=(0.8, 1.2),\n",
    "#                                   )\n",
    "\n",
    "# train_generator = train_datagen.flow(X_train, y_train, batch_size = BATCH_SIZE)\n",
    "# val_generator = train_datagen.flow(X_test, y_test, batch_size = BATCH_SIZE, shuffle = True)\n"
   ]
  },
  {
   "cell_type": "code",
   "execution_count": null,
   "id": "293aa582",
   "metadata": {},
   "outputs": [],
   "source": [
    "# concated_be_mal = benign_rand + malignant_rand\n",
    "# concated_be_mal_1 = [np.random.choice(concated_be_mal)]\n"
   ]
  },
  {
   "cell_type": "code",
   "execution_count": null,
   "id": "1b6df5d8",
   "metadata": {},
   "outputs": [],
   "source": [
    "# plt.imshow(benign_images[9])\n"
   ]
  },
  {
   "cell_type": "code",
   "execution_count": null,
   "id": "96beb751",
   "metadata": {},
   "outputs": [],
   "source": [
    " \n"
   ]
  },
  {
   "cell_type": "code",
   "execution_count": null,
   "id": "e822efc7",
   "metadata": {},
   "outputs": [],
   "source": [
    "# for i in benign_images:\n",
    "#     benign_images_1 = np.asarray(i)\n",
    "    \n"
   ]
  },
  {
   "cell_type": "code",
   "execution_count": null,
   "id": "dc8eb992",
   "metadata": {},
   "outputs": [],
   "source": [
    "# plt.imshow(benign_images_1[9])\n"
   ]
  },
  {
   "cell_type": "code",
   "execution_count": null,
   "id": "2f844edd",
   "metadata": {},
   "outputs": [],
   "source": [
    "# benign_images1[0]\n"
   ]
  },
  {
   "cell_type": "code",
   "execution_count": null,
   "id": "1dbbbdf0",
   "metadata": {},
   "outputs": [],
   "source": [
    " \n"
   ]
  },
  {
   "cell_type": "code",
   "execution_count": null,
   "id": "ded5eb9c",
   "metadata": {},
   "outputs": [],
   "source": [
    "# from keras.preprocessing.image import image to array\n"
   ]
  },
  {
   "cell_type": "code",
   "execution_count": null,
   "id": "3c4a76f3",
   "metadata": {},
   "outputs": [],
   "source": [
    "# from tqdm import tqdm\n",
    "\n",
    "# DIR = '../input/siim-isic-melanoma-classification/jpeg/train'\n",
    "# jpeg = '.jpg'\n",
    "# labels = []\n",
    "# images = []\n",
    "\n",
    "\n",
    "# directory = []\n",
    "# for i in train['image_name']:\n",
    "#     directory.append(os.path.join(DIR,i)+jpeg)\n",
    "\n",
    "# for i in range(train.shape[0]):\n",
    "#     labels.append(train['target'])\n",
    "    \n",
    "# for i in tqdm(range(0,train.shape[0],32)):\n",
    "#     imag = plt.imread(directory[i])\n",
    "#     imag = imag/255.0\n",
    "#     imag = cv2.resize(imag,(256,256))\n",
    "#     images.append(imag)\n"
   ]
  },
  {
   "cell_type": "code",
   "execution_count": null,
   "id": "74282745",
   "metadata": {},
   "outputs": [],
   "source": [
    "# img_data = np.reshape(images,(images.shape[0],img_size,img_size,3))\n",
    "# label_data = np.array(labels)\n"
   ]
  },
  {
   "cell_type": "code",
   "execution_count": null,
   "id": "8a21c79a",
   "metadata": {},
   "outputs": [],
   "source": [
    "# plt.imshow(images[64])\n"
   ]
  },
  {
   "cell_type": "code",
   "execution_count": null,
   "id": "d0ff53fb",
   "metadata": {},
   "outputs": [],
   "source": [
    "# 1036*32\n"
   ]
  },
  {
   "cell_type": "code",
   "execution_count": null,
   "id": "676dfe28",
   "metadata": {},
   "outputs": [],
   "source": [
    " \n"
   ]
  },
  {
   "cell_type": "code",
   "execution_count": null,
   "id": "f09078f3",
   "metadata": {},
   "outputs": [],
   "source": [
    " \n"
   ]
  },
  {
   "cell_type": "code",
   "execution_count": null,
   "id": "2e9fc52c",
   "metadata": {},
   "outputs": [],
   "source": [
    " \n"
   ]
  },
  {
   "cell_type": "code",
   "execution_count": null,
   "id": "e930e94e",
   "metadata": {},
   "outputs": [],
   "source": [
    " \n"
   ]
  },
  {
   "cell_type": "code",
   "execution_count": null,
   "id": "3fff704d",
   "metadata": {},
   "outputs": [],
   "source": [
    "# directory[9]\n"
   ]
  },
  {
   "cell_type": "code",
   "execution_count": null,
   "id": "b0c8bf56",
   "metadata": {},
   "outputs": [],
   "source": [
    "# im = cv2.imread(directory[9])\n",
    "# im = cv2.resize(im,(256,256))\n",
    "# im = cv2.cvtColor(im, cv2.COLOR_BGR2RGB)\n",
    "# plt.imshow(im)\n",
    "# print(im.shape)\n"
   ]
  },
  {
   "cell_type": "code",
   "execution_count": null,
   "id": "a0bf87e9",
   "metadata": {},
   "outputs": [],
   "source": [
    "# import gc\n",
    "# gc.collect()\n"
   ]
  },
  {
   "cell_type": "code",
   "execution_count": null,
   "id": "8dc316c9",
   "metadata": {},
   "outputs": [],
   "source": [
    "# class BalancedDataGenerator(Sequence):\n",
    "#     \"\"\"ImageDataGenerator + RandomOversampling\"\"\"\n",
    "#     def __init__(self, x, y, datagen, batch_size=32):\n",
    "#         self.datagen = datagen\n",
    "#         self.batch_size = batch_size\n",
    "#         self._shape = x.shape        \n",
    "#         datagen.fit(x)\n",
    "#         self.gen, self.steps_per_epoch = balanced_batch_generator(x.reshape(x.shape[0], -1), y, sampler=RandomOverSampler(), batch_size=self.batch_size, keep_sparse=True)\n",
    "\n",
    "#     def __len__(self):\n",
    "#         return self._shape[0] // self.batch_size\n",
    "\n",
    "#     def __getitem__(self, idx):\n",
    "#         x_batch, y_batch = self.gen.__next__()\n",
    "#         x_batch = x_batch.reshape(-1, *self._shape[1:])\n",
    "#         return self.datagen.flow(x_batch, y_batch, batch_size=self.batch_size).next()\n"
   ]
  },
  {
   "cell_type": "code",
   "execution_count": null,
   "id": "a64c6b8f",
   "metadata": {},
   "outputs": [],
   "source": [
    "# from keras.preprocessing.Image import ImageDataGenerator\n",
    "# datagen = ImageDataGenerator() # define your data augmentation\n",
    "# bgen = BalancedDataGenerator(x, y, datagen, batch_size=32)\n",
    "# steps_per_epoch = balanced_gen.steps_per_epoch\n"
   ]
  },
  {
   "cell_type": "code",
   "execution_count": null,
   "id": "b7bc02a0",
   "metadata": {},
   "outputs": [],
   "source": [
    "# import gc\n",
    "# gc.collect()\n"
   ]
  }
 ],
 "metadata": {},
 "nbformat": 4,
 "nbformat_minor": 5
}
