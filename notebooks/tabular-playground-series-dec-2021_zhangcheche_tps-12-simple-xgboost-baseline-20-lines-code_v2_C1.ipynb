{
 "cells": [
  {
   "cell_type": "code",
   "execution_count": null,
   "id": "c9a5b71c",
   "metadata": {},
   "outputs": [],
   "source": [
    "import pandas as pd\n",
    "from pathlib import Path"
   ]
  },
  {
   "cell_type": "code",
   "execution_count": null,
   "id": "fc3e3efa",
   "metadata": {},
   "outputs": [],
   "source": [
    "# This Python 3 environment comes with many helpful analytics libraries installed\n",
    "# It is defined by the kaggle/python Docker image: https://github.com/kaggle/docker-python\n",
    "# For example, here's several helpful packages to load\n",
    "\n",
    "import numpy as np # linear algebra\n",
    "import pandas as pd # data processing, CSV file I/O (e.g. pd.read_csv)\n",
    "\n",
    "# Input data files are available in the read-only \"../input/\" directory\n",
    "# For example, running this (by clicking run or pressing Shift+Enter) will list all files under the input directory\n",
    "\n",
    "import os\n",
    "for dirname, _, filenames in os.walk('/kaggle/input'):\n",
    "    for filename in filenames:\n",
    "        print(os.path.join(dirname, filename))\n",
    "\n",
    "# You can write up to 20GB to the current directory (/kaggle/working/) that gets preserved as output when you create a version using \"Save & Run All\" \n",
    "# You can also write temporary files to /kaggle/temp/, but they won't be saved outside of the current session\n"
   ]
  },
  {
   "cell_type": "code",
   "execution_count": null,
   "id": "94b0b44b",
   "metadata": {},
   "outputs": [],
   "source": [
    "from sklearn.model_selection import train_test_split\n",
    "from sklearn.metrics import accuracy_score\n",
    "from xgboost import XGBClassifier\n"
   ]
  },
  {
   "cell_type": "code",
   "execution_count": null,
   "id": "93378f08",
   "metadata": {},
   "outputs": [],
   "source": [
    "import warnings\n",
    "warnings.filterwarnings('ignore')\n"
   ]
  },
  {
   "cell_type": "code",
   "execution_count": null,
   "id": "b526d6d1",
   "metadata": {},
   "outputs": [],
   "source": [
    "train = pd.read_csv('../input/tabular-playground-series-dec-2021/train.csv')\n",
    "test = pd.read_csv('../input/tabular-playground-series-dec-2021/test.csv')\n",
    "\n",
    "x_data = train.drop(['Id', 'Cover_Type'], axis=1)\n",
    "x_test = test.drop('Id', axis=1)\n",
    "\n",
    "y_data = train.Cover_Type\n"
   ]
  },
  {
   "cell_type": "code",
   "execution_count": null,
   "id": "05665fff",
   "metadata": {},
   "outputs": [],
   "source": [
    "x_data['mean'] = x_data.mean(axis=1)\n",
    "x_data['std'] = x_data.std(axis=1)\n",
    "x_data['max'] = x_data.max(axis=1)\n",
    "x_data['min'] = x_data.min(axis=1)\n",
    "x_data['f1'] = x_data.iloc[0] * x_data.iloc[1] / (x_data.iloc[2] + 1)\n"
   ]
  },
  {
   "cell_type": "code",
   "execution_count": null,
   "id": "b85ea53f",
   "metadata": {},
   "outputs": [],
   "source": [
    "x_test['mean'] = x_test.mean(axis=1)\n",
    "x_test['std'] = x_test.std(axis=1)\n",
    "x_test['max'] = x_test.max(axis=1)\n",
    "x_test['min'] = x_test.min(axis=1)\n",
    "x_test['f1'] = x_test.iloc[0] * x_test.iloc[1] / (x_test.iloc[2] + 1)\n"
   ]
  },
  {
   "cell_type": "code",
   "execution_count": null,
   "id": "4ff321e5",
   "metadata": {},
   "outputs": [],
   "source": [
    "x_train, x_val, y_train, y_val = train_test_split(x_data, y_data)\n"
   ]
  },
  {
   "cell_type": "code",
   "execution_count": null,
   "id": "a9c5e55b",
   "metadata": {},
   "outputs": [],
   "source": [
    "model = XGBClassifier(tree_method='gpu_hist', predictor='gpu_predictor')\n",
    "model.fit(x_data, y_data)\n",
    "y_pred = model.predict(x_val)\n",
    "\n",
    "acc = accuracy_score(y_val, y_pred)\n",
    "print(f'validation acc {acc}')\n"
   ]
  },
  {
   "cell_type": "code",
   "execution_count": null,
   "id": "6199baf0",
   "metadata": {},
   "outputs": [],
   "source": [
    "y_test = model.predict(x_test)\n"
   ]
  },
  {
   "cell_type": "code",
   "execution_count": null,
   "id": "9d6f8df7",
   "metadata": {},
   "outputs": [],
   "source": [
    "submission = pd.read_csv('../input/tabular-playground-series-dec-2021/sample_submission.csv')\n",
    "submission.Cover_Type = y_test\n",
    "submission.to_csv('submission.csv', index=False)\n"
   ]
  },
  {
   "cell_type": "code",
   "execution_count": null,
   "id": "7ba67a53",
   "metadata": {},
   "outputs": [],
   "source": [
    " \n"
   ]
  }
 ],
 "metadata": {},
 "nbformat": 4,
 "nbformat_minor": 5
}
