{
 "cells": [
  {
   "cell_type": "code",
   "execution_count": null,
   "id": "82bced30",
   "metadata": {},
   "outputs": [],
   "source": [
    "import pandas as pd\n",
    "from pathlib import Path"
   ]
  },
  {
   "cell_type": "code",
   "execution_count": null,
   "id": "f0686c6e",
   "metadata": {},
   "outputs": [],
   "source": [
    "import numpy as np # linear algebra\n",
    "import pandas as pd # data processing, CSV file I/O (e.g. pd.read_csv)\n",
    "import matplotlib.pyplot as plt\n",
    "\n",
    "import keras\n",
    "from keras.models import Sequential\n",
    "from keras.layers import Dense, Dropout, Flatten\n",
    "from keras.layers import Conv2D, MaxPooling2D\n",
    "from keras.utils import to_categorical\n",
    "from keras.preprocessing import image\n",
    "\n",
    "from sklearn.model_selection import train_test_split\n",
    "\n",
    "from tqdm import tqdm\n",
    "\n",
    "import os as os\n",
    "os.getcwd()\n"
   ]
  },
  {
   "cell_type": "code",
   "execution_count": null,
   "id": "85f0fbab",
   "metadata": {},
   "outputs": [],
   "source": [
    "train = pd.read_csv('../input/train.csv')\n",
    "\n",
    "train.head()\n"
   ]
  },
  {
   "cell_type": "code",
   "execution_count": null,
   "id": "12a38060",
   "metadata": {},
   "outputs": [],
   "source": [
    "train_image = []\n",
    "for i in tqdm(range(train.shape[0])):\n",
    "    img = image.load_img('../input/train/train/'+ train['id'][i], target_size=(32, 32, 1), \n",
    "                         grayscale=False)\n",
    "    img = image.img_to_array(img)\n",
    "    img = img/255\n",
    "    train_image.append(img)\n",
    "X = np.array(train_image)\n"
   ]
  },
  {
   "cell_type": "code",
   "execution_count": null,
   "id": "7b7dda98",
   "metadata": {},
   "outputs": [],
   "source": [
    "X.shape\n"
   ]
  },
  {
   "cell_type": "code",
   "execution_count": null,
   "id": "7f3db45e",
   "metadata": {},
   "outputs": [],
   "source": [
    "y=train['has_cactus']\n",
    "y = to_categorical(y)\n"
   ]
  },
  {
   "cell_type": "code",
   "execution_count": null,
   "id": "eba83d45",
   "metadata": {},
   "outputs": [],
   "source": [
    "X_train, X_test, y_train, y_test = train_test_split(X, y, random_state = 42,\n",
    "                                                   test_size=.67)\n"
   ]
  },
  {
   "cell_type": "code",
   "execution_count": null,
   "id": "475c8ffc",
   "metadata": {},
   "outputs": [],
   "source": [
    "print(X_train.shape)\n",
    "print(X_test.shape)\n",
    "print(y_train.shape)\n",
    "print(y_test.shape)\n"
   ]
  },
  {
   "cell_type": "code",
   "execution_count": null,
   "id": "685b2cb2",
   "metadata": {},
   "outputs": [],
   "source": [
    "nn1 = Sequential()\n",
    "nn1.add(Conv2D(32, kernel_size=(3, 3), activation='relu', \n",
    "               input_shape=(32,32,3)))\n",
    "nn1.add(Conv2D(64, (3,3), activation = 'relu'))\n",
    "nn1.add(MaxPooling2D(pool_size=(2,2)))\n",
    "nn1.add(Dropout(0.25))\n",
    "nn1.add(Flatten())\n",
    "nn1.add(Dense(128, activation='relu'))\n",
    "nn1.add(Dropout(0.5))\n",
    "nn1.add(Dense(2, activation='softmax'))\n"
   ]
  },
  {
   "cell_type": "code",
   "execution_count": null,
   "id": "d29186ea",
   "metadata": {},
   "outputs": [],
   "source": [
    "nn1.compile(loss='categorical_crossentropy',\n",
    "            optimizer = 'Adam', metrics = ['accuracy'])\n"
   ]
  },
  {
   "cell_type": "code",
   "execution_count": null,
   "id": "5d5e25ba",
   "metadata": {},
   "outputs": [],
   "source": [
    "nn1.fit(X_train, y_train, epochs=10, \n",
    "        validation_data=(X_test, y_test))\n"
   ]
  },
  {
   "cell_type": "code",
   "execution_count": null,
   "id": "c22589a6",
   "metadata": {},
   "outputs": [],
   "source": [
    "nn1_score = nn1.evaluate(X_test, y_test, batch_size=128)\n"
   ]
  },
  {
   "cell_type": "code",
   "execution_count": null,
   "id": "553a97ad",
   "metadata": {},
   "outputs": [],
   "source": [
    "print('Loss ----------------- Accuracy')\n",
    "print(nn1_score)\n"
   ]
  },
  {
   "cell_type": "code",
   "execution_count": null,
   "id": "bd56b929",
   "metadata": {},
   "outputs": [],
   "source": [
    "from sklearn.metrics import classification_report, confusion_matrix\n",
    "from keras.utils import np_utils\n",
    "\n",
    "nn1_pred = nn1.predict(X_test)\n",
    "\n",
    "nn1_pred_as_class = nn1_pred.argmax(axis=-1)\n",
    "y_test_as_class = y_test.argmax(axis=-1)\n",
    "\n",
    "print(classification_report(y_test_as_class, nn1_pred_as_class))\n"
   ]
  },
  {
   "cell_type": "code",
   "execution_count": null,
   "id": "6811e797",
   "metadata": {},
   "outputs": [],
   "source": [
    "import glob\n",
    "from PIL import Image\n",
    "folder = glob.glob('../input/test/test/*.jpg')\n",
    "#folder\n"
   ]
  },
  {
   "cell_type": "code",
   "execution_count": null,
   "id": "d56c51a4",
   "metadata": {},
   "outputs": [],
   "source": [
    "Z = np.array([np.array(Image.open(img)) for img in folder])\n",
    "Z.shape\n"
   ]
  },
  {
   "cell_type": "code",
   "execution_count": null,
   "id": "92b5cfd2",
   "metadata": {},
   "outputs": [],
   "source": [
    "sub = nn1.predict_proba(Z)\n"
   ]
  },
  {
   "cell_type": "code",
   "execution_count": null,
   "id": "5d00c133",
   "metadata": {},
   "outputs": [],
   "source": [
    "sub_df = pd.DataFrame(sub, columns = ['no_cactus','has_cactus'])\n"
   ]
  },
  {
   "cell_type": "code",
   "execution_count": null,
   "id": "555654ea",
   "metadata": {},
   "outputs": [],
   "source": [
    "sub_df.head()\n"
   ]
  },
  {
   "cell_type": "code",
   "execution_count": null,
   "id": "bbb3eac4",
   "metadata": {},
   "outputs": [],
   "source": [
    "img_names = os.listdir('../input/test/test/')\n",
    "\n",
    "sub_df['id'] = img_names\n"
   ]
  },
  {
   "cell_type": "code",
   "execution_count": null,
   "id": "d8be6b6a",
   "metadata": {},
   "outputs": [],
   "source": [
    "del sub_df['no_cactus']\n"
   ]
  },
  {
   "cell_type": "code",
   "execution_count": null,
   "id": "b23936a0",
   "metadata": {},
   "outputs": [],
   "source": [
    "sub_df = sub_df[['id', 'has_cactus']]\n",
    "sub_df.head()\n"
   ]
  },
  {
   "cell_type": "code",
   "execution_count": null,
   "id": "48865702",
   "metadata": {},
   "outputs": [],
   "source": [
    "sub_df.to_csv('sub_1.csv', index=False)\n"
   ]
  }
 ],
 "metadata": {},
 "nbformat": 4,
 "nbformat_minor": 5
}
