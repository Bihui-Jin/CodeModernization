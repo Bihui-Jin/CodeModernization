{
 "cells": [
  {
   "cell_type": "code",
   "execution_count": null,
   "id": "fd093a00",
   "metadata": {},
   "outputs": [],
   "source": [
    "import pandas as pd\n",
    "from pathlib import Path"
   ]
  },
  {
   "cell_type": "code",
   "execution_count": null,
   "id": "77e73f8a",
   "metadata": {},
   "outputs": [],
   "source": [
    "# Initial Python environment setup...\n",
    "import numpy as np # linear algebra\n",
    "import pandas as pd # CSV file I/O (e.g. pd.read_csv)\n",
    "import os # reading the input files we have access to\n",
    "import matplotlib.pyplot as plt\n",
    "import seaborn as sns\n",
    "import time\n",
    "\n",
    "for dirname, _, filenames in os.walk('/kaggle/input'):\n",
    "    for filename in filenames:\n",
    "        print(os.path.join(dirname, filename))\n"
   ]
  },
  {
   "cell_type": "code",
   "execution_count": null,
   "id": "b64d1d7a",
   "metadata": {},
   "outputs": [],
   "source": [
    "train_df =  pd.read_csv('../input/train.csv', nrows = 10_000_000)\n",
    "train_df.head()\n"
   ]
  },
  {
   "cell_type": "code",
   "execution_count": null,
   "id": "4a1750aa",
   "metadata": {},
   "outputs": [],
   "source": [
    "train_df.shape\n"
   ]
  },
  {
   "cell_type": "code",
   "execution_count": null,
   "id": "38c35180",
   "metadata": {},
   "outputs": [],
   "source": [
    "train_df.info()\n"
   ]
  },
  {
   "cell_type": "code",
   "execution_count": null,
   "id": "936e3dff",
   "metadata": {},
   "outputs": [],
   "source": [
    "test_data=pd.read_csv('../input/test.csv')\n",
    "test_data.head()\n"
   ]
  },
  {
   "cell_type": "code",
   "execution_count": null,
   "id": "8e55d87a",
   "metadata": {},
   "outputs": [],
   "source": [
    "test_data.info()\n"
   ]
  },
  {
   "cell_type": "code",
   "execution_count": null,
   "id": "4f0fd8c5",
   "metadata": {},
   "outputs": [],
   "source": [
    "train_df.isna().sum()\n"
   ]
  },
  {
   "cell_type": "code",
   "execution_count": null,
   "id": "483d573d",
   "metadata": {},
   "outputs": [],
   "source": [
    "# Given a dataframe, add two new features 'abs_diff_longitude' and\n",
    "# 'abs_diff_latitude' reprensenting the \"Manhattan vector\" from\n",
    "# the pickup location to the dropoff location.\n",
    "def add_travel_vector_features(df):\n",
    "    df['abs_diff_longitude'] = (df.dropoff_longitude - df.pickup_longitude).abs()\n",
    "    df['abs_diff_latitude'] = (df.dropoff_latitude - df.pickup_latitude).abs()\n",
    "\n",
    "add_travel_vector_features(train_df)\n",
    "add_travel_vector_features(test_data)\n"
   ]
  },
  {
   "cell_type": "code",
   "execution_count": null,
   "id": "3c4f6e73",
   "metadata": {},
   "outputs": [],
   "source": [
    "print('Old size: %d' % len(train_df))\n",
    "train_df = train_df.dropna(how = 'any', axis = 'rows')\n",
    "print('New size: %d' % len(train_df))\n"
   ]
  },
  {
   "cell_type": "code",
   "execution_count": null,
   "id": "1497af95",
   "metadata": {},
   "outputs": [],
   "source": [
    "plot = train_df.iloc[:2000].plot.scatter('abs_diff_longitude', 'abs_diff_latitude')\n"
   ]
  },
  {
   "cell_type": "code",
   "execution_count": null,
   "id": "641bb2b5",
   "metadata": {},
   "outputs": [],
   "source": [
    "print('Old size: %d' % len(train_df))\n",
    "train_df = train_df[(train_df.abs_diff_longitude < 5.0) & (train_df.abs_diff_latitude < 5.0)]\n",
    "print('New size: %d' % len(train_df))\n"
   ]
  },
  {
   "cell_type": "code",
   "execution_count": null,
   "id": "e384c946",
   "metadata": {},
   "outputs": [],
   "source": [
    "ls1=list(train_df['pickup_datetime'])\n",
    "for i in range(len(ls1)):\n",
    "    ls1[i]=ls1[i][11:-7:]\n",
    "train_df['pickuptime']=ls1    \n",
    "\n",
    "\n",
    "\n",
    "ls1=list(test_data['pickup_datetime'])\n",
    "for i in range(len(ls1)):\n",
    "    ls1[i]=ls1[i][11:-7:]\n",
    "test_data['pickuptime']=ls1   \n"
   ]
  },
  {
   "cell_type": "code",
   "execution_count": null,
   "id": "e572d992",
   "metadata": {},
   "outputs": [],
   "source": [
    "train_df.head()\n"
   ]
  },
  {
   "cell_type": "code",
   "execution_count": null,
   "id": "95e4705a",
   "metadata": {},
   "outputs": [],
   "source": [
    "test_data.head()\n"
   ]
  },
  {
   "cell_type": "code",
   "execution_count": null,
   "id": "9b31e693",
   "metadata": {},
   "outputs": [],
   "source": [
    "ls1=list(train_df['pickup_datetime'])\n",
    "for i in range(len(ls1)):\n",
    "    ls1[i]=ls1[i][:-4:]\n",
    "    ls1[i]=pd.Timestamp(ls1[i])\n",
    "    ls1[i]=ls1[i].weekday()\n",
    "train_df['Weekday']=ls1\n",
    "\n",
    "\n",
    "ls1=list(test_data['pickup_datetime'])\n",
    "for i in range(len(ls1)):\n",
    "    ls1[i]=ls1[i][:-4:]\n",
    "    ls1[i]=pd.Timestamp(ls1[i])\n",
    "    ls1[i]=ls1[i].weekday()\n",
    "test_data['Weekday']=ls1\n"
   ]
  },
  {
   "cell_type": "code",
   "execution_count": null,
   "id": "a76523ca",
   "metadata": {},
   "outputs": [],
   "source": [
    "train_df.head()\n"
   ]
  },
  {
   "cell_type": "code",
   "execution_count": null,
   "id": "6df6f90f",
   "metadata": {},
   "outputs": [],
   "source": [
    "test_data.head()\n"
   ]
  },
  {
   "cell_type": "code",
   "execution_count": null,
   "id": "4afbfa03",
   "metadata": {},
   "outputs": [],
   "source": [
    "train_df.drop('pickup_datetime',inplace=True,axis=1)\n",
    "test_data.drop('pickup_datetime',inplace=True,axis=1)\n"
   ]
  },
  {
   "cell_type": "code",
   "execution_count": null,
   "id": "0d6d9dc4",
   "metadata": {},
   "outputs": [],
   "source": [
    "train_df['Weekday'].replace(to_replace=[i for i in range(0,7)],\n",
    "                            value=['Monday','Tuesday','Wednesday','Thursday','Friday','Saturday','Sunday'],\n",
    "                              inplace=True)\n",
    "test_data['Weekday'].replace(to_replace=[i for i in range(0,7)],\n",
    "                              value=['Monday','Tuesday','Wednesday','Thursday','Friday','Saturday','Sunday'],\n",
    "                              inplace=True)\n"
   ]
  },
  {
   "cell_type": "code",
   "execution_count": null,
   "id": "cc6cd207",
   "metadata": {},
   "outputs": [],
   "source": [
    "train_one_hot=pd.get_dummies(train_df['Weekday'])\n",
    "test_one_hot=pd.get_dummies(test_data['Weekday'])\n",
    "train_df=pd.concat([train_df,train_one_hot],axis=1)\n",
    "test_data=pd.concat([test_data,test_one_hot],axis=1)\n"
   ]
  },
  {
   "cell_type": "code",
   "execution_count": null,
   "id": "0547e29c",
   "metadata": {},
   "outputs": [],
   "source": [
    "train_df.drop('Weekday',axis=1,inplace=True)\n",
    "test_data.drop('Weekday',axis=1,inplace=True)\n"
   ]
  },
  {
   "cell_type": "code",
   "execution_count": null,
   "id": "3cec6ad3",
   "metadata": {},
   "outputs": [],
   "source": [
    "ls1=list(train_df['pickuptime'])\n",
    "for i in range(len(ls1)):\n",
    "    z=ls1[i].split(':')\n",
    "    ls1[i]=int(z[0])*100+int(z[1])\n",
    "train_df['pickuptime']=ls1\n",
    "\n",
    "\n",
    "ls1=list(test_data['pickuptime'])\n",
    "for i in range(len(ls1)):\n",
    "    z=ls1[i].split(':')\n",
    "    ls1[i]=int(z[0])*100+int(z[1])\n",
    "test_data['pickuptime']=ls1\n"
   ]
  },
  {
   "cell_type": "code",
   "execution_count": null,
   "id": "2fa0b0a0",
   "metadata": {},
   "outputs": [],
   "source": [
    "train_df.head()\n"
   ]
  },
  {
   "cell_type": "code",
   "execution_count": null,
   "id": "7a5201e2",
   "metadata": {},
   "outputs": [],
   "source": [
    "R = 6373.0\n",
    "lat1 =np.asarray(np.radians(train_df['pickup_latitude']))\n",
    "lon1 = np.asarray(np.radians(train_df['pickup_longitude']))\n",
    "lat2 = np.asarray(np.radians(train_df['dropoff_latitude']))\n",
    "lon2 = np.asarray(np.radians(train_df['dropoff_longitude']))\n",
    "\n",
    "dlon = lon2 - lon1\n",
    "dlat = lat2 - lat1\n",
    "ls1=[] \n",
    "a = np.sin(dlat/2)**2 + np.cos(lat1) * np.cos(lat2) * np.sin(dlon/ 2)**2\n",
    "c = 2 * np.arctan2(np.sqrt(a), np.sqrt(1 - a))\n",
    "distance = R * c\n",
    "\n",
    "    \n",
    "train_df['Distance']=np.asarray(distance)*0.621\n",
    "\n",
    "\n",
    "\n",
    "lat1 =np.asarray(np.radians(test_data['pickup_latitude']))\n",
    "lon1 = np.asarray(np.radians(test_data['pickup_longitude']))\n",
    "lat2 = np.asarray(np.radians(test_data['dropoff_latitude']))\n",
    "lon2 = np.asarray(np.radians(test_data['dropoff_longitude']))\n",
    "\n",
    "dlon = lon2 - lon1\n",
    "dlat = lat2 - lat1\n",
    " \n",
    "a = np.sin(dlat / 2)**2 + np.cos(lat1) * np.cos(lat2) * np.sin(dlon/ 2)**2\n",
    "c = 2 * np.arctan2(np.sqrt(a), np.sqrt(1 - a))\n",
    "distance = R * c\n",
    "test_data['Distance']=np.asarray(distance)*0.621\n"
   ]
  },
  {
   "cell_type": "code",
   "execution_count": null,
   "id": "4ac6842c",
   "metadata": {},
   "outputs": [],
   "source": [
    "test_data.head()\n"
   ]
  },
  {
   "cell_type": "code",
   "execution_count": null,
   "id": "b050767e",
   "metadata": {},
   "outputs": [],
   "source": [
    "R = 6373.0\n",
    "lat1 =np.asarray(np.radians(train_df['pickup_latitude']))\n",
    "lon1 = np.asarray(np.radians(train_df['pickup_longitude']))\n",
    "lat2 = np.asarray(np.radians(train_df['dropoff_latitude']))\n",
    "lon2 = np.asarray(np.radians(train_df['dropoff_longitude']))\n",
    "\n",
    "lat3=np.zeros(len(train_df))+np.radians(40.6413111)\n",
    "lon3=np.zeros(len(train_df))+np.radians(-73.7781391)\n",
    "dlon_pickup = lon3 - lon1\n",
    "dlat_pickup = lat3 - lat1\n",
    "d_lon_dropoff=lon3 -lon2\n",
    "d_lat_dropoff=lat3-lat2\n",
    "a1 = np.sin(dlat_pickup/2)**2 + np.cos(lat1) * np.cos(lat3) * np.sin(dlon_pickup/ 2)**2\n",
    "c1 = 2 * np.arctan2(np.sqrt(a1), np.sqrt(1 - a1))\n",
    "distance1 = R * c1\n",
    "train_df['Pickup_Distance_airport']=np.asarray(distance1)*0.621\n",
    "\n",
    "a2=np.sin(d_lat_dropoff/2)**2 + np.cos(lat2) * np.cos(lat3) * np.sin(d_lon_dropoff/ 2)**2\n",
    "c2 = 2 * np.arctan2(np.sqrt(a2), np.sqrt(1 - a2))\n",
    "distance2 = R * c2\n",
    "\n",
    "    \n",
    "train_df['Dropoff_Distance_airport']=np.asarray(distance2)*0.621\n",
    "\n",
    "\n",
    "\n",
    "lat1 =np.asarray(np.radians(test_data['pickup_latitude']))\n",
    "lon1 = np.asarray(np.radians(test_data['pickup_longitude']))\n",
    "lat2 = np.asarray(np.radians(test_data['dropoff_latitude']))\n",
    "lon2 = np.asarray(np.radians(test_data['dropoff_longitude']))\n",
    "\n",
    "lat3=np.zeros(len(test_data))+np.radians(40.6413111)\n",
    "lon3=np.zeros(len(test_data))+np.radians(-73.7781391)\n",
    "dlon_pickup = lon3 - lon1\n",
    "dlat_pickup = lat3 - lat1\n",
    "d_lon_dropoff=lon3 -lon2\n",
    "d_lat_dropoff=lat3-lat2\n",
    "a1 = np.sin(dlat_pickup/2)**2 + np.cos(lat1) * np.cos(lat3) * np.sin(dlon_pickup/ 2)**2\n",
    "c1 = 2 * np.arctan2(np.sqrt(a1), np.sqrt(1 - a1))\n",
    "distance1 = R * c1\n",
    "test_data['Pickup_Distance_airport']=np.asarray(distance1)*0.621\n",
    "\n",
    "a2=np.sin(d_lat_dropoff/2)**2 + np.cos(lat2) * np.cos(lat3) * np.sin(d_lon_dropoff/ 2)**2\n",
    "c2 = 2 * np.arctan2(np.sqrt(a2), np.sqrt(1 - a2))\n",
    "distance2 = R * c2\n",
    "\n",
    "    \n",
    "test_data['Dropoff_Distance_airport']=np.asarray(distance2)*0.621\n"
   ]
  },
  {
   "cell_type": "code",
   "execution_count": null,
   "id": "ac14baa2",
   "metadata": {},
   "outputs": [],
   "source": [
    "test_data.head()\n"
   ]
  },
  {
   "cell_type": "code",
   "execution_count": null,
   "id": "9f7e2d7b",
   "metadata": {},
   "outputs": [],
   "source": [
    "train_df['Distance']=np.round(train_df['Distance'],2)\n",
    "train_df['Pickup_Distance_airport']=np.round(train_df['Pickup_Distance_airport'],2)\n",
    "train_df['Dropoff_Distance_airport']=np.round(train_df['Dropoff_Distance_airport'],2)\n",
    "test_data['Distance']=np.round(test_data['Distance'],2)\n",
    "test_data['Pickup_Distance_airport']=np.round(test_data['Pickup_Distance_airport'],2)\n",
    "test_data['Dropoff_Distance_airport']=np.round(test_data['Dropoff_Distance_airport'],2)\n"
   ]
  },
  {
   "cell_type": "code",
   "execution_count": null,
   "id": "787ac528",
   "metadata": {},
   "outputs": [],
   "source": [
    "train_df.drop(['pickup_longitude','pickup_latitude','dropoff_longitude','dropoff_latitude'],axis=1,inplace=True)\n",
    "test_data.drop(['pickup_longitude','pickup_latitude','dropoff_longitude','dropoff_latitude'],axis=1,inplace=True)\n"
   ]
  },
  {
   "cell_type": "code",
   "execution_count": null,
   "id": "ba774680",
   "metadata": {},
   "outputs": [],
   "source": [
    "train_df['abs_diff_longitude']=np.abs(train_df['abs_diff_longitude']-np.mean(train_df['abs_diff_longitude']))\n",
    "train_df['abs_diff_longitude']=train_df['abs_diff_longitude']/np.var(train_df['abs_diff_longitude'])\n"
   ]
  },
  {
   "cell_type": "code",
   "execution_count": null,
   "id": "916eedba",
   "metadata": {},
   "outputs": [],
   "source": [
    "test_data['abs_diff_longitude']=np.abs(test_data['abs_diff_longitude']-np.mean(test_data['abs_diff_longitude']))\n",
    "test_data['abs_diff_longitude']=test_data['abs_diff_longitude']/np.var(test_data['abs_diff_longitude'])\n"
   ]
  },
  {
   "cell_type": "code",
   "execution_count": null,
   "id": "3549c657",
   "metadata": {},
   "outputs": [],
   "source": [
    "train_df.shape\n"
   ]
  },
  {
   "cell_type": "code",
   "execution_count": null,
   "id": "0ada1d9b",
   "metadata": {},
   "outputs": [],
   "source": [
    "test_data.shape\n"
   ]
  },
  {
   "cell_type": "code",
   "execution_count": null,
   "id": "1aef169e",
   "metadata": {},
   "outputs": [],
   "source": [
    "from sklearn.model_selection import train_test_split\n",
    "X=train_df.drop(['key','fare_amount'],axis=1)\n",
    "y=train_df['fare_amount']\n",
    "X_train,X_test,y_train,y_test=train_test_split(X,y,test_size=0.01,random_state=80)\n"
   ]
  },
  {
   "cell_type": "code",
   "execution_count": null,
   "id": "f89fe11f",
   "metadata": {},
   "outputs": [],
   "source": [
    "from sklearn.linear_model import LinearRegression\n",
    "lr=LinearRegression(normalize=True)\n",
    "lr.fit(X_train,y_train)\n",
    "print(lr.score(X_test,y_test))\n"
   ]
  },
  {
   "cell_type": "code",
   "execution_count": null,
   "id": "ec214e74",
   "metadata": {},
   "outputs": [],
   "source": [
    "pred=np.round(lr.predict(test_data.drop('key',axis=1)),2)\n"
   ]
  },
  {
   "cell_type": "code",
   "execution_count": null,
   "id": "e834b1fe",
   "metadata": {},
   "outputs": [],
   "source": [
    "pd.read_csv('/kaggle/input/sample_submission.csv').head()\n"
   ]
  },
  {
   "cell_type": "code",
   "execution_count": null,
   "id": "9f15a99c",
   "metadata": {},
   "outputs": [],
   "source": [
    "Submission=pd.DataFrame(data=pred,columns=['fare_amount'])\n",
    "Submission['key']=test_data['key']\n",
    "Submission=Submission[['key','fare_amount']]\n"
   ]
  },
  {
   "cell_type": "code",
   "execution_count": null,
   "id": "901d5703",
   "metadata": {},
   "outputs": [],
   "source": [
    "Submission.set_index('key',inplace=True)\n"
   ]
  },
  {
   "cell_type": "code",
   "execution_count": null,
   "id": "6cae6d9b",
   "metadata": {},
   "outputs": [],
   "source": [
    "Submission.to_csv('Submission.csv')\n"
   ]
  }
 ],
 "metadata": {},
 "nbformat": 4,
 "nbformat_minor": 5
}
