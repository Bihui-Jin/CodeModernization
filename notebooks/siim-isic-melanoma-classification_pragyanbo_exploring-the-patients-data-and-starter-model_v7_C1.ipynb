{
 "cells": [
  {
   "cell_type": "code",
   "execution_count": null,
   "id": "05884833",
   "metadata": {},
   "outputs": [],
   "source": [
    "import pandas as pd\n",
    "from pathlib import Path"
   ]
  },
  {
   "cell_type": "code",
   "execution_count": null,
   "id": "89b6fcb6",
   "metadata": {},
   "outputs": [],
   "source": [
    "# Importing necessary libraries\n",
    "\n",
    "import pandas as pd\n",
    "import numpy as np\n",
    "import matplotlib.pyplot as plt\n",
    "from sklearn.model_selection import train_test_split\n",
    "from lightgbm import LGBMClassifier\n",
    "from sklearn.preprocessing import LabelEncoder\n",
    "\n",
    "%matplotlib inline\n"
   ]
  },
  {
   "cell_type": "code",
   "execution_count": null,
   "id": "7778a8cb",
   "metadata": {},
   "outputs": [],
   "source": [
    "# Reading in the data\n",
    "df = pd.read_csv('/kaggle/input/siim-isic-melanoma-classification/train.csv')\n"
   ]
  },
  {
   "cell_type": "code",
   "execution_count": null,
   "id": "3bde3d91",
   "metadata": {},
   "outputs": [],
   "source": [
    "# Taking a look at the first 5 rows of data\n",
    "df.head()\n"
   ]
  },
  {
   "cell_type": "code",
   "execution_count": null,
   "id": "2507e679",
   "metadata": {},
   "outputs": [],
   "source": [
    "# Getting the shape of the dataset\n",
    "df.shape\n"
   ]
  },
  {
   "cell_type": "code",
   "execution_count": null,
   "id": "2d3cd5ce",
   "metadata": {},
   "outputs": [],
   "source": [
    "df.dtypes.value_counts().sort_values(ascending=False)\n"
   ]
  },
  {
   "cell_type": "code",
   "execution_count": null,
   "id": "f803caf2",
   "metadata": {},
   "outputs": [],
   "source": [
    "df.select_dtypes('object').apply(pd.Series.nunique, axis = 0)\n"
   ]
  },
  {
   "cell_type": "code",
   "execution_count": null,
   "id": "35f9c2f9",
   "metadata": {},
   "outputs": [],
   "source": [
    "df['patient_id'].value_counts()\n"
   ]
  },
  {
   "cell_type": "code",
   "execution_count": null,
   "id": "26316038",
   "metadata": {},
   "outputs": [],
   "source": [
    "df['patient_id'].value_counts().mean()\n"
   ]
  },
  {
   "cell_type": "code",
   "execution_count": null,
   "id": "73bf4f70",
   "metadata": {},
   "outputs": [],
   "source": [
    "df['target'].value_counts()\n"
   ]
  },
  {
   "cell_type": "code",
   "execution_count": null,
   "id": "f1d16689",
   "metadata": {},
   "outputs": [],
   "source": [
    "def plot_analysis(col_name, df, plot_kind='bar'):\n",
    "    \"\"\"\n",
    "    Function to plot two subplots containing Joe's and non-Joe's counts of data points for a given feature.\n",
    "    :param col_name: Column name of the feature to be analysed\n",
    "    :param df: DataFrame containing the source of data\n",
    "    :plot_kind: Line plot or Bar Plot\n",
    "    :return True: Boolean indicating that the analysis has been plotted\n",
    "    \"\"\"\n",
    "    \n",
    "    df_benign = df[df['target']==0]\n",
    "    df_malignant = df[df['target']!=0]\n",
    "    fig, axs = plt.subplots(2,figsize=(26,8))\n",
    "    fig.suptitle('Difference between ' + col_name + ' of patients in benign and malignant cases ')\n",
    "    axs[0].set_title('Benign')\n",
    "    axs[0].set_ylabel('Number of cases', fontsize=12)\n",
    "    axs[1].set_title('Malignant')\n",
    "    axs[1].set_ylabel('Number of cases', fontsize=12)\n",
    "    axs[1].set_xlabel(col_name, fontsize=12)\n",
    "    if plot_kind == 'line':\n",
    "        axs[0].plot(df_benign[col_name].value_counts().index, df_benign[col_name].value_counts().values)\n",
    "        axs[1].plot(df_malignant[col_name].value_counts().index, df_malignant[col_name].value_counts().values)\n",
    "    elif plot_kind == 'bar':\n",
    "        axs[0].bar(df_benign[col_name].value_counts().index, df_benign[col_name].value_counts().values)\n",
    "        axs[1].bar(df_malignant[col_name].value_counts().index, df_malignant[col_name].value_counts().values)\n",
    "    return True\n"
   ]
  },
  {
   "cell_type": "code",
   "execution_count": null,
   "id": "d4cd6a01",
   "metadata": {},
   "outputs": [],
   "source": [
    "plot_analysis('sex', df)\n"
   ]
  },
  {
   "cell_type": "code",
   "execution_count": null,
   "id": "2c4a2736",
   "metadata": {},
   "outputs": [],
   "source": [
    "plot_analysis('anatom_site_general_challenge', df)\n"
   ]
  },
  {
   "cell_type": "code",
   "execution_count": null,
   "id": "f26535c5",
   "metadata": {},
   "outputs": [],
   "source": [
    "plot_analysis('diagnosis', df)\n"
   ]
  },
  {
   "cell_type": "code",
   "execution_count": null,
   "id": "23e71bd9",
   "metadata": {},
   "outputs": [],
   "source": [
    "plot_analysis('age_approx', df)\n"
   ]
  },
  {
   "cell_type": "code",
   "execution_count": null,
   "id": "f9264b9e",
   "metadata": {},
   "outputs": [],
   "source": [
    "df.isnull().sum()\n"
   ]
  },
  {
   "cell_type": "code",
   "execution_count": null,
   "id": "4c391a28",
   "metadata": {},
   "outputs": [],
   "source": [
    "def data_preparation(df, evaluation = False):\n",
    "    # Filling in the missing values\n",
    "    df['sex'] = df['sex'].fillna('male')\n",
    "    df['age_approx'] = df['age_approx'].fillna(df['age_approx'].mean())\n",
    "    df['anatom_site_general_challenge'] = df['anatom_site_general_challenge'].fillna('torso')\n",
    "\n",
    "    # Label encoding sex\n",
    "    labelencoder = LabelEncoder()\n",
    "    df['sex'] = labelencoder.fit_transform(df['sex'])\n",
    "\n",
    "    df = pd.get_dummies(df, columns=['anatom_site_general_challenge'])\n",
    "\n",
    "    if evaluation:\n",
    "        X_return = df.drop(['image_name', 'patient_id'], axis = 1)\n",
    "        return X_return\n",
    "    else:\n",
    "        X_return = df.drop(['image_name', 'patient_id', 'benign_malignant','target','diagnosis'], axis = 1)\n",
    "        return X_return, df['target']\n"
   ]
  },
  {
   "cell_type": "code",
   "execution_count": null,
   "id": "623ddd57",
   "metadata": {},
   "outputs": [],
   "source": [
    "X, y = data_preparation(df)\n"
   ]
  },
  {
   "cell_type": "code",
   "execution_count": null,
   "id": "2c5f9c14",
   "metadata": {},
   "outputs": [],
   "source": [
    "# Train test split\n",
    "X_train, X_test, y_train, y_test = train_test_split(X, y, test_size=0.1, random_state=42, stratify = y)\n",
    "\n",
    "# Gradient Boosting Model\n",
    "clf = LGBMClassifier(\n",
    "            objective='binary',\n",
    "            n_estimators=100000,\n",
    "            num_leaves=10,\n",
    "            learning_rate=0.1,\n",
    "            max_depth=16,\n",
    "            subsample_for_bin= 200000,\n",
    "            subsample=1,\n",
    "            subsample_freq= 200,\n",
    "            silent=-1,\n",
    "            verbose=-1,\n",
    "            min_split_gain=0.0001,\n",
    "            min_child_samples=800,\n",
    "            )\n",
    "\n",
    "# Training the model\n",
    "clf.fit(X_train, y_train, eval_set=[(X_train, y_train), (X_test, y_test)], eval_metric='auc', verbose=200, early_stopping_rounds=1000)\n"
   ]
  },
  {
   "cell_type": "code",
   "execution_count": null,
   "id": "9c4b7270",
   "metadata": {},
   "outputs": [],
   "source": [
    "test_df  = pd.read_csv('../input/siim-isic-melanoma-classification/test.csv')\n",
    "test_df.head()\n"
   ]
  },
  {
   "cell_type": "code",
   "execution_count": null,
   "id": "6f8b802c",
   "metadata": {},
   "outputs": [],
   "source": [
    "# Preprocessing test data\n",
    "eval_X = data_preparation(test_df, evaluation = True)\n"
   ]
  },
  {
   "cell_type": "code",
   "execution_count": null,
   "id": "e4cc3220",
   "metadata": {},
   "outputs": [],
   "source": [
    "# Getting the prediction probability\n",
    "prediction_list = clf.predict_proba(eval_X)\n",
    "final_pred_list = [a[1] for a in prediction_list]\n"
   ]
  },
  {
   "cell_type": "code",
   "execution_count": null,
   "id": "bbe89efa",
   "metadata": {},
   "outputs": [],
   "source": [
    "# Appending to the test dataframe\n",
    "test_df['target'] = final_pred_list\n"
   ]
  },
  {
   "cell_type": "code",
   "execution_count": null,
   "id": "da985374",
   "metadata": {},
   "outputs": [],
   "source": [
    "test_df[['image_name','target']].to_csv('submission.csv',index=False)\n"
   ]
  }
 ],
 "metadata": {},
 "nbformat": 4,
 "nbformat_minor": 5
}
