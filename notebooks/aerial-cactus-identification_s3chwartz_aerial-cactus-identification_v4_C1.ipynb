{
 "cells": [
  {
   "cell_type": "code",
   "execution_count": null,
   "id": "4eab99ef",
   "metadata": {},
   "outputs": [],
   "source": [
    "import pandas as pd\n",
    "from pathlib import Path"
   ]
  },
  {
   "cell_type": "code",
   "execution_count": null,
   "id": "b7e7bc36",
   "metadata": {},
   "outputs": [],
   "source": [
    "# This Python 3 environment comes with many helpful analytics libraries installed\n",
    "# It is defined by the kaggle/python docker image: https://github.com/kaggle/docker-python\n",
    "# For example, here's several helpful packages to load in \n",
    "\n",
    "import numpy as np # linear algebra\n",
    "import pandas as pd # data processing, CSV file I/O (e.g. pd.read_csv)\n",
    "\n",
    "# Input data files are available in the \"../input/\" directory.\n",
    "# For example, running this (by clicking run or pressing Shift+Enter) will list the files in the input directory\n",
    "\n",
    "import os\n",
    "print(os.listdir(\"../input\"))\n",
    "\n",
    "# Any results you write to the current directory are saved as output.\n"
   ]
  },
  {
   "cell_type": "code",
   "execution_count": null,
   "id": "8cb8c8e9",
   "metadata": {},
   "outputs": [],
   "source": [
    "%reload_ext autoreload\n",
    "%autoreload 2\n",
    "%matplotlib inline\n",
    "\n",
    "from pathlib import Path\n",
    "import fastai\n",
    "from fastai.vision import *\n",
    "from fastai.metrics import error_rate\n"
   ]
  },
  {
   "cell_type": "code",
   "execution_count": null,
   "id": "fb7048c1",
   "metadata": {},
   "outputs": [],
   "source": [
    "PATH = Path(\"../input\")\n",
    "\n",
    "work_dir = Path(\"/kaggle/working/\")\n",
    "train = \"train/train\"\n",
    "test = PATH/\"test/test\"\n",
    "test_names = [f for f in test.iterdir()]\n",
    "\n",
    "df_train = pd.read_csv(PATH/\"train.csv\")\n",
    "\n",
    "submission = pd.read_csv(PATH/\"sample_submission.csv\")\n",
    "#train.head()\n"
   ]
  },
  {
   "cell_type": "code",
   "execution_count": null,
   "id": "347f991e",
   "metadata": {},
   "outputs": [],
   "source": [
    "data = (ImageList.from_df(df_train, path=PATH/train, cols=0).split_by_rand_pct(0.2, seed=47)\n",
    "        .label_from_df(cols=1)\n",
    "        .add_test(test_names)\n",
    "        .databunch(bs=64))\n",
    "data.normalize(imagenet_stats)\n",
    "#.add_test(test_names)\n",
    "data\n"
   ]
  },
  {
   "cell_type": "code",
   "execution_count": null,
   "id": "ba1c983a",
   "metadata": {},
   "outputs": [],
   "source": [
    "learn = cnn_learner(data, models.resnet50,\n",
    "                    metrics = accuracy,\n",
    "                   model_dir=\"/tmp/model/\")\n"
   ]
  },
  {
   "cell_type": "code",
   "execution_count": null,
   "id": "e183d082",
   "metadata": {},
   "outputs": [],
   "source": [
    "learn.lr_find()\n"
   ]
  },
  {
   "cell_type": "code",
   "execution_count": null,
   "id": "7a386fc7",
   "metadata": {},
   "outputs": [],
   "source": [
    "learn.recorder.plot()\n"
   ]
  },
  {
   "cell_type": "code",
   "execution_count": null,
   "id": "2b5e29ba",
   "metadata": {},
   "outputs": [],
   "source": [
    "learn.unfreeze()\n",
    "learn.fit_one_cycle(10, max_lr=slice(1e-6,1e-1))\n"
   ]
  },
  {
   "cell_type": "code",
   "execution_count": null,
   "id": "76bfd52a",
   "metadata": {},
   "outputs": [],
   "source": [
    "learn.save(\"fit_resnet50_v1\")\n"
   ]
  },
  {
   "cell_type": "code",
   "execution_count": null,
   "id": "a38e42ab",
   "metadata": {},
   "outputs": [],
   "source": [
    "p, t = learn.get_preds(ds_type = DatasetType.Test)\n"
   ]
  },
  {
   "cell_type": "code",
   "execution_count": null,
   "id": "b5aa8b2d",
   "metadata": {},
   "outputs": [],
   "source": [
    "ids = np.array([f.name for f in (test_names)])\n",
    "ids.shape\n"
   ]
  },
  {
   "cell_type": "code",
   "execution_count": null,
   "id": "7c86a5cd",
   "metadata": {},
   "outputs": [],
   "source": [
    "pmax = np.argmax(p, 1)\n",
    "pmax.shape\n"
   ]
  },
  {
   "cell_type": "code",
   "execution_count": null,
   "id": "5f42022b",
   "metadata": {},
   "outputs": [],
   "source": [
    "my_submission = pd.DataFrame({\"id\": ids,\n",
    "                             \"has_cactus\" : pmax})\n",
    "my_submission.to_csv(\"submission.csv\", index = False)\n"
   ]
  }
 ],
 "metadata": {},
 "nbformat": 4,
 "nbformat_minor": 5
}
