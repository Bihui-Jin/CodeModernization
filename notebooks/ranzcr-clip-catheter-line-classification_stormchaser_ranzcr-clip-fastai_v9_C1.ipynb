{
  "cells": [
    {
      "cell_type": "code",
      "execution_count": null,
      "id": "4556460f",
      "metadata": {},
      "outputs": [],
      "source": [
        "import pandas as pd\n",
        "from pathlib import Path"
      ]
    },
    {
      "cell_type": "code",
      "execution_count": null,
      "id": "9e45ab3e",
      "metadata": {},
      "outputs": [],
      "source": [
        "# This Python 3 environment comes with many helpful analytics libraries installed\n",
        "# It is defined by the kaggle/python Docker image: https://github.com/kaggle/docker-python\n",
        "# For example, here's several helpful packages to load\n",
        "\n",
        "import numpy as np # linear algebra\n",
        "import pandas as pd # data processing, CSV file I/O (e.g. pd.read_csv)\n",
        "\n",
        "# Input data files are available in the read-only \"../input/\" directory\n",
        "# For example, running this (by clicking run or pressing Shift+Enter) will list all files under the input directory\n",
        "\n",
        "import os\n",
        "for dirname, _, filenames in os.walk('/kaggle/input'):\n",
        "    for filename in filenames:\n",
        "        print(os.path.join(dirname, filename))\n",
        "\n",
        "# You can write up to 20GB to the current directory (/kaggle/working/) that gets preserved as output when you create a version using \"Save & Run All\" \n",
        "# You can also write temporary files to /kaggle/temp/, but they won't be saved outside of the current session\n"
      ]
    },
    {
      "cell_type": "code",
      "execution_count": null,
      "id": "eeae3b90",
      "metadata": {},
      "outputs": [],
      "source": [
        "import matplotlib.pyplot as plt\n",
        "from sklearn.metrics import roc_auc_score\n",
        "from sklearn.ensemble import RandomForestClassifier\n",
        "train = pd.read_csv('../input/ranzcr-clip-catheter-line-classification/train.csv')\n",
        "test = pd.read_csv('../input/ranzcr-clip-catheter-line-classification/sample_submission.csv')\n",
        "print(train.shape)\n",
        "print(test.shape)\n",
        "train.head(10)\n"
      ]
    },
    {
      "cell_type": "code",
      "execution_count": null,
      "id": "269043e3",
      "metadata": {},
      "outputs": [],
      "source": [
        "test.head(10)\n"
      ]
    },
    {
      "cell_type": "code",
      "execution_count": null,
      "id": "c4681950",
      "metadata": {},
      "outputs": [],
      "source": [
        "import ast\n",
        "\n",
        "annot = pd.read_csv('../input/ranzcr-clip-catheter-line-classification/train_annotations.csv')\n",
        "print(annot.shape)\n",
        "annot.head()\n"
      ]
    },
    {
      "cell_type": "code",
      "execution_count": null,
      "id": "2490ffbe",
      "metadata": {},
      "outputs": [],
      "source": [
        "import tqdm\n",
        "import os\n",
        "import gc\n",
        "import cv2\n",
        "import glob\n",
        "import numpy as np\n",
        "import pandas as pd\n",
        "from numba import cuda\n",
        "from tqdm.notebook import tqdm\n",
        "import matplotlib.pyplot as plt\n",
        "\n",
        "RES = np.zeros( (512,512) )\n",
        "mask = RES.copy()\n",
        "mask[mask>0.5] = 1.\n",
        "mask[mask<1] = 0\n",
        "mask = mask.astype(np.uint8)\n",
        "mask = np.stack( (mask,mask,mask), 2 )\n",
        "\n",
        "del RES\n",
        "gc.collect()\n",
        "plt.imshow(mask)\n"
      ]
    },
    {
      "cell_type": "code",
      "execution_count": null,
      "id": "46c082a4",
      "metadata": {},
      "outputs": [],
      "source": [
        "!pip install -Uq fastai\n"
      ]
    },
    {
      "cell_type": "code",
      "execution_count": null,
      "id": "9ad39483",
      "metadata": {},
      "outputs": [],
      "source": [
        "from fastai.vision.all import *\n"
      ]
    },
    {
      "cell_type": "code",
      "execution_count": null,
      "id": "ffe7568a",
      "metadata": {},
      "outputs": [],
      "source": [
        "df = pd.read_csv(\"../input/ranzcr-clip-catheter-line-classification/train_annotations.csv\")[['StudyInstanceUID', 'label']]\n",
        "df['StudyInstanceUID'] = [i + \".jpg\" for i in df['StudyInstanceUID']]\n",
        "df.columns = ['name', 'label']\n",
        "dls = ImageDataLoaders.from_df(df, \"../input/ranzcr-clip-catheter-line-classification/\", folder='train', valid_pct=0.2, item_tfms=Resize(224))\n",
        "dls\n"
      ]
    },
    {
      "cell_type": "code",
      "execution_count": null,
      "id": "7fe15201",
      "metadata": {},
      "outputs": [],
      "source": [
        "dls.show_batch()\n"
      ]
    },
    {
      "cell_type": "code",
      "execution_count": null,
      "id": "41ddeb16",
      "metadata": {},
      "outputs": [],
      "source": [
        "# Build the CNN model with the pretrained resnet34\n",
        "# Error rate = 1 - accuracy\n",
        "learn = cnn_learner(dls, models.resnet34, metrics = [accuracy])\n",
        "# Train the model on 5 epochs of data at the default learning rate\n",
        "learn.fit_one_cycle(5)\n"
      ]
    },
    {
      "cell_type": "code",
      "execution_count": null,
      "id": "3e35f91a",
      "metadata": {},
      "outputs": [],
      "source": [
        "# Rebuild interpreter and replot confusion matrix\n",
        "interp = ClassificationInterpretation.from_learner(learn)\n",
        "interp.plot_confusion_matrix(figsize=(12,12), dpi=60)\n"
      ]
    },
    {
      "cell_type": "code",
      "execution_count": null,
      "id": "47c02036",
      "metadata": {},
      "outputs": [],
      "source": [
        "submit = False\n",
        "\n",
        "if submit:\n",
        "    test_preds = []\n",
        "    for i in range(len(enet_type)):\n",
        "        if enet_type[i] == 'resnet34':\n",
        "            print('resnet34 loaded')\n",
        "            model = models.resnet34(enet_type[i], out_dim=len(target_cols))\n",
        "            model = model.to(device)\n",
        "        model.load_state_dict(torch.load(model_path[i], map_location='cuda:0'))\n",
        "        if tta:\n",
        "            test_preds += [tta_inference_func(test_loader)]\n",
        "        else:\n",
        "            test_preds += [inference_func(test_loader)]\n",
        "\n",
        "    submission = pd.read_csv('../input/ranzcr-clip-catheter-line-classification/sample_submission.csv')\n",
        "    submission[target_cols] = np.mean(test_preds, axis=0)\n",
        "    submission.to_csv('submission.csv', index=False)\n",
        "else:\n",
        "    pd.read_csv('../input/ranzcr-clip-catheter-line-classification/sample_submission.csv').to_csv('submission.csv', index=False)\n"
      ]
    }
  ],
  "metadata": {},
  "nbformat": 4,
  "nbformat_minor": 5
}