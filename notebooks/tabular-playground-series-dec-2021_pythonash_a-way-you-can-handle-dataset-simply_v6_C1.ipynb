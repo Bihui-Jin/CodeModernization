{
 "cells": [
  {
   "cell_type": "code",
   "execution_count": null,
   "id": "39b63d7b",
   "metadata": {},
   "outputs": [],
   "source": [
    "import pandas as pd\n",
    "from pathlib import Path"
   ]
  },
  {
   "cell_type": "code",
   "execution_count": null,
   "id": "1d59e305",
   "metadata": {},
   "outputs": [],
   "source": [
    "import pandas as pd\n",
    "import seaborn as sns\n",
    "import matplotlib.pyplot as plt\n",
    "from sklearn.model_selection import train_test_split\n",
    "from sklearn.preprocessing import MinMaxScaler\n",
    "import tensorflow as tf\n",
    "from sklearn.model_selection import StratifiedKFold as SK\n",
    "import numpy as np\n",
    "from sklearn.preprocessing import LabelEncoder\n",
    "from sklearn.metrics import accuracy_score\n",
    "\n",
    "\n",
    "\n",
    "train = pd.read_csv('../input/tabular-playground-series-dec-2021/train.csv')\n",
    "\n",
    "test = pd.read_csv('../input/tabular-playground-series-dec-2021/test.csv')\n",
    "\n",
    "submission = pd.read_csv('../input/tabular-playground-series-dec-2021/sample_submission.csv')\n"
   ]
  },
  {
   "cell_type": "code",
   "execution_count": null,
   "id": "44559885",
   "metadata": {},
   "outputs": [],
   "source": [
    "def reduce_mean_usage(df, verbose=True):\n",
    "    numerics = ['int16', 'int32', 'int64', 'float16', 'float32', 'float64']\n",
    "    start_mem = df.memory_usage().sum() / 1024**2\n",
    "    \n",
    "    for col in df.columns:\n",
    "        col_type = df[col].dtypes\n",
    "        \n",
    "        if col_type in numerics:\n",
    "            c_min = df[col].min()\n",
    "            c_max = df[col].max()\n",
    "            \n",
    "            if str(col_type)[:3] =='int':\n",
    "                if c_min > np.iinfo(np.int8).min and c_max < np.iinfo(np.int8).max:\n",
    "                    df[col] = df[col].astype(np.int8)\n",
    "                elif c_min > np.iinfo(np.int16).min and c_max < np.iinfo(np.int16).max:\n",
    "                    df[col] = df[col].astype(np.int16)\n",
    "                elif c_min > np.iinfo(np.int32).min and c_max < np.iinfo(np.int32).max:\n",
    "                    df[col] = df[col].astype(np.int32)\n",
    "                elif c_min> np.iinfo(np.int64).min and c_max < np.iinfo(np.int64).max:\n",
    "                    df[col] = df[col].astype(np.int64)\n",
    "            else:\n",
    "                if c_min > np.finfo(np.float32).min and c_max < np.finfo(np.float32).max:\n",
    "                    df[col] = df[col].astype(np.float32)\n",
    "                else:\n",
    "                    df[col] = df[col].astype(np.float64)\n",
    "    end_mem = df.memory_usage().sum() / 1024**2\n",
    "    \n",
    "    if verbose:\n",
    "        print('Memory usage is decreased to {:5.2f} Mb ({:.1f}% reduction)'.format(end_mem, 100 * (start_mem - end_mem)/ start_mem))\n",
    "    \n",
    "    return df\n"
   ]
  },
  {
   "cell_type": "code",
   "execution_count": null,
   "id": "8850ded4",
   "metadata": {},
   "outputs": [],
   "source": [
    "train = reduce_mean_usage(train)\n",
    "test = reduce_mean_usage(test)\n"
   ]
  },
  {
   "cell_type": "code",
   "execution_count": null,
   "id": "5481a0d5",
   "metadata": {},
   "outputs": [],
   "source": [
    "train = train.sample(frac=1).reset_index(drop=True)\n",
    "\n",
    "train_x = train.drop(['Id','Cover_Type'],axis=1)\n",
    "\n",
    "test_x = test.drop(['Id'],axis=1)\n",
    "\n",
    "train_y = train['Cover_Type']\n",
    "\n",
    "train\n"
   ]
  },
  {
   "cell_type": "code",
   "execution_count": null,
   "id": "e6327ebe",
   "metadata": {},
   "outputs": [],
   "source": [
    "train_x.isnull().sum()\n"
   ]
  },
  {
   "cell_type": "code",
   "execution_count": null,
   "id": "5e9ea502",
   "metadata": {},
   "outputs": [],
   "source": [
    "train_y.isnull().sum()\n"
   ]
  },
  {
   "cell_type": "code",
   "execution_count": null,
   "id": "4e42ed41",
   "metadata": {},
   "outputs": [],
   "source": [
    "train_y.value_counts()\n"
   ]
  },
  {
   "cell_type": "code",
   "execution_count": null,
   "id": "c73965cd",
   "metadata": {},
   "outputs": [],
   "source": [
    "drop_5_index = train_y[train_y == 5].index[0]\n",
    "\n",
    "train_x = train_x.drop([drop_5_index],axis=0).reset_index().drop(['index'],axis=1)\n",
    "train_y = train_y.drop([drop_5_index],axis=0).reset_index().drop(['index'],axis=1)\n"
   ]
  },
  {
   "cell_type": "code",
   "execution_count": null,
   "id": "a9470f88",
   "metadata": {},
   "outputs": [],
   "source": [
    "train_x.describe()\n"
   ]
  },
  {
   "cell_type": "code",
   "execution_count": null,
   "id": "e37ef876",
   "metadata": {},
   "outputs": [],
   "source": [
    "train_y.value_counts()\n"
   ]
  },
  {
   "cell_type": "code",
   "execution_count": null,
   "id": "6c05260f",
   "metadata": {},
   "outputs": [],
   "source": [
    "scaler = MinMaxScaler()\n",
    "train_df = scaler.fit_transform(train_x)\n",
    "train_df = pd.DataFrame(train_df)\n",
    "train_df.columns = train_x.columns\n",
    "train_df\n"
   ]
  },
  {
   "cell_type": "code",
   "execution_count": null,
   "id": "b23ce761",
   "metadata": {},
   "outputs": [],
   "source": [
    "test_df = pd.DataFrame(scaler.transform(test_x))\n",
    "test_df.columns = test_x.columns\n",
    "test_df\n"
   ]
  },
  {
   "cell_type": "code",
   "execution_count": null,
   "id": "6936b070",
   "metadata": {},
   "outputs": [],
   "source": [
    "train_df.columns\n"
   ]
  },
  {
   "cell_type": "code",
   "execution_count": null,
   "id": "f702c20d",
   "metadata": {},
   "outputs": [],
   "source": [
    "train_non_dummy, train_dummy = train_df.columns[:10], train_df.columns[10:]\n",
    "\n",
    "train_df_dummy = train_df[train_dummy]\n",
    "train_df_non_dummy = train_df[train_non_dummy]\n"
   ]
  },
  {
   "cell_type": "code",
   "execution_count": null,
   "id": "3f260b72",
   "metadata": {},
   "outputs": [],
   "source": [
    "test_df_dummy = test_df[train_dummy]\n",
    "test_df_non_dummy = test_df[train_non_dummy]\n"
   ]
  },
  {
   "cell_type": "code",
   "execution_count": null,
   "id": "9bfcf9ab",
   "metadata": {},
   "outputs": [],
   "source": [
    "INPUT = tf.keras.layers.Input(shape = train_df_non_dummy.shape[1:], name = 'Input')\n",
    "INPUT_dummy = tf.keras.layers.Input(shape = train_df_dummy.shape[1:], name = 'Input_Dummy')\n",
    "\n",
    "dense1 = tf.keras.layers.Dense(300, activation='elu',  kernel_initializer = 'he_normal', name = 'Dense1')(INPUT)\n",
    "dense2 = tf.keras.layers.Dense(300, activation='elu',  kernel_initializer = 'he_normal',name = 'Dense2')(dense1)\n",
    "dense3 = tf.keras.layers.Dense(300, activation='elu',  kernel_initializer = 'he_normal',name = 'Dense3')(dense2)\n",
    "dense4 = tf.keras.layers.Dense(300, activation='elu',  kernel_initializer = 'he_normal',name = 'Dense4')(dense3)\n",
    "dense5 = tf.keras.layers.Dense(300, activation='elu',  kernel_initializer = 'he_normal',name = 'Dense5')(dense4)\n",
    "dense6 = tf.keras.layers.Dense(300, activation='elu',  kernel_initializer = 'he_normal',name = 'Dense6')(dense5)\n",
    "dense_dropout = tf.keras.layers.Dropout(0.5, name = 'Dropout')(dense6)\n",
    "\n",
    "dummy_dense1 = tf.keras.layers.Dense(200, activation = 'elu', kernel_initializer = 'he_normal',name = 'Dummy_Dense1')(INPUT_dummy)\n",
    "dummy_dense2 = tf.keras.layers.Dense(200, activation = 'elu', kernel_initializer = 'he_normal',name = 'Dummy_Dense2')(dummy_dense1)\n",
    "dummy_dense3 = tf.keras.layers.Dense(200, activation = 'elu', kernel_initializer = 'he_normal',name = 'Dummy_Dense3')(dummy_dense2)\n",
    "dummy_dense4 = tf.keras.layers.Dense(200, activation = 'elu', kernel_initializer = 'he_normal',name = 'Dummy_Dense4')(dummy_dense3)\n",
    "dummy_dense5 = tf.keras.layers.Dense(200, activation = 'elu', kernel_initializer = 'he_normal',name = 'Dummy_Dense5')(dummy_dense4)\n",
    "dummy_dense6 = tf.keras.layers.Dense(200, activation = 'elu', kernel_initializer = 'he_normal',name = 'Dummy_Dense6')(dummy_dense5)\n",
    "dummy_dense_dropout = tf.keras.layers.Dropout(0.5, name = 'Dummy_Dropout')(dummy_dense6)\n",
    "\n",
    "connect = tf.keras.layers.Concatenate(axis=1, name='Connection')([dense_dropout, dummy_dense_dropout])\n",
    "\n",
    "connect_dense1 = tf.keras.layers.Dense(100, activation = 'elu', kernel_initializer = 'he_normal',name = 'Connect_Dense1')(connect)\n",
    "connect_dense2 = tf.keras.layers.Dense(50, activation = 'elu', kernel_initializer = 'he_normal',name = 'Connect_Dense2')(connect_dense1)\n",
    "connect_dense3 = tf.keras.layers.Dense(25, activation = 'elu', kernel_initializer = 'he_normal',name = 'Connect_Dense3')(connect_dense2)\n",
    "\n",
    "OUTPUT = tf.keras.layers.Dense(6, activation = 'softmax', name = 'Output')(connect_dense3)\n",
    "\n",
    "model = tf.keras.Model(inputs = [INPUT, INPUT_dummy], outputs = [OUTPUT], name = 'pythonash_model')\n"
   ]
  },
  {
   "cell_type": "code",
   "execution_count": null,
   "id": "366684be",
   "metadata": {},
   "outputs": [],
   "source": [
    "model.summary()\n"
   ]
  },
  {
   "cell_type": "code",
   "execution_count": null,
   "id": "1712ef21",
   "metadata": {},
   "outputs": [],
   "source": [
    "tf.keras.utils.plot_model(model, show_shapes = True, show_layer_names=True, rankdir='TB')\n"
   ]
  },
  {
   "cell_type": "code",
   "execution_count": null,
   "id": "3c7552ae",
   "metadata": {},
   "outputs": [],
   "source": [
    "lr_schedule = tf.keras.optimizers.schedules.ExponentialDecay(\n",
    "    initial_learning_rate=0.002,\n",
    "    decay_steps=5000,\n",
    "    decay_rate=0.99\n",
    ")\n",
    "opt = tf.keras.optimizers.Adam(learning_rate = lr_schedule)\n",
    "epoch_number = 20\n",
    "check_pt = tf.keras.callbacks.ModelCheckpoint('pythonash_model.h5', save_best_only = True, verbose = 2)\n"
   ]
  },
  {
   "cell_type": "code",
   "execution_count": null,
   "id": "ade0433f",
   "metadata": {},
   "outputs": [],
   "source": [
    "train=[]\n",
    "test=[]\n",
    "train_x=[]\n",
    "test_x=[]\n",
    "\n",
    "train_df=[]\n",
    "test_df=[]\n"
   ]
  },
  {
   "cell_type": "code",
   "execution_count": null,
   "id": "623fbda0",
   "metadata": {},
   "outputs": [],
   "source": [
    "Encoder = LabelEncoder()\n",
    "\n",
    "y_encoded = Encoder.fit_transform(train_y)\n",
    "train_y = []\n",
    "y_encoded\n"
   ]
  },
  {
   "cell_type": "code",
   "execution_count": null,
   "id": "16e13dbc",
   "metadata": {},
   "outputs": [],
   "source": [
    "y_encoded\n"
   ]
  },
  {
   "cell_type": "code",
   "execution_count": null,
   "id": "21b60534",
   "metadata": {},
   "outputs": [],
   "source": [
    "model.compile(loss ='sparse_categorical_crossentropy', optimizer = opt, metrics = ['sparse_categorical_accuracy'])\n",
    "model.fit(\n",
    "x= [train_df_non_dummy, train_df_dummy], y = y_encoded, validation_split = 0.1 , batch_size = 1000, validation_batch_size = 1000,\n",
    "callbacks = [check_pt], verbose =2, workers = 3, epochs = epoch_number)\n"
   ]
  },
  {
   "cell_type": "code",
   "execution_count": null,
   "id": "82b2887f",
   "metadata": {},
   "outputs": [],
   "source": [
    "best_model = tf.keras.models.load_model('pythonash_model.h5')\n",
    "result = best_model.predict([test_df_non_dummy, test_df_dummy])\n",
    "result = Encoder.inverse_transform(np.argmax(result,axis=1))\n",
    "final_result = pd.DataFrame(result)\n",
    "final_result.columns =['Cover_Type']\n",
    "final_result\n"
   ]
  },
  {
   "cell_type": "code",
   "execution_count": null,
   "id": "f569436a",
   "metadata": {},
   "outputs": [],
   "source": [
    "submission['Cover_Type'] = final_result['Cover_Type']\n",
    "\n",
    "submission.to_csv('./submission.csv', index=False)\n",
    "\n",
    "submission\n"
   ]
  },
  {
   "cell_type": "code",
   "execution_count": null,
   "id": "9a684b17",
   "metadata": {},
   "outputs": [],
   "source": [
    " \n"
   ]
  }
 ],
 "metadata": {},
 "nbformat": 4,
 "nbformat_minor": 5
}
