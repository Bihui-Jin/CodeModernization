{
 "cells": [
  {
   "cell_type": "code",
   "execution_count": null,
   "id": "df7de64f",
   "metadata": {},
   "outputs": [],
   "source": [
    "import pandas as pd\n",
    "from pathlib import Path"
   ]
  },
  {
   "cell_type": "code",
   "execution_count": null,
   "id": "fcef8de1",
   "metadata": {},
   "outputs": [],
   "source": [
    "from sklearn.model_selection import train_test_split\n",
    "from sklearn.metrics import classification_report\n",
    "from catboost import CatBoostClassifier\n",
    "import pandas as pd\n",
    "import numpy as np\n",
    "import os\n",
    "\n",
    "pd.set_option('display.max_columns', None)\n",
    "pd.set_option('display.max_rows', None)\n"
   ]
  },
  {
   "cell_type": "code",
   "execution_count": null,
   "id": "2ccc8a75",
   "metadata": {},
   "outputs": [],
   "source": [
    "for dirname, _, filenames in os.walk('/kaggle/input'):\n",
    "    for filename in filenames:\n",
    "        print(os.path.join(dirname, filename))\n"
   ]
  },
  {
   "cell_type": "code",
   "execution_count": null,
   "id": "db955d8a",
   "metadata": {},
   "outputs": [],
   "source": [
    "train_df = pd.read_csv(\"/kaggle/input/tabular-playground-series-may-2022/train.csv\")\n",
    "test_df = pd.read_csv(\"/kaggle/input/tabular-playground-series-may-2022/test.csv\")\n"
   ]
  },
  {
   "cell_type": "code",
   "execution_count": null,
   "id": "c8082a74",
   "metadata": {},
   "outputs": [],
   "source": [
    "categorical_columns = [f\"f_{i}\" if len(str(i)) == 2 else f\"f_0{i}\" for i in range(7,19) ] + [\"f_27\", \"f_29\",\"f_30\"]\n",
    "real_value_columns = [ f\"f_0{i}\" for i in range(0,7) ] + [ f\"f_{i}\" for i in range(19,29) ]\n",
    "real_value_columns.pop(real_value_columns.index(\"f_27\"))\n"
   ]
  },
  {
   "cell_type": "code",
   "execution_count": null,
   "id": "3805eb15",
   "metadata": {},
   "outputs": [],
   "source": [
    "x_train, x_test, y_train, y_test = train_test_split(train_df.drop([\"id\",\"target\"], axis=1), train_df.target, test_size=0.1)\n"
   ]
  },
  {
   "cell_type": "code",
   "execution_count": null,
   "id": "2122750a",
   "metadata": {},
   "outputs": [],
   "source": [
    "model = CatBoostClassifier(\n",
    "    cat_features=categorical_columns,\n",
    "    n_estimators=7000,\n",
    "    learning_rate=0.10315154739037707,\n",
    "    depth=2,\n",
    "    l2_leaf_reg=1,\n",
    "    task_type=\"GPU\",\n",
    "    verbose=300\n",
    ")\n",
    "\n",
    "model.fit(x_train, y_train)\n"
   ]
  },
  {
   "cell_type": "code",
   "execution_count": null,
   "id": "ac3ee8c0",
   "metadata": {},
   "outputs": [],
   "source": [
    "print(classification_report(y_test, model.predict(x_test)))\n"
   ]
  },
  {
   "cell_type": "code",
   "execution_count": null,
   "id": "2cfcded1",
   "metadata": {},
   "outputs": [],
   "source": [
    "prediction = model.predict(test_df.drop([\"id\"],axis=1))\n"
   ]
  },
  {
   "cell_type": "code",
   "execution_count": null,
   "id": "8550f74e",
   "metadata": {},
   "outputs": [],
   "source": [
    "prediction_df = test_df[[\"id\"]]\n",
    "prediction_df[\"target\"] = prediction.astype(int)\n"
   ]
  },
  {
   "cell_type": "code",
   "execution_count": null,
   "id": "135d4d3a",
   "metadata": {},
   "outputs": [],
   "source": [
    "prediction_df.to_csv(\"submission.csv\", index=False)\n"
   ]
  },
  {
   "cell_type": "code",
   "execution_count": null,
   "id": "a9f9c8ba",
   "metadata": {},
   "outputs": [],
   "source": [
    " \n"
   ]
  }
 ],
 "metadata": {},
 "nbformat": 4,
 "nbformat_minor": 5
}
