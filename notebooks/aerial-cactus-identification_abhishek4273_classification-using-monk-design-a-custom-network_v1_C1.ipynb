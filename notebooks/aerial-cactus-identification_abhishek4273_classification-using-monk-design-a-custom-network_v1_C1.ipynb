{
 "cells": [
  {
   "cell_type": "code",
   "execution_count": null,
   "id": "59adbddd",
   "metadata": {},
   "outputs": [],
   "source": [
    "import pandas as pd\n",
    "from pathlib import Path"
   ]
  },
  {
   "cell_type": "code",
   "execution_count": null,
   "id": "6535688e",
   "metadata": {},
   "outputs": [],
   "source": [
    "! git clone https://github.com/Tessellate-Imaging/monk_v1.git\n"
   ]
  },
  {
   "cell_type": "code",
   "execution_count": null,
   "id": "1c6060d0",
   "metadata": {},
   "outputs": [],
   "source": [
    "!pip install -r monk_v1/installation/requirements_kaggle.txt\n"
   ]
  },
  {
   "cell_type": "code",
   "execution_count": null,
   "id": "5b861bd3",
   "metadata": {},
   "outputs": [],
   "source": [
    "import sys\n",
    "sys.path.append(\"/kaggle/working/monk_v1/monk/\")\n"
   ]
  },
  {
   "cell_type": "code",
   "execution_count": null,
   "id": "742beb2d",
   "metadata": {},
   "outputs": [],
   "source": [
    "!unzip -q /kaggle/input/aerial-cactus-identification/train.zip\n"
   ]
  },
  {
   "cell_type": "code",
   "execution_count": null,
   "id": "bbe5a029",
   "metadata": {},
   "outputs": [],
   "source": [
    "!unzip -q /kaggle/input/aerial-cactus-identification/test.zip\n"
   ]
  },
  {
   "cell_type": "code",
   "execution_count": null,
   "id": "ca6de0b2",
   "metadata": {},
   "outputs": [],
   "source": [
    "from pytorch_prototype import prototype\n"
   ]
  },
  {
   "cell_type": "code",
   "execution_count": null,
   "id": "bd1cb37d",
   "metadata": {},
   "outputs": [],
   "source": [
    "gtf = prototype(verbose=1);\n",
    "gtf.Prototype(\"sample-project-1\", \"sample-experiment-1\");\n",
    "\n",
    "gtf.Dataset_Params(dataset_path=\"train/\",\n",
    "           path_to_csv=\"/kaggle/input/aerial-cactus-identification/train.csv\",\n",
    "        input_size=(32, 32), batch_size=16, shuffle_data=True, num_processors=3);\n",
    "\n",
    "gtf.apply_random_horizontal_flip(train=True, val=True);\n",
    "gtf.apply_normalize(mean=[0.485, 0.456, 0.406], std=[0.229, 0.224, 0.225], train=True, val=True, test=True);\n",
    "\n",
    "gtf.Dataset();\n"
   ]
  },
  {
   "cell_type": "code",
   "execution_count": null,
   "id": "359ab8c8",
   "metadata": {},
   "outputs": [],
   "source": [
    " \n"
   ]
  },
  {
   "cell_type": "code",
   "execution_count": null,
   "id": "569cd5be",
   "metadata": {},
   "outputs": [],
   "source": [
    "network = [];\n",
    "network.append(gtf.convolution(output_channels=16));\n",
    "network.append(gtf.batch_normalization());\n",
    "network.append(gtf.relu());\n",
    "network.append(gtf.convolution(output_channels=16));\n",
    "network.append(gtf.batch_normalization());\n",
    "network.append(gtf.relu());\n",
    "network.append(gtf.max_pooling());\n",
    "gtf.debug_custom_model_design(network);\n"
   ]
  },
  {
   "cell_type": "code",
   "execution_count": null,
   "id": "d281c41a",
   "metadata": {},
   "outputs": [],
   "source": [
    "subnetwork = [];\n",
    "branch1 = [];\n",
    "branch1.append(gtf.convolution(output_channels=16));\n",
    "branch1.append(gtf.batch_normalization());\n",
    "branch1.append(gtf.convolution(output_channels=16));\n",
    "branch1.append(gtf.batch_normalization());\n",
    "\n",
    "branch2 = [];\n",
    "branch2.append(gtf.convolution(output_channels=16));\n",
    "branch2.append(gtf.batch_normalization());\n",
    "\n",
    "branch3 = [];\n",
    "branch3.append(gtf.identity())\n",
    "\n",
    "subnetwork.append(branch1);\n",
    "subnetwork.append(branch2);\n",
    "subnetwork.append(branch3);\n",
    "subnetwork.append(gtf.concatenate());\n",
    "\n",
    "\n",
    "network.append(subnetwork);\n",
    "gtf.debug_custom_model_design(network);\n"
   ]
  },
  {
   "cell_type": "code",
   "execution_count": null,
   "id": "ed746311",
   "metadata": {},
   "outputs": [],
   "source": [
    "network.append(gtf.convolution(output_channels=32));\n",
    "network.append(gtf.batch_normalization());\n",
    "network.append(gtf.relu());\n",
    "network.append(gtf.max_pooling());\n",
    "gtf.debug_custom_model_design(network);\n"
   ]
  },
  {
   "cell_type": "code",
   "execution_count": null,
   "id": "86f79138",
   "metadata": {},
   "outputs": [],
   "source": [
    "subnetwork = [];\n",
    "branch1 = [];\n",
    "branch1.append(gtf.convolution(output_channels=32));\n",
    "branch1.append(gtf.batch_normalization());\n",
    "branch1.append(gtf.convolution(output_channels=32));\n",
    "branch1.append(gtf.batch_normalization());\n",
    "\n",
    "branch2 = [];\n",
    "branch2.append(gtf.convolution(output_channels=32));\n",
    "branch2.append(gtf.batch_normalization());\n",
    "\n",
    "branch3 = [];\n",
    "branch3.append(gtf.identity())\n",
    "\n",
    "subnetwork.append(branch1);\n",
    "subnetwork.append(branch2);\n",
    "subnetwork.append(branch3);\n",
    "subnetwork.append(gtf.add());\n",
    "\n",
    "\n",
    "network.append(subnetwork);\n",
    "gtf.debug_custom_model_design(network);\n"
   ]
  },
  {
   "cell_type": "code",
   "execution_count": null,
   "id": "148631cf",
   "metadata": {},
   "outputs": [],
   "source": [
    "network.append(gtf.convolution(output_channels=32));\n",
    "network.append(gtf.batch_normalization());\n",
    "network.append(gtf.relu());\n",
    "network.append(gtf.max_pooling());\n",
    "gtf.debug_custom_model_design(network);\n"
   ]
  },
  {
   "cell_type": "code",
   "execution_count": null,
   "id": "7eff631c",
   "metadata": {},
   "outputs": [],
   "source": [
    "network.append(gtf.flatten());\n",
    "network.append(gtf.fully_connected(units=1024));\n",
    "network.append(gtf.dropout(drop_probability=0.2));\n",
    "network.append(gtf.fully_connected(units=2));\n",
    "gtf.Compile_Network(network, data_shape=(3, 32, 32));\n"
   ]
  },
  {
   "cell_type": "code",
   "execution_count": null,
   "id": "1833a841",
   "metadata": {},
   "outputs": [],
   "source": [
    " \n"
   ]
  },
  {
   "cell_type": "code",
   "execution_count": null,
   "id": "731dccc7",
   "metadata": {},
   "outputs": [],
   "source": [
    " \n"
   ]
  },
  {
   "cell_type": "code",
   "execution_count": null,
   "id": "4c40d326",
   "metadata": {},
   "outputs": [],
   "source": [
    " \n"
   ]
  },
  {
   "cell_type": "code",
   "execution_count": null,
   "id": "eba2964e",
   "metadata": {},
   "outputs": [],
   "source": [
    "gtf.Training_Params(num_epochs=2, display_progress=True, display_progress_realtime=True, \n",
    "        save_intermediate_models=False, save_training_logs=True);\n",
    "\n",
    "\n",
    "gtf.optimizer_sgd(0.001);\n",
    "gtf.lr_fixed();\n",
    "gtf.loss_softmax_crossentropy();\n"
   ]
  },
  {
   "cell_type": "code",
   "execution_count": null,
   "id": "d361b79c",
   "metadata": {},
   "outputs": [],
   "source": [
    "gtf.Train();\n"
   ]
  },
  {
   "cell_type": "code",
   "execution_count": null,
   "id": "120767fb",
   "metadata": {},
   "outputs": [],
   "source": [
    " \n"
   ]
  },
  {
   "cell_type": "code",
   "execution_count": null,
   "id": "d69aa56f",
   "metadata": {},
   "outputs": [],
   "source": [
    " \n"
   ]
  },
  {
   "cell_type": "code",
   "execution_count": null,
   "id": "f214fae8",
   "metadata": {},
   "outputs": [],
   "source": [
    "# Step 0 - Using Pytorch\n",
    "from pytorch_prototype import prototype\n",
    "\n",
    "# Step 1 - Load experiment in evaluation mode\n",
    "ptf = prototype(verbose=1);\n",
    "ptf.Prototype(\"sample-project-1\", \"sample-experiment-1\", eval_infer=True)\n",
    "\n",
    "\n",
    "# Step 2 - Run inference on dataset\n",
    "output = ptf.Infer(img_dir=\"test/\");\n"
   ]
  },
  {
   "cell_type": "code",
   "execution_count": null,
   "id": "8d52f734",
   "metadata": {},
   "outputs": [],
   "source": [
    "num_0 = 0;\n",
    "num_1 = 1;\n"
   ]
  },
  {
   "cell_type": "code",
   "execution_count": null,
   "id": "6c66829a",
   "metadata": {},
   "outputs": [],
   "source": [
    "# Create submission\n",
    "import pandas as pd\n",
    "sub = pd.read_csv(\"/kaggle/input/aerial-cactus-identification/sample_submission.csv\");\n",
    "for i in range(len(output)):\n",
    "    index = int(sub[sub['id']==output[i]['img_name']].index[0])\n",
    "    if(int(output[i]['predicted_class']) == 0):\n",
    "        num_0 += 1;\n",
    "    else:\n",
    "        num_1 += 1;\n",
    "    sub['has_cactus'][index] = int(output[i]['predicted_class'])\n",
    "sub.to_csv(\"submission.csv\", index=False);\n"
   ]
  },
  {
   "cell_type": "code",
   "execution_count": null,
   "id": "f7682301",
   "metadata": {},
   "outputs": [],
   "source": [
    "num_0, num_1\n"
   ]
  },
  {
   "cell_type": "code",
   "execution_count": null,
   "id": "16f3e806",
   "metadata": {},
   "outputs": [],
   "source": [
    "!rm -r /kaggle/working/monk_v1/\n"
   ]
  },
  {
   "cell_type": "code",
   "execution_count": null,
   "id": "47eb900e",
   "metadata": {},
   "outputs": [],
   "source": [
    "!rm -r test\n"
   ]
  },
  {
   "cell_type": "code",
   "execution_count": null,
   "id": "6efe01d3",
   "metadata": {},
   "outputs": [],
   "source": [
    "!rm -r train\n"
   ]
  },
  {
   "cell_type": "code",
   "execution_count": null,
   "id": "fa7c158a",
   "metadata": {},
   "outputs": [],
   "source": [
    " \n"
   ]
  }
 ],
 "metadata": {},
 "nbformat": 4,
 "nbformat_minor": 5
}
