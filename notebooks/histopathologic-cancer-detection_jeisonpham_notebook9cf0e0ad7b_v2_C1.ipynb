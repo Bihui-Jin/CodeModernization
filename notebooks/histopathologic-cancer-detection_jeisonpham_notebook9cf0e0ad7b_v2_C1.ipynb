{
  "cells": [
    {
      "cell_type": "code",
      "execution_count": null,
      "id": "95f04e95",
      "metadata": {},
      "outputs": [],
      "source": [
        "import pandas as pd\n",
        "from pathlib import Path"
      ]
    },
    {
      "cell_type": "code",
      "execution_count": null,
      "id": "5e9975a1",
      "metadata": {},
      "outputs": [],
      "source": [
        "# This Python 3 environment comes with many helpful analytics libraries installed\n",
        "# It is defined by the kaggle/python Docker image: https://github.com/kaggle/docker-python\n",
        "# For example, here's several helpful packages to load\n",
        "\n",
        "import numpy as np # linear algebra\n",
        "import pandas as pd # data processing, CSV file I/O (e.g. pd.read_csv)\n",
        "import matplotlib.pyplot as plt\n",
        "from PIL import Image\n",
        "import tensorflow as tf\n",
        "import os\n",
        "import multiprocessing\n",
        "from tqdm import tqdm\n",
        "from PIL import ImageDraw\n",
        "train_on_gpu = True\n",
        "\n",
        "Path = '/kaggle/input/histopathologic-cancer-detection/'\n",
        "\n",
        "# Input data files are available in the read-only \"../input/\" directory\n",
        "# For example, running this (by clicking run or pressing Shift+Enter) will list all files under the input directory\n",
        "\n",
        "#import os\n",
        "#for dirname, _, filenames in os.walk('/kaggle/input'):\n",
        "#    for filename in filenames:\n",
        "#        print(os.path.join(dirname, filename))\n",
        "\n",
        "# You can write up to 20GB to the current directory (/kaggle/working/) that gets preserved as output when you create a version using \"Save & Run All\" \n",
        "# You can also write temporary files to /kaggle/temp/, but they won't be saved outside of the current session\n"
      ]
    },
    {
      "cell_type": "code",
      "execution_count": null,
      "id": "b9e87714",
      "metadata": {},
      "outputs": [],
      "source": [
        "from glob import glob\n",
        "\n",
        "files = []\n",
        "for file in glob(\"/kaggle/input/histopathologic-cancer-detection/test/*.tif\"):\n",
        "    files.append(file)\n",
        "files[0]\n"
      ]
    },
    {
      "cell_type": "code",
      "execution_count": null,
      "id": "3711288f",
      "metadata": {},
      "outputs": [],
      "source": [
        "SAMPLE_SUB = '/kaggle/input/histopathologic-cancer-detection/sample_submission.csv'\n",
        "sample_df = pd.read_csv(SAMPLE_SUB)\n",
        "sample_list = list(sample_df.id)\n",
        "len(sample_list)\n"
      ]
    },
    {
      "cell_type": "code",
      "execution_count": null,
      "id": "0add4f26",
      "metadata": {},
      "outputs": [],
      "source": [
        "pred_dict = dict((key, value) for (key, value) in zip(files, [1] * len(files)))\n",
        "pred_corr = [pred_dict[\"/kaggle/input/histopathologic-cancer-detection/test/\" + id + \".tif\"] for id in sample_list]\n"
      ]
    },
    {
      "cell_type": "code",
      "execution_count": null,
      "id": "661fecfe",
      "metadata": {},
      "outputs": [],
      "source": [
        "submission_df = pd.DataFrame({\"id\": sample_list, \"label\": pred_corr})\n",
        "submission_df.to_csv(\"submission.csv\", header=True, index=False)\n"
      ]
    }
  ],
  "metadata": {},
  "nbformat": 4,
  "nbformat_minor": 5
}