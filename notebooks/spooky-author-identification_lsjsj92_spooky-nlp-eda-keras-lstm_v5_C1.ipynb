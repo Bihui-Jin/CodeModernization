{
 "cells": [
  {
   "cell_type": "code",
   "execution_count": null,
   "id": "ffdd2d22",
   "metadata": {},
   "outputs": [],
   "source": [
    "import pandas as pd\n",
    "from pathlib import Path"
   ]
  },
  {
   "cell_type": "code",
   "execution_count": null,
   "id": "6c53aa47",
   "metadata": {},
   "outputs": [],
   "source": [
    "# This Python 3 environment comes with many helpful analytics libraries installed\n",
    "# It is defined by the kaggle/python docker image: https://github.com/kaggle/docker-python\n",
    "# For example, here's several helpful packages to load in \n",
    "\n",
    "import numpy as np # linear algebra\n",
    "import pandas as pd # data processing, CSV file I/O (e.g. pd.read_csv)\n",
    "\n",
    "# Input data files are available in the \"../input/\" directory.\n",
    "# For example, running this (by clicking run or pressing Shift+Enter) will list the files in the input directory\n",
    "\n",
    "import os\n",
    "print(os.listdir(\"../input\"))\n",
    "import matplotlib.pyplot as plt\n",
    "import seaborn as sns\n",
    "# Any results you write to the current directory are saved as output.\n"
   ]
  },
  {
   "cell_type": "code",
   "execution_count": null,
   "id": "1c2330c8",
   "metadata": {},
   "outputs": [],
   "source": [
    "from wordcloud import WordCloud\n",
    "from sklearn.preprocessing import LabelEncoder\n",
    "from keras.models import Model\n",
    "from keras.layers import LSTM, Dense, Input, Dropout, Bidirectional, GlobalMaxPool1D, Embedding\n",
    "from keras.preprocessing import sequence\n",
    "from keras.preprocessing.text import Tokenizer\n",
    "from keras.callbacks import EarlyStopping\n",
    "from keras.utils import to_categorical\n"
   ]
  },
  {
   "cell_type": "code",
   "execution_count": null,
   "id": "53867b75",
   "metadata": {},
   "outputs": [],
   "source": [
    "data = pd.read_csv('../input/train.csv')\n",
    "test_data = pd.read_csv('../input/test.csv')\n"
   ]
  },
  {
   "cell_type": "code",
   "execution_count": null,
   "id": "d7a144fb",
   "metadata": {},
   "outputs": [],
   "source": [
    "data.head()\n"
   ]
  },
  {
   "cell_type": "code",
   "execution_count": null,
   "id": "30dd2fd1",
   "metadata": {},
   "outputs": [],
   "source": [
    "data.author.value_counts().plot(kind = 'bar')\n"
   ]
  },
  {
   "cell_type": "code",
   "execution_count": null,
   "id": "77b8b2c8",
   "metadata": {},
   "outputs": [],
   "source": [
    "data_length = data.text.apply(len)\n",
    "data_length.head()\n"
   ]
  },
  {
   "cell_type": "code",
   "execution_count": null,
   "id": "01b77868",
   "metadata": {},
   "outputs": [],
   "source": [
    "plt.figure(figsize = (12, 5))\n",
    "plt.hist(data_length, bins = 20, range = [0, 500], color = 'r', alpha = 0.3)\n",
    "plt.show()\n"
   ]
  },
  {
   "cell_type": "code",
   "execution_count": null,
   "id": "f808d779",
   "metadata": {},
   "outputs": [],
   "source": [
    "data_split_length = data.text.apply(lambda x : len(x.split(\" \")))\n",
    "data_split_length.head()\n"
   ]
  },
  {
   "cell_type": "code",
   "execution_count": null,
   "id": "b39ebd6d",
   "metadata": {},
   "outputs": [],
   "source": [
    "plt.figure(figsize = (12, 5))\n",
    "plt.hist(data_split_length, bins = 10, range = [0, 100], color = 'g', alpha = 0.5)\n",
    "plt.show()\n"
   ]
  },
  {
   "cell_type": "code",
   "execution_count": null,
   "id": "89a9838e",
   "metadata": {},
   "outputs": [],
   "source": [
    "print(\"data_length max : \", np.max(data_length))\n",
    "print(\"data_length min : \", np.min(data_length))\n",
    "print(\"data_length mean : \", np.mean(data_length))\n",
    "print(\"data_length 75% : \", np.percentile(data_length, 75))\n",
    "print(\"data_length 90% : \", np.percentile(data_length, 90))\n"
   ]
  },
  {
   "cell_type": "code",
   "execution_count": null,
   "id": "2264d6fd",
   "metadata": {},
   "outputs": [],
   "source": [
    "print(\"data_split_length max : \", np.max(data_split_length))\n",
    "print(\"data_split_length min : \", np.min(data_split_length))\n",
    "print(\"data_split_length mean : \", np.mean(data_split_length))\n",
    "print(\"data_split_length 75% : \", np.percentile(data_split_length, 75))\n",
    "print(\"data_split_length 90% : \", np.percentile(data_split_length, 90))\n"
   ]
  },
  {
   "cell_type": "code",
   "execution_count": null,
   "id": "9f2aaca7",
   "metadata": {},
   "outputs": [],
   "source": [
    "cloud = WordCloud(width = 400, height = 200).generate(\" \".join(data.text))\n",
    "plt.figure(figsize = (12, 5))\n",
    "plt.imshow(cloud)\n",
    "plt.axis('off')\n"
   ]
  },
  {
   "cell_type": "code",
   "execution_count": null,
   "id": "e1b41f07",
   "metadata": {},
   "outputs": [],
   "source": [
    "cloud = WordCloud(width = 400, height = 200).generate(\" \".join(data[data[\"author\"] == 'HPL']['text']))\n",
    "plt.figure(figsize = (12, 5))\n",
    "plt.imshow(cloud)\n",
    "plt.axis('off')\n"
   ]
  },
  {
   "cell_type": "code",
   "execution_count": null,
   "id": "91b23a52",
   "metadata": {},
   "outputs": [],
   "source": [
    "cloud = WordCloud(width = 400, height = 200).generate(\" \".join(data[data[\"author\"] == 'MWS']['text']))\n",
    "plt.figure(figsize = (12, 5))\n",
    "plt.imshow(cloud)\n",
    "plt.axis('off')\n"
   ]
  },
  {
   "cell_type": "code",
   "execution_count": null,
   "id": "20d445e8",
   "metadata": {},
   "outputs": [],
   "source": [
    "cloud = WordCloud(width = 400, height = 200).generate(\" \".join(data[data[\"author\"] == 'EAP']['text']))\n",
    "plt.figure(figsize = (12, 5))\n",
    "plt.imshow(cloud)\n",
    "plt.axis('off')\n"
   ]
  },
  {
   "cell_type": "code",
   "execution_count": null,
   "id": "a111b543",
   "metadata": {},
   "outputs": [],
   "source": [
    "le = LabelEncoder()\n",
    "le.fit(data.author)\n",
    "y = le.transform(data.author)\n"
   ]
  },
  {
   "cell_type": "code",
   "execution_count": null,
   "id": "1830ca93",
   "metadata": {},
   "outputs": [],
   "source": [
    "y[:10]\n"
   ]
  },
  {
   "cell_type": "code",
   "execution_count": null,
   "id": "8d54efb4",
   "metadata": {},
   "outputs": [],
   "source": [
    "y = to_categorical(y)\n"
   ]
  },
  {
   "cell_type": "code",
   "execution_count": null,
   "id": "ccb1bdd0",
   "metadata": {},
   "outputs": [],
   "source": [
    "y[:10]\n"
   ]
  },
  {
   "cell_type": "code",
   "execution_count": null,
   "id": "9a2a21ee",
   "metadata": {},
   "outputs": [],
   "source": [
    "num_words = 5000\n",
    "max_len = 50\n",
    "emb_size = 64\n"
   ]
  },
  {
   "cell_type": "code",
   "execution_count": null,
   "id": "606c6d47",
   "metadata": {},
   "outputs": [],
   "source": [
    "tok = Tokenizer(num_words = num_words)\n",
    "tok.fit_on_texts(list(data.text))\n"
   ]
  },
  {
   "cell_type": "code",
   "execution_count": null,
   "id": "8202bda4",
   "metadata": {},
   "outputs": [],
   "source": [
    "X = tok.texts_to_sequences(data.text)\n",
    "X_test = tok.texts_to_sequences(test_data.text)\n"
   ]
  },
  {
   "cell_type": "code",
   "execution_count": null,
   "id": "cbb31b7a",
   "metadata": {},
   "outputs": [],
   "source": [
    "X = sequence.pad_sequences(X, maxlen = max_len)\n",
    "X_test = sequence.pad_sequences(X_test, maxlen = max_len)\n"
   ]
  },
  {
   "cell_type": "code",
   "execution_count": null,
   "id": "e473dd13",
   "metadata": {},
   "outputs": [],
   "source": [
    "X[0]\n"
   ]
  },
  {
   "cell_type": "code",
   "execution_count": null,
   "id": "ee86ef07",
   "metadata": {},
   "outputs": [],
   "source": [
    "def model():\n",
    "    inp = Input(shape = (max_len, ))\n",
    "    layer = Embedding(num_words, emb_size)(inp)\n",
    "    layer = Bidirectional(LSTM(50, return_sequences = True, recurrent_dropout = 0.2))(layer)\n",
    "    layer = GlobalMaxPool1D()(layer)\n",
    "    layer = Dropout(0.2)(layer)\n",
    "    layer = Dense(16, activation = 'relu')(layer)\n",
    "    layer = Dropout(0.2)(layer)\n",
    "    layer = Dense(3, activation = 'softmax')(layer)\n",
    "    model = Model(inputs = inp, outputs = layer)\n",
    "    model.compile(loss = 'categorical_crossentropy', optimizer = 'adam', metrics = ['accuracy'])\n",
    "    return model\n"
   ]
  },
  {
   "cell_type": "code",
   "execution_count": null,
   "id": "6a730427",
   "metadata": {},
   "outputs": [],
   "source": [
    "model = model()\n",
    "model.summary()\n"
   ]
  },
  {
   "cell_type": "code",
   "execution_count": null,
   "id": "dd3664cd",
   "metadata": {},
   "outputs": [],
   "source": [
    "early_stop = EarlyStopping(monitor = 'val_loss', patience = 1)\n"
   ]
  },
  {
   "cell_type": "code",
   "execution_count": null,
   "id": "6ff0bce8",
   "metadata": {},
   "outputs": [],
   "source": [
    "hist = model.fit(X, y, batch_size = 32, epochs = 3, validation_split = 0.2, callbacks = [early_stop])\n"
   ]
  },
  {
   "cell_type": "code",
   "execution_count": null,
   "id": "d1aff11c",
   "metadata": {},
   "outputs": [],
   "source": [
    "vloss = hist.history['val_loss']\n",
    "loss = hist.history['loss']\n",
    "\n",
    "x_len = np.arange(len(loss))\n",
    "\n",
    "plt.plot(x_len, vloss, marker = '.', color = 'r', label = 'val_loss')\n",
    "plt.plot(x_len, loss, marker = '.', color = 'b', label = 'loss')\n",
    "plt.legend()\n",
    "plt.grid()\n",
    "plt.xlabel(\"epochs\")\n",
    "plt.ylabel(\"loss\")\n",
    "plt.show()\n"
   ]
  },
  {
   "cell_type": "code",
   "execution_count": null,
   "id": "30811e5a",
   "metadata": {},
   "outputs": [],
   "source": [
    "results = model.predict(X_test)\n",
    "ids = test_data['id']\n",
    "results = pd.DataFrame(results, columns=['EAP', 'HPL','MWS'])\n",
    "results.insert(0, \"id\", ids)\n",
    "results.head()\n"
   ]
  },
  {
   "cell_type": "code",
   "execution_count": null,
   "id": "6991f82d",
   "metadata": {},
   "outputs": [],
   "source": [
    "results.to_csv(\"my_submission.csv\", index=False)\n"
   ]
  }
 ],
 "metadata": {},
 "nbformat": 4,
 "nbformat_minor": 5
}
