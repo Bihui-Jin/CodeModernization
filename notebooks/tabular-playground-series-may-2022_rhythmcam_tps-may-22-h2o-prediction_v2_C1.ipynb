{
  "cells": [
    {
      "cell_type": "code",
      "execution_count": null,
      "id": "7bc42cd9",
      "metadata": {},
      "outputs": [],
      "source": [
        "import pandas as pd\n",
        "from pathlib import Path"
      ]
    },
    {
      "cell_type": "code",
      "execution_count": null,
      "id": "892d9403",
      "metadata": {},
      "outputs": [],
      "source": [
        "import numpy as np\n",
        "import pandas as pd \n",
        "\n",
        "import h2o\n",
        "from h2o.automl import H2OAutoML\n",
        "\n",
        "TRAIN_PATH = \"../input/tabular-playground-series-may-2022/train.csv\"\n",
        "TEST_PATH = \"../input/tabular-playground-series-may-2022/test.csv\"\n",
        "SAMPLE_SUBMISSION_PATH = \"../input/tabular-playground-series-may-2022/sample_submission.csv\"\n",
        "SUBMISSION_PATH = \"submission.csv \"\n",
        "\n",
        "ID = \"id\"\n",
        "TARGET = \"target\"\n",
        "\n",
        "NEW_TRAIN_PATH = \"train.csv\"\n",
        "NEW_TEST_PATH = \"test.csv\"\n",
        "\n",
        "SEED_LIST = [7,77]\n",
        "MAX_RUNTIME_SECS = 60 * 3\n"
      ]
    },
    {
      "cell_type": "code",
      "execution_count": null,
      "id": "0250864d",
      "metadata": {},
      "outputs": [],
      "source": [
        "train = pd.read_csv(TRAIN_PATH)\n",
        "test = pd.read_csv(TEST_PATH)\n",
        "\n",
        "for df in [train, test]:\n",
        "    # Extract the 10 letters from f_27 into individual features\n",
        "    for i in range(10):\n",
        "        df[f'ch{i}'] = df.f_27.str.get(i).apply(ord) - ord('A')\n",
        "        \n",
        "    df[\"unique_characters\"] = df.f_27.apply(lambda s: len(set(s)))\n",
        "    \n",
        "train.to_csv(NEW_TRAIN_PATH,index=False)\n",
        "test.to_csv(NEW_TEST_PATH,index=False)\n"
      ]
    },
    {
      "cell_type": "code",
      "execution_count": null,
      "id": "52edc745",
      "metadata": {},
      "outputs": [],
      "source": [
        "h2o.init()\n",
        "\n",
        "train = h2o.import_file(NEW_TRAIN_PATH)\n",
        "test = h2o.import_file(NEW_TEST_PATH)\n",
        "\n",
        "x = train.columns\n",
        "y = TARGET\n",
        "\n",
        "x.remove(y)\n",
        "x.remove(ID) #remove id  \n",
        "\n",
        "pred_test = []\n",
        "for selSeed in SEED_LIST:\n",
        "    aml_y = H2OAutoML(max_runtime_secs=MAX_RUNTIME_SECS, seed=selSeed)\n",
        "    aml_y.train(x=x, y=y, training_frame=train)\n",
        "\n",
        "    preds_y = aml_y.predict(test)\n",
        "    pred_test.append(preds_y.as_data_frame().predict) \n"
      ]
    },
    {
      "cell_type": "code",
      "execution_count": null,
      "id": "cd2c845b",
      "metadata": {},
      "outputs": [],
      "source": [
        "from scipy import stats\n",
        "modeResult = stats.mode(pred_test, axis=0)\n",
        "final_test_pred = modeResult.mode\n",
        "\n",
        "submission = pd.read_csv(SAMPLE_SUBMISSION_PATH)\n",
        "submission[TARGET] = final_test_pred[0]\n",
        "submission.to_csv(SUBMISSION_PATH, index=False)\n",
        "submission.head()\n"
      ]
    }
  ],
  "metadata": {},
  "nbformat": 4,
  "nbformat_minor": 5
}