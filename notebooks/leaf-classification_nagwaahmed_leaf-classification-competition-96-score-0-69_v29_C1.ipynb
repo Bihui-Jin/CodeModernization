{
 "cells": [
  {
   "cell_type": "code",
   "execution_count": null,
   "id": "0b0a472a",
   "metadata": {},
   "outputs": [],
   "source": [
    "import pandas as pd\n",
    "from pathlib import Path"
   ]
  },
  {
   "cell_type": "code",
   "execution_count": null,
   "id": "0d9c544b",
   "metadata": {},
   "outputs": [],
   "source": [
    "# This Python 3 environment comes with many helpful analytics libraries installed\n",
    "# It is defined by the kaggle/python Docker image: https://github.com/kaggle/docker-python\n",
    "# For example, here's several helpful packages to load\n",
    "\n",
    "import numpy as np # linear algebra\n",
    "import pandas as pd # data processing, CSV file I/O (e.g. pd.read_csv)\n",
    "\n",
    "# Input data files are available in the read-only \"../input/\" directory\n",
    "# For example, running this (by clicking run or pressing Shift+Enter) will list all files under the input directory\n",
    "\n",
    "import os\n",
    "for dirname, _, filenames in os.walk('/kaggle/input'):\n",
    "    for filename in filenames:\n",
    "        print(os.path.join(dirname, filename))\n",
    "\n",
    "# You can write up to 20GB to the current directory (/kaggle/working/) that gets preserved as output when you create a version using \"Save & Run All\" \n",
    "# You can also write temporary files to /kaggle/temp/, but they won't be saved outside of the current session\n"
   ]
  },
  {
   "cell_type": "code",
   "execution_count": null,
   "id": "e971254f",
   "metadata": {},
   "outputs": [],
   "source": [
    "#Display all rows\n",
    "pd.set_option('display.max_rows',None)\n"
   ]
  },
  {
   "cell_type": "code",
   "execution_count": null,
   "id": "94662b60",
   "metadata": {},
   "outputs": [],
   "source": [
    "train_data=pd.read_csv('/kaggle/input/leaf-classification/train.csv.zip')\n",
    "test_data=pd.read_csv('/kaggle/input/leaf-classification/test.csv.zip')\n",
    "train_data.head(10)\n"
   ]
  },
  {
   "cell_type": "code",
   "execution_count": null,
   "id": "b4250aa3",
   "metadata": {},
   "outputs": [],
   "source": [
    "#shape\n",
    "print(f'data contains {train_data.shape[0]} rows and {train_data.shape[1]} columns \\n')\n",
    "#missing data\n",
    "print(f'missing data per column is \\n {train_data.isna().sum()}')\n",
    "#duplicate\n",
    "duplicated_data=train_data.duplicated()\n",
    "#print(f'Number of duplicated rows = {len(duplicated_data[duplicated_data[1]==True])}')\n"
   ]
  },
  {
   "cell_type": "code",
   "execution_count": null,
   "id": "8b5503cd",
   "metadata": {},
   "outputs": [],
   "source": [
    "print(train_data.dtypes)\n"
   ]
  },
  {
   "cell_type": "code",
   "execution_count": null,
   "id": "18143823",
   "metadata": {},
   "outputs": [],
   "source": [
    "train_data.describe()\n"
   ]
  },
  {
   "cell_type": "code",
   "execution_count": null,
   "id": "46b767f0",
   "metadata": {},
   "outputs": [],
   "source": [
    "import matplotlib.pyplot as plt\n",
    "import numpy as np\n",
    "\n",
    "def identify_outliers(data):\n",
    "    # Calculate quartiles\n",
    "    quartiles = np.percentile(data, [25, 75])\n",
    "    lower_quartile = quartiles[0]\n",
    "    upper_quartile = quartiles[1]\n",
    "    \n",
    "    # Calculate interquartile range\n",
    "    iqr = upper_quartile - lower_quartile\n",
    "    \n",
    "    # Define the upper and lower bounds\n",
    "    lower_bound = lower_quartile - 1.5 * iqr\n",
    "    upper_bound = upper_quartile + 1.5 * iqr\n",
    "    \n",
    "    # Identify outliers\n",
    "    outliers = [x for x in data if x < lower_bound or x > upper_bound]\n",
    "    \n",
    "    return outliers\n"
   ]
  },
  {
   "cell_type": "code",
   "execution_count": null,
   "id": "c6734cd5",
   "metadata": {},
   "outputs": [],
   "source": [
    "train_dataoutlier=train_data.drop('species',axis=1)\n"
   ]
  },
  {
   "cell_type": "code",
   "execution_count": null,
   "id": "120ace13",
   "metadata": {},
   "outputs": [],
   "source": [
    "for col in train_dataoutlier.columns:\n",
    "    print(col)\n",
    "    # Identify outliers\n",
    "    outliers = identify_outliers(train_data[col])\n",
    "    if outliers:\n",
    "        print(\"Outliers:\", outliers,len(outliers))\n",
    "        \n",
    "    else:\n",
    "        print(\"No outliers found.\")\n"
   ]
  },
  {
   "cell_type": "code",
   "execution_count": null,
   "id": "e7c620f4",
   "metadata": {},
   "outputs": [],
   "source": [
    "from sklearn.preprocessing import LabelEncoder\n",
    "from sklearn.model_selection import train_test_split\n",
    "from sklearn.ensemble import RandomForestClassifier\n",
    "from sklearn.decomposition import PCA\n",
    "from sklearn.metrics import accuracy_score\n",
    "from sklearn.preprocessing import StandardScaler\n",
    "from sklearn.preprocessing import KBinsDiscretizer\n"
   ]
  },
  {
   "cell_type": "code",
   "execution_count": null,
   "id": "a0fee735",
   "metadata": {},
   "outputs": [],
   "source": [
    "#split into X and y to split to train and test\n",
    "\n",
    "X=train_data.loc[0:,train_data.columns!='species']\n",
    "X=X.drop(\"id\",axis=1)\n",
    "y=LabelEncoder().fit_transform(train_data.loc[0:,train_data.columns=='species'])\n",
    "X_train,X_test,y_train,y_test=train_test_split(X,y,test_size=0.2,random_state=42,stratify=y)\n"
   ]
  },
  {
   "cell_type": "code",
   "execution_count": null,
   "id": "868bce76",
   "metadata": {},
   "outputs": [],
   "source": [
    "# bin the values into three intervals\n",
    "discretizer = KBinsDiscretizer(n_bins=3, encode='ordinal', strategy='kmeans')\n",
    "X_binned_train = discretizer.fit_transform(X_train)\n",
    "X_binned_test=discretizer.transform(X_test)\n"
   ]
  },
  {
   "cell_type": "code",
   "execution_count": null,
   "id": "6d7b09a3",
   "metadata": {},
   "outputs": [],
   "source": [
    "clf = RandomForestClassifier(max_depth=None, random_state=42,n_estimators=2000)\n",
    "clf.fit(X_binned_train, y_train)\n"
   ]
  },
  {
   "cell_type": "code",
   "execution_count": null,
   "id": "82ec497c",
   "metadata": {},
   "outputs": [],
   "source": [
    "y_train_pred=clf.predict(X_binned_train)\n",
    "print(\"Train Accuracy = \",accuracy_score(y_train_pred,y_train))\n",
    "y_test_pred=clf.predict(X_binned_test)\n",
    "print(\"Test Accuracy = \",accuracy_score(y_test_pred,y_test))\n"
   ]
  },
  {
   "cell_type": "code",
   "execution_count": null,
   "id": "53ef6cf4",
   "metadata": {},
   "outputs": [],
   "source": [
    "'''clf = RandomForestClassifier(max_depth=None, random_state=42,n_estimators=2000)\n",
    "clf.fit(X_train, y_train)'''\n"
   ]
  },
  {
   "cell_type": "code",
   "execution_count": null,
   "id": "4a0ed206",
   "metadata": {},
   "outputs": [],
   "source": [
    "'''y_train_pred=clf.predict(X_train)\n",
    "print(\"Train Accuracy = \",accuracy_score(y_train_pred,y_train))\n",
    "y_test_pred=clf.predict(X_test)\n",
    "print(\"Test Accuracy = \",accuracy_score(y_test_pred,y_test))'''\n"
   ]
  },
  {
   "cell_type": "code",
   "execution_count": null,
   "id": "cb4a8c79",
   "metadata": {},
   "outputs": [],
   "source": [
    "classes = ['Acer_Capillipes', 'Acer_Circinatum', 'Acer_Mono', 'Acer_Opalus', 'Acer_Palmatum', 'Acer_Pictum', 'Acer_Platanoids', 'Acer_Rubrum', 'Acer_Rufinerve', 'Acer_Saccharinum', 'Alnus_Cordata', 'Alnus_Maximowiczii', 'Alnus_Rubra', 'Alnus_Sieboldiana', 'Alnus_Viridis', 'Arundinaria_Simonii', 'Betula_Austrosinensis', 'Betula_Pendula', 'Callicarpa_Bodinieri', 'Castanea_Sativa', 'Celtis_Koraiensis', 'Cercis_Siliquastrum', 'Cornus_Chinensis', 'Cornus_Controversa', 'Cornus_Macrophylla', 'Cotinus_Coggygria', 'Crataegus_Monogyna', 'Cytisus_Battandieri', 'Eucalyptus_Glaucescens', 'Eucalyptus_Neglecta', 'Eucalyptus_Urnigera', 'Fagus_Sylvatica', 'Ginkgo_Biloba', 'Ilex_Aquifolium', 'Ilex_Cornuta', 'Liquidambar_Styraciflua', 'Liriodendron_Tulipifera', 'Lithocarpus_Cleistocarpus', 'Lithocarpus_Edulis', 'Magnolia_Heptapeta', 'Magnolia_Salicifolia', 'Morus_Nigra', 'Olea_Europaea', 'Phildelphus', 'Populus_Adenopoda', 'Populus_Grandidentata', 'Populus_Nigra', 'Prunus_Avium', 'Prunus_X_Shmittii', 'Pterocarya_Stenoptera', 'Quercus_Afares', 'Quercus_Agrifolia', 'Quercus_Alnifolia', 'Quercus_Brantii', 'Quercus_Canariensis', 'Quercus_Castaneifolia', 'Quercus_Cerris', 'Quercus_Chrysolepis', 'Quercus_Coccifera', 'Quercus_Coccinea', 'Quercus_Crassifolia', 'Quercus_Crassipes', 'Quercus_Dolicholepis', 'Quercus_Ellipsoidalis', 'Quercus_Greggii', 'Quercus_Hartwissiana', 'Quercus_Ilex', 'Quercus_Imbricaria', 'Quercus_Infectoria_sub', 'Quercus_Kewensis', 'Quercus_Nigra', 'Quercus_Palustris', 'Quercus_Phellos', 'Quercus_Phillyraeoides', 'Quercus_Pontica', 'Quercus_Pubescens', 'Quercus_Pyrenaica', 'Quercus_Rhysophylla', 'Quercus_Rubra', 'Quercus_Semecarpifolia', 'Quercus_Shumardii', 'Quercus_Suber', 'Quercus_Texana', 'Quercus_Trojana', 'Quercus_Variabilis', 'Quercus_Vulcanica', 'Quercus_x_Hispanica', 'Quercus_x_Turneri', 'Rhododendron_x_Russellianum', 'Salix_Fragilis', 'Salix_Intergra', 'Sorbus_Aria', 'Tilia_Oliveri', 'Tilia_Platyphyllos', 'Tilia_Tomentosa', 'Ulmus_Bergmanniana', 'Viburnum_Tinus', 'Viburnum_x_Rhytidophylloides', 'Zelkova_Serrata']\n"
   ]
  },
  {
   "cell_type": "code",
   "execution_count": null,
   "id": "6e761daa",
   "metadata": {},
   "outputs": [],
   "source": [
    "index=test_data['id']\n",
    "test=test_data.drop('id',axis=1)\n",
    "test_dist=discretizer.transform(test)\n"
   ]
  },
  {
   "cell_type": "code",
   "execution_count": null,
   "id": "4007a1da",
   "metadata": {},
   "outputs": [],
   "source": [
    "test.shape\n"
   ]
  },
  {
   "cell_type": "code",
   "execution_count": null,
   "id": "9d870bc0",
   "metadata": {},
   "outputs": [],
   "source": [
    "output=clf.predict_proba(test_dist)\n"
   ]
  },
  {
   "cell_type": "code",
   "execution_count": null,
   "id": "caa8d649",
   "metadata": {},
   "outputs": [],
   "source": [
    "output.shape\n"
   ]
  },
  {
   "cell_type": "code",
   "execution_count": null,
   "id": "ac58be6a",
   "metadata": {},
   "outputs": [],
   "source": [
    "#output=output.reshape((594,99))\n"
   ]
  },
  {
   "cell_type": "code",
   "execution_count": null,
   "id": "e1433782",
   "metadata": {},
   "outputs": [],
   "source": [
    "submission = pd.DataFrame(output, columns=classes)\n",
    "submission.insert(0, 'id', index)\n",
    "submission.to_csv('submission.csv',index=False)\n"
   ]
  },
  {
   "cell_type": "code",
   "execution_count": null,
   "id": "f1413a7f",
   "metadata": {},
   "outputs": [],
   "source": [
    " \n"
   ]
  }
 ],
 "metadata": {},
 "nbformat": 4,
 "nbformat_minor": 5
}
