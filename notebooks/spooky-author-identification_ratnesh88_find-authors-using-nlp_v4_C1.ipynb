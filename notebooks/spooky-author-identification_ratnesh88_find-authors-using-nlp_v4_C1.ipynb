{
 "cells": [
  {
   "cell_type": "code",
   "execution_count": null,
   "id": "edeb0e66",
   "metadata": {},
   "outputs": [],
   "source": [
    "import pandas as pd\n",
    "from pathlib import Path"
   ]
  },
  {
   "cell_type": "code",
   "execution_count": null,
   "id": "55b6e408",
   "metadata": {},
   "outputs": [],
   "source": [
    "import numpy as np # linear algebra\n",
    "import pandas as pd # data processing, CSV file I/O (e.g. pd.read_csv)\n",
    "import tensorflow as tf\n",
    "import keras\n",
    "import matplotlib.pyplot as plt\n",
    "import seaborn as sns\n",
    "import tensorflow_hub as hub\n",
    "\n",
    "import nltk\n",
    "from nltk.probability import FreqDist \n",
    "import os\n",
    "print(os.listdir(\"../input\"))\n",
    "\n",
    "from sklearn.preprocessing import LabelEncoder\n",
    "from sklearn.metrics import classification_report, confusion_matrix\n",
    "\n",
    "# Any results you write to the current directory are saved as output.\n"
   ]
  },
  {
   "cell_type": "code",
   "execution_count": null,
   "id": "ec5da6cf",
   "metadata": {},
   "outputs": [],
   "source": [
    "embed = hub.Module(\"https://tfhub.dev/google/universal-sentence-encoder-large/3\")\n"
   ]
  },
  {
   "cell_type": "code",
   "execution_count": null,
   "id": "56950da6",
   "metadata": {},
   "outputs": [],
   "source": [
    "train = pd.read_csv('../input/train.csv')\n",
    "train.head()\n"
   ]
  },
  {
   "cell_type": "code",
   "execution_count": null,
   "id": "d6327a6a",
   "metadata": {},
   "outputs": [],
   "source": [
    "test = pd.read_csv('../input/test.csv')\n",
    "test.head()\n"
   ]
  },
  {
   "cell_type": "code",
   "execution_count": null,
   "id": "2c0954b3",
   "metadata": {},
   "outputs": [],
   "source": [
    "sns.countplot(train['author']);\n"
   ]
  },
  {
   "cell_type": "code",
   "execution_count": null,
   "id": "7b3f93a9",
   "metadata": {},
   "outputs": [],
   "source": [
    "x = list(train['text'])\n",
    "y = list(train['author'])\n"
   ]
  },
  {
   "cell_type": "code",
   "execution_count": null,
   "id": "ac758553",
   "metadata": {},
   "outputs": [],
   "source": [
    "le = LabelEncoder()\n",
    "le.fit(y)\n",
    "le.classes_\n"
   ]
  },
  {
   "cell_type": "code",
   "execution_count": null,
   "id": "e140fe8d",
   "metadata": {},
   "outputs": [],
   "source": [
    "def encode(le, label):\n",
    "    enc = le.transform(label)\n",
    "    return keras.utils.to_categorical(enc)\n",
    "\n",
    "def decode(le, one_hot):\n",
    "    dec = np.argmax(one_hot, axis=1)\n",
    "    return le.inverse_transform(dec)\n"
   ]
  },
  {
   "cell_type": "code",
   "execution_count": null,
   "id": "36385c47",
   "metadata": {},
   "outputs": [],
   "source": [
    "encD =  encode(le, ['EAP'])\n",
    "encD\n"
   ]
  },
  {
   "cell_type": "code",
   "execution_count": null,
   "id": "951ce2dd",
   "metadata": {},
   "outputs": [],
   "source": [
    "decD = decode(le, encD)\n",
    "decD\n"
   ]
  },
  {
   "cell_type": "code",
   "execution_count": null,
   "id": "fa5c5bb2",
   "metadata": {},
   "outputs": [],
   "source": [
    "x_enc = x\n",
    "y_enc = encode(le , y)\n",
    "y_enc\n"
   ]
  },
  {
   "cell_type": "code",
   "execution_count": null,
   "id": "7eb58cd2",
   "metadata": {},
   "outputs": [],
   "source": [
    "x_train = np.asarray(x_enc[:15000])\n",
    "y_train = np.asarray(y_enc[:15000])\n",
    "\n",
    "x_test = np.asarray(x_enc[15000:])\n",
    "y_test = np.asarray(y_enc[15000:])\n"
   ]
  },
  {
   "cell_type": "code",
   "execution_count": null,
   "id": "c441f988",
   "metadata": {},
   "outputs": [],
   "source": [
    "from keras.models import Sequential, Model\n",
    "from keras.layers import Dense, Activation, Dropout, Lambda, Input\n",
    "import keras.backend as K\n"
   ]
  },
  {
   "cell_type": "code",
   "execution_count": null,
   "id": "4b2492a6",
   "metadata": {},
   "outputs": [],
   "source": [
    "def UniversalEmbedding(x):\n",
    "    return embed(tf.squeeze(tf.cast(x, tf.string)))\n"
   ]
  },
  {
   "cell_type": "code",
   "execution_count": null,
   "id": "1bbd0691",
   "metadata": {},
   "outputs": [],
   "source": [
    "input_text = Input(shape=(1,), dtype=tf.string)\n",
    "embedding = Lambda(UniversalEmbedding, output_shape=(512,))(input_text)\n",
    "dense1 = Dense(256, activation='relu')(embedding)\n",
    "dropout = Dropout(0.4)\n",
    "dense2 = Dense(256, activation='relu')(dense1)\n",
    "pred = Dense(3, activation='softmax')(dense2)\n",
    "model = Model([input_text], outputs=pred )\n",
    "\n",
    "model.summary()\n"
   ]
  },
  {
   "cell_type": "code",
   "execution_count": null,
   "id": "be78e90d",
   "metadata": {},
   "outputs": [],
   "source": [
    "model.compile(loss= 'categorical_crossentropy', optimizer='rmsprop', metrics=['accuracy'])\n"
   ]
  },
  {
   "cell_type": "code",
   "execution_count": null,
   "id": "ad052db0",
   "metadata": {},
   "outputs": [],
   "source": [
    "with tf.Session() as session:\n",
    "    K.set_session(session)\n",
    "    session.run(tf.global_variables_initializer())\n",
    "    session.run(tf.tables_initializer())\n",
    "    model_history = model.fit(x_train, y_train, batch_size=64, epochs=12)\n",
    "    model.save_weights('./author_model.h5')\n"
   ]
  },
  {
   "cell_type": "code",
   "execution_count": null,
   "id": "5c5b2e1a",
   "metadata": {},
   "outputs": [],
   "source": [
    "with tf.Session() as session:\n",
    "    K.set_session(session)\n",
    "    session.run(tf.global_variables_initializer())\n",
    "    session.run(tf.tables_initializer())\n",
    "    model.load_weights('./author_model.h5')\n",
    "    score = model.evaluate(x_test, y_test, batch_size=64)\n",
    "    test_pred = model.predict(test['text'], batch_size=32)\n",
    "    pred = model.predict(x_test, batch_size=32)\n"
   ]
  },
  {
   "cell_type": "code",
   "execution_count": null,
   "id": "0b5dae5c",
   "metadata": {},
   "outputs": [],
   "source": [
    "score\n"
   ]
  },
  {
   "cell_type": "code",
   "execution_count": null,
   "id": "d3be334d",
   "metadata": {},
   "outputs": [],
   "source": [
    "preds = decode(le, pred)\n",
    "y_true = decode(le, y_test)\n"
   ]
  },
  {
   "cell_type": "code",
   "execution_count": null,
   "id": "0c39e58d",
   "metadata": {},
   "outputs": [],
   "source": [
    "c= confusion_matrix(y_true=y_true, y_pred=preds)\n",
    "sns.heatmap(c, annot=True);\n"
   ]
  },
  {
   "cell_type": "code",
   "execution_count": null,
   "id": "4046d71e",
   "metadata": {},
   "outputs": [],
   "source": [
    "print(classification_report(y_true=y_true, y_pred=preds))\n"
   ]
  },
  {
   "cell_type": "code",
   "execution_count": null,
   "id": "3e218a35",
   "metadata": {},
   "outputs": [],
   "source": [
    "submission = pd.read_csv('../input/sample_submission.csv')\n",
    "submission.columns\n"
   ]
  },
  {
   "cell_type": "code",
   "execution_count": null,
   "id": "8cb6771c",
   "metadata": {},
   "outputs": [],
   "source": [
    "test.head()\n"
   ]
  },
  {
   "cell_type": "code",
   "execution_count": null,
   "id": "778b5bc9",
   "metadata": {},
   "outputs": [],
   "source": [
    "k = pd.DataFrame(test_pred, columns=['EAP', 'HPL', 'MWS'])\n",
    "submission['EAP'] = k['EAP']\n",
    "submission['HPL'] = k['HPL']\n",
    "submission['MWS'] = k['MWS']\n",
    "submission.head()\n"
   ]
  },
  {
   "cell_type": "code",
   "execution_count": null,
   "id": "21e77ad3",
   "metadata": {},
   "outputs": [],
   "source": [
    "submission.to_csv('my_submission1.csv', index=False)\n"
   ]
  }
 ],
 "metadata": {},
 "nbformat": 4,
 "nbformat_minor": 5
}
