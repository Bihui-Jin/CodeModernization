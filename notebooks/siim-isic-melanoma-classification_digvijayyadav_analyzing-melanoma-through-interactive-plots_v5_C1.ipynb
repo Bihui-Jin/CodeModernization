{
  "cells": [
    {
      "cell_type": "code",
      "execution_count": null,
      "id": "99401c3d",
      "metadata": {},
      "outputs": [],
      "source": [
        "import pandas as pd\n",
        "from pathlib import Path"
      ]
    },
    {
      "cell_type": "code",
      "execution_count": null,
      "id": "1b90c8f2",
      "metadata": {},
      "outputs": [],
      "source": [
        "# This Python 3 environment comes with many helpful analytics libraries installed\n",
        "# It is defined by the kaggle/python Docker image: https://github.com/kaggle/docker-python\n",
        "# For example, here's several helpful packages to load\n",
        "\n",
        "import pydicom, numpy as np # linear algebra\n",
        "import pandas as pd # data processing, CSV file I/O (e.g. pd.read_csv)\n",
        "\n",
        "# Input data files are available in the read-only \"../input/\" directory\n",
        "# For example, running this (by clicking run or pressing Shift+Enter) will list all files under the input directory\n",
        "import json\n",
        "from PIL import Image\n",
        "import os\n",
        "import plotly.graph_objects as px\n",
        "import matplotlib.pyplot as plt\n",
        "import seaborn as sns\n",
        "sns.set()\n",
        "from plotly.offline import init_notebook_mode\n",
        "from plotly.offline import iplot\n",
        "import tensorflow as tf\n",
        "from tensorflow import keras\n",
        "from tensorflow.keras.models import Sequential\n",
        "from tensorflow.keras.callbacks import EarlyStopping, LambdaCallback\n",
        "from tensorflow.keras.preprocessing.image import ImageDataGenerator\n",
        "from tensorflow.keras.layers import Dense, Conv2D, MaxPooling2D, Dropout, Flatten\n",
        "from tensorflow.keras.applications import DenseNet121\n",
        "\n",
        "import cufflinks as cf\n",
        "cf.go_offline()\n",
        "cf.set_config_file(offline=False, world_readable=True)\n",
        "\n",
        "# You can write up to 5GB to the current directory (/kaggle/working/) that gets preserved as output when you create a version using \"Save & Run All\" \n",
        "# You can also write temporary files to /kaggle/temp/, but they won't be saved outside of the current session\n"
      ]
    },
    {
      "cell_type": "code",
      "execution_count": null,
      "id": "c385be3f",
      "metadata": {},
      "outputs": [],
      "source": [
        "train_df = pd.read_csv('../input/siim-isic-melanoma-classification/train.csv')\n",
        "test_df = pd.read_csv('../input/siim-isic-melanoma-classification/test.csv')\n",
        "subs_df = pd.read_csv('../input/siim-isic-melanoma-classification/sample_submission.csv')\n",
        "\n",
        "image_path = '../input/siim-isic-melanoma-classification/train/'\n",
        "\n",
        "print('The size of training data : {}'.format(train_df.shape))\n",
        "print('The size of testing data : {}'.format(test_df.shape))\n"
      ]
    },
    {
      "cell_type": "code",
      "execution_count": null,
      "id": "9fc6ca9e",
      "metadata": {},
      "outputs": [],
      "source": [
        "train_df.head()\n"
      ]
    },
    {
      "cell_type": "code",
      "execution_count": null,
      "id": "034c6c3e",
      "metadata": {},
      "outputs": [],
      "source": [
        "plt.figure(figsize = (17,7))\n",
        "percent_missing = train_df.isnull().sum() / (train_df.shape[0])*100\n",
        "percent_missing.iplot(kind = 'bar',color ='blue')\n"
      ]
    },
    {
      "cell_type": "code",
      "execution_count": null,
      "id": "10accc15",
      "metadata": {},
      "outputs": [],
      "source": [
        "train_df.describe()\n"
      ]
    },
    {
      "cell_type": "code",
      "execution_count": null,
      "id": "b4604b2e",
      "metadata": {},
      "outputs": [],
      "source": [
        "print(\"The total patient ids are {}, from those the unique ids are {}\".format(train_df['patient_id'].count(),train_df['patient_id'].value_counts().shape[0] ))\n"
      ]
    },
    {
      "cell_type": "code",
      "execution_count": null,
      "id": "0f6ba117",
      "metadata": {},
      "outputs": [],
      "source": [
        "benign_gender = train_df.groupby(['benign_malignant']).count()['sex'].to_frame()\n",
        "benign_gender.head()\n"
      ]
    },
    {
      "cell_type": "code",
      "execution_count": null,
      "id": "6a47b898",
      "metadata": {},
      "outputs": [],
      "source": [
        "#target and age\n",
        "plt.figure(figsize = (17,7))\n",
        "sns.boxplot(x = train_df['target'], y = train_df['age_approx'])\n"
      ]
    },
    {
      "cell_type": "code",
      "execution_count": null,
      "id": "4fbf4349",
      "metadata": {},
      "outputs": [],
      "source": [
        "feature_list = ['sex','age_approx','anatom_site_general_challenge'] \n",
        "for i in feature_list: \n",
        "    train_df[i].value_counts(normalize=True).to_frame().iplot(kind='bar',\n",
        "                                                      yTitle='Percentage', \n",
        "                                                      linecolor='black', \n",
        "                                                      opacity=0.7,\n",
        "                                                      color='blue',\n",
        "                                                      theme='pearl',\n",
        "                                                      bargap=0.8,\n",
        "                                                      gridcolor='white',                                                     \n",
        "                                                      title=f'Distribution of {i} in train set.')\n",
        "\n",
        "    test_df[i].value_counts(normalize=True).to_frame().iplot(kind='bar',\n",
        "                                                      yTitle='Percentage', \n",
        "                                                      linecolor='black', \n",
        "                                                      opacity=0.7,\n",
        "                                                      color='green',\n",
        "                                                      theme='pearl',\n",
        "                                                      bargap=0.8,\n",
        "                                                      gridcolor='white',                                                     \n",
        "                                                      title=f'Distribution of {i} in test set.')\n"
      ]
    },
    {
      "cell_type": "code",
      "execution_count": null,
      "id": "9ca1b5a0",
      "metadata": {},
      "outputs": [],
      "source": [
        "plt.imshow(pydicom.dcmread(image_path + list(train_df['image_name'])[1] + '.dcm').pixel_array)\n",
        "plt.savefig('x.jpg')\n"
      ]
    },
    {
      "cell_type": "code",
      "execution_count": null,
      "id": "e9f6949c",
      "metadata": {},
      "outputs": [],
      "source": [
        "im = train_df['image_name'].values\n",
        "print(im)\n"
      ]
    },
    {
      "cell_type": "code",
      "execution_count": null,
      "id": "ccd0fa04",
      "metadata": {},
      "outputs": [],
      "source": [
        "plt.figure(figsize=(17,6))\n",
        "\n",
        "image_dir = '../input/siim-isic-melanoma-classification/'\n",
        "\n",
        "img = [np.random.choice(im + '.jpg') for i in range(10)]\n",
        "img_dir = image_dir + '/jpeg/train'\n",
        "\n",
        "for i in range(9):\n",
        "    plt.subplot(3,3, i+1)\n",
        "    images = plt.imread(os.path.join(img_dir, img[i]))\n",
        "    plt.imshow(images)\n"
      ]
    },
    {
      "cell_type": "code",
      "execution_count": null,
      "id": "83163407",
      "metadata": {},
      "outputs": [],
      "source": [
        "malignant = train_df[train_df['benign_malignant']=='malignant']\n",
        "benign = train_df[train_df['benign_malignant']=='benign']\n",
        "\n",
        "print(malignant)\n",
        "print(benign)\n"
      ]
    },
    {
      "cell_type": "code",
      "execution_count": null,
      "id": "05e6ef6b",
      "metadata": {},
      "outputs": [],
      "source": [
        "im_malignant = malignant['image_name'].values\n",
        "image_dir = '../input/siim-isic-melanoma-classification/'\n",
        "\n",
        "img = [np.random.choice(im_malignant + '.jpg') for i in range(10)]\n",
        "img_dir = image_dir + '/jpeg/train'\n",
        "plt.figure(figsize=(17,17))\n",
        "\n",
        "for i in range(9):\n",
        "    plt.subplot(3,3, i+1)\n",
        "    images = plt.imread(os.path.join(img_dir, img[i]))\n",
        "    plt.imshow(images)\n",
        "    plt.axis('off')\n",
        "plt.tight_layout()\n",
        "print(\"Random Malignant Images are Displayed!!\")\n"
      ]
    },
    {
      "cell_type": "code",
      "execution_count": null,
      "id": "5472c914",
      "metadata": {},
      "outputs": [],
      "source": [
        "im_benign = benign['image_name'].values\n",
        "image_dir = '../input/siim-isic-melanoma-classification/'\n",
        "\n",
        "img = [np.random.choice(im_benign + '.jpg') for i in range(10)]\n",
        "img_dir = image_dir + '/jpeg/train'\n",
        "plt.figure(figsize=(17,17))\n",
        "\n",
        "for i in range(9):\n",
        "    plt.subplot(3,3, i+1)\n",
        "    images = plt.imread(os.path.join(img_dir, img[i]))\n",
        "    plt.imshow(images)\n",
        "    plt.axis('off')\n",
        "plt.tight_layout()\n",
        "print('Random Benign Images are displayed!!')\n"
      ]
    },
    {
      "cell_type": "code",
      "execution_count": null,
      "id": "9bb059e2",
      "metadata": {},
      "outputs": [],
      "source": [
        "subs_df.to_csv('submissions.csv', index = False)\n",
        "print('Successfull!!')\n"
      ]
    },
    {
      "cell_type": "code",
      "execution_count": null,
      "id": "f2a473de",
      "metadata": {},
      "outputs": [],
      "source": [
        " \n"
      ]
    }
  ],
  "metadata": {},
  "nbformat": 4,
  "nbformat_minor": 5
}