{
  "cells": [
    {
      "cell_type": "code",
      "execution_count": null,
      "id": "bb62739f",
      "metadata": {},
      "outputs": [],
      "source": [
        "import pandas as pd\n",
        "from pathlib import Path"
      ]
    },
    {
      "cell_type": "code",
      "execution_count": null,
      "id": "54efbd26",
      "metadata": {},
      "outputs": [],
      "source": [
        "## This Python 3 environment comes with many helpful analytics libraries installed\n",
        "# It is defined by the kaggle/python Docker image: https://github.com/kaggle/docker-python\n",
        "# For example, here's several helpful packages to load\n",
        "\n",
        "import numpy as np # linear algebra\n",
        "import pandas as pd # data processing, CSV file I/O (e.g. pd.read_csv)\n",
        "\n",
        "# Input data files are available in the read-only \"../input/\" directory\n",
        "# For example, running this (by clicking run or pressing Shift+Enter) will list all files under the input directory\n",
        "\n",
        "import os\n",
        "for dirname, _, filenames in os.walk('/kaggle/input'):\n",
        "    for filename in filenames:\n",
        "        print(os.path.join(dirname, filename))\n",
        "\n",
        "# You can write up to 20GB to the current directory (/kaggle/working/) that gets preserved as output when you create a version using \"Save & Run All\" \n",
        "# You can also write temporary files to /kaggle/temp/, but they won't be saved outside of the current session\n"
      ]
    },
    {
      "cell_type": "code",
      "execution_count": null,
      "id": "186df17f",
      "metadata": {},
      "outputs": [],
      "source": [
        "data= pd.read_csv('/kaggle/input/tabular-playground-series-dec-2021/train.csv')\n"
      ]
    },
    {
      "cell_type": "code",
      "execution_count": null,
      "id": "a95f3469",
      "metadata": {},
      "outputs": [],
      "source": [
        "print(data.shape)\n",
        "print(data.isna().sum())\n"
      ]
    },
    {
      "cell_type": "code",
      "execution_count": null,
      "id": "a7f1a3bf",
      "metadata": {},
      "outputs": [],
      "source": [
        "data.info()\n"
      ]
    },
    {
      "cell_type": "code",
      "execution_count": null,
      "id": "2385814d",
      "metadata": {},
      "outputs": [],
      "source": [
        "data.head()\n"
      ]
    },
    {
      "cell_type": "code",
      "execution_count": null,
      "id": "1a981ea2",
      "metadata": {},
      "outputs": [],
      "source": [
        "# drop id \n",
        "\n",
        "data.drop('Id',axis =1 , inplace =True)\n"
      ]
    },
    {
      "cell_type": "code",
      "execution_count": null,
      "id": "e925febc",
      "metadata": {},
      "outputs": [],
      "source": [
        "100*data['Cover_Type'].value_counts(normalize=True)\n"
      ]
    },
    {
      "cell_type": "code",
      "execution_count": null,
      "id": "9d965c9e",
      "metadata": {},
      "outputs": [],
      "source": [
        "data['Cover_Type'].value_counts()\n"
      ]
    },
    {
      "cell_type": "code",
      "execution_count": null,
      "id": "05613a42",
      "metadata": {},
      "outputs": [],
      "source": [
        "X = data.drop('Cover_Type',axis =1)\n",
        "y= data['Cover_Type']\n"
      ]
    },
    {
      "cell_type": "code",
      "execution_count": null,
      "id": "83b64a92",
      "metadata": {},
      "outputs": [],
      "source": [
        "from sklearn.model_selection import train_test_split \n",
        "X_train, X_test, y_train, y_test = train_test_split( X, y, test_size = 0.2, random_state = 0) \n",
        "print(X_train.shape)\n",
        "print(X_test.shape)\n"
      ]
    },
    {
      "cell_type": "code",
      "execution_count": null,
      "id": "7c4eb064",
      "metadata": {},
      "outputs": [],
      "source": [
        "# Training using Decision Tree Classifier \n",
        "\n",
        "from sklearn.tree import DecisionTreeClassifier  \n",
        "classifier1 = DecisionTreeClassifier(criterion='gini',max_depth = 15)  \n",
        "classifier1.fit(X_train, y_train) \n",
        "\n",
        "# Check Criteria  ?\n",
        "print(classifier1)\n"
      ]
    },
    {
      "cell_type": "code",
      "execution_count": null,
      "id": "01407dbb",
      "metadata": {},
      "outputs": [],
      "source": [
        "# predict using both the classifier \n",
        "\n",
        "y_pred_1 = classifier1.predict(X_test)  \n"
      ]
    },
    {
      "cell_type": "code",
      "execution_count": null,
      "id": "2ba1cdb4",
      "metadata": {},
      "outputs": [],
      "source": [
        "from sklearn.metrics import accuracy_score #importing accuracy_score function from sklearn.metrics package\n",
        "acc_1 = accuracy_score(y_test,y_pred_1)\n",
        "print(\"Accuracy for Gini model {} %\".format(acc_1*100))\n"
      ]
    },
    {
      "cell_type": "code",
      "execution_count": null,
      "id": "e5b7fc46",
      "metadata": {},
      "outputs": [],
      "source": [
        "from sklearn.metrics import balanced_accuracy_score\n",
        "bal_acc_1 = balanced_accuracy_score(y_test,y_pred_1)\n",
        "print(\"Balanced Accuracy for Gini model {} %\".format(bal_acc_1*100))\n"
      ]
    },
    {
      "cell_type": "code",
      "execution_count": null,
      "id": "eb060dc9",
      "metadata": {},
      "outputs": [],
      "source": [
        "# Submission file preparation\n",
        "\n",
        "test_data= pd.read_csv('/kaggle/input/tabular-playground-series-dec-2021/test.csv')\n"
      ]
    },
    {
      "cell_type": "code",
      "execution_count": null,
      "id": "f62888ca",
      "metadata": {},
      "outputs": [],
      "source": [
        "test_data.shape\n"
      ]
    },
    {
      "cell_type": "code",
      "execution_count": null,
      "id": "b22e7a8a",
      "metadata": {},
      "outputs": [],
      "source": [
        "test_data.drop('Id',axis =1,inplace=True)\n"
      ]
    },
    {
      "cell_type": "code",
      "execution_count": null,
      "id": "00396386",
      "metadata": {},
      "outputs": [],
      "source": [
        "y_pred_test = classifier1.predict(test_data)\n"
      ]
    },
    {
      "cell_type": "code",
      "execution_count": null,
      "id": "da3d0a30",
      "metadata": {},
      "outputs": [],
      "source": [
        "submission_data= pd.read_csv('/kaggle/input/tabular-playground-series-dec-2021/sample_submission.csv')\n"
      ]
    },
    {
      "cell_type": "code",
      "execution_count": null,
      "id": "a261fc87",
      "metadata": {},
      "outputs": [],
      "source": [
        "submission_data.head()\n"
      ]
    },
    {
      "cell_type": "code",
      "execution_count": null,
      "id": "8b3ec4b0",
      "metadata": {},
      "outputs": [],
      "source": [
        "submission_data['Cover_Type'] = y_pred_test\n"
      ]
    },
    {
      "cell_type": "code",
      "execution_count": null,
      "id": "c0f4ed53",
      "metadata": {},
      "outputs": [],
      "source": [
        "submission_data.to_csv('submission.csv',index=False)\n"
      ]
    },
    {
      "cell_type": "code",
      "execution_count": null,
      "id": "f3e0da1c",
      "metadata": {},
      "outputs": [],
      "source": [
        " \n"
      ]
    }
  ],
  "metadata": {},
  "nbformat": 4,
  "nbformat_minor": 5
}