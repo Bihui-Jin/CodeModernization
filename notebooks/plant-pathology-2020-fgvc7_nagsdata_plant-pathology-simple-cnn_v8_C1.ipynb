{
 "cells": [
  {
   "cell_type": "code",
   "execution_count": null,
   "id": "6436419a",
   "metadata": {},
   "outputs": [],
   "source": [
    "import pandas as pd\n",
    "from pathlib import Path"
   ]
  },
  {
   "cell_type": "code",
   "execution_count": null,
   "id": "58273c12",
   "metadata": {},
   "outputs": [],
   "source": [
    "# This Python 3 environment comes with many helpful analytics libraries installed\n",
    "# It is defined by the kaggle/python Docker image: https://github.com/kaggle/docker-python\n",
    "# For example, here's several helpful packages to load\n",
    "\n",
    "import numpy as np # linear algebra\n",
    "import pandas as pd # data processing, CSV file I/O (e.g. pd.read_csv)\n",
    "\n",
    "# Input data files are available in the read-only \"../input/\" directory\n",
    "# For example, running this (by clicking run or pressing Shift+Enter) will list all files under the input directory\n",
    "\n",
    "import os\n",
    "#for dirname, _, filenames in os.walk('/kaggle/input'):\n",
    "#    for filename in filenames:\n",
    "#        print(os.path.join(dirname, filename))\n",
    "\n",
    "# You can write up to 5GB to the current directory (/kaggle/working/) that gets preserved as output when you create a version using \"Save & Run All\" \n",
    "# You can also write temporary files to /kaggle/temp/, but they won't be saved outside of the current session\n"
   ]
  },
  {
   "cell_type": "code",
   "execution_count": null,
   "id": "9a29bda4",
   "metadata": {},
   "outputs": [],
   "source": [
    "import tensorflow as tf\n",
    "from tensorflow.keras.preprocessing.image import img_to_array, ImageDataGenerator\n",
    "import matplotlib.pyplot as plt\n"
   ]
  },
  {
   "cell_type": "code",
   "execution_count": null,
   "id": "0cee3eda",
   "metadata": {},
   "outputs": [],
   "source": [
    "train_csv = pd.read_csv(\"/kaggle/input/plant-pathology-2020-fgvc7/train.csv\")\n",
    "train_csv.head()\n"
   ]
  },
  {
   "cell_type": "code",
   "execution_count": null,
   "id": "7cd84e3d",
   "metadata": {},
   "outputs": [],
   "source": [
    "test_csv = pd.read_csv(\"/kaggle/input/plant-pathology-2020-fgvc7/test.csv\")\n",
    "test_csv.head()\n"
   ]
  },
  {
   "cell_type": "code",
   "execution_count": null,
   "id": "3b4ebef7",
   "metadata": {},
   "outputs": [],
   "source": [
    "image = plt.imread('/kaggle/input/plant-pathology-2020-fgvc7/images/Train_0.jpg')\n",
    "plt.imshow(image)\n",
    "print(image.shape)\n"
   ]
  },
  {
   "cell_type": "code",
   "execution_count": null,
   "id": "0ca04b29",
   "metadata": {},
   "outputs": [],
   "source": [
    "def image_resize(img, size = (None, None), ratio=3):\n",
    "    if size[0] is None:\n",
    "        resize_ratio = ratio\n",
    "        resize_height = int(img.shape[0]/resize_ratio)\n",
    "        resize_width = int(img.shape[1]/resize_ratio)\n",
    "        print(f\"height: {resize_height}, width: {resize_width}\")\n",
    "    else:\n",
    "        resize_height = size[0]\n",
    "        resize_width = size[1]\n",
    "\n",
    "    img_resize = tf.image.resize(img, [resize_height,resize_width]).numpy()\n",
    "    img_resize = img_resize.astype(np.uint8)\n",
    "    return(img_resize)\n"
   ]
  },
  {
   "cell_type": "code",
   "execution_count": null,
   "id": "573dbda3",
   "metadata": {},
   "outputs": [],
   "source": [
    "plt.figure(1, figsize=(10,10))\n",
    "plt.subplot(221)\n",
    "plt.imshow(image_resize(image, ratio = 3))\n",
    "\n",
    "plt.subplot(222)\n",
    "plt.imshow(image_resize(image, ratio = 4))\n",
    "plt.show()\n",
    "\n",
    "plt.subplot(223)\n",
    "plt.imshow(image_resize(image, ratio = 5))\n",
    "\n",
    "plt.subplot(224)\n",
    "plt.imshow(image_resize(image, ratio = 6))\n",
    "plt.show()\n"
   ]
  },
  {
   "cell_type": "code",
   "execution_count": null,
   "id": "2457a482",
   "metadata": {},
   "outputs": [],
   "source": [
    "img_height = 227\n",
    "img_width = 341\n",
    "plt.imshow(image_resize(image, size=(img_height, img_width)))\n"
   ]
  },
  {
   "cell_type": "code",
   "execution_count": null,
   "id": "ef5836e2",
   "metadata": {},
   "outputs": [],
   "source": [
    "train_resized = []\n",
    "\n",
    "for img_id in train_csv['image_id'].to_list():\n",
    "    image = plt.imread(f'/kaggle/input/plant-pathology-2020-fgvc7/images/{img_id}.jpg')\n",
    "    train_resized.append(image_resize(image, (img_height, img_width)))\n",
    "\n",
    "print(len(train_resized))\n",
    "\n",
    "test_resized = []\n",
    "\n",
    "for img_id in test_csv['image_id'].to_list():\n",
    "    image = plt.imread(f'/kaggle/input/plant-pathology-2020-fgvc7/images/{img_id}.jpg')\n",
    "    test_resized.append(image_resize(image, (img_height, img_width)))\n",
    "\n",
    "print(len(test_resized))\n"
   ]
  },
  {
   "cell_type": "code",
   "execution_count": null,
   "id": "d203edc3",
   "metadata": {},
   "outputs": [],
   "source": [
    "x_train = np.ndarray(shape = (len(train_resized), img_height, img_width, 3), dtype=np.float32)\n",
    "x_test = np.ndarray(shape = (len(test_resized), img_height, img_width, 3), dtype=np.float32)\n",
    "\n",
    "for i in range(len(train_resized)):\n",
    "    x_train[i] = img_to_array(train_resized[i])\n",
    "\n",
    "for i in range(len(test_resized)):\n",
    "    x_test[i] = img_to_array(test_resized[i])\n",
    "\n",
    "x_train = x_train/255\n",
    "x_test = x_test/255\n",
    "\n",
    "print(x_train.shape)\n",
    "print(x_test.shape)\n"
   ]
  },
  {
   "cell_type": "code",
   "execution_count": null,
   "id": "0799f390",
   "metadata": {},
   "outputs": [],
   "source": [
    "y_train = train_csv.iloc[:,1:]\n",
    "y_train.head()\n"
   ]
  },
  {
   "cell_type": "code",
   "execution_count": null,
   "id": "2afd6398",
   "metadata": {},
   "outputs": [],
   "source": [
    "from tensorflow.keras import Sequential\n",
    "from tensorflow.keras.layers import Conv2D, Dense, Flatten, Dropout\n",
    "from tensorflow.keras.applications import InceptionResNetV2\n",
    "\n",
    "resnet = InceptionResNetV2(weights='imagenet', include_top=False, pooling='avg')\n",
    "\n",
    "model = Sequential()\n",
    "model.add(resnet)\n",
    "model.add(Dense(128, activation='relu'))\n",
    "model.add(Dense(64, activation='relu'))\n",
    "model.add(Dense(y_train.shape[1], activation='softmax'))\n",
    "\n",
    "model.layers[0].trainable = False\n",
    "\n",
    "model.summary()\n"
   ]
  },
  {
   "cell_type": "code",
   "execution_count": null,
   "id": "c9d03ce3",
   "metadata": {},
   "outputs": [],
   "source": [
    "model.compile(loss=\"categorical_crossentropy\", optimizer=\"adam\", metrics='accuracy')\n"
   ]
  },
  {
   "cell_type": "code",
   "execution_count": null,
   "id": "0d00760c",
   "metadata": {},
   "outputs": [],
   "source": [
    "from sklearn.model_selection import train_test_split\n",
    "\n",
    "train_x, val_x, train_y, val_y = train_test_split(x_train, y_train, test_size = 0.2)\n",
    "\n",
    "print(train_x.shape)\n",
    "print(train_y.shape)\n",
    "\n",
    "print(val_x.shape)\n",
    "print(val_y.shape)\n"
   ]
  },
  {
   "cell_type": "code",
   "execution_count": null,
   "id": "f23de5e3",
   "metadata": {},
   "outputs": [],
   "source": [
    "datagen = ImageDataGenerator(rotation_range=25,\n",
    "                             shear_range=.20,\n",
    "                             zoom_range=.20,\n",
    "                             width_shift_range=.20,\n",
    "                             height_shift_range=.20,\n",
    "                             horizontal_flip=True,\n",
    "                             vertical_flip=True\n",
    "                            )\n",
    "\n",
    "#train_datagen = datagen.flow(rain, y_train, batch_size=42, seed=42)\n",
    "\n",
    "batch_size = 24\n",
    "datagen_without_aug = ImageDataGenerator()\n",
    "\n",
    "train_datagen = datagen_without_aug.flow(train_x, train_y, batch_size=batch_size)\n",
    "\n",
    "val_datagen = datagen_without_aug.flow(val_x, val_y, batch_size=batch_size)\n"
   ]
  },
  {
   "cell_type": "code",
   "execution_count": null,
   "id": "45ad1a4b",
   "metadata": {},
   "outputs": [],
   "source": [
    "callback = tf.keras.callbacks.EarlyStopping(monitor='loss', patience=3)\n",
    "history = model.fit_generator(train_datagen, \n",
    "                              epochs=6,\n",
    "                              steps_per_epoch=train_x.shape[0]//batch_size,\n",
    "                              validation_data = val_datagen,\n",
    "                              validation_steps = val_x.shape[0]//batch_size,\n",
    "                              callbacks = [callback]\n",
    "                   )\n"
   ]
  },
  {
   "cell_type": "code",
   "execution_count": null,
   "id": "338ab484",
   "metadata": {},
   "outputs": [],
   "source": [
    "history_df = pd.DataFrame(history.history)\n",
    "history_df.head()\n"
   ]
  },
  {
   "cell_type": "code",
   "execution_count": null,
   "id": "02b96b25",
   "metadata": {},
   "outputs": [],
   "source": [
    "plt.plot(history_df.index, history_df['accuracy'])\n",
    "plt.plot(history_df.index, history_df['val_accuracy'])\n",
    "plt.show()\n"
   ]
  },
  {
   "cell_type": "code",
   "execution_count": null,
   "id": "e9152ccc",
   "metadata": {},
   "outputs": [],
   "source": [
    "plt.plot(history_df.index, history_df['loss'])\n",
    "plt.plot(history_df.index, history_df['val_loss'])\n",
    "plt.show()\n"
   ]
  },
  {
   "cell_type": "code",
   "execution_count": null,
   "id": "c5f761dc",
   "metadata": {},
   "outputs": [],
   "source": [
    "y_preds = model.predict(x_test)\n"
   ]
  },
  {
   "cell_type": "code",
   "execution_count": null,
   "id": "2260c13d",
   "metadata": {},
   "outputs": [],
   "source": [
    "y_preds\n"
   ]
  },
  {
   "cell_type": "code",
   "execution_count": null,
   "id": "06789603",
   "metadata": {},
   "outputs": [],
   "source": [
    "res = pd.DataFrame()\n",
    "res['image_id'] = test_csv['image_id']\n",
    "res['healthy'] = y_preds[:, 0]\n",
    "res['multiple_diseases'] = y_preds[:, 1]\n",
    "res['rust'] = y_preds[:, 2]\n",
    "res['scab'] = y_preds[:, 3]\n",
    "res.to_csv('submission.csv', index=False)\n"
   ]
  }
 ],
 "metadata": {},
 "nbformat": 4,
 "nbformat_minor": 5
}
