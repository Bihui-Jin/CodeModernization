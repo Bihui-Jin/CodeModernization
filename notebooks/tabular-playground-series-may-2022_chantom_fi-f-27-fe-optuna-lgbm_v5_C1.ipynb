{
  "cells": [
    {
      "cell_type": "code",
      "execution_count": null,
      "id": "ac78c692",
      "metadata": {},
      "outputs": [],
      "source": [
        "import pandas as pd\n",
        "from pathlib import Path"
      ]
    },
    {
      "cell_type": "code",
      "execution_count": null,
      "id": "92151112",
      "metadata": {},
      "outputs": [],
      "source": [
        "# This Python 3 environment comes with many helpful analytics libraries installed\n",
        "# It is defined by the kaggle/python Docker image: https://github.com/kaggle/docker-python\n",
        "# For example, here's several helpful packages to load\n",
        "\n",
        "import numpy as np # linear algebra\n",
        "import pandas as pd # data processing, CSV file I/O (e.g. pd.read_csv)\n",
        "import matplotlib.pyplot as plt\n",
        "\n",
        "# Input data files are available in the read-only \"../input/\" directory\n",
        "# For example, running this (by clicking run or pressing Shift+Enter) will list all files under the input directory\n",
        "\n",
        "import os\n",
        "for dirname, _, filenames in os.walk('/kaggle/input'):\n",
        "    for filename in filenames:\n",
        "        print(os.path.join(dirname, filename))\n",
        "\n",
        "# You can write up to 20GB to the current directory (/kaggle/working/) that gets preserved as output when you create a version using \"Save & Run All\" \n",
        "# You can also write temporary files to /kaggle/temp/, but they won't be saved outside of the current session\n"
      ]
    },
    {
      "cell_type": "code",
      "execution_count": null,
      "id": "c532033f",
      "metadata": {},
      "outputs": [],
      "source": [
        "train_df = pd.read_csv('/kaggle/input/tabular-playground-series-may-2022/train.csv')\n",
        "test_df = pd.read_csv('/kaggle/input/tabular-playground-series-may-2022/test.csv')\n"
      ]
    },
    {
      "cell_type": "code",
      "execution_count": null,
      "id": "a3c6f1f4",
      "metadata": {},
      "outputs": [],
      "source": [
        "train_df.count(), train_df.dtypes\n"
      ]
    },
    {
      "cell_type": "code",
      "execution_count": null,
      "id": "b7190c83",
      "metadata": {},
      "outputs": [],
      "source": [
        "train_df.target.value_counts()\n"
      ]
    },
    {
      "cell_type": "code",
      "execution_count": null,
      "id": "b2adcfd9",
      "metadata": {},
      "outputs": [],
      "source": [
        "fs = [f'f_{i:02d}' for i in range(0, 31)]\n",
        "num_df = train_df[['target']+fs].drop(['f_27'], axis=1)\n"
      ]
    },
    {
      "cell_type": "code",
      "execution_count": null,
      "id": "09529877",
      "metadata": {},
      "outputs": [],
      "source": [
        "num_df.corr()\n"
      ]
    },
    {
      "cell_type": "code",
      "execution_count": null,
      "id": "73d9b904",
      "metadata": {},
      "outputs": [],
      "source": [
        "display(train_df['f_27'])\n",
        "print('% of unique sequence in train', len(train_df['f_27'].unique()) / len(train_df['f_27']))\n",
        "print('% of unique sequence in test', len(test_df['f_27'].unique()) / len(test_df['f_27']))\n"
      ]
    },
    {
      "cell_type": "code",
      "execution_count": null,
      "id": "44a84dc0",
      "metadata": {},
      "outputs": [],
      "source": [
        "f27_target_seq_counts = train_df[['target', 'f_27']].groupby(['target', 'f_27']).size().unstack(fill_value=0).T\n",
        "\n",
        "most_occur_in_0 = f27_target_seq_counts.sort_values(by=[0], ascending=False)\n",
        "most_occur_in_1 = f27_target_seq_counts.sort_values(by=[1], ascending=False)\n",
        "\n",
        "fig, axs = plt.subplots(2, figsize=(20,10))\n",
        "most_occur_in_0.head(5000).plot(kind='area', stacked=False, ax=axs[0], title='Top 5000 occuring duplicated sequences for target 0')\n",
        "most_occur_in_1.head(5000).plot(kind='area', stacked=False, ax=axs[1], title='Top 5000 occuring duplicated sequences for target 1')\n",
        "fig.tight_layout()\n"
      ]
    },
    {
      "cell_type": "code",
      "execution_count": null,
      "id": "dfd5c14c",
      "metadata": {},
      "outputs": [],
      "source": [
        "f27_map = most_occur_in_0.reset_index()\n",
        "f27_map.columns = ['f_27', 'f_27_tar0', 'f_27_tar1']\n",
        "f27_map\n"
      ]
    },
    {
      "cell_type": "code",
      "execution_count": null,
      "id": "36926e12",
      "metadata": {},
      "outputs": [],
      "source": [
        "print('Among all sequences in test set')\n",
        "print('% of same duplicated sequence as in train set:', test_df['f_27'].isin(f27_target_seq_counts.index).sum() / len(test_df))\n",
        "print('# of same top 100 duplicated sequence as in train set, for target 0:',test_df['f_27'].isin(most_occur_in_0.index).sum())\n",
        "print('# of same top 100 duplicated sequence as in train set, for target 1:', test_df['f_27'].isin(most_occur_in_1.index).sum())\n"
      ]
    },
    {
      "cell_type": "code",
      "execution_count": null,
      "id": "897db767",
      "metadata": {},
      "outputs": [],
      "source": [
        "# Splitting the sequences into single letters\n",
        "f27_split = train_df['f_27'].str.split(pat =\"\\s*\", expand = True).iloc[:,1:-1]\n",
        "f27_split_test = test_df['f_27'].str.split(pat =\"\\s*\", expand = True).iloc[:,1:-1]\n"
      ]
    },
    {
      "cell_type": "code",
      "execution_count": null,
      "id": "90454e71",
      "metadata": {},
      "outputs": [],
      "source": [
        "fig, axs = plt.subplots(10, figsize=(10,30))\n",
        "for i in range(10):\n",
        "    f27_split.iloc[:, i].value_counts().plot(kind='bar', ax=axs[i], title=f'sequence position {i}')\n",
        "fig.tight_layout()\n"
      ]
    },
    {
      "cell_type": "code",
      "execution_count": null,
      "id": "3fe98b77",
      "metadata": {},
      "outputs": [],
      "source": [
        "f27_split['target'] = train_df['target']\n"
      ]
    },
    {
      "cell_type": "code",
      "execution_count": null,
      "id": "a88061b8",
      "metadata": {},
      "outputs": [],
      "source": [
        "fig, axs = plt.subplots(10, figsize=(10,30))\n",
        "for i in range(10):\n",
        "    target_seqpos_counts = f27_split[['target', i+1]].groupby(['target', i+1]).size().unstack(fill_value=0).T\n",
        "    target_seqpos_counts.plot(kind='bar', ax=axs[i], title=f'sequence position {i}')\n",
        "fig.tight_layout()\n"
      ]
    },
    {
      "cell_type": "code",
      "execution_count": null,
      "id": "abade369",
      "metadata": {},
      "outputs": [],
      "source": [
        "from sklearn.preprocessing import OrdinalEncoder\n",
        "enc = OrdinalEncoder(handle_unknown='use_encoded_value', unknown_value=np.nan)\n",
        "f27_encoded = enc.fit_transform(f27_split.drop(['target'], axis=1)).astype(int)\n",
        "f27_encoded_test = enc.transform(f27_split_test).astype(int)\n",
        "f27_encoded[:3]\n"
      ]
    },
    {
      "cell_type": "code",
      "execution_count": null,
      "id": "7b398f87",
      "metadata": {},
      "outputs": [],
      "source": [
        "f27_split.drop(['target'], axis=1).head(3)\n"
      ]
    },
    {
      "cell_type": "code",
      "execution_count": null,
      "id": "4e2225f7",
      "metadata": {},
      "outputs": [],
      "source": [
        "f27_split_df = pd.DataFrame(f27_encoded)\n",
        "f27_split_df.columns = [f'f_27_pos{i}' for i in range(10)]\n",
        "f27_split_test_df = pd.DataFrame(f27_encoded_test)\n",
        "f27_split_test_df.columns = [f'f_27_pos{i}' for i in range(10)]\n"
      ]
    },
    {
      "cell_type": "code",
      "execution_count": null,
      "id": "84a2f327",
      "metadata": {},
      "outputs": [],
      "source": [
        "full_df = pd.concat([train_df, f27_split_df], axis=1)\n",
        "full_df[\"f_27_unique\"] = full_df[\"f_27\"].apply(lambda x: len(set(x)))\n",
        "\n",
        "full_test_df = pd.concat([test_df, f27_split_test_df], axis=1)\n",
        "full_test_df[\"f_27_unique\"] = full_test_df[\"f_27\"].apply(lambda x: len(set(x)))\n"
      ]
    },
    {
      "cell_type": "code",
      "execution_count": null,
      "id": "db9b57fe",
      "metadata": {},
      "outputs": [],
      "source": [
        "# full_df = full_df.merge(f27_map, how='left', on='f_27')\n",
        "\n",
        "# full_test_df = full_test_df.merge(f27_map, how='left', on='f_27').fillna(0)\n",
        "# full_test_df[['f_27_tar0', 'f_27_tar1']] = full_test_df[['f_27_tar0', 'f_27_tar1']].astype(int)\n"
      ]
    },
    {
      "cell_type": "code",
      "execution_count": null,
      "id": "01c2fde6",
      "metadata": {},
      "outputs": [],
      "source": [
        "# temp = full_test_df[[f'f_27_pos{i}' for i in range(10)] + ['f_27_unique'] + ['f_27_tar0', 'f_27_tar1']]\n",
        "# temp\n"
      ]
    },
    {
      "cell_type": "code",
      "execution_count": null,
      "id": "a36a43d6",
      "metadata": {},
      "outputs": [],
      "source": [
        "# from sklearn.impute import KNNImputer\n",
        "# imputer = KNNImputer(n_neighbors=2)\n",
        "# imputer.fit_transform(temp.to_numpy())\n",
        "# full_test_df\n"
      ]
    },
    {
      "cell_type": "code",
      "execution_count": null,
      "id": "e8ae25bb",
      "metadata": {},
      "outputs": [],
      "source": [
        "X_train = full_df.drop(['id', 'target'], axis=1)\n",
        "X_train['f_27'] = X_train['f_27'].astype('category')\n",
        "y_train = train_df.target\n",
        "\n",
        "X_test = full_test_df.drop(['id'], axis=1)\n",
        "X_test['f_27'] = X_test['f_27'].astype('category')\n"
      ]
    },
    {
      "cell_type": "code",
      "execution_count": null,
      "id": "12647ab5",
      "metadata": {},
      "outputs": [],
      "source": [
        "# import tensorflow as tf\n",
        "# from tensorflow import keras\n",
        "# from tensorflow.keras import layers\n",
        "# from tensorflow.keras.layers.experimental import preprocessing\n",
        "# from sklearn.model_selection import train_test_split, StratifiedKFold\n",
        "# from sklearn.metrics import r2_score\n",
        "\n",
        "# model = tf.keras.Sequential([\n",
        "#     layers.LSTM(32, input_shape=X_shape, return_sequences=True),\n",
        "#     layers.LSTM(32, input_shape=(X_shape[0], 32), return_sequences=False),\n",
        "#     layers.Dense(32, activation='relu', input_shape=X_shape),\n",
        "#     layers.Dense(16, activation='relu'),\n",
        "#     layers.Dense(1, activation='sigmoid')\n",
        "# ])\n",
        "\n",
        "# lr_schedule = tf.keras.optimizers.schedules.InverseTimeDecay(0.3, decay_steps=200, decay_rate=0.85, staircase=False)\n",
        "# model.summary()\n",
        "# model.compile(loss=tf.keras.losses.BinaryCrossentropy(),\n",
        "#               metrics=['accuracy', tf.keras.metrics.AUC()], \n",
        "#               optimizer=tf.keras.optimizers.Adam(lr_schedule))\n"
      ]
    },
    {
      "cell_type": "code",
      "execution_count": null,
      "id": "0eb2aa90",
      "metadata": {},
      "outputs": [],
      "source": [
        "# Xt, Xv, yt, yv = train_test_split(X_train, y_train, test_size=0.3)\n",
        "# bs = len(Xt) // 500\n",
        "# bs\n"
      ]
    },
    {
      "cell_type": "code",
      "execution_count": null,
      "id": "ccda9357",
      "metadata": {},
      "outputs": [],
      "source": [
        "# history = model.fit(Xt, yt, batch_size=bs, validation_data=(Xv, yv), verbose=1, epochs=10)\n"
      ]
    },
    {
      "cell_type": "code",
      "execution_count": null,
      "id": "0d0ce73b",
      "metadata": {},
      "outputs": [],
      "source": [
        "# model.predict(Xv[:10])\n"
      ]
    },
    {
      "cell_type": "code",
      "execution_count": null,
      "id": "5d412fd0",
      "metadata": {},
      "outputs": [],
      "source": [
        "import lightgbm as lgb\n",
        "\n",
        "train_data = lgb.Dataset(X_train, label=y_train)\n",
        "param = {'objective': 'cross_entropy', 'metric': ['auc', 'binary_logloss']}\n",
        "# num_round = 100\n",
        "# hist = lgb.cv(param, train_data, num_round, nfold=5)\n"
      ]
    },
    {
      "cell_type": "code",
      "execution_count": null,
      "id": "0a533cf9",
      "metadata": {},
      "outputs": [],
      "source": [
        "# hist['auc-mean'][-1]\n"
      ]
    },
    {
      "cell_type": "code",
      "execution_count": null,
      "id": "a26faa09",
      "metadata": {},
      "outputs": [],
      "source": [
        "clf = lgb.train(param, train_data)\n"
      ]
    },
    {
      "cell_type": "code",
      "execution_count": null,
      "id": "0d3ee205",
      "metadata": {},
      "outputs": [],
      "source": [
        "y_pred = clf.predict(X_test)\n"
      ]
    },
    {
      "cell_type": "code",
      "execution_count": null,
      "id": "9db1a853",
      "metadata": {},
      "outputs": [],
      "source": [
        "submission = test_df[['id']]\n",
        "submission['target'] = y_pred\n",
        "submission.to_csv('submission.csv', index=False)\n"
      ]
    },
    {
      "cell_type": "code",
      "execution_count": null,
      "id": "14b47cf4",
      "metadata": {},
      "outputs": [],
      "source": [
        "pd.read_csv('submission.csv')\n"
      ]
    },
    {
      "cell_type": "code",
      "execution_count": null,
      "id": "036cfaa8",
      "metadata": {},
      "outputs": [],
      "source": [
        " \n"
      ]
    }
  ],
  "metadata": {},
  "nbformat": 4,
  "nbformat_minor": 5
}