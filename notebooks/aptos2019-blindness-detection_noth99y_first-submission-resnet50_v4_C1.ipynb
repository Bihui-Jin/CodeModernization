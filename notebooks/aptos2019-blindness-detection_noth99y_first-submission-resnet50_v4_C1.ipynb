{
 "cells": [
  {
   "cell_type": "code",
   "execution_count": null,
   "id": "1d2673d0",
   "metadata": {},
   "outputs": [],
   "source": [
    "import pandas as pd\n",
    "from pathlib import Path"
   ]
  },
  {
   "cell_type": "code",
   "execution_count": null,
   "id": "b9768d61",
   "metadata": {},
   "outputs": [],
   "source": [
    "import os\n",
    "import json\n",
    "import numpy as np\n",
    "import pandas as pd\n",
    "import matplotlib.pyplot as plt\n",
    "\n",
    "from scipy.misc import imread\n",
    "from PIL import Image\n",
    "from keras.models import load_model \n",
    "from keras.preprocessing.image import ImageDataGenerator\n"
   ]
  },
  {
   "cell_type": "code",
   "execution_count": null,
   "id": "d758b494",
   "metadata": {},
   "outputs": [],
   "source": [
    "with open('../input/config/model.json') as json_file:\n",
    "        model_config = json.load(json_file)['get_resnet50']\n",
    "WEIGHT_PATH = '../input/resnet50/ResNet50-12-0.43.hdf5'\n",
    "TEST_DATA_PATH = '../input/aptos2019-blindness-detection/test_images'\n"
   ]
  },
  {
   "cell_type": "code",
   "execution_count": null,
   "id": "260ab994",
   "metadata": {},
   "outputs": [],
   "source": [
    "model = load_model(WEIGHT_PATH)\n"
   ]
  },
  {
   "cell_type": "code",
   "execution_count": null,
   "id": "5e41330b",
   "metadata": {},
   "outputs": [],
   "source": [
    "test_data_gen = ImageDataGenerator(rescale=1./255)\n"
   ]
  },
  {
   "cell_type": "code",
   "execution_count": null,
   "id": "65502731",
   "metadata": {},
   "outputs": [],
   "source": [
    "submission_df = pd.read_csv('../input/aptos2019-blindness-detection/sample_submission.csv')\n",
    "submission_df.head()\n"
   ]
  },
  {
   "cell_type": "code",
   "execution_count": null,
   "id": "6b03b135",
   "metadata": {},
   "outputs": [],
   "source": [
    "def read_and_preprocess_image(id_code):    \n",
    "    image = imread(os.path.join(TEST_DATA_PATH, id_code + '.png'))\n",
    "    image = np.array(Image.fromarray(image).resize(model_config['input_shape'][:-1][::-1])).astype(np.uint8)\n",
    "    return image\n"
   ]
  },
  {
   "cell_type": "code",
   "execution_count": null,
   "id": "3b3c9915",
   "metadata": {},
   "outputs": [],
   "source": [
    "id_codes = list(submission_df['id_code'])\n",
    "x_train = np.array([read_and_preprocess_image(id_code) for id_code in id_codes])\n"
   ]
  },
  {
   "cell_type": "code",
   "execution_count": null,
   "id": "e8a7f736",
   "metadata": {},
   "outputs": [],
   "source": [
    "test_generator = test_data_gen.flow(x_train)\n"
   ]
  },
  {
   "cell_type": "code",
   "execution_count": null,
   "id": "db27c27d",
   "metadata": {},
   "outputs": [],
   "source": [
    "class_labels = ['0', '1', '2', '3', '4']\n"
   ]
  },
  {
   "cell_type": "code",
   "execution_count": null,
   "id": "4db21adf",
   "metadata": {},
   "outputs": [],
   "source": [
    "steps_need = test_generator.n//test_generator.batch_size + 1\n",
    "test_generator.reset() # you need to restart whenever you call the predict_generator.\n",
    "pred = model.predict_generator(test_generator, steps = steps_need, verbose=1)\n"
   ]
  },
  {
   "cell_type": "code",
   "execution_count": null,
   "id": "514ec23c",
   "metadata": {},
   "outputs": [],
   "source": [
    "predicted_class_indices=np.argmax(pred,axis=-1)\n",
    "predictions = predicted_class_indices\n",
    "predictions\n"
   ]
  },
  {
   "cell_type": "code",
   "execution_count": null,
   "id": "c5126c87",
   "metadata": {},
   "outputs": [],
   "source": [
    "print(np.unique(predictions))\n",
    "print(len(predictions))\n"
   ]
  },
  {
   "cell_type": "code",
   "execution_count": null,
   "id": "1466decb",
   "metadata": {},
   "outputs": [],
   "source": [
    "submission_df['diagnosis'] = predictions\n",
    "submission_df.head()\n"
   ]
  },
  {
   "cell_type": "code",
   "execution_count": null,
   "id": "3117f0db",
   "metadata": {},
   "outputs": [],
   "source": [
    "submission_df.to_csv('submission.csv', index=False)\n"
   ]
  }
 ],
 "metadata": {},
 "nbformat": 4,
 "nbformat_minor": 5
}
