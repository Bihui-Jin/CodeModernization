{
  "cells": [
    {
      "cell_type": "code",
      "execution_count": null,
      "id": "e30830fb",
      "metadata": {},
      "outputs": [],
      "source": [
        "import pandas as pd\n",
        "from pathlib import Path"
      ]
    },
    {
      "cell_type": "code",
      "execution_count": null,
      "id": "3dde0070",
      "metadata": {},
      "outputs": [],
      "source": [
        "# This Python 3 environment comes with many helpful analytics libraries installed\n",
        "# It is defined by the kaggle/python Docker image: https://github.com/kaggle/docker-python\n",
        "# For example, here's several helpful packages to load\n",
        "\n",
        "import numpy as np # linear algebra\n",
        "import pandas as pd # data processing, CSV file I/O (e.g. pd.read_csv)\n",
        "\n",
        "# Input data files are available in the read-only \"../input/\" directory\n",
        "# For example, running this (by clicking run or pressing Shift+Enter) will list all files under the input directory\n",
        "\n",
        "import os\n",
        "for dirname, _, filenames in os.walk('/kaggle/input'):\n",
        "    for filename in filenames:\n",
        "        print(os.path.join(dirname, filename))\n",
        "\n",
        "# You can write up to 20GB to the current directory (/kaggle/working/) that gets preserved as output when you create a version using \"Save & Run All\" \n",
        "# You can also write temporary files to /kaggle/temp/, but they won't be saved outside of the current session\n"
      ]
    },
    {
      "cell_type": "code",
      "execution_count": null,
      "id": "e06ff8ae",
      "metadata": {},
      "outputs": [],
      "source": [
        "train_data = pd.read_csv('../input/leaf-classification/train.csv.zip', index_col ='id')\n",
        "test_data = pd.read_csv('../input/leaf-classification/test.csv.zip')\n",
        "\n",
        "test_ids = test_data.id\n",
        "test_data = test_data.drop(['id'], axis =1)\n"
      ]
    },
    {
      "cell_type": "code",
      "execution_count": null,
      "id": "360c294f",
      "metadata": {},
      "outputs": [],
      "source": [
        "test_data.head()\n"
      ]
    },
    {
      "cell_type": "code",
      "execution_count": null,
      "id": "01c143d3",
      "metadata": {},
      "outputs": [],
      "source": [
        "train_data.head()\n"
      ]
    },
    {
      "cell_type": "code",
      "execution_count": null,
      "id": "2f1f5db3",
      "metadata": {},
      "outputs": [],
      "source": [
        "print(test_data.isnull().any().sum())\n",
        "print(train_data.isnull().any().sum())\n"
      ]
    },
    {
      "cell_type": "code",
      "execution_count": null,
      "id": "59440f92",
      "metadata": {},
      "outputs": [],
      "source": [
        "train_data.info()\n",
        "test_data.info()\n"
      ]
    },
    {
      "cell_type": "code",
      "execution_count": null,
      "id": "7494c61e",
      "metadata": {},
      "outputs": [],
      "source": [
        "x = train_data.drop('species',axis=1)\n",
        "y = train_data['species']\n"
      ]
    },
    {
      "cell_type": "code",
      "execution_count": null,
      "id": "a33049c6",
      "metadata": {},
      "outputs": [],
      "source": [
        "from sklearn.preprocessing import LabelEncoder\n",
        "encoder = LabelEncoder()\n",
        "y_fit = encoder.fit(train_data['species'])\n",
        "y_label = y_fit.transform(train_data['species']) \n",
        "classes = list(y_fit.classes_) \n",
        "classes\n"
      ]
    },
    {
      "cell_type": "code",
      "execution_count": null,
      "id": "f6692896",
      "metadata": {},
      "outputs": [],
      "source": [
        "from sklearn.model_selection import  train_test_split\n",
        "x_train, x_test, y_train, y_test = train_test_split(x,y_label, test_size = 0.2, random_state =1)\n",
        "\n",
        "from sklearn.ensemble import RandomForestClassifier\n",
        "classifier = RandomForestClassifier(n_estimators = 40)\n",
        "classifier.fit(x_train, y_train)\n"
      ]
    },
    {
      "cell_type": "code",
      "execution_count": null,
      "id": "5931138b",
      "metadata": {},
      "outputs": [],
      "source": [
        "from sklearn.metrics import classification_report\n",
        "predictions = classifier.predict(x_test)\n",
        "print (classification_report(y_test, predictions))\n"
      ]
    },
    {
      "cell_type": "code",
      "execution_count": null,
      "id": "58499790",
      "metadata": {},
      "outputs": [],
      "source": [
        "final_predictions = classifier.predict_proba(test_data)\n",
        "submission = pd.DataFrame(final_predictions, columns=classes)\n",
        "submission.insert(0, 'id', test_ids)\n",
        "submission.reset_index()\n"
      ]
    },
    {
      "cell_type": "code",
      "execution_count": null,
      "id": "8ce876de",
      "metadata": {},
      "outputs": [],
      "source": [
        "submission.to_csv('submission.csv', index = False)\n"
      ]
    }
  ],
  "metadata": {},
  "nbformat": 4,
  "nbformat_minor": 5
}