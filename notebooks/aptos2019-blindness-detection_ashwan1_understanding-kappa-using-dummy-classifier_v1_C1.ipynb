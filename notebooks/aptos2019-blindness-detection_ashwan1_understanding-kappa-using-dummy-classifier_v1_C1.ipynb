{
  "cells": [
    {
      "cell_type": "code",
      "execution_count": null,
      "id": "c56c7a31",
      "metadata": {},
      "outputs": [],
      "source": [
        "import pandas as pd\n",
        "from pathlib import Path"
      ]
    },
    {
      "cell_type": "code",
      "execution_count": null,
      "id": "13566649",
      "metadata": {},
      "outputs": [],
      "source": [
        "import numpy as np # linear algebra\n",
        "import pandas as pd # data processing, CSV file I/O (e.g. pd.read_csv)\n",
        "from sklearn.dummy import DummyClassifier\n",
        "\n",
        "import os\n",
        "print(os.listdir(\"../input\"))\n"
      ]
    },
    {
      "cell_type": "code",
      "execution_count": null,
      "id": "63102df0",
      "metadata": {},
      "outputs": [],
      "source": [
        "train = pd.read_csv('../input/train.csv')\n",
        "train.head()\n"
      ]
    },
    {
      "cell_type": "code",
      "execution_count": null,
      "id": "6ab0bfa1",
      "metadata": {},
      "outputs": [],
      "source": [
        "dummy_clf = DummyClassifier() # Default strategy is 'stratified'\n",
        "dummy_clf.fit(train.id_code, train.diagnosis) # Inputs doesn't matter, it's dummy\n",
        "dummy_clf.score(train.id_code, train.diagnosis)\n"
      ]
    },
    {
      "cell_type": "code",
      "execution_count": null,
      "id": "6f68a27f",
      "metadata": {},
      "outputs": [],
      "source": [
        "test = pd.read_csv('../input/test.csv')\n",
        "test.head()\n"
      ]
    },
    {
      "cell_type": "code",
      "execution_count": null,
      "id": "b4ddfb61",
      "metadata": {},
      "outputs": [],
      "source": [
        "predictions = dummy_clf.predict(test.id_code)\n",
        "submissions = pd.read_csv('../input/sample_submission.csv')\n",
        "submissions['diagnosis'] = predictions\n",
        "submissions.head()\n"
      ]
    },
    {
      "cell_type": "code",
      "execution_count": null,
      "id": "b00dc6d7",
      "metadata": {},
      "outputs": [],
      "source": [
        "submissions.to_csv('submission.csv', index=False)\n"
      ]
    }
  ],
  "metadata": {},
  "nbformat": 4,
  "nbformat_minor": 5
}