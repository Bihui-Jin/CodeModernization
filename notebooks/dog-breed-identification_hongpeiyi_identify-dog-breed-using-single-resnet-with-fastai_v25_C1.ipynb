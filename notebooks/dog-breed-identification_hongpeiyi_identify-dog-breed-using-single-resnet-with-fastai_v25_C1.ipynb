{
 "cells": [
  {
   "cell_type": "code",
   "execution_count": null,
   "id": "888beff1",
   "metadata": {},
   "outputs": [],
   "source": [
    "import pandas as pd\n",
    "from pathlib import Path"
   ]
  },
  {
   "cell_type": "code",
   "execution_count": null,
   "id": "d5f9df22",
   "metadata": {},
   "outputs": [],
   "source": [
    "from fastai.vision.all import *\n"
   ]
  },
  {
   "cell_type": "code",
   "execution_count": null,
   "id": "fd8ba399",
   "metadata": {},
   "outputs": [],
   "source": [
    "labels = pd.read_csv(\"../input/dog-breed-identification/labels.csv\")\n",
    "labels\n"
   ]
  },
  {
   "cell_type": "code",
   "execution_count": null,
   "id": "3b975ae0",
   "metadata": {},
   "outputs": [],
   "source": [
    "labels[\"breed\"].value_counts().plot(kind=\"hist\");\n"
   ]
  },
  {
   "cell_type": "code",
   "execution_count": null,
   "id": "a14ae6a9",
   "metadata": {},
   "outputs": [],
   "source": [
    "from sklearn.model_selection import StratifiedShuffleSplit\n",
    "\n",
    "split = StratifiedShuffleSplit(n_splits=1, test_size=0.2, random_state=42)\n",
    "train_ids, valid_ids = next(split.split(labels, labels[\"breed\"]))\n",
    "labels[\"is_valid\"] = [i in valid_ids for i in range(len(labels))]\n",
    "\n",
    "labels[\"id\"] = labels[\"id\"].apply(lambda x: x + \".jpg\")\n"
   ]
  },
  {
   "cell_type": "code",
   "execution_count": null,
   "id": "f7d14d14",
   "metadata": {},
   "outputs": [],
   "source": [
    "path = \"../input/dog-breed-identification/train\"\n",
    "\n",
    "def get_dls(size, bs):\n",
    "    return ImageDataLoaders.from_df(labels, path,\n",
    "                               item_tfms=Resize(460, method=\"squeeze\"),\n",
    "                               batch_tfms=[*aug_transforms(size=size),\n",
    "                                           Normalize.from_stats(*imagenet_stats)],\n",
    "                               bs=bs, val_bs=bs, valid_col=\"is_valid\")\n",
    "\n",
    "dls = get_dls(400, 32)\n"
   ]
  },
  {
   "cell_type": "code",
   "execution_count": null,
   "id": "b4261cf2",
   "metadata": {},
   "outputs": [],
   "source": [
    "dls.show_batch()\n"
   ]
  },
  {
   "cell_type": "code",
   "execution_count": null,
   "id": "c75777f3",
   "metadata": {},
   "outputs": [],
   "source": [
    "label_count = labels[\"breed\"].value_counts()\n",
    "n_samples = labels.shape[0]\n",
    "n_classes = len(dls.vocab)\n",
    "weights = [n_samples / (n_classes * label_count[label]) for label in dls.vocab]\n",
    "weights = tensor(weights, device=\"cuda\")\n"
   ]
  },
  {
   "cell_type": "code",
   "execution_count": null,
   "id": "bee54414",
   "metadata": {},
   "outputs": [],
   "source": [
    "learn = cnn_learner(dls, resnet101, loss_func=nn.CrossEntropyLoss(weight=weights),\n",
    "                    metrics=[accuracy, F.cross_entropy], path=\".\").to_fp16()\n"
   ]
  },
  {
   "cell_type": "code",
   "execution_count": null,
   "id": "921372d5",
   "metadata": {},
   "outputs": [],
   "source": [
    "learn.lr_find()\n"
   ]
  },
  {
   "cell_type": "code",
   "execution_count": null,
   "id": "fee08d92",
   "metadata": {},
   "outputs": [],
   "source": [
    "learn.fit_one_cycle(3, 3e-3)\n"
   ]
  },
  {
   "cell_type": "code",
   "execution_count": null,
   "id": "b914bc3d",
   "metadata": {},
   "outputs": [],
   "source": [
    "learn.unfreeze()\n",
    "learn.lr_find()\n"
   ]
  },
  {
   "cell_type": "code",
   "execution_count": null,
   "id": "ac16906d",
   "metadata": {},
   "outputs": [],
   "source": [
    "learn.fit_one_cycle(3, slice(1e-6, 1e-4))\n"
   ]
  },
  {
   "cell_type": "code",
   "execution_count": null,
   "id": "0ef4c57a",
   "metadata": {},
   "outputs": [],
   "source": [
    "test_files = get_image_files(\"../input/dog-breed-identification/test\")\n",
    "test_dl = dls.test_dl(test_files)\n"
   ]
  },
  {
   "cell_type": "code",
   "execution_count": null,
   "id": "90112a2d",
   "metadata": {},
   "outputs": [],
   "source": [
    "preds, targs = learn.tta(dl=test_dl)\n"
   ]
  },
  {
   "cell_type": "code",
   "execution_count": null,
   "id": "ca30a19c",
   "metadata": {},
   "outputs": [],
   "source": [
    "preds = torch.softmax(preds, dim=1)\n",
    "sub = pd.DataFrame({\"id\":test_files.map(lambda x:x.stem)})\n",
    "sub[list(dls.vocab)] = preds\n",
    "sub.to_csv(\"submission.csv\", index=False)\n"
   ]
  },
  {
   "cell_type": "code",
   "execution_count": null,
   "id": "5707b118",
   "metadata": {},
   "outputs": [],
   "source": [
    "sub\n"
   ]
  },
  {
   "cell_type": "code",
   "execution_count": null,
   "id": "53aee16c",
   "metadata": {},
   "outputs": [],
   "source": [
    " \n"
   ]
  }
 ],
 "metadata": {},
 "nbformat": 4,
 "nbformat_minor": 5
}
