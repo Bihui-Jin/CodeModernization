{
  "cells": [
    {
      "cell_type": "code",
      "execution_count": null,
      "id": "a6ab84db",
      "metadata": {},
      "outputs": [],
      "source": [
        "import pandas as pd\n",
        "from pathlib import Path"
      ]
    },
    {
      "cell_type": "code",
      "execution_count": null,
      "id": "093b812c",
      "metadata": {},
      "outputs": [],
      "source": [
        "from fastai.vision.all import *\n",
        "\n",
        "labels = pd.read_csv(\"../input/dog-breed-identification/labels.csv\")\n",
        "labels\n"
      ]
    },
    {
      "cell_type": "code",
      "execution_count": null,
      "id": "6a531bcd",
      "metadata": {},
      "outputs": [],
      "source": [
        "from sklearn.model_selection import StratifiedShuffleSplit\n",
        "\n",
        "split = StratifiedShuffleSplit(n_splits=1, test_size=0.2, random_state=42)\n",
        "train_ids, valid_ids = next(split.split(labels, labels[\"breed\"]))\n",
        "labels[\"is_valid\"] = [i in valid_ids for i in range(len(labels))]\n",
        "\n",
        "labels[\"id\"] = labels[\"id\"].apply(lambda x: x + \".jpg\")\n"
      ]
    },
    {
      "cell_type": "code",
      "execution_count": null,
      "id": "62f43537",
      "metadata": {},
      "outputs": [],
      "source": [
        "path = \"../input/dog-breed-identification/train\"\n",
        "\n",
        "dls = ImageDataLoaders.from_df(labels, path,\n",
        "                               item_tfms=Resize(460, method=\"squeeze\"),\n",
        "                               batch_tfms=[*aug_transforms(size=300),\n",
        "                                           Normalize.from_stats(*imagenet_stats)],\n",
        "                               bs=32, valid_col=\"is_valid\")\n",
        "dls.show_batch()\n"
      ]
    },
    {
      "cell_type": "code",
      "execution_count": null,
      "id": "8527ec4c",
      "metadata": {},
      "outputs": [],
      "source": [
        "xb, yb = dls.one_batch()\n"
      ]
    },
    {
      "cell_type": "code",
      "execution_count": null,
      "id": "4b7b4026",
      "metadata": {},
      "outputs": [],
      "source": [
        "densenet = nn.Sequential(*list(densenet169(pretrained=True).children())[:-1], \n",
        "                         nn.AdaptiveAvgPool2d((1, 1)),\n",
        "                         nn.Flatten())\n"
      ]
    },
    {
      "cell_type": "code",
      "execution_count": null,
      "id": "01f65aca",
      "metadata": {},
      "outputs": [],
      "source": [
        "resnet = nn.Sequential(*list(resnet152(pretrained=True).children())[:-1], \n",
        "                       nn.Flatten())\n"
      ]
    },
    {
      "cell_type": "code",
      "execution_count": null,
      "id": "6aff83de",
      "metadata": {},
      "outputs": [],
      "source": [
        "class NeuralNet(Module):\n",
        "    def __init__(self, extractors, hidden_size, vocab_size, device):\n",
        "        \n",
        "        self.extractors = extractors\n",
        "        for conv in self.extractors:\n",
        "            conv.eval().to(device)\n",
        "            \n",
        "        self.classifier = nn.Sequential(\n",
        "            nn.Linear(hidden_size, 512),\n",
        "            nn.ReLU(),\n",
        "            nn.BatchNorm1d(512),\n",
        "            nn.Dropout(0.5),\n",
        "            nn.Linear(512, vocab_size)).to(device)\n",
        "        \n",
        "    def forward(self, x):\n",
        "        \n",
        "        features = torch.cat([conv(x) for conv in self.extractors], dim=1)\n",
        "        \n",
        "        return self.classifier(features)\n"
      ]
    },
    {
      "cell_type": "code",
      "execution_count": null,
      "id": "392b98ac",
      "metadata": {},
      "outputs": [],
      "source": [
        "extractors = [densenet, resnet]\n",
        "hidden_size = 1664 + 2048\n",
        "device = \"cuda\" if torch.cuda.is_available() else \"cpu\"\n",
        "model = NeuralNet(extractors, hidden_size, len(dls.vocab), device)\n"
      ]
    },
    {
      "cell_type": "code",
      "execution_count": null,
      "id": "e28e24cb",
      "metadata": {},
      "outputs": [],
      "source": [
        "learn = Learner(dls, model, metrics=accuracy, path=\".\").to_fp16()\n",
        "learn.lr_find()\n"
      ]
    },
    {
      "cell_type": "code",
      "execution_count": null,
      "id": "494484f5",
      "metadata": {},
      "outputs": [],
      "source": [
        "learn.fit_one_cycle(3, 1e-3)\n"
      ]
    },
    {
      "cell_type": "code",
      "execution_count": null,
      "id": "d26928bb",
      "metadata": {},
      "outputs": [],
      "source": [
        "torch.cuda.empty_cache()\n"
      ]
    },
    {
      "cell_type": "code",
      "execution_count": null,
      "id": "aff2dcb6",
      "metadata": {},
      "outputs": [],
      "source": [
        "test_files = get_image_files(\"../input/dog-breed-identification/test\")\n",
        "test_dl = dls.test_dl(test_files, bs=16)\n"
      ]
    },
    {
      "cell_type": "code",
      "execution_count": null,
      "id": "e9c260ab",
      "metadata": {},
      "outputs": [],
      "source": [
        "preds, targs = learn.tta(dl=test_dl)\n"
      ]
    },
    {
      "cell_type": "code",
      "execution_count": null,
      "id": "b68aef0b",
      "metadata": {},
      "outputs": [],
      "source": [
        "#preds = torch.softmax(preds, dim=1)\n",
        "sub = pd.DataFrame({\"id\":test_files.map(lambda x:x.stem)})\n",
        "sub[list(dls.vocab)] = preds\n",
        "sub.to_csv(\"submission.csv\", index=False)\n"
      ]
    },
    {
      "cell_type": "code",
      "execution_count": null,
      "id": "d21d9a86",
      "metadata": {},
      "outputs": [],
      "source": [
        " \n"
      ]
    }
  ],
  "metadata": {},
  "nbformat": 4,
  "nbformat_minor": 5
}