{
 "cells": [
  {
   "cell_type": "code",
   "execution_count": null,
   "id": "aa4cfade",
   "metadata": {},
   "outputs": [],
   "source": [
    "import pandas as pd\n",
    "from pathlib import Path"
   ]
  },
  {
   "cell_type": "code",
   "execution_count": null,
   "id": "e3dd7287",
   "metadata": {},
   "outputs": [],
   "source": [
    "# This Python 3 environment comes with many helpful analytics libraries installed\n",
    "# It is defined by the kaggle/python docker image: https://github.com/kaggle/docker-python\n",
    "# For example, here's several helpful packages to load in \n",
    "\n",
    "import numpy as np # linear algebra\n",
    "import pandas as pd # data processing, CSV file I/O (e.g. pd.read_csv)\n",
    "\n",
    "# Input data files are available in the \"../input/\" directory.\n",
    "# For example, running this (by clicking run or pressing Shift+Enter) will list the files in the input directory\n",
    "\n",
    "import os\n",
    "print(os.listdir(\"../input\"))\n",
    "\n",
    "train_df = pd.read_csv(\"../input/train.csv\")\n",
    "print(\"Shape of train data: {0}\".format(train_df.shape))\n",
    "test_df = pd.read_csv(\"../input/test.csv\")\n",
    "print(\"Shape of test data: {0}\".format(test_df.shape))\n",
    "\n",
    "diagnosis_df = pd.DataFrame({\n",
    "    'diagnosis': [0, 1, 2, 3, 4],\n",
    "    'diagnosis_label': ['No DR', 'Mild', 'Moderate', 'Severe', 'Proliferative DR']\n",
    "})\n",
    "\n",
    "train_df = train_df.merge(diagnosis_df, how=\"left\", on=\"diagnosis\")\n",
    "\n",
    "train_image_files = [os.path.join(dp, f) for dp, dn, fn in os.walk(os.path.expanduser(\"../input/train_images\")) for f in fn]\n",
    "train_images_df = pd.DataFrame({\n",
    "    'files': train_image_files,\n",
    "    'id_code': [file.split('/')[3].split('.')[0] for file in train_image_files],\n",
    "})\n",
    "train_df = train_df.merge(train_images_df, how=\"left\", on=\"id_code\")\n",
    "del train_images_df\n",
    "print(\"Shape of train data: {0}\".format(train_df.shape))\n",
    "\n",
    "test_image_files = [os.path.join(dp, f) for dp, dn, fn in os.walk(os.path.expanduser(\"../input/test_images\")) for f in fn]\n",
    "test_images_df = pd.DataFrame({\n",
    "    'files': test_image_files,\n",
    "    'id_code': [file.split('/')[3].split('.')[0] for file in test_image_files],\n",
    "})\n",
    "\n",
    "\n",
    "test_df = test_df.merge(test_images_df, how=\"left\", on=\"id_code\")\n",
    "del test_images_df\n",
    "print(\"Shape of test data: {0}\".format(test_df.shape))\n",
    "\n",
    "# Any results you write to the current directory are saved as output.\n"
   ]
  },
  {
   "cell_type": "code",
   "execution_count": null,
   "id": "0c1d29f6",
   "metadata": {},
   "outputs": [],
   "source": [
    "train_df.head()\n"
   ]
  },
  {
   "cell_type": "code",
   "execution_count": null,
   "id": "c8158784",
   "metadata": {},
   "outputs": [],
   "source": [
    "test_df.head()\n"
   ]
  },
  {
   "cell_type": "code",
   "execution_count": null,
   "id": "7996df3c",
   "metadata": {},
   "outputs": [],
   "source": [
    "IMG_SIZE = 150\n",
    "N_CLASSES = train_df.diagnosis.nunique()\n",
    "CLASSES = list(map(str, range(N_CLASSES)))\n",
    "BATCH_SIZE = 32\n",
    "EPOCH_STEPS = 10\n",
    "EPOCHS = 1\n"
   ]
  },
  {
   "cell_type": "code",
   "execution_count": null,
   "id": "0c01f9f4",
   "metadata": {},
   "outputs": [],
   "source": [
    "import tensorflow as tf\n",
    "print(tf.__version__)\n",
    "\n",
    "from keras.preprocessing.image import ImageDataGenerator\n",
    "\n",
    "train_df[\"diagnosis\"] = train_df[\"diagnosis\"].astype(str)\n",
    "\n",
    "train_data_gen = ImageDataGenerator(rescale=1.0/255, validation_split=0.3)\n",
    "train_data = train_data_gen.flow_from_dataframe(\n",
    "    dataframe=train_df, \n",
    "    x_col=\"files\",\n",
    "    y_col=\"diagnosis\",\n",
    "    batch_size=BATCH_SIZE,\n",
    "    shuffle=True,\n",
    "    classes=CLASSES,\n",
    "    class_mode=\"sparse\",\n",
    "    target_size=(IMG_SIZE, IMG_SIZE),\n",
    "    subset=\"training\"\n",
    ")\n",
    "\n",
    "validation_data = train_data_gen.flow_from_dataframe(\n",
    "    dataframe=train_df, \n",
    "    x_col=\"files\",\n",
    "    y_col=\"diagnosis\",\n",
    "    batch_size=BATCH_SIZE,\n",
    "    shuffle=True,\n",
    "    classes=CLASSES,\n",
    "    class_mode=\"sparse\",\n",
    "    target_size=(IMG_SIZE, IMG_SIZE),\n",
    "    subset=\"validation\"\n",
    ")\n",
    "\n",
    "test_data_gen = ImageDataGenerator(rescale=1./255)\n",
    "test_data = test_data_gen.flow_from_dataframe(\n",
    "    dataframe=test_df,\n",
    "    x_col=\"files\",\n",
    "    target_size=(IMG_SIZE, IMG_SIZE),\n",
    "    batch_size = 1,\n",
    "    shuffle=False,\n",
    "    class_mode=None\n",
    ")\n"
   ]
  },
  {
   "cell_type": "code",
   "execution_count": null,
   "id": "e8ba8e38",
   "metadata": {},
   "outputs": [],
   "source": [
    "model = tf.keras.models.Sequential([\n",
    "    tf.keras.layers.Conv2D(64, (3, 3), activation='relu', input_shape=(IMG_SIZE, IMG_SIZE, 3)),\n",
    "    tf.keras.layers.MaxPooling2D(2, 2),\n",
    "    tf.keras.layers.Conv2D(64, (3, 3), activation='relu'),\n",
    "    tf.keras.layers.MaxPooling2D(2, 2),\n",
    "    tf.keras.layers.Flatten(),\n",
    "    # tf.keras.layers.Dense(2048, activation='relu'),\n",
    "    tf.keras.layers.Dense(1024, activation='relu'),\n",
    "    tf.keras.layers.Dense(512, activation='relu'),\n",
    "    tf.keras.layers.Dense(256, activation='relu'),\n",
    "    # tf.keras.layers.Dense(128, activation='relu'),\n",
    "    tf.keras.layers.Dense(N_CLASSES, activation='softmax')\n",
    "])\n",
    "opt = tf.keras.optimizers.Adam(lr=0.001, epsilon=1e-6)\n",
    "model.compile(optimizer=opt, loss='sparse_categorical_crossentropy', metrics=['accuracy'])\n",
    "model.summary()\n"
   ]
  },
  {
   "cell_type": "code",
   "execution_count": null,
   "id": "1d1c31fa",
   "metadata": {},
   "outputs": [],
   "source": [
    "model.fit(\n",
    "    train_data,\n",
    "    steps_per_epochs=EPOCH_STEPS,\n",
    "    epochs=EPOCHS,\n",
    "    validation_data=validation_data,\n",
    "    validation_steps=10\n",
    ")\n"
   ]
  },
  {
   "cell_type": "code",
   "execution_count": null,
   "id": "677be51e",
   "metadata": {},
   "outputs": [],
   "source": [
    "filenames = test_data.filenames\n",
    "classifications = model.predict_generator(test_data, steps=len(filenames))\n"
   ]
  },
  {
   "cell_type": "code",
   "execution_count": null,
   "id": "2d752aa6",
   "metadata": {},
   "outputs": [],
   "source": [
    "results = pd.DataFrame({\n",
    "    \"id_code\": filenames,\n",
    "    \"diagnosis\": np.argmax(classifications, axis=1)\n",
    "})\n",
    "results[\"id_code\"] = results[\"id_code\"].map(lambda x: str(x)[:-4].split(\"/\")[3])\n",
    "results.head()\n"
   ]
  },
  {
   "cell_type": "code",
   "execution_count": null,
   "id": "d1ae033f",
   "metadata": {},
   "outputs": [],
   "source": [
    "results.to_csv(\"submission.csv\", index=False)\n"
   ]
  },
  {
   "cell_type": "code",
   "execution_count": null,
   "id": "791715e2",
   "metadata": {},
   "outputs": [],
   "source": [
    " \n"
   ]
  }
 ],
 "metadata": {},
 "nbformat": 4,
 "nbformat_minor": 5
}
