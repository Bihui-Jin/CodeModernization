{
 "cells": [
  {
   "cell_type": "code",
   "execution_count": null,
   "id": "14d30e98",
   "metadata": {},
   "outputs": [],
   "source": [
    "import pandas as pd\n",
    "from pathlib import Path"
   ]
  },
  {
   "cell_type": "code",
   "execution_count": null,
   "id": "ef0371a5",
   "metadata": {},
   "outputs": [],
   "source": [
    "import pandas as pd\n",
    "import numpy as np\n",
    "import matplotlib.pyplot as plt\n",
    "import seaborn as sns \n",
    "pd.set_option('display.max_columns', None)\n",
    "#pd.set_option('display.max_rows', None)\n",
    "\n",
    "\n",
    "train=pd.read_csv('../input/tabular-playground-series-dec-2021/train.csv')\n",
    "test=pd.read_csv('../input/tabular-playground-series-dec-2021/test.csv')\n"
   ]
  },
  {
   "cell_type": "code",
   "execution_count": null,
   "id": "ffbffb95",
   "metadata": {},
   "outputs": [],
   "source": [
    "train.info()\n"
   ]
  },
  {
   "cell_type": "code",
   "execution_count": null,
   "id": "97d88284",
   "metadata": {},
   "outputs": [],
   "source": [
    "train.head()\n"
   ]
  },
  {
   "cell_type": "code",
   "execution_count": null,
   "id": "ec1e9228",
   "metadata": {},
   "outputs": [],
   "source": [
    "data = train.copy()\n",
    "data = data[data['Cover_Type'] < train['Cover_Type'].quantile(0.99)]\n",
    "plt.figure(figsize=(15,10))\n",
    "plt.title(\"Cover_Type\",fontsize=15)\n",
    "sns.distplot(data['Cover_Type'])\n",
    "plt.show()\n"
   ]
  },
  {
   "cell_type": "code",
   "execution_count": null,
   "id": "8c2853bf",
   "metadata": {},
   "outputs": [],
   "source": [
    "plt.figure(figsize=(14,5))\n",
    "target_values = train['Cover_Type'].value_counts()\n",
    "sns.barplot(x=target_values.index, y=target_values.values,linewidth=1.5, facecolor='blue',\n",
    "                 errcolor=\".2\", edgecolor=\".2\")\n",
    "plt.title(\"Target unique values\", fontdict={'fontsize':20})\n",
    "plt.show()\n"
   ]
  },
  {
   "cell_type": "code",
   "execution_count": null,
   "id": "5cc2b9ce",
   "metadata": {},
   "outputs": [],
   "source": [
    "test.shape,train.shape\n"
   ]
  },
  {
   "cell_type": "code",
   "execution_count": null,
   "id": "13700696",
   "metadata": {},
   "outputs": [],
   "source": [
    "train['Cover_Type'].unique()\n"
   ]
  },
  {
   "cell_type": "code",
   "execution_count": null,
   "id": "409b35d4",
   "metadata": {},
   "outputs": [],
   "source": [
    "train[train['Cover_Type']==1].shape,train[train['Cover_Type']==2].shape,train[train['Cover_Type']==3].shape\n"
   ]
  },
  {
   "cell_type": "code",
   "execution_count": null,
   "id": "736de73a",
   "metadata": {},
   "outputs": [],
   "source": [
    "train[train['Cover_Type']==6].shape,train[train['Cover_Type']==7].shape,train[train['Cover_Type']==4].shape,train[train['Cover_Type']==5].shape\n"
   ]
  },
  {
   "cell_type": "code",
   "execution_count": null,
   "id": "f14ed13a",
   "metadata": {},
   "outputs": [],
   "source": [
    "train.describe()\n"
   ]
  },
  {
   "cell_type": "code",
   "execution_count": null,
   "id": "6235a316",
   "metadata": {},
   "outputs": [],
   "source": [
    "k = 10\n",
    "f,ax = plt.subplots(figsize=(11, 11))\n",
    "cols = train.corr().nlargest(k, 'Cover_Type')['Cover_Type'].index\n",
    "cm = np.corrcoef(train[cols].values.T)\n",
    "sns.set(font_scale=1.25)\n",
    "hm = sns.heatmap(cm, cbar=True, annot=True, square=True, fmt='.2f', annot_kws={'size': 10}, yticklabels=cols.values, xticklabels=cols.values)\n",
    "plt.show()\n"
   ]
  },
  {
   "cell_type": "code",
   "execution_count": null,
   "id": "a37f457f",
   "metadata": {},
   "outputs": [],
   "source": [
    "train.isnull().sum()\n"
   ]
  },
  {
   "cell_type": "code",
   "execution_count": null,
   "id": "5e385491",
   "metadata": {},
   "outputs": [],
   "source": [
    "y=train.pop('Cover_Type')\n",
    "id_=train.pop('Id')\n",
    "id_test=test.pop('Id')\n"
   ]
  },
  {
   "cell_type": "code",
   "execution_count": null,
   "id": "3fb94542",
   "metadata": {},
   "outputs": [],
   "source": [
    "from catboost import CatBoostClassifier\n",
    "model = CatBoostClassifier( task_type = 'GPU',devices = '0')\n",
    "model.fit(train, y)\n"
   ]
  },
  {
   "cell_type": "code",
   "execution_count": null,
   "id": "807bb8e6",
   "metadata": {},
   "outputs": [],
   "source": [
    "sub = pd.read_csv('../input/tabular-playground-series-dec-2021/sample_submission.csv')\n",
    "sub['Cover_Type'] =model.predict(test)\n",
    "sub.to_csv(\"submission.csv\",index=False)\n",
    "sub.head()\n"
   ]
  },
  {
   "cell_type": "code",
   "execution_count": null,
   "id": "c8b6dcb8",
   "metadata": {},
   "outputs": [],
   "source": [
    " \n"
   ]
  }
 ],
 "metadata": {},
 "nbformat": 4,
 "nbformat_minor": 5
}
