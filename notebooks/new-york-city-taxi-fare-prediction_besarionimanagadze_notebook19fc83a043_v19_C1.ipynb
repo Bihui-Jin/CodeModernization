{
 "cells": [
  {
   "cell_type": "code",
   "execution_count": null,
   "id": "d0c9ba7d",
   "metadata": {},
   "outputs": [],
   "source": [
    "import pandas as pd\n",
    "from pathlib import Path"
   ]
  },
  {
   "cell_type": "code",
   "execution_count": null,
   "id": "7e9cb5ba",
   "metadata": {},
   "outputs": [],
   "source": [
    "import numpy as np # linear algebra\n",
    "import pandas as pd # data processing, CSV file I/O (e.g. pd.read_csv)\n",
    "import matplotlib.pyplot as plt # ploting library with python\n",
    "from sklearn.linear_model import LinearRegression # Library for linear regression model\n",
    "from sklearn.model_selection import train_test_split\n",
    "\n",
    "# Input data files are available in the read-only \"../input/\" directory\n",
    "# For example, running this (by clicking run or pressing Shift+Enter) will list all files under the input directory\n",
    "\n",
    "import os\n",
    "for dirname, _, filenames in os.walk('/kaggle/input'):\n",
    "    for filename in filenames:\n",
    "        print(os.path.join(dirname, filename))\n"
   ]
  },
  {
   "cell_type": "code",
   "execution_count": null,
   "id": "efb13d77",
   "metadata": {},
   "outputs": [],
   "source": [
    "# წავიკითხოთ მონაცემები pandas dataframe, ლიმიტი 10,000,000 მონაცემია\n",
    "train_data_set =  pd.read_csv('../input/new-york-city-taxi-fare-prediction/train.csv', nrows = 10_000_000, parse_dates=[\"pickup_datetime\"])\n",
    "\n",
    "# დავბეჭდოთ პირველი 5 ერთეული მონაცემებიდან\n",
    "train_data_set.head(5)\n"
   ]
  },
  {
   "cell_type": "code",
   "execution_count": null,
   "id": "6912e33a",
   "metadata": {},
   "outputs": [],
   "source": [
    "print(train_data_set.dtypes)\n",
    "train_data_set.describe()\n"
   ]
  },
  {
   "cell_type": "code",
   "execution_count": null,
   "id": "b5a44349",
   "metadata": {},
   "outputs": [],
   "source": [
    "old_len = len(train_data_set)\n",
    "train_data_set = train_data_set[train_data_set.fare_amount>=0.1]\n",
    "new_len = len(train_data_set)\n",
    "print(f\"Removed {(old_len-new_len)} entities from the dataset\")\n",
    "train_data_set.describe()\n"
   ]
  },
  {
   "cell_type": "code",
   "execution_count": null,
   "id": "370d103a",
   "metadata": {},
   "outputs": [],
   "source": [
    "old_len = len(train_data_set)\n",
    "train_data_set = train_data_set.dropna(how = 'any', axis = 'rows')\n",
    "new_len = len(train_data_set)\n",
    "print(f\"Removed {(old_len-new_len)} entities from the dataset\")\n"
   ]
  },
  {
   "cell_type": "code",
   "execution_count": null,
   "id": "e0d81c4a",
   "metadata": {},
   "outputs": [],
   "source": [
    "train_data_set.fare_amount.hist(bins=100, figsize=(14,3))\n",
    "plt.xlabel('fare $USD')\n",
    "plt.title('Histogram');\n"
   ]
  },
  {
   "cell_type": "code",
   "execution_count": null,
   "id": "dd8a01e7",
   "metadata": {},
   "outputs": [],
   "source": [
    "# helper მეთოდი რომ ავირჩიოთ ყველა მონაცემი საზღვრებში\n",
    "def select_within_boundingbox(df, box):\n",
    "    return (df.pickup_longitude >= box[0]) & (df.pickup_longitude <= box[1]) & \\\n",
    "           (df.pickup_latitude >= box[2]) & (df.pickup_latitude <= box[3]) & \\\n",
    "           (df.dropoff_longitude >= box[0]) & (df.dropoff_longitude <= box[1]) & \\\n",
    "           (df.dropoff_latitude >= box[2]) & (df.dropoff_latitude <= box[3])\n",
    "\n",
    "# ნიუ იორკის საზღვრები\n",
    "new_york_box = (-74.763379, -72.856164, 40.502009, 41.915509)\n",
    "\n",
    "old_len = len(train_data_set)\n",
    "train_data_set = train_data_set[select_within_boundingbox(train_data_set, new_york_box)]\n",
    "new_len = len(train_data_set)\n",
    "print(f\"Removed {(old_len-new_len)} entities from the dataset\")\n"
   ]
  },
  {
   "cell_type": "code",
   "execution_count": null,
   "id": "f02462d9",
   "metadata": {},
   "outputs": [],
   "source": [
    "def distance_on_the_sphere(lat1, lon1, lat2, lon2):\n",
    "    earth_radius = 6371 # დედამიწის რადიუსი კილომეტრებში\n",
    "    # კუთხეები გვჭირდება რადიანებში\n",
    "    phi1 = np.radians(lat1)\n",
    "    phi2 = np.radians(lat2)\n",
    "    delta_phi = np.radians(lat2 - lat1)\n",
    "    delta_lambda = np.radians(lon2 - lon1)\n",
    "    a = np.sin(delta_phi / 2.0) * np.sin(delta_phi / 2.0) + np.cos(phi1) * np.cos(phi2) * np.sin(delta_lambda / 2.0) * np.sin(delta_lambda / 2.0)\n",
    "    c = 2 * np.arctan2(np.sqrt(a), np.sqrt(1 - a))\n",
    "    return earth_radius * c\n",
    "\n",
    "# ჩავამატოთ distance feature ჩვენს მონაცემებში\n",
    "train_data_set['distance'] = distance_on_the_sphere(train_data_set['pickup_latitude'], train_data_set['pickup_longitude'],\n",
    "                                          train_data_set['dropoff_latitude'], train_data_set['dropoff_longitude'])\n",
    "\n",
    "train_data_set.head(5)\n"
   ]
  },
  {
   "cell_type": "code",
   "execution_count": null,
   "id": "d59aaf66",
   "metadata": {},
   "outputs": [],
   "source": [
    "train_data_set['pickup_datetime'] = pd.to_datetime(train_data_set['pickup_datetime'])\n",
    "train_data_set['hour'] = train_data_set['pickup_datetime'].dt.hour\n",
    "train_data_set['year'] = train_data_set['pickup_datetime'].dt.year\n",
    "train_data_set['day_of_week'] = train_data_set['pickup_datetime'].dt.dayofweek\n",
    "train_data_set['is_rush_hour'] = train_data_set['hour'].apply(lambda x: 1 if x >= 7 and x <= 10 or x >= 16 and x <= 19 else 0)\n",
    "\n",
    "train_data_set.head(5)\n"
   ]
  },
  {
   "cell_type": "code",
   "execution_count": null,
   "id": "5d09aa72",
   "metadata": {},
   "outputs": [],
   "source": [
    "nyc_down_town = (-74.0063889, 40.7141667)\n",
    "\n",
    "train_data_set['distance_to_downtown'] = distance_on_the_sphere(nyc_down_town[1], nyc_down_town[0], train_data_set.pickup_latitude, train_data_set.pickup_longitude)\n",
    "\n",
    "train_data_set.head(5)\n"
   ]
  },
  {
   "cell_type": "code",
   "execution_count": null,
   "id": "b55f6089",
   "metadata": {},
   "outputs": [],
   "source": [
    "idx = train_data_set.passenger_count != 0 & (train_data_set.distance_to_downtown<15)\n",
    "\n",
    "features = ['hour', 'year', 'distance', 'passenger_count']\n",
    "target = 'fare_amount'\n",
    "\n",
    "X = train_data_set[idx][features].values\n",
    "y = train_data_set[idx][target].values\n",
    "\n",
    "X_train, X_test, y_train, y_test = train_test_split(X, y, test_size=0.25)\n",
    "\n",
    "linear_model = LinearRegression()\n",
    "linear_model.fit(X_train, y_train)\n"
   ]
  },
  {
   "cell_type": "code",
   "execution_count": null,
   "id": "12e4dc7c",
   "metadata": {},
   "outputs": [],
   "source": [
    "test_data_set =  pd.read_csv('../input/new-york-city-taxi-fare-prediction/test.csv')\n",
    "test_data_set['distance'] = distance_on_the_sphere(test_data_set['pickup_latitude'], test_data_set['pickup_longitude'],\n",
    "                                          test_data_set['dropoff_latitude'], test_data_set['dropoff_longitude'])\n",
    "test_data_set['distance_to_downtown'] = distance_on_the_sphere(nyc_down_town[1], nyc_down_town[0], test_data_set.pickup_latitude, test_data_set.pickup_longitude)\n",
    "test_data_set['pickup_datetime'] = pd.to_datetime(test_data_set['pickup_datetime'])\n",
    "test_data_set['hour'] = test_data_set['pickup_datetime'].dt.hour\n",
    "test_data_set['year'] = test_data_set['pickup_datetime'].dt.year\n"
   ]
  },
  {
   "cell_type": "code",
   "execution_count": null,
   "id": "d3dc20e6",
   "metadata": {},
   "outputs": [],
   "source": [
    "filename = './output/baseline_linear'\n",
    "\n",
    "XTEST = test_data_set[features].values\n",
    "\n",
    "y_pred_final = linear_model.predict(XTEST)\n",
    "\n",
    "submission = pd.DataFrame(\n",
    "    {'key': test_data_set.key, 'fare_amount': y_pred_final},\n",
    "    columns = ['key', 'fare_amount'])\n",
    "submission.to_csv('submission.csv', index = False)\n"
   ]
  }
 ],
 "metadata": {},
 "nbformat": 4,
 "nbformat_minor": 5
}
