{
 "cells": [
  {
   "cell_type": "code",
   "execution_count": null,
   "id": "e93a4383",
   "metadata": {},
   "outputs": [],
   "source": [
    "import pandas as pd\n",
    "from pathlib import Path"
   ]
  },
  {
   "cell_type": "code",
   "execution_count": null,
   "id": "a4d42e7a",
   "metadata": {},
   "outputs": [],
   "source": [
    "import pandas as pd\n",
    "train = pd.read_csv(\"../input/ranzcr-clip-catheter-line-classification/train.csv\")\n"
   ]
  },
  {
   "cell_type": "code",
   "execution_count": null,
   "id": "25668677",
   "metadata": {},
   "outputs": [],
   "source": [
    "import plotly.express as px\n",
    "from plotly.subplots import make_subplots\n",
    "import plotly.graph_objs as go\n",
    "import matplotlib.pyplot as plt\n",
    "import cv2\n"
   ]
  },
  {
   "cell_type": "code",
   "execution_count": null,
   "id": "7ffda233",
   "metadata": {},
   "outputs": [],
   "source": [
    "cols = [\n",
    "    'ETT - Abnormal', 'ETT - Borderline', 'ETT - Normal', \n",
    "    'NGT - Abnormal', 'NGT - Borderline', 'NGT - Incompletely Imaged', \n",
    "    'NGT - Normal', 'CVC - Abnormal', 'CVC - Borderline', \n",
    "    'CVC - Normal', 'Swan Ganz Catheter Present'\n",
    "]\n",
    "\n",
    "fig = make_subplots(rows=4, cols=3)\n",
    "\n",
    "traces = [\n",
    "    go.Bar(\n",
    "        x=[0, 1], \n",
    "        y=[\n",
    "            len(train[train[col]==0]),\n",
    "            len(train[train[col]==1])\n",
    "        ], \n",
    "        name=col,\n",
    "        text = [\n",
    "            str(round(100 * len(train[train[col]==0]) / len(train), 2)) + '%',\n",
    "            str(round(100 * len(train[train[col]==1]) / len(train), 2)) + '%'\n",
    "        ],\n",
    "        textposition='auto'\n",
    "    ) for col in cols\n",
    "]\n",
    "\n",
    "for i in range(len(traces)):\n",
    "    fig.append_trace(traces[i], (i // 3) + 1, (i % 3)  +1)\n",
    "\n",
    "fig.update_layout(\n",
    "    title_text='Train columns',\n",
    "    height=1200,\n",
    "    width=1000\n",
    ")\n",
    "\n",
    "fig.show()\n"
   ]
  },
  {
   "cell_type": "code",
   "execution_count": null,
   "id": "b2a3c6a8",
   "metadata": {},
   "outputs": [],
   "source": [
    "import os\n",
    "f, plots = plt.subplots(1, 5, sharex='col', sharey='row', figsize=(17, 17))\n",
    "samples = train.sample(n=5, random_state=666)['StudyInstanceUID'].values\n",
    "\n",
    "for i in range(5):\n",
    "    image = cv2.imread(os.path.join(\"/kaggle/input/ranzcr-clip-catheter-line-classification/train/\", f\"{samples[i]}.jpg\"))\n",
    "    image = cv2.cvtColor(image, cv2.COLOR_BGR2RGB)\n",
    "    plots[i].imshow(image)\n"
   ]
  },
  {
   "cell_type": "code",
   "execution_count": null,
   "id": "07c99244",
   "metadata": {},
   "outputs": [],
   "source": [
    "train.iloc[:, 1:-1].sum()\n"
   ]
  },
  {
   "cell_type": "code",
   "execution_count": null,
   "id": "715777fe",
   "metadata": {},
   "outputs": [],
   "source": [
    "plt.hist(train.iloc[:, 1:-1].sum())\n"
   ]
  },
  {
   "cell_type": "code",
   "execution_count": null,
   "id": "71eced95",
   "metadata": {},
   "outputs": [],
   "source": [
    "import random, os\n",
    "import numpy as np\n",
    "import torch\n",
    "from fastai.vision.all import *\n",
    "from fastai.callback import mixup\n",
    "path = Path('../input/ranzcr-clip-catheter-line-classification/')\n",
    "path.ls()\n"
   ]
  },
  {
   "cell_type": "code",
   "execution_count": null,
   "id": "3eaf03c2",
   "metadata": {},
   "outputs": [],
   "source": [
    "train['path'] = train.StudyInstanceUID.map(lambda x:str(path / 'train' / x)+'.jpg')\n"
   ]
  },
  {
   "cell_type": "code",
   "execution_count": null,
   "id": "148e6a2d",
   "metadata": {},
   "outputs": [],
   "source": [
    "labels = list(train.columns[1:12].values)\n",
    "labels\n"
   ]
  },
  {
   "cell_type": "code",
   "execution_count": null,
   "id": "678b85f3",
   "metadata": {},
   "outputs": [],
   "source": [
    "def get_y(fname):\n",
    "    return fname[1:12].values.astype(np.float32)\n",
    "\n",
    "def get_x(fname):\n",
    "    return fname[-1]\n"
   ]
  },
  {
   "cell_type": "code",
   "execution_count": null,
   "id": "77134223",
   "metadata": {},
   "outputs": [],
   "source": [
    "item_tfms = RandomResizedCrop(256, min_scale=0.75, ratio=(1.,1.))\n",
    "\n",
    "dls = DataBlock(blocks=(ImageBlock, MultiCategoryBlock(encoded=True, vocab=labels)),\n",
    "                        get_x = get_x,get_y = get_y,  \n",
    "                        item_tfms = item_tfms)\n"
   ]
  },
  {
   "cell_type": "code",
   "execution_count": null,
   "id": "cc4aca5b",
   "metadata": {},
   "outputs": [],
   "source": [
    "dls = dls.dataloaders(train)\n",
    "dls.show_batch()\n"
   ]
  },
  {
   "cell_type": "code",
   "execution_count": null,
   "id": "31b867de",
   "metadata": {},
   "outputs": [],
   "source": [
    "learn = cnn_learner(dls, resnet152, metrics = [accuracy_multi], cbs=[mixup.MixUp()], model_dir=\"/tmp/model/\").to_native_fp16()\n"
   ]
  },
  {
   "cell_type": "code",
   "execution_count": null,
   "id": "783b5965",
   "metadata": {},
   "outputs": [],
   "source": [
    "learn = cnn_learner(dls, resnet50, metrics = [accuracy_multi], cbs=[mixup.MixUp()], model_dir=\"/tmp/model/\").to_native_fp16()\n"
   ]
  },
  {
   "cell_type": "code",
   "execution_count": null,
   "id": "4024da6b",
   "metadata": {},
   "outputs": [],
   "source": [
    "learn.lr_find()\n"
   ]
  },
  {
   "cell_type": "code",
   "execution_count": null,
   "id": "88298b9d",
   "metadata": {},
   "outputs": [],
   "source": [
    "learn.fine_tune(3, 2e-2)\n"
   ]
  },
  {
   "cell_type": "code",
   "execution_count": null,
   "id": "198c0029",
   "metadata": {},
   "outputs": [],
   "source": [
    "learn = learn.to_native_fp32()\n"
   ]
  },
  {
   "cell_type": "code",
   "execution_count": null,
   "id": "e8e607f6",
   "metadata": {},
   "outputs": [],
   "source": [
    "   \n"
   ]
  },
  {
   "cell_type": "code",
   "execution_count": null,
   "id": "780cb3ef",
   "metadata": {},
   "outputs": [],
   "source": [
    "path = Path('../input/ranzcr-clip-catheter-line-classification')\n"
   ]
  },
  {
   "cell_type": "code",
   "execution_count": null,
   "id": "8f81fd9b",
   "metadata": {},
   "outputs": [],
   "source": [
    "submission_df = pd.read_csv('../input/ranzcr-clip-catheter-line-classification/sample_submission.csv')\n",
    "submission_df.iloc[:,1:] = submission_df.iloc[:,1:].astype(float)\n"
   ]
  },
  {
   "cell_type": "code",
   "execution_count": null,
   "id": "9e289527",
   "metadata": {},
   "outputs": [],
   "source": [
    "test_data_path = submission_df['StudyInstanceUID'].apply(lambda x: path/'test'/(x+'.jpg'))\n",
    "tst_dl = learn.dls.test_dl(test_data_path)\n",
    "preds,targs = learn.tta(dl = tst_dl)\n"
   ]
  },
  {
   "cell_type": "code",
   "execution_count": null,
   "id": "18890290",
   "metadata": {},
   "outputs": [],
   "source": [
    "columns = list(train.columns[1:12])\n"
   ]
  },
  {
   "cell_type": "code",
   "execution_count": null,
   "id": "e09afca0",
   "metadata": {},
   "outputs": [],
   "source": [
    "submission_df[columns] = pd.DataFrame(preds,columns=columns)\n",
    "# submission_df\n"
   ]
  },
  {
   "cell_type": "code",
   "execution_count": null,
   "id": "471bbbd6",
   "metadata": {},
   "outputs": [],
   "source": [
    "submission_df.to_csv('submission.csv',index=False)  \n"
   ]
  }
 ],
 "metadata": {},
 "nbformat": 4,
 "nbformat_minor": 5
}
